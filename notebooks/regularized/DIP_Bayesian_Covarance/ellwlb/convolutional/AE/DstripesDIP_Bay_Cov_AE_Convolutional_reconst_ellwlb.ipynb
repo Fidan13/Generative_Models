{
 "cells": [
  {
   "cell_type": "markdown",
   "metadata": {},
   "source": [
    "# Settings"
   ]
  },
  {
   "cell_type": "code",
   "execution_count": 1,
   "metadata": {},
   "outputs": [],
   "source": [
    "%load_ext autoreload\n",
    "%autoreload 2"
   ]
  },
  {
   "cell_type": "code",
   "execution_count": 2,
   "metadata": {},
   "outputs": [
    {
     "name": "stdout",
     "output_type": "stream",
     "text": [
      "env: TF_KERAS=1\n",
      "\\\n"
     ]
    }
   ],
   "source": [
    "%env TF_KERAS = 1\n",
    "import os\n",
    "sep_local = os.path.sep\n",
    "\n",
    "import sys\n",
    "sys.path.append('..'+sep_local+'..')\n",
    "print(sep_local)"
   ]
  },
  {
   "cell_type": "code",
   "execution_count": 3,
   "metadata": {},
   "outputs": [
    {
     "name": "stdout",
     "output_type": "stream",
     "text": [
      "2.1.0-rc1\n"
     ]
    }
   ],
   "source": [
    "import tensorflow as tf\n",
    "print(tf.__version__)"
   ]
  },
  {
   "cell_type": "code",
   "execution_count": 4,
   "metadata": {},
   "outputs": [
    {
     "name": "stdout",
     "output_type": "stream",
     "text": [
      "C:\\Users\\Khalid\\Documents\\projects\\Generative_Models\n"
     ]
    }
   ],
   "source": [
    "os.chdir('..'+sep_local+'..'+sep_local+'..'+sep_local+'..'+sep_local+'..'+sep_local+'..')\n",
    "print(os.getcwd())"
   ]
  },
  {
   "cell_type": "markdown",
   "metadata": {},
   "source": [
    "# Dataset loading"
   ]
  },
  {
   "cell_type": "code",
   "execution_count": 5,
   "metadata": {},
   "outputs": [],
   "source": [
    "dataset_name='dsprites'"
   ]
  },
  {
   "cell_type": "code",
   "execution_count": 6,
   "metadata": {},
   "outputs": [],
   "source": [
    "import tensorflow as tf"
   ]
  },
  {
   "cell_type": "code",
   "execution_count": 7,
   "metadata": {},
   "outputs": [],
   "source": [
    "inputs_shape= image_size=(64, 64, 1)\n",
    "batch_size = 32\n",
    "latents_dim = 32\n",
    "intermediate_dim = 32"
   ]
  },
  {
   "cell_type": "code",
   "execution_count": 8,
   "metadata": {},
   "outputs": [
    {
     "name": "stdout",
     "output_type": "stream",
     "text": [
      "tfds.core.DatasetInfo(\n",
      "    name='dsprites',\n",
      "    version=0.1.0,\n",
      "    description='dSprites is a dataset of 2D shapes procedurally generated from 6 ground truth\n",
      "independent latent factors. These factors are *color*, *shape*, *scale*,\n",
      "*rotation*, *x* and *y* positions of a sprite.\n",
      "\n",
      "All possible combinations of these latents are present exactly once,\n",
      "generating N = 737280 total images.\n",
      "\n",
      "### Latent factor values\n",
      "\n",
      "*   Color: white\n",
      "*   Shape: square, ellipse, heart\n",
      "*   Scale: 6 values linearly spaced in [0.5, 1]\n",
      "*   Orientation: 40 values in [0, 2 pi]\n",
      "*   Position X: 32 values in [0, 1]\n",
      "*   Position Y: 32 values in [0, 1]\n",
      "\n",
      "We varied one latent at a time (starting from Position Y, then Position X, etc),\n",
      "and sequentially stored the images in fixed order.\n",
      "Hence the order along the first dimension is fixed and allows you to map back to\n",
      "the value of the latents corresponding to that image.\n",
      "\n",
      "We chose the latents values deliberately to have the smallest step changes\n",
      "while ensuring that all pixel outputs were different. No noise was added.\n",
      "',\n",
      "    urls=['https://github.com/deepmind/dsprites-dataset'],\n",
      "    features=FeaturesDict({\n",
      "        'image': Image(shape=(64, 64, 1), dtype=tf.uint8),\n",
      "        'label_orientation': ClassLabel(shape=(), dtype=tf.int64, num_classes=40),\n",
      "        'label_scale': ClassLabel(shape=(), dtype=tf.int64, num_classes=6),\n",
      "        'label_shape': ClassLabel(shape=(), dtype=tf.int64, num_classes=3),\n",
      "        'label_x_position': ClassLabel(shape=(), dtype=tf.int64, num_classes=32),\n",
      "        'label_y_position': ClassLabel(shape=(), dtype=tf.int64, num_classes=32),\n",
      "        'value_orientation': Tensor(shape=[], dtype=tf.float32),\n",
      "        'value_scale': Tensor(shape=[], dtype=tf.float32),\n",
      "        'value_shape': Tensor(shape=[], dtype=tf.float32),\n",
      "        'value_x_position': Tensor(shape=[], dtype=tf.float32),\n",
      "        'value_y_position': Tensor(shape=[], dtype=tf.float32),\n",
      "    }),\n",
      "    total_num_examples=737280,\n",
      "    splits={\n",
      "        'train': 737280,\n",
      "    },\n",
      "    supervised_keys=None,\n",
      "    citation=\"\"\"@misc{dsprites17,\n",
      "    author = {Loic Matthey and Irina Higgins and Demis Hassabis and Alexander Lerchner},\n",
      "    title = {dSprites: Disentanglement testing Sprites dataset},\n",
      "    howpublished= {https://github.com/deepmind/dsprites-dataset/},\n",
      "    year = \"2017\",\n",
      "    }\"\"\",\n",
      "    redistribution_info=,\n",
      ")\n",
      "\n"
     ]
    }
   ],
   "source": [
    "import tensorflow_datasets as tfds\n",
    "\n",
    "info = tfds.builder(dataset_name).info\n",
    "\n",
    "print(info)"
   ]
  },
  {
   "cell_type": "code",
   "execution_count": 9,
   "metadata": {},
   "outputs": [
    {
     "name": "stderr",
     "output_type": "stream",
     "text": [
      "WARNING:absl:Warning: Setting shuffle_files=True because split=TRAIN and shuffle_files=None. This behavior will be deprecated on 2019-08-06, at which point shuffle_files=False will be the default for all splits.\n",
      "WARNING:absl:Warning: Setting shuffle_files=True because split=TRAIN and shuffle_files=None. This behavior will be deprecated on 2019-08-06, at which point shuffle_files=False will be the default for all splits.\n"
     ]
    }
   ],
   "source": [
    "TRAIN_BUF = 600\n",
    "TEST_BUF = 100\n",
    "\n",
    "import tensorflow_datasets as tfds\n",
    "# Construct a tf.data.Dataset\n",
    "train_ds = tfds.load(name=dataset_name, split=tfds.Split.TRAIN).shuffle(TRAIN_BUF).batch(batch_size)\n",
    "try:\n",
    "    test_ds = tfds.load(name=dataset_name, split=tfds.Split.TEST).shuffle(TEST_BUF).batch(batch_size)\n",
    "except:\n",
    "    test_ds = tfds.load(name=dataset_name, split=tfds.Split.TRAIN).shuffle(TRAIN_BUF).batch(batch_size)\n"
   ]
  },
  {
   "cell_type": "code",
   "execution_count": 10,
   "metadata": {},
   "outputs": [],
   "source": [
    "_instance_scale=1.0\n",
    "for data in train_ds:\n",
    "    _instance_scale = float(data['image'].numpy().max())\n",
    "    break"
   ]
  },
  {
   "cell_type": "code",
   "execution_count": 11,
   "metadata": {},
   "outputs": [
    {
     "data": {
      "text/plain": [
       "1.0"
      ]
     },
     "execution_count": 11,
     "metadata": {},
     "output_type": "execute_result"
    }
   ],
   "source": [
    "_instance_scale"
   ]
  },
  {
   "cell_type": "code",
   "execution_count": 12,
   "metadata": {},
   "outputs": [],
   "source": [
    "import numpy as np\n",
    "from collections.abc import Iterable"
   ]
  },
  {
   "cell_type": "code",
   "execution_count": 13,
   "metadata": {},
   "outputs": [],
   "source": [
    "if isinstance(inputs_shape, Iterable):\n",
    "    _outputs_shape = np.prod(inputs_shape)"
   ]
  },
  {
   "cell_type": "code",
   "execution_count": 14,
   "metadata": {},
   "outputs": [
    {
     "data": {
      "text/plain": [
       "4096"
      ]
     },
     "execution_count": 14,
     "metadata": {},
     "output_type": "execute_result"
    }
   ],
   "source": [
    "_outputs_shape"
   ]
  },
  {
   "cell_type": "markdown",
   "metadata": {},
   "source": [
    "# Model's Layers definition"
   ]
  },
  {
   "cell_type": "code",
   "execution_count": 15,
   "metadata": {},
   "outputs": [],
   "source": [
    "units=20\n",
    "c=16\n",
    "enc_lays = [\n",
    "    tf.keras.layers.Conv2D(filters=units, kernel_size=3, strides=(2, 2), activation='relu'),\n",
    "    tf.keras.layers.Conv2D(filters=units*9, kernel_size=3, strides=(2, 2), activation='relu'),\n",
    "    tf.keras.layers.Flatten(),\n",
    "    # No activation\n",
    "    tf.keras.layers.Dense(latents_dim)\n",
    "]\n",
    "\n",
    "dec_lays = [\n",
    "    tf.keras.layers.Dense(units=c*c*units, activation=tf.nn.relu),\n",
    "    tf.keras.layers.Reshape(target_shape=(c , c, units)),\n",
    "    tf.keras.layers.Conv2DTranspose(filters=units, kernel_size=3, strides=(2, 2), padding=\"SAME\", activation='relu'),\n",
    "    tf.keras.layers.Conv2DTranspose(filters=units*3, kernel_size=3, strides=(2, 2), padding=\"SAME\", activation='relu'),\n",
    "    \n",
    "    # No activation\n",
    "    tf.keras.layers.Conv2DTranspose(filters=1, kernel_size=3, strides=(1, 1), padding=\"SAME\")\n",
    "]"
   ]
  },
  {
   "cell_type": "markdown",
   "metadata": {},
   "source": [
    "# Model definition"
   ]
  },
  {
   "cell_type": "code",
   "execution_count": 16,
   "metadata": {},
   "outputs": [],
   "source": [
    "model_name = dataset_name+'DIP_Bay_Cov_AE_Convolutional_reconst_ellwlb'\n",
    "experiments_dir='experiments'+sep_local+model_name"
   ]
  },
  {
   "cell_type": "code",
   "execution_count": 17,
   "metadata": {
    "scrolled": true
   },
   "outputs": [],
   "source": [
    "from training.regularized.bayesian_disentangled_inferred_prior.DIP_BayesianCovariance_AE import DIP_BayesianCovariance_AE as AE"
   ]
  },
  {
   "cell_type": "code",
   "execution_count": 18,
   "metadata": {},
   "outputs": [],
   "source": [
    "inputs_shape=image_size"
   ]
  },
  {
   "cell_type": "code",
   "execution_count": 19,
   "metadata": {},
   "outputs": [],
   "source": [
    "variables_params = \\\n",
    "[\n",
    "    {\n",
    "        'name': 'inference', \n",
    "        'inputs_shape':inputs_shape,\n",
    "        'outputs_shape':latents_dim,\n",
    "        'layers': enc_lays\n",
    "    }\n",
    "\n",
    "    ,\n",
    "    \n",
    "        {\n",
    "        'name': 'generative', \n",
    "        'inputs_shape':latents_dim,\n",
    "        'outputs_shape':inputs_shape,\n",
    "        'layers':dec_lays\n",
    "    }\n",
    "]"
   ]
  },
  {
   "cell_type": "code",
   "execution_count": 20,
   "metadata": {},
   "outputs": [],
   "source": [
    "from utils.data_and_files.file_utils import create_if_not_exist"
   ]
  },
  {
   "cell_type": "code",
   "execution_count": 21,
   "metadata": {},
   "outputs": [],
   "source": [
    "_restore = os.path.join(experiments_dir, 'var_save_dir')"
   ]
  },
  {
   "cell_type": "code",
   "execution_count": 22,
   "metadata": {},
   "outputs": [
    {
     "data": {
      "text/plain": [
       "'experiments\\\\dspritesDIP_Bay_Cov_AE_Convolutional_reconst_ellwlb\\\\var_save_dir'"
      ]
     },
     "execution_count": 22,
     "metadata": {},
     "output_type": "execute_result"
    }
   ],
   "source": [
    "create_if_not_exist(_restore)\n",
    "_restore"
   ]
  },
  {
   "cell_type": "code",
   "execution_count": 23,
   "metadata": {},
   "outputs": [],
   "source": [
    "#to restore trained model, set filepath=_restore"
   ]
  },
  {
   "cell_type": "code",
   "execution_count": 24,
   "metadata": {
    "scrolled": false
   },
   "outputs": [
    {
     "name": "stdout",
     "output_type": "stream",
     "text": [
      "Model: \"inference\"\n",
      "_________________________________________________________________\n",
      "Layer (type)                 Output Shape              Param #   \n",
      "=================================================================\n",
      "inference_inputs (InputLayer [(None, 64, 64, 1)]       0         \n",
      "_________________________________________________________________\n",
      "conv2d (Conv2D)              (None, 31, 31, 20)        200       \n",
      "_________________________________________________________________\n",
      "conv2d_1 (Conv2D)            (None, 15, 15, 180)       32580     \n",
      "_________________________________________________________________\n",
      "flatten (Flatten)            (None, 40500)             0         \n",
      "_________________________________________________________________\n",
      "dense (Dense)                (None, 32)                1296032   \n",
      "_________________________________________________________________\n",
      "batch_normalization (BatchNo (None, 32)                128       \n",
      "_________________________________________________________________\n",
      "dropout (Dropout)            (None, 32)                0         \n",
      "_________________________________________________________________\n",
      "activity_regularization (Act (None, 32)                0         \n",
      "_________________________________________________________________\n",
      "inference_outputs (Activatio (None, 32)                0         \n",
      "=================================================================\n",
      "Total params: 1,328,940\n",
      "Trainable params: 1,328,876\n",
      "Non-trainable params: 64\n",
      "_________________________________________________________________\n",
      "\n"
     ]
    },
    {
     "name": "stderr",
     "output_type": "stream",
     "text": [
      "  WARNING  | None\n"
     ]
    },
    {
     "name": "stdout",
     "output_type": "stream",
     "text": [
      "Model: \"generative\"\n",
      "_________________________________________________________________\n",
      "Layer (type)                 Output Shape              Param #   \n",
      "=================================================================\n",
      "generative_inputs (InputLaye [(None, 32)]              0         \n",
      "_________________________________________________________________\n",
      "dense_1 (Dense)              (None, 5120)              168960    \n",
      "_________________________________________________________________\n",
      "reshape (Reshape)            (None, 16, 16, 20)        0         \n",
      "_________________________________________________________________\n",
      "conv2d_transpose (Conv2DTran (None, 32, 32, 20)        3620      \n",
      "_________________________________________________________________\n",
      "conv2d_transpose_1 (Conv2DTr (None, 64, 64, 60)        10860     \n",
      "_________________________________________________________________\n",
      "conv2d_transpose_2 (Conv2DTr (None, 64, 64, 1)         541       \n",
      "_________________________________________________________________\n",
      "batch_normalization_1 (Batch (None, 64, 64, 1)         4         \n",
      "_________________________________________________________________\n",
      "dropout_1 (Dropout)          (None, 64, 64, 1)         0         \n",
      "_________________________________________________________________\n",
      "activity_regularization_1 (A (None, 64, 64, 1)         0         \n",
      "_________________________________________________________________\n",
      "generative_outputs (Activati (None, 64, 64, 1)         0         \n",
      "=================================================================\n",
      "Total params: 183,985\n",
      "Trainable params: 183,983\n",
      "Non-trainable params: 2\n",
      "_________________________________________________________________\n",
      "\n"
     ]
    },
    {
     "name": "stderr",
     "output_type": "stream",
     "text": [
      "  WARNING  | None\n"
     ]
    }
   ],
   "source": [
    "ae = AE( \n",
    "    name=model_name,\n",
    "    latents_dim=latents_dim,\n",
    "    batch_size=batch_size,\n",
    "    variables_params=variables_params, \n",
    "    filepath=None\n",
    "    )"
   ]
  },
  {
   "cell_type": "code",
   "execution_count": 25,
   "metadata": {},
   "outputs": [
    {
     "name": "stdout",
     "output_type": "stream",
     "text": [
      "Model: \"dspritesDIP_Bay_Cov_AE_Convolutional_reconst_ellwlb\"\n",
      "__________________________________________________________________________________________________\n",
      "Layer (type)                    Output Shape         Param #     Connected to                     \n",
      "==================================================================================================\n",
      "inference_inputs (InputLayer)   [(None, 64, 64, 1)]  0                                            \n",
      "__________________________________________________________________________________________________\n",
      "inference (Model)               (None, 32)           1328940     inference_inputs[0][0]           \n",
      "__________________________________________________________________________________________________\n",
      "tf_op_layer_ExpandDims (TensorF [(None, 32, 1)]      0           inference[1][0]                  \n",
      "__________________________________________________________________________________________________\n",
      "tf_op_layer_ExpandDims_1 (Tenso [(None, 1, 32)]      0           inference[1][0]                  \n",
      "__________________________________________________________________________________________________\n",
      "tf_op_layer_Mean_1 (TensorFlowO [(32,)]              0           inference[1][0]                  \n",
      "__________________________________________________________________________________________________\n",
      "tf_op_layer_mul (TensorFlowOpLa [(None, 32, 32)]     0           tf_op_layer_ExpandDims[0][0]     \n",
      "                                                                 tf_op_layer_ExpandDims_1[0][0]   \n",
      "__________________________________________________________________________________________________\n",
      "tf_op_layer_ExpandDims_2 (Tenso [(32, 1)]            0           tf_op_layer_Mean_1[0][0]         \n",
      "__________________________________________________________________________________________________\n",
      "tf_op_layer_ExpandDims_3 (Tenso [(1, 32)]            0           tf_op_layer_Mean_1[0][0]         \n",
      "__________________________________________________________________________________________________\n",
      "tf_op_layer_Sigmoid (TensorFlow [(None, 32)]         0           inference[1][0]                  \n",
      "__________________________________________________________________________________________________\n",
      "tf_op_layer_Mean (TensorFlowOpL [(32, 32)]           0           tf_op_layer_mul[0][0]            \n",
      "__________________________________________________________________________________________________\n",
      "tf_op_layer_mul_1 (TensorFlowOp [(32, 32)]           0           tf_op_layer_ExpandDims_2[0][0]   \n",
      "                                                                 tf_op_layer_ExpandDims_3[0][0]   \n",
      "__________________________________________________________________________________________________\n",
      "tf_op_layer_covariance_mean (Te [(32, 32)]           0           tf_op_layer_Mean[0][0]           \n",
      "                                                                 tf_op_layer_mul_1[0][0]          \n",
      "__________________________________________________________________________________________________\n",
      "tf_op_layer_Log (TensorFlowOpLa [(None, 32)]         0           tf_op_layer_Sigmoid[0][0]        \n",
      "__________________________________________________________________________________________________\n",
      "tf_op_layer_Log_1 (TensorFlowOp [(None, 32)]         0           tf_op_layer_Sigmoid[0][0]        \n",
      "__________________________________________________________________________________________________\n",
      "tf_op_layer_sub_2 (TensorFlowOp [(None, 32)]         0           tf_op_layer_Log[0][0]            \n",
      "                                                                 tf_op_layer_Log_1[0][0]          \n",
      "__________________________________________________________________________________________________\n",
      "tf_op_layer_diag_part (TensorFl [(32,)]              0           tf_op_layer_covariance_mean[0][0]\n",
      "__________________________________________________________________________________________________\n",
      "tf_op_layer_truediv (TensorFlow [(None, 32)]         0           inference[1][0]                  \n",
      "                                                                 tf_op_layer_Sigmoid[0][0]        \n",
      "__________________________________________________________________________________________________\n",
      "tf_op_layer_truediv_1 (TensorFl [(32, 32)]           0           tf_op_layer_covariance_mean[0][0]\n",
      "                                                                 tf_op_layer_Sigmoid[0][0]        \n",
      "__________________________________________________________________________________________________\n",
      "tf_op_layer_mul_5 (TensorFlowOp [(None, 32)]         0           tf_op_layer_sub_2[0][0]          \n",
      "__________________________________________________________________________________________________\n",
      "tf_op_layer_diag (TensorFlowOpL [(32, 32)]           0           tf_op_layer_diag_part[0][0]      \n",
      "__________________________________________________________________________________________________\n",
      "tf_op_layer_SquaredDifference ( [(32, 32)]           0           tf_op_layer_truediv[0][0]        \n",
      "                                                                 tf_op_layer_truediv_1[0][0]      \n",
      "__________________________________________________________________________________________________\n",
      "tf_op_layer_Expm1 (TensorFlowOp [(None, 32)]         0           tf_op_layer_mul_5[0][0]          \n",
      "__________________________________________________________________________________________________\n",
      "tf_op_layer_sub (TensorFlowOpLa [(32, 32)]           0           tf_op_layer_covariance_mean[0][0]\n",
      "                                                                 tf_op_layer_diag[0][0]           \n",
      "__________________________________________________________________________________________________\n",
      "tf_op_layer_sub_1 (TensorFlowOp [(32,)]              0           tf_op_layer_diag_part[0][0]      \n",
      "__________________________________________________________________________________________________\n",
      "tf_op_layer_mul_4 (TensorFlowOp [(32, 32)]           0           tf_op_layer_SquaredDifference[0][\n",
      "__________________________________________________________________________________________________\n",
      "tf_op_layer_mul_6 (TensorFlowOp [(None, 32)]         0           tf_op_layer_Expm1[0][0]          \n",
      "__________________________________________________________________________________________________\n",
      "tf_op_layer_pow (TensorFlowOpLa [(32, 32)]           0           tf_op_layer_sub[0][0]            \n",
      "__________________________________________________________________________________________________\n",
      "tf_op_layer_pow_1 (TensorFlowOp [(32,)]              0           tf_op_layer_sub_1[0][0]          \n",
      "__________________________________________________________________________________________________\n",
      "tf_op_layer_add_1 (TensorFlowOp [(32, 32)]           0           tf_op_layer_mul_4[0][0]          \n",
      "                                                                 tf_op_layer_mul_6[0][0]          \n",
      "__________________________________________________________________________________________________\n",
      "tf_op_layer_mul_2 (TensorFlowOp [(32, 32)]           0           tf_op_layer_pow[0][0]            \n",
      "__________________________________________________________________________________________________\n",
      "tf_op_layer_mul_3 (TensorFlowOp [(32,)]              0           tf_op_layer_pow_1[0][0]          \n",
      "__________________________________________________________________________________________________\n",
      "tf_op_layer_sub_3 (TensorFlowOp [(32, 32)]           0           tf_op_layer_add_1[0][0]          \n",
      "                                                                 tf_op_layer_sub_2[0][0]          \n",
      "__________________________________________________________________________________________________\n",
      "tf_op_layer_Add (TensorFlowOpLa [(32, 32)]           0           tf_op_layer_mul_2[0][0]          \n",
      "                                                                 tf_op_layer_mul_3[0][0]          \n",
      "__________________________________________________________________________________________________\n",
      "generative (Model)              (None, 64, 64, 1)    183985      inference[1][0]                  \n",
      "__________________________________________________________________________________________________\n"
     ]
    },
    {
     "name": "stdout",
     "output_type": "stream",
     "text": [
      "tf_op_layer_bayesian_divergent  [(32, 32)]           0           tf_op_layer_sub_3[0][0]          \n",
      "__________________________________________________________________________________________________\n",
      "tf_op_layer_covariance_regulari [(32, 32)]           0           tf_op_layer_Add[0][0]            \n",
      "__________________________________________________________________________________________________\n",
      "tf_op_layer_x_logits (TensorFlo [(None, 64, 64, 1)]  0           generative[1][0]                 \n",
      "==================================================================================================\n",
      "Total params: 1,512,925\n",
      "Trainable params: 1,512,859\n",
      "Non-trainable params: 66\n",
      "__________________________________________________________________________________________________\n",
      "None\n"
     ]
    }
   ],
   "source": [
    "#ae.compile(metrics=None)\n",
    "ae.compile()"
   ]
  },
  {
   "cell_type": "markdown",
   "metadata": {},
   "source": [
    "# Callbacks"
   ]
  },
  {
   "cell_type": "code",
   "execution_count": 26,
   "metadata": {},
   "outputs": [
    {
     "name": "stderr",
     "output_type": "stream",
     "text": [
      "DEBUG:matplotlib.pyplot:Loaded backend module://ipykernel.pylab.backend_inline version unknown.\n",
      "DEBUG:matplotlib.pyplot:Loaded backend module://ipykernel.pylab.backend_inline version unknown.\n"
     ]
    }
   ],
   "source": [
    "from training.callbacks.sample_generation import SampleGeneration\n",
    "from training.callbacks.save_model import ModelSaver"
   ]
  },
  {
   "cell_type": "code",
   "execution_count": null,
   "metadata": {},
   "outputs": [],
   "source": []
  },
  {
   "cell_type": "code",
   "execution_count": 27,
   "metadata": {},
   "outputs": [],
   "source": [
    "es = tf.keras.callbacks.EarlyStopping(\n",
    "    monitor='loss', \n",
    "    min_delta=1e-12, \n",
    "    patience=5, \n",
    "    verbose=1, \n",
    "    restore_best_weights=True\n",
    ")"
   ]
  },
  {
   "cell_type": "code",
   "execution_count": 28,
   "metadata": {},
   "outputs": [],
   "source": [
    "ms = ModelSaver(filepath=_restore,save_freq=5)"
   ]
  },
  {
   "cell_type": "code",
   "execution_count": 29,
   "metadata": {},
   "outputs": [
    {
     "data": {
      "text/plain": [
       "'experiments\\\\dspritesDIP_Bay_Cov_AE_Convolutional_reconst_ellwlb\\\\csv_dir\\\\dspritesDIP_Bay_Cov_AE_Convolutional_reconst_ellwlb.csv'"
      ]
     },
     "execution_count": 29,
     "metadata": {},
     "output_type": "execute_result"
    }
   ],
   "source": [
    "csv_dir = os.path.join(experiments_dir, 'csv_dir')\n",
    "create_if_not_exist(csv_dir)\n",
    "csv_dir = os.path.join(csv_dir, ae.name+'.csv')\n",
    "csv_log = tf.keras.callbacks.CSVLogger(csv_dir, append=True)\n",
    "csv_dir"
   ]
  },
  {
   "cell_type": "code",
   "execution_count": 30,
   "metadata": {},
   "outputs": [],
   "source": [
    "image_gen_dir = os.path.join(experiments_dir, 'image_gen_dir')\n",
    "create_if_not_exist(image_gen_dir)"
   ]
  },
  {
   "cell_type": "code",
   "execution_count": 31,
   "metadata": {},
   "outputs": [],
   "source": [
    "sg = SampleGeneration(latents_shape=latents_dim, filepath=image_gen_dir, gen_freq=5, save_img=True, gray_plot=True)"
   ]
  },
  {
   "cell_type": "code",
   "execution_count": 32,
   "metadata": {},
   "outputs": [],
   "source": [
    "import numpy as np"
   ]
  },
  {
   "cell_type": "code",
   "execution_count": 33,
   "metadata": {},
   "outputs": [
    {
     "name": "stderr",
     "output_type": "stream",
     "text": [
      "The system cannot find the path specified.\n"
     ]
    }
   ],
   "source": [
    "#DATA_DOWN_PATH = '..'+sep_local+'..'+sep_local+'..'+sep_local+'data'\n",
    "DATA_DOWN_PATH = os.getcwd() + sep_local+'data'\n",
    "Script_dir = os.getcwd() + sep_local+'data'+sep_local+'download_gt_data.sh'\n",
    "# Script call to download \"dsprites_full\" dataset_name \n",
    "!/bin/bash $Script_dir -f $DATA_DOWN_PATH -d $dataset_name"
   ]
  },
  {
   "cell_type": "code",
   "execution_count": 34,
   "metadata": {},
   "outputs": [
    {
     "name": "stdout",
     "output_type": "stream",
     "text": [
      "DATA_PATH C:\\Users\\Khalid\\Documents\\projects\\Generative_Models\\data\\.gt_datasets\n"
     ]
    }
   ],
   "source": [
    "from os.path import abspath\n",
    "\n",
    "from data.gt_load.datasets import load\n",
    "DATA_PATH = DATA_DOWN_PATH +sep_local+'.gt_datasets'\n",
    "absolute = abspath(DATA_PATH)\n",
    "print(\"DATA_PATH\",absolute)\n"
   ]
  },
  {
   "cell_type": "code",
   "execution_count": 35,
   "metadata": {},
   "outputs": [],
   "source": [
    "#eval_dataset = load(dataset_name='dsprites_full', dataset_path=DATA_PATH)"
   ]
  },
  {
   "cell_type": "code",
   "execution_count": 36,
   "metadata": {},
   "outputs": [],
   "source": [
    "from training.callbacks.disentangle_supervied import DisentanglementSuperviedMetrics\n",
    "from training.callbacks.disentangle_unsupervied import DisentanglementUnsuperviedMetrics"
   ]
  },
  {
   "cell_type": "code",
   "execution_count": 37,
   "metadata": {},
   "outputs": [],
   "source": [
    "#gts_mertics = DisentanglementSuperviedMetrics(            \n",
    "#    ground_truth_data=eval_dataset,\n",
    "#    representation_fn=lambda x: ae.encode(x),\n",
    "#    random_state=np.random.RandomState(0),\n",
    "#    file_Name=gts_csv,\n",
    "#    num_train=10000,\n",
    "#    num_test=100,\n",
    "#    batch_size=batch_size,\n",
    "#    continuous_factors=False,\n",
    "#    gt_freq=10\n",
    "#)\n",
    "#gtu_mertics = DisentanglementUnsuperviedMetrics(            \n",
    "#    ground_truth_data=eval_dataset,\n",
    "#    representation_fn=lambda x: ae.encode(x),\n",
    "#    random_state=np.random.RandomState(0),\n",
    "#    file_Name=gtu_csv,\n",
    "#    num_train=10000,\n",
    "#    num_test=100,\n",
    "#    batch_size=batch_size,\n",
    "#    gt_freq=10\n",
    "#)"
   ]
  },
  {
   "cell_type": "markdown",
   "metadata": {},
   "source": [
    "# Model Training"
   ]
  },
  {
   "cell_type": "code",
   "execution_count": 38,
   "metadata": {
    "scrolled": true
   },
   "outputs": [
    {
     "name": "stdout",
     "output_type": "stream",
     "text": [
      "Train for 10 steps, validate for 10 steps\n",
      "Epoch 1/10\n",
      "10/10 [==============================] - ETA: 40s - loss: 2878.7188 - bayesian_divergent_loss: 2.4180 - covariance_regularized_loss: 22.8378 - x_logits_loss: 2853.4622 - x_logits_psnr: 5.9914 - x_logits_ssim: 0.0163 - x_logits_sharpdiff: 9.4699 - x_logits_mean_absolute_error: 0.5000 - x_logits_mean_squared_error: 0.251 - ETA: 10s - loss: 1830.6442 - bayesian_divergent_loss: 6.0312 - covariance_regularized_loss: 16.2528 - x_logits_loss: 1808.3324 - x_logits_psnr: 8.8594 - x_logits_ssim: 0.0055 - x_logits_sharpdiff: 6.1585 - x_logits_mean_absolute_error: 0.2954 - x_logits_mean_squared_error: 0.146 - ETA: 4s - loss: 1638.6072 - bayesian_divergent_loss: 5.8832 - covariance_regularized_loss: 14.2363 - x_logits_loss: 1618.4363 - x_logits_psnr: 9.4542 - x_logits_ssim: 0.0033 - x_logits_sharpdiff: 5.4085 - x_logits_mean_absolute_error: 0.2427 - x_logits_mean_squared_error: 0.125 - ETA: 2s - loss: 1579.6835 - bayesian_divergent_loss: 6.0137 - covariance_regularized_loss: 13.3951 - x_logits_loss: 1560.2107 - x_logits_psnr: 9.6668 - x_logits_ssim: 0.0023 - x_logits_sharpdiff: 5.0781 - x_logits_mean_absolute_error: 0.2206 - x_logits_mean_squared_error: 0.11 - ETA: 0s - loss: 1522.7646 - bayesian_divergent_loss: 5.8395 - covariance_regularized_loss: 12.7490 - x_logits_loss: 1504.1050 - x_logits_psnr: 9.8411 - x_logits_ssim: 0.0018 - x_logits_sharpdiff: 4.8999 - x_logits_mean_absolute_error: 0.2070 - x_logits_mean_squared_error: 0.11 - 6s 636ms/step - loss: 1520.0595 - bayesian_divergent_loss: 5.9338 - covariance_regularized_loss: 12.4114 - x_logits_loss: 1501.6407 - x_logits_psnr: 9.8628 - x_logits_ssim: 0.0016 - x_logits_sharpdiff: 4.8360 - x_logits_mean_absolute_error: 0.2031 - x_logits_mean_squared_error: 0.1104 - val_loss: 792.0727 - val_bayesian_divergent_loss: 0.0202 - val_covariance_regularized_loss: 49.2710 - val_x_logits_loss: 742.7181 - val_x_logits_psnr: 14.2805 - val_x_logits_ssim: -0.0043 - val_x_logits_sharpdiff: 17.7244 - val_x_logits_mean_absolute_error: 0.0711 - val_x_logits_mean_squared_error: 0.0418\n",
      "Epoch 2/10\n",
      "10/10 [==============================] - ETA: 0s - loss: 1485.3823 - bayesian_divergent_loss: 5.8890 - covariance_regularized_loss: 11.6058 - x_logits_loss: 1467.7922 - x_logits_psnr: 10.0686 - x_logits_ssim: 2.0108e-05 - x_logits_sharpdiff: 4.2253 - x_logits_mean_absolute_error: 0.1683 - x_logits_mean_squared_error: 0.099 - ETA: 0s - loss: 1410.5173 - bayesian_divergent_loss: 5.3024 - covariance_regularized_loss: 11.0626 - x_logits_loss: 1394.0568 - x_logits_psnr: 10.2453 - x_logits_ssim: 6.5616e-05 - x_logits_sharpdiff: 4.2507 - x_logits_mean_absolute_error: 0.1643 - x_logits_mean_squared_error: 0.095 - ETA: 0s - loss: 1374.0966 - bayesian_divergent_loss: 5.1870 - covariance_regularized_loss: 10.6236 - x_logits_loss: 1358.1907 - x_logits_psnr: 10.3267 - x_logits_ssim: 9.4526e-05 - x_logits_sharpdiff: 4.2600 - x_logits_mean_absolute_error: 0.1624 - x_logits_mean_squared_error: 0.094 - ETA: 0s - loss: 1387.9756 - bayesian_divergent_loss: 5.1011 - covariance_regularized_loss: 10.4647 - x_logits_loss: 1372.3143 - x_logits_psnr: 10.2941 - x_logits_ssim: 7.7161e-05 - x_logits_sharpdiff: 4.2555 - x_logits_mean_absolute_error: 0.1632 - x_logits_mean_squared_error: 0.094 - ETA: 0s - loss: 1384.5586 - bayesian_divergent_loss: 4.9005 - covariance_regularized_loss: 10.1821 - x_logits_loss: 1369.3806 - x_logits_psnr: 10.3013 - x_logits_ssim: 6.5397e-05 - x_logits_sharpdiff: 4.2552 - x_logits_mean_absolute_error: 0.1630 - x_logits_mean_squared_error: 0.094 - 1s 68ms/step - loss: 1390.8715 - bayesian_divergent_loss: 4.8042 - covariance_regularized_loss: 10.1742 - x_logits_loss: 1375.7977 - x_logits_psnr: 10.2862 - x_logits_ssim: 6.4057e-05 - x_logits_sharpdiff: 4.2539 - x_logits_mean_absolute_error: 0.1633 - x_logits_mean_squared_error: 0.0949 - val_loss: 775.1299 - val_bayesian_divergent_loss: 0.0197 - val_covariance_regularized_loss: 49.2317 - val_x_logits_loss: 725.8148 - val_x_logits_psnr: 14.4524 - val_x_logits_ssim: -0.0042 - val_x_logits_sharpdiff: 17.8319 - val_x_logits_mean_absolute_error: 0.0698 - val_x_logits_mean_squared_error: 0.0407\n",
      "Epoch 3/10\n",
      "10/10 [==============================] - ETA: 0s - loss: 1474.4823 - bayesian_divergent_loss: 4.6783 - covariance_regularized_loss: 8.7127 - x_logits_loss: 1460.9955 - x_logits_psnr: 10.0963 - x_logits_ssim: -7.4976e-05 - x_logits_sharpdiff: 4.2723 - x_logits_mean_absolute_error: 0.1670 - x_logits_mean_squared_error: 0.099 - ETA: 0s - loss: 1416.1893 - bayesian_divergent_loss: 5.8519 - covariance_regularized_loss: 9.9763 - x_logits_loss: 1400.2656 - x_logits_psnr: 10.2296 - x_logits_ssim: -2.5988e-05 - x_logits_sharpdiff: 4.2685 - x_logits_mean_absolute_error: 0.1644 - x_logits_mean_squared_error: 0.096 - ETA: 0s - loss: 1409.0201 - bayesian_divergent_loss: 4.9582 - covariance_regularized_loss: 9.9298 - x_logits_loss: 1394.0365 - x_logits_psnr: 10.2400 - x_logits_ssim: 4.1214e-06 - x_logits_sharpdiff: 4.2671 - x_logits_mean_absolute_error: 0.1641 - x_logits_mean_squared_error: 0.095 - ETA: 0s - loss: 1387.7879 - bayesian_divergent_loss: 4.6738 - covariance_regularized_loss: 9.7169 - x_logits_loss: 1373.3018 - x_logits_psnr: 10.2860 - x_logits_ssim: -1.7053e-06 - x_logits_sharpdiff: 4.2702 - x_logits_mean_absolute_error: 0.1630 - x_logits_mean_squared_error: 0.094 - ETA: 0s - loss: 1384.0932 - bayesian_divergent_loss: 4.4239 - covariance_regularized_loss: 9.7551 - x_logits_loss: 1369.8186 - x_logits_psnr: 10.2938 - x_logits_ssim: -2.2429e-06 - x_logits_sharpdiff: 4.2673 - x_logits_mean_absolute_error: 0.1629 - x_logits_mean_squared_error: 0.094 - 1s 66ms/step - loss: 1384.7321 - bayesian_divergent_loss: 4.4169 - covariance_regularized_loss: 9.6332 - x_logits_loss: 1370.5864 - x_logits_psnr: 10.2919 - x_logits_ssim: 3.3890e-07 - x_logits_sharpdiff: 4.2694 - x_logits_mean_absolute_error: 0.1630 - x_logits_mean_squared_error: 0.0947 - val_loss: 796.5879 - val_bayesian_divergent_loss: 0.0213 - val_covariance_regularized_loss: 49.1848 - val_x_logits_loss: 747.3180 - val_x_logits_psnr: 14.2378 - val_x_logits_ssim: -0.0043 - val_x_logits_sharpdiff: 17.6821 - val_x_logits_mean_absolute_error: 0.0711 - val_x_logits_mean_squared_error: 0.0421\n",
      "Epoch 4/10\n",
      "10/10 [==============================] - ETA: 0s - loss: 1332.9387 - bayesian_divergent_loss: 4.4349 - covariance_regularized_loss: 8.5488 - x_logits_loss: 1319.8594 - x_logits_psnr: 10.4012 - x_logits_ssim: 2.2144e-05 - x_logits_sharpdiff: 4.2568 - x_logits_mean_absolute_error: 0.1603 - x_logits_mean_squared_error: 0.09 - ETA: 0s - loss: 1332.4993 - bayesian_divergent_loss: 5.1502 - covariance_regularized_loss: 9.1505 - x_logits_loss: 1318.1030 - x_logits_psnr: 10.4123 - x_logits_ssim: -4.5890e-05 - x_logits_sharpdiff: 4.2724 - x_logits_mean_absolute_error: 0.1602 - x_logits_mean_squared_error: 0.092 - ETA: 0s - loss: 1339.9857 - bayesian_divergent_loss: 4.9212 - covariance_regularized_loss: 9.5503 - x_logits_loss: 1325.4186 - x_logits_psnr: 10.3949 - x_logits_ssim: -9.4027e-06 - x_logits_sharpdiff: 4.2725 - x_logits_mean_absolute_error: 0.1608 - x_logits_mean_squared_error: 0.092 - ETA: 0s - loss: 1367.1084 - bayesian_divergent_loss: 4.4763 - covariance_regularized_loss: 9.3207 - x_logits_loss: 1353.2158 - x_logits_psnr: 10.3298 - x_logits_ssim: -2.0003e-06 - x_logits_sharpdiff: 4.2692 - x_logits_mean_absolute_error: 0.1623 - x_logits_mean_squared_error: 0.093 - ETA: 0s - loss: 1363.4901 - bayesian_divergent_loss: 4.2095 - covariance_regularized_loss: 9.3277 - x_logits_loss: 1349.8573 - x_logits_psnr: 10.3345 - x_logits_ssim: -1.0750e-05 - x_logits_sharpdiff: 4.2644 - x_logits_mean_absolute_error: 0.1622 - x_logits_mean_squared_error: 0.093 - 1s 68ms/step - loss: 1366.5336 - bayesian_divergent_loss: 4.2236 - covariance_regularized_loss: 9.2539 - x_logits_loss: 1352.9606 - x_logits_psnr: 10.3236 - x_logits_ssim: -1.4052e-05 - x_logits_sharpdiff: 4.2617 - x_logits_mean_absolute_error: 0.1624 - x_logits_mean_squared_error: 0.0940 - val_loss: 787.5671 - val_bayesian_divergent_loss: 0.0235 - val_covariance_regularized_loss: 49.0795 - val_x_logits_loss: 738.4003 - val_x_logits_psnr: 14.3464 - val_x_logits_ssim: -0.0043 - val_x_logits_sharpdiff: 17.7621 - val_x_logits_mean_absolute_error: 0.0705 - val_x_logits_mean_squared_error: 0.0415\n"
     ]
    },
    {
     "name": "stdout",
     "output_type": "stream",
     "text": [
      "Epoch 5/10\n",
      "10/10 [==============================] - ETA: 0s - loss: 1385.8170 - bayesian_divergent_loss: 4.2620 - covariance_regularized_loss: 9.2927 - x_logits_loss: 1372.1666 - x_logits_psnr: 10.2683 - x_logits_ssim: -6.1041e-05 - x_logits_sharpdiff: 4.2769 - x_logits_mean_absolute_error: 0.1632 - x_logits_mean_squared_error: 0.095 - ETA: 0s - loss: 1389.2062 - bayesian_divergent_loss: 3.9966 - covariance_regularized_loss: 9.4906 - x_logits_loss: 1375.6234 - x_logits_psnr: 10.2469 - x_logits_ssim: -1.9966e-06 - x_logits_sharpdiff: 4.2610 - x_logits_mean_absolute_error: 0.1639 - x_logits_mean_squared_error: 0.095 - ETA: 0s - loss: 1390.6221 - bayesian_divergent_loss: 4.3470 - covariance_regularized_loss: 9.4835 - x_logits_loss: 1376.6960 - x_logits_psnr: 10.2547 - x_logits_ssim: -4.1663e-05 - x_logits_sharpdiff: 4.2661 - x_logits_mean_absolute_error: 0.1640 - x_logits_mean_squared_error: 0.095 - ETA: 0s - loss: 1372.9600 - bayesian_divergent_loss: 4.0942 - covariance_regularized_loss: 9.4714 - x_logits_loss: 1359.2988 - x_logits_psnr: 10.2936 - x_logits_ssim: -3.8148e-05 - x_logits_sharpdiff: 4.2678 - x_logits_mean_absolute_error: 0.1631 - x_logits_mean_squared_error: 0.094 - ETA: 0s - loss: 1373.4133 - bayesian_divergent_loss: 4.0047 - covariance_regularized_loss: 9.2195 - x_logits_loss: 1360.0935 - x_logits_psnr: 10.2886 - x_logits_ssim: -5.4992e-05 - x_logits_sharpdiff: 4.2657 - x_logits_mean_absolute_error: 0.1632 - x_logits_mean_squared_error: 0.094 - 1s 66ms/step - loss: 1379.4459 - bayesian_divergent_loss: 4.0602 - covariance_regularized_loss: 9.4314 - x_logits_loss: 1365.8588 - x_logits_psnr: 10.2721 - x_logits_ssim: -5.9632e-05 - x_logits_sharpdiff: 4.2636 - x_logits_mean_absolute_error: 0.1636 - x_logits_mean_squared_error: 0.0952 - val_loss: 784.3477 - val_bayesian_divergent_loss: 0.0252 - val_covariance_regularized_loss: 49.0707 - val_x_logits_loss: 735.1879 - val_x_logits_psnr: 14.3574 - val_x_logits_ssim: -0.0043 - val_x_logits_sharpdiff: 17.7646 - val_x_logits_mean_absolute_error: 0.0703 - val_x_logits_mean_squared_error: 0.0413\n",
      "Epoch 6/10\n",
      "10/10 [==============================] - ETA: 0s - loss: 1253.9572 - bayesian_divergent_loss: 3.8568 - covariance_regularized_loss: 9.7168 - x_logits_loss: 1240.2877 - x_logits_psnr: 10.5388 - x_logits_ssim: -6.4696e-05 - x_logits_sharpdiff: 4.2756 - x_logits_mean_absolute_error: 0.1571 - x_logits_mean_squared_error: 0.089 - ETA: 0s - loss: 1268.1834 - bayesian_divergent_loss: 3.4692 - covariance_regularized_loss: 8.7775 - x_logits_loss: 1255.8409 - x_logits_psnr: 10.5025 - x_logits_ssim: -6.9062e-05 - x_logits_sharpdiff: 4.2726 - x_logits_mean_absolute_error: 0.1581 - x_logits_mean_squared_error: 0.089 - ETA: 0s - loss: 1302.0255 - bayesian_divergent_loss: 3.6570 - covariance_regularized_loss: 9.1890 - x_logits_loss: 1289.0837 - x_logits_psnr: 10.4205 - x_logits_ssim: -4.9599e-05 - x_logits_sharpdiff: 4.2665 - x_logits_mean_absolute_error: 0.1602 - x_logits_mean_squared_error: 0.091 - ETA: 0s - loss: 1309.8396 - bayesian_divergent_loss: 3.7423 - covariance_regularized_loss: 9.1516 - x_logits_loss: 1296.8500 - x_logits_psnr: 10.3965 - x_logits_ssim: -5.2456e-05 - x_logits_sharpdiff: 4.2699 - x_logits_mean_absolute_error: 0.1607 - x_logits_mean_squared_error: 0.092 - ETA: 0s - loss: 1323.2846 - bayesian_divergent_loss: 3.9729 - covariance_regularized_loss: 9.3989 - x_logits_loss: 1309.8170 - x_logits_psnr: 10.3588 - x_logits_ssim: -5.5267e-05 - x_logits_sharpdiff: 4.2669 - x_logits_mean_absolute_error: 0.1617 - x_logits_mean_squared_error: 0.093 - 1s 109ms/step - loss: 1328.2270 - bayesian_divergent_loss: 4.0590 - covariance_regularized_loss: 9.6154 - x_logits_loss: 1314.4568 - x_logits_psnr: 10.3470 - x_logits_ssim: -7.1556e-05 - x_logits_sharpdiff: 4.2688 - x_logits_mean_absolute_error: 0.1619 - x_logits_mean_squared_error: 0.0935 - val_loss: 786.0042 - val_bayesian_divergent_loss: 0.0326 - val_covariance_regularized_loss: 48.7186 - val_x_logits_loss: 737.1891 - val_x_logits_psnr: 14.3565 - val_x_logits_ssim: -0.0044 - val_x_logits_sharpdiff: 17.7480 - val_x_logits_mean_absolute_error: 0.0705 - val_x_logits_mean_squared_error: 0.0415\n",
      "Epoch 7/10\n",
      "10/10 [==============================] - ETA: 0s - loss: 1351.6532 - bayesian_divergent_loss: 4.2990 - covariance_regularized_loss: 8.3666 - x_logits_loss: 1338.8921 - x_logits_psnr: 10.2335 - x_logits_ssim: -1.9928e-05 - x_logits_sharpdiff: 4.2529 - x_logits_mean_absolute_error: 0.1644 - x_logits_mean_squared_error: 0.095 - ETA: 0s - loss: 1309.5110 - bayesian_divergent_loss: 4.3780 - covariance_regularized_loss: 9.1988 - x_logits_loss: 1295.8385 - x_logits_psnr: 10.3340 - x_logits_ssim: -5.4160e-05 - x_logits_sharpdiff: 4.2598 - x_logits_mean_absolute_error: 0.1621 - x_logits_mean_squared_error: 0.093 - ETA: 0s - loss: 1301.8705 - bayesian_divergent_loss: 4.5933 - covariance_regularized_loss: 11.0854 - x_logits_loss: 1286.0961 - x_logits_psnr: 10.3446 - x_logits_ssim: -1.1718e-04 - x_logits_sharpdiff: 4.2611 - x_logits_mean_absolute_error: 0.1620 - x_logits_mean_squared_error: 0.09 - ETA: 0s - loss: 1299.8539 - bayesian_divergent_loss: 4.7791 - covariance_regularized_loss: 11.5303 - x_logits_loss: 1283.4489 - x_logits_psnr: 10.3423 - x_logits_ssim: -1.5233e-04 - x_logits_sharpdiff: 4.2601 - x_logits_mean_absolute_error: 0.1623 - x_logits_mean_squared_error: 0.09 - ETA: 0s - loss: 1296.3097 - bayesian_divergent_loss: 4.9483 - covariance_regularized_loss: 12.0136 - x_logits_loss: 1279.2522 - x_logits_psnr: 10.3374 - x_logits_ssim: -1.9945e-04 - x_logits_sharpdiff: 4.2602 - x_logits_mean_absolute_error: 0.1624 - x_logits_mean_squared_error: 0.09 - 1s 66ms/step - loss: 1295.5860 - bayesian_divergent_loss: 5.1599 - covariance_regularized_loss: 12.2909 - x_logits_loss: 1278.0394 - x_logits_psnr: 10.3316 - x_logits_ssim: -2.3695e-04 - x_logits_sharpdiff: 4.2639 - x_logits_mean_absolute_error: 0.1625 - x_logits_mean_squared_error: 0.0938 - val_loss: 779.2631 - val_bayesian_divergent_loss: 0.0548 - val_covariance_regularized_loss: 47.8266 - val_x_logits_loss: 731.3177 - val_x_logits_psnr: 14.3785 - val_x_logits_ssim: -0.0043 - val_x_logits_sharpdiff: 17.7726 - val_x_logits_mean_absolute_error: 0.0700 - val_x_logits_mean_squared_error: 0.0411\n",
      "Epoch 8/10\n",
      "10/10 [==============================] - ETA: 0s - loss: 1234.4270 - bayesian_divergent_loss: 5.2165 - covariance_regularized_loss: 13.4116 - x_logits_loss: 1215.7030 - x_logits_psnr: 10.3927 - x_logits_ssim: -5.2046e-04 - x_logits_sharpdiff: 4.2828 - x_logits_mean_absolute_error: 0.1613 - x_logits_mean_squared_error: 0.09 - ETA: 0s - loss: 1247.4701 - bayesian_divergent_loss: 6.8504 - covariance_regularized_loss: 18.9533 - x_logits_loss: 1221.5704 - x_logits_psnr: 10.3462 - x_logits_ssim: -6.0936e-04 - x_logits_sharpdiff: 4.2687 - x_logits_mean_absolute_error: 0.1627 - x_logits_mean_squared_error: 0.09 - ETA: 0s - loss: 1235.7229 - bayesian_divergent_loss: 7.3742 - covariance_regularized_loss: 18.9576 - x_logits_loss: 1209.2952 - x_logits_psnr: 10.3600 - x_logits_ssim: -7.8774e-04 - x_logits_sharpdiff: 4.2675 - x_logits_mean_absolute_error: 0.1625 - x_logits_mean_squared_error: 0.09 - ETA: 0s - loss: 1219.8943 - bayesian_divergent_loss: 7.4002 - covariance_regularized_loss: 19.2403 - x_logits_loss: 1193.1578 - x_logits_psnr: 10.3818 - x_logits_ssim: -9.6091e-04 - x_logits_sharpdiff: 4.2635 - x_logits_mean_absolute_error: 0.1621 - x_logits_mean_squared_error: 0.09 - ETA: 0s - loss: 1200.2182 - bayesian_divergent_loss: 7.4699 - covariance_regularized_loss: 19.6303 - x_logits_loss: 1173.0220 - x_logits_psnr: 10.4164 - x_logits_ssim: -0.0011 - x_logits_sharpdiff: 4.2686 - x_logits_mean_absolute_error: 0.1614 - x_logits_mean_squared_error: 0.0918   - 1s 68ms/step - loss: 1193.8178 - bayesian_divergent_loss: 7.9919 - covariance_regularized_loss: 19.5440 - x_logits_loss: 1166.1859 - x_logits_psnr: 10.4303 - x_logits_ssim: -0.0012 - x_logits_sharpdiff: 4.2684 - x_logits_mean_absolute_error: 0.1612 - x_logits_mean_squared_error: 0.0915 - val_loss: 801.5958 - val_bayesian_divergent_loss: 0.1136 - val_covariance_regularized_loss: 46.3334 - val_x_logits_loss: 755.0841 - val_x_logits_psnr: 14.1709 - val_x_logits_ssim: -0.0048 - val_x_logits_sharpdiff: 17.6760 - val_x_logits_mean_absolute_error: 0.0713 - val_x_logits_mean_squared_error: 0.0429\n"
     ]
    },
    {
     "name": "stdout",
     "output_type": "stream",
     "text": [
      "Epoch 9/10\n",
      "10/10 [==============================] - ETA: 0s - loss: 1094.8505 - bayesian_divergent_loss: 7.5850 - covariance_regularized_loss: 19.4999 - x_logits_loss: 1067.6692 - x_logits_psnr: 10.6205 - x_logits_ssim: -0.0026 - x_logits_sharpdiff: 4.2893 - x_logits_mean_absolute_error: 0.1578 - x_logits_mean_squared_error: 0.08 - ETA: 0s - loss: 1140.1534 - bayesian_divergent_loss: 9.4154 - covariance_regularized_loss: 20.8984 - x_logits_loss: 1109.7433 - x_logits_psnr: 10.5075 - x_logits_ssim: -0.0029 - x_logits_sharpdiff: 4.2736 - x_logits_mean_absolute_error: 0.1609 - x_logits_mean_squared_error: 0.08 - ETA: 0s - loss: 1130.4453 - bayesian_divergent_loss: 8.6481 - covariance_regularized_loss: 20.5628 - x_logits_loss: 1101.1381 - x_logits_psnr: 10.5080 - x_logits_ssim: -0.0031 - x_logits_sharpdiff: 4.2654 - x_logits_mean_absolute_error: 0.1611 - x_logits_mean_squared_error: 0.08 - ETA: 0s - loss: 1104.0986 - bayesian_divergent_loss: 8.5717 - covariance_regularized_loss: 20.6167 - x_logits_loss: 1074.8138 - x_logits_psnr: 10.5813 - x_logits_ssim: -0.0035 - x_logits_sharpdiff: 4.2673 - x_logits_mean_absolute_error: 0.1598 - x_logits_mean_squared_error: 0.08 - ETA: 0s - loss: 1093.4242 - bayesian_divergent_loss: 9.0966 - covariance_regularized_loss: 21.4038 - x_logits_loss: 1062.8275 - x_logits_psnr: 10.6106 - x_logits_ssim: -0.0037 - x_logits_sharpdiff: 4.2663 - x_logits_mean_absolute_error: 0.1594 - x_logits_mean_squared_error: 0.08 - 1s 65ms/step - loss: 1087.4711 - bayesian_divergent_loss: 8.9959 - covariance_regularized_loss: 21.3067 - x_logits_loss: 1057.0721 - x_logits_psnr: 10.6265 - x_logits_ssim: -0.0039 - x_logits_sharpdiff: 4.2691 - x_logits_mean_absolute_error: 0.1591 - x_logits_mean_squared_error: 0.0872 - val_loss: 792.4473 - val_bayesian_divergent_loss: 0.1326 - val_covariance_regularized_loss: 45.3165 - val_x_logits_loss: 746.9326 - val_x_logits_psnr: 14.2121 - val_x_logits_ssim: -0.0048 - val_x_logits_sharpdiff: 17.6992 - val_x_logits_mean_absolute_error: 0.0702 - val_x_logits_mean_squared_error: 0.0426\n",
      "Epoch 10/10\n",
      "10/10 [==============================] - ETA: 0s - loss: 1037.3782 - bayesian_divergent_loss: 10.0310 - covariance_regularized_loss: 21.8274 - x_logits_loss: 1005.4229 - x_logits_psnr: 10.7678 - x_logits_ssim: -0.0058 - x_logits_sharpdiff: 4.2794 - x_logits_mean_absolute_error: 0.1565 - x_logits_mean_squared_error: 0.084 - ETA: 0s - loss: 1011.9527 - bayesian_divergent_loss: 9.3983 - covariance_regularized_loss: 20.8339 - x_logits_loss: 981.6237 - x_logits_psnr: 10.8634 - x_logits_ssim: -0.0054 - x_logits_sharpdiff: 4.2776 - x_logits_mean_absolute_error: 0.1551 - x_logits_mean_squared_error: 0.0824  - ETA: 0s - loss: 1015.9880 - bayesian_divergent_loss: 9.5775 - covariance_regularized_loss: 21.0061 - x_logits_loss: 985.3075 - x_logits_psnr: 10.8459 - x_logits_ssim: -0.0055 - x_logits_sharpdiff: 4.2799 - x_logits_mean_absolute_error: 0.1555 - x_logits_mean_squared_error: 0.082 - ETA: 0s - loss: 1002.5171 - bayesian_divergent_loss: 9.5038 - covariance_regularized_loss: 20.8688 - x_logits_loss: 972.0477 - x_logits_psnr: 10.8949 - x_logits_ssim: -0.0056 - x_logits_sharpdiff: 4.2788 - x_logits_mean_absolute_error: 0.1546 - x_logits_mean_squared_error: 0.081 - ETA: 0s - loss: 997.5230 - bayesian_divergent_loss: 9.4016 - covariance_regularized_loss: 19.9348 - x_logits_loss: 968.0897 - x_logits_psnr: 10.9126 - x_logits_ssim: -0.0057 - x_logits_sharpdiff: 4.2808 - x_logits_mean_absolute_error: 0.1544 - x_logits_mean_squared_error: 0.081 - 1s 69ms/step - loss: 994.5276 - bayesian_divergent_loss: 9.3150 - covariance_regularized_loss: 19.9011 - x_logits_loss: 965.2147 - x_logits_psnr: 10.9244 - x_logits_ssim: -0.0057 - x_logits_sharpdiff: 4.2820 - x_logits_mean_absolute_error: 0.1542 - x_logits_mean_squared_error: 0.0812 - val_loss: 782.4450 - val_bayesian_divergent_loss: 0.0903 - val_covariance_regularized_loss: 46.2630 - val_x_logits_loss: 736.0250 - val_x_logits_psnr: 14.2799 - val_x_logits_ssim: -0.0048 - val_x_logits_sharpdiff: 17.7338 - val_x_logits_mean_absolute_error: 0.0687 - val_x_logits_mean_squared_error: 0.0419\n"
     ]
    },
    {
     "data": {
      "text/plain": [
       "<tensorflow.python.keras.callbacks.History at 0x1d38f546748>"
      ]
     },
     "execution_count": 38,
     "metadata": {},
     "output_type": "execute_result"
    }
   ],
   "source": [
    "ae.fit(\n",
    "    x=train_ds,\n",
    "    input_kw='image',\n",
    "    steps_per_epoch=10,\n",
    "    epochs=10,#int(1e6), \n",
    "    verbose=1,\n",
    "    callbacks=[ es, ms, csv_log, sg],# gts_mertics, gtu_mertics],\n",
    "    workers=-1,\n",
    "    use_multiprocessing=True,\n",
    "    validation_data=test_ds,\n",
    "    validation_steps=10\n",
    ")"
   ]
  },
  {
   "cell_type": "code",
   "execution_count": null,
   "metadata": {},
   "outputs": [],
   "source": []
  },
  {
   "cell_type": "markdown",
   "metadata": {},
   "source": [
    "# Model Evaluation"
   ]
  },
  {
   "cell_type": "markdown",
   "metadata": {},
   "source": [
    "## inception_score"
   ]
  },
  {
   "cell_type": "code",
   "execution_count": 39,
   "metadata": {},
   "outputs": [],
   "source": [
    "from evaluation.generativity_metrics.inception_metrics import inception_score"
   ]
  },
  {
   "cell_type": "code",
   "execution_count": 40,
   "metadata": {},
   "outputs": [
    {
     "name": "stdout",
     "output_type": "stream",
     "text": [
      "calculating the inception_score mean ...\n"
     ]
    },
    {
     "ename": "KeyboardInterrupt",
     "evalue": "",
     "output_type": "error",
     "traceback": [
      "\u001b[1;31m---------------------------------------------------------------------------\u001b[0m",
      "\u001b[1;31mKeyboardInterrupt\u001b[0m                         Traceback (most recent call last)",
      "\u001b[1;32m<ipython-input-40-c26df8749365>\u001b[0m in \u001b[0;36m<module>\u001b[1;34m\u001b[0m\n\u001b[1;32m----> 1\u001b[1;33m \u001b[0mis_mean\u001b[0m\u001b[1;33m,\u001b[0m \u001b[0mis_sigma\u001b[0m \u001b[1;33m=\u001b[0m \u001b[0minception_score\u001b[0m\u001b[1;33m(\u001b[0m\u001b[0mae\u001b[0m\u001b[1;33m,\u001b[0m \u001b[0mtolerance_threshold\u001b[0m\u001b[1;33m=\u001b[0m\u001b[1;36m1e-6\u001b[0m\u001b[1;33m,\u001b[0m \u001b[0mmax_iteration\u001b[0m\u001b[1;33m=\u001b[0m\u001b[1;36m100\u001b[0m\u001b[1;33m)\u001b[0m\u001b[1;33m\u001b[0m\u001b[1;33m\u001b[0m\u001b[0m\n\u001b[0m\u001b[0;32m      2\u001b[0m \u001b[0mprint\u001b[0m\u001b[1;33m(\u001b[0m\u001b[1;34mf'inception_score mean: {is_mean}, sigma: {is_sigma}'\u001b[0m\u001b[1;33m)\u001b[0m\u001b[1;33m\u001b[0m\u001b[1;33m\u001b[0m\u001b[0m\n",
      "\u001b[1;32m~\\Documents\\projects\\Generative_Models\\evaluation\\generativity_metrics\\inception_metrics.py\u001b[0m in \u001b[0;36minception_score\u001b[1;34m(model, tolerance_threshold, max_iteration)\u001b[0m\n\u001b[0;32m     53\u001b[0m     is_mean = bootstrapping_additive(\n\u001b[0;32m     54\u001b[0m         \u001b[0mdata_generator\u001b[0m\u001b[1;33m=\u001b[0m\u001b[0mmodel_random_images_generator\u001b[0m\u001b[1;33m(\u001b[0m\u001b[1;33m)\u001b[0m\u001b[1;33m,\u001b[0m \u001b[0mfunc\u001b[0m\u001b[1;33m=\u001b[0m\u001b[0mcalculate_is\u001b[0m\u001b[1;33m,\u001b[0m \u001b[0mstopping_func\u001b[0m\u001b[1;33m=\u001b[0m\u001b[0mmean_fn\u001b[0m\u001b[1;33m,\u001b[0m\u001b[1;33m\u001b[0m\u001b[1;33m\u001b[0m\u001b[0m\n\u001b[1;32m---> 55\u001b[1;33m         \u001b[0mtolerance_threshold\u001b[0m\u001b[1;33m=\u001b[0m\u001b[0mtolerance_threshold\u001b[0m\u001b[1;33m,\u001b[0m \u001b[0mmax_iteration\u001b[0m\u001b[1;33m=\u001b[0m\u001b[0mmax_iteration\u001b[0m\u001b[1;33m\u001b[0m\u001b[1;33m\u001b[0m\u001b[0m\n\u001b[0m\u001b[0;32m     56\u001b[0m     )\n\u001b[0;32m     57\u001b[0m \u001b[1;33m\u001b[0m\u001b[0m\n",
      "\u001b[1;32m~\\Documents\\projects\\Generative_Models\\evaluation\\generativity_metrics\\shared_api.py\u001b[0m in \u001b[0;36mbootstrapping_additive\u001b[1;34m(data_generator, func, stopping_func, tolerance_threshold, max_iteration)\u001b[0m\n\u001b[0;32m     29\u001b[0m \u001b[1;33m\u001b[0m\u001b[0m\n\u001b[0;32m     30\u001b[0m \u001b[1;32mdef\u001b[0m \u001b[0mbootstrapping_additive\u001b[0m\u001b[1;33m(\u001b[0m\u001b[0mdata_generator\u001b[0m\u001b[1;33m,\u001b[0m \u001b[0mfunc\u001b[0m\u001b[1;33m,\u001b[0m \u001b[0mstopping_func\u001b[0m\u001b[1;33m,\u001b[0m \u001b[0mtolerance_threshold\u001b[0m\u001b[1;33m=\u001b[0m\u001b[1;36m1e-6\u001b[0m\u001b[1;33m,\u001b[0m \u001b[0mmax_iteration\u001b[0m\u001b[1;33m=\u001b[0m\u001b[1;36m50\u001b[0m\u001b[1;33m)\u001b[0m\u001b[1;33m:\u001b[0m\u001b[1;33m\u001b[0m\u001b[1;33m\u001b[0m\u001b[0m\n\u001b[1;32m---> 31\u001b[1;33m     \u001b[0mdata\u001b[0m \u001b[1;33m=\u001b[0m \u001b[0mnext\u001b[0m\u001b[1;33m(\u001b[0m\u001b[0mdata_generator\u001b[0m\u001b[1;33m)\u001b[0m\u001b[1;33m\u001b[0m\u001b[1;33m\u001b[0m\u001b[0m\n\u001b[0m\u001b[0;32m     32\u001b[0m     \u001b[0moutputs\u001b[0m \u001b[1;33m=\u001b[0m \u001b[1;33m[\u001b[0m\u001b[0mfunc\u001b[0m\u001b[1;33m(\u001b[0m\u001b[0mdata\u001b[0m\u001b[1;33m)\u001b[0m\u001b[1;33m.\u001b[0m\u001b[0mcompute\u001b[0m\u001b[1;33m(\u001b[0m\u001b[1;33m)\u001b[0m\u001b[1;33m]\u001b[0m\u001b[1;33m\u001b[0m\u001b[1;33m\u001b[0m\u001b[0m\n\u001b[0;32m     33\u001b[0m     \u001b[0mresults\u001b[0m \u001b[1;33m=\u001b[0m \u001b[0mstopping_func\u001b[0m\u001b[1;33m(\u001b[0m\u001b[0moutputs\u001b[0m\u001b[1;33m)\u001b[0m\u001b[1;33m\u001b[0m\u001b[1;33m\u001b[0m\u001b[0m\n",
      "\u001b[1;32m~\\Documents\\projects\\Generative_Models\\evaluation\\generativity_metrics\\inception_metrics.py\u001b[0m in \u001b[0;36mmodel_random_images_generator\u001b[1;34m()\u001b[0m\n\u001b[0;32m     43\u001b[0m                     \u001b[0mnew_size\u001b[0m \u001b[1;33m=\u001b[0m \u001b[1;33m[\u001b[0m\u001b[1;36m75\u001b[0m\u001b[1;33m,\u001b[0m \u001b[1;36m75\u001b[0m\u001b[1;33m]\u001b[0m\u001b[1;33m\u001b[0m\u001b[1;33m\u001b[0m\u001b[0m\n\u001b[0;32m     44\u001b[0m                     \u001b[0mresize_fn\u001b[0m \u001b[1;33m=\u001b[0m \u001b[1;32mlambda\u001b[0m \u001b[0mimage\u001b[0m\u001b[1;33m:\u001b[0m \u001b[0mtf\u001b[0m\u001b[1;33m.\u001b[0m\u001b[0mimage\u001b[0m\u001b[1;33m.\u001b[0m\u001b[0mresize\u001b[0m\u001b[1;33m(\u001b[0m\u001b[0mimage\u001b[0m\u001b[1;33m,\u001b[0m \u001b[0mnew_size\u001b[0m\u001b[1;33m)\u001b[0m\u001b[1;33m\u001b[0m\u001b[1;33m\u001b[0m\u001b[0m\n\u001b[1;32m---> 45\u001b[1;33m                     \u001b[0mdata\u001b[0m \u001b[1;33m=\u001b[0m \u001b[0mtf\u001b[0m\u001b[1;33m.\u001b[0m\u001b[0mmap_fn\u001b[0m\u001b[1;33m(\u001b[0m\u001b[0mresize_fn\u001b[0m\u001b[1;33m,\u001b[0m \u001b[0mdata\u001b[0m\u001b[1;33m)\u001b[0m\u001b[1;33m\u001b[0m\u001b[1;33m\u001b[0m\u001b[0m\n\u001b[0m\u001b[0;32m     46\u001b[0m \u001b[1;33m\u001b[0m\u001b[0m\n\u001b[0;32m     47\u001b[0m                 \u001b[0mdata\u001b[0m \u001b[1;33m=\u001b[0m \u001b[0mdata\u001b[0m\u001b[1;33m.\u001b[0m\u001b[0mnumpy\u001b[0m\u001b[1;33m(\u001b[0m\u001b[1;33m)\u001b[0m\u001b[1;33m\u001b[0m\u001b[1;33m\u001b[0m\u001b[0m\n",
      "\u001b[1;32mC:\\ProgramData\\Anaconda3\\envs\\tf02\\lib\\site-packages\\tensorflow_core\\python\\ops\\map_fn.py\u001b[0m in \u001b[0;36mmap_fn\u001b[1;34m(fn, elems, dtype, parallel_iterations, back_prop, swap_memory, infer_shape, name)\u001b[0m\n\u001b[0;32m    266\u001b[0m         \u001b[0mback_prop\u001b[0m\u001b[1;33m=\u001b[0m\u001b[0mback_prop\u001b[0m\u001b[1;33m,\u001b[0m\u001b[1;33m\u001b[0m\u001b[1;33m\u001b[0m\u001b[0m\n\u001b[0;32m    267\u001b[0m         \u001b[0mswap_memory\u001b[0m\u001b[1;33m=\u001b[0m\u001b[0mswap_memory\u001b[0m\u001b[1;33m,\u001b[0m\u001b[1;33m\u001b[0m\u001b[1;33m\u001b[0m\u001b[0m\n\u001b[1;32m--> 268\u001b[1;33m         maximum_iterations=n)\n\u001b[0m\u001b[0;32m    269\u001b[0m     \u001b[0mresults_flat\u001b[0m \u001b[1;33m=\u001b[0m \u001b[1;33m[\u001b[0m\u001b[0mr\u001b[0m\u001b[1;33m.\u001b[0m\u001b[0mstack\u001b[0m\u001b[1;33m(\u001b[0m\u001b[1;33m)\u001b[0m \u001b[1;32mfor\u001b[0m \u001b[0mr\u001b[0m \u001b[1;32min\u001b[0m \u001b[0mr_a\u001b[0m\u001b[1;33m]\u001b[0m\u001b[1;33m\u001b[0m\u001b[1;33m\u001b[0m\u001b[0m\n\u001b[0;32m    270\u001b[0m \u001b[1;33m\u001b[0m\u001b[0m\n",
      "\u001b[1;32mC:\\ProgramData\\Anaconda3\\envs\\tf02\\lib\\site-packages\\tensorflow_core\\python\\ops\\control_flow_ops.py\u001b[0m in \u001b[0;36mwhile_loop\u001b[1;34m(cond, body, loop_vars, shape_invariants, parallel_iterations, back_prop, swap_memory, name, maximum_iterations, return_same_structure)\u001b[0m\n\u001b[0;32m   2712\u001b[0m                                               list(loop_vars))\n\u001b[0;32m   2713\u001b[0m       \u001b[1;32mwhile\u001b[0m \u001b[0mcond\u001b[0m\u001b[1;33m(\u001b[0m\u001b[1;33m*\u001b[0m\u001b[0mloop_vars\u001b[0m\u001b[1;33m)\u001b[0m\u001b[1;33m:\u001b[0m\u001b[1;33m\u001b[0m\u001b[1;33m\u001b[0m\u001b[0m\n\u001b[1;32m-> 2714\u001b[1;33m         \u001b[0mloop_vars\u001b[0m \u001b[1;33m=\u001b[0m \u001b[0mbody\u001b[0m\u001b[1;33m(\u001b[0m\u001b[1;33m*\u001b[0m\u001b[0mloop_vars\u001b[0m\u001b[1;33m)\u001b[0m\u001b[1;33m\u001b[0m\u001b[1;33m\u001b[0m\u001b[0m\n\u001b[0m\u001b[0;32m   2715\u001b[0m         \u001b[1;32mif\u001b[0m \u001b[0mtry_to_pack\u001b[0m \u001b[1;32mand\u001b[0m \u001b[1;32mnot\u001b[0m \u001b[0misinstance\u001b[0m\u001b[1;33m(\u001b[0m\u001b[0mloop_vars\u001b[0m\u001b[1;33m,\u001b[0m \u001b[1;33m(\u001b[0m\u001b[0mlist\u001b[0m\u001b[1;33m,\u001b[0m \u001b[0m_basetuple\u001b[0m\u001b[1;33m)\u001b[0m\u001b[1;33m)\u001b[0m\u001b[1;33m:\u001b[0m\u001b[1;33m\u001b[0m\u001b[1;33m\u001b[0m\u001b[0m\n\u001b[0;32m   2716\u001b[0m           \u001b[0mpacked\u001b[0m \u001b[1;33m=\u001b[0m \u001b[1;32mTrue\u001b[0m\u001b[1;33m\u001b[0m\u001b[1;33m\u001b[0m\u001b[0m\n",
      "\u001b[1;32mC:\\ProgramData\\Anaconda3\\envs\\tf02\\lib\\site-packages\\tensorflow_core\\python\\ops\\control_flow_ops.py\u001b[0m in \u001b[0;36m<lambda>\u001b[1;34m(i, lv)\u001b[0m\n\u001b[0;32m   2703\u001b[0m         cond = lambda i, lv: (  # pylint: disable=g-long-lambda\n\u001b[0;32m   2704\u001b[0m             math_ops.logical_and(i < maximum_iterations, orig_cond(*lv)))\n\u001b[1;32m-> 2705\u001b[1;33m         \u001b[0mbody\u001b[0m \u001b[1;33m=\u001b[0m \u001b[1;32mlambda\u001b[0m \u001b[0mi\u001b[0m\u001b[1;33m,\u001b[0m \u001b[0mlv\u001b[0m\u001b[1;33m:\u001b[0m \u001b[1;33m(\u001b[0m\u001b[0mi\u001b[0m \u001b[1;33m+\u001b[0m \u001b[1;36m1\u001b[0m\u001b[1;33m,\u001b[0m \u001b[0morig_body\u001b[0m\u001b[1;33m(\u001b[0m\u001b[1;33m*\u001b[0m\u001b[0mlv\u001b[0m\u001b[1;33m)\u001b[0m\u001b[1;33m)\u001b[0m\u001b[1;33m\u001b[0m\u001b[1;33m\u001b[0m\u001b[0m\n\u001b[0m\u001b[0;32m   2706\u001b[0m       \u001b[0mtry_to_pack\u001b[0m \u001b[1;33m=\u001b[0m \u001b[1;32mFalse\u001b[0m\u001b[1;33m\u001b[0m\u001b[1;33m\u001b[0m\u001b[0m\n\u001b[0;32m   2707\u001b[0m \u001b[1;33m\u001b[0m\u001b[0m\n",
      "\u001b[1;32mC:\\ProgramData\\Anaconda3\\envs\\tf02\\lib\\site-packages\\tensorflow_core\\python\\ops\\map_fn.py\u001b[0m in \u001b[0;36mcompute\u001b[1;34m(i, tas)\u001b[0m\n\u001b[0;32m    255\u001b[0m       \"\"\"\n\u001b[0;32m    256\u001b[0m       \u001b[0mpacked_values\u001b[0m \u001b[1;33m=\u001b[0m \u001b[0minput_pack\u001b[0m\u001b[1;33m(\u001b[0m\u001b[1;33m[\u001b[0m\u001b[0melem_ta\u001b[0m\u001b[1;33m.\u001b[0m\u001b[0mread\u001b[0m\u001b[1;33m(\u001b[0m\u001b[0mi\u001b[0m\u001b[1;33m)\u001b[0m \u001b[1;32mfor\u001b[0m \u001b[0melem_ta\u001b[0m \u001b[1;32min\u001b[0m \u001b[0melems_ta\u001b[0m\u001b[1;33m]\u001b[0m\u001b[1;33m)\u001b[0m\u001b[1;33m\u001b[0m\u001b[1;33m\u001b[0m\u001b[0m\n\u001b[1;32m--> 257\u001b[1;33m       \u001b[0mpacked_fn_values\u001b[0m \u001b[1;33m=\u001b[0m \u001b[0mfn\u001b[0m\u001b[1;33m(\u001b[0m\u001b[0mpacked_values\u001b[0m\u001b[1;33m)\u001b[0m\u001b[1;33m\u001b[0m\u001b[1;33m\u001b[0m\u001b[0m\n\u001b[0m\u001b[0;32m    258\u001b[0m       \u001b[0mnest\u001b[0m\u001b[1;33m.\u001b[0m\u001b[0massert_same_structure\u001b[0m\u001b[1;33m(\u001b[0m\u001b[0mdtype\u001b[0m \u001b[1;32mor\u001b[0m \u001b[0melems\u001b[0m\u001b[1;33m,\u001b[0m \u001b[0mpacked_fn_values\u001b[0m\u001b[1;33m)\u001b[0m\u001b[1;33m\u001b[0m\u001b[1;33m\u001b[0m\u001b[0m\n\u001b[0;32m    259\u001b[0m       \u001b[0mflat_fn_values\u001b[0m \u001b[1;33m=\u001b[0m \u001b[0moutput_flatten\u001b[0m\u001b[1;33m(\u001b[0m\u001b[0mpacked_fn_values\u001b[0m\u001b[1;33m)\u001b[0m\u001b[1;33m\u001b[0m\u001b[1;33m\u001b[0m\u001b[0m\n",
      "\u001b[1;32m~\\Documents\\projects\\Generative_Models\\evaluation\\generativity_metrics\\inception_metrics.py\u001b[0m in \u001b[0;36m<lambda>\u001b[1;34m(image)\u001b[0m\n\u001b[0;32m     42\u001b[0m                 \u001b[1;32mif\u001b[0m \u001b[0mdata\u001b[0m\u001b[1;33m.\u001b[0m\u001b[0mshape\u001b[0m\u001b[1;33m[\u001b[0m\u001b[1;33m-\u001b[0m\u001b[1;36m2\u001b[0m\u001b[1;33m]\u001b[0m\u001b[1;33m<\u001b[0m\u001b[1;36m75\u001b[0m\u001b[1;33m:\u001b[0m\u001b[1;33m\u001b[0m\u001b[1;33m\u001b[0m\u001b[0m\n\u001b[0;32m     43\u001b[0m                     \u001b[0mnew_size\u001b[0m \u001b[1;33m=\u001b[0m \u001b[1;33m[\u001b[0m\u001b[1;36m75\u001b[0m\u001b[1;33m,\u001b[0m \u001b[1;36m75\u001b[0m\u001b[1;33m]\u001b[0m\u001b[1;33m\u001b[0m\u001b[1;33m\u001b[0m\u001b[0m\n\u001b[1;32m---> 44\u001b[1;33m                     \u001b[0mresize_fn\u001b[0m \u001b[1;33m=\u001b[0m \u001b[1;32mlambda\u001b[0m \u001b[0mimage\u001b[0m\u001b[1;33m:\u001b[0m \u001b[0mtf\u001b[0m\u001b[1;33m.\u001b[0m\u001b[0mimage\u001b[0m\u001b[1;33m.\u001b[0m\u001b[0mresize\u001b[0m\u001b[1;33m(\u001b[0m\u001b[0mimage\u001b[0m\u001b[1;33m,\u001b[0m \u001b[0mnew_size\u001b[0m\u001b[1;33m)\u001b[0m\u001b[1;33m\u001b[0m\u001b[1;33m\u001b[0m\u001b[0m\n\u001b[0m\u001b[0;32m     45\u001b[0m                     \u001b[0mdata\u001b[0m \u001b[1;33m=\u001b[0m \u001b[0mtf\u001b[0m\u001b[1;33m.\u001b[0m\u001b[0mmap_fn\u001b[0m\u001b[1;33m(\u001b[0m\u001b[0mresize_fn\u001b[0m\u001b[1;33m,\u001b[0m \u001b[0mdata\u001b[0m\u001b[1;33m)\u001b[0m\u001b[1;33m\u001b[0m\u001b[1;33m\u001b[0m\u001b[0m\n\u001b[0;32m     46\u001b[0m \u001b[1;33m\u001b[0m\u001b[0m\n",
      "\u001b[1;32mC:\\ProgramData\\Anaconda3\\envs\\tf02\\lib\\site-packages\\tensorflow_core\\python\\ops\\image_ops_impl.py\u001b[0m in \u001b[0;36mresize_images_v2\u001b[1;34m(images, size, method, preserve_aspect_ratio, antialias, name)\u001b[0m\n\u001b[0;32m   1355\u001b[0m       \u001b[0mpreserve_aspect_ratio\u001b[0m\u001b[1;33m=\u001b[0m\u001b[0mpreserve_aspect_ratio\u001b[0m\u001b[1;33m,\u001b[0m\u001b[1;33m\u001b[0m\u001b[1;33m\u001b[0m\u001b[0m\n\u001b[0;32m   1356\u001b[0m       \u001b[0mname\u001b[0m\u001b[1;33m=\u001b[0m\u001b[0mname\u001b[0m\u001b[1;33m,\u001b[0m\u001b[1;33m\u001b[0m\u001b[1;33m\u001b[0m\u001b[0m\n\u001b[1;32m-> 1357\u001b[1;33m       skip_resize_if_same=False)\n\u001b[0m\u001b[0;32m   1358\u001b[0m \u001b[1;33m\u001b[0m\u001b[0m\n\u001b[0;32m   1359\u001b[0m \u001b[1;33m\u001b[0m\u001b[0m\n",
      "\u001b[1;32mC:\\ProgramData\\Anaconda3\\envs\\tf02\\lib\\site-packages\\tensorflow_core\\python\\ops\\image_ops_impl.py\u001b[0m in \u001b[0;36m_resize_images_common\u001b[1;34m(images, resizer_fn, size, preserve_aspect_ratio, name, skip_resize_if_same)\u001b[0m\n\u001b[0;32m   1131\u001b[0m       \u001b[1;32mreturn\u001b[0m \u001b[0mimages\u001b[0m\u001b[1;33m\u001b[0m\u001b[1;33m\u001b[0m\u001b[0m\n\u001b[0;32m   1132\u001b[0m \u001b[1;33m\u001b[0m\u001b[0m\n\u001b[1;32m-> 1133\u001b[1;33m     \u001b[0mimages\u001b[0m \u001b[1;33m=\u001b[0m \u001b[0mresizer_fn\u001b[0m\u001b[1;33m(\u001b[0m\u001b[0mimages\u001b[0m\u001b[1;33m,\u001b[0m \u001b[0msize\u001b[0m\u001b[1;33m)\u001b[0m\u001b[1;33m\u001b[0m\u001b[1;33m\u001b[0m\u001b[0m\n\u001b[0m\u001b[0;32m   1134\u001b[0m \u001b[1;33m\u001b[0m\u001b[0m\n\u001b[0;32m   1135\u001b[0m     \u001b[1;31m# NOTE(mrry): The shape functions for the resize ops cannot unpack\u001b[0m\u001b[1;33m\u001b[0m\u001b[1;33m\u001b[0m\u001b[1;33m\u001b[0m\u001b[0m\n",
      "\u001b[1;32mC:\\ProgramData\\Anaconda3\\envs\\tf02\\lib\\site-packages\\tensorflow_core\\python\\ops\\image_ops_impl.py\u001b[0m in \u001b[0;36mresize_fn\u001b[1;34m(images_t, new_size)\u001b[0m\n\u001b[0;32m   1332\u001b[0m       \u001b[1;32melse\u001b[0m\u001b[1;33m:\u001b[0m\u001b[1;33m\u001b[0m\u001b[1;33m\u001b[0m\u001b[0m\n\u001b[0;32m   1333\u001b[0m         return gen_image_ops.resize_bilinear(\n\u001b[1;32m-> 1334\u001b[1;33m             images_t, new_size, half_pixel_centers=True)\n\u001b[0m\u001b[0;32m   1335\u001b[0m     \u001b[1;32melif\u001b[0m \u001b[0mmethod\u001b[0m \u001b[1;33m==\u001b[0m \u001b[0mResizeMethod\u001b[0m\u001b[1;33m.\u001b[0m\u001b[0mNEAREST_NEIGHBOR\u001b[0m\u001b[1;33m:\u001b[0m\u001b[1;33m\u001b[0m\u001b[1;33m\u001b[0m\u001b[0m\n\u001b[0;32m   1336\u001b[0m       return gen_image_ops.resize_nearest_neighbor(\n",
      "\u001b[1;32mC:\\ProgramData\\Anaconda3\\envs\\tf02\\lib\\site-packages\\tensorflow_core\\python\\ops\\gen_image_ops.py\u001b[0m in \u001b[0;36mresize_bilinear\u001b[1;34m(images, size, align_corners, half_pixel_centers, name)\u001b[0m\n\u001b[0;32m   3231\u001b[0m         \u001b[0m_ctx\u001b[0m\u001b[1;33m.\u001b[0m\u001b[0m_context_handle\u001b[0m\u001b[1;33m,\u001b[0m \u001b[0mtld\u001b[0m\u001b[1;33m.\u001b[0m\u001b[0mdevice_name\u001b[0m\u001b[1;33m,\u001b[0m \u001b[1;34m\"ResizeBilinear\"\u001b[0m\u001b[1;33m,\u001b[0m \u001b[0mname\u001b[0m\u001b[1;33m,\u001b[0m\u001b[1;33m\u001b[0m\u001b[1;33m\u001b[0m\u001b[0m\n\u001b[0;32m   3232\u001b[0m         \u001b[0mtld\u001b[0m\u001b[1;33m.\u001b[0m\u001b[0mop_callbacks\u001b[0m\u001b[1;33m,\u001b[0m \u001b[0mimages\u001b[0m\u001b[1;33m,\u001b[0m \u001b[0msize\u001b[0m\u001b[1;33m,\u001b[0m \u001b[1;34m\"align_corners\"\u001b[0m\u001b[1;33m,\u001b[0m \u001b[0malign_corners\u001b[0m\u001b[1;33m,\u001b[0m\u001b[1;33m\u001b[0m\u001b[1;33m\u001b[0m\u001b[0m\n\u001b[1;32m-> 3233\u001b[1;33m         \"half_pixel_centers\", half_pixel_centers)\n\u001b[0m\u001b[0;32m   3234\u001b[0m       \u001b[1;32mreturn\u001b[0m \u001b[0m_result\u001b[0m\u001b[1;33m\u001b[0m\u001b[1;33m\u001b[0m\u001b[0m\n\u001b[0;32m   3235\u001b[0m     \u001b[1;32mexcept\u001b[0m \u001b[0m_core\u001b[0m\u001b[1;33m.\u001b[0m\u001b[0m_FallbackException\u001b[0m\u001b[1;33m:\u001b[0m\u001b[1;33m\u001b[0m\u001b[1;33m\u001b[0m\u001b[0m\n",
      "\u001b[1;31mKeyboardInterrupt\u001b[0m: "
     ]
    }
   ],
   "source": [
    "is_mean, is_sigma = inception_score(ae, tolerance_threshold=1e-6, max_iteration=100)\n",
    "print(f'inception_score mean: {is_mean}, sigma: {is_sigma}')"
   ]
  },
  {
   "cell_type": "markdown",
   "metadata": {},
   "source": [
    "## Frechet_inception_distance"
   ]
  },
  {
   "cell_type": "code",
   "execution_count": null,
   "metadata": {},
   "outputs": [],
   "source": [
    "from evaluation.generativity_metrics.inception_metrics import frechet_inception_distance"
   ]
  },
  {
   "cell_type": "code",
   "execution_count": null,
   "metadata": {},
   "outputs": [],
   "source": [
    "fis_score = frechet_inception_distance(ae, training_generator, tolerance_threshold=1e-6, max_iteration=10, batch_size=32)\n",
    "print(f'frechet inception distance: {fis_score}')"
   ]
  },
  {
   "cell_type": "code",
   "execution_count": null,
   "metadata": {},
   "outputs": [],
   "source": []
  },
  {
   "cell_type": "markdown",
   "metadata": {},
   "source": [
    "## perceptual_path_length_score"
   ]
  },
  {
   "cell_type": "code",
   "execution_count": null,
   "metadata": {},
   "outputs": [],
   "source": [
    "from evaluation.generativity_metrics.perceptual_path_length import perceptual_path_length_score"
   ]
  },
  {
   "cell_type": "code",
   "execution_count": null,
   "metadata": {},
   "outputs": [],
   "source": [
    "ppl_mean_score = perceptual_path_length_score(ae, training_generator, tolerance_threshold=1e-6, max_iteration=100, batch_size=32)\n",
    "print(f'perceptual path length score: {ppl_mean_score}')"
   ]
  },
  {
   "cell_type": "code",
   "execution_count": null,
   "metadata": {},
   "outputs": [],
   "source": []
  },
  {
   "cell_type": "markdown",
   "metadata": {},
   "source": [
    "## precision score"
   ]
  },
  {
   "cell_type": "code",
   "execution_count": null,
   "metadata": {},
   "outputs": [],
   "source": [
    "from evaluation.generativity_metrics.precision_recall import precision_score"
   ]
  },
  {
   "cell_type": "code",
   "execution_count": null,
   "metadata": {},
   "outputs": [],
   "source": [
    "_precision_score = precision_score(ae, training_generator, tolerance_threshold=1e-6, max_iteration=100)\n",
    "print(f'precision score: {_precision_score}')"
   ]
  },
  {
   "cell_type": "markdown",
   "metadata": {},
   "source": [
    "## recall score"
   ]
  },
  {
   "cell_type": "code",
   "execution_count": null,
   "metadata": {},
   "outputs": [],
   "source": [
    "from evaluation.generativity_metrics.precision_recall import recall_score"
   ]
  },
  {
   "cell_type": "code",
   "execution_count": null,
   "metadata": {},
   "outputs": [],
   "source": [
    "_recall_score = recall_score(ae, training_generator, tolerance_threshold=1e-6, max_iteration=100)\n",
    "print(f'recall score: {_recall_score}')"
   ]
  },
  {
   "cell_type": "code",
   "execution_count": null,
   "metadata": {},
   "outputs": [],
   "source": []
  },
  {
   "cell_type": "markdown",
   "metadata": {},
   "source": [
    "# Image Generation"
   ]
  },
  {
   "cell_type": "markdown",
   "metadata": {},
   "source": [
    "## image reconstruction"
   ]
  },
  {
   "cell_type": "markdown",
   "metadata": {},
   "source": [
    "### Training dataset"
   ]
  },
  {
   "cell_type": "code",
   "execution_count": null,
   "metadata": {},
   "outputs": [],
   "source": [
    "%load_ext autoreload\n",
    "%autoreload 2"
   ]
  },
  {
   "cell_type": "code",
   "execution_count": null,
   "metadata": {},
   "outputs": [],
   "source": [
    "from training.generators.image_generation_testing import reconstruct_from_a_batch"
   ]
  },
  {
   "cell_type": "code",
   "execution_count": null,
   "metadata": {},
   "outputs": [],
   "source": [
    "from utils.data_and_files.file_utils import create_if_not_exist\n",
    "save_dir = os.path.join(experiments_dir, 'reconstruct_training_images_like_a_batch_dir')\n",
    "create_if_not_exist(save_dir)\n",
    "\n",
    "reconstruct_from_a_batch(ae, training_generator, save_dir)"
   ]
  },
  {
   "cell_type": "code",
   "execution_count": null,
   "metadata": {},
   "outputs": [],
   "source": [
    "from utils.data_and_files.file_utils import create_if_not_exist\n",
    "save_dir = os.path.join(experiments_dir, 'reconstruct_testing_images_like_a_batch_dir')\n",
    "create_if_not_exist(save_dir)\n",
    "\n",
    "reconstruct_from_a_batch(ae, testing_generator, save_dir)"
   ]
  },
  {
   "cell_type": "markdown",
   "metadata": {},
   "source": [
    "## with Randomness"
   ]
  },
  {
   "cell_type": "code",
   "execution_count": null,
   "metadata": {},
   "outputs": [],
   "source": [
    "from training.generators.image_generation_testing import generate_images_like_a_batch"
   ]
  },
  {
   "cell_type": "code",
   "execution_count": null,
   "metadata": {},
   "outputs": [],
   "source": [
    "from utils.data_and_files.file_utils import create_if_not_exist\n",
    "save_dir = os.path.join(experiments_dir, 'generate_training_images_like_a_batch_dir')\n",
    "create_if_not_exist(save_dir)\n",
    "\n",
    "generate_images_like_a_batch(ae, training_generator, save_dir)"
   ]
  },
  {
   "cell_type": "code",
   "execution_count": null,
   "metadata": {},
   "outputs": [],
   "source": [
    "from utils.data_and_files.file_utils import create_if_not_exist\n",
    "save_dir = os.path.join(experiments_dir, 'generate_testing_images_like_a_batch_dir')\n",
    "create_if_not_exist(save_dir)\n",
    "\n",
    "generate_images_like_a_batch(ae, testing_generator, save_dir)"
   ]
  },
  {
   "cell_type": "code",
   "execution_count": null,
   "metadata": {},
   "outputs": [],
   "source": []
  },
  {
   "cell_type": "markdown",
   "metadata": {},
   "source": [
    "### Complete Randomness"
   ]
  },
  {
   "cell_type": "code",
   "execution_count": null,
   "metadata": {},
   "outputs": [],
   "source": [
    "from training.generators.image_generation_testing import generate_images_randomly"
   ]
  },
  {
   "cell_type": "code",
   "execution_count": null,
   "metadata": {},
   "outputs": [],
   "source": [
    "from utils.data_and_files.file_utils import create_if_not_exist\n",
    "save_dir = os.path.join(experiments_dir, 'random_synthetic_dir')\n",
    "create_if_not_exist(save_dir)\n",
    "\n",
    "generate_images_randomly(ae, save_dir)"
   ]
  },
  {
   "cell_type": "code",
   "execution_count": null,
   "metadata": {},
   "outputs": [],
   "source": [
    "from training.generators.image_generation_testing import interpolate_a_batch"
   ]
  },
  {
   "cell_type": "code",
   "execution_count": null,
   "metadata": {
    "scrolled": false
   },
   "outputs": [],
   "source": [
    "from utils.data_and_files.file_utils import create_if_not_exist\n",
    "save_dir = os.path.join(experiments_dir, 'interpolate_dir')\n",
    "create_if_not_exist(save_dir)\n",
    "\n",
    "interpolate_a_batch(ae, testing_generator, save_dir)"
   ]
  },
  {
   "cell_type": "code",
   "execution_count": null,
   "metadata": {},
   "outputs": [],
   "source": []
  },
  {
   "cell_type": "code",
   "execution_count": null,
   "metadata": {},
   "outputs": [],
   "source": []
  }
 ],
 "metadata": {
  "kernelspec": {
   "display_name": "Python 3",
   "language": "python",
   "name": "python3"
  },
  "language_info": {
   "codemirror_mode": {
    "name": "ipython",
    "version": 3
   },
   "file_extension": ".py",
   "mimetype": "text/x-python",
   "name": "python",
   "nbconvert_exporter": "python",
   "pygments_lexer": "ipython3",
   "version": "3.7.5"
  }
 },
 "nbformat": 4,
 "nbformat_minor": 2
}
