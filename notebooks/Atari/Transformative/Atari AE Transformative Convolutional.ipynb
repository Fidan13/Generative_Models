{
 "cells": [
  {
   "cell_type": "markdown",
   "metadata": {},
   "source": [
    "# Settings"
   ]
  },
  {
   "cell_type": "code",
   "execution_count": 1,
   "metadata": {},
   "outputs": [
    {
     "name": "stdout",
     "output_type": "stream",
     "text": [
      "env: TF_KERAS=1\n",
      "/\n"
     ]
    }
   ],
   "source": [
    "%env TF_KERAS = 1\n",
    "import os\n",
    "sep_local = os.path.sep\n",
    "import sys\n",
    "sys.path.append('..' + sep_local + '..' + sep_local + '..') # For Windows import\n",
    "os.chdir('..' + sep_local + '..' + sep_local + '..') # For Linux import\n",
    "print(sep_local)"
   ]
  },
  {
   "cell_type": "code",
   "execution_count": 2,
   "metadata": {},
   "outputs": [
    {
     "name": "stdout",
     "output_type": "stream",
     "text": [
      "2.1.0\n"
     ]
    }
   ],
   "source": [
    "import tensorflow as tf\n",
    "print(tf.__version__)"
   ]
  },
  {
   "cell_type": "markdown",
   "metadata": {},
   "source": [
    "# Dataset loading"
   ]
  },
  {
   "cell_type": "code",
   "execution_count": 3,
   "metadata": {},
   "outputs": [],
   "source": [
    "dataset_name='pacman'"
   ]
  },
  {
   "cell_type": "code",
   "execution_count": 4,
   "metadata": {
    "pycharm": {
     "name": "#%%\n"
    }
   },
   "outputs": [],
   "source": [
    "#IMG_DIR = 'D:\\\\datasets\\\\Ms_Pacman\\\\Ms_Pacman\\\\Test\\\\'\n",
    "IMG_DIR = '/home/azeghost/datasets/.mspacman/atari_v1/screens/mspacman' #Linux\n",
    "#IMG_DIR = '..\\..\\..\\\\data\\\\atari_v1\\\\screens\\\\mspacman'\n",
    "VAL_PCT = 25\n",
    "VAL_FORMAT = 'png'"
   ]
  },
  {
   "cell_type": "code",
   "execution_count": 5,
   "metadata": {
    "pycharm": {
     "name": "#%%\n"
    }
   },
   "outputs": [
    {
     "name": "stderr",
     "output_type": "stream",
     "text": [
      "Using TensorFlow backend.\n"
     ]
    }
   ],
   "source": [
    "from training.generators.file_image_generator import create_image_lists, get_generators"
   ]
  },
  {
   "cell_type": "code",
   "execution_count": 6,
   "metadata": {},
   "outputs": [
    {
     "name": "stderr",
     "output_type": "stream",
     "text": [
      "  \u001b[37mDEBUG   \u001b[0m | \u001b[37mLooking for images in '393'\u001b[0m\n",
      "  \u001b[32mINFO    \u001b[0m | \u001b[32m5118 file found\u001b[0m\n",
      "  \u001b[37mDEBUG   \u001b[0m | \u001b[37mLooking for images in '321'\u001b[0m\n",
      "  \u001b[32mINFO    \u001b[0m | \u001b[32m2564 file found\u001b[0m\n",
      "  \u001b[37mDEBUG   \u001b[0m | \u001b[37mLooking for images in '182'\u001b[0m\n",
      "  \u001b[32mINFO    \u001b[0m | \u001b[32m2319 file found\u001b[0m\n",
      "  \u001b[37mDEBUG   \u001b[0m | \u001b[37mLooking for images in '277'\u001b[0m\n",
      "  \u001b[32mINFO    \u001b[0m | \u001b[32m298 file found\u001b[0m\n",
      "  \u001b[37mDEBUG   \u001b[0m | \u001b[37mLooking for images in '176'\u001b[0m\n",
      "  \u001b[32mINFO    \u001b[0m | \u001b[32m6342 file found\u001b[0m\n",
      "  \u001b[37mDEBUG   \u001b[0m | \u001b[37mLooking for images in '363'\u001b[0m\n",
      "  \u001b[32mINFO    \u001b[0m | \u001b[32m3134 file found\u001b[0m\n",
      "  \u001b[37mDEBUG   \u001b[0m | \u001b[37mLooking for images in '88'\u001b[0m\n",
      "  \u001b[32mINFO    \u001b[0m | \u001b[32m1265 file found\u001b[0m\n",
      "  \u001b[37mDEBUG   \u001b[0m | \u001b[37mLooking for images in '91'\u001b[0m\n",
      "  \u001b[32mINFO    \u001b[0m | \u001b[32m3172 file found\u001b[0m\n",
      "  \u001b[37mDEBUG   \u001b[0m | \u001b[37mLooking for images in '599'\u001b[0m\n",
      "  \u001b[32mINFO    \u001b[0m | \u001b[32m3325 file found\u001b[0m\n",
      "  \u001b[37mDEBUG   \u001b[0m | \u001b[37mLooking for images in '633'\u001b[0m\n"
     ]
    },
    {
     "name": "stdout",
     "output_type": "stream",
     "text": [
      "\n",
      "\n",
      "\n",
      "\n",
      "\n",
      "\n",
      "\n",
      "\n",
      "\n",
      "\n",
      "\n",
      "\n",
      "\n",
      "\n",
      "\n",
      "\n",
      "\n",
      "\n",
      "\n"
     ]
    },
    {
     "name": "stderr",
     "output_type": "stream",
     "text": [
      "  \u001b[32mINFO    \u001b[0m | \u001b[32m1447 file found\u001b[0m\n",
      "  \u001b[37mDEBUG   \u001b[0m | \u001b[37mLooking for images in '557'\u001b[0m\n",
      "  \u001b[32mINFO    \u001b[0m | \u001b[32m4142 file found\u001b[0m\n",
      "  \u001b[37mDEBUG   \u001b[0m | \u001b[37mLooking for images in '212'\u001b[0m\n",
      "  \u001b[32mINFO    \u001b[0m | \u001b[32m7101 file found\u001b[0m\n",
      "  \u001b[37mDEBUG   \u001b[0m | \u001b[37mLooking for images in '250'\u001b[0m\n",
      "  \u001b[32mINFO    \u001b[0m | \u001b[32m1127 file found\u001b[0m\n",
      "  \u001b[37mDEBUG   \u001b[0m | \u001b[37mLooking for images in '10'\u001b[0m\n",
      "  \u001b[32mINFO    \u001b[0m | \u001b[32m1524 file found\u001b[0m\n",
      "  \u001b[37mDEBUG   \u001b[0m | \u001b[37mLooking for images in '5'\u001b[0m\n",
      "  \u001b[32mINFO    \u001b[0m | \u001b[32m322 file found\u001b[0m\n",
      "  \u001b[37mDEBUG   \u001b[0m | \u001b[37mLooking for images in '83'\u001b[0m\n",
      "  \u001b[32mINFO    \u001b[0m | \u001b[32m4731 file found\u001b[0m\n",
      "  \u001b[37mDEBUG   \u001b[0m | \u001b[37mLooking for images in '568'\u001b[0m\n",
      "  \u001b[32mINFO    \u001b[0m | \u001b[32m4431 file found\u001b[0m\n",
      "  \u001b[37mDEBUG   \u001b[0m | \u001b[37mLooking for images in '474'\u001b[0m\n",
      "  \u001b[32mINFO    \u001b[0m | \u001b[32m3032 file found\u001b[0m\n",
      "  \u001b[37mDEBUG   \u001b[0m | \u001b[37mLooking for images in '523'\u001b[0m\n",
      "  \u001b[32mINFO    \u001b[0m | \u001b[32m1716 file found\u001b[0m\n",
      "  \u001b[37mDEBUG   \u001b[0m | \u001b[37mLooking for images in '596'\u001b[0m\n"
     ]
    },
    {
     "name": "stdout",
     "output_type": "stream",
     "text": [
      "\n",
      "\n",
      "\n",
      "\n",
      "\n",
      "\n",
      "\n",
      "\n",
      "\n",
      "\n",
      "\n",
      "\n",
      "\n",
      "\n",
      "\n",
      "\n",
      "\n",
      "\n",
      "\n",
      "\n"
     ]
    },
    {
     "name": "stderr",
     "output_type": "stream",
     "text": [
      "  \u001b[32mINFO    \u001b[0m | \u001b[32m1307 file found\u001b[0m\n",
      "  \u001b[37mDEBUG   \u001b[0m | \u001b[37mLooking for images in '427'\u001b[0m\n",
      "  \u001b[32mINFO    \u001b[0m | \u001b[32m5395 file found\u001b[0m\n",
      "  \u001b[37mDEBUG   \u001b[0m | \u001b[37mLooking for images in '132'\u001b[0m\n",
      "  \u001b[32mINFO    \u001b[0m | \u001b[32m3288 file found\u001b[0m\n",
      "  \u001b[37mDEBUG   \u001b[0m | \u001b[37mLooking for images in '360'\u001b[0m\n",
      "  \u001b[32mINFO    \u001b[0m | \u001b[32m346 file found\u001b[0m\n",
      "  \u001b[37mDEBUG   \u001b[0m | \u001b[37mLooking for images in '95'\u001b[0m\n",
      "  \u001b[32mINFO    \u001b[0m | \u001b[32m1735 file found\u001b[0m\n",
      "  \u001b[37mDEBUG   \u001b[0m | \u001b[37mLooking for images in '516'\u001b[0m\n",
      "  \u001b[32mINFO    \u001b[0m | \u001b[32m5110 file found\u001b[0m\n",
      "  \u001b[37mDEBUG   \u001b[0m | \u001b[37mLooking for images in '634'\u001b[0m\n",
      "  \u001b[32mINFO    \u001b[0m | \u001b[32m6359 file found\u001b[0m\n",
      "  \u001b[37mDEBUG   \u001b[0m | \u001b[37mLooking for images in '570'\u001b[0m\n",
      "  \u001b[32mINFO    \u001b[0m | \u001b[32m4564 file found\u001b[0m\n",
      "  \u001b[37mDEBUG   \u001b[0m | \u001b[37mLooking for images in '451'\u001b[0m\n",
      "  \u001b[32mINFO    \u001b[0m | \u001b[32m4034 file found\u001b[0m\n",
      "  \u001b[37mDEBUG   \u001b[0m | \u001b[37mLooking for images in '483'\u001b[0m\n"
     ]
    },
    {
     "name": "stdout",
     "output_type": "stream",
     "text": [
      "\n",
      "\n",
      "\n",
      "\n",
      "\n",
      "\n",
      "\n",
      "\n",
      "\n",
      "\n",
      "\n",
      "\n",
      "\n",
      "\n",
      "\n",
      "\n",
      "\n",
      "\n"
     ]
    },
    {
     "name": "stderr",
     "output_type": "stream",
     "text": [
      "  \u001b[32mINFO    \u001b[0m | \u001b[32m8589 file found\u001b[0m\n",
      "  \u001b[37mDEBUG   \u001b[0m | \u001b[37mLooking for images in '407'\u001b[0m\n",
      "  \u001b[32mINFO    \u001b[0m | \u001b[32m8201 file found\u001b[0m\n",
      "  \u001b[37mDEBUG   \u001b[0m | \u001b[37mLooking for images in '620'\u001b[0m\n",
      "  \u001b[32mINFO    \u001b[0m | \u001b[32m1524 file found\u001b[0m\n",
      "  \u001b[37mDEBUG   \u001b[0m | \u001b[37mLooking for images in '364'\u001b[0m\n",
      "  \u001b[32mINFO    \u001b[0m | \u001b[32m4880 file found\u001b[0m\n",
      "  \u001b[37mDEBUG   \u001b[0m | \u001b[37mLooking for images in '586'\u001b[0m\n",
      "  \u001b[32mINFO    \u001b[0m | \u001b[32m8899 file found\u001b[0m\n",
      "  \u001b[37mDEBUG   \u001b[0m | \u001b[37mLooking for images in '538'\u001b[0m\n",
      "  \u001b[32mINFO    \u001b[0m | \u001b[32m3005 file found\u001b[0m\n",
      "  \u001b[37mDEBUG   \u001b[0m | \u001b[37mLooking for images in '401'\u001b[0m\n",
      "  \u001b[32mINFO    \u001b[0m | \u001b[32m7305 file found\u001b[0m\n"
     ]
    },
    {
     "name": "stdout",
     "output_type": "stream",
     "text": [
      "\n",
      "\n",
      "\n",
      "\n",
      "\n",
      "\n",
      "\n",
      "\n",
      "\n",
      "\n",
      "\n",
      "\n",
      "\n"
     ]
    },
    {
     "name": "stderr",
     "output_type": "stream",
     "text": [
      "  \u001b[37mDEBUG   \u001b[0m | \u001b[37mLooking for images in '271'\u001b[0m\n",
      "  \u001b[32mINFO    \u001b[0m | \u001b[32m3061 file found\u001b[0m\n",
      "  \u001b[37mDEBUG   \u001b[0m | \u001b[37mLooking for images in '192'\u001b[0m\n",
      "  \u001b[32mINFO    \u001b[0m | \u001b[32m1811 file found\u001b[0m\n",
      "  \u001b[37mDEBUG   \u001b[0m | \u001b[37mLooking for images in '180'\u001b[0m\n",
      "  \u001b[32mINFO    \u001b[0m | \u001b[32m6810 file found\u001b[0m\n",
      "  \u001b[37mDEBUG   \u001b[0m | \u001b[37mLooking for images in '565'\u001b[0m\n",
      "  \u001b[32mINFO    \u001b[0m | \u001b[32m320 file found\u001b[0m\n",
      "  \u001b[37mDEBUG   \u001b[0m | \u001b[37mLooking for images in '421'\u001b[0m\n",
      "  \u001b[32mINFO    \u001b[0m | \u001b[32m3821 file found\u001b[0m\n",
      "  \u001b[37mDEBUG   \u001b[0m | \u001b[37mLooking for images in '148'\u001b[0m\n",
      "  \u001b[32mINFO    \u001b[0m | \u001b[32m2121 file found\u001b[0m\n",
      "  \u001b[37mDEBUG   \u001b[0m | \u001b[37mLooking for images in '544'\u001b[0m\n",
      "  \u001b[32mINFO    \u001b[0m | \u001b[32m2348 file found\u001b[0m\n",
      "  \u001b[37mDEBUG   \u001b[0m | \u001b[37mLooking for images in '127'\u001b[0m\n",
      "  \u001b[32mINFO    \u001b[0m | \u001b[32m4233 file found\u001b[0m\n",
      "  \u001b[37mDEBUG   \u001b[0m | \u001b[37mLooking for images in '53'\u001b[0m\n",
      "  \u001b[32mINFO    \u001b[0m | \u001b[32m277 file found\u001b[0m\n",
      "  \u001b[37mDEBUG   \u001b[0m | \u001b[37mLooking for images in '287'\u001b[0m\n",
      "  \u001b[32mINFO    \u001b[0m | \u001b[32m6505 file found\u001b[0m\n",
      "  \u001b[37mDEBUG   \u001b[0m | \u001b[37mLooking for images in '257'\u001b[0m\n",
      "  \u001b[32mINFO    \u001b[0m | \u001b[32m2865 file found\u001b[0m\n",
      "  \u001b[37mDEBUG   \u001b[0m | \u001b[37mLooking for images in '382'\u001b[0m\n"
     ]
    },
    {
     "name": "stdout",
     "output_type": "stream",
     "text": [
      "\n",
      "\n",
      "\n",
      "\n",
      "\n",
      "\n",
      "\n",
      "\n",
      "\n",
      "\n",
      "\n",
      "\n",
      "\n",
      "\n",
      "\n",
      "\n",
      "\n",
      "\n",
      "\n",
      "\n",
      "\n",
      "\n",
      "\n"
     ]
    },
    {
     "name": "stderr",
     "output_type": "stream",
     "text": [
      "  \u001b[32mINFO    \u001b[0m | \u001b[32m11511 file found\u001b[0m\n",
      "  \u001b[37mDEBUG   \u001b[0m | \u001b[37mLooking for images in '394'\u001b[0m\n",
      "  \u001b[32mINFO    \u001b[0m | \u001b[32m4584 file found\u001b[0m\n",
      "  \u001b[37mDEBUG   \u001b[0m | \u001b[37mLooking for images in '236'\u001b[0m\n",
      "  \u001b[32mINFO    \u001b[0m | \u001b[32m2877 file found\u001b[0m\n",
      "  \u001b[37mDEBUG   \u001b[0m | \u001b[37mLooking for images in '223'\u001b[0m\n",
      "  \u001b[32mINFO    \u001b[0m | \u001b[32m3084 file found\u001b[0m\n",
      "  \u001b[37mDEBUG   \u001b[0m | \u001b[37mLooking for images in '511'\u001b[0m\n",
      "  \u001b[32mINFO    \u001b[0m | \u001b[32m3202 file found\u001b[0m\n",
      "  \u001b[37mDEBUG   \u001b[0m | \u001b[37mLooking for images in '600'\u001b[0m\n",
      "  \u001b[32mINFO    \u001b[0m | \u001b[32m3397 file found\u001b[0m\n",
      "  \u001b[37mDEBUG   \u001b[0m | \u001b[37mLooking for images in '184'\u001b[0m\n",
      "  \u001b[32mINFO    \u001b[0m | \u001b[32m5399 file found\u001b[0m\n",
      "  \u001b[37mDEBUG   \u001b[0m | \u001b[37mLooking for images in '149'\u001b[0m\n",
      "  \u001b[32mINFO    \u001b[0m | \u001b[32m5645 file found\u001b[0m\n",
      "  \u001b[37mDEBUG   \u001b[0m | \u001b[37mLooking for images in '172'\u001b[0m\n"
     ]
    },
    {
     "name": "stdout",
     "output_type": "stream",
     "text": [
      "\n",
      "\n",
      "\n",
      "\n",
      "\n",
      "\n",
      "\n",
      "\n",
      "\n",
      "\n",
      "\n",
      "\n",
      "\n",
      "\n",
      "\n",
      "\n"
     ]
    },
    {
     "name": "stderr",
     "output_type": "stream",
     "text": [
      "  \u001b[32mINFO    \u001b[0m | \u001b[32m773 file found\u001b[0m\n",
      "  \u001b[37mDEBUG   \u001b[0m | \u001b[37mLooking for images in '607'\u001b[0m\n",
      "  \u001b[32mINFO    \u001b[0m | \u001b[32m304 file found\u001b[0m\n",
      "  \u001b[37mDEBUG   \u001b[0m | \u001b[37mLooking for images in '351'\u001b[0m\n",
      "  \u001b[32mINFO    \u001b[0m | \u001b[32m3491 file found\u001b[0m\n",
      "  \u001b[37mDEBUG   \u001b[0m | \u001b[37mLooking for images in '519'\u001b[0m\n",
      "  \u001b[32mINFO    \u001b[0m | \u001b[32m3842 file found\u001b[0m\n",
      "  \u001b[37mDEBUG   \u001b[0m | \u001b[37mLooking for images in '534'\u001b[0m\n",
      "  \u001b[32mINFO    \u001b[0m | \u001b[32m2072 file found\u001b[0m\n",
      "  \u001b[37mDEBUG   \u001b[0m | \u001b[37mLooking for images in '504'\u001b[0m\n",
      "  \u001b[32mINFO    \u001b[0m | \u001b[32m1924 file found\u001b[0m\n",
      "  \u001b[37mDEBUG   \u001b[0m | \u001b[37mLooking for images in '597'\u001b[0m\n",
      "  \u001b[32mINFO    \u001b[0m | \u001b[32m4600 file found\u001b[0m\n",
      "  \u001b[37mDEBUG   \u001b[0m | \u001b[37mLooking for images in '433'\u001b[0m\n",
      "  \u001b[32mINFO    \u001b[0m | \u001b[32m1392 file found\u001b[0m\n",
      "  \u001b[37mDEBUG   \u001b[0m | \u001b[37mLooking for images in '424'\u001b[0m\n",
      "  \u001b[32mINFO    \u001b[0m | \u001b[32m2359 file found\u001b[0m\n",
      "  \u001b[37mDEBUG   \u001b[0m | \u001b[37mLooking for images in '339'\u001b[0m\n",
      "  \u001b[32mINFO    \u001b[0m | \u001b[32m276 file found\u001b[0m\n",
      "  \u001b[37mDEBUG   \u001b[0m | \u001b[37mLooking for images in '260'\u001b[0m\n",
      "  \u001b[32mINFO    \u001b[0m | \u001b[32m3698 file found\u001b[0m\n",
      "  \u001b[37mDEBUG   \u001b[0m | \u001b[37mLooking for images in '602'\u001b[0m\n",
      "  \u001b[32mINFO    \u001b[0m | \u001b[32m4201 file found\u001b[0m\n",
      "  \u001b[37mDEBUG   \u001b[0m | \u001b[37mLooking for images in '514'\u001b[0m\n"
     ]
    },
    {
     "name": "stdout",
     "output_type": "stream",
     "text": [
      "\n",
      "\n",
      "\n",
      "\n",
      "\n",
      "\n",
      "\n",
      "\n",
      "\n",
      "\n",
      "\n",
      "\n",
      "\n",
      "\n",
      "\n",
      "\n",
      "\n",
      "\n",
      "\n",
      "\n",
      "\n",
      "\n",
      "\n",
      "\n"
     ]
    },
    {
     "name": "stderr",
     "output_type": "stream",
     "text": [
      "  \u001b[32mINFO    \u001b[0m | \u001b[32m4381 file found\u001b[0m\n",
      "  \u001b[37mDEBUG   \u001b[0m | \u001b[37mLooking for images in '97'\u001b[0m\n",
      "  \u001b[32mINFO    \u001b[0m | \u001b[32m5357 file found\u001b[0m\n",
      "  \u001b[37mDEBUG   \u001b[0m | \u001b[37mLooking for images in '520'\u001b[0m\n",
      "  \u001b[32mINFO    \u001b[0m | \u001b[32m9374 file found\u001b[0m\n",
      "  \u001b[37mDEBUG   \u001b[0m | \u001b[37mLooking for images in '125'\u001b[0m\n",
      "  \u001b[32mINFO    \u001b[0m | \u001b[32m2506 file found\u001b[0m\n",
      "  \u001b[37mDEBUG   \u001b[0m | \u001b[37mLooking for images in '425'\u001b[0m\n",
      "  \u001b[32mINFO    \u001b[0m | \u001b[32m8961 file found\u001b[0m\n",
      "  \u001b[37mDEBUG   \u001b[0m | \u001b[37mLooking for images in '574'\u001b[0m\n",
      "  \u001b[32mINFO    \u001b[0m | \u001b[32m3441 file found\u001b[0m\n",
      "  \u001b[37mDEBUG   \u001b[0m | \u001b[37mLooking for images in '255'\u001b[0m\n"
     ]
    },
    {
     "name": "stdout",
     "output_type": "stream",
     "text": [
      "\n",
      "\n",
      "\n",
      "\n",
      "\n",
      "\n",
      "\n",
      "\n",
      "\n",
      "\n",
      "\n",
      "\n"
     ]
    },
    {
     "name": "stderr",
     "output_type": "stream",
     "text": [
      "  \u001b[32mINFO    \u001b[0m | \u001b[32m7923 file found\u001b[0m\n",
      "  \u001b[37mDEBUG   \u001b[0m | \u001b[37mLooking for images in '350'\u001b[0m\n",
      "  \u001b[32mINFO    \u001b[0m | \u001b[32m4432 file found\u001b[0m\n",
      "  \u001b[37mDEBUG   \u001b[0m | \u001b[37mLooking for images in '558'\u001b[0m\n",
      "  \u001b[32mINFO    \u001b[0m | \u001b[32m5580 file found\u001b[0m\n",
      "  \u001b[37mDEBUG   \u001b[0m | \u001b[37mLooking for images in '25'\u001b[0m\n",
      "  \u001b[32mINFO    \u001b[0m | \u001b[32m5930 file found\u001b[0m\n",
      "  \u001b[37mDEBUG   \u001b[0m | \u001b[37mLooking for images in '583'\u001b[0m\n",
      "  \u001b[32mINFO    \u001b[0m | \u001b[32m4492 file found\u001b[0m\n",
      "  \u001b[37mDEBUG   \u001b[0m | \u001b[37mLooking for images in '292'\u001b[0m\n",
      "  \u001b[32mINFO    \u001b[0m | \u001b[32m5082 file found\u001b[0m\n",
      "  \u001b[37mDEBUG   \u001b[0m | \u001b[37mLooking for images in '615'\u001b[0m\n",
      "  \u001b[32mINFO    \u001b[0m | \u001b[32m4451 file found\u001b[0m\n",
      "  \u001b[37mDEBUG   \u001b[0m | \u001b[37mLooking for images in '594'\u001b[0m\n"
     ]
    },
    {
     "name": "stdout",
     "output_type": "stream",
     "text": [
      "\n",
      "\n",
      "\n",
      "\n",
      "\n",
      "\n",
      "\n",
      "\n",
      "\n",
      "\n",
      "\n",
      "\n",
      "\n",
      "\n"
     ]
    },
    {
     "name": "stderr",
     "output_type": "stream",
     "text": [
      "  \u001b[32mINFO    \u001b[0m | \u001b[32m4196 file found\u001b[0m\n",
      "  \u001b[37mDEBUG   \u001b[0m | \u001b[37mLooking for images in '432'\u001b[0m\n",
      "  \u001b[32mINFO    \u001b[0m | \u001b[32m3211 file found\u001b[0m\n",
      "  \u001b[37mDEBUG   \u001b[0m | \u001b[37mLooking for images in '443'\u001b[0m\n",
      "  \u001b[32mINFO    \u001b[0m | \u001b[32m5455 file found\u001b[0m\n",
      "  \u001b[37mDEBUG   \u001b[0m | \u001b[37mLooking for images in '507'\u001b[0m\n",
      "  \u001b[32mINFO    \u001b[0m | \u001b[32m3562 file found\u001b[0m\n",
      "  \u001b[37mDEBUG   \u001b[0m | \u001b[37mLooking for images in '35'\u001b[0m\n",
      "  \u001b[32mINFO    \u001b[0m | \u001b[32m5018 file found\u001b[0m\n",
      "  \u001b[37mDEBUG   \u001b[0m | \u001b[37mLooking for images in '398'\u001b[0m\n",
      "  \u001b[32mINFO    \u001b[0m | \u001b[32m290 file found\u001b[0m\n",
      "  \u001b[37mDEBUG   \u001b[0m | \u001b[37mLooking for images in '458'\u001b[0m\n",
      "  \u001b[32mINFO    \u001b[0m | \u001b[32m3932 file found\u001b[0m\n",
      "  \u001b[37mDEBUG   \u001b[0m | \u001b[37mLooking for images in '467'\u001b[0m\n",
      "  \u001b[32mINFO    \u001b[0m | \u001b[32m6221 file found\u001b[0m\n",
      "  \u001b[37mDEBUG   \u001b[0m | \u001b[37mLooking for images in '592'\u001b[0m\n",
      "  \u001b[32mINFO    \u001b[0m | \u001b[32m341 file found\u001b[0m\n",
      "  \u001b[37mDEBUG   \u001b[0m | \u001b[37mLooking for images in '560'\u001b[0m\n"
     ]
    },
    {
     "name": "stdout",
     "output_type": "stream",
     "text": [
      "\n",
      "\n",
      "\n",
      "\n",
      "\n",
      "\n",
      "\n",
      "\n",
      "\n",
      "\n",
      "\n",
      "\n",
      "\n",
      "\n",
      "\n",
      "\n",
      "\n",
      "\n"
     ]
    },
    {
     "name": "stderr",
     "output_type": "stream",
     "text": [
      "  \u001b[32mINFO    \u001b[0m | \u001b[32m5729 file found\u001b[0m\n",
      "  \u001b[37mDEBUG   \u001b[0m | \u001b[37mLooking for images in '326'\u001b[0m\n",
      "  \u001b[32mINFO    \u001b[0m | \u001b[32m5250 file found\u001b[0m\n",
      "  \u001b[37mDEBUG   \u001b[0m | \u001b[37mLooking for images in '76'\u001b[0m\n",
      "  \u001b[32mINFO    \u001b[0m | \u001b[32m4365 file found\u001b[0m\n",
      "  \u001b[37mDEBUG   \u001b[0m | \u001b[37mLooking for images in '587'\u001b[0m\n",
      "  \u001b[32mINFO    \u001b[0m | \u001b[32m6660 file found\u001b[0m\n",
      "  \u001b[37mDEBUG   \u001b[0m | \u001b[37mLooking for images in '422'\u001b[0m\n",
      "  \u001b[32mINFO    \u001b[0m | \u001b[32m7558 file found\u001b[0m\n",
      "  \u001b[37mDEBUG   \u001b[0m | \u001b[37mLooking for images in '610'\u001b[0m\n",
      "  \u001b[32mINFO    \u001b[0m | \u001b[32m3530 file found\u001b[0m\n",
      "  \u001b[37mDEBUG   \u001b[0m | \u001b[37mLooking for images in '325'\u001b[0m\n",
      "  \u001b[32mINFO    \u001b[0m | \u001b[32m5057 file found\u001b[0m\n"
     ]
    },
    {
     "name": "stdout",
     "output_type": "stream",
     "text": [
      "\n",
      "\n",
      "\n",
      "\n",
      "\n",
      "\n",
      "\n",
      "\n",
      "\n",
      "\n",
      "\n",
      "\n",
      "\n"
     ]
    },
    {
     "name": "stderr",
     "output_type": "stream",
     "text": [
      "  \u001b[37mDEBUG   \u001b[0m | \u001b[37mLooking for images in '510'\u001b[0m\n",
      "  \u001b[32mINFO    \u001b[0m | \u001b[32m4658 file found\u001b[0m\n",
      "  \u001b[37mDEBUG   \u001b[0m | \u001b[37mLooking for images in '242'\u001b[0m\n",
      "  \u001b[32mINFO    \u001b[0m | \u001b[32m1145 file found\u001b[0m\n",
      "  \u001b[37mDEBUG   \u001b[0m | \u001b[37mLooking for images in '169'\u001b[0m\n",
      "  \u001b[32mINFO    \u001b[0m | \u001b[32m14566 file found\u001b[0m\n",
      "  \u001b[37mDEBUG   \u001b[0m | \u001b[37mLooking for images in '388'\u001b[0m\n",
      "  \u001b[32mINFO    \u001b[0m | \u001b[32m3450 file found\u001b[0m\n",
      "  \u001b[37mDEBUG   \u001b[0m | \u001b[37mLooking for images in '52'\u001b[0m\n",
      "  \u001b[32mINFO    \u001b[0m | \u001b[32m4201 file found\u001b[0m\n",
      "  \u001b[37mDEBUG   \u001b[0m | \u001b[37mLooking for images in '480'\u001b[0m\n",
      "  \u001b[32mINFO    \u001b[0m | \u001b[32m2888 file found\u001b[0m\n",
      "  \u001b[37mDEBUG   \u001b[0m | \u001b[37mLooking for images in '611'\u001b[0m\n",
      "  \u001b[32mINFO    \u001b[0m | \u001b[32m280 file found\u001b[0m\n",
      "  \u001b[37mDEBUG   \u001b[0m | \u001b[37mLooking for images in '540'\u001b[0m\n"
     ]
    },
    {
     "name": "stdout",
     "output_type": "stream",
     "text": [
      "\n",
      "\n",
      "\n",
      "\n",
      "\n",
      "\n",
      "\n",
      "\n",
      "\n",
      "\n",
      "\n",
      "\n",
      "\n",
      "\n",
      "\n"
     ]
    },
    {
     "name": "stderr",
     "output_type": "stream",
     "text": [
      "  \u001b[32mINFO    \u001b[0m | \u001b[32m2643 file found\u001b[0m\n",
      "  \u001b[37mDEBUG   \u001b[0m | \u001b[37mLooking for images in '526'\u001b[0m\n",
      "  \u001b[32mINFO    \u001b[0m | \u001b[32m5315 file found\u001b[0m\n",
      "  \u001b[37mDEBUG   \u001b[0m | \u001b[37mLooking for images in '82'\u001b[0m\n",
      "  \u001b[32mINFO    \u001b[0m | \u001b[32m5004 file found\u001b[0m\n",
      "  \u001b[37mDEBUG   \u001b[0m | \u001b[37mLooking for images in '517'\u001b[0m\n",
      "  \u001b[32mINFO    \u001b[0m | \u001b[32m4906 file found\u001b[0m\n",
      "  \u001b[37mDEBUG   \u001b[0m | \u001b[37mLooking for images in '631'\u001b[0m\n",
      "  \u001b[32mINFO    \u001b[0m | \u001b[32m4761 file found\u001b[0m\n",
      "  \u001b[37mDEBUG   \u001b[0m | \u001b[37mLooking for images in '85'\u001b[0m\n",
      "  \u001b[32mINFO    \u001b[0m | \u001b[32m5095 file found\u001b[0m\n",
      "  \u001b[37mDEBUG   \u001b[0m | \u001b[37mLooking for images in '237'\u001b[0m\n",
      "  \u001b[32mINFO    \u001b[0m | \u001b[32m5985 file found\u001b[0m\n",
      "  \u001b[37mDEBUG   \u001b[0m | \u001b[37mLooking for images in '531'\u001b[0m\n"
     ]
    },
    {
     "name": "stdout",
     "output_type": "stream",
     "text": [
      "\n",
      "\n",
      "\n",
      "\n",
      "\n",
      "\n",
      "\n",
      "\n",
      "\n",
      "\n",
      "\n",
      "\n",
      "\n",
      "\n"
     ]
    },
    {
     "name": "stderr",
     "output_type": "stream",
     "text": [
      "  \u001b[32mINFO    \u001b[0m | \u001b[32m10083 file found\u001b[0m\n",
      "  \u001b[37mDEBUG   \u001b[0m | \u001b[37mLooking for images in '470'\u001b[0m\n",
      "  \u001b[32mINFO    \u001b[0m | \u001b[32m4701 file found\u001b[0m\n",
      "  \u001b[37mDEBUG   \u001b[0m | \u001b[37mLooking for images in '78'\u001b[0m\n",
      "  \u001b[32mINFO    \u001b[0m | \u001b[32m3519 file found\u001b[0m\n",
      "  \u001b[37mDEBUG   \u001b[0m | \u001b[37mLooking for images in '77'\u001b[0m\n",
      "  \u001b[32mINFO    \u001b[0m | \u001b[32m923 file found\u001b[0m\n",
      "  \u001b[37mDEBUG   \u001b[0m | \u001b[37mLooking for images in '499'\u001b[0m\n",
      "  \u001b[32mINFO    \u001b[0m | \u001b[32m10829 file found\u001b[0m\n",
      "  \u001b[37mDEBUG   \u001b[0m | \u001b[37mLooking for images in '19'\u001b[0m\n",
      "  \u001b[32mINFO    \u001b[0m | \u001b[32m5034 file found\u001b[0m\n",
      "  \u001b[37mDEBUG   \u001b[0m | \u001b[37mLooking for images in '289'\u001b[0m\n",
      "  \u001b[32mINFO    \u001b[0m | \u001b[32m302 file found\u001b[0m\n",
      "  \u001b[37mDEBUG   \u001b[0m | \u001b[37mLooking for images in '448'\u001b[0m\n",
      "  \u001b[32mINFO    \u001b[0m | \u001b[32m4619 file found\u001b[0m\n"
     ]
    },
    {
     "name": "stdout",
     "output_type": "stream",
     "text": [
      "\n",
      "\n",
      "\n",
      "\n",
      "\n",
      "\n",
      "\n",
      "\n",
      "\n",
      "\n",
      "\n",
      "\n",
      "\n",
      "\n",
      "\n"
     ]
    },
    {
     "name": "stderr",
     "output_type": "stream",
     "text": [
      "  \u001b[37mDEBUG   \u001b[0m | \u001b[37mLooking for images in '312'\u001b[0m\n",
      "  \u001b[32mINFO    \u001b[0m | \u001b[32m467 file found\u001b[0m\n",
      "  \u001b[37mDEBUG   \u001b[0m | \u001b[37mLooking for images in '303'\u001b[0m\n",
      "  \u001b[32mINFO    \u001b[0m | \u001b[32m5976 file found\u001b[0m\n",
      "  \u001b[37mDEBUG   \u001b[0m | \u001b[37mLooking for images in '428'\u001b[0m\n",
      "  \u001b[32mINFO    \u001b[0m | \u001b[32m4630 file found\u001b[0m\n",
      "  \u001b[37mDEBUG   \u001b[0m | \u001b[37mLooking for images in '96'\u001b[0m\n",
      "  \u001b[32mINFO    \u001b[0m | \u001b[32m625 file found\u001b[0m\n",
      "  \u001b[37mDEBUG   \u001b[0m | \u001b[37mLooking for images in '438'\u001b[0m\n",
      "  \u001b[32mINFO    \u001b[0m | \u001b[32m273 file found\u001b[0m\n",
      "  \u001b[37mDEBUG   \u001b[0m | \u001b[37mLooking for images in '115'\u001b[0m\n",
      "  \u001b[32mINFO    \u001b[0m | \u001b[32m1247 file found\u001b[0m\n",
      "  \u001b[37mDEBUG   \u001b[0m | \u001b[37mLooking for images in '456'\u001b[0m\n",
      "  \u001b[32mINFO    \u001b[0m | \u001b[32m2946 file found\u001b[0m\n",
      "  \u001b[37mDEBUG   \u001b[0m | \u001b[37mLooking for images in '239'\u001b[0m\n",
      "  \u001b[32mINFO    \u001b[0m | \u001b[32m2387 file found\u001b[0m\n",
      "  \u001b[37mDEBUG   \u001b[0m | \u001b[37mLooking for images in '389'\u001b[0m\n",
      "  \u001b[32mINFO    \u001b[0m | \u001b[32m5314 file found\u001b[0m\n",
      "  \u001b[37mDEBUG   \u001b[0m | \u001b[37mLooking for images in '403'\u001b[0m\n",
      "  \u001b[32mINFO    \u001b[0m | \u001b[32m5842 file found\u001b[0m\n",
      "  \u001b[37mDEBUG   \u001b[0m | \u001b[37mLooking for images in '533'\u001b[0m\n",
      "  \u001b[32mINFO    \u001b[0m | \u001b[32m1611 file found\u001b[0m\n",
      "  \u001b[37mDEBUG   \u001b[0m | \u001b[37mLooking for images in '215'\u001b[0m\n"
     ]
    },
    {
     "name": "stdout",
     "output_type": "stream",
     "text": [
      "\n",
      "\n",
      "\n",
      "\n",
      "\n",
      "\n",
      "\n",
      "\n",
      "\n",
      "\n",
      "\n",
      "\n",
      "\n",
      "\n",
      "\n",
      "\n",
      "\n",
      "\n",
      "\n",
      "\n",
      "\n",
      "\n",
      "\n"
     ]
    },
    {
     "name": "stderr",
     "output_type": "stream",
     "text": [
      "  \u001b[32mINFO    \u001b[0m | \u001b[32m324 file found\u001b[0m\n",
      "  \u001b[37mDEBUG   \u001b[0m | \u001b[37mLooking for images in '123'\u001b[0m\n",
      "  \u001b[32mINFO    \u001b[0m | \u001b[32m2270 file found\u001b[0m\n",
      "  \u001b[37mDEBUG   \u001b[0m | \u001b[37mLooking for images in '206'\u001b[0m\n",
      "  \u001b[32mINFO    \u001b[0m | \u001b[32m7654 file found\u001b[0m\n",
      "  \u001b[37mDEBUG   \u001b[0m | \u001b[37mLooking for images in '267'\u001b[0m\n",
      "  \u001b[32mINFO    \u001b[0m | \u001b[32m8242 file found\u001b[0m\n",
      "  \u001b[37mDEBUG   \u001b[0m | \u001b[37mLooking for images in '630'\u001b[0m\n",
      "  \u001b[32mINFO    \u001b[0m | \u001b[32m5585 file found\u001b[0m\n",
      "  \u001b[37mDEBUG   \u001b[0m | \u001b[37mLooking for images in '436'\u001b[0m\n",
      "  \u001b[32mINFO    \u001b[0m | \u001b[32m5236 file found\u001b[0m\n",
      "  \u001b[37mDEBUG   \u001b[0m | \u001b[37mLooking for images in '365'\u001b[0m\n",
      "  \u001b[32mINFO    \u001b[0m | \u001b[32m338 file found\u001b[0m\n",
      "  \u001b[37mDEBUG   \u001b[0m | \u001b[37mLooking for images in '29'\u001b[0m\n"
     ]
    },
    {
     "name": "stdout",
     "output_type": "stream",
     "text": [
      "\n",
      "\n",
      "\n",
      "\n",
      "\n",
      "\n",
      "\n",
      "\n",
      "\n",
      "\n",
      "\n",
      "\n",
      "\n",
      "\n"
     ]
    },
    {
     "name": "stderr",
     "output_type": "stream",
     "text": [
      "  \u001b[32mINFO    \u001b[0m | \u001b[32m3026 file found\u001b[0m\n",
      "  \u001b[37mDEBUG   \u001b[0m | \u001b[37mLooking for images in '1'\u001b[0m\n",
      "  \u001b[32mINFO    \u001b[0m | \u001b[32m6442 file found\u001b[0m\n",
      "  \u001b[37mDEBUG   \u001b[0m | \u001b[37mLooking for images in '348'\u001b[0m\n",
      "  \u001b[32mINFO    \u001b[0m | \u001b[32m1527 file found\u001b[0m\n",
      "  \u001b[37mDEBUG   \u001b[0m | \u001b[37mLooking for images in '273'\u001b[0m\n",
      "  \u001b[32mINFO    \u001b[0m | \u001b[32m4661 file found\u001b[0m\n",
      "  \u001b[37mDEBUG   \u001b[0m | \u001b[37mLooking for images in '24'\u001b[0m\n",
      "  \u001b[32mINFO    \u001b[0m | \u001b[32m355 file found\u001b[0m\n",
      "  \u001b[37mDEBUG   \u001b[0m | \u001b[37mLooking for images in '238'\u001b[0m\n",
      "  \u001b[32mINFO    \u001b[0m | \u001b[32m1432 file found\u001b[0m\n",
      "  \u001b[37mDEBUG   \u001b[0m | \u001b[37mLooking for images in '613'\u001b[0m\n",
      "  \u001b[32mINFO    \u001b[0m | \u001b[32m4480 file found\u001b[0m\n",
      "  \u001b[37mDEBUG   \u001b[0m | \u001b[37mLooking for images in '189'\u001b[0m\n",
      "  \u001b[32mINFO    \u001b[0m | \u001b[32m540 file found\u001b[0m\n",
      "  \u001b[37mDEBUG   \u001b[0m | \u001b[37mLooking for images in '144'\u001b[0m\n",
      "  \u001b[32mINFO    \u001b[0m | \u001b[32m3158 file found\u001b[0m\n",
      "  \u001b[37mDEBUG   \u001b[0m | \u001b[37mLooking for images in '580'\u001b[0m\n",
      "  \u001b[32mINFO    \u001b[0m | \u001b[32m5881 file found\u001b[0m\n",
      "  \u001b[37mDEBUG   \u001b[0m | \u001b[37mLooking for images in '573'\u001b[0m\n"
     ]
    },
    {
     "name": "stdout",
     "output_type": "stream",
     "text": [
      "\n",
      "\n",
      "\n",
      "\n",
      "\n",
      "\n",
      "\n",
      "\n",
      "\n",
      "\n",
      "\n",
      "\n",
      "\n",
      "\n",
      "\n",
      "\n",
      "\n",
      "\n",
      "\n",
      "\n"
     ]
    },
    {
     "name": "stderr",
     "output_type": "stream",
     "text": [
      "  \u001b[32mINFO    \u001b[0m | \u001b[32m4964 file found\u001b[0m\n",
      "  \u001b[37mDEBUG   \u001b[0m | \u001b[37mLooking for images in '423'\u001b[0m\n",
      "  \u001b[32mINFO    \u001b[0m | \u001b[32m656 file found\u001b[0m\n",
      "  \u001b[37mDEBUG   \u001b[0m | \u001b[37mLooking for images in '463'\u001b[0m\n",
      "  \u001b[32mINFO    \u001b[0m | \u001b[32m4305 file found\u001b[0m\n",
      "  \u001b[37mDEBUG   \u001b[0m | \u001b[37mLooking for images in '414'\u001b[0m\n",
      "  \u001b[32mINFO    \u001b[0m | \u001b[32m4233 file found\u001b[0m\n",
      "  \u001b[37mDEBUG   \u001b[0m | \u001b[37mLooking for images in '61'\u001b[0m\n",
      "  \u001b[32mINFO    \u001b[0m | \u001b[32m5972 file found\u001b[0m\n",
      "  \u001b[37mDEBUG   \u001b[0m | \u001b[37mLooking for images in '270'\u001b[0m\n",
      "  \u001b[32mINFO    \u001b[0m | \u001b[32m410 file found\u001b[0m\n",
      "  \u001b[37mDEBUG   \u001b[0m | \u001b[37mLooking for images in '506'\u001b[0m\n",
      "  \u001b[32mINFO    \u001b[0m | \u001b[32m3262 file found\u001b[0m\n",
      "  \u001b[37mDEBUG   \u001b[0m | \u001b[37mLooking for images in '638'\u001b[0m\n",
      "  \u001b[32mINFO    \u001b[0m | \u001b[32m6415 file found\u001b[0m\n",
      "  \u001b[37mDEBUG   \u001b[0m | \u001b[37mLooking for images in '56'\u001b[0m\n",
      "  \u001b[32mINFO    \u001b[0m | \u001b[32m8197 file found\u001b[0m\n",
      "  \u001b[37mDEBUG   \u001b[0m | \u001b[37mLooking for images in '297'\u001b[0m\n"
     ]
    },
    {
     "name": "stdout",
     "output_type": "stream",
     "text": [
      "\n",
      "\n",
      "\n",
      "\n",
      "\n",
      "\n",
      "\n",
      "\n",
      "\n",
      "\n",
      "\n",
      "\n",
      "\n",
      "\n",
      "\n",
      "\n",
      "\n",
      "\n"
     ]
    },
    {
     "name": "stderr",
     "output_type": "stream",
     "text": [
      "  \u001b[32mINFO    \u001b[0m | \u001b[32m3662 file found\u001b[0m\n",
      "  \u001b[37mDEBUG   \u001b[0m | \u001b[37mLooking for images in '536'\u001b[0m\n",
      "  \u001b[32mINFO    \u001b[0m | \u001b[32m4393 file found\u001b[0m\n",
      "  \u001b[37mDEBUG   \u001b[0m | \u001b[37mLooking for images in '90'\u001b[0m\n",
      "  \u001b[32mINFO    \u001b[0m | \u001b[32m7121 file found\u001b[0m\n",
      "  \u001b[37mDEBUG   \u001b[0m | \u001b[37mLooking for images in '68'\u001b[0m\n",
      "  \u001b[32mINFO    \u001b[0m | \u001b[32m4734 file found\u001b[0m\n",
      "  \u001b[37mDEBUG   \u001b[0m | \u001b[37mLooking for images in '532'\u001b[0m\n",
      "  \u001b[32mINFO    \u001b[0m | \u001b[32m7192 file found\u001b[0m\n",
      "  \u001b[37mDEBUG   \u001b[0m | \u001b[37mLooking for images in '328'\u001b[0m\n",
      "  \u001b[32mINFO    \u001b[0m | \u001b[32m3187 file found\u001b[0m\n",
      "  \u001b[37mDEBUG   \u001b[0m | \u001b[37mLooking for images in '420'\u001b[0m\n",
      "  \u001b[32mINFO    \u001b[0m | \u001b[32m346 file found\u001b[0m\n",
      "  \u001b[37mDEBUG   \u001b[0m | \u001b[37mLooking for images in '567'\u001b[0m\n"
     ]
    },
    {
     "name": "stdout",
     "output_type": "stream",
     "text": [
      "\n",
      "\n",
      "\n",
      "\n",
      "\n",
      "\n",
      "\n",
      "\n",
      "\n",
      "\n",
      "\n",
      "\n",
      "\n",
      "\n"
     ]
    },
    {
     "name": "stderr",
     "output_type": "stream",
     "text": [
      "  \u001b[32mINFO    \u001b[0m | \u001b[32m8548 file found\u001b[0m\n",
      "  \u001b[37mDEBUG   \u001b[0m | \u001b[37mLooking for images in '60'\u001b[0m\n",
      "  \u001b[32mINFO    \u001b[0m | \u001b[32m5953 file found\u001b[0m\n",
      "  \u001b[37mDEBUG   \u001b[0m | \u001b[37mLooking for images in '193'\u001b[0m\n",
      "  \u001b[32mINFO    \u001b[0m | \u001b[32m4688 file found\u001b[0m\n",
      "  \u001b[37mDEBUG   \u001b[0m | \u001b[37mLooking for images in '457'\u001b[0m\n",
      "  \u001b[32mINFO    \u001b[0m | \u001b[32m7550 file found\u001b[0m\n",
      "  \u001b[37mDEBUG   \u001b[0m | \u001b[37mLooking for images in '637'\u001b[0m\n",
      "  \u001b[32mINFO    \u001b[0m | \u001b[32m3707 file found\u001b[0m\n",
      "  \u001b[37mDEBUG   \u001b[0m | \u001b[37mLooking for images in '153'\u001b[0m\n",
      "  \u001b[32mINFO    \u001b[0m | \u001b[32m9353 file found\u001b[0m\n",
      "  \u001b[37mDEBUG   \u001b[0m | \u001b[37mLooking for images in '547'\u001b[0m\n"
     ]
    },
    {
     "name": "stdout",
     "output_type": "stream",
     "text": [
      "\n",
      "\n",
      "\n",
      "\n",
      "\n",
      "\n",
      "\n",
      "\n",
      "\n",
      "\n",
      "\n",
      "\n"
     ]
    },
    {
     "name": "stderr",
     "output_type": "stream",
     "text": [
      "  \u001b[32mINFO    \u001b[0m | \u001b[32m2501 file found\u001b[0m\n",
      "  \u001b[37mDEBUG   \u001b[0m | \u001b[37mLooking for images in '408'\u001b[0m\n",
      "  \u001b[32mINFO    \u001b[0m | \u001b[32m8527 file found\u001b[0m\n",
      "  \u001b[37mDEBUG   \u001b[0m | \u001b[37mLooking for images in '572'\u001b[0m\n",
      "  \u001b[32mINFO    \u001b[0m | \u001b[32m4099 file found\u001b[0m\n",
      "  \u001b[37mDEBUG   \u001b[0m | \u001b[37mLooking for images in '136'\u001b[0m\n",
      "  \u001b[32mINFO    \u001b[0m | \u001b[32m5027 file found\u001b[0m\n",
      "  \u001b[37mDEBUG   \u001b[0m | \u001b[37mLooking for images in '15'\u001b[0m\n",
      "  \u001b[32mINFO    \u001b[0m | \u001b[32m5278 file found\u001b[0m\n",
      "  \u001b[37mDEBUG   \u001b[0m | \u001b[37mLooking for images in '65'\u001b[0m\n",
      "  \u001b[32mINFO    \u001b[0m | \u001b[32m2512 file found\u001b[0m\n",
      "  \u001b[37mDEBUG   \u001b[0m | \u001b[37mLooking for images in '641'\u001b[0m\n",
      "  \u001b[32mINFO    \u001b[0m | \u001b[32m6726 file found\u001b[0m\n",
      "  \u001b[37mDEBUG   \u001b[0m | \u001b[37mLooking for images in '216'\u001b[0m\n"
     ]
    },
    {
     "name": "stdout",
     "output_type": "stream",
     "text": [
      "\n",
      "\n",
      "\n",
      "\n",
      "\n",
      "\n",
      "\n",
      "\n",
      "\n",
      "\n",
      "\n",
      "\n",
      "\n",
      "\n"
     ]
    },
    {
     "name": "stderr",
     "output_type": "stream",
     "text": [
      "  \u001b[32mINFO    \u001b[0m | \u001b[32m3064 file found\u001b[0m\n",
      "  \u001b[37mDEBUG   \u001b[0m | \u001b[37mLooking for images in '358'\u001b[0m\n",
      "  \u001b[32mINFO    \u001b[0m | \u001b[32m3528 file found\u001b[0m\n",
      "  \u001b[37mDEBUG   \u001b[0m | \u001b[37mLooking for images in '579'\u001b[0m\n",
      "  \u001b[32mINFO    \u001b[0m | \u001b[32m6725 file found\u001b[0m\n",
      "  \u001b[37mDEBUG   \u001b[0m | \u001b[37mLooking for images in '518'\u001b[0m\n",
      "  \u001b[32mINFO    \u001b[0m | \u001b[32m6025 file found\u001b[0m\n",
      "  \u001b[37mDEBUG   \u001b[0m | \u001b[37mLooking for images in '248'\u001b[0m\n",
      "  \u001b[32mINFO    \u001b[0m | \u001b[32m5234 file found\u001b[0m\n",
      "  \u001b[37mDEBUG   \u001b[0m | \u001b[37mLooking for images in '3'\u001b[0m\n",
      "  \u001b[32mINFO    \u001b[0m | \u001b[32m325 file found\u001b[0m\n",
      "  \u001b[37mDEBUG   \u001b[0m | \u001b[37mLooking for images in '498'\u001b[0m\n",
      "  \u001b[32mINFO    \u001b[0m | \u001b[32m285 file found\u001b[0m\n",
      "  \u001b[37mDEBUG   \u001b[0m | \u001b[37mLooking for images in '40'\u001b[0m\n",
      "  \u001b[32mINFO    \u001b[0m | \u001b[32m6261 file found\u001b[0m\n",
      "  \u001b[37mDEBUG   \u001b[0m | \u001b[37mLooking for images in '92'\u001b[0m\n",
      "  \u001b[32mINFO    \u001b[0m | \u001b[32m8177 file found\u001b[0m\n"
     ]
    },
    {
     "name": "stdout",
     "output_type": "stream",
     "text": [
      "\n",
      "\n",
      "\n",
      "\n",
      "\n",
      "\n",
      "\n",
      "\n",
      "\n",
      "\n",
      "\n",
      "\n",
      "\n",
      "\n",
      "\n",
      "\n",
      "\n"
     ]
    },
    {
     "name": "stderr",
     "output_type": "stream",
     "text": [
      "  \u001b[37mDEBUG   \u001b[0m | \u001b[37mLooking for images in '598'\u001b[0m\n",
      "  \u001b[32mINFO    \u001b[0m | \u001b[32m2112 file found\u001b[0m\n",
      "  \u001b[37mDEBUG   \u001b[0m | \u001b[37mLooking for images in '245'\u001b[0m\n",
      "  \u001b[32mINFO    \u001b[0m | \u001b[32m333 file found\u001b[0m\n",
      "  \u001b[37mDEBUG   \u001b[0m | \u001b[37mLooking for images in '601'\u001b[0m\n",
      "  \u001b[32mINFO    \u001b[0m | \u001b[32m2777 file found\u001b[0m\n",
      "  \u001b[37mDEBUG   \u001b[0m | \u001b[37mLooking for images in '639'\u001b[0m\n",
      "  \u001b[32mINFO    \u001b[0m | \u001b[32m6005 file found\u001b[0m\n",
      "  \u001b[37mDEBUG   \u001b[0m | \u001b[37mLooking for images in '282'\u001b[0m\n",
      "  \u001b[32mINFO    \u001b[0m | \u001b[32m1893 file found\u001b[0m\n",
      "  \u001b[37mDEBUG   \u001b[0m | \u001b[37mLooking for images in '285'\u001b[0m\n",
      "  \u001b[32mINFO    \u001b[0m | \u001b[32m3162 file found\u001b[0m\n",
      "  \u001b[37mDEBUG   \u001b[0m | \u001b[37mLooking for images in '562'\u001b[0m\n",
      "  \u001b[32mINFO    \u001b[0m | \u001b[32m2867 file found\u001b[0m\n",
      "  \u001b[37mDEBUG   \u001b[0m | \u001b[37mLooking for images in '119'\u001b[0m\n",
      "  \u001b[32mINFO    \u001b[0m | \u001b[32m8341 file found\u001b[0m\n",
      "  \u001b[37mDEBUG   \u001b[0m | \u001b[37mLooking for images in '129'\u001b[0m\n",
      "  \u001b[32mINFO    \u001b[0m | \u001b[32m4530 file found\u001b[0m\n",
      "  \u001b[37mDEBUG   \u001b[0m | \u001b[37mLooking for images in '120'\u001b[0m\n"
     ]
    },
    {
     "name": "stdout",
     "output_type": "stream",
     "text": [
      "\n",
      "\n",
      "\n",
      "\n",
      "\n",
      "\n",
      "\n",
      "\n",
      "\n",
      "\n",
      "\n",
      "\n",
      "\n",
      "\n",
      "\n",
      "\n",
      "\n",
      "\n",
      "\n"
     ]
    },
    {
     "name": "stderr",
     "output_type": "stream",
     "text": [
      "  \u001b[32mINFO    \u001b[0m | \u001b[32m3433 file found\u001b[0m\n",
      "  \u001b[37mDEBUG   \u001b[0m | \u001b[37mLooking for images in '411'\u001b[0m\n",
      "  \u001b[32mINFO    \u001b[0m | \u001b[32m5107 file found\u001b[0m\n",
      "  \u001b[37mDEBUG   \u001b[0m | \u001b[37mLooking for images in '218'\u001b[0m\n",
      "  \u001b[32mINFO    \u001b[0m | \u001b[32m2823 file found\u001b[0m\n",
      "  \u001b[37mDEBUG   \u001b[0m | \u001b[37mLooking for images in '175'\u001b[0m\n",
      "  \u001b[32mINFO    \u001b[0m | \u001b[32m6611 file found\u001b[0m\n",
      "  \u001b[37mDEBUG   \u001b[0m | \u001b[37mLooking for images in '603'\u001b[0m\n",
      "  \u001b[32mINFO    \u001b[0m | \u001b[32m5458 file found\u001b[0m\n",
      "  \u001b[37mDEBUG   \u001b[0m | \u001b[37mLooking for images in '550'\u001b[0m\n",
      "  \u001b[32mINFO    \u001b[0m | \u001b[32m477 file found\u001b[0m\n",
      "  \u001b[37mDEBUG   \u001b[0m | \u001b[37mLooking for images in '482'\u001b[0m\n",
      "  \u001b[32mINFO    \u001b[0m | \u001b[32m6667 file found\u001b[0m\n"
     ]
    },
    {
     "name": "stdout",
     "output_type": "stream",
     "text": [
      "\n",
      "\n",
      "\n",
      "\n",
      "\n",
      "\n",
      "\n",
      "\n",
      "\n",
      "\n",
      "\n",
      "\n",
      "\n"
     ]
    },
    {
     "name": "stderr",
     "output_type": "stream",
     "text": [
      "  \u001b[37mDEBUG   \u001b[0m | \u001b[37mLooking for images in '8'\u001b[0m\n",
      "  \u001b[32mINFO    \u001b[0m | \u001b[32m1569 file found\u001b[0m\n",
      "  \u001b[37mDEBUG   \u001b[0m | \u001b[37mLooking for images in '392'\u001b[0m\n",
      "  \u001b[32mINFO    \u001b[0m | \u001b[32m3602 file found\u001b[0m\n",
      "  \u001b[37mDEBUG   \u001b[0m | \u001b[37mLooking for images in '346'\u001b[0m\n",
      "  \u001b[32mINFO    \u001b[0m | \u001b[32m2841 file found\u001b[0m\n",
      "  \u001b[37mDEBUG   \u001b[0m | \u001b[37mLooking for images in '21'\u001b[0m\n",
      "  \u001b[32mINFO    \u001b[0m | \u001b[32m3297 file found\u001b[0m\n",
      "  \u001b[37mDEBUG   \u001b[0m | \u001b[37mLooking for images in '121'\u001b[0m\n",
      "  \u001b[32mINFO    \u001b[0m | \u001b[32m394 file found\u001b[0m\n",
      "  \u001b[37mDEBUG   \u001b[0m | \u001b[37mLooking for images in '202'\u001b[0m\n",
      "  \u001b[32mINFO    \u001b[0m | \u001b[32m5576 file found\u001b[0m\n",
      "  \u001b[37mDEBUG   \u001b[0m | \u001b[37mLooking for images in '563'\u001b[0m\n",
      "  \u001b[32mINFO    \u001b[0m | \u001b[32m4496 file found\u001b[0m\n",
      "  \u001b[37mDEBUG   \u001b[0m | \u001b[37mLooking for images in '478'\u001b[0m\n",
      "  \u001b[32mINFO    \u001b[0m | \u001b[32m5475 file found\u001b[0m\n",
      "  \u001b[37mDEBUG   \u001b[0m | \u001b[37mLooking for images in '347'\u001b[0m\n",
      "  \u001b[32mINFO    \u001b[0m | \u001b[32m602 file found\u001b[0m\n",
      "  \u001b[37mDEBUG   \u001b[0m | \u001b[37mLooking for images in '219'\u001b[0m\n"
     ]
    },
    {
     "name": "stdout",
     "output_type": "stream",
     "text": [
      "\n",
      "\n",
      "\n",
      "\n",
      "\n",
      "\n",
      "\n",
      "\n",
      "\n",
      "\n",
      "\n",
      "\n",
      "\n",
      "\n",
      "\n",
      "\n",
      "\n",
      "\n",
      "\n"
     ]
    },
    {
     "name": "stderr",
     "output_type": "stream",
     "text": [
      "  \u001b[32mINFO    \u001b[0m | \u001b[32m2704 file found\u001b[0m\n",
      "  \u001b[37mDEBUG   \u001b[0m | \u001b[37mLooking for images in '435'\u001b[0m\n",
      "  \u001b[32mINFO    \u001b[0m | \u001b[32m3727 file found\u001b[0m\n",
      "  \u001b[37mDEBUG   \u001b[0m | \u001b[37mLooking for images in '396'\u001b[0m\n",
      "  \u001b[32mINFO    \u001b[0m | \u001b[32m6368 file found\u001b[0m\n",
      "  \u001b[37mDEBUG   \u001b[0m | \u001b[37mLooking for images in '9'\u001b[0m\n",
      "  \u001b[32mINFO    \u001b[0m | \u001b[32m1961 file found\u001b[0m\n",
      "  \u001b[37mDEBUG   \u001b[0m | \u001b[37mLooking for images in '397'\u001b[0m\n",
      "  \u001b[32mINFO    \u001b[0m | \u001b[32m906 file found\u001b[0m\n",
      "  \u001b[37mDEBUG   \u001b[0m | \u001b[37mLooking for images in '138'\u001b[0m\n",
      "  \u001b[32mINFO    \u001b[0m | \u001b[32m6003 file found\u001b[0m\n",
      "  \u001b[37mDEBUG   \u001b[0m | \u001b[37mLooking for images in '167'\u001b[0m\n",
      "  \u001b[32mINFO    \u001b[0m | \u001b[32m280 file found\u001b[0m\n",
      "  \u001b[37mDEBUG   \u001b[0m | \u001b[37mLooking for images in '32'\u001b[0m\n",
      "  \u001b[32mINFO    \u001b[0m | \u001b[32m274 file found\u001b[0m\n",
      "  \u001b[37mDEBUG   \u001b[0m | \u001b[37mLooking for images in '402'\u001b[0m\n",
      "  \u001b[32mINFO    \u001b[0m | \u001b[32m5398 file found\u001b[0m\n",
      "  \u001b[37mDEBUG   \u001b[0m | \u001b[37mLooking for images in '117'\u001b[0m\n",
      "  \u001b[32mINFO    \u001b[0m | \u001b[32m6261 file found\u001b[0m\n",
      "  \u001b[37mDEBUG   \u001b[0m | \u001b[37mLooking for images in '135'\u001b[0m\n"
     ]
    },
    {
     "name": "stdout",
     "output_type": "stream",
     "text": [
      "\n",
      "\n",
      "\n",
      "\n",
      "\n",
      "\n",
      "\n",
      "\n",
      "\n",
      "\n",
      "\n",
      "\n",
      "\n",
      "\n",
      "\n",
      "\n",
      "\n",
      "\n",
      "\n",
      "\n"
     ]
    },
    {
     "name": "stderr",
     "output_type": "stream",
     "text": [
      "  \u001b[32mINFO    \u001b[0m | \u001b[32m633 file found\u001b[0m\n",
      "  \u001b[37mDEBUG   \u001b[0m | \u001b[37mLooking for images in '209'\u001b[0m\n",
      "  \u001b[32mINFO    \u001b[0m | \u001b[32m294 file found\u001b[0m\n",
      "  \u001b[37mDEBUG   \u001b[0m | \u001b[37mLooking for images in '429'\u001b[0m\n",
      "  \u001b[32mINFO    \u001b[0m | \u001b[32m3950 file found\u001b[0m\n",
      "  \u001b[37mDEBUG   \u001b[0m | \u001b[37mLooking for images in '2'\u001b[0m\n",
      "  \u001b[32mINFO    \u001b[0m | \u001b[32m1305 file found\u001b[0m\n",
      "  \u001b[37mDEBUG   \u001b[0m | \u001b[37mLooking for images in '13'\u001b[0m\n",
      "  \u001b[32mINFO    \u001b[0m | \u001b[32m5005 file found\u001b[0m\n",
      "  \u001b[37mDEBUG   \u001b[0m | \u001b[37mLooking for images in '415'\u001b[0m\n",
      "  \u001b[32mINFO    \u001b[0m | \u001b[32m1830 file found\u001b[0m\n",
      "  \u001b[37mDEBUG   \u001b[0m | \u001b[37mLooking for images in '444'\u001b[0m\n",
      "  \u001b[32mINFO    \u001b[0m | \u001b[32m1556 file found\u001b[0m\n",
      "  \u001b[37mDEBUG   \u001b[0m | \u001b[37mLooking for images in '63'\u001b[0m\n",
      "  \u001b[32mINFO    \u001b[0m | \u001b[32m6821 file found\u001b[0m\n",
      "  \u001b[37mDEBUG   \u001b[0m | \u001b[37mLooking for images in '31'\u001b[0m\n",
      "  \u001b[32mINFO    \u001b[0m | \u001b[32m4473 file found\u001b[0m\n",
      "  \u001b[37mDEBUG   \u001b[0m | \u001b[37mLooking for images in '299'\u001b[0m\n",
      "  \u001b[32mINFO    \u001b[0m | \u001b[32m5379 file found\u001b[0m\n",
      "  \u001b[37mDEBUG   \u001b[0m | \u001b[37mLooking for images in '140'\u001b[0m\n"
     ]
    },
    {
     "name": "stdout",
     "output_type": "stream",
     "text": [
      "\n",
      "\n",
      "\n",
      "\n",
      "\n",
      "\n",
      "\n",
      "\n",
      "\n",
      "\n",
      "\n",
      "\n",
      "\n",
      "\n",
      "\n",
      "\n",
      "\n",
      "\n",
      "\n",
      "\n"
     ]
    },
    {
     "name": "stderr",
     "output_type": "stream",
     "text": [
      "  \u001b[32mINFO    \u001b[0m | \u001b[32m2825 file found\u001b[0m\n",
      "  \u001b[37mDEBUG   \u001b[0m | \u001b[37mLooking for images in '33'\u001b[0m\n",
      "  \u001b[32mINFO    \u001b[0m | \u001b[32m297 file found\u001b[0m\n",
      "  \u001b[37mDEBUG   \u001b[0m | \u001b[37mLooking for images in '210'\u001b[0m\n",
      "  \u001b[32mINFO    \u001b[0m | \u001b[32m1687 file found\u001b[0m\n",
      "  \u001b[37mDEBUG   \u001b[0m | \u001b[37mLooking for images in '291'\u001b[0m\n",
      "  \u001b[32mINFO    \u001b[0m | \u001b[32m5212 file found\u001b[0m\n",
      "  \u001b[37mDEBUG   \u001b[0m | \u001b[37mLooking for images in '114'\u001b[0m\n",
      "  \u001b[32mINFO    \u001b[0m | \u001b[32m6748 file found\u001b[0m\n",
      "  \u001b[37mDEBUG   \u001b[0m | \u001b[37mLooking for images in '317'\u001b[0m\n",
      "  \u001b[32mINFO    \u001b[0m | \u001b[32m5111 file found\u001b[0m\n",
      "  \u001b[37mDEBUG   \u001b[0m | \u001b[37mLooking for images in '107'\u001b[0m\n",
      "  \u001b[32mINFO    \u001b[0m | \u001b[32m8293 file found\u001b[0m\n",
      "  \u001b[37mDEBUG   \u001b[0m | \u001b[37mLooking for images in '527'\u001b[0m\n",
      "  \u001b[32mINFO    \u001b[0m | \u001b[32m770 file found\u001b[0m\n",
      "  \u001b[37mDEBUG   \u001b[0m | \u001b[37mLooking for images in '525'\u001b[0m\n",
      "  \u001b[32mINFO    \u001b[0m | \u001b[32m3206 file found\u001b[0m\n",
      "  \u001b[37mDEBUG   \u001b[0m | \u001b[37mLooking for images in '524'\u001b[0m\n"
     ]
    },
    {
     "name": "stdout",
     "output_type": "stream",
     "text": [
      "\n",
      "\n",
      "\n",
      "\n",
      "\n",
      "\n",
      "\n",
      "\n",
      "\n",
      "\n",
      "\n",
      "\n",
      "\n",
      "\n",
      "\n",
      "\n",
      "\n",
      "\n"
     ]
    },
    {
     "name": "stderr",
     "output_type": "stream",
     "text": [
      "  \u001b[32mINFO    \u001b[0m | \u001b[32m778 file found\u001b[0m\n",
      "  \u001b[37mDEBUG   \u001b[0m | \u001b[37mLooking for images in '640'\u001b[0m\n",
      "  \u001b[32mINFO    \u001b[0m | \u001b[32m2401 file found\u001b[0m\n",
      "  \u001b[37mDEBUG   \u001b[0m | \u001b[37mLooking for images in '81'\u001b[0m\n",
      "  \u001b[32mINFO    \u001b[0m | \u001b[32m10113 file found\u001b[0m\n",
      "  \u001b[37mDEBUG   \u001b[0m | \u001b[37mLooking for images in '577'\u001b[0m\n",
      "  \u001b[32mINFO    \u001b[0m | \u001b[32m6116 file found\u001b[0m\n",
      "  \u001b[37mDEBUG   \u001b[0m | \u001b[37mLooking for images in '186'\u001b[0m\n",
      "  \u001b[32mINFO    \u001b[0m | \u001b[32m3312 file found\u001b[0m\n",
      "  \u001b[37mDEBUG   \u001b[0m | \u001b[37mLooking for images in '110'\u001b[0m\n",
      "  \u001b[32mINFO    \u001b[0m | \u001b[32m7136 file found\u001b[0m\n",
      "  \u001b[37mDEBUG   \u001b[0m | \u001b[37mLooking for images in '588'\u001b[0m\n",
      "  \u001b[32mINFO    \u001b[0m | \u001b[32m5172 file found\u001b[0m\n",
      "  \u001b[37mDEBUG   \u001b[0m | \u001b[37mLooking for images in '314'\u001b[0m\n"
     ]
    },
    {
     "name": "stdout",
     "output_type": "stream",
     "text": [
      "\n",
      "\n",
      "\n",
      "\n",
      "\n",
      "\n",
      "\n",
      "\n",
      "\n",
      "\n",
      "\n",
      "\n",
      "\n",
      "\n"
     ]
    },
    {
     "name": "stderr",
     "output_type": "stream",
     "text": [
      "  \u001b[32mINFO    \u001b[0m | \u001b[32m11215 file found\u001b[0m\n",
      "  \u001b[37mDEBUG   \u001b[0m | \u001b[37mLooking for images in '316'\u001b[0m\n",
      "  \u001b[32mINFO    \u001b[0m | \u001b[32m4033 file found\u001b[0m\n",
      "  \u001b[37mDEBUG   \u001b[0m | \u001b[37mLooking for images in '261'\u001b[0m\n",
      "  \u001b[32mINFO    \u001b[0m | \u001b[32m4055 file found\u001b[0m\n",
      "  \u001b[37mDEBUG   \u001b[0m | \u001b[37mLooking for images in '323'\u001b[0m\n",
      "  \u001b[32mINFO    \u001b[0m | \u001b[32m969 file found\u001b[0m\n",
      "  \u001b[37mDEBUG   \u001b[0m | \u001b[37mLooking for images in '552'\u001b[0m\n",
      "  \u001b[32mINFO    \u001b[0m | \u001b[32m5637 file found\u001b[0m\n",
      "  \u001b[37mDEBUG   \u001b[0m | \u001b[37mLooking for images in '515'\u001b[0m\n",
      "  \u001b[32mINFO    \u001b[0m | \u001b[32m5016 file found\u001b[0m\n",
      "  \u001b[37mDEBUG   \u001b[0m | \u001b[37mLooking for images in '69'\u001b[0m\n",
      "  \u001b[32mINFO    \u001b[0m | \u001b[32m3419 file found\u001b[0m\n",
      "  \u001b[37mDEBUG   \u001b[0m | \u001b[37mLooking for images in '453'\u001b[0m\n",
      "  \u001b[32mINFO    \u001b[0m | \u001b[32m3989 file found\u001b[0m\n",
      "  \u001b[37mDEBUG   \u001b[0m | \u001b[37mLooking for images in '11'\u001b[0m\n"
     ]
    },
    {
     "name": "stdout",
     "output_type": "stream",
     "text": [
      "\n",
      "\n",
      "\n",
      "\n",
      "\n",
      "\n",
      "\n",
      "\n",
      "\n",
      "\n",
      "\n",
      "\n",
      "\n",
      "\n",
      "\n",
      "\n"
     ]
    },
    {
     "name": "stderr",
     "output_type": "stream",
     "text": [
      "  \u001b[32mINFO    \u001b[0m | \u001b[32m3140 file found\u001b[0m\n",
      "  \u001b[37mDEBUG   \u001b[0m | \u001b[37mLooking for images in '179'\u001b[0m\n",
      "  \u001b[32mINFO    \u001b[0m | \u001b[32m7146 file found\u001b[0m\n",
      "  \u001b[37mDEBUG   \u001b[0m | \u001b[37mLooking for images in '133'\u001b[0m\n",
      "  \u001b[32mINFO    \u001b[0m | \u001b[32m4344 file found\u001b[0m\n",
      "  \u001b[37mDEBUG   \u001b[0m | \u001b[37mLooking for images in '623'\u001b[0m\n",
      "  \u001b[32mINFO    \u001b[0m | \u001b[32m3465 file found\u001b[0m\n",
      "  \u001b[37mDEBUG   \u001b[0m | \u001b[37mLooking for images in '66'\u001b[0m\n",
      "  \u001b[32mINFO    \u001b[0m | \u001b[32m3297 file found\u001b[0m\n",
      "  \u001b[37mDEBUG   \u001b[0m | \u001b[37mLooking for images in '400'\u001b[0m\n",
      "  \u001b[32mINFO    \u001b[0m | \u001b[32m2277 file found\u001b[0m\n",
      "  \u001b[37mDEBUG   \u001b[0m | \u001b[37mLooking for images in '157'\u001b[0m\n",
      "  \u001b[32mINFO    \u001b[0m | \u001b[32m288 file found\u001b[0m\n",
      "  \u001b[37mDEBUG   \u001b[0m | \u001b[37mLooking for images in '168'\u001b[0m\n",
      "  \u001b[32mINFO    \u001b[0m | \u001b[32m5732 file found\u001b[0m\n",
      "  \u001b[37mDEBUG   \u001b[0m | \u001b[37mLooking for images in '190'\u001b[0m\n"
     ]
    },
    {
     "name": "stdout",
     "output_type": "stream",
     "text": [
      "\n",
      "\n",
      "\n",
      "\n",
      "\n",
      "\n",
      "\n",
      "\n",
      "\n",
      "\n",
      "\n",
      "\n",
      "\n",
      "\n",
      "\n",
      "\n"
     ]
    },
    {
     "name": "stderr",
     "output_type": "stream",
     "text": [
      "  \u001b[32mINFO    \u001b[0m | \u001b[32m3846 file found\u001b[0m\n",
      "  \u001b[37mDEBUG   \u001b[0m | \u001b[37mLooking for images in '582'\u001b[0m\n",
      "  \u001b[32mINFO    \u001b[0m | \u001b[32m1094 file found\u001b[0m\n",
      "  \u001b[37mDEBUG   \u001b[0m | \u001b[37mLooking for images in '466'\u001b[0m\n",
      "  \u001b[32mINFO    \u001b[0m | \u001b[32m9046 file found\u001b[0m\n",
      "  \u001b[37mDEBUG   \u001b[0m | \u001b[37mLooking for images in '126'\u001b[0m\n",
      "  \u001b[32mINFO    \u001b[0m | \u001b[32m3617 file found\u001b[0m\n",
      "  \u001b[37mDEBUG   \u001b[0m | \u001b[37mLooking for images in '564'\u001b[0m\n",
      "  \u001b[32mINFO    \u001b[0m | \u001b[32m2199 file found\u001b[0m\n",
      "  \u001b[37mDEBUG   \u001b[0m | \u001b[37mLooking for images in '241'\u001b[0m\n",
      "  \u001b[32mINFO    \u001b[0m | \u001b[32m7788 file found\u001b[0m\n",
      "  \u001b[37mDEBUG   \u001b[0m | \u001b[37mLooking for images in '390'\u001b[0m\n",
      "  \u001b[32mINFO    \u001b[0m | \u001b[32m3200 file found\u001b[0m\n",
      "  \u001b[37mDEBUG   \u001b[0m | \u001b[37mLooking for images in '430'\u001b[0m\n",
      "  \u001b[32mINFO    \u001b[0m | \u001b[32m2424 file found\u001b[0m\n",
      "  \u001b[37mDEBUG   \u001b[0m | \u001b[37mLooking for images in '404'\u001b[0m\n"
     ]
    },
    {
     "name": "stdout",
     "output_type": "stream",
     "text": [
      "\n",
      "\n",
      "\n",
      "\n",
      "\n",
      "\n",
      "\n",
      "\n",
      "\n",
      "\n",
      "\n",
      "\n",
      "\n",
      "\n",
      "\n",
      "\n"
     ]
    },
    {
     "name": "stderr",
     "output_type": "stream",
     "text": [
      "  \u001b[32mINFO    \u001b[0m | \u001b[32m289 file found\u001b[0m\n",
      "  \u001b[37mDEBUG   \u001b[0m | \u001b[37mLooking for images in '434'\u001b[0m\n",
      "  \u001b[32mINFO    \u001b[0m | \u001b[32m1137 file found\u001b[0m\n",
      "  \u001b[37mDEBUG   \u001b[0m | \u001b[37mLooking for images in '36'\u001b[0m\n",
      "  \u001b[32mINFO    \u001b[0m | \u001b[32m5176 file found\u001b[0m\n",
      "  \u001b[37mDEBUG   \u001b[0m | \u001b[37mLooking for images in '93'\u001b[0m\n",
      "  \u001b[32mINFO    \u001b[0m | \u001b[32m2906 file found\u001b[0m\n",
      "  \u001b[37mDEBUG   \u001b[0m | \u001b[37mLooking for images in '203'\u001b[0m\n",
      "  \u001b[32mINFO    \u001b[0m | \u001b[32m1922 file found\u001b[0m\n",
      "  \u001b[37mDEBUG   \u001b[0m | \u001b[37mLooking for images in '628'\u001b[0m\n",
      "  \u001b[32mINFO    \u001b[0m | \u001b[32m4386 file found\u001b[0m\n",
      "  \u001b[37mDEBUG   \u001b[0m | \u001b[37mLooking for images in '446'\u001b[0m\n",
      "  \u001b[32mINFO    \u001b[0m | \u001b[32m2708 file found\u001b[0m\n",
      "  \u001b[37mDEBUG   \u001b[0m | \u001b[37mLooking for images in '553'\u001b[0m\n",
      "  \u001b[32mINFO    \u001b[0m | \u001b[32m4392 file found\u001b[0m\n",
      "  \u001b[37mDEBUG   \u001b[0m | \u001b[37mLooking for images in '367'\u001b[0m\n",
      "  \u001b[32mINFO    \u001b[0m | \u001b[32m702 file found\u001b[0m\n",
      "  \u001b[37mDEBUG   \u001b[0m | \u001b[37mLooking for images in '399'\u001b[0m\n",
      "  \u001b[32mINFO    \u001b[0m | \u001b[32m4437 file found\u001b[0m\n",
      "  \u001b[37mDEBUG   \u001b[0m | \u001b[37mLooking for images in '30'\u001b[0m\n"
     ]
    },
    {
     "name": "stdout",
     "output_type": "stream",
     "text": [
      "\n",
      "\n",
      "\n",
      "\n",
      "\n",
      "\n",
      "\n",
      "\n",
      "\n",
      "\n",
      "\n",
      "\n",
      "\n",
      "\n",
      "\n",
      "\n",
      "\n",
      "\n",
      "\n",
      "\n"
     ]
    },
    {
     "name": "stderr",
     "output_type": "stream",
     "text": [
      "  \u001b[32mINFO    \u001b[0m | \u001b[32m2413 file found\u001b[0m\n",
      "  \u001b[37mDEBUG   \u001b[0m | \u001b[37mLooking for images in '619'\u001b[0m\n",
      "  \u001b[32mINFO    \u001b[0m | \u001b[32m7745 file found\u001b[0m\n",
      "  \u001b[37mDEBUG   \u001b[0m | \u001b[37mLooking for images in '7'\u001b[0m\n",
      "  \u001b[32mINFO    \u001b[0m | \u001b[32m2089 file found\u001b[0m\n",
      "  \u001b[37mDEBUG   \u001b[0m | \u001b[37mLooking for images in '103'\u001b[0m\n",
      "  \u001b[32mINFO    \u001b[0m | \u001b[32m6976 file found\u001b[0m\n",
      "  \u001b[37mDEBUG   \u001b[0m | \u001b[37mLooking for images in '352'\u001b[0m\n",
      "  \u001b[32mINFO    \u001b[0m | \u001b[32m7764 file found\u001b[0m\n",
      "  \u001b[37mDEBUG   \u001b[0m | \u001b[37mLooking for images in '204'\u001b[0m\n"
     ]
    },
    {
     "name": "stdout",
     "output_type": "stream",
     "text": [
      "\n",
      "\n",
      "\n",
      "\n",
      "\n",
      "\n",
      "\n",
      "\n",
      "\n",
      "\n"
     ]
    },
    {
     "name": "stderr",
     "output_type": "stream",
     "text": [
      "  \u001b[32mINFO    \u001b[0m | \u001b[32m4800 file found\u001b[0m\n",
      "  \u001b[37mDEBUG   \u001b[0m | \u001b[37mLooking for images in '64'\u001b[0m\n",
      "  \u001b[32mINFO    \u001b[0m | \u001b[32m7911 file found\u001b[0m\n",
      "  \u001b[37mDEBUG   \u001b[0m | \u001b[37mLooking for images in '281'\u001b[0m\n",
      "  \u001b[32mINFO    \u001b[0m | \u001b[32m5051 file found\u001b[0m\n",
      "  \u001b[37mDEBUG   \u001b[0m | \u001b[37mLooking for images in '98'\u001b[0m\n",
      "  \u001b[32mINFO    \u001b[0m | \u001b[32m3175 file found\u001b[0m\n",
      "  \u001b[37mDEBUG   \u001b[0m | \u001b[37mLooking for images in '39'\u001b[0m\n",
      "  \u001b[32mINFO    \u001b[0m | \u001b[32m4235 file found\u001b[0m\n",
      "  \u001b[37mDEBUG   \u001b[0m | \u001b[37mLooking for images in '330'\u001b[0m\n",
      "  \u001b[32mINFO    \u001b[0m | \u001b[32m5329 file found\u001b[0m\n",
      "  \u001b[37mDEBUG   \u001b[0m | \u001b[37mLooking for images in '496'\u001b[0m\n",
      "  \u001b[32mINFO    \u001b[0m | \u001b[32m294 file found\u001b[0m\n",
      "  \u001b[37mDEBUG   \u001b[0m | \u001b[37mLooking for images in '278'\u001b[0m\n",
      "  \u001b[32mINFO    \u001b[0m | \u001b[32m2623 file found\u001b[0m\n",
      "  \u001b[37mDEBUG   \u001b[0m | \u001b[37mLooking for images in '419'\u001b[0m\n"
     ]
    },
    {
     "name": "stdout",
     "output_type": "stream",
     "text": [
      "\n",
      "\n",
      "\n",
      "\n",
      "\n",
      "\n",
      "\n",
      "\n",
      "\n",
      "\n",
      "\n",
      "\n",
      "\n",
      "\n",
      "\n",
      "\n"
     ]
    },
    {
     "name": "stderr",
     "output_type": "stream",
     "text": [
      "  \u001b[32mINFO    \u001b[0m | \u001b[32m4462 file found\u001b[0m\n",
      "  \u001b[37mDEBUG   \u001b[0m | \u001b[37mLooking for images in '546'\u001b[0m\n",
      "  \u001b[32mINFO    \u001b[0m | \u001b[32m4387 file found\u001b[0m\n",
      "  \u001b[37mDEBUG   \u001b[0m | \u001b[37mLooking for images in '304'\u001b[0m\n",
      "  \u001b[32mINFO    \u001b[0m | \u001b[32m3843 file found\u001b[0m\n",
      "  \u001b[37mDEBUG   \u001b[0m | \u001b[37mLooking for images in '522'\u001b[0m\n",
      "  \u001b[32mINFO    \u001b[0m | \u001b[32m6363 file found\u001b[0m\n",
      "  \u001b[37mDEBUG   \u001b[0m | \u001b[37mLooking for images in '413'\u001b[0m\n",
      "  \u001b[32mINFO    \u001b[0m | \u001b[32m3240 file found\u001b[0m\n",
      "  \u001b[37mDEBUG   \u001b[0m | \u001b[37mLooking for images in '595'\u001b[0m\n",
      "  \u001b[32mINFO    \u001b[0m | \u001b[32m3959 file found\u001b[0m\n",
      "  \u001b[37mDEBUG   \u001b[0m | \u001b[37mLooking for images in '589'\u001b[0m\n",
      "  \u001b[32mINFO    \u001b[0m | \u001b[32m3959 file found\u001b[0m\n",
      "  \u001b[37mDEBUG   \u001b[0m | \u001b[37mLooking for images in '369'\u001b[0m\n",
      "  \u001b[32mINFO    \u001b[0m | \u001b[32m7538 file found\u001b[0m\n",
      "  \u001b[37mDEBUG   \u001b[0m | \u001b[37mLooking for images in '575'\u001b[0m\n"
     ]
    },
    {
     "name": "stdout",
     "output_type": "stream",
     "text": [
      "\n",
      "\n",
      "\n",
      "\n",
      "\n",
      "\n",
      "\n",
      "\n",
      "\n",
      "\n",
      "\n",
      "\n",
      "\n",
      "\n",
      "\n",
      "\n"
     ]
    },
    {
     "name": "stderr",
     "output_type": "stream",
     "text": [
      "  \u001b[32mINFO    \u001b[0m | \u001b[32m4055 file found\u001b[0m\n",
      "  \u001b[37mDEBUG   \u001b[0m | \u001b[37mLooking for images in '141'\u001b[0m\n",
      "  \u001b[32mINFO    \u001b[0m | \u001b[32m6472 file found\u001b[0m\n",
      "  \u001b[37mDEBUG   \u001b[0m | \u001b[37mLooking for images in '62'\u001b[0m\n",
      "  \u001b[32mINFO    \u001b[0m | \u001b[32m5108 file found\u001b[0m\n",
      "  \u001b[37mDEBUG   \u001b[0m | \u001b[37mLooking for images in '14'\u001b[0m\n",
      "  \u001b[32mINFO    \u001b[0m | \u001b[32m2006 file found\u001b[0m\n",
      "  \u001b[37mDEBUG   \u001b[0m | \u001b[37mLooking for images in '471'\u001b[0m\n",
      "  \u001b[32mINFO    \u001b[0m | \u001b[32m7228 file found\u001b[0m\n",
      "  \u001b[37mDEBUG   \u001b[0m | \u001b[37mLooking for images in '94'\u001b[0m\n",
      "  \u001b[32mINFO    \u001b[0m | \u001b[32m3089 file found\u001b[0m\n",
      "  \u001b[37mDEBUG   \u001b[0m | \u001b[37mLooking for images in '173'\u001b[0m\n",
      "  \u001b[32mINFO    \u001b[0m | \u001b[32m1545 file found\u001b[0m\n",
      "  \u001b[37mDEBUG   \u001b[0m | \u001b[37mLooking for images in '224'\u001b[0m\n"
     ]
    },
    {
     "name": "stdout",
     "output_type": "stream",
     "text": [
      "\n",
      "\n",
      "\n",
      "\n",
      "\n",
      "\n",
      "\n",
      "\n",
      "\n",
      "\n",
      "\n",
      "\n",
      "\n",
      "\n"
     ]
    },
    {
     "name": "stderr",
     "output_type": "stream",
     "text": [
      "  \u001b[32mINFO    \u001b[0m | \u001b[32m5715 file found\u001b[0m\n",
      "  \u001b[37mDEBUG   \u001b[0m | \u001b[37mLooking for images in '100'\u001b[0m\n",
      "  \u001b[32mINFO    \u001b[0m | \u001b[32m535 file found\u001b[0m\n",
      "  \u001b[37mDEBUG   \u001b[0m | \u001b[37mLooking for images in '187'\u001b[0m\n",
      "  \u001b[32mINFO    \u001b[0m | \u001b[32m2964 file found\u001b[0m\n",
      "  \u001b[37mDEBUG   \u001b[0m | \u001b[37mLooking for images in '548'\u001b[0m\n",
      "  \u001b[32mINFO    \u001b[0m | \u001b[32m625 file found\u001b[0m\n",
      "  \u001b[37mDEBUG   \u001b[0m | \u001b[37mLooking for images in '395'\u001b[0m\n",
      "  \u001b[32mINFO    \u001b[0m | \u001b[32m4925 file found\u001b[0m\n",
      "  \u001b[37mDEBUG   \u001b[0m | \u001b[37mLooking for images in '147'\u001b[0m\n",
      "  \u001b[32mINFO    \u001b[0m | \u001b[32m6933 file found\u001b[0m\n",
      "  \u001b[37mDEBUG   \u001b[0m | \u001b[37mLooking for images in '177'\u001b[0m\n",
      "  \u001b[32mINFO    \u001b[0m | \u001b[32m2114 file found\u001b[0m\n",
      "  \u001b[37mDEBUG   \u001b[0m | \u001b[37mLooking for images in '294'\u001b[0m\n",
      "  \u001b[32mINFO    \u001b[0m | \u001b[32m5131 file found\u001b[0m\n",
      "  \u001b[37mDEBUG   \u001b[0m | \u001b[37mLooking for images in '584'\u001b[0m\n",
      "  \u001b[32mINFO    \u001b[0m | \u001b[32m6004 file found\u001b[0m\n",
      "  \u001b[37mDEBUG   \u001b[0m | \u001b[37mLooking for images in '484'\u001b[0m\n"
     ]
    },
    {
     "name": "stdout",
     "output_type": "stream",
     "text": [
      "\n",
      "\n",
      "\n",
      "\n",
      "\n",
      "\n",
      "\n",
      "\n",
      "\n",
      "\n",
      "\n",
      "\n",
      "\n",
      "\n",
      "\n",
      "\n",
      "\n",
      "\n"
     ]
    },
    {
     "name": "stderr",
     "output_type": "stream",
     "text": [
      "  \u001b[32mINFO    \u001b[0m | \u001b[32m3479 file found\u001b[0m\n",
      "  \u001b[37mDEBUG   \u001b[0m | \u001b[37mLooking for images in '112'\u001b[0m\n",
      "  \u001b[32mINFO    \u001b[0m | \u001b[32m4181 file found\u001b[0m\n",
      "  \u001b[37mDEBUG   \u001b[0m | \u001b[37mLooking for images in '625'\u001b[0m\n",
      "  \u001b[32mINFO    \u001b[0m | \u001b[32m3752 file found\u001b[0m\n",
      "  \u001b[37mDEBUG   \u001b[0m | \u001b[37mLooking for images in '624'\u001b[0m\n",
      "  \u001b[32mINFO    \u001b[0m | \u001b[32m293 file found\u001b[0m\n",
      "  \u001b[37mDEBUG   \u001b[0m | \u001b[37mLooking for images in '616'\u001b[0m\n",
      "  \u001b[32mINFO    \u001b[0m | \u001b[32m10032 file found\u001b[0m\n",
      "  \u001b[37mDEBUG   \u001b[0m | \u001b[37mLooking for images in '139'\u001b[0m\n",
      "  \u001b[32mINFO    \u001b[0m | \u001b[32m5656 file found\u001b[0m\n",
      "  \u001b[37mDEBUG   \u001b[0m | \u001b[37mLooking for images in '302'\u001b[0m\n",
      "  \u001b[32mINFO    \u001b[0m | \u001b[32m6115 file found\u001b[0m\n",
      "  \u001b[37mDEBUG   \u001b[0m | \u001b[37mLooking for images in '593'\u001b[0m\n"
     ]
    },
    {
     "name": "stdout",
     "output_type": "stream",
     "text": [
      "\n",
      "\n",
      "\n",
      "\n",
      "\n",
      "\n",
      "\n",
      "\n",
      "\n",
      "\n",
      "\n",
      "\n",
      "\n",
      "\n"
     ]
    },
    {
     "name": "stderr",
     "output_type": "stream",
     "text": [
      "  \u001b[32mINFO    \u001b[0m | \u001b[32m774 file found\u001b[0m\n",
      "  \u001b[37mDEBUG   \u001b[0m | \u001b[37mLooking for images in '171'\u001b[0m\n",
      "  \u001b[32mINFO    \u001b[0m | \u001b[32m4558 file found\u001b[0m\n",
      "  \u001b[37mDEBUG   \u001b[0m | \u001b[37mLooking for images in '554'\u001b[0m\n",
      "  \u001b[32mINFO    \u001b[0m | \u001b[32m810 file found\u001b[0m\n",
      "  \u001b[37mDEBUG   \u001b[0m | \u001b[37mLooking for images in '99'\u001b[0m\n",
      "  \u001b[32mINFO    \u001b[0m | \u001b[32m2539 file found\u001b[0m\n",
      "  \u001b[37mDEBUG   \u001b[0m | \u001b[37mLooking for images in '452'\u001b[0m\n",
      "  \u001b[32mINFO    \u001b[0m | \u001b[32m4527 file found\u001b[0m\n",
      "  \u001b[37mDEBUG   \u001b[0m | \u001b[37mLooking for images in '309'\u001b[0m\n",
      "  \u001b[32mINFO    \u001b[0m | \u001b[32m5758 file found\u001b[0m\n",
      "  \u001b[37mDEBUG   \u001b[0m | \u001b[37mLooking for images in '67'\u001b[0m\n",
      "  \u001b[32mINFO    \u001b[0m | \u001b[32m4988 file found\u001b[0m\n",
      "  \u001b[37mDEBUG   \u001b[0m | \u001b[37mLooking for images in '324'\u001b[0m\n",
      "  \u001b[32mINFO    \u001b[0m | \u001b[32m4936 file found\u001b[0m\n",
      "  \u001b[37mDEBUG   \u001b[0m | \u001b[37mLooking for images in '581'\u001b[0m\n",
      "  \u001b[32mINFO    \u001b[0m | \u001b[32m2413 file found\u001b[0m\n",
      "  \u001b[37mDEBUG   \u001b[0m | \u001b[37mLooking for images in '353'\u001b[0m\n"
     ]
    },
    {
     "name": "stdout",
     "output_type": "stream",
     "text": [
      "\n",
      "\n",
      "\n",
      "\n",
      "\n",
      "\n",
      "\n",
      "\n",
      "\n",
      "\n",
      "\n",
      "\n",
      "\n",
      "\n",
      "\n",
      "\n",
      "\n",
      "\n"
     ]
    },
    {
     "name": "stderr",
     "output_type": "stream",
     "text": [
      "  \u001b[32mINFO    \u001b[0m | \u001b[32m4486 file found\u001b[0m\n",
      "  \u001b[37mDEBUG   \u001b[0m | \u001b[37mLooking for images in '48'\u001b[0m\n",
      "  \u001b[32mINFO    \u001b[0m | \u001b[32m2694 file found\u001b[0m\n",
      "  \u001b[37mDEBUG   \u001b[0m | \u001b[37mLooking for images in '86'\u001b[0m\n",
      "  \u001b[32mINFO    \u001b[0m | \u001b[32m3449 file found\u001b[0m\n",
      "  \u001b[37mDEBUG   \u001b[0m | \u001b[37mLooking for images in '174'\u001b[0m\n",
      "  \u001b[32mINFO    \u001b[0m | \u001b[32m899 file found\u001b[0m\n",
      "  \u001b[37mDEBUG   \u001b[0m | \u001b[37mLooking for images in '18'\u001b[0m\n",
      "  \u001b[32mINFO    \u001b[0m | \u001b[32m6824 file found\u001b[0m\n",
      "  \u001b[37mDEBUG   \u001b[0m | \u001b[37mLooking for images in '621'\u001b[0m\n",
      "  \u001b[32mINFO    \u001b[0m | \u001b[32m4223 file found\u001b[0m\n",
      "  \u001b[37mDEBUG   \u001b[0m | \u001b[37mLooking for images in '410'\u001b[0m\n",
      "  \u001b[32mINFO    \u001b[0m | \u001b[32m3254 file found\u001b[0m\n",
      "  \u001b[37mDEBUG   \u001b[0m | \u001b[37mLooking for images in '477'\u001b[0m\n",
      "  \u001b[32mINFO    \u001b[0m | \u001b[32m3327 file found\u001b[0m\n",
      "  \u001b[37mDEBUG   \u001b[0m | \u001b[37mLooking for images in '240'\u001b[0m\n",
      "  \u001b[32mINFO    \u001b[0m | \u001b[32m3115 file found\u001b[0m\n",
      "  \u001b[37mDEBUG   \u001b[0m | \u001b[37mLooking for images in '333'\u001b[0m\n"
     ]
    },
    {
     "name": "stdout",
     "output_type": "stream",
     "text": [
      "\n",
      "\n",
      "\n",
      "\n",
      "\n",
      "\n",
      "\n",
      "\n",
      "\n",
      "\n",
      "\n",
      "\n",
      "\n",
      "\n",
      "\n",
      "\n",
      "\n",
      "\n"
     ]
    },
    {
     "name": "stderr",
     "output_type": "stream",
     "text": [
      "  \u001b[32mINFO    \u001b[0m | \u001b[32m4890 file found\u001b[0m\n",
      "  \u001b[37mDEBUG   \u001b[0m | \u001b[37mLooking for images in '635'\u001b[0m\n",
      "  \u001b[32mINFO    \u001b[0m | \u001b[32m4681 file found\u001b[0m\n",
      "  \u001b[37mDEBUG   \u001b[0m | \u001b[37mLooking for images in '412'\u001b[0m\n",
      "  \u001b[32mINFO    \u001b[0m | \u001b[32m2846 file found\u001b[0m\n",
      "  \u001b[37mDEBUG   \u001b[0m | \u001b[37mLooking for images in '334'\u001b[0m\n",
      "  \u001b[32mINFO    \u001b[0m | \u001b[32m2475 file found\u001b[0m\n",
      "  \u001b[37mDEBUG   \u001b[0m | \u001b[37mLooking for images in '585'\u001b[0m\n",
      "  \u001b[32mINFO    \u001b[0m | \u001b[32m3641 file found\u001b[0m\n",
      "  \u001b[37mDEBUG   \u001b[0m | \u001b[37mLooking for images in '12'\u001b[0m\n",
      "  \u001b[32mINFO    \u001b[0m | \u001b[32m4174 file found\u001b[0m\n",
      "  \u001b[37mDEBUG   \u001b[0m | \u001b[37mLooking for images in '612'\u001b[0m\n",
      "  \u001b[32mINFO    \u001b[0m | \u001b[32m4354 file found\u001b[0m\n",
      "  \u001b[37mDEBUG   \u001b[0m | \u001b[37mLooking for images in '131'\u001b[0m\n",
      "  \u001b[32mINFO    \u001b[0m | \u001b[32m567 file found\u001b[0m\n",
      "  \u001b[37mDEBUG   \u001b[0m | \u001b[37mLooking for images in '559'\u001b[0m\n",
      "  \u001b[32mINFO    \u001b[0m | \u001b[32m4477 file found\u001b[0m\n",
      "  \u001b[37mDEBUG   \u001b[0m | \u001b[37mLooking for images in '87'\u001b[0m\n"
     ]
    },
    {
     "name": "stdout",
     "output_type": "stream",
     "text": [
      "\n",
      "\n",
      "\n",
      "\n",
      "\n",
      "\n",
      "\n",
      "\n",
      "\n",
      "\n",
      "\n",
      "\n",
      "\n",
      "\n",
      "\n",
      "\n",
      "\n",
      "\n"
     ]
    },
    {
     "name": "stderr",
     "output_type": "stream",
     "text": [
      "  \u001b[32mINFO    \u001b[0m | \u001b[32m4554 file found\u001b[0m\n",
      "  \u001b[37mDEBUG   \u001b[0m | \u001b[37mLooking for images in '84'\u001b[0m\n",
      "  \u001b[32mINFO    \u001b[0m | \u001b[32m4900 file found\u001b[0m\n",
      "  \u001b[37mDEBUG   \u001b[0m | \u001b[37mLooking for images in '300'\u001b[0m\n",
      "  \u001b[32mINFO    \u001b[0m | \u001b[32m7125 file found\u001b[0m\n",
      "  \u001b[37mDEBUG   \u001b[0m | \u001b[37mLooking for images in '359'\u001b[0m\n",
      "  \u001b[32mINFO    \u001b[0m | \u001b[32m278 file found\u001b[0m\n",
      "  \u001b[37mDEBUG   \u001b[0m | \u001b[37mLooking for images in '256'\u001b[0m\n",
      "  \u001b[32mINFO    \u001b[0m | \u001b[32m5383 file found\u001b[0m\n",
      "  \u001b[37mDEBUG   \u001b[0m | \u001b[37mLooking for images in '80'\u001b[0m\n",
      "  \u001b[32mINFO    \u001b[0m | \u001b[32m5566 file found\u001b[0m\n",
      "  \u001b[37mDEBUG   \u001b[0m | \u001b[37mLooking for images in '249'\u001b[0m\n",
      "  \u001b[32mINFO    \u001b[0m | \u001b[32m332 file found\u001b[0m\n",
      "  \u001b[37mDEBUG   \u001b[0m | \u001b[37mLooking for images in '259'\u001b[0m\n",
      "  \u001b[32mINFO    \u001b[0m | \u001b[32m2159 file found\u001b[0m\n",
      "  \u001b[37mDEBUG   \u001b[0m | \u001b[37mLooking for images in '405'\u001b[0m\n",
      "  \u001b[32mINFO    \u001b[0m | \u001b[32m1115 file found\u001b[0m\n",
      "  \u001b[37mDEBUG   \u001b[0m | \u001b[37mLooking for images in '263'\u001b[0m\n"
     ]
    },
    {
     "name": "stdout",
     "output_type": "stream",
     "text": [
      "\n",
      "\n",
      "\n",
      "\n",
      "\n",
      "\n",
      "\n",
      "\n",
      "\n",
      "\n",
      "\n",
      "\n",
      "\n",
      "\n",
      "\n",
      "\n",
      "\n",
      "\n"
     ]
    },
    {
     "name": "stderr",
     "output_type": "stream",
     "text": [
      "  \u001b[32mINFO    \u001b[0m | \u001b[32m5089 file found\u001b[0m\n",
      "  \u001b[37mDEBUG   \u001b[0m | \u001b[37mLooking for images in '178'\u001b[0m\n",
      "  \u001b[32mINFO    \u001b[0m | \u001b[32m11830 file found\u001b[0m\n",
      "  \u001b[37mDEBUG   \u001b[0m | \u001b[37mLooking for images in '102'\u001b[0m\n",
      "  \u001b[32mINFO    \u001b[0m | \u001b[32m5777 file found\u001b[0m\n",
      "  \u001b[37mDEBUG   \u001b[0m | \u001b[37mLooking for images in '274'\u001b[0m\n",
      "  \u001b[32mINFO    \u001b[0m | \u001b[32m8199 file found\u001b[0m\n",
      "  \u001b[37mDEBUG   \u001b[0m | \u001b[37mLooking for images in '462'\u001b[0m\n",
      "  \u001b[32mINFO    \u001b[0m | \u001b[32m5043 file found\u001b[0m\n"
     ]
    },
    {
     "name": "stdout",
     "output_type": "stream",
     "text": [
      "\n",
      "\n",
      "\n",
      "\n",
      "\n",
      "\n",
      "\n",
      "\n",
      "\n"
     ]
    },
    {
     "name": "stderr",
     "output_type": "stream",
     "text": [
      "  \u001b[37mDEBUG   \u001b[0m | \u001b[37mLooking for images in '183'\u001b[0m\n",
      "  \u001b[32mINFO    \u001b[0m | \u001b[32m7139 file found\u001b[0m\n",
      "  \u001b[37mDEBUG   \u001b[0m | \u001b[37mLooking for images in '461'\u001b[0m\n",
      "  \u001b[32mINFO    \u001b[0m | \u001b[32m4317 file found\u001b[0m\n",
      "  \u001b[37mDEBUG   \u001b[0m | \u001b[37mLooking for images in '535'\u001b[0m\n",
      "  \u001b[32mINFO    \u001b[0m | \u001b[32m2202 file found\u001b[0m\n",
      "  \u001b[37mDEBUG   \u001b[0m | \u001b[37mLooking for images in '79'\u001b[0m\n",
      "  \u001b[32mINFO    \u001b[0m | \u001b[32m3857 file found\u001b[0m\n",
      "  \u001b[37mDEBUG   \u001b[0m | \u001b[37mLooking for images in '370'\u001b[0m\n",
      "  \u001b[32mINFO    \u001b[0m | \u001b[32m3638 file found\u001b[0m\n",
      "  \u001b[37mDEBUG   \u001b[0m | \u001b[37mLooking for images in '188'\u001b[0m\n",
      "  \u001b[32mINFO    \u001b[0m | \u001b[32m6409 file found\u001b[0m\n",
      "  \u001b[37mDEBUG   \u001b[0m | \u001b[37mLooking for images in '142'\u001b[0m\n"
     ]
    },
    {
     "name": "stdout",
     "output_type": "stream",
     "text": [
      "\n",
      "\n",
      "\n",
      "\n",
      "\n",
      "\n",
      "\n",
      "\n",
      "\n",
      "\n",
      "\n",
      "\n",
      "\n"
     ]
    },
    {
     "name": "stderr",
     "output_type": "stream",
     "text": [
      "  \u001b[32mINFO    \u001b[0m | \u001b[32m9162 file found\u001b[0m\n",
      "  \u001b[37mDEBUG   \u001b[0m | \u001b[37mLooking for images in '113'\u001b[0m\n",
      "  \u001b[32mINFO    \u001b[0m | \u001b[32m5912 file found\u001b[0m\n",
      "  \u001b[37mDEBUG   \u001b[0m | \u001b[37mLooking for images in '162'\u001b[0m\n",
      "  \u001b[32mINFO    \u001b[0m | \u001b[32m4168 file found\u001b[0m\n",
      "  \u001b[37mDEBUG   \u001b[0m | \u001b[37mLooking for images in '150'\u001b[0m\n",
      "  \u001b[32mINFO    \u001b[0m | \u001b[32m10518 file found\u001b[0m\n",
      "  \u001b[37mDEBUG   \u001b[0m | \u001b[37mLooking for images in '368'\u001b[0m\n",
      "  \u001b[32mINFO    \u001b[0m | \u001b[32m272 file found\u001b[0m\n",
      "  \u001b[37mDEBUG   \u001b[0m | \u001b[37mLooking for images in '152'\u001b[0m\n",
      "  \u001b[32mINFO    \u001b[0m | \u001b[32m3481 file found\u001b[0m\n",
      "  \u001b[37mDEBUG   \u001b[0m | \u001b[37mLooking for images in '151'\u001b[0m\n",
      "  \u001b[32mINFO    \u001b[0m | \u001b[32m9733 file found\u001b[0m\n"
     ]
    },
    {
     "name": "stdout",
     "output_type": "stream",
     "text": [
      "\n",
      "\n",
      "\n",
      "\n",
      "\n",
      "\n",
      "\n",
      "\n",
      "\n",
      "\n",
      "\n",
      "\n",
      "\n"
     ]
    },
    {
     "name": "stderr",
     "output_type": "stream",
     "text": [
      "  \u001b[37mDEBUG   \u001b[0m | \u001b[37mLooking for images in '134'\u001b[0m\n",
      "  \u001b[32mINFO    \u001b[0m | \u001b[32m2964 file found\u001b[0m\n",
      "  \u001b[37mDEBUG   \u001b[0m | \u001b[37mLooking for images in '47'\u001b[0m\n",
      "  \u001b[32mINFO    \u001b[0m | \u001b[32m1655 file found\u001b[0m\n",
      "  \u001b[37mDEBUG   \u001b[0m | \u001b[37mLooking for images in '329'\u001b[0m\n",
      "  \u001b[32mINFO    \u001b[0m | \u001b[32m283 file found\u001b[0m\n",
      "  \u001b[37mDEBUG   \u001b[0m | \u001b[37mLooking for images in '116'\u001b[0m\n",
      "  \u001b[32mINFO    \u001b[0m | \u001b[32m2628 file found\u001b[0m\n",
      "  \u001b[37mDEBUG   \u001b[0m | \u001b[37mLooking for images in '521'\u001b[0m\n",
      "  \u001b[32mINFO    \u001b[0m | \u001b[32m5753 file found\u001b[0m\n",
      "  \u001b[37mDEBUG   \u001b[0m | \u001b[37mLooking for images in '561'\u001b[0m\n",
      "  \u001b[32mINFO    \u001b[0m | \u001b[32m6445 file found\u001b[0m\n"
     ]
    },
    {
     "name": "stdout",
     "output_type": "stream",
     "text": [
      "\n",
      "\n",
      "\n",
      "\n",
      "\n",
      "\n",
      "\n",
      "\n",
      "\n",
      "\n",
      "\n",
      "\n"
     ]
    }
   ],
   "source": [
    "imgs_list = create_image_lists(\n",
    "    image_dir=IMG_DIR, \n",
    "    validation_pct=VAL_PCT, \n",
    "    valid_imgae_formats=VAL_FORMAT\n",
    ")"
   ]
  },
  {
   "cell_type": "code",
   "execution_count": 7,
   "metadata": {},
   "outputs": [],
   "source": [
    "scale=2\n",
    "IMG_SIZE=(160, 216, 3)#(160//scale, 210//scale, 3)\n",
    "BATCH_SIZE = 10\n",
    "EPIS_LEN = 10\n",
    "EPIS_SHIFT = 5"
   ]
  },
  {
   "cell_type": "code",
   "execution_count": 8,
   "metadata": {},
   "outputs": [],
   "source": [
    "latent_dim = 50\n",
    "intermediate_dim = 10"
   ]
  },
  {
   "cell_type": "code",
   "execution_count": 9,
   "metadata": {},
   "outputs": [
    {
     "name": "stderr",
     "output_type": "stream",
     "text": [
      "  \u001b[32mINFO    \u001b[0m | \u001b[32mFound 1177538 training files\u001b[0m\n"
     ]
    },
    {
     "name": "stdout",
     "output_type": "stream",
     "text": [
      "\n"
     ]
    },
    {
     "name": "stderr",
     "output_type": "stream",
     "text": [
      "  \u001b[32mINFO    \u001b[0m | \u001b[32mFound 383441 validation files\u001b[0m\n"
     ]
    },
    {
     "name": "stdout",
     "output_type": "stream",
     "text": [
      "\n"
     ]
    }
   ],
   "source": [
    "train_gen, test_gen = get_generators(\n",
    "    images_list=imgs_list, \n",
    "    image_dir=IMG_DIR, \n",
    "    image_size=IMG_SIZE, \n",
    "    batch_size=BATCH_SIZE, \n",
    "    class_mode='episode_flat', \n",
    "    episode_len=EPIS_LEN, \n",
    "    episode_shift=EPIS_SHIFT\n",
    ")"
   ]
  },
  {
   "cell_type": "code",
   "execution_count": 10,
   "metadata": {},
   "outputs": [],
   "source": [
    "import tensorflow as tf\n",
    "import numpy as np"
   ]
  },
  {
   "cell_type": "code",
   "execution_count": 11,
   "metadata": {},
   "outputs": [
    {
     "name": "stdout",
     "output_type": "stream",
     "text": [
      "2\n",
      "(100, 160, 216, 3)\n",
      "(100, 160, 216, 3)\n"
     ]
    }
   ],
   "source": [
    "_instance_scale=1.0\n",
    "for data in train_gen:\n",
    "    print(len(data))\n",
    "    print(data[0].shape)\n",
    "    print(data[1].shape)\n",
    "    #_instance_scale = float(data[0].numpy().max())\n",
    "    break"
   ]
  },
  {
   "cell_type": "code",
   "execution_count": 12,
   "metadata": {},
   "outputs": [],
   "source": [
    "train_ds = tf.data.Dataset.from_generator(\n",
    "    lambda: train_gen, \n",
    "    output_types=(tf.float32, tf.float32) ,\n",
    "    output_shapes=(tf.TensorShape((BATCH_SIZE* EPIS_LEN, ) + IMG_SIZE), \n",
    "                   tf.TensorShape((BATCH_SIZE* EPIS_LEN, ) + IMG_SIZE)\n",
    "                  )\n",
    ")\n",
    "\n",
    "test_ds = tf.data.Dataset.from_generator(\n",
    "    lambda: test_gen,     \n",
    "    output_types=(tf.float32, tf.float32) ,\n",
    "    output_shapes=(tf.TensorShape((BATCH_SIZE* EPIS_LEN, ) + IMG_SIZE), \n",
    "                   tf.TensorShape((BATCH_SIZE* EPIS_LEN, ) + IMG_SIZE)\n",
    "                  )\n",
    ")\n"
   ]
  },
  {
   "cell_type": "code",
   "execution_count": 13,
   "metadata": {},
   "outputs": [],
   "source": [
    "inputs_shape=IMG_SIZE"
   ]
  },
  {
   "cell_type": "code",
   "execution_count": 14,
   "metadata": {},
   "outputs": [],
   "source": [
    "import numpy as np\n",
    "from collections.abc import Iterable\n",
    "if isinstance(inputs_shape, Iterable):\n",
    "    _outputs_shape = np.prod(inputs_shape)"
   ]
  },
  {
   "cell_type": "markdown",
   "metadata": {},
   "source": [
    "# Model's Layers definition"
   ]
  },
  {
   "cell_type": "code",
   "execution_count": 15,
   "metadata": {},
   "outputs": [],
   "source": [
    "units=50\n",
    "c=(160//4, 210//4 + 2, intermediate_dim//2)\n",
    "enc_lays = [\n",
    "    tf.keras.layers.Conv2D(filters=units, kernel_size=3, strides=(2, 2), activation='relu'),\n",
    "    tf.keras.layers.Conv2D(filters=units//5, kernel_size=3, strides=(2, 2), activation='relu'),\n",
    "    tf.keras.layers.Flatten(),\n",
    "    # No activation\n",
    "    tf.keras.layers.Dense(latent_dim)\n",
    "]\n",
    "\n",
    "dec_lays = [\n",
    "    tf.keras.layers.Dense(units=np.product(c), activation=tf.nn.relu),\n",
    "    tf.keras.layers.Reshape(target_shape=c),\n",
    "    tf.keras.layers.Conv2DTranspose(filters=units, kernel_size=3, strides=(2, 2), padding=\"SAME\", activation='relu'),\n",
    "    tf.keras.layers.Conv2DTranspose(filters=units*3, kernel_size=3, strides=(2, 2), padding=\"SAME\", activation='relu'),\n",
    "    \n",
    "    # No activation\n",
    "    tf.keras.layers.Conv2DTranspose(filters=3, kernel_size=3, strides=(1, 1), padding=\"SAME\")\n",
    "]"
   ]
  },
  {
   "cell_type": "markdown",
   "metadata": {},
   "source": [
    "# Model definition"
   ]
  },
  {
   "cell_type": "code",
   "execution_count": 16,
   "metadata": {},
   "outputs": [],
   "source": [
    "model_name = dataset_name+'Trans_Conv_AE'\n",
    "#windows in comment\n",
    "#recording_dir='..'+sep_local+'..'+sep_local+'..'+sep_local+'recording'+sep_local + model_name\n",
    "\n",
    "#linux in comment\n",
    "recording_dir=os.getcwd()+ sep_local  +'recording'+sep_local + model_name"
   ]
  },
  {
   "cell_type": "code",
   "execution_count": 17,
   "metadata": {},
   "outputs": [],
   "source": [
    "from training.autoencoding_basic.transformative.AE import autoencoder as AE"
   ]
  },
  {
   "cell_type": "code",
   "execution_count": 18,
   "metadata": {},
   "outputs": [],
   "source": [
    "variables_params = \\\n",
    "[\n",
    "    {\n",
    "        'name': 'inference', \n",
    "        'inputs_shape':inputs_shape,\n",
    "        'outputs_shape':latent_dim,\n",
    "        'layers': enc_lays\n",
    "    }\n",
    "\n",
    "    ,\n",
    "    \n",
    "        {\n",
    "        'name': 'generative', \n",
    "        'inputs_shape':latent_dim,\n",
    "        'outputs_shape':inputs_shape,\n",
    "        'layers':dec_lays\n",
    "    }\n",
    "]"
   ]
  },
  {
   "cell_type": "code",
   "execution_count": 19,
   "metadata": {},
   "outputs": [
    {
     "name": "stdout",
     "output_type": "stream",
     "text": [
      "Restore_dir /home/azeghost/git/new_GAN_models/Generative_Models/recording/pacmanTrans_Conv_AE/var_save_dir\n"
     ]
    }
   ],
   "source": [
    "from os.path import abspath\n",
    "from utils.data_and_files.file_utils import create_if_not_exist\n",
    "_restore = os.path.join(recording_dir, 'var_save_dir')\n",
    "create_if_not_exist(_restore)\n",
    "absolute = abspath(_restore)\n",
    "print(\"Restore_dir\",absolute)"
   ]
  },
  {
   "cell_type": "code",
   "execution_count": 20,
   "metadata": {},
   "outputs": [
    {
     "name": "stdout",
     "output_type": "stream",
     "text": [
      "Recording_dir /home/azeghost/git/new_GAN_models/Generative_Models/recording/pacmanTrans_Conv_AE\n",
      "Current working dir /home/azeghost/git/new_GAN_models/Generative_Models\n"
     ]
    }
   ],
   "source": [
    "absolute = abspath(recording_dir)\n",
    "print(\"Recording_dir\",absolute)\n",
    "print(\"Current working dir\",os.getcwd())\n"
   ]
  },
  {
   "cell_type": "code",
   "execution_count": 21,
   "metadata": {
    "pycharm": {
     "name": "#%%\n"
    },
    "scrolled": false
   },
   "outputs": [
    {
     "name": "stderr",
     "output_type": "stream",
     "text": [
      "  \u001b[33mWARNING \u001b[0m | \u001b[33mNone\u001b[0m\n",
      "  \u001b[33mWARNING \u001b[0m | \u001b[33mNone\u001b[0m\n"
     ]
    },
    {
     "name": "stdout",
     "output_type": "stream",
     "text": [
      "Model: \"inference\"\n",
      "_________________________________________________________________\n",
      "Layer (type)                 Output Shape              Param #   \n",
      "=================================================================\n",
      "inference_inputs (InputLayer [(None, 160, 216, 3)]     0         \n",
      "_________________________________________________________________\n",
      "conv2d (Conv2D)              (None, 79, 107, 50)       1400      \n",
      "_________________________________________________________________\n",
      "conv2d_1 (Conv2D)            (None, 39, 53, 10)        4510      \n",
      "_________________________________________________________________\n",
      "flatten (Flatten)            (None, 20670)             0         \n",
      "_________________________________________________________________\n",
      "dense (Dense)                (None, 50)                1033550   \n",
      "_________________________________________________________________\n",
      "batch_normalization (BatchNo (None, 50)                200       \n",
      "_________________________________________________________________\n",
      "dropout (Dropout)            (None, 50)                0         \n",
      "_________________________________________________________________\n",
      "activity_regularization (Act (None, 50)                0         \n",
      "_________________________________________________________________\n",
      "inference_outputs (Activatio (None, 50)                0         \n",
      "=================================================================\n",
      "Total params: 1,039,660\n",
      "Trainable params: 1,039,560\n",
      "Non-trainable params: 100\n",
      "_________________________________________________________________\n",
      "\n",
      "Model: \"generative\"\n",
      "_________________________________________________________________\n",
      "Layer (type)                 Output Shape              Param #   \n",
      "=================================================================\n",
      "generative_inputs (InputLaye [(None, 50)]              0         \n",
      "_________________________________________________________________\n",
      "dense_1 (Dense)              (None, 10800)             550800    \n",
      "_________________________________________________________________\n",
      "reshape (Reshape)            (None, 40, 54, 5)         0         \n",
      "_________________________________________________________________\n",
      "conv2d_transpose (Conv2DTran (None, 80, 108, 50)       2300      \n",
      "_________________________________________________________________\n",
      "conv2d_transpose_1 (Conv2DTr (None, 160, 216, 150)     67650     \n",
      "_________________________________________________________________\n",
      "conv2d_transpose_2 (Conv2DTr (None, 160, 216, 3)       4053      \n",
      "_________________________________________________________________\n",
      "batch_normalization_1 (Batch (None, 160, 216, 3)       12        \n",
      "_________________________________________________________________\n",
      "dropout_1 (Dropout)          (None, 160, 216, 3)       0         \n",
      "_________________________________________________________________\n",
      "activity_regularization_1 (A (None, 160, 216, 3)       0         \n",
      "_________________________________________________________________\n",
      "generative_outputs (Activati (None, 160, 216, 3)       0         \n",
      "=================================================================\n",
      "Total params: 624,815\n",
      "Trainable params: 624,809\n",
      "Non-trainable params: 6\n",
      "_________________________________________________________________\n",
      "\n"
     ]
    }
   ],
   "source": [
    "ae = AE( \n",
    "    name=model_name,\n",
    "    inputs_shape=inputs_shape,\n",
    "    outputs_shape=inputs_shape,\n",
    "    latent_dim=latent_dim,\n",
    "    batch_size=BATCH_SIZE,\n",
    "    variables_params=variables_params, \n",
    "    filepath=None#to restore trained model, set filepath=_restore\n",
    "    )"
   ]
  },
  {
   "cell_type": "code",
   "execution_count": 22,
   "metadata": {
    "pycharm": {
     "name": "#%%\n"
    }
   },
   "outputs": [
    {
     "name": "stdout",
     "output_type": "stream",
     "text": [
      "Model: \"pacmanTrans_Conv_AE\"\n",
      "_________________________________________________________________\n",
      "Layer (type)                 Output Shape              Param #   \n",
      "=================================================================\n",
      "inference_inputs (InputLayer [(None, 160, 216, 3)]     0         \n",
      "_________________________________________________________________\n",
      "inference (Model)            (None, 50)                1039660   \n",
      "_________________________________________________________________\n",
      "generative (Model)           (None, 160, 216, 3)       624815    \n",
      "_________________________________________________________________\n",
      "tf_op_layer_x_logits (Tensor [(None, 160, 216, 3)]     0         \n",
      "=================================================================\n",
      "Total params: 1,664,475\n",
      "Trainable params: 1,664,369\n",
      "Non-trainable params: 106\n",
      "_________________________________________________________________\n",
      "None\n"
     ]
    }
   ],
   "source": [
    "ae.compile()"
   ]
  },
  {
   "cell_type": "markdown",
   "metadata": {},
   "source": [
    "# Callbacks"
   ]
  },
  {
   "cell_type": "code",
   "execution_count": 23,
   "metadata": {
    "pycharm": {
     "name": "#%%\n"
    }
   },
   "outputs": [],
   "source": [
    "# added for linux \n",
    "import logging\n",
    "mpl_logger = logging.getLogger('matplotlib')\n",
    "mpl_logger.setLevel(logging.WARNING)\n",
    "\n",
    "\n",
    "\n",
    "from training.callbacks.sample_generation import SampleGeneration\n",
    "from training.callbacks.save_model import ModelSaver"
   ]
  },
  {
   "cell_type": "code",
   "execution_count": 24,
   "metadata": {
    "pycharm": {
     "name": "#%%\n"
    }
   },
   "outputs": [],
   "source": [
    ""
   ]
  },
  {
   "cell_type": "code",
   "execution_count": 25,
   "metadata": {
    "pycharm": {
     "name": "#%%\n"
    }
   },
   "outputs": [],
   "source": [
    "es = tf.keras.callbacks.EarlyStopping(\n",
    "    monitor='loss', \n",
    "    min_delta=1e-12, \n",
    "    patience=5, \n",
    "    verbose=1, \n",
    "    restore_best_weights=True\n",
    ")"
   ]
  },
  {
   "cell_type": "code",
   "execution_count": 26,
   "metadata": {
    "pycharm": {
     "name": "#%%\n"
    }
   },
   "outputs": [],
   "source": [
    "ms = ModelSaver(filepath=_restore,save_freq=5)"
   ]
  },
  {
   "cell_type": "code",
   "execution_count": 27,
   "metadata": {
    "pycharm": {
     "name": "#%%\n"
    }
   },
   "outputs": [
    {
     "name": "stdout",
     "output_type": "stream",
     "text": [
      "Csv_dir /home/azeghost/git/new_GAN_models/Generative_Models/recording/pacmanTrans_Conv_AE/csv_dir/pacmanTrans_Conv_AE.csv\n"
     ]
    }
   ],
   "source": [
    "csv_dir = os.path.join(recording_dir, 'csv_dir')\n",
    "create_if_not_exist(csv_dir)\n",
    "csv_dir = os.path.join(csv_dir, model_name+'.csv')\n",
    "csv_log = tf.keras.callbacks.CSVLogger(csv_dir, append=True)\n",
    "absolute = abspath(csv_dir)\n",
    "print(\"Csv_dir\",absolute)"
   ]
  },
  {
   "cell_type": "code",
   "execution_count": 28,
   "metadata": {
    "pycharm": {
     "name": "#%%\n"
    }
   },
   "outputs": [
    {
     "name": "stdout",
     "output_type": "stream",
     "text": [
      "Image_gen_dir /home/azeghost/git/new_GAN_models/Generative_Models/recording/pacmanTrans_Conv_AE/image_gen_dir\n"
     ]
    }
   ],
   "source": [
    "image_gen_dir = os.path.join(recording_dir, 'image_gen_dir')\n",
    "create_if_not_exist(image_gen_dir)\n",
    "absolute = abspath(image_gen_dir)\n",
    "print(\"Image_gen_dir\",absolute)"
   ]
  },
  {
   "cell_type": "code",
   "execution_count": 29,
   "metadata": {
    "pycharm": {
     "name": "#%%\n"
    }
   },
   "outputs": [],
   "source": [
    "sg = SampleGeneration(latent_shape=latent_dim, filepath=image_gen_dir, gen_freq=5, save_img=True, gray_plot=False)"
   ]
  },
  {
   "cell_type": "markdown",
   "metadata": {},
   "source": [
    "# Model Training"
   ]
  },
  {
   "cell_type": "code",
   "execution_count": null,
   "metadata": {
    "pycharm": {
     "name": "#%%\n"
    },
    "scrolled": false
   },
   "outputs": [
    {
     "data": {
      "application/vnd.jupyter.widget-view+json": {
       "model_id": "1973d18364bf4a52bf74e5ceb21304c4",
       "version_major": 2,
       "version_minor": 0
      },
      "text/plain": [
       "HBox(children=(FloatProgress(value=0.0, description='Training', max=1000000.0, style=ProgressStyle(description…"
      ]
     },
     "metadata": {},
     "output_type": "display_data"
    },
    {
     "data": {
      "application/vnd.jupyter.widget-view+json": {
       "model_id": "6004411ba8294f7a985e5ac99bd5b25e",
       "version_major": 2,
       "version_minor": 0
      },
      "text/plain": [
       "HBox(children=(FloatProgress(value=0.0, description='Epoch 0', max=50.0, style=ProgressStyle(description_width…"
      ]
     },
     "metadata": {},
     "output_type": "display_data"
    }
   ],
   "source": [
    "ae.fit(\n",
    "    x=train_ds,\n",
    "    input_kw=None,\n",
    "    steps_per_epoch=1000,\n",
    "    epochs=int(1e6), \n",
    "    verbose=1,\n",
    "    callbacks=[ es, ms, csv_log, sg],\n",
    "    workers=-1,\n",
    "    use_multiprocessing=True\n",
    ")"
   ]
  },
  {
   "cell_type": "code",
   "execution_count": null,
   "metadata": {},
   "outputs": [],
   "source": []
  },
  {
   "cell_type": "code",
   "execution_count": null,
   "metadata": {},
   "outputs": [],
   "source": []
  },
  {
   "cell_type": "code",
   "execution_count": null,
   "metadata": {},
   "outputs": [],
   "source": []
  }
 ],
 "metadata": {
  "kernelspec": {
   "display_name": "Python 3",
   "language": "python",
   "name": "python3"
  },
  "language_info": {
   "codemirror_mode": {
    "name": "ipython",
    "version": 3
   },
   "file_extension": ".py",
   "mimetype": "text/x-python",
   "name": "python",
   "nbconvert_exporter": "python",
   "pygments_lexer": "ipython3",
   "version": "3.7.6"
  },
  "pycharm": {
   "stem_cell": {
    "cell_type": "raw",
    "metadata": {
     "collapsed": false
    },
    "source": []
   }
  }
 },
 "nbformat": 4,
 "nbformat_minor": 2
}
