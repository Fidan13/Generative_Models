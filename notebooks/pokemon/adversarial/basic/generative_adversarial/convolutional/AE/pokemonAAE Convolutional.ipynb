{
 "cells": [
  {
   "cell_type": "markdown",
   "metadata": {},
   "source": [
    "# Settings"
   ]
  },
  {
   "cell_type": "code",
   "execution_count": 1,
   "metadata": {},
   "outputs": [
    {
     "name": "stdout",
     "output_type": "stream",
     "text": [
      "env: TF_KERAS=1\n",
      "\\\n"
     ]
    }
   ],
   "source": [
    "%env TF_KERAS = 1\n",
    "import os\n",
    "sep_local = os.path.sep\n",
    "\n",
    "import sys\n",
    "sys.path.append('..'+sep_local+'..')\n",
    "print(sep_local)"
   ]
  },
  {
   "cell_type": "code",
   "execution_count": 2,
   "metadata": {},
   "outputs": [
    {
     "name": "stdout",
     "output_type": "stream",
     "text": [
      "2.1.0\n"
     ]
    }
   ],
   "source": [
    "import tensorflow as tf\n",
    "print(tf.__version__)"
   ]
  },
  {
   "cell_type": "markdown",
   "metadata": {},
   "source": [
    "# Dataset loading"
   ]
  },
  {
   "cell_type": "code",
   "execution_count": 3,
   "metadata": {},
   "outputs": [],
   "source": [
    "dataset_name='pokemon'"
   ]
  },
  {
   "cell_type": "code",
   "execution_count": 4,
   "metadata": {},
   "outputs": [],
   "source": [
    "IMG_DIR = 'C:\\\\Users\\\\Khalid\\\\Documents\\projects\\\\pokemon\\DS06\\\\'\n",
    "VAL_PCT = 20\n",
    "VAL_FORMAT = 'png'"
   ]
  },
  {
   "cell_type": "code",
   "execution_count": 5,
   "metadata": {},
   "outputs": [],
   "source": [
    "os.chdir('..'+sep_local+'..'+sep_local+'..'+sep_local+'..'+sep_local+'..'+sep_local+'..'+sep_local+'..'+sep_local+'..')\n",
    "print(os.getcwd())"
   ]
  },
  {
   "cell_type": "code",
   "execution_count": 6,
   "metadata": {},
   "outputs": [
    {
     "name": "stderr",
     "output_type": "stream",
     "text": [
      "Using TensorFlow backend.\n"
     ]
    }
   ],
   "source": [
    "from training.generators.file_image_generator import create_image_lists, get_generators"
   ]
  },
  {
   "cell_type": "code",
   "execution_count": 7,
   "metadata": {},
   "outputs": [
    {
     "name": "stdout",
     "output_type": "stream",
     "text": [
      "\n"
     ]
    },
    {
     "name": "stderr",
     "output_type": "stream",
     "text": [
      "  DEBUG    | Looking for images in 'all'\n"
     ]
    },
    {
     "name": "stdout",
     "output_type": "stream",
     "text": [
      "\n"
     ]
    },
    {
     "name": "stderr",
     "output_type": "stream",
     "text": [
      "  INFO     | 809 file found\n"
     ]
    }
   ],
   "source": [
    "imgs_list = create_image_lists(\n",
    "    image_dir=IMG_DIR, \n",
    "    validation_pct=VAL_PCT, \n",
    "    valid_imgae_formats=VAL_FORMAT\n",
    ")"
   ]
  },
  {
   "cell_type": "code",
   "execution_count": 8,
   "metadata": {},
   "outputs": [],
   "source": [
    "inputs_shape= IMG_SIZE=(200, 200, 3)\n",
    "BATCH_SIZE = 32\n",
    "latent_dim = 32\n",
    "intermediate_dim = 32"
   ]
  },
  {
   "cell_type": "code",
   "execution_count": 9,
   "metadata": {},
   "outputs": [
    {
     "name": "stdout",
     "output_type": "stream",
     "text": [
      "\n"
     ]
    },
    {
     "name": "stderr",
     "output_type": "stream",
     "text": [
      "  INFO     | Found 738 training files\n"
     ]
    },
    {
     "name": "stdout",
     "output_type": "stream",
     "text": [
      "\n"
     ]
    },
    {
     "name": "stderr",
     "output_type": "stream",
     "text": [
      "  INFO     | Found 71 validation files\n"
     ]
    }
   ],
   "source": [
    "train_gen, test_gen = get_generators(\n",
    "    images_list=imgs_list, \n",
    "    image_dir=IMG_DIR, \n",
    "    image_size=IMG_SIZE, \n",
    "    batch_size=BATCH_SIZE, \n",
    "    class_mode=None\n",
    ")"
   ]
  },
  {
   "cell_type": "code",
   "execution_count": 10,
   "metadata": {},
   "outputs": [],
   "source": [
    "import tensorflow as tf"
   ]
  },
  {
   "cell_type": "code",
   "execution_count": 11,
   "metadata": {},
   "outputs": [],
   "source": [
    "train_ds = tf.data.Dataset.from_generator(\n",
    "    lambda: train_gen, \n",
    "    output_types=tf.float32 ,\n",
    "    output_shapes=tf.TensorShape((BATCH_SIZE, ) + IMG_SIZE)\n",
    ")\n",
    "\n",
    "test_ds = tf.data.Dataset.from_generator(\n",
    "    lambda: test_gen, \n",
    "    output_types=tf.float32 ,\n",
    "    output_shapes=tf.TensorShape((BATCH_SIZE, ) + IMG_SIZE)\n",
    ")"
   ]
  },
  {
   "cell_type": "code",
   "execution_count": 12,
   "metadata": {},
   "outputs": [],
   "source": [
    "_instance_scale=1.0\n",
    "for data in train_ds:\n",
    "    _instance_scale = float(data[0].numpy().max())\n",
    "    break"
   ]
  },
  {
   "cell_type": "code",
   "execution_count": 13,
   "metadata": {},
   "outputs": [
    {
     "data": {
      "text/plain": [
       "1.0"
      ]
     },
     "execution_count": 13,
     "metadata": {},
     "output_type": "execute_result"
    }
   ],
   "source": [
    "_instance_scale"
   ]
  },
  {
   "cell_type": "code",
   "execution_count": 14,
   "metadata": {},
   "outputs": [],
   "source": [
    "import numpy as np\n",
    "from collections.abc import Iterable"
   ]
  },
  {
   "cell_type": "code",
   "execution_count": 15,
   "metadata": {},
   "outputs": [],
   "source": [
    "if isinstance(inputs_shape, Iterable):\n",
    "    _outputs_shape = np.prod(inputs_shape)"
   ]
  },
  {
   "cell_type": "code",
   "execution_count": 16,
   "metadata": {},
   "outputs": [
    {
     "data": {
      "text/plain": [
       "120000"
      ]
     },
     "execution_count": 16,
     "metadata": {},
     "output_type": "execute_result"
    }
   ],
   "source": [
    "_outputs_shape"
   ]
  },
  {
   "cell_type": "markdown",
   "metadata": {},
   "source": [
    "# Model's Layers definition"
   ]
  },
  {
   "cell_type": "code",
   "execution_count": 17,
   "metadata": {},
   "outputs": [],
   "source": [
    "units=20\n",
    "c=50\n",
    "enc_lays = [\n",
    "    tf.keras.layers.Conv2D(filters=units, kernel_size=3, strides=(2, 2), activation='relu'),\n",
    "    tf.keras.layers.Flatten(),\n",
    "    # No activation\n",
    "    tf.keras.layers.Dense(latent_dim)\n",
    "]\n",
    "\n",
    "dec_lays = [\n",
    "    tf.keras.layers.Dense(units=c*c*units, activation=tf.nn.relu),\n",
    "    tf.keras.layers.Reshape(target_shape=(c , c, units)),\n",
    "    tf.keras.layers.Conv2DTranspose(filters=units, kernel_size=3, strides=(2, 2), padding=\"SAME\", activation='relu'),\n",
    "    tf.keras.layers.Conv2DTranspose(filters=units*3, kernel_size=3, strides=(2, 2), padding=\"SAME\", activation='relu'),\n",
    "    \n",
    "    # No activation\n",
    "    tf.keras.layers.Conv2DTranspose(filters=3, kernel_size=3, strides=(1, 1), padding=\"SAME\")\n",
    "]"
   ]
  },
  {
   "cell_type": "markdown",
   "metadata": {},
   "source": [
    "# Model definition"
   ]
  },
  {
   "cell_type": "code",
   "execution_count": 18,
   "metadata": {},
   "outputs": [],
   "source": [
    "model_name = dataset_name+'ConvITAAE'\n",
    "recording_dir='recording'+sep_local+model_name"
   ]
  },
  {
   "cell_type": "code",
   "execution_count": 19,
   "metadata": {
    "scrolled": true
   },
   "outputs": [],
   "source": [
    "from training.adversarial_basic.generative_adversarial.autoencoders.AAE import AAE as AE"
   ]
  },
  {
   "cell_type": "code",
   "execution_count": 20,
   "metadata": {},
   "outputs": [],
   "source": [
    "inputs_shape=IMG_SIZE"
   ]
  },
  {
   "cell_type": "code",
   "execution_count": 21,
   "metadata": {},
   "outputs": [],
   "source": [
    "variables_params = \\\n",
    "[\n",
    "    {\n",
    "        'name': 'inference', \n",
    "        'inputs_shape':inputs_shape,\n",
    "        'outputs_shape':latent_dim,\n",
    "        'layers': enc_lays\n",
    "    }\n",
    "\n",
    "    ,\n",
    "    \n",
    "        {\n",
    "        'name': 'generative', \n",
    "        'inputs_shape':latent_dim,\n",
    "        'outputs_shape':inputs_shape,\n",
    "        'layers':dec_lays\n",
    "    }\n",
    "]"
   ]
  },
  {
   "cell_type": "code",
   "execution_count": 22,
   "metadata": {},
   "outputs": [],
   "source": [
    "from utils.data_and_files.file_utils import create_if_not_exist"
   ]
  },
  {
   "cell_type": "code",
   "execution_count": 23,
   "metadata": {},
   "outputs": [],
   "source": [
    "_restore = os.path.join(recording_dir, 'var_save_dir')"
   ]
  },
  {
   "cell_type": "code",
   "execution_count": 24,
   "metadata": {},
   "outputs": [
    {
     "data": {
      "text/plain": [
       "'recording\\\\pokemonConvIAAE\\\\var_save_dir'"
      ]
     },
     "execution_count": 24,
     "metadata": {},
     "output_type": "execute_result"
    }
   ],
   "source": [
    "create_if_not_exist(_restore)\n",
    "_restore"
   ]
  },
  {
   "cell_type": "code",
   "execution_count": 25,
   "metadata": {},
   "outputs": [],
   "source": [
    "#to restore trained model, set filepath=_restore"
   ]
  },
  {
   "cell_type": "code",
   "execution_count": null,
   "metadata": {},
   "outputs": [],
   "source": [
    "from statistical.basic_adversarial_losses import \\\n",
    "    create_genertive_discriminator_real_losses, \\\n",
    "    create_genertive_discriminator_fake_losses, \\\n",
    "    create_genertive_discriminator_fake_losses, \\\n",
    "\n",
    "generative_discriminator_losses = {\n",
    "    'generative_discriminator_fake_outputs': create_genertive_discriminator_real_losses,\n",
    "    ''generative_discriminator_fake_outputs'': create_genertive_discriminator_fake_losses,\n",
    "    'genertive_generator_fake_outputs': create_genertive_generator_fake_losses,\n",
    "}"
   ]
  },
  {
   "cell_type": "code",
   "execution_count": 26,
   "metadata": {
    "scrolled": false
   },
   "outputs": [
    {
     "name": "stdout",
     "output_type": "stream",
     "text": [
      "Model: \"inference\"\n",
      "_________________________________________________________________\n",
      "Layer (type)                 Output Shape              Param #   \n",
      "=================================================================\n",
      "inference_inputs (InputLayer [(None, 200, 200, 3)]     0         \n",
      "_________________________________________________________________\n",
      "conv2d (Conv2D)              (None, 99, 99, 20)        560       \n",
      "_________________________________________________________________\n",
      "flatten (Flatten)            (None, 196020)            0         \n",
      "_________________________________________________________________\n",
      "dense (Dense)                (None, 32)                6272672   \n",
      "_________________________________________________________________\n",
      "batch_normalization (BatchNo (None, 32)                128       \n",
      "_________________________________________________________________\n",
      "dropout (Dropout)            (None, 32)                0         \n",
      "_________________________________________________________________\n",
      "activity_regularization (Act (None, 32)                0         \n",
      "_________________________________________________________________\n",
      "inference_outputs (Activatio (None, 32)                0         \n",
      "=================================================================\n",
      "Total params: 6,273,360\n",
      "Trainable params: 6,273,296\n",
      "Non-trainable params: 64\n",
      "_________________________________________________________________\n",
      "\n"
     ]
    },
    {
     "name": "stderr",
     "output_type": "stream",
     "text": [
      "  WARNING  | None\n"
     ]
    },
    {
     "name": "stdout",
     "output_type": "stream",
     "text": [
      "Model: \"generative\"\n",
      "_________________________________________________________________\n",
      "Layer (type)                 Output Shape              Param #   \n",
      "=================================================================\n",
      "generative_inputs (InputLaye [(None, 32)]              0         \n",
      "_________________________________________________________________\n",
      "dense_1 (Dense)              (None, 50000)             1650000   \n",
      "_________________________________________________________________\n",
      "reshape (Reshape)            (None, 50, 50, 20)        0         \n",
      "_________________________________________________________________\n",
      "conv2d_transpose (Conv2DTran (None, 100, 100, 20)      3620      \n",
      "_________________________________________________________________\n",
      "conv2d_transpose_1 (Conv2DTr (None, 200, 200, 60)      10860     \n",
      "_________________________________________________________________\n",
      "conv2d_transpose_2 (Conv2DTr (None, 200, 200, 3)       1623      \n",
      "_________________________________________________________________\n",
      "batch_normalization_1 (Batch (None, 200, 200, 3)       12        \n",
      "_________________________________________________________________\n",
      "dropout_1 (Dropout)          (None, 200, 200, 3)       0         \n",
      "_________________________________________________________________\n",
      "activity_regularization_1 (A (None, 200, 200, 3)       0         \n",
      "_________________________________________________________________\n",
      "generative_outputs (Activati (None, 200, 200, 3)       0         \n",
      "=================================================================\n",
      "Total params: 1,666,115\n",
      "Trainable params: 1,666,109\n",
      "Non-trainable params: 6\n",
      "_________________________________________________________________\n",
      "\n"
     ]
    },
    {
     "name": "stderr",
     "output_type": "stream",
     "text": [
      "  WARNING  | None\n"
     ]
    }
   ],
   "source": [
    "ae = AE( \n",
    "    adversarial_losses=generative_discriminator_losses,\n",
    "    inputs_shape=inputs_shape,\n",
    "    outputs_shape=inputs_shape,\n",
    "    latent_dim=latent_dim,\n",
    "    batch_size=BATCH_SIZE,\n",
    "    variables_params=variables_params, \n",
    "    filepath=None\n",
    "    )"
   ]
  },
  {
   "cell_type": "code",
   "execution_count": 27,
   "metadata": {},
   "outputs": [
    {
     "name": "stdout",
     "output_type": "stream",
     "text": [
      "Model: \"pokemonConvIAAE\"\n",
      "_________________________________________________________________\n",
      "Layer (type)                 Output Shape              Param #   \n",
      "=================================================================\n",
      "inference_inputs (InputLayer [(None, 200, 200, 3)]     0         \n",
      "_________________________________________________________________\n",
      "inference (Model)            (None, 32)                6273360   \n",
      "_________________________________________________________________\n",
      "generative (Model)           (None, 200, 200, 3)       1666115   \n",
      "_________________________________________________________________\n",
      "tf_op_layer_x_logits (Tensor [(None, 200, 200, 3)]     0         \n",
      "=================================================================\n",
      "Total params: 7,939,475\n",
      "Trainable params: 7,939,405\n",
      "Non-trainable params: 70\n",
      "_________________________________________________________________\n",
      "None\n"
     ]
    }
   ],
   "source": [
    "discr2gen_rate = 0.001\n",
    "gen2trad_rate = 0.1\n",
    "\n",
    "ae.compile(\n",
    "    adversarial_losses=inference_discriminator_losses,\n",
    "    adversarial_weights={'generator_weight': gen2trad_rate, 'discriminator_weight': discr2gen_rate}\n",)"
   ]
  },
  {
   "cell_type": "code",
   "execution_count": 28,
   "metadata": {},
   "outputs": [],
   "source": [
    "\n",
    "from training.callbacks.sample_generation import SampleGeneration\n",
    "from training.callbacks.save_model import ModelSaver"
   ]
  },
  {
   "cell_type": "code",
   "execution_count": 29,
   "metadata": {},
   "outputs": [],
   "source": [
    ""
   ]
  },
  {
   "cell_type": "code",
   "execution_count": 30,
   "metadata": {},
   "outputs": [],
   "source": [
    "es = tf.keras.callbacks.EarlyStopping(\n",
    "    monitor='val_loss', \n",
    "    min_delta=1e-12, \n",
    "    patience=5, \n",
    "    verbose=1, \n",
    "    restore_best_weights=True\n",
    ")"
   ]
  },
  {
   "cell_type": "code",
   "execution_count": 31,
   "metadata": {},
   "outputs": [],
   "source": [
    "ms = ModelSaver(filepath=_restore,save_freq=5)"
   ]
  },
  {
   "cell_type": "code",
   "execution_count": 32,
   "metadata": {},
   "outputs": [
    {
     "data": {
      "text/plain": [
       "'recording\\\\pokemonConvIAAE\\\\csv_dir\\\\pokemonConvIAAE.csv'"
      ]
     },
     "execution_count": 32,
     "metadata": {},
     "output_type": "execute_result"
    }
   ],
   "source": [
    "csv_dir = os.path.join(recording_dir, 'csv_dir')\n",
    "create_if_not_exist(csv_dir)\n",
    "csv_dir = os.path.join(csv_dir, ae.name+'.csv')\n",
    "csv_log = tf.keras.callbacks.CSVLogger(csv_dir, append=True)\n",
    "csv_dir"
   ]
  },
  {
   "cell_type": "code",
   "execution_count": 33,
   "metadata": {},
   "outputs": [],
   "source": [
    "image_gen_dir = os.path.join(recording_dir, 'image_gen_dir')\n",
    "create_if_not_exist(image_gen_dir)"
   ]
  },
  {
   "cell_type": "code",
   "execution_count": 34,
   "metadata": {},
   "outputs": [],
   "source": [
    "sg = SampleGeneration(latent_shape=latent_dim, filepath=image_gen_dir, gen_freq=5, save_img=True, gray_plot=False)"
   ]
  },
  {
   "cell_type": "code",
   "execution_count": 35,
   "metadata": {},
   "outputs": [],
   "source": [
    "import numpy as np"
   ]
  },
  {
   "cell_type": "code",
   "execution_count": 36,
   "metadata": {
    "scrolled": true
   },
   "outputs": [
    {
     "name": "stdout",
     "output_type": "stream",
     "text": [
      "\n",
      "training traditional basicAE\n"
     ]
    },
    {
     "data": {
      "application/vnd.jupyter.widget-view+json": {
       "model_id": "",
       "version_major": 2,
       "version_minor": 0
      },
      "text/plain": [
       "HBox(children=(IntProgress(value=0, description='Training', max=10, style=ProgressStyle(description_width='ini…"
      ]
     },
     "metadata": {},
     "output_type": "display_data"
    },
    {
     "data": {
      "application/vnd.jupyter.widget-view+json": {
       "model_id": "",
       "version_major": 2,
       "version_minor": 0
      },
      "text/plain": [
       "HBox(children=(IntProgress(value=0, description='Epoch 0', max=10, style=ProgressStyle(description_width='init…"
      ]
     },
     "metadata": {},
     "output_type": "display_data"
    },
    {
     "data": {
      "application/vnd.jupyter.widget-view+json": {
       "model_id": "",
       "version_major": 2,
       "version_minor": 0
      },
      "text/plain": [
       "HBox(children=(IntProgress(value=0, description='Epoch 1', max=10, style=ProgressStyle(description_width='init…"
      ]
     },
     "metadata": {},
     "output_type": "display_data"
    },
    {
     "data": {
      "application/vnd.jupyter.widget-view+json": {
       "model_id": "",
       "version_major": 2,
       "version_minor": 0
      },
      "text/plain": [
       "HBox(children=(IntProgress(value=0, description='Epoch 2', max=10, style=ProgressStyle(description_width='init…"
      ]
     },
     "metadata": {},
     "output_type": "display_data"
    },
    {
     "data": {
      "application/vnd.jupyter.widget-view+json": {
       "model_id": "",
       "version_major": 2,
       "version_minor": 0
      },
      "text/plain": [
       "HBox(children=(IntProgress(value=0, description='Epoch 3', max=10, style=ProgressStyle(description_width='init…"
      ]
     },
     "metadata": {},
     "output_type": "display_data"
    },
    {
     "data": {
      "application/vnd.jupyter.widget-view+json": {
       "model_id": "",
       "version_major": 2,
       "version_minor": 0
      },
      "text/plain": [
       "HBox(children=(IntProgress(value=0, description='Epoch 4', max=10, style=ProgressStyle(description_width='init…"
      ]
     },
     "metadata": {},
     "output_type": "display_data"
    },
    {
     "data": {
      "application/vnd.jupyter.widget-view+json": {
       "model_id": "",
       "version_major": 2,
       "version_minor": 0
      },
      "text/plain": [
       "HBox(children=(IntProgress(value=0, description='Epoch 5', max=10, style=ProgressStyle(description_width='init…"
      ]
     },
     "metadata": {},
     "output_type": "display_data"
    },
    {
     "data": {
      "application/vnd.jupyter.widget-view+json": {
       "model_id": "",
       "version_major": 2,
       "version_minor": 0
      },
      "text/plain": [
       "HBox(children=(IntProgress(value=0, description='Epoch 6', max=10, style=ProgressStyle(description_width='init…"
      ]
     },
     "metadata": {},
     "output_type": "display_data"
    },
    {
     "data": {
      "application/vnd.jupyter.widget-view+json": {
       "model_id": "",
       "version_major": 2,
       "version_minor": 0
      },
      "text/plain": [
       "HBox(children=(IntProgress(value=0, description='Epoch 7', max=10, style=ProgressStyle(description_width='init…"
      ]
     },
     "metadata": {},
     "output_type": "display_data"
    },
    {
     "data": {
      "application/vnd.jupyter.widget-view+json": {
       "model_id": "",
       "version_major": 2,
       "version_minor": 0
      },
      "text/plain": [
       "HBox(children=(IntProgress(value=0, description='Epoch 8', max=10, style=ProgressStyle(description_width='init…"
      ]
     },
     "metadata": {},
     "output_type": "display_data"
    },
    {
     "data": {
      "application/vnd.jupyter.widget-view+json": {
       "model_id": "",
       "version_major": 2,
       "version_minor": 0
      },
      "text/plain": [
       "HBox(children=(IntProgress(value=0, description='Epoch 9', max=10, style=ProgressStyle(description_width='init…"
      ]
     },
     "metadata": {},
     "output_type": "display_data"
    },
    {
     "name": "stdout",
     "output_type": "stream",
     "text": [
      "Model: \"generative_discriminator_real\"\n",
      "_________________________________________________________________\n",
      "Layer (type)                 Output Shape              Param #   \n",
      "=================================================================\n",
      "inference_inputs (InputLayer [(None, 200, 200, 3)]     0         \n",
      "_________________________________________________________________\n",
      "conv2d (Conv2D)              (None, 99, 99, 20)        560       \n",
      "_________________________________________________________________\n",
      "flatten (Flatten)            (None, 196020)            0         \n",
      "_________________________________________________________________\n",
      "dense (Dense)                (None, 32)                6272672   \n",
      "_________________________________________________________________\n",
      "batch_normalization (BatchNo (None, 32)                128       \n",
      "_________________________________________________________________\n",
      "dropout (Dropout)            (None, 32)                0         \n",
      "_________________________________________________________________\n",
      "activity_regularization (Act (None, 32)                0         \n",
      "_________________________________________________________________\n",
      "inference_outputs (Activatio (None, 32)                0         \n",
      "_________________________________________________________________\n",
      "flatten_1 (Flatten)          (None, 32)                0         \n",
      "_________________________________________________________________\n",
      "genertive_discriminator_real_ou (None, 1)                 33        \n",
      "=================================================================\n",
      "Total params: 6,273,393\n",
      "Trainable params: 6,273,329\n",
      "Non-trainable params: 64\n",
      "_________________________________________________________________\n",
      "None\n",
      "Model: \"generative_discriminator_fake\"\n",
      "_________________________________________________________________\n",
      "Layer (type)                 Output Shape              Param #   \n",
      "=================================================================\n",
      "inference_inputs (InputLayer [(None, 200, 200, 3)]     0         \n",
      "_________________________________________________________________\n",
      "conv2d (Conv2D)              (None, 99, 99, 20)        560       \n",
      "_________________________________________________________________\n",
      "flatten (Flatten)            (None, 196020)            0         \n",
      "_________________________________________________________________\n",
      "dense (Dense)                (None, 32)                6272672   \n",
      "_________________________________________________________________\n",
      "batch_normalization (BatchNo (None, 32)                128       \n",
      "_________________________________________________________________\n",
      "dropout (Dropout)            (None, 32)                0         \n",
      "_________________________________________________________________\n",
      "activity_regularization (Act (None, 32)                0         \n",
      "_________________________________________________________________\n",
      "inference_outputs (Activatio (None, 32)                0         \n",
      "_________________________________________________________________\n",
      "flatten_2 (Flatten)          (None, 32)                0         \n",
      "_________________________________________________________________\n",
      "genertive_discriminator_fake_ou (None, 1)                 33        \n",
      "=================================================================\n",
      "Total params: 6,273,393\n",
      "Trainable params: 6,273,329\n",
      "Non-trainable params: 64\n",
      "_________________________________________________________________\n",
      "None\n",
      "\n",
      "training inputs real discriminator\n",
      "Train for 10 steps, validate for 10 steps\n",
      "Epoch 1/10\n",
      "10/10 [==============================] - ETA: 10s - loss: 0.45 - ETA: 5s - loss: 0.6250 - ETA: 3s - loss: 0.586 - ETA: 2s - loss: 0.570 - ETA: 1s - loss: 0.545 - ETA: 1s - loss: 0.526 - ETA: 0s - loss: 0.507 - ETA: 0s - loss: 0.495 - ETA: 0s - loss: 0.484 - 3s 341ms/step - loss: 0.4779 - val_loss: 0.0100\n",
      "Epoch 2/10\n",
      "10/10 [==============================] - ETA: 0s - loss: 0.438 - ETA: 0s - loss: 0.410 - ETA: 0s - loss: 0.401 - ETA: 0s - loss: 0.399 - ETA: 0s - loss: 0.391 - 2s 150ms/step - loss: 0.3871 - val_loss: 0.0538\n",
      "Epoch 3/10\n",
      "10/10 [==============================] - ETA: 0s - loss: 0.369 - ETA: 0s - loss: 0.369 - ETA: 0s - loss: 0.376 - ETA: 0s - loss: 0.379 - ETA: 0s - loss: 0.379 - 1s 148ms/step - loss: 0.3797 - val_loss: 0.1849\n",
      "Epoch 4/10\n",
      "10/10 [==============================] - ETA: 0s - loss: 0.332 - ETA: 0s - loss: 0.340 - ETA: 0s - loss: 0.347 - ETA: 0s - loss: 0.344 - ETA: 0s - loss: 0.351 - 1s 148ms/step - loss: 0.3533 - val_loss: 0.2416\n",
      "Epoch 5/10\n",
      "10/10 [==============================] - ETA: 0s - loss: 0.343 - ETA: 0s - loss: 0.364 - ETA: 0s - loss: 0.346 - ETA: 0s - loss: 0.346 - ETA: 0s - loss: 0.344 - 1s 148ms/step - loss: 0.3454 - val_loss: 0.4249\n",
      "Epoch 6/10\n",
      "10/10 [==============================] - ETA: 0s - loss: 0.303 - ETA: 0s - loss: 0.310 - ETA: 0s - loss: 0.315 - ETA: 0s - loss: 0.313 - ETA: 0s - loss: 0.318 - 1s 150ms/step - loss: 0.3208 - val_loss: 0.5189\n",
      "Epoch 7/10\n",
      "10/10 [==============================] - ETA: 0s - loss: 0.304 - ETA: 0s - loss: 0.303 - ETA: 0s - loss: 0.307 - ETA: 0s - loss: 0.317 - ETA: 0s - loss: 0.313 - 1s 147ms/step - loss: 0.3170 - val_loss: 0.4909\n",
      "Epoch 8/10\n",
      "10/10 [==============================] - ETA: 0s - loss: 0.326 - ETA: 0s - loss: 0.321 - ETA: 0s - loss: 0.310 - ETA: 0s - loss: 0.308 - ETA: 0s - loss: 0.309 - 1s 147ms/step - loss: 0.3132 - val_loss: 0.3890\n",
      "Epoch 9/10\n",
      "10/10 [==============================] - ETA: 0s - loss: 0.284 - ETA: 0s - loss: 0.327 - ETA: 0s - loss: 0.339 - ETA: 0s - loss: 0.334 - ETA: 0s - loss: 0.332 - 1s 147ms/step - loss: 0.3336 - val_loss: 0.2118\n",
      "Epoch 10/10\n",
      "10/10 [==============================] - ETA: 0s - loss: 0.325 - ETA: 0s - loss: 0.304 - ETA: 0s - loss: 0.305 - ETA: 0s - loss: 0.303 - ETA: 0s - loss: 0.304 - 1s 148ms/step - loss: 0.3055 - val_loss: 0.2362\n",
      "\n",
      "training inputs fake discriminator\n",
      "Train for 10 steps, validate for 10 steps\n",
      "Epoch 1/10\n",
      "10/10 [==============================] - ETA: 12s - loss: 0.42 - ETA: 5s - loss: 0.7629 - ETA: 3s - loss: 0.731 - ETA: 2s - loss: 0.700 - ETA: 1s - loss: 0.680 - ETA: 1s - loss: 0.643 - ETA: 0s - loss: 0.614 - ETA: 0s - loss: 0.583 - ETA: 0s - loss: 0.569 - 4s 357ms/step - loss: 0.5580 - val_loss: 0.9669\n",
      "Epoch 2/10\n",
      "10/10 [==============================] - ETA: 0s - loss: 0.479 - ETA: 0s - loss: 0.400 - ETA: 0s - loss: 0.386 - ETA: 0s - loss: 0.389 - ETA: 0s - loss: 0.375 - 1s 149ms/step - loss: 0.3734 - val_loss: 0.6255\n",
      "Epoch 3/10\n",
      "10/10 [==============================] - ETA: 0s - loss: 0.368 - ETA: 0s - loss: 0.347 - ETA: 0s - loss: 0.360 - ETA: 0s - loss: 0.348 - ETA: 0s - loss: 0.344 - 1s 148ms/step - loss: 0.3378 - val_loss: 0.4961\n",
      "Epoch 4/10\n",
      "10/10 [==============================] - ETA: 0s - loss: 0.348 - ETA: 0s - loss: 0.348 - ETA: 0s - loss: 0.354 - ETA: 0s - loss: 0.352 - ETA: 0s - loss: 0.343 - 1s 150ms/step - loss: 0.3414 - val_loss: 0.5900\n",
      "Epoch 5/10\n",
      "10/10 [==============================] - ETA: 0s - loss: 0.320 - ETA: 0s - loss: 0.306 - ETA: 0s - loss: 0.308 - ETA: 0s - loss: 0.305 - ETA: 0s - loss: 0.309 - 1s 147ms/step - loss: 0.3100 - val_loss: 0.5475\n",
      "Epoch 6/10\n",
      "10/10 [==============================] - ETA: 0s - loss: 0.288 - ETA: 0s - loss: 0.316 - ETA: 0s - loss: 0.305 - ETA: 0s - loss: 0.301 - ETA: 0s - loss: 0.297 - 1s 147ms/step - loss: 0.2959 - val_loss: 0.4781\n",
      "Epoch 7/10\n",
      "10/10 [==============================] - ETA: 0s - loss: 0.271 - ETA: 0s - loss: 0.278 - ETA: 0s - loss: 0.279 - ETA: 0s - loss: 0.282 - ETA: 0s - loss: 0.277 - 1s 147ms/step - loss: 0.2773 - val_loss: 0.4616\n",
      "Epoch 8/10\n",
      "10/10 [==============================] - ETA: 0s - loss: 0.278 - ETA: 0s - loss: 0.281 - ETA: 0s - loss: 0.278 - ETA: 0s - loss: 0.274 - ETA: 0s - loss: 0.275 - 1s 147ms/step - loss: 0.2745 - val_loss: 0.4328\n",
      "Epoch 9/10\n",
      "10/10 [==============================] - ETA: 0s - loss: 0.235 - ETA: 0s - loss: 0.245 - ETA: 0s - loss: 0.253 - ETA: 0s - loss: 0.260 - ETA: 0s - loss: 0.260 - 1s 146ms/step - loss: 0.2607 - val_loss: 0.3838\n",
      "Epoch 10/10\n",
      "10/10 [==============================] - ETA: 0s - loss: 0.234 - ETA: 0s - loss: 0.248 - ETA: 0s - loss: 0.243 - ETA: 0s - loss: 0.240 - ETA: 0s - loss: 0.241 - 1s 150ms/step - loss: 0.2404 - val_loss: 0.3439\n",
      "Model: \"inputs_AA\"\n",
      "__________________________________________________________________________________________________\n",
      "Layer (type)                    Output Shape         Param #     Connected to                     \n",
      "==================================================================================================\n",
      "inference_inputs (InputLayer)   [(None, 200, 200, 3) 0                                            \n",
      "__________________________________________________________________________________________________\n",
      "tf_op_layer_Shape (TensorFlowOp [(4,)]               0           inference_inputs[0][0]           \n",
      "__________________________________________________________________________________________________\n",
      "tf_op_layer_random_normal/Rando [(None, 200, 200, 3) 0           tf_op_layer_Shape[0][0]          \n",
      "__________________________________________________________________________________________________\n",
      "tf_op_layer_random_normal/mul ( [(None, 200, 200, 3) 0           tf_op_layer_random_normal/RandomS\n",
      "__________________________________________________________________________________________________\n",
      "inference (Model)               (None, 32)           6273360     inference_inputs[0][0]           \n",
      "__________________________________________________________________________________________________\n",
      "tf_op_layer_random_normal (Tens [(None, 200, 200, 3) 0           tf_op_layer_random_normal/mul[0][\n",
      "__________________________________________________________________________________________________\n",
      "generative (Model)              (None, 200, 200, 3)  1666115     inference[2][0]                  \n",
      "__________________________________________________________________________________________________\n",
      "generative_discriminator_fake (Mode (None, 1)            6273393     inference_inputs[0][0]           \n",
      "__________________________________________________________________________________________________\n",
      "generative_discriminator_real (Mode (None, 1)            6273393     tf_op_layer_random_normal[0][0]  \n",
      "__________________________________________________________________________________________________\n",
      "tf_op_layer_x_logits_1 (TensorF [(None, 200, 200, 3) 0           generative[2][0]                 \n",
      "==================================================================================================\n",
      "Total params: 20,486,261\n",
      "Trainable params: 20,486,063\n",
      "Non-trainable params: 198\n",
      "__________________________________________________________________________________________________\n",
      "None\n",
      "\n",
      "training together\n"
     ]
    },
    {
     "data": {
      "application/vnd.jupyter.widget-view+json": {
       "model_id": "",
       "version_major": 2,
       "version_minor": 0
      },
      "text/plain": [
       "HBox(children=(IntProgress(value=0, description='Training', max=10, style=ProgressStyle(description_width='ini…"
      ]
     },
     "metadata": {},
     "output_type": "display_data"
    },
    {
     "data": {
      "application/vnd.jupyter.widget-view+json": {
       "model_id": "",
       "version_major": 2,
       "version_minor": 0
      },
      "text/plain": [
       "HBox(children=(IntProgress(value=0, description='Epoch 0', max=10, style=ProgressStyle(description_width='init…"
      ]
     },
     "metadata": {},
     "output_type": "display_data"
    },
    {
     "name": "stdout",
     "output_type": "stream",
     "text": [
      "INFO:tensorflow:Unsupported signature for serialization: ((<tensorflow.python.framework.func_graph.UnknownArgument object at 0x000001A536309508>, (200, 200, 3), [50, 32], TensorSpec(shape=(50, 32), dtype=tf.float32, name='eps')), {}).\n",
      "INFO:tensorflow:Unsupported signature for serialization: ((<tensorflow.python.framework.func_graph.UnknownArgument object at 0x000001A5428B70C8>, (200, 200, 3), [50, 32], TensorSpec(shape=(50, 32), dtype=tf.float32, name='eps')), {}).\n",
      "INFO:tensorflow:Unsupported signature for serialization: ((<tensorflow.python.framework.func_graph.UnknownArgument object at 0x000001A536309508>, (200, 200, 3), [50, 32], TensorSpec(shape=(50, 32), dtype=tf.float32, name='eps')), {}).\n",
      "INFO:tensorflow:Unsupported signature for serialization: ((<tensorflow.python.framework.func_graph.UnknownArgument object at 0x000001A5428B70C8>, (200, 200, 3), [50, 32], TensorSpec(shape=(50, 32), dtype=tf.float32, name='eps')), {}).\n",
      "WARNING:tensorflow:From C:\\ProgramData\\Anaconda3\\envs\\tf02\\lib\\site-packages\\tensorflow_core\\python\\ops\\resource_variable_ops.py:1786: calling BaseResourceVariable.__init__ (from tensorflow.python.ops.resource_variable_ops) with constraint is deprecated and will be removed in a future version.\n",
      "Instructions for updating:\n",
      "If using Keras pass *_constraint arguments to layers.\n",
      "INFO:tensorflow:Assets written to: recording\\pokemonConvIAAE\\var_save_dir\\assets\n",
      "INFO:tensorflow:Unsupported signature for serialization: ((<tensorflow.python.framework.func_graph.UnknownArgument object at 0x000001A536309508>, (200, 200, 3), [50, 32], TensorSpec(shape=(50, 32), dtype=tf.float32, name='eps')), {}).\n",
      "INFO:tensorflow:Unsupported signature for serialization: ((<tensorflow.python.framework.func_graph.UnknownArgument object at 0x000001A5428B70C8>, (200, 200, 3), [50, 32], TensorSpec(shape=(50, 32), dtype=tf.float32, name='eps')), {}).\n"
     ]
    },
    {
     "data": {
      "application/vnd.jupyter.widget-view+json": {
       "model_id": "",
       "version_major": 2,
       "version_minor": 0
      },
      "text/plain": [
       "HBox(children=(IntProgress(value=0, description='Epoch 1', max=10, style=ProgressStyle(description_width='init…"
      ]
     },
     "metadata": {},
     "output_type": "display_data"
    },
    {
     "data": {
      "application/vnd.jupyter.widget-view+json": {
       "model_id": "",
       "version_major": 2,
       "version_minor": 0
      },
      "text/plain": [
       "HBox(children=(IntProgress(value=0, description='Epoch 2', max=10, style=ProgressStyle(description_width='init…"
      ]
     },
     "metadata": {},
     "output_type": "display_data"
    },
    {
     "data": {
      "application/vnd.jupyter.widget-view+json": {
       "model_id": "",
       "version_major": 2,
       "version_minor": 0
      },
      "text/plain": [
       "HBox(children=(IntProgress(value=0, description='Epoch 3', max=10, style=ProgressStyle(description_width='init…"
      ]
     },
     "metadata": {},
     "output_type": "display_data"
    },
    {
     "data": {
      "application/vnd.jupyter.widget-view+json": {
       "model_id": "",
       "version_major": 2,
       "version_minor": 0
      },
      "text/plain": [
       "HBox(children=(IntProgress(value=0, description='Epoch 4', max=10, style=ProgressStyle(description_width='init…"
      ]
     },
     "metadata": {},
     "output_type": "display_data"
    },
    {
     "data": {
      "application/vnd.jupyter.widget-view+json": {
       "model_id": "",
       "version_major": 2,
       "version_minor": 0
      },
      "text/plain": [
       "HBox(children=(IntProgress(value=0, description='Epoch 5', max=10, style=ProgressStyle(description_width='init…"
      ]
     },
     "metadata": {},
     "output_type": "display_data"
    },
    {
     "name": "stdout",
     "output_type": "stream",
     "text": [
      "INFO:tensorflow:Unsupported signature for serialization: ((<tensorflow.python.framework.func_graph.UnknownArgument object at 0x000001A536309508>, (200, 200, 3), [50, 32], TensorSpec(shape=(50, 32), dtype=tf.float32, name='eps')), {}).\n",
      "INFO:tensorflow:Unsupported signature for serialization: ((<tensorflow.python.framework.func_graph.UnknownArgument object at 0x000001A578D90208>, (200, 200, 3), [50, 32], TensorSpec(shape=(50, 32), dtype=tf.float32, name='eps')), {}).\n",
      "INFO:tensorflow:Unsupported signature for serialization: ((<tensorflow.python.framework.func_graph.UnknownArgument object at 0x000001A5428B70C8>, (200, 200, 3), [50, 32], TensorSpec(shape=(50, 32), dtype=tf.float32, name='eps')), {}).\n",
      "INFO:tensorflow:Unsupported signature for serialization: ((<tensorflow.python.framework.func_graph.UnknownArgument object at 0x000001A536309508>, (200, 200, 3), [50, 32], TensorSpec(shape=(50, 32), dtype=tf.float32, name='eps')), {}).\n",
      "INFO:tensorflow:Unsupported signature for serialization: ((<tensorflow.python.framework.func_graph.UnknownArgument object at 0x000001A578D90208>, (200, 200, 3), [50, 32], TensorSpec(shape=(50, 32), dtype=tf.float32, name='eps')), {}).\n",
      "INFO:tensorflow:Unsupported signature for serialization: ((<tensorflow.python.framework.func_graph.UnknownArgument object at 0x000001A5428B70C8>, (200, 200, 3), [50, 32], TensorSpec(shape=(50, 32), dtype=tf.float32, name='eps')), {}).\n",
      "INFO:tensorflow:Assets written to: recording\\pokemonConvIAAE\\var_save_dir\\assets\n",
      "INFO:tensorflow:Unsupported signature for serialization: ((<tensorflow.python.framework.func_graph.UnknownArgument object at 0x000001A536309508>, (200, 200, 3), [50, 32], TensorSpec(shape=(50, 32), dtype=tf.float32, name='eps')), {}).\n",
      "INFO:tensorflow:Unsupported signature for serialization: ((<tensorflow.python.framework.func_graph.UnknownArgument object at 0x000001A578D90208>, (200, 200, 3), [50, 32], TensorSpec(shape=(50, 32), dtype=tf.float32, name='eps')), {}).\n",
      "INFO:tensorflow:Unsupported signature for serialization: ((<tensorflow.python.framework.func_graph.UnknownArgument object at 0x000001A5428B70C8>, (200, 200, 3), [50, 32], TensorSpec(shape=(50, 32), dtype=tf.float32, name='eps')), {}).\n"
     ]
    },
    {
     "data": {
      "application/vnd.jupyter.widget-view+json": {
       "model_id": "",
       "version_major": 2,
       "version_minor": 0
      },
      "text/plain": [
       "HBox(children=(IntProgress(value=0, description='Epoch 6', max=10, style=ProgressStyle(description_width='init…"
      ]
     },
     "metadata": {},
     "output_type": "display_data"
    },
    {
     "data": {
      "application/vnd.jupyter.widget-view+json": {
       "model_id": "",
       "version_major": 2,
       "version_minor": 0
      },
      "text/plain": [
       "HBox(children=(IntProgress(value=0, description='Epoch 7', max=10, style=ProgressStyle(description_width='init…"
      ]
     },
     "metadata": {},
     "output_type": "display_data"
    },
    {
     "data": {
      "application/vnd.jupyter.widget-view+json": {
       "model_id": "",
       "version_major": 2,
       "version_minor": 0
      },
      "text/plain": [
       "HBox(children=(IntProgress(value=0, description='Epoch 8', max=10, style=ProgressStyle(description_width='init…"
      ]
     },
     "metadata": {},
     "output_type": "display_data"
    },
    {
     "data": {
      "application/vnd.jupyter.widget-view+json": {
       "model_id": "",
       "version_major": 2,
       "version_minor": 0
      },
      "text/plain": [
       "HBox(children=(IntProgress(value=0, description='Epoch 9', max=10, style=ProgressStyle(description_width='init…"
      ]
     },
     "metadata": {},
     "output_type": "display_data"
    },
    {
     "name": "stdout",
     "output_type": "stream",
     "text": [
      "\r"
     ]
    }
   ],
   "source": [
    "ae.fit(\n",
    "    x=train_ds,\n",
    "    input_kw=None,\n",
    "    steps_per_epoch=750,\n",
    "    epochs=int(1e6), \n",
    "    verbose=1,\n",
    "    callbacks=[ es, ms, csv_log, sg],\n",
    "    workers=-1,\n",
    "    use_multiprocessing=True,\n",
    "    validation_data=test_ds,\n",
    "    validation_steps=250\n",
    ")"
   ]
  },
  {
   "cell_type": "code",
   "execution_count": null,
   "metadata": {},
   "outputs": [],
   "source": []
  },
  {
   "cell_type": "code",
   "execution_count": null,
   "metadata": {},
   "outputs": [],
   "source": []
  }
 ],
 "metadata": {
  "kernelspec": {
   "display_name": "Python 3",
   "language": "python",
   "name": "python3"
  },
  "language_info": {
   "codemirror_mode": {
    "name": "ipython",
    "version": 3
   },
   "file_extension": ".py",
   "mimetype": "text/x-python",
   "name": "python",
   "nbconvert_exporter": "python",
   "pygments_lexer": "ipython3",
   "version": "3.7.5"
  }
 },
 "nbformat": 4,
 "nbformat_minor": 2
}
