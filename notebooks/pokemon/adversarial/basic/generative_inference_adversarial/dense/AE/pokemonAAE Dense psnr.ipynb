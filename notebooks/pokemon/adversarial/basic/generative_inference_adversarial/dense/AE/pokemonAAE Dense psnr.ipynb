{
 "cells": [
  {
   "cell_type": "markdown",
   "metadata": {},
   "source": [
    "# Settings"
   ]
  },
  {
   "cell_type": "code",
   "execution_count": 1,
   "metadata": {},
   "outputs": [],
   "source": [
    "%env TF_KERAS = 1\n",
    "import os\n",
    "sep_local = os.path.sep\n",
    "\n",
    "import sys\n",
    "sys.path.append('..'+sep_local+'..')\n",
    "print(sep_local)"
   ]
  },
  {
   "cell_type": "code",
   "execution_count": 2,
   "metadata": {},
   "outputs": [
    {
     "name": "stdout",
     "output_type": "stream",
     "text": [
      "2.1.0\n"
     ]
    }
   ],
   "source": [
    "import tensorflow as tf\n",
    "print(tf.__version__)"
   ]
  },
  {
   "cell_type": "markdown",
   "metadata": {},
   "source": [
    "# Dataset loading"
   ]
  },
  {
   "cell_type": "code",
   "execution_count": 3,
   "metadata": {},
   "outputs": [],
   "source": [
    "dataset_name='pokemon'"
   ]
  },
  {
   "cell_type": "code",
   "execution_count": 4,
   "metadata": {},
   "outputs": [],
   "source": [
    "IMG_DIR = 'C:\\\\Users\\\\Khalid\\\\Documents\\projects\\\\pokemon\\DS06\\\\'\n",
    "VAL_PCT = 20\n",
    "VAL_FORMAT = 'png'"
   ]
  },
  {
   "cell_type": "code",
   "execution_count": 5,
   "metadata": {},
   "outputs": [],
   "source": [
    "os.chdir('..'+sep_local+'..'+sep_local+'..'+sep_local+'..'+sep_local+'..'+sep_local+'..'+sep_local+'..'+sep_local+'..')\n",
    "print(os.getcwd())"
   ]
  },
  {
   "cell_type": "code",
   "execution_count": 6,
   "metadata": {},
   "outputs": [
    {
     "data": {
      "text/plain": [
       "'C:\\\\Users\\\\Khalid\\\\Documents\\\\projects\\\\Generatives\\\\Generative_Models'"
      ]
     },
     "execution_count": 6,
     "metadata": {},
     "output_type": "execute_result"
    }
   ],
   "source": [
    "os.getcwd()"
   ]
  },
  {
   "cell_type": "code",
   "execution_count": 7,
   "metadata": {},
   "outputs": [
    {
     "name": "stderr",
     "output_type": "stream",
     "text": [
      "Using TensorFlow backend.\n"
     ]
    }
   ],
   "source": [
    "from training.generators.file_image_generator import create_image_lists, get_generators"
   ]
  },
  {
   "cell_type": "code",
   "execution_count": 8,
   "metadata": {},
   "outputs": [
    {
     "name": "stdout",
     "output_type": "stream",
     "text": [
      "\n"
     ]
    },
    {
     "name": "stderr",
     "output_type": "stream",
     "text": [
      "  DEBUG    | Looking for images in 'all'\n"
     ]
    },
    {
     "name": "stdout",
     "output_type": "stream",
     "text": [
      "\n"
     ]
    },
    {
     "name": "stderr",
     "output_type": "stream",
     "text": [
      "  INFO     | 809 file found\n"
     ]
    }
   ],
   "source": [
    "imgs_list = create_image_lists(\n",
    "    image_dir=IMG_DIR, \n",
    "    validation_pct=VAL_PCT, \n",
    "    valid_imgae_formats=VAL_FORMAT\n",
    ")"
   ]
  },
  {
   "cell_type": "code",
   "execution_count": 9,
   "metadata": {},
   "outputs": [],
   "source": [
    "inputs_shape= IMG_SIZE=(200, 200, 3)\n",
    "BATCH_SIZE = 32\n",
    "latent_dim = 32\n",
    "intermediate_dim = 16"
   ]
  },
  {
   "cell_type": "code",
   "execution_count": 10,
   "metadata": {},
   "outputs": [
    {
     "name": "stdout",
     "output_type": "stream",
     "text": [
      "\n"
     ]
    },
    {
     "name": "stderr",
     "output_type": "stream",
     "text": [
      "  INFO     | Found 738 training files\n"
     ]
    },
    {
     "name": "stdout",
     "output_type": "stream",
     "text": [
      "\n"
     ]
    },
    {
     "name": "stderr",
     "output_type": "stream",
     "text": [
      "  INFO     | Found 71 validation files\n"
     ]
    }
   ],
   "source": [
    "train_gen, test_gen = get_generators(\n",
    "    images_list=imgs_list, \n",
    "    image_dir=IMG_DIR, \n",
    "    image_size=IMG_SIZE, \n",
    "    batch_size=BATCH_SIZE, \n",
    "    class_mode=None\n",
    ")"
   ]
  },
  {
   "cell_type": "code",
   "execution_count": 11,
   "metadata": {},
   "outputs": [],
   "source": [
    "import tensorflow as tf"
   ]
  },
  {
   "cell_type": "code",
   "execution_count": 12,
   "metadata": {},
   "outputs": [],
   "source": [
    "train_ds = tf.data.Dataset.from_generator(\n",
    "    lambda: train_gen, \n",
    "    output_types=tf.float32 ,\n",
    "    output_shapes=tf.TensorShape((BATCH_SIZE, ) + IMG_SIZE)\n",
    ")\n",
    "\n",
    "test_ds = tf.data.Dataset.from_generator(\n",
    "    lambda: test_gen, \n",
    "    output_types=tf.float32 ,\n",
    "    output_shapes=tf.TensorShape((BATCH_SIZE, ) + IMG_SIZE)\n",
    ")"
   ]
  },
  {
   "cell_type": "code",
   "execution_count": 13,
   "metadata": {},
   "outputs": [],
   "source": [
    "_instance_scale=1.0\n",
    "for data in train_ds:\n",
    "    _instance_scale = float(data[0].numpy().max())\n",
    "    break"
   ]
  },
  {
   "cell_type": "code",
   "execution_count": 14,
   "metadata": {},
   "outputs": [
    {
     "data": {
      "text/plain": [
       "1.0"
      ]
     },
     "execution_count": 14,
     "metadata": {},
     "output_type": "execute_result"
    }
   ],
   "source": [
    "_instance_scale"
   ]
  },
  {
   "cell_type": "code",
   "execution_count": 15,
   "metadata": {},
   "outputs": [],
   "source": [
    "import numpy as np\n",
    "from collections.abc import Iterable"
   ]
  },
  {
   "cell_type": "code",
   "execution_count": 16,
   "metadata": {},
   "outputs": [],
   "source": [
    "if isinstance(inputs_shape, Iterable):\n",
    "    _outputs_shape = np.prod(inputs_shape)"
   ]
  },
  {
   "cell_type": "code",
   "execution_count": 17,
   "metadata": {},
   "outputs": [
    {
     "data": {
      "text/plain": [
       "120000"
      ]
     },
     "execution_count": 17,
     "metadata": {},
     "output_type": "execute_result"
    }
   ],
   "source": [
    "_outputs_shape"
   ]
  },
  {
   "cell_type": "markdown",
   "metadata": {},
   "source": [
    "# Model's Layers definition"
   ]
  },
  {
   "cell_type": "code",
   "execution_count": 18,
   "metadata": {},
   "outputs": [],
   "source": [
    "enc_lays = [tf.keras.layers.Dense(units=intermediate_dim, activation='relu'),\n",
    "            tf.keras.layers.Flatten(),\n",
    "            tf.keras.layers.Dense(units=latent_dim)]\n",
    "\n",
    "dec_lays = [tf.keras.layers.Dense(units=latent_dim, activation='relu'),\n",
    "            tf.keras.layers.Dense(units=intermediate_dim, activation='relu'),\n",
    "            tf.keras.layers.Dense(units=_outputs_shape),\n",
    "            tf.keras.layers.Reshape(inputs_shape)]"
   ]
  },
  {
   "cell_type": "markdown",
   "metadata": {},
   "source": [
    "# Model definition"
   ]
  },
  {
   "cell_type": "code",
   "execution_count": 19,
   "metadata": {},
   "outputs": [],
   "source": [
    "model_name = dataset_name+'ILTAAEpsnr'\n",
    "recording_dir='recording'+sep_local+model_name"
   ]
  },
  {
   "cell_type": "code",
   "execution_count": 20,
   "metadata": {},
   "outputs": [
    {
     "data": {
      "text/plain": [
       "'recording\\\\pokemonILAAEpsnr'"
      ]
     },
     "execution_count": 20,
     "metadata": {},
     "output_type": "execute_result"
    }
   ],
   "source": [
    "recording_dir"
   ]
  },
  {
   "cell_type": "code",
   "execution_count": 21,
   "metadata": {
    "scrolled": true
   },
   "outputs": [],
   "source": [
    "from training.generative_inference_adversarial.autoencoders.AAE import AAE as AE"
   ]
  },
  {
   "cell_type": "code",
   "execution_count": 22,
   "metadata": {},
   "outputs": [],
   "source": [
    "inputs_shape=IMG_SIZE"
   ]
  },
  {
   "cell_type": "code",
   "execution_count": 23,
   "metadata": {},
   "outputs": [],
   "source": [
    "variables_params = \\\n",
    "[\n",
    "    {\n",
    "        'name': 'inference', \n",
    "        'inputs_shape':inputs_shape,\n",
    "        'outputs_shape':latent_dim,\n",
    "        'layers': enc_lays\n",
    "    }\n",
    "\n",
    "    ,\n",
    "    \n",
    "        {\n",
    "        'name': 'generative', \n",
    "        'inputs_shape':latent_dim,\n",
    "        'outputs_shape':inputs_shape,\n",
    "        'layers':dec_lays\n",
    "    }\n",
    "]"
   ]
  },
  {
   "cell_type": "code",
   "execution_count": 24,
   "metadata": {},
   "outputs": [],
   "source": [
    "from utils.data_and_files.file_utils import create_if_not_exist"
   ]
  },
  {
   "cell_type": "code",
   "execution_count": 25,
   "metadata": {},
   "outputs": [],
   "source": [
    "_restore = os.path.join(recording_dir, 'var_save_dir')"
   ]
  },
  {
   "cell_type": "code",
   "execution_count": 26,
   "metadata": {},
   "outputs": [
    {
     "data": {
      "text/plain": [
       "'recording\\\\pokemonILAAEpsnr\\\\var_save_dir'"
      ]
     },
     "execution_count": 26,
     "metadata": {},
     "output_type": "execute_result"
    }
   ],
   "source": [
    "create_if_not_exist(_restore)\n",
    "_restore"
   ]
  },
  {
   "cell_type": "code",
   "execution_count": 27,
   "metadata": {},
   "outputs": [],
   "source": [
    "#to restore trained model, set filepath=_restore"
   ]
  },
  {
   "cell_type": "code",
   "execution_count": null,
   "metadata": {},
   "outputs": [],
   "source": [
    "from statistical.basic_adversarial_losses import \\\n",
    "    create_inference_discriminator_real_losses, \\\n",
    "    create_inference_discriminator_fake_losses, \\\n",
    "    create_inference_generator_fake_losses, \\\n",
    "    create_genertive_discriminator_real_losses, \\\n",
    "    create_genertive_discriminator_fake_losses, \\\n",
    "    create_genertive_generator_fake_losses, \\\n",
    "\n",
    "generative_inference_discriminator_losses = {\n",
    "    'inference_discriminator_real_outputs': create_inference_discriminator_real_losses,\n",
    "    'inference_discriminator_fake_outputs': create_inference_discriminator_fake_losses,\n",
    "    'inference_generator_fake_outputs': create_inference_generator_fake_losses,\n",
    "    ''generative_discriminator_fake_outputs'': create_genertive_discriminator_real_losses,\n",
    "    ''generative_discriminator_fake_outputs'': create_genertive_discriminator_fake_losses,\n",
    "    'genertive_generator_fake_outputs': create_genertive_generator_fake_losses,\n",
    "}"
   ]
  },
  {
   "cell_type": "code",
   "execution_count": 28,
   "metadata": {
    "scrolled": false
   },
   "outputs": [
    {
     "name": "stdout",
     "output_type": "stream",
     "text": [
      "Model: \"inference\"\n",
      "_________________________________________________________________\n",
      "Layer (type)                 Output Shape              Param #   \n",
      "=================================================================\n",
      "inference_inputs (InputLayer [(None, 200, 200, 3)]     0         \n",
      "_________________________________________________________________\n",
      "dense (Dense)                (None, 200, 200, 16)      64        \n",
      "_________________________________________________________________\n",
      "flatten (Flatten)            (None, 640000)            0         \n",
      "_________________________________________________________________\n",
      "dense_1 (Dense)              (None, 32)                20480032  \n",
      "_________________________________________________________________\n",
      "batch_normalization (BatchNo (None, 32)                128       \n",
      "_________________________________________________________________\n",
      "dropout (Dropout)            (None, 32)                0         \n",
      "_________________________________________________________________\n",
      "activity_regularization (Act (None, 32)                0         \n",
      "_________________________________________________________________\n",
      "inference_outputs (Activatio (None, 32)                0         \n",
      "=================================================================\n",
      "Total params: 20,480,224\n",
      "Trainable params: 20,480,160\n",
      "Non-trainable params: 64\n",
      "_________________________________________________________________\n",
      "\n"
     ]
    },
    {
     "name": "stderr",
     "output_type": "stream",
     "text": [
      "  WARNING  | None\n"
     ]
    },
    {
     "name": "stdout",
     "output_type": "stream",
     "text": [
      "Model: \"generative\"\n",
      "_________________________________________________________________\n",
      "Layer (type)                 Output Shape              Param #   \n",
      "=================================================================\n",
      "generative_inputs (InputLaye [(None, 32)]              0         \n",
      "_________________________________________________________________\n",
      "dense_2 (Dense)              (None, 32)                1056      \n",
      "_________________________________________________________________\n",
      "dense_3 (Dense)              (None, 16)                528       \n",
      "_________________________________________________________________\n",
      "dense_4 (Dense)              (None, 120000)            2040000   \n",
      "_________________________________________________________________\n",
      "reshape (Reshape)            (None, 200, 200, 3)       0         \n",
      "_________________________________________________________________\n",
      "batch_normalization_1 (Batch (None, 200, 200, 3)       12        \n",
      "_________________________________________________________________\n",
      "dropout_1 (Dropout)          (None, 200, 200, 3)       0         \n",
      "_________________________________________________________________\n",
      "activity_regularization_1 (A (None, 200, 200, 3)       0         \n",
      "_________________________________________________________________\n",
      "generative_outputs (Activati (None, 200, 200, 3)       0         \n",
      "=================================================================\n",
      "Total params: 2,041,596\n",
      "Trainable params: 2,041,590\n",
      "Non-trainable params: 6\n",
      "_________________________________________________________________\n",
      "\n"
     ]
    },
    {
     "name": "stderr",
     "output_type": "stream",
     "text": [
      "  WARNING  | None\n"
     ]
    }
   ],
   "source": [
    "ae = AE( \n",
    "    adversarial_losses=generative_inference_discriminator_losses\n",
    "    inputs_shape=inputs_shape,\n",
    "    outputs_shape=inputs_shape,\n",
    "    latent_dim=latent_dim,\n",
    "    batch_size=BATCH_SIZE,\n",
    "    variables_params=variables_params, \n",
    "    filepath=None\n",
    "    )"
   ]
  },
  {
   "cell_type": "code",
   "execution_count": 29,
   "metadata": {},
   "outputs": [],
   "source": [
    "from evaluation.quantitive_metrics.psnr import psnr\n",
    "",
    ""
   ]
  },
  {
   "cell_type": "code",
   "execution_count": 30,
   "metadata": {},
   "outputs": [
    {
     "name": "stdout",
     "output_type": "stream",
     "text": [
      "Model: \"pokemonILAAEpsnr\"\n",
      "_________________________________________________________________\n",
      "Layer (type)                 Output Shape              Param #   \n",
      "=================================================================\n",
      "inference_inputs (InputLayer [(None, 200, 200, 3)]     0         \n",
      "_________________________________________________________________\n",
      "inference (Model)            (None, 32)                20480224  \n",
      "_________________________________________________________________\n",
      "generative (Model)           (None, 200, 200, 3)       2041596   \n",
      "_________________________________________________________________\n",
      "tf_op_layer_x_logits (Tensor [(None, 200, 200, 3)]     0         \n",
      "=================================================================\n",
      "Total params: 22,521,820\n",
      "Trainable params: 22,521,750\n",
      "Non-trainable params: 70\n",
      "_________________________________________________________________\n",
      "None\n"
     ]
    }
   ],
   "source": [
    "discr2gen_rate = 0.001\n",
    "gen2trad_rate = 0.1\n",
    "\n",
    "ae.compile(\n",
    "    adversarial_losses=inference_discriminator_losses,\n",
    "    adversarial_weights={'generator_weight': gen2trad_rate, 'discriminator_weight': discr2gen_rate}\n",loss={'x_logits': psnr})"
   ]
  },
  {
   "cell_type": "markdown",
   "metadata": {},
   "source": [
    "# Callbacks"
   ]
  },
  {
   "cell_type": "code",
   "execution_count": 31,
   "metadata": {},
   "outputs": [],
   "source": [
    "from training.callbacks.progress_bar import NotebookPrograssBar\n",
    "from training.callbacks.sample_generation import SampleGeneration\n",
    "from training.callbacks.save_model import ModelSaver"
   ]
  },
  {
   "cell_type": "code",
   "execution_count": 32,
   "metadata": {},
   "outputs": [],
   "source": [
    "progbar = NotebookPrograssBar(leave_outer=False)"
   ]
  },
  {
   "cell_type": "code",
   "execution_count": 33,
   "metadata": {},
   "outputs": [],
   "source": [
    "es = tf.keras.callbacks.EarlyStopping(\n",
    "    monitor='val_loss', \n",
    "    min_delta=1e-12, \n",
    "    patience=5, \n",
    "    verbose=1, \n",
    "    restore_best_weights=True\n",
    ")"
   ]
  },
  {
   "cell_type": "code",
   "execution_count": 34,
   "metadata": {},
   "outputs": [
    {
     "data": {
      "text/plain": [
       "'recording\\\\pokemonILAAEpsnr\\\\var_save_dir'"
      ]
     },
     "execution_count": 34,
     "metadata": {},
     "output_type": "execute_result"
    }
   ],
   "source": [
    "_restore"
   ]
  },
  {
   "cell_type": "code",
   "execution_count": 35,
   "metadata": {},
   "outputs": [],
   "source": [
    "ms = ModelSaver(filepath=_restore,save_freq=5)"
   ]
  },
  {
   "cell_type": "code",
   "execution_count": 36,
   "metadata": {},
   "outputs": [
    {
     "data": {
      "text/plain": [
       "'recording\\\\pokemonILAAEpsnr\\\\csv_dir\\\\pokemonILAAEpsnr.csv'"
      ]
     },
     "execution_count": 36,
     "metadata": {},
     "output_type": "execute_result"
    }
   ],
   "source": [
    "csv_dir = os.path.join(recording_dir, 'csv_dir')\n",
    "create_if_not_exist(csv_dir)\n",
    "csv_dir = os.path.join(csv_dir, ae.name+'.csv')\n",
    "csv_log = tf.keras.callbacks.CSVLogger(csv_dir, append=True)\n",
    "csv_dir"
   ]
  },
  {
   "cell_type": "code",
   "execution_count": 37,
   "metadata": {},
   "outputs": [],
   "source": [
    "image_gen_dir = os.path.join(recording_dir, 'image_gen_dir')\n",
    "create_if_not_exist(image_gen_dir)"
   ]
  },
  {
   "cell_type": "code",
   "execution_count": 38,
   "metadata": {},
   "outputs": [],
   "source": [
    "sg = SampleGeneration(latent_shape=latent_dim, filepath=image_gen_dir, gen_freq=5, save_img=True, gray_plot=False)"
   ]
  },
  {
   "cell_type": "code",
   "execution_count": 39,
   "metadata": {},
   "outputs": [],
   "source": [
    "import numpy as np"
   ]
  },
  {
   "cell_type": "markdown",
   "metadata": {},
   "source": [
    "# Model Training"
   ]
  },
  {
   "cell_type": "code",
   "execution_count": 40,
   "metadata": {
    "scrolled": true
   },
   "outputs": [
    {
     "name": "stdout",
     "output_type": "stream",
     "text": [
      "\n",
      "training traditional basicAE\n"
     ]
    },
    {
     "data": {
      "application/vnd.jupyter.widget-view+json": {
       "model_id": "",
       "version_major": 2,
       "version_minor": 0
      },
      "text/plain": [
       "HBox(children=(IntProgress(value=0, description='Training', max=10, style=ProgressStyle(description_width='ini…"
      ]
     },
     "metadata": {},
     "output_type": "display_data"
    },
    {
     "data": {
      "application/vnd.jupyter.widget-view+json": {
       "model_id": "",
       "version_major": 2,
       "version_minor": 0
      },
      "text/plain": [
       "HBox(children=(IntProgress(value=0, description='Epoch 0', max=10, style=ProgressStyle(description_width='init…"
      ]
     },
     "metadata": {},
     "output_type": "display_data"
    },
    {
     "data": {
      "application/vnd.jupyter.widget-view+json": {
       "model_id": "",
       "version_major": 2,
       "version_minor": 0
      },
      "text/plain": [
       "HBox(children=(IntProgress(value=0, description='Epoch 1', max=10, style=ProgressStyle(description_width='init…"
      ]
     },
     "metadata": {},
     "output_type": "display_data"
    },
    {
     "data": {
      "application/vnd.jupyter.widget-view+json": {
       "model_id": "",
       "version_major": 2,
       "version_minor": 0
      },
      "text/plain": [
       "HBox(children=(IntProgress(value=0, description='Epoch 2', max=10, style=ProgressStyle(description_width='init…"
      ]
     },
     "metadata": {},
     "output_type": "display_data"
    },
    {
     "data": {
      "application/vnd.jupyter.widget-view+json": {
       "model_id": "",
       "version_major": 2,
       "version_minor": 0
      },
      "text/plain": [
       "HBox(children=(IntProgress(value=0, description='Epoch 3', max=10, style=ProgressStyle(description_width='init…"
      ]
     },
     "metadata": {},
     "output_type": "display_data"
    },
    {
     "data": {
      "application/vnd.jupyter.widget-view+json": {
       "model_id": "",
       "version_major": 2,
       "version_minor": 0
      },
      "text/plain": [
       "HBox(children=(IntProgress(value=0, description='Epoch 4', max=10, style=ProgressStyle(description_width='init…"
      ]
     },
     "metadata": {},
     "output_type": "display_data"
    },
    {
     "data": {
      "application/vnd.jupyter.widget-view+json": {
       "model_id": "",
       "version_major": 2,
       "version_minor": 0
      },
      "text/plain": [
       "HBox(children=(IntProgress(value=0, description='Epoch 5', max=10, style=ProgressStyle(description_width='init…"
      ]
     },
     "metadata": {},
     "output_type": "display_data"
    },
    {
     "data": {
      "application/vnd.jupyter.widget-view+json": {
       "model_id": "",
       "version_major": 2,
       "version_minor": 0
      },
      "text/plain": [
       "HBox(children=(IntProgress(value=0, description='Epoch 6', max=10, style=ProgressStyle(description_width='init…"
      ]
     },
     "metadata": {},
     "output_type": "display_data"
    },
    {
     "data": {
      "application/vnd.jupyter.widget-view+json": {
       "model_id": "",
       "version_major": 2,
       "version_minor": 0
      },
      "text/plain": [
       "HBox(children=(IntProgress(value=0, description='Epoch 7', max=10, style=ProgressStyle(description_width='init…"
      ]
     },
     "metadata": {},
     "output_type": "display_data"
    },
    {
     "data": {
      "application/vnd.jupyter.widget-view+json": {
       "model_id": "",
       "version_major": 2,
       "version_minor": 0
      },
      "text/plain": [
       "HBox(children=(IntProgress(value=0, description='Epoch 8', max=10, style=ProgressStyle(description_width='init…"
      ]
     },
     "metadata": {},
     "output_type": "display_data"
    },
    {
     "data": {
      "application/vnd.jupyter.widget-view+json": {
       "model_id": "",
       "version_major": 2,
       "version_minor": 0
      },
      "text/plain": [
       "HBox(children=(IntProgress(value=0, description='Epoch 9', max=10, style=ProgressStyle(description_width='init…"
      ]
     },
     "metadata": {},
     "output_type": "display_data"
    },
    {
     "name": "stdout",
     "output_type": "stream",
     "text": [
      "Model: \"inference_discriminator_real\"\n",
      "_________________________________________________________________\n",
      "Layer (type)                 Output Shape              Param #   \n",
      "=================================================================\n",
      "generative_inputs (InputLaye [(None, 32)]              0         \n",
      "_________________________________________________________________\n",
      "dense_2 (Dense)              (None, 32)                1056      \n",
      "_________________________________________________________________\n",
      "dense_3 (Dense)              (None, 16)                528       \n",
      "_________________________________________________________________\n",
      "dense_4 (Dense)              (None, 120000)            2040000   \n",
      "_________________________________________________________________\n",
      "reshape (Reshape)            (None, 200, 200, 3)       0         \n",
      "_________________________________________________________________\n",
      "batch_normalization_1 (Batch (None, 200, 200, 3)       12        \n",
      "_________________________________________________________________\n",
      "dropout_1 (Dropout)          (None, 200, 200, 3)       0         \n",
      "_________________________________________________________________\n",
      "activity_regularization_1 (A (None, 200, 200, 3)       0         \n",
      "_________________________________________________________________\n",
      "generative_outputs (Activati (None, 200, 200, 3)       0         \n",
      "_________________________________________________________________\n",
      "flatten_1 (Flatten)          (None, 120000)            0         \n",
      "_________________________________________________________________\n",
      "inference_discriminator_real_ou (None, 1)                 120001    \n",
      "=================================================================\n",
      "Total params: 2,161,597\n",
      "Trainable params: 2,161,591\n",
      "Non-trainable params: 6\n",
      "_________________________________________________________________\n",
      "None\n",
      "Model: \"inference_discriminator_fake\"\n",
      "_________________________________________________________________\n",
      "Layer (type)                 Output Shape              Param #   \n",
      "=================================================================\n",
      "generative_inputs (InputLaye [(None, 32)]              0         \n",
      "_________________________________________________________________\n",
      "dense_2 (Dense)              (None, 32)                1056      \n",
      "_________________________________________________________________\n",
      "dense_3 (Dense)              (None, 16)                528       \n",
      "_________________________________________________________________\n",
      "dense_4 (Dense)              (None, 120000)            2040000   \n",
      "_________________________________________________________________\n",
      "reshape (Reshape)            (None, 200, 200, 3)       0         \n",
      "_________________________________________________________________\n",
      "batch_normalization_1 (Batch (None, 200, 200, 3)       12        \n",
      "_________________________________________________________________\n",
      "dropout_1 (Dropout)          (None, 200, 200, 3)       0         \n",
      "_________________________________________________________________\n",
      "activity_regularization_1 (A (None, 200, 200, 3)       0         \n",
      "_________________________________________________________________\n",
      "generative_outputs (Activati (None, 200, 200, 3)       0         \n",
      "_________________________________________________________________\n",
      "flatten_2 (Flatten)          (None, 120000)            0         \n",
      "_________________________________________________________________\n",
      "inference_discriminator_fake_ou (None, 1)                 120001    \n",
      "=================================================================\n",
      "Total params: 2,161,597\n",
      "Trainable params: 2,161,591\n",
      "Non-trainable params: 6\n",
      "_________________________________________________________________\n",
      "None\n",
      "\n",
      "training latent real discriminator\n",
      "Train for 10 steps, validate for 10 steps\n",
      "Epoch 1/10\n",
      "10/10 [==============================] - ETA: 12s - loss: 0.27 - ETA: 6s - loss: 0.1850 - ETA: 4s - loss: 0.156 - ETA: 2s - loss: 0.144 - ETA: 2s - loss: 0.137 - ETA: 1s - loss: 0.132 - ETA: 0s - loss: 0.128 - ETA: 0s - loss: 0.126 - ETA: 0s - loss: 0.126 - 5s 472ms/step - loss: 0.1249 - val_loss: 0.0034\n",
      "Epoch 2/10\n",
      "10/10 [==============================] - ETA: 0s - loss: 0.116 - ETA: 0s - loss: 0.121 - ETA: 0s - loss: 0.120 - ETA: 0s - loss: 0.120 - ETA: 0s - loss: 0.135 - 2s 217ms/step - loss: 0.1333 - val_loss: 0.0032\n",
      "Epoch 3/10\n",
      "10/10 [==============================] - ETA: 0s - loss: 0.111 - ETA: 0s - loss: 0.113 - ETA: 0s - loss: 0.115 - ETA: 0s - loss: 0.114 - ETA: 0s - loss: 0.112 - 2s 215ms/step - loss: 0.1128 - val_loss: 0.0034\n",
      "Epoch 4/10\n",
      "10/10 [==============================] - ETA: 0s - loss: 0.110 - ETA: 0s - loss: 0.105 - ETA: 0s - loss: 0.103 - ETA: 0s - loss: 0.101 - 2s 209ms/step - loss: 0.0966 - val_loss: 0.0058\n",
      "Epoch 5/10\n",
      "10/10 [==============================] - ETA: 0s - loss: 0.081 - ETA: 0s - loss: 0.081 - ETA: 0s - loss: 0.080 - ETA: 0s - loss: 0.078 - 2s 212ms/step - loss: 0.2115 - val_loss: 0.0068\n",
      "Epoch 6/10\n",
      "10/10 [==============================] - ETA: 0s - loss: 0.070 - ETA: 0s - loss: 0.184 - ETA: 0s - loss: 0.149 - ETA: 0s - loss: 0.134 - 2s 210ms/step - loss: 0.1256 - val_loss: 0.0026\n",
      "Epoch 7/10\n",
      "10/10 [==============================] - ETA: 0s - loss: 0.093 - ETA: 0s - loss: 0.094 - ETA: 0s - loss: 0.094 - ETA: 0s - loss: 0.093 - 2s 218ms/step - loss: 0.0936 - val_loss: 0.0027\n",
      "Epoch 8/10\n",
      "10/10 [==============================] - ETA: 0s - loss: 0.090 - ETA: 0s - loss: 0.089 - ETA: 0s - loss: 0.090 - ETA: 0s - loss: 0.155 - 2s 209ms/step - loss: 0.1324 - val_loss: 0.0027\n",
      "Epoch 9/10\n",
      "10/10 [==============================] - ETA: 0s - loss: 0.090 - ETA: 0s - loss: 0.084 - ETA: 0s - loss: 0.083 - ETA: 0s - loss: 0.081 - 2s 208ms/step - loss: 0.0812 - val_loss: 0.0026\n",
      "Epoch 10/10\n",
      "10/10 [==============================] - ETA: 0s - loss: 0.076 - ETA: 0s - loss: 0.075 - ETA: 0s - loss: 0.074 - ETA: 0s - loss: 0.073 - 2s 203ms/step - loss: 0.0720 - val_loss: 0.0024\n",
      "\n",
      "training latent fake discriminator\n",
      "Train for 10 steps, validate for 10 steps\n",
      "Epoch 1/10\n",
      "10/10 [==============================] - ETA: 14s - loss: 0.60 - ETA: 6s - loss: 0.3710 - ETA: 4s - loss: 0.295 - ETA: 2s - loss: 0.260 - ETA: 2s - loss: 0.236 - ETA: 1s - loss: 0.225 - ETA: 1s - loss: 0.217 - ETA: 0s - loss: 0.211 - ETA: 0s - loss: 0.208 - 5s 481ms/step - loss: 0.2069 - val_loss: 0.0056\n",
      "Epoch 2/10\n",
      "10/10 [==============================] - ETA: 0s - loss: 0.183 - ETA: 0s - loss: 0.193 - ETA: 0s - loss: 0.192 - ETA: 0s - loss: 0.190 - ETA: 0s - loss: 0.189 - 2s 220ms/step - loss: 0.1853 - val_loss: 0.0055\n",
      "Epoch 3/10\n",
      "10/10 [==============================] - ETA: 0s - loss: 0.181 - ETA: 0s - loss: 0.178 - ETA: 0s - loss: 0.174 - ETA: 0s - loss: 0.228 - 2s 207ms/step - loss: 0.2048 - val_loss: 0.0041\n",
      "Epoch 4/10\n",
      "10/10 [==============================] - ETA: 0s - loss: 0.157 - ETA: 0s - loss: 0.156 - ETA: 0s - loss: 0.154 - ETA: 0s - loss: 0.156 - 2s 209ms/step - loss: 0.1566 - val_loss: 0.0041\n",
      "Epoch 5/10\n",
      "10/10 [==============================] - ETA: 0s - loss: 0.153 - ETA: 0s - loss: 0.149 - ETA: 0s - loss: 0.150 - ETA: 0s - loss: 0.148 - 2s 218ms/step - loss: 0.1485 - val_loss: 0.0037\n",
      "Epoch 6/10\n",
      "10/10 [==============================] - ETA: 0s - loss: 0.136 - ETA: 0s - loss: 0.242 - ETA: 0s - loss: 0.207 - ETA: 0s - loss: 0.190 - 2s 214ms/step - loss: 0.1803 - val_loss: 0.0039\n",
      "Epoch 7/10\n",
      "10/10 [==============================] - ETA: 0s - loss: 0.134 - ETA: 0s - loss: 0.139 - ETA: 0s - loss: 0.139 - ETA: 0s - loss: 0.138 - 2s 212ms/step - loss: 0.1356 - val_loss: 0.0035\n",
      "Epoch 8/10\n",
      "10/10 [==============================] - ETA: 0s - loss: 0.136 - ETA: 0s - loss: 0.126 - ETA: 0s - loss: 0.124 - ETA: 0s - loss: 0.120 - 2s 210ms/step - loss: 0.1205 - val_loss: 0.0032\n",
      "Epoch 9/10\n",
      "10/10 [==============================] - ETA: 0s - loss: 0.106 - ETA: 0s - loss: 0.108 - ETA: 0s - loss: 0.107 - ETA: 0s - loss: 0.104 - 2s 215ms/step - loss: 0.1019 - val_loss: 0.0029\n",
      "Epoch 10/10\n",
      "10/10 [==============================] - ETA: 0s - loss: 0.098 - ETA: 0s - loss: 0.093 - ETA: 0s - loss: 0.090 - ETA: 0s - loss: 0.089 - 2s 213ms/step - loss: 0.0890 - val_loss: 0.0030\n",
      "Model: \"generative_discriminator_real\"\n",
      "_________________________________________________________________\n",
      "Layer (type)                 Output Shape              Param #   \n",
      "=================================================================\n",
      "inference_inputs (InputLayer [(None, 200, 200, 3)]     0         \n",
      "_________________________________________________________________\n",
      "dense (Dense)                (None, 200, 200, 16)      64        \n",
      "_________________________________________________________________\n",
      "flatten (Flatten)            (None, 640000)            0         \n",
      "_________________________________________________________________\n",
      "dense_1 (Dense)              (None, 32)                20480032  \n",
      "_________________________________________________________________\n",
      "batch_normalization (BatchNo (None, 32)                128       \n",
      "_________________________________________________________________\n",
      "dropout (Dropout)            (None, 32)                0         \n",
      "_________________________________________________________________\n",
      "activity_regularization (Act (None, 32)                0         \n",
      "_________________________________________________________________\n",
      "inference_outputs (Activatio (None, 32)                0         \n",
      "_________________________________________________________________\n",
      "flatten_3 (Flatten)          (None, 32)                0         \n",
      "_________________________________________________________________\n",
      "genertive_discriminator_real_ou (None, 1)                 33        \n",
      "=================================================================\n",
      "Total params: 20,480,257\n",
      "Trainable params: 20,480,193\n",
      "Non-trainable params: 64\n",
      "_________________________________________________________________\n",
      "None\n",
      "Model: \"generative_discriminator_fake\"\n",
      "_________________________________________________________________\n",
      "Layer (type)                 Output Shape              Param #   \n",
      "=================================================================\n",
      "inference_inputs (InputLayer [(None, 200, 200, 3)]     0         \n",
      "_________________________________________________________________\n",
      "dense (Dense)                (None, 200, 200, 16)      64        \n",
      "_________________________________________________________________\n",
      "flatten (Flatten)            (None, 640000)            0         \n",
      "_________________________________________________________________\n",
      "dense_1 (Dense)              (None, 32)                20480032  \n",
      "_________________________________________________________________\n",
      "batch_normalization (BatchNo (None, 32)                128       \n",
      "_________________________________________________________________\n",
      "dropout (Dropout)            (None, 32)                0         \n",
      "_________________________________________________________________\n",
      "activity_regularization (Act (None, 32)                0         \n",
      "_________________________________________________________________\n",
      "inference_outputs (Activatio (None, 32)                0         \n",
      "_________________________________________________________________\n",
      "flatten_4 (Flatten)          (None, 32)                0         \n",
      "_________________________________________________________________\n",
      "genertive_discriminator_fake_ou (None, 1)                 33        \n",
      "=================================================================\n",
      "Total params: 20,480,257\n",
      "Trainable params: 20,480,193\n",
      "Non-trainable params: 64\n",
      "_________________________________________________________________\n",
      "None\n",
      "\n",
      "training inputs real discriminator\n",
      "Train for 10 steps, validate for 10 steps\n",
      "Epoch 1/10\n",
      "10/10 [==============================] - ETA: 11s - loss: 0.44 - ETA: 5s - loss: 0.5683 - ETA: 3s - loss: 0.577 - ETA: 2s - loss: 0.577 - ETA: 1s - loss: 0.568 - ETA: 1s - loss: 0.555 - ETA: 0s - loss: 0.539 - ETA: 0s - loss: 0.533 - ETA: 0s - loss: 0.524 - 4s 355ms/step - loss: 0.5139 - val_loss: 5.0047\n",
      "Epoch 2/10\n",
      "10/10 [==============================] - ETA: 0s - loss: 0.439 - ETA: 0s - loss: 0.398 - ETA: 0s - loss: 0.387 - ETA: 0s - loss: 0.389 - ETA: 0s - loss: 0.389 - ETA: 0s - loss: 0.402 - ETA: 0s - loss: 0.394 - ETA: 0s - loss: 0.395 - ETA: 0s - loss: 0.398 - 2s 202ms/step - loss: 0.3958 - val_loss: 2.1079\n",
      "Epoch 3/10\n",
      "10/10 [==============================] - ETA: 0s - loss: 0.332 - ETA: 0s - loss: 0.354 - ETA: 0s - loss: 0.345 - ETA: 0s - loss: 0.346 - ETA: 0s - loss: 0.345 - ETA: 0s - loss: 0.350 - ETA: 0s - loss: 0.350 - ETA: 0s - loss: 0.349 - ETA: 0s - loss: 0.348 - 2s 200ms/step - loss: 0.3499 - val_loss: 1.0823\n",
      "Epoch 4/10\n",
      "10/10 [==============================] - ETA: 0s - loss: 0.342 - ETA: 0s - loss: 0.349 - ETA: 0s - loss: 0.344 - ETA: 0s - loss: 0.335 - ETA: 0s - loss: 0.327 - ETA: 0s - loss: 0.324 - ETA: 0s - loss: 0.321 - ETA: 0s - loss: 0.323 - ETA: 0s - loss: 0.326 - 2s 198ms/step - loss: 0.3258 - val_loss: 0.8271\n",
      "Epoch 5/10\n",
      "10/10 [==============================] - ETA: 0s - loss: 0.292 - ETA: 0s - loss: 0.289 - ETA: 0s - loss: 0.307 - ETA: 0s - loss: 0.311 - ETA: 0s - loss: 0.312 - ETA: 0s - loss: 0.314 - ETA: 0s - loss: 0.311 - ETA: 0s - loss: 0.310 - ETA: 0s - loss: 0.305 - 2s 200ms/step - loss: 0.3059 - val_loss: 0.7098\n",
      "Epoch 6/10\n",
      "10/10 [==============================] - ETA: 0s - loss: 0.314 - ETA: 0s - loss: 0.317 - ETA: 0s - loss: 0.300 - ETA: 0s - loss: 0.304 - ETA: 0s - loss: 0.302 - ETA: 0s - loss: 0.300 - ETA: 0s - loss: 0.296 - ETA: 0s - loss: 0.294 - ETA: 0s - loss: 0.295 - 2s 204ms/step - loss: 0.2933 - val_loss: 0.6159\n",
      "Epoch 7/10\n",
      "10/10 [==============================] - ETA: 0s - loss: 0.284 - ETA: 0s - loss: 0.282 - ETA: 0s - loss: 0.277 - ETA: 0s - loss: 0.282 - ETA: 0s - loss: 0.278 - ETA: 0s - loss: 0.280 - ETA: 0s - loss: 0.283 - ETA: 0s - loss: 0.280 - ETA: 0s - loss: 0.278 - 2s 199ms/step - loss: 0.2784 - val_loss: 0.6021\n",
      "Epoch 8/10\n",
      "10/10 [==============================] - ETA: 0s - loss: 0.270 - ETA: 0s - loss: 0.262 - ETA: 0s - loss: 0.258 - ETA: 0s - loss: 0.250 - ETA: 0s - loss: 0.258 - ETA: 0s - loss: 0.254 - ETA: 0s - loss: 0.256 - ETA: 0s - loss: 0.254 - ETA: 0s - loss: 0.250 - 2s 199ms/step - loss: 0.2510 - val_loss: 0.5751\n",
      "Epoch 9/10\n",
      "10/10 [==============================] - ETA: 0s - loss: 0.255 - ETA: 0s - loss: 0.260 - ETA: 0s - loss: 0.262 - ETA: 0s - loss: 0.256 - ETA: 0s - loss: 0.255 - ETA: 0s - loss: 0.255 - ETA: 0s - loss: 0.257 - ETA: 0s - loss: 0.258 - ETA: 0s - loss: 0.254 - 2s 198ms/step - loss: 0.2521 - val_loss: 0.4964\n",
      "Epoch 10/10\n",
      "10/10 [==============================] - ETA: 0s - loss: 0.267 - ETA: 0s - loss: 0.253 - ETA: 0s - loss: 0.254 - ETA: 0s - loss: 0.245 - ETA: 0s - loss: 0.239 - ETA: 0s - loss: 0.241 - ETA: 0s - loss: 0.241 - ETA: 0s - loss: 0.241 - ETA: 0s - loss: 0.240 - 2s 202ms/step - loss: 0.2419 - val_loss: 0.4982\n",
      "\n",
      "training inputs fake discriminator\n",
      "Train for 10 steps, validate for 10 steps\n",
      "Epoch 1/10\n",
      "10/10 [==============================] - ETA: 13s - loss: 0.44 - ETA: 6s - loss: 0.6339 - ETA: 4s - loss: 0.712 - ETA: 2s - loss: 0.710 - ETA: 1s - loss: 0.704 - ETA: 1s - loss: 0.696 - ETA: 0s - loss: 0.668 - ETA: 0s - loss: 0.668 - ETA: 0s - loss: 0.660 - 4s 374ms/step - loss: 0.6557 - val_loss: 3.1339\n",
      "Epoch 2/10\n",
      "10/10 [==============================] - ETA: 0s - loss: 0.554 - ETA: 0s - loss: 0.505 - ETA: 0s - loss: 0.477 - ETA: 0s - loss: 0.492 - ETA: 0s - loss: 0.492 - ETA: 0s - loss: 0.493 - ETA: 0s - loss: 0.476 - ETA: 0s - loss: 0.473 - ETA: 0s - loss: 0.463 - 2s 204ms/step - loss: 0.4585 - val_loss: 1.5947\n",
      "Epoch 3/10\n",
      "10/10 [==============================] - ETA: 0s - loss: 0.447 - ETA: 0s - loss: 0.447 - ETA: 0s - loss: 0.442 - ETA: 0s - loss: 0.429 - ETA: 0s - loss: 0.425 - ETA: 0s - loss: 0.415 - ETA: 0s - loss: 0.416 - ETA: 0s - loss: 0.404 - ETA: 0s - loss: 0.396 - 2s 200ms/step - loss: 0.3905 - val_loss: 1.0122\n",
      "Epoch 4/10\n",
      "10/10 [==============================] - ETA: 0s - loss: 0.308 - ETA: 0s - loss: 0.317 - ETA: 0s - loss: 0.317 - ETA: 0s - loss: 0.318 - ETA: 0s - loss: 0.318 - ETA: 0s - loss: 0.315 - ETA: 0s - loss: 0.313 - ETA: 0s - loss: 0.318 - ETA: 0s - loss: 0.318 - 2s 197ms/step - loss: 0.3246 - val_loss: 0.7598\n",
      "Epoch 5/10\n",
      "10/10 [==============================] - ETA: 0s - loss: 0.290 - ETA: 0s - loss: 0.292 - ETA: 0s - loss: 0.289 - ETA: 0s - loss: 0.287 - ETA: 0s - loss: 0.288 - ETA: 0s - loss: 0.284 - ETA: 0s - loss: 0.281 - ETA: 0s - loss: 0.284 - ETA: 0s - loss: 0.286 - 2s 199ms/step - loss: 0.2818 - val_loss: 0.6273\n"
     ]
    },
    {
     "name": "stdout",
     "output_type": "stream",
     "text": [
      "Epoch 6/10\n",
      "10/10 [==============================] - ETA: 0s - loss: 0.289 - ETA: 0s - loss: 0.269 - ETA: 0s - loss: 0.271 - ETA: 0s - loss: 0.276 - ETA: 0s - loss: 0.271 - ETA: 0s - loss: 0.267 - ETA: 0s - loss: 0.264 - ETA: 0s - loss: 0.263 - ETA: 0s - loss: 0.259 - 2s 201ms/step - loss: 0.2588 - val_loss: 0.5957\n",
      "Epoch 7/10\n",
      "10/10 [==============================] - ETA: 0s - loss: 0.258 - ETA: 0s - loss: 0.269 - ETA: 0s - loss: 0.259 - ETA: 0s - loss: 0.257 - ETA: 0s - loss: 0.266 - ETA: 0s - loss: 0.262 - ETA: 0s - loss: 0.257 - ETA: 0s - loss: 0.263 - ETA: 0s - loss: 0.264 - 2s 199ms/step - loss: 0.2589 - val_loss: 0.5696\n",
      "Epoch 8/10\n",
      "10/10 [==============================] - ETA: 0s - loss: 0.239 - ETA: 0s - loss: 0.244 - ETA: 0s - loss: 0.235 - ETA: 0s - loss: 0.234 - ETA: 0s - loss: 0.233 - ETA: 0s - loss: 0.234 - ETA: 0s - loss: 0.234 - ETA: 0s - loss: 0.232 - ETA: 0s - loss: 0.230 - 2s 198ms/step - loss: 0.2291 - val_loss: 0.4612\n",
      "Epoch 9/10\n",
      "10/10 [==============================] - ETA: 0s - loss: 0.212 - ETA: 0s - loss: 0.215 - ETA: 0s - loss: 0.228 - ETA: 0s - loss: 0.254 - ETA: 0s - loss: 0.245 - ETA: 0s - loss: 0.242 - ETA: 0s - loss: 0.236 - ETA: 0s - loss: 0.231 - ETA: 0s - loss: 0.227 - 2s 196ms/step - loss: 0.2255 - val_loss: 0.4299\n",
      "Epoch 10/10\n",
      "10/10 [==============================] - ETA: 0s - loss: 0.187 - ETA: 0s - loss: 0.201 - ETA: 0s - loss: 0.193 - ETA: 0s - loss: 0.194 - ETA: 0s - loss: 0.197 - ETA: 0s - loss: 0.193 - ETA: 0s - loss: 0.197 - ETA: 0s - loss: 0.195 - ETA: 0s - loss: 0.193 - 2s 199ms/step - loss: 0.1933 - val_loss: 0.5176\n",
      "Model: \"generative_inference_AA\"\n",
      "__________________________________________________________________________________________________\n",
      "Layer (type)                    Output Shape         Param #     Connected to                     \n",
      "==================================================================================================\n",
      "inference_inputs (InputLayer)   [(None, 200, 200, 3) 0                                            \n",
      "__________________________________________________________________________________________________\n",
      "inference (Model)               (None, 32)           20480224    inference_inputs[0][0]           \n",
      "__________________________________________________________________________________________________\n",
      "tf_op_layer_Shape (TensorFlowOp [(4,)]               0           inference_inputs[0][0]           \n",
      "__________________________________________________________________________________________________\n",
      "tf_op_layer_Shape_1 (TensorFlow [(2,)]               0           inference[2][0]                  \n",
      "__________________________________________________________________________________________________\n",
      "tf_op_layer_random_normal/Rando [(None, 200, 200, 3) 0           tf_op_layer_Shape[0][0]          \n",
      "__________________________________________________________________________________________________\n",
      "tf_op_layer_random_normal_1/Ran [(None, 32)]         0           tf_op_layer_Shape_1[0][0]        \n",
      "__________________________________________________________________________________________________\n",
      "tf_op_layer_random_normal/mul ( [(None, 200, 200, 3) 0           tf_op_layer_random_normal/RandomS\n",
      "__________________________________________________________________________________________________\n",
      "tf_op_layer_random_normal_1/mul [(None, 32)]         0           tf_op_layer_random_normal_1/Rando\n",
      "__________________________________________________________________________________________________\n",
      "tf_op_layer_random_normal (Tens [(None, 200, 200, 3) 0           tf_op_layer_random_normal/mul[0][\n",
      "__________________________________________________________________________________________________\n",
      "tf_op_layer_random_normal_1 (Te [(None, 32)]         0           tf_op_layer_random_normal_1/mul[0\n",
      "__________________________________________________________________________________________________\n",
      "generative (Model)              (None, 200, 200, 3)  2041596     inference[2][0]                  \n",
      "__________________________________________________________________________________________________\n",
      "generative_discriminator_fake (Mode (None, 1)            20480257    inference_inputs[0][0]           \n",
      "__________________________________________________________________________________________________\n",
      "generative_discriminator_real (Mode (None, 1)            20480257    tf_op_layer_random_normal[0][0]  \n",
      "__________________________________________________________________________________________________\n",
      "inference_discriminator_fake (Mode (None, 1)            2161597     inference[2][0]                  \n",
      "__________________________________________________________________________________________________\n",
      "inference_discriminator_real (Mode (None, 1)            2161597     tf_op_layer_random_normal_1[0][0]\n",
      "__________________________________________________________________________________________________\n",
      "tf_op_layer_x_logits_1 (TensorF [(None, 200, 200, 3) 0           generative[2][0]                 \n",
      "==================================================================================================\n",
      "Total params: 67,805,528\n",
      "Trainable params: 67,805,318\n",
      "Non-trainable params: 210\n",
      "__________________________________________________________________________________________________\n",
      "None\n",
      "\n",
      "training together\n"
     ]
    },
    {
     "data": {
      "application/vnd.jupyter.widget-view+json": {
       "model_id": "",
       "version_major": 2,
       "version_minor": 0
      },
      "text/plain": [
       "HBox(children=(IntProgress(value=0, description='Training', max=10, style=ProgressStyle(description_width='ini…"
      ]
     },
     "metadata": {},
     "output_type": "display_data"
    },
    {
     "data": {
      "application/vnd.jupyter.widget-view+json": {
       "model_id": "",
       "version_major": 2,
       "version_minor": 0
      },
      "text/plain": [
       "HBox(children=(IntProgress(value=0, description='Epoch 0', max=10, style=ProgressStyle(description_width='init…"
      ]
     },
     "metadata": {},
     "output_type": "display_data"
    },
    {
     "name": "stdout",
     "output_type": "stream",
     "text": [
      "INFO:tensorflow:Unsupported signature for serialization: ((<tensorflow.python.framework.func_graph.UnknownArgument object at 0x000001B24F0C6FC8>, (200, 200, 3), [50, 32], TensorSpec(shape=(50, 32), dtype=tf.float32, name='eps')), {}).\n",
      "INFO:tensorflow:Unsupported signature for serialization: ((<tensorflow.python.framework.func_graph.UnknownArgument object at 0x000001B21CF44988>, (200, 200, 3), [50, 32], TensorSpec(shape=(50, 32), dtype=tf.float32, name='eps')), {}).\n",
      "INFO:tensorflow:Unsupported signature for serialization: ((<tensorflow.python.framework.func_graph.UnknownArgument object at 0x000001B24F0C6FC8>, (200, 200, 3), [50, 32], TensorSpec(shape=(50, 32), dtype=tf.float32, name='eps')), {}).\n",
      "INFO:tensorflow:Unsupported signature for serialization: ((<tensorflow.python.framework.func_graph.UnknownArgument object at 0x000001B21CF44988>, (200, 200, 3), [50, 32], TensorSpec(shape=(50, 32), dtype=tf.float32, name='eps')), {}).\n",
      "WARNING:tensorflow:From C:\\ProgramData\\Anaconda3\\envs\\tf02\\lib\\site-packages\\tensorflow_core\\python\\ops\\resource_variable_ops.py:1786: calling BaseResourceVariable.__init__ (from tensorflow.python.ops.resource_variable_ops) with constraint is deprecated and will be removed in a future version.\n",
      "Instructions for updating:\n",
      "If using Keras pass *_constraint arguments to layers.\n",
      "INFO:tensorflow:Assets written to: recording\\pokemonILAAEpsnr\\var_save_dir\\assets\n",
      "INFO:tensorflow:Unsupported signature for serialization: ((<tensorflow.python.framework.func_graph.UnknownArgument object at 0x000001B24F0C6FC8>, (200, 200, 3), [50, 32], TensorSpec(shape=(50, 32), dtype=tf.float32, name='eps')), {}).\n",
      "INFO:tensorflow:Unsupported signature for serialization: ((<tensorflow.python.framework.func_graph.UnknownArgument object at 0x000001B21CF44988>, (200, 200, 3), [50, 32], TensorSpec(shape=(50, 32), dtype=tf.float32, name='eps')), {}).\n"
     ]
    },
    {
     "data": {
      "application/vnd.jupyter.widget-view+json": {
       "model_id": "",
       "version_major": 2,
       "version_minor": 0
      },
      "text/plain": [
       "HBox(children=(IntProgress(value=0, description='Epoch 1', max=10, style=ProgressStyle(description_width='init…"
      ]
     },
     "metadata": {},
     "output_type": "display_data"
    },
    {
     "data": {
      "application/vnd.jupyter.widget-view+json": {
       "model_id": "",
       "version_major": 2,
       "version_minor": 0
      },
      "text/plain": [
       "HBox(children=(IntProgress(value=0, description='Epoch 2', max=10, style=ProgressStyle(description_width='init…"
      ]
     },
     "metadata": {},
     "output_type": "display_data"
    },
    {
     "data": {
      "application/vnd.jupyter.widget-view+json": {
       "model_id": "",
       "version_major": 2,
       "version_minor": 0
      },
      "text/plain": [
       "HBox(children=(IntProgress(value=0, description='Epoch 3', max=10, style=ProgressStyle(description_width='init…"
      ]
     },
     "metadata": {},
     "output_type": "display_data"
    },
    {
     "data": {
      "application/vnd.jupyter.widget-view+json": {
       "model_id": "",
       "version_major": 2,
       "version_minor": 0
      },
      "text/plain": [
       "HBox(children=(IntProgress(value=0, description='Epoch 4', max=10, style=ProgressStyle(description_width='init…"
      ]
     },
     "metadata": {},
     "output_type": "display_data"
    },
    {
     "data": {
      "application/vnd.jupyter.widget-view+json": {
       "model_id": "",
       "version_major": 2,
       "version_minor": 0
      },
      "text/plain": [
       "HBox(children=(IntProgress(value=0, description='Epoch 5', max=10, style=ProgressStyle(description_width='init…"
      ]
     },
     "metadata": {},
     "output_type": "display_data"
    },
    {
     "name": "stdout",
     "output_type": "stream",
     "text": [
      "INFO:tensorflow:Unsupported signature for serialization: ((<tensorflow.python.framework.func_graph.UnknownArgument object at 0x000001B24F0C6FC8>, (200, 200, 3), [50, 32], TensorSpec(shape=(50, 32), dtype=tf.float32, name='eps')), {}).\n",
      "INFO:tensorflow:Unsupported signature for serialization: ((<tensorflow.python.framework.func_graph.UnknownArgument object at 0x000001B21CF44988>, (200, 200, 3), [50, 32], TensorSpec(shape=(50, 32), dtype=tf.float32, name='eps')), {}).\n",
      "INFO:tensorflow:Unsupported signature for serialization: ((<tensorflow.python.framework.func_graph.UnknownArgument object at 0x000001B26A21C8C8>, (200, 200, 3), [50, 32], TensorSpec(shape=(50, 32), dtype=tf.float32, name='eps')), {}).\n",
      "INFO:tensorflow:Unsupported signature for serialization: ((<tensorflow.python.framework.func_graph.UnknownArgument object at 0x000001B24F0C6FC8>, (200, 200, 3), [50, 32], TensorSpec(shape=(50, 32), dtype=tf.float32, name='eps')), {}).\n",
      "INFO:tensorflow:Unsupported signature for serialization: ((<tensorflow.python.framework.func_graph.UnknownArgument object at 0x000001B21CF44988>, (200, 200, 3), [50, 32], TensorSpec(shape=(50, 32), dtype=tf.float32, name='eps')), {}).\n",
      "INFO:tensorflow:Unsupported signature for serialization: ((<tensorflow.python.framework.func_graph.UnknownArgument object at 0x000001B26A21C8C8>, (200, 200, 3), [50, 32], TensorSpec(shape=(50, 32), dtype=tf.float32, name='eps')), {}).\n",
      "INFO:tensorflow:Assets written to: recording\\pokemonILAAEpsnr\\var_save_dir\\assets\n",
      "INFO:tensorflow:Unsupported signature for serialization: ((<tensorflow.python.framework.func_graph.UnknownArgument object at 0x000001B24F0C6FC8>, (200, 200, 3), [50, 32], TensorSpec(shape=(50, 32), dtype=tf.float32, name='eps')), {}).\n",
      "INFO:tensorflow:Unsupported signature for serialization: ((<tensorflow.python.framework.func_graph.UnknownArgument object at 0x000001B21CF44988>, (200, 200, 3), [50, 32], TensorSpec(shape=(50, 32), dtype=tf.float32, name='eps')), {}).\n",
      "INFO:tensorflow:Unsupported signature for serialization: ((<tensorflow.python.framework.func_graph.UnknownArgument object at 0x000001B26A21C8C8>, (200, 200, 3), [50, 32], TensorSpec(shape=(50, 32), dtype=tf.float32, name='eps')), {}).\n"
     ]
    },
    {
     "data": {
      "application/vnd.jupyter.widget-view+json": {
       "model_id": "",
       "version_major": 2,
       "version_minor": 0
      },
      "text/plain": [
       "HBox(children=(IntProgress(value=0, description='Epoch 6', max=10, style=ProgressStyle(description_width='init…"
      ]
     },
     "metadata": {},
     "output_type": "display_data"
    },
    {
     "data": {
      "application/vnd.jupyter.widget-view+json": {
       "model_id": "",
       "version_major": 2,
       "version_minor": 0
      },
      "text/plain": [
       "HBox(children=(IntProgress(value=0, description='Epoch 7', max=10, style=ProgressStyle(description_width='init…"
      ]
     },
     "metadata": {},
     "output_type": "display_data"
    },
    {
     "data": {
      "application/vnd.jupyter.widget-view+json": {
       "model_id": "",
       "version_major": 2,
       "version_minor": 0
      },
      "text/plain": [
       "HBox(children=(IntProgress(value=0, description='Epoch 8', max=10, style=ProgressStyle(description_width='init…"
      ]
     },
     "metadata": {},
     "output_type": "display_data"
    },
    {
     "data": {
      "application/vnd.jupyter.widget-view+json": {
       "model_id": "",
       "version_major": 2,
       "version_minor": 0
      },
      "text/plain": [
       "HBox(children=(IntProgress(value=0, description='Epoch 9', max=10, style=ProgressStyle(description_width='init…"
      ]
     },
     "metadata": {},
     "output_type": "display_data"
    },
    {
     "name": "stdout",
     "output_type": "stream",
     "text": [
      "\r"
     ]
    }
   ],
   "source": [
    "ae.fit(\n",
    "    x=train_ds,\n",
    "    input_kw=None,\n",
    "    steps_per_epoch=750,\n",
    "    epochs=int(1e6), \n",
    "    verbose=0,\n",
    "    callbacks=[progbar, es, ms, csv_log, sg],\n",
    "    workers=-1,\n",
    "    use_multiprocessing=True,\n",
    "    validation_data=test_ds,\n",
    "    validation_steps=250\n",
    ")"
   ]
  },
  {
   "cell_type": "code",
   "execution_count": null,
   "metadata": {},
   "outputs": [],
   "source": []
  },
  {
   "cell_type": "code",
   "execution_count": null,
   "metadata": {},
   "outputs": [],
   "source": []
  }
 ],
 "metadata": {
  "kernelspec": {
   "display_name": "Python 3",
   "language": "python",
   "name": "python3"
  },
  "language_info": {
   "codemirror_mode": {
    "name": "ipython",
    "version": 3
   },
   "file_extension": ".py",
   "mimetype": "text/x-python",
   "name": "python",
   "nbconvert_exporter": "python",
   "pygments_lexer": "ipython3",
   "version": "3.7.5"
  }
 },
 "nbformat": 4,
 "nbformat_minor": 2
}
