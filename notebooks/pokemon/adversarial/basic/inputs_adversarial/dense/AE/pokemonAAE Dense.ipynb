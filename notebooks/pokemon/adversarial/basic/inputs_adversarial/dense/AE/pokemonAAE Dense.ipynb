{
 "cells": [
  {
   "cell_type": "markdown",
   "metadata": {},
   "source": [
    "# Settings"
   ]
  },
  {
   "cell_type": "code",
   "execution_count": 1,
   "metadata": {},
   "outputs": [
    {
     "name": "stdout",
     "output_type": "stream",
     "text": [
      "env: TF_KERAS=1\n",
      "\\\n"
     ]
    }
   ],
   "source": [
    "%env TF_KERAS = 1\n",
    "import os\n",
    "sep_local = os.path.sep\n",
    "\n",
    "import sys\n",
    "sys.path.append('..'+sep_local+'..')\n",
    "print(sep_local)"
   ]
  },
  {
   "cell_type": "code",
   "execution_count": 2,
   "metadata": {},
   "outputs": [
    {
     "name": "stdout",
     "output_type": "stream",
     "text": [
      "2.1.0\n"
     ]
    }
   ],
   "source": [
    "import tensorflow as tf\n",
    "print(tf.__version__)"
   ]
  },
  {
   "cell_type": "markdown",
   "metadata": {},
   "source": [
    "# Dataset loading"
   ]
  },
  {
   "cell_type": "code",
   "execution_count": 3,
   "metadata": {},
   "outputs": [],
   "source": [
    "dataset_name='pokemon'"
   ]
  },
  {
   "cell_type": "code",
   "execution_count": 4,
   "metadata": {},
   "outputs": [],
   "source": [
    "IMG_DIR = 'C:\\\\Users\\\\Khalid\\\\Documents\\projects\\\\pokemon\\DS06\\\\'\n",
    "VAL_PCT = 10\n",
    "VAL_FORMAT = 'png'"
   ]
  },
  {
   "cell_type": "code",
   "execution_count": 5,
   "metadata": {},
   "outputs": [],
   "source": [
    "os.chdir('..'+sep_local+'..'+sep_local+'..'+sep_local+'..'+sep_local+'..'+sep_local+'..'+sep_local+'..'+sep_local+'..')\n",
    "print(os.getcwd())"
   ]
  },
  {
   "cell_type": "code",
   "execution_count": 6,
   "metadata": {},
   "outputs": [
    {
     "data": {
      "text/plain": [
       "'C:\\\\Users\\\\Khalid\\\\Documents\\\\projects\\\\Generatives\\\\Generative_Models'"
      ]
     },
     "execution_count": 6,
     "metadata": {},
     "output_type": "execute_result"
    }
   ],
   "source": [
    "os.getcwd()"
   ]
  },
  {
   "cell_type": "code",
   "execution_count": 7,
   "metadata": {},
   "outputs": [
    {
     "name": "stderr",
     "output_type": "stream",
     "text": [
      "Using TensorFlow backend.\n"
     ]
    }
   ],
   "source": [
    "from training.generators.file_image_generator import create_image_lists, get_generators"
   ]
  },
  {
   "cell_type": "code",
   "execution_count": 8,
   "metadata": {},
   "outputs": [
    {
     "name": "stdout",
     "output_type": "stream",
     "text": [
      "\n"
     ]
    },
    {
     "name": "stderr",
     "output_type": "stream",
     "text": [
      "  DEBUG    | Looking for images in 'all'\n"
     ]
    },
    {
     "name": "stdout",
     "output_type": "stream",
     "text": [
      "\n"
     ]
    },
    {
     "name": "stderr",
     "output_type": "stream",
     "text": [
      "  INFO     | 809 file found\n"
     ]
    }
   ],
   "source": [
    "imgs_list = create_image_lists(\n",
    "    image_dir=IMG_DIR, \n",
    "    validation_pct=VAL_PCT, \n",
    "    valid_imgae_formats=VAL_FORMAT\n",
    ")"
   ]
  },
  {
   "cell_type": "code",
   "execution_count": 9,
   "metadata": {},
   "outputs": [],
   "source": [
    "inputs_shape= IMG_SIZE=(200, 200, 3)\n",
    "BATCH_SIZE = 32\n",
    "latent_dim = 32\n",
    "intermediate_dim = 16"
   ]
  },
  {
   "cell_type": "code",
   "execution_count": 10,
   "metadata": {},
   "outputs": [
    {
     "name": "stdout",
     "output_type": "stream",
     "text": [
      "\n"
     ]
    },
    {
     "name": "stderr",
     "output_type": "stream",
     "text": [
      "  INFO     | Found 738 training files\n"
     ]
    },
    {
     "name": "stdout",
     "output_type": "stream",
     "text": [
      "\n"
     ]
    },
    {
     "name": "stderr",
     "output_type": "stream",
     "text": [
      "  INFO     | Found 71 validation files\n"
     ]
    }
   ],
   "source": [
    "train_gen, test_gen = get_generators(\n",
    "    images_list=imgs_list, \n",
    "    image_dir=IMG_DIR, \n",
    "    image_size=IMG_SIZE, \n",
    "    batch_size=BATCH_SIZE, \n",
    "    class_mode=None\n",
    ")"
   ]
  },
  {
   "cell_type": "code",
   "execution_count": 11,
   "metadata": {},
   "outputs": [],
   "source": [
    "import tensorflow as tf"
   ]
  },
  {
   "cell_type": "code",
   "execution_count": 12,
   "metadata": {},
   "outputs": [],
   "source": [
    "train_ds = tf.data.Dataset.from_generator(\n",
    "    lambda: train_gen, \n",
    "    output_types=tf.float32 ,\n",
    "    output_shapes=tf.TensorShape((BATCH_SIZE, ) + IMG_SIZE)\n",
    ")\n",
    "\n",
    "test_ds = tf.data.Dataset.from_generator(\n",
    "    lambda: test_gen, \n",
    "    output_types=tf.float32 ,\n",
    "    output_shapes=tf.TensorShape((BATCH_SIZE, ) + IMG_SIZE)\n",
    ")\n"
   ]
  },
  {
   "cell_type": "code",
   "execution_count": 13,
   "metadata": {},
   "outputs": [],
   "source": [
    "_instance_scale=1.0\n",
    "for data in train_ds:\n",
    "    _instance_scale = float(data[0].numpy().max())\n",
    "    break"
   ]
  },
  {
   "cell_type": "code",
   "execution_count": 14,
   "metadata": {},
   "outputs": [
    {
     "data": {
      "text/plain": [
       "1.0"
      ]
     },
     "execution_count": 14,
     "metadata": {},
     "output_type": "execute_result"
    }
   ],
   "source": [
    "_instance_scale"
   ]
  },
  {
   "cell_type": "code",
   "execution_count": 15,
   "metadata": {},
   "outputs": [],
   "source": [
    "import numpy as np\n",
    "from collections.abc import Iterable"
   ]
  },
  {
   "cell_type": "code",
   "execution_count": 16,
   "metadata": {},
   "outputs": [],
   "source": [
    "if isinstance(inputs_shape, Iterable):\n",
    "    _outputs_shape = np.prod(inputs_shape)"
   ]
  },
  {
   "cell_type": "code",
   "execution_count": 17,
   "metadata": {},
   "outputs": [
    {
     "data": {
      "text/plain": [
       "120000"
      ]
     },
     "execution_count": 17,
     "metadata": {},
     "output_type": "execute_result"
    }
   ],
   "source": [
    "_outputs_shape"
   ]
  },
  {
   "cell_type": "markdown",
   "metadata": {},
   "source": [
    "# Model's Layers definition"
   ]
  },
  {
   "cell_type": "code",
   "execution_count": 18,
   "metadata": {},
   "outputs": [],
   "source": [
    "enc_lays = [tf.keras.layers.Dense(units=intermediate_dim, activation='relu'),\n",
    "            tf.keras.layers.Flatten(),\n",
    "            tf.keras.layers.Dense(units=latent_dim)]\n",
    "\n",
    "dec_lays = [tf.keras.layers.Dense(units=latent_dim, activation='relu'),\n",
    "            tf.keras.layers.Dense(units=intermediate_dim, activation='relu'),\n",
    "            tf.keras.layers.Dense(units=_outputs_shape),\n",
    "            tf.keras.layers.Reshape(inputs_shape)]"
   ]
  },
  {
   "cell_type": "markdown",
   "metadata": {},
   "source": [
    "# Model definition"
   ]
  },
  {
   "cell_type": "code",
   "execution_count": 19,
   "metadata": {},
   "outputs": [],
   "source": [
    "model_name = dataset_name+'TIAAE'\n",
    "recording_dir='recording'+sep_local+model_name"
   ]
  },
  {
   "cell_type": "code",
   "execution_count": 20,
   "metadata": {
    "scrolled": true
   },
   "outputs": [],
   "source": [
    "from training.adversarial_basic.inputs_adversarial.autoencoders.AAE import AAE as AE"
   ]
  },
  {
   "cell_type": "code",
   "execution_count": 21,
   "metadata": {},
   "outputs": [],
   "source": [
    "inputs_shape=IMG_SIZE"
   ]
  },
  {
   "cell_type": "code",
   "execution_count": 22,
   "metadata": {},
   "outputs": [],
   "source": [
    "variables_params = \\\n",
    "[\n",
    "    {\n",
    "        'name': 'inference', \n",
    "        'inputs_shape':inputs_shape,\n",
    "        'outputs_shape':latent_dim,\n",
    "        'layers': enc_lays\n",
    "    }\n",
    "\n",
    "    ,\n",
    "    \n",
    "        {\n",
    "        'name': 'generative', \n",
    "        'inputs_shape':latent_dim,\n",
    "        'outputs_shape':inputs_shape,\n",
    "        'layers':dec_lays\n",
    "    }\n",
    "]"
   ]
  },
  {
   "cell_type": "code",
   "execution_count": 23,
   "metadata": {},
   "outputs": [],
   "source": [
    "from utils.data_and_files.file_utils import create_if_not_exist"
   ]
  },
  {
   "cell_type": "code",
   "execution_count": 24,
   "metadata": {},
   "outputs": [],
   "source": [
    "_restore = os.path.join(recording_dir, 'var_save_dir')"
   ]
  },
  {
   "cell_type": "code",
   "execution_count": 25,
   "metadata": {},
   "outputs": [
    {
     "data": {
      "text/plain": [
       "'recording\\\\pokemonTIAAE\\\\var_save_dir'"
      ]
     },
     "execution_count": 25,
     "metadata": {},
     "output_type": "execute_result"
    }
   ],
   "source": [
    "create_if_not_exist(_restore)\n",
    "_restore"
   ]
  },
  {
   "cell_type": "code",
   "execution_count": 26,
   "metadata": {},
   "outputs": [],
   "source": [
    "#to restore trained model, set filepath=_restore"
   ]
  },
  {
   "cell_type": "code",
   "execution_count": 29,
   "metadata": {},
   "outputs": [],
   "source": [
    "from statisticstranditional_adversarial_losses import \\\n",
    "    create_inputs_discriminator_real_losses, \\\n",
    "    create_inputs_discriminator_fake_losses, \\\n",
    "    create_inputs_generator_fake_losses, \\\n",
    "\n",
    "inputs_discriminator_losses = {\n",
    "    'inputs_discriminator_real_outputs': create_inputs_discriminator_real_losses,\n",
    "    'inputs_discriminator_fake_outputs': create_inputs_discriminator_fake_losses,\n",
    "    'inputs_generator_fake_outputs': create_inputs_generator_fake_losses,\n",
    "}"
   ]
  },
  {
   "cell_type": "code",
   "execution_count": 30,
   "metadata": {
    "scrolled": false
   },
   "outputs": [
    {
     "name": "stdout",
     "output_type": "stream",
     "text": [
      "Model: \"inference\"\n",
      "_________________________________________________________________\n",
      "Layer (type)                 Output Shape              Param #   \n",
      "=================================================================\n",
      "inference_inputs (InputLayer [(None, 200, 200, 3)]     0         \n",
      "_________________________________________________________________\n",
      "dense (Dense)                (None, 200, 200, 16)      64        \n",
      "_________________________________________________________________\n",
      "flatten (Flatten)            (None, 640000)            0         \n",
      "_________________________________________________________________\n",
      "dense_1 (Dense)              (None, 32)                20480032  \n",
      "_________________________________________________________________\n",
      "batch_normalization (BatchNo (None, 32)                128       \n",
      "_________________________________________________________________\n",
      "dropout (Dropout)            (None, 32)                0         \n",
      "_________________________________________________________________\n",
      "activity_regularization (Act (None, 32)                0         \n",
      "_________________________________________________________________\n",
      "inference_outputs (Activatio (None, 32)                0         \n",
      "=================================================================\n",
      "Total params: 20,480,224\n",
      "Trainable params: 20,480,160\n",
      "Non-trainable params: 64\n",
      "_________________________________________________________________\n",
      "\n"
     ]
    },
    {
     "name": "stderr",
     "output_type": "stream",
     "text": [
      "  WARNING  | None\n"
     ]
    },
    {
     "name": "stdout",
     "output_type": "stream",
     "text": [
      "Model: \"generative\"\n",
      "_________________________________________________________________\n",
      "Layer (type)                 Output Shape              Param #   \n",
      "=================================================================\n",
      "generative_inputs (InputLaye [(None, 32)]              0         \n",
      "_________________________________________________________________\n",
      "dense_2 (Dense)              (None, 32)                1056      \n",
      "_________________________________________________________________\n",
      "dense_3 (Dense)              (None, 16)                528       \n",
      "_________________________________________________________________\n",
      "dense_4 (Dense)              (None, 120000)            2040000   \n",
      "_________________________________________________________________\n",
      "reshape (Reshape)            (None, 200, 200, 3)       0         \n",
      "_________________________________________________________________\n",
      "batch_normalization_1 (Batch (None, 200, 200, 3)       12        \n",
      "_________________________________________________________________\n",
      "dropout_1 (Dropout)          (None, 200, 200, 3)       0         \n",
      "_________________________________________________________________\n",
      "activity_regularization_1 (A (None, 200, 200, 3)       0         \n",
      "_________________________________________________________________\n",
      "generative_outputs (Activati (None, 200, 200, 3)       0         \n",
      "=================================================================\n",
      "Total params: 2,041,596\n",
      "Trainable params: 2,041,590\n",
      "Non-trainable params: 6\n",
      "_________________________________________________________________\n",
      "\n"
     ]
    },
    {
     "name": "stderr",
     "output_type": "stream",
     "text": [
      "  WARNING  | None\n"
     ]
    }
   ],
   "source": [
    "ae = AE( \n",
    "    adversarial_losses=inputs_discriminator_losses,\n",
    "    inputs_shape=inputs_shape,\n",
    "    outputs_shape=inputs_shape,\n",
    "    latent_dim=latent_dim,\n",
    "    batch_size=BATCH_SIZE,\n",
    "    variables_params=variables_params,\n",
    "    filepath=None\n",
    "    )"
   ]
  },
  {
   "cell_type": "code",
   "execution_count": 31,
   "metadata": {},
   "outputs": [
    {
     "name": "stdout",
     "output_type": "stream",
     "text": [
      "Model: \"pokemonTIAAE\"\n",
      "_________________________________________________________________\n",
      "Layer (type)                 Output Shape              Param #   \n",
      "=================================================================\n",
      "inference_inputs (InputLayer [(None, 200, 200, 3)]     0         \n",
      "_________________________________________________________________\n",
      "inference (Model)            (None, 32)                20480224  \n",
      "_________________________________________________________________\n",
      "generative (Model)           (None, 200, 200, 3)       2041596   \n",
      "_________________________________________________________________\n",
      "tf_op_layer_x_logits (Tensor [(None, 200, 200, 3)]     0         \n",
      "=================================================================\n",
      "Total params: 22,521,820\n",
      "Trainable params: 22,521,750\n",
      "Non-trainable params: 70\n",
      "_________________________________________________________________\n",
      "None\n"
     ]
    }
   ],
   "source": [
    "#ae.compile(metrics=None)\n",
    "discr2gen_rate = 0.001\n",
    "gen2trad_rate = 0.1\n",
    "\n",
    "ae.compile(\n",
    "    adversarial_losses=latent_discriminator_losses,\n",
    "    adversarial_weights={'generator_weight': gen2trad_rate, 'discriminator_weight': discr2gen_rate}\n",)"
   ]
  },
  {
   "cell_type": "markdown",
   "metadata": {},
   "source": [
    "# Callbacks"
   ]
  },
  {
   "cell_type": "code",
   "execution_count": 29,
   "metadata": {},
   "outputs": [],
   "source": [
    "from training.callbacks.progress_bar import NotebookPrograssBar\n",
    "from training.callbacks.sample_generation import SampleGeneration\n",
    "from training.callbacks.save_model import ModelSaver"
   ]
  },
  {
   "cell_type": "code",
   "execution_count": 30,
   "metadata": {},
   "outputs": [],
   "source": [
    "progbar = NotebookPrograssBar(leave_outer=False)"
   ]
  },
  {
   "cell_type": "code",
   "execution_count": 31,
   "metadata": {},
   "outputs": [],
   "source": [
    "es = tf.keras.callbacks.EarlyStopping(\n",
    "    monitor='val_loss', \n",
    "    min_delta=1e-12, \n",
    "    patience=5, \n",
    "    verbose=1, \n",
    "    restore_best_weights=True\n",
    ")"
   ]
  },
  {
   "cell_type": "code",
   "execution_count": 32,
   "metadata": {},
   "outputs": [],
   "source": [
    "ms = ModelSaver(filepath=_restore,save_freq=5)"
   ]
  },
  {
   "cell_type": "code",
   "execution_count": 33,
   "metadata": {},
   "outputs": [
    {
     "data": {
      "text/plain": [
       "'..\\\\..\\\\recording\\\\pokemonGAAE\\\\csv_dir\\\\pokemonGAAE.csv'"
      ]
     },
     "execution_count": 33,
     "metadata": {},
     "output_type": "execute_result"
    }
   ],
   "source": [
    "csv_dir = os.path.join(recording_dir, 'csv_dir')\n",
    "create_if_not_exist(csv_dir)\n",
    "csv_dir = os.path.join(csv_dir, ae.name+'.csv')\n",
    "csv_log = tf.keras.callbacks.CSVLogger(csv_dir, append=True)\n",
    "csv_dir"
   ]
  },
  {
   "cell_type": "code",
   "execution_count": 34,
   "metadata": {},
   "outputs": [],
   "source": [
    "image_gen_dir = os.path.join(recording_dir, 'image_gen_dir')\n",
    "create_if_not_exist(image_gen_dir)"
   ]
  },
  {
   "cell_type": "code",
   "execution_count": 35,
   "metadata": {},
   "outputs": [],
   "source": [
    "sg = SampleGeneration(latent_shape=latent_dim, filepath=image_gen_dir, gen_freq=5, save_img=True, gray_plot=False)"
   ]
  },
  {
   "cell_type": "code",
   "execution_count": 36,
   "metadata": {},
   "outputs": [],
   "source": [
    "import numpy as np"
   ]
  },
  {
   "cell_type": "markdown",
   "metadata": {},
   "source": [
    "# Model Training"
   ]
  },
  {
   "cell_type": "code",
   "execution_count": 39,
   "metadata": {
    "scrolled": true
   },
   "outputs": [
    {
     "name": "stdout",
     "output_type": "stream",
     "text": [
      "\n",
      "training traditional basicAE\n",
      "Train for 10 steps\n",
      "Epoch 1/10\n",
      "10/10 [==============================] - ETA: 3s - loss: 77772.8516 - psnr: 8.7412 - ssmi: 0.0080 - sharp_diff: 4.63 - ETA: 2s - loss: 76812.4336 - psnr: 8.7594 - ssmi: 0.0080 - sharp_diff: 4.63 - ETA: 2s - loss: 75489.9714 - psnr: 8.8345 - ssmi: 0.0081 - sharp_diff: 4.64 - ETA: 1s - loss: 76998.7812 - psnr: 8.7535 - ssmi: 0.0081 - sharp_diff: 4.64 - ETA: 1s - loss: 75278.0437 - psnr: 8.8666 - ssmi: 0.0082 - sharp_diff: 4.64 - ETA: 1s - loss: 76425.2031 - psnr: 8.8125 - ssmi: 0.0082 - sharp_diff: 4.64 - ETA: 0s - loss: 77063.2500 - psnr: 8.7832 - ssmi: 0.0082 - sharp_diff: 4.64 - ETA: 0s - loss: 77476.7266 - psnr: 8.7589 - ssmi: 0.0082 - sharp_diff: 4.64 - ETA: 0s - loss: 77100.9071 - psnr: 8.7798 - ssmi: 0.0081 - sharp_diff: 4.64 - 3s 277ms/step - loss: 77467.0961 - psnr: 8.7642 - ssmi: 0.0082 - sharp_diff: 4.6469\n",
      "Epoch 2/10\n",
      "10/10 [==============================] - ETA: 2s - loss: 78823.3281 - psnr: 8.6847 - ssmi: 0.0086 - sharp_diff: 4.64 - ETA: 2s - loss: 83193.3867 - psnr: 8.4679 - ssmi: 0.0085 - sharp_diff: 4.64 - ETA: 1s - loss: 79180.4974 - psnr: 8.6256 - ssmi: 0.0082 - sharp_diff: 4.65 - ETA: 1s - loss: 80111.5918 - psnr: 8.5763 - ssmi: 0.0082 - sharp_diff: 4.65 - ETA: 1s - loss: 79255.0328 - psnr: 8.6395 - ssmi: 0.0082 - sharp_diff: 4.65 - ETA: 1s - loss: 79474.4818 - psnr: 8.6266 - ssmi: 0.0083 - sharp_diff: 4.65 - ETA: 0s - loss: 79060.9721 - psnr: 8.6538 - ssmi: 0.0083 - sharp_diff: 4.65 - ETA: 0s - loss: 79720.5469 - psnr: 8.6145 - ssmi: 0.0084 - sharp_diff: 4.65 - ETA: 0s - loss: 79862.7778 - psnr: 8.6130 - ssmi: 0.0085 - sharp_diff: 4.65 - 3s 267ms/step - loss: 79892.7703 - psnr: 8.6060 - ssmi: 0.0085 - sharp_diff: 4.6594\n",
      "Epoch 3/10\n",
      "10/10 [==============================] - ETA: 2s - loss: 74942.4531 - psnr: 9.0221 - ssmi: 0.0090 - sharp_diff: 4.69 - ETA: 2s - loss: 65092.5234 - psnr: 9.4329 - ssmi: 0.0080 - sharp_diff: 4.70 - ETA: 1s - loss: 68271.9089 - psnr: 9.2525 - ssmi: 0.0081 - sharp_diff: 4.69 - ETA: 1s - loss: 73378.3848 - psnr: 9.0432 - ssmi: 0.0087 - sharp_diff: 4.69 - ETA: 1s - loss: 73501.8781 - psnr: 9.0294 - ssmi: 0.0088 - sharp_diff: 4.69 - ETA: 1s - loss: 73843.3151 - psnr: 9.0165 - ssmi: 0.0089 - sharp_diff: 4.69 - ETA: 0s - loss: 75095.5904 - psnr: 8.9361 - ssmi: 0.0090 - sharp_diff: 4.68 - ETA: 0s - loss: 75053.2393 - psnr: 8.9146 - ssmi: 0.0090 - sharp_diff: 4.68 - ETA: 0s - loss: 74738.8333 - psnr: 8.9198 - ssmi: 0.0090 - sharp_diff: 4.68 - 3s 264ms/step - loss: 74929.7977 - psnr: 8.9110 - ssmi: 0.0090 - sharp_diff: 4.6874\n",
      "Epoch 4/10\n",
      "10/10 [==============================] - ETA: 2s - loss: 71932.8906 - psnr: 8.9501 - ssmi: 0.0099 - sharp_diff: 4.69 - ETA: 2s - loss: 74125.1953 - psnr: 8.8587 - ssmi: 0.0093 - sharp_diff: 4.69 - ETA: 1s - loss: 74761.2552 - psnr: 8.8352 - ssmi: 0.0092 - sharp_diff: 4.69 - ETA: 1s - loss: 75600.8633 - psnr: 8.7888 - ssmi: 0.0090 - sharp_diff: 4.69 - ETA: 1s - loss: 77076.2531 - psnr: 8.7011 - ssmi: 0.0089 - sharp_diff: 4.68 - ETA: 1s - loss: 76767.2721 - psnr: 8.7172 - ssmi: 0.0091 - sharp_diff: 4.68 - ETA: 0s - loss: 76989.8839 - psnr: 8.7233 - ssmi: 0.0093 - sharp_diff: 4.68 - ETA: 0s - loss: 77001.2520 - psnr: 8.7138 - ssmi: 0.0093 - sharp_diff: 4.69 - ETA: 0s - loss: 76790.4601 - psnr: 8.7361 - ssmi: 0.0095 - sharp_diff: 4.69 - 3s 264ms/step - loss: 76045.5453 - psnr: 8.7764 - ssmi: 0.0095 - sharp_diff: 4.6959\n",
      "Epoch 5/10\n",
      "10/10 [==============================] - ETA: 2s - loss: 77317.9141 - psnr: 8.6945 - ssmi: 0.0101 - sharp_diff: 4.70 - ETA: 2s - loss: 79022.8633 - psnr: 8.5911 - ssmi: 0.0102 - sharp_diff: 4.69 - ETA: 1s - loss: 77647.9792 - psnr: 8.6608 - ssmi: 0.0099 - sharp_diff: 4.70 - ETA: 1s - loss: 78143.1895 - psnr: 8.6629 - ssmi: 0.0098 - sharp_diff: 4.70 - ETA: 1s - loss: 77748.3797 - psnr: 8.6875 - ssmi: 0.0099 - sharp_diff: 4.70 - ETA: 1s - loss: 77218.1068 - psnr: 8.6522 - ssmi: 0.0095 - sharp_diff: 4.70 - ETA: 0s - loss: 77940.4018 - psnr: 8.6250 - ssmi: 0.0096 - sharp_diff: 4.70 - ETA: 0s - loss: 77131.0615 - psnr: 8.6635 - ssmi: 0.0096 - sharp_diff: 4.70 - ETA: 0s - loss: 77733.9062 - psnr: 8.6423 - ssmi: 0.0097 - sharp_diff: 4.70 - 3s 266ms/step - loss: 77192.2391 - psnr: 8.6819 - ssmi: 0.0098 - sharp_diff: 4.7112\n",
      "Epoch 6/10\n",
      "10/10 [==============================] - ETA: 2s - loss: 70881.1641 - psnr: 9.1212 - ssmi: 0.0110 - sharp_diff: 4.72 - ETA: 2s - loss: 69844.9609 - psnr: 9.1323 - ssmi: 0.0108 - sharp_diff: 4.72 - ETA: 1s - loss: 71204.8099 - psnr: 9.0552 - ssmi: 0.0106 - sharp_diff: 4.72 - ETA: 1s - loss: 73810.8965 - psnr: 8.9003 - ssmi: 0.0105 - sharp_diff: 4.72 - ETA: 1s - loss: 74675.5703 - psnr: 8.8342 - ssmi: 0.0105 - sharp_diff: 4.71 - ETA: 1s - loss: 74893.5755 - psnr: 8.8268 - ssmi: 0.0106 - sharp_diff: 4.72 - ETA: 0s - loss: 74698.1362 - psnr: 8.8368 - ssmi: 0.0106 - sharp_diff: 4.72 - ETA: 0s - loss: 74525.3369 - psnr: 8.8380 - ssmi: 0.0105 - sharp_diff: 4.72 - ETA: 0s - loss: 74092.4158 - psnr: 8.8599 - ssmi: 0.0106 - sharp_diff: 4.72 - 3s 263ms/step - loss: 74213.4141 - psnr: 8.8636 - ssmi: 0.0107 - sharp_diff: 4.7255\n",
      "Epoch 7/10\n",
      "10/10 [==============================] - ETA: 2s - loss: 78934.5703 - psnr: 8.4975 - ssmi: 0.0109 - sharp_diff: 4.71 - ETA: 2s - loss: 77093.1172 - psnr: 8.6415 - ssmi: 0.0106 - sharp_diff: 4.71 - ETA: 1s - loss: 74733.0911 - psnr: 8.8096 - ssmi: 0.0112 - sharp_diff: 4.72 - ETA: 1s - loss: 74454.2207 - psnr: 8.8333 - ssmi: 0.0111 - sharp_diff: 4.73 - ETA: 1s - loss: 76061.9438 - psnr: 8.7374 - ssmi: 0.0111 - sharp_diff: 4.73 - ETA: 1s - loss: 74827.9427 - psnr: 8.8216 - ssmi: 0.0111 - sharp_diff: 4.73 - ETA: 0s - loss: 76091.0871 - psnr: 8.7587 - ssmi: 0.0111 - sharp_diff: 4.73 - ETA: 0s - loss: 76798.9434 - psnr: 8.7390 - ssmi: 0.0111 - sharp_diff: 4.73 - ETA: 0s - loss: 76098.5417 - psnr: 8.7785 - ssmi: 0.0112 - sharp_diff: 4.73 - 3s 265ms/step - loss: 75831.9367 - psnr: 8.7805 - ssmi: 0.0111 - sharp_diff: 4.7377\n",
      "Epoch 8/10\n",
      "10/10 [==============================] - ETA: 2s - loss: 71660.5234 - psnr: 9.0240 - ssmi: 0.0119 - sharp_diff: 4.74 - ETA: 2s - loss: 74729.2969 - psnr: 8.7976 - ssmi: 0.0116 - sharp_diff: 4.74 - ETA: 1s - loss: 74374.3646 - psnr: 8.8133 - ssmi: 0.0119 - sharp_diff: 4.74 - ETA: 1s - loss: 74728.7949 - psnr: 8.7841 - ssmi: 0.0122 - sharp_diff: 4.75 - ETA: 1s - loss: 74670.7844 - psnr: 8.7958 - ssmi: 0.0121 - sharp_diff: 4.75 - ETA: 1s - loss: 76156.2826 - psnr: 8.7308 - ssmi: 0.0120 - sharp_diff: 4.74 - ETA: 0s - loss: 76392.7299 - psnr: 8.7327 - ssmi: 0.0121 - sharp_diff: 4.74 - ETA: 0s - loss: 75977.0557 - psnr: 8.7583 - ssmi: 0.0123 - sharp_diff: 4.74 - ETA: 0s - loss: 75351.6814 - psnr: 8.8049 - ssmi: 0.0123 - sharp_diff: 4.75 - 3s 267ms/step - loss: 75156.9133 - psnr: 8.8193 - ssmi: 0.0122 - sharp_diff: 4.7507\n",
      "Epoch 9/10\n",
      "10/10 [==============================] - ETA: 2s - loss: 80131.2578 - psnr: 8.4643 - ssmi: 0.0116 - sharp_diff: 4.73 - ETA: 2s - loss: 73527.8555 - psnr: 8.8543 - ssmi: 0.0122 - sharp_diff: 4.75 - ETA: 1s - loss: 71699.0130 - psnr: 8.9500 - ssmi: 0.0124 - sharp_diff: 4.75 - ETA: 1s - loss: 73047.1875 - psnr: 8.9178 - ssmi: 0.0125 - sharp_diff: 4.75 - ETA: 1s - loss: 73490.3422 - psnr: 8.8936 - ssmi: 0.0125 - sharp_diff: 4.75 - ETA: 1s - loss: 74010.6641 - psnr: 8.8549 - ssmi: 0.0125 - sharp_diff: 4.75 - ETA: 0s - loss: 73716.1350 - psnr: 8.8777 - ssmi: 0.0126 - sharp_diff: 4.75 - ETA: 0s - loss: 73305.7168 - psnr: 8.8882 - ssmi: 0.0125 - sharp_diff: 4.75 - ETA: 0s - loss: 72945.6345 - psnr: 8.9028 - ssmi: 0.0125 - sharp_diff: 4.75 - 3s 266ms/step - loss: 73597.5328 - psnr: 8.8810 - ssmi: 0.0127 - sharp_diff: 4.7609\n",
      "Epoch 10/10\n",
      "10/10 [==============================] - ETA: 2s - loss: 69075.2109 - psnr: 9.0375 - ssmi: 0.0122 - sharp_diff: 4.75 - ETA: 2s - loss: 70880.6562 - psnr: 8.9164 - ssmi: 0.0117 - sharp_diff: 4.74 - ETA: 1s - loss: 71898.5625 - psnr: 8.8706 - ssmi: 0.0115 - sharp_diff: 4.74 - ETA: 1s - loss: 70088.9355 - psnr: 8.9110 - ssmi: 0.0111 - sharp_diff: 4.73 - ETA: 1s - loss: 70653.3828 - psnr: 8.8902 - ssmi: 0.0113 - sharp_diff: 4.74 - ETA: 1s - loss: 71010.1966 - psnr: 8.8919 - ssmi: 0.0118 - sharp_diff: 4.74 - ETA: 0s - loss: 70826.7734 - psnr: 8.9393 - ssmi: 0.0124 - sharp_diff: 4.75 - ETA: 0s - loss: 70809.4775 - psnr: 8.9572 - ssmi: 0.0126 - sharp_diff: 4.75 - ETA: 0s - loss: 70815.1372 - psnr: 8.9695 - ssmi: 0.0127 - sharp_diff: 4.75 - 3s 267ms/step - loss: 70748.8242 - psnr: 8.9746 - ssmi: 0.0129 - sharp_diff: 4.7613\n"
     ]
    },
    {
     "ename": "ValueError",
     "evalue": "Unknown entries in loss dictionary: ['latent_discriminator_real_outputs']. Only expected following keys: ['logits_real_discriminator_outputs']",
     "output_type": "error",
     "traceback": [
      "\u001b[1;31m---------------------------------------------------------------------------\u001b[0m",
      "\u001b[1;31mValueError\u001b[0m                                Traceback (most recent call last)",
      "\u001b[1;32m<ipython-input-39-9881cb897163>\u001b[0m in \u001b[0;36m<module>\u001b[1;34m\u001b[0m\n\u001b[0;32m      7\u001b[0m     \u001b[1;31m#callbacks=[progbar, es, ms, csv_log, sg],\u001b[0m\u001b[1;33m\u001b[0m\u001b[1;33m\u001b[0m\u001b[1;33m\u001b[0m\u001b[0m\n\u001b[0;32m      8\u001b[0m     \u001b[0mworkers\u001b[0m\u001b[1;33m=\u001b[0m\u001b[1;33m-\u001b[0m\u001b[1;36m1\u001b[0m\u001b[1;33m,\u001b[0m\u001b[1;33m\u001b[0m\u001b[1;33m\u001b[0m\u001b[0m\n\u001b[1;32m----> 9\u001b[1;33m     \u001b[0muse_multiprocessing\u001b[0m\u001b[1;33m=\u001b[0m\u001b[1;32mTrue\u001b[0m\u001b[1;33m,\u001b[0m\u001b[1;33m\u001b[0m\u001b[1;33m\u001b[0m\u001b[0m\n\u001b[0m\u001b[0;32m     10\u001b[0m     \u001b[1;31m#validation_data=test_ds,\u001b[0m\u001b[1;33m\u001b[0m\u001b[1;33m\u001b[0m\u001b[1;33m\u001b[0m\u001b[0m\n\u001b[0;32m     11\u001b[0m     \u001b[1;31m#validation_steps=250\u001b[0m\u001b[1;33m\u001b[0m\u001b[1;33m\u001b[0m\u001b[1;33m\u001b[0m\u001b[0m\n",
      "\u001b[1;32m~\\Documents\\projects\\Generatives\\Generative_Models\\training\\logits_adversarial\\autoencoders\\AAE.py\u001b[0m in \u001b[0;36mfit\u001b[1;34m(self, x, y, input_kw, input_scale, steps_per_epoch, epochs, verbose, callbacks, validation_data, validation_steps, validation_freq, class_weight, max_queue_size, workers, use_multiprocessing, shuffle, initial_epoch)\u001b[0m\n\u001b[0;32m    150\u001b[0m                 \u001b[0mself\u001b[0m\u001b[1;33m.\u001b[0m\u001b[0mlogits_discriminator_compile\u001b[0m\u001b[1;33m(\u001b[0m\u001b[1;33m)\u001b[0m\u001b[1;33m\u001b[0m\u001b[1;33m\u001b[0m\u001b[0m\n\u001b[0;32m    151\u001b[0m         \u001b[1;32melse\u001b[0m\u001b[1;33m:\u001b[0m\u001b[1;33m\u001b[0m\u001b[1;33m\u001b[0m\u001b[0m\n\u001b[1;32m--> 152\u001b[1;33m             \u001b[0mself\u001b[0m\u001b[1;33m.\u001b[0m\u001b[0mlogits_discriminator_compile\u001b[0m\u001b[1;33m(\u001b[0m\u001b[1;33m)\u001b[0m\u001b[1;33m\u001b[0m\u001b[1;33m\u001b[0m\u001b[0m\n\u001b[0m\u001b[0;32m    153\u001b[0m \u001b[1;33m\u001b[0m\u001b[0m\n\u001b[0;32m    154\u001b[0m         \u001b[0mprint\u001b[0m\u001b[1;33m(\u001b[0m\u001b[1;33m)\u001b[0m\u001b[1;33m\u001b[0m\u001b[1;33m\u001b[0m\u001b[0m\n",
      "\u001b[1;32m~\\Documents\\projects\\Generatives\\Generative_Models\\training\\logits_adversarial\\autoencoders\\AAE.py\u001b[0m in \u001b[0;36mlogits_discriminator_compile\u001b[1;34m(self, **kwargs)\u001b[0m\n\u001b[0;32m    277\u001b[0m             \u001b[0moptimizer\u001b[0m\u001b[1;33m=\u001b[0m\u001b[0mself\u001b[0m\u001b[1;33m.\u001b[0m\u001b[0moptimizer\u001b[0m\u001b[1;33m,\u001b[0m\u001b[1;33m\u001b[0m\u001b[1;33m\u001b[0m\u001b[0m\n\u001b[0;32m    278\u001b[0m             \u001b[0mloss\u001b[0m\u001b[1;33m=\u001b[0m\u001b[0mcreate_adversarial_real_losses\u001b[0m\u001b[1;33m(\u001b[0m\u001b[1;33m)\u001b[0m\u001b[1;33m,\u001b[0m\u001b[1;33m\u001b[0m\u001b[1;33m\u001b[0m\u001b[0m\n\u001b[1;32m--> 279\u001b[1;33m             \u001b[0mmetrics\u001b[0m\u001b[1;33m=\u001b[0m\u001b[1;32mNone\u001b[0m\u001b[1;33m\u001b[0m\u001b[1;33m\u001b[0m\u001b[0m\n\u001b[0m\u001b[0;32m    280\u001b[0m         )\n\u001b[0;32m    281\u001b[0m \u001b[1;33m\u001b[0m\u001b[0m\n",
      "\u001b[1;32mC:\\ProgramData\\Anaconda3\\envs\\tf02\\lib\\site-packages\\tensorflow_core\\python\\training\\tracking\\base.py\u001b[0m in \u001b[0;36m_method_wrapper\u001b[1;34m(self, *args, **kwargs)\u001b[0m\n\u001b[0;32m    455\u001b[0m     \u001b[0mself\u001b[0m\u001b[1;33m.\u001b[0m\u001b[0m_self_setattr_tracking\u001b[0m \u001b[1;33m=\u001b[0m \u001b[1;32mFalse\u001b[0m  \u001b[1;31m# pylint: disable=protected-access\u001b[0m\u001b[1;33m\u001b[0m\u001b[1;33m\u001b[0m\u001b[0m\n\u001b[0;32m    456\u001b[0m     \u001b[1;32mtry\u001b[0m\u001b[1;33m:\u001b[0m\u001b[1;33m\u001b[0m\u001b[1;33m\u001b[0m\u001b[0m\n\u001b[1;32m--> 457\u001b[1;33m       \u001b[0mresult\u001b[0m \u001b[1;33m=\u001b[0m \u001b[0mmethod\u001b[0m\u001b[1;33m(\u001b[0m\u001b[0mself\u001b[0m\u001b[1;33m,\u001b[0m \u001b[1;33m*\u001b[0m\u001b[0margs\u001b[0m\u001b[1;33m,\u001b[0m \u001b[1;33m**\u001b[0m\u001b[0mkwargs\u001b[0m\u001b[1;33m)\u001b[0m\u001b[1;33m\u001b[0m\u001b[1;33m\u001b[0m\u001b[0m\n\u001b[0m\u001b[0;32m    458\u001b[0m     \u001b[1;32mfinally\u001b[0m\u001b[1;33m:\u001b[0m\u001b[1;33m\u001b[0m\u001b[1;33m\u001b[0m\u001b[0m\n\u001b[0;32m    459\u001b[0m       \u001b[0mself\u001b[0m\u001b[1;33m.\u001b[0m\u001b[0m_self_setattr_tracking\u001b[0m \u001b[1;33m=\u001b[0m \u001b[0mprevious_value\u001b[0m  \u001b[1;31m# pylint: disable=protected-access\u001b[0m\u001b[1;33m\u001b[0m\u001b[1;33m\u001b[0m\u001b[0m\n",
      "\u001b[1;32mC:\\ProgramData\\Anaconda3\\envs\\tf02\\lib\\site-packages\\tensorflow_core\\python\\keras\\engine\\training.py\u001b[0m in \u001b[0;36mcompile\u001b[1;34m(self, optimizer, loss, metrics, loss_weights, sample_weight_mode, weighted_metrics, target_tensors, distribute, **kwargs)\u001b[0m\n\u001b[0;32m    407\u001b[0m     \u001b[1;31m# Prepare list of loss functions, same size of model outputs.\u001b[0m\u001b[1;33m\u001b[0m\u001b[1;33m\u001b[0m\u001b[1;33m\u001b[0m\u001b[0m\n\u001b[0;32m    408\u001b[0m     self.loss_functions = training_utils.prepare_loss_functions(\n\u001b[1;32m--> 409\u001b[1;33m         self.loss, self.output_names)\n\u001b[0m\u001b[0;32m    410\u001b[0m \u001b[1;33m\u001b[0m\u001b[0m\n\u001b[0;32m    411\u001b[0m     \u001b[0mtarget_tensors\u001b[0m \u001b[1;33m=\u001b[0m \u001b[0mself\u001b[0m\u001b[1;33m.\u001b[0m\u001b[0m_process_target_tensor_for_compile\u001b[0m\u001b[1;33m(\u001b[0m\u001b[0mtarget_tensors\u001b[0m\u001b[1;33m)\u001b[0m\u001b[1;33m\u001b[0m\u001b[1;33m\u001b[0m\u001b[0m\n",
      "\u001b[1;32mC:\\ProgramData\\Anaconda3\\envs\\tf02\\lib\\site-packages\\tensorflow_core\\python\\keras\\engine\\training_utils.py\u001b[0m in \u001b[0;36mprepare_loss_functions\u001b[1;34m(loss, output_names)\u001b[0m\n\u001b[0;32m   1435\u001b[0m   \"\"\"\n\u001b[0;32m   1436\u001b[0m   \u001b[1;32mif\u001b[0m \u001b[0misinstance\u001b[0m\u001b[1;33m(\u001b[0m\u001b[0mloss\u001b[0m\u001b[1;33m,\u001b[0m \u001b[0mcollections_abc\u001b[0m\u001b[1;33m.\u001b[0m\u001b[0mMapping\u001b[0m\u001b[1;33m)\u001b[0m\u001b[1;33m:\u001b[0m\u001b[1;33m\u001b[0m\u001b[1;33m\u001b[0m\u001b[0m\n\u001b[1;32m-> 1437\u001b[1;33m     \u001b[0mgeneric_utils\u001b[0m\u001b[1;33m.\u001b[0m\u001b[0mcheck_for_unexpected_keys\u001b[0m\u001b[1;33m(\u001b[0m\u001b[1;34m'loss'\u001b[0m\u001b[1;33m,\u001b[0m \u001b[0mloss\u001b[0m\u001b[1;33m,\u001b[0m \u001b[0moutput_names\u001b[0m\u001b[1;33m)\u001b[0m\u001b[1;33m\u001b[0m\u001b[1;33m\u001b[0m\u001b[0m\n\u001b[0m\u001b[0;32m   1438\u001b[0m     \u001b[0mloss_functions\u001b[0m \u001b[1;33m=\u001b[0m \u001b[1;33m[\u001b[0m\u001b[1;33m]\u001b[0m\u001b[1;33m\u001b[0m\u001b[1;33m\u001b[0m\u001b[0m\n\u001b[0;32m   1439\u001b[0m     \u001b[1;32mfor\u001b[0m \u001b[0mname\u001b[0m \u001b[1;32min\u001b[0m \u001b[0moutput_names\u001b[0m\u001b[1;33m:\u001b[0m\u001b[1;33m\u001b[0m\u001b[1;33m\u001b[0m\u001b[0m\n",
      "\u001b[1;32mC:\\ProgramData\\Anaconda3\\envs\\tf02\\lib\\site-packages\\tensorflow_core\\python\\keras\\utils\\generic_utils.py\u001b[0m in \u001b[0;36mcheck_for_unexpected_keys\u001b[1;34m(name, input_dict, expected_values)\u001b[0m\n\u001b[0;32m    708\u001b[0m     raise ValueError('Unknown entries in {} dictionary: {}. Only expected '\n\u001b[0;32m    709\u001b[0m                      'following keys: {}'.format(name, list(unknown),\n\u001b[1;32m--> 710\u001b[1;33m                                                  expected_values))\n\u001b[0m\u001b[0;32m    711\u001b[0m \u001b[1;33m\u001b[0m\u001b[0m\n\u001b[0;32m    712\u001b[0m \u001b[1;33m\u001b[0m\u001b[0m\n",
      "\u001b[1;31mValueError\u001b[0m: Unknown entries in loss dictionary: ['latent_discriminator_real_outputs']. Only expected following keys: ['logits_real_discriminator_outputs']"
     ]
    }
   ],
   "source": [
    "ae.fit(\n",
    "    x=train_ds,\n",
    "    input_kw=None,\n",
    "    steps_per_epoch=10,\n",
    "    epochs=10,#int(1e6), \n",
    "    verbose=1,\n",
    "    #callbacks=[progbar, es, ms, csv_log, sg],\n",
    "    workers=-1,\n",
    "    use_multiprocessing=True,\n",
    "    #validation_data=test_ds,\n",
    "    #validation_steps=250\n",
    ")"
   ]
  },
  {
   "cell_type": "code",
   "execution_count": null,
   "metadata": {},
   "outputs": [],
   "source": []
  }
 ],
 "metadata": {
  "kernelspec": {
   "display_name": "Python 3",
   "language": "python",
   "name": "python3"
  },
  "language_info": {
   "codemirror_mode": {
    "name": "ipython",
    "version": 3
   },
   "file_extension": ".py",
   "mimetype": "text/x-python",
   "name": "python",
   "nbconvert_exporter": "python",
   "pygments_lexer": "ipython3",
   "version": "3.7.5"
  }
 },
 "nbformat": 4,
 "nbformat_minor": 2
}
