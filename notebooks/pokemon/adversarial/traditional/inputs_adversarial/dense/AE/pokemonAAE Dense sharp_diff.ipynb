{
 "cells": [
  {
   "cell_type": "markdown",
   "metadata": {},
   "source": [
    "# Settings"
   ]
  },
  {
   "cell_type": "code",
   "execution_count": 1,
   "metadata": {},
   "outputs": [
    {
     "name": "stdout",
     "output_type": "stream",
     "text": [
      "env: TF_KERAS=1\n",
      "\\\n"
     ]
    }
   ],
   "source": [
    "%env TF_KERAS = 1\n",
    "import os\n",
    "sep_local = os.path.sep\n",
    "\n",
    "import sys\n",
    "sys.path.append('..'+sep_local+'..')\n",
    "print(sep_local)"
   ]
  },
  {
   "cell_type": "code",
   "execution_count": 2,
   "metadata": {},
   "outputs": [
    {
     "name": "stdout",
     "output_type": "stream",
     "text": [
      "2.1.0\n"
     ]
    }
   ],
   "source": [
    "import tensorflow as tf\n",
    "print(tf.__version__)"
   ]
  },
  {
   "cell_type": "markdown",
   "metadata": {},
   "source": [
    "# Dataset loading"
   ]
  },
  {
   "cell_type": "code",
   "execution_count": 3,
   "metadata": {},
   "outputs": [],
   "source": [
    "dataset_name='pokemon'"
   ]
  },
  {
   "cell_type": "code",
   "execution_count": 4,
   "metadata": {},
   "outputs": [],
   "source": [
    "IMG_DIR = 'C:\\\\Users\\\\Khalid\\\\Documents\\projects\\\\pokemon\\DS06\\\\'\n",
    "VAL_PCT = 10\n",
    "VAL_FORMAT = 'png'"
   ]
  },
  {
   "cell_type": "code",
   "execution_count": 5,
   "metadata": {},
   "outputs": [],
   "source": [
    "os.chdir('..'+sep_local+'..'+sep_local+'..'+sep_local+'..'+sep_local+'..'+sep_local+'..'+sep_local+'..')"
   ]
  },
  {
   "cell_type": "code",
   "execution_count": 6,
   "metadata": {},
   "outputs": [
    {
     "name": "stderr",
     "output_type": "stream",
     "text": [
      "Using TensorFlow backend.\n"
     ]
    }
   ],
   "source": [
    "from training.generators.file_image_generator import create_image_lists, get_generators"
   ]
  },
  {
   "cell_type": "code",
   "execution_count": 7,
   "metadata": {},
   "outputs": [
    {
     "name": "stdout",
     "output_type": "stream",
     "text": [
      "\n"
     ]
    },
    {
     "name": "stderr",
     "output_type": "stream",
     "text": [
      "  DEBUG    | Looking for images in 'all'\n"
     ]
    },
    {
     "name": "stdout",
     "output_type": "stream",
     "text": [
      "\n"
     ]
    },
    {
     "name": "stderr",
     "output_type": "stream",
     "text": [
      "  INFO     | 809 file found\n"
     ]
    }
   ],
   "source": [
    "imgs_list = create_image_lists(\n",
    "    image_dir=IMG_DIR, \n",
    "    validation_pct=VAL_PCT, \n",
    "    valid_imgae_formats=VAL_FORMAT\n",
    ")"
   ]
  },
  {
   "cell_type": "code",
   "execution_count": 8,
   "metadata": {},
   "outputs": [],
   "source": [
    "inputs_shape= IMG_SIZE=(200, 200, 3)\n",
    "BATCH_SIZE = 32\n",
    "latent_dim = 32\n",
    "intermediate_dim = 16"
   ]
  },
  {
   "cell_type": "code",
   "execution_count": 9,
   "metadata": {},
   "outputs": [
    {
     "name": "stdout",
     "output_type": "stream",
     "text": [
      "\n"
     ]
    },
    {
     "name": "stderr",
     "output_type": "stream",
     "text": [
      "  INFO     | Found 738 training files\n"
     ]
    },
    {
     "name": "stdout",
     "output_type": "stream",
     "text": [
      "\n"
     ]
    },
    {
     "name": "stderr",
     "output_type": "stream",
     "text": [
      "  INFO     | Found 71 validation files\n"
     ]
    }
   ],
   "source": [
    "train_gen, test_gen = get_generators(\n",
    "    images_list=imgs_list, \n",
    "    image_dir=IMG_DIR, \n",
    "    image_size=IMG_SIZE, \n",
    "    batch_size=BATCH_SIZE, \n",
    "    class_mode=None\n",
    ")"
   ]
  },
  {
   "cell_type": "code",
   "execution_count": 10,
   "metadata": {},
   "outputs": [],
   "source": [
    "import tensorflow as tf"
   ]
  },
  {
   "cell_type": "code",
   "execution_count": 11,
   "metadata": {},
   "outputs": [],
   "source": [
    "train_ds = tf.data.Dataset.from_generator(\n",
    "    lambda: train_gen, \n",
    "    output_types=tf.float32 ,\n",
    "    output_shapes=tf.TensorShape((BATCH_SIZE, ) + IMG_SIZE)\n",
    ")\n",
    "\n",
    "test_ds = tf.data.Dataset.from_generator(\n",
    "    lambda: test_gen, \n",
    "    output_types=tf.float32 ,\n",
    "    output_shapes=tf.TensorShape((BATCH_SIZE, ) + IMG_SIZE)\n",
    ")"
   ]
  },
  {
   "cell_type": "code",
   "execution_count": 12,
   "metadata": {},
   "outputs": [],
   "source": [
    "_instance_scale=1.0\n",
    "for data in train_ds:\n",
    "    _instance_scale = float(data[0].numpy().max())\n",
    "    break"
   ]
  },
  {
   "cell_type": "code",
   "execution_count": 13,
   "metadata": {},
   "outputs": [
    {
     "data": {
      "text/plain": [
       "1.0"
      ]
     },
     "execution_count": 13,
     "metadata": {},
     "output_type": "execute_result"
    }
   ],
   "source": [
    "_instance_scale"
   ]
  },
  {
   "cell_type": "code",
   "execution_count": 14,
   "metadata": {},
   "outputs": [],
   "source": [
    "import numpy as np\n",
    "from collections.abc import Iterable"
   ]
  },
  {
   "cell_type": "code",
   "execution_count": 15,
   "metadata": {},
   "outputs": [],
   "source": [
    "if isinstance(inputs_shape, Iterable):\n",
    "    _outputs_shape = np.prod(inputs_shape)"
   ]
  },
  {
   "cell_type": "code",
   "execution_count": 16,
   "metadata": {},
   "outputs": [
    {
     "data": {
      "text/plain": [
       "120000"
      ]
     },
     "execution_count": 16,
     "metadata": {},
     "output_type": "execute_result"
    }
   ],
   "source": [
    "_outputs_shape"
   ]
  },
  {
   "cell_type": "markdown",
   "metadata": {},
   "source": [
    "# Model's Layers definition"
   ]
  },
  {
   "cell_type": "code",
   "execution_count": 17,
   "metadata": {},
   "outputs": [],
   "source": [
    "enc_lays = [tf.keras.layers.Dense(units=intermediate_dim, activation='relu'),\n",
    "            tf.keras.layers.Flatten(),\n",
    "            tf.keras.layers.Dense(units=latent_dim)]\n",
    "\n",
    "dec_lays = [tf.keras.layers.Dense(units=latent_dim, activation='relu'),\n",
    "            tf.keras.layers.Dense(units=intermediate_dim, activation='relu'),\n",
    "            tf.keras.layers.Dense(units=_outputs_shape),\n",
    "            tf.keras.layers.Reshape(inputs_shape)]"
   ]
  },
  {
   "cell_type": "markdown",
   "metadata": {},
   "source": [
    "# Model definition"
   ]
  },
  {
   "cell_type": "code",
   "execution_count": 18,
   "metadata": {},
   "outputs": [],
   "source": [
    "model_name = dataset_name+'ITAAEsharp_diff'\n",
    "recoding_dir='recoding'+sep_local+model_name"
   ]
  },
  {
   "cell_type": "code",
   "execution_count": 19,
   "metadata": {
    "scrolled": true
   },
   "outputs": [],
   "source": [
    "from training.inputs_adversarial.autoencoders.AAE import AAE as AE"
   ]
  },
  {
   "cell_type": "code",
   "execution_count": 20,
   "metadata": {},
   "outputs": [],
   "source": [
    "inputs_shape=IMG_SIZE"
   ]
  },
  {
   "cell_type": "code",
   "execution_count": 21,
   "metadata": {},
   "outputs": [],
   "source": [
    "variables_params = \\\n",
    "[\n",
    "    {\n",
    "        'name': 'inference', \n",
    "        'inputs_shape':inputs_shape,\n",
    "        'outputs_shape':latent_dim,\n",
    "        'layers': enc_lays#enc_lays2#\n",
    "    }\n",
    "\n",
    "    ,\n",
    "    \n",
    "        {\n",
    "        'name': 'generative', \n",
    "        'inputs_shape':latent_dim,\n",
    "        'outputs_shape':inputs_shape,\n",
    "        'layers':dec_lays#dec_lays2#\n",
    "    }\n",
    "]"
   ]
  },
  {
   "cell_type": "code",
   "execution_count": 22,
   "metadata": {},
   "outputs": [],
   "source": [
    "from utils.data_and_files.file_utils import create_if_not_exist"
   ]
  },
  {
   "cell_type": "code",
   "execution_count": 23,
   "metadata": {},
   "outputs": [],
   "source": [
    "_restore = os.path.join(recoding_dir, 'var_save_dir')"
   ]
  },
  {
   "cell_type": "code",
   "execution_count": 24,
   "metadata": {},
   "outputs": [
    {
     "data": {
      "text/plain": [
       "'recoding\\\\pokemonIAAEsharp_diff\\\\var_save_dir'"
      ]
     },
     "execution_count": 24,
     "metadata": {},
     "output_type": "execute_result"
    }
   ],
   "source": [
    "create_if_not_exist(_restore)\n",
    "_restore"
   ]
  },
  {
   "cell_type": "code",
   "execution_count": 25,
   "metadata": {},
   "outputs": [],
   "source": [
    "#to restore trained model, set filepath=_restore"
   ]
  },
  {
   "cell_type": "code",
   "execution_count": null,
   "metadata": {},
   "outputs": [],
   "source": [
    "from stats.traditional_adversarial_losses import \\\n",
    "    create_inputs_adversarial_real_losses, \\\n",
    "    create_inputs_adversarial_fake_losses, \\\n",
    "    create_inputs_adversarial_losses\n",
    "\n",
    "inputs_adversarial_losses = {\n",
    "    'inputs_adversarial_losses': create_inputs_adversarial_losses,\n",
    "    'inputs_adversarial_real_losses': create_inputs_adversarial_real_losses,\n",
    "    'inputs_adversarial_fake_losses': create_inputs_adversarial_fake_losses,\n",
    "}"
   ]
  },
  {
   "cell_type": "code",
   "execution_count": 1,
   "metadata": {
    "scrolled": false
   },
   "outputs": [
    {
     "ename": "NameError",
     "evalue": "name 'AE' is not defined",
     "output_type": "error",
     "traceback": [
      "\u001b[1;31m---------------------------------------------------------------------------\u001b[0m",
      "\u001b[1;31mNameError\u001b[0m                                 Traceback (most recent call last)",
      "\u001b[1;32m<ipython-input-1-426406b70bea>\u001b[0m in \u001b[0;36m<module>\u001b[1;34m\u001b[0m\n\u001b[1;32m----> 1\u001b[1;33m ae = AE( \n\u001b[0m\u001b[0;32m      2\u001b[0m     \u001b[0mname\u001b[0m\u001b[1;33m=\u001b[0m\u001b[0mmodel_name\u001b[0m\u001b[1;33m,\u001b[0m\u001b[1;33m\u001b[0m\u001b[1;33m\u001b[0m\u001b[0m\n\u001b[0;32m      3\u001b[0m     \u001b[0minputs_shape\u001b[0m\u001b[1;33m=\u001b[0m\u001b[0minputs_shape\u001b[0m\u001b[1;33m,\u001b[0m\u001b[1;33m\u001b[0m\u001b[1;33m\u001b[0m\u001b[0m\n\u001b[0;32m      4\u001b[0m     \u001b[0moutputs_shape\u001b[0m\u001b[1;33m=\u001b[0m\u001b[0minputs_shape\u001b[0m\u001b[1;33m,\u001b[0m\u001b[1;33m\u001b[0m\u001b[1;33m\u001b[0m\u001b[0m\n\u001b[0;32m      5\u001b[0m     \u001b[0mlatent_dim\u001b[0m\u001b[1;33m=\u001b[0m\u001b[0mlatent_dim\u001b[0m\u001b[1;33m,\u001b[0m\u001b[1;33m\u001b[0m\u001b[1;33m\u001b[0m\u001b[0m\n",
      "\u001b[1;31mNameError\u001b[0m: name 'AE' is not defined"
     ]
    }
   ],
   "source": [
    "ae = AE( \n",
    "    name=model_name,\n",
    "    adversarial_losses=inputs_adversarial_losses,\n",
    "    inputs_shape=inputs_shape,\n",
    "    outputs_shape=inputs_shape,\n",
    "    latent_dim=latent_dim,\n",
    "    batch_size=BATCH_SIZE,\n",
    "    variables_params=variables_params, \n",
    "    filepath=None\n",
    "    )"
   ]
  },
  {
   "cell_type": "code",
   "execution_count": 27,
   "metadata": {},
   "outputs": [],
   "source": [
    "#from evaluation.quantitive_metrics.psnr import psnr\n",
    "#from evaluation.quantitive_metrics.ssmi import ssmi\n",
    "from evaluation.quantitive_metrics.sharp_diff import sharp_diff\n"
   ]
  },
  {
   "cell_type": "code",
   "execution_count": 28,
   "metadata": {},
   "outputs": [
    {
     "name": "stdout",
     "output_type": "stream",
     "text": [
      "Model: \"pokemonIAAEsharp_diff\"\n",
      "_________________________________________________________________\n",
      "Layer (type)                 Output Shape              Param #   \n",
      "=================================================================\n",
      "inference_inputs (InputLayer [(None, 200, 200, 3)]     0         \n",
      "_________________________________________________________________\n",
      "inference (Model)            (None, 32)                20480224  \n",
      "_________________________________________________________________\n",
      "generative (Model)           (None, 200, 200, 3)       2041596   \n",
      "_________________________________________________________________\n",
      "tf_op_layer_x_logits (Tensor [(None, 200, 200, 3)]     0         \n",
      "=================================================================\n",
      "Total params: 22,521,820\n",
      "Trainable params: 22,521,750\n",
      "Non-trainable params: 70\n",
      "_________________________________________________________________\n",
      "None\n"
     ]
    }
   ],
   "source": [
    "ae.compile(loss={'x_logits': sharp_diff})"
   ]
  },
  {
   "cell_type": "markdown",
   "metadata": {},
   "source": [
    "# Callbacks"
   ]
  },
  {
   "cell_type": "code",
   "execution_count": 29,
   "metadata": {},
   "outputs": [],
   "source": [
    "from training.callbacks.progress_bar import NotebookPrograssBar\n",
    "from training.callbacks.sample_generation import SampleGeneration\n",
    "from training.callbacks.save_model import ModelSaver"
   ]
  },
  {
   "cell_type": "code",
   "execution_count": 30,
   "metadata": {},
   "outputs": [],
   "source": [
    "progbar = NotebookPrograssBar(leave_outer=False)"
   ]
  },
  {
   "cell_type": "code",
   "execution_count": 31,
   "metadata": {},
   "outputs": [],
   "source": [
    "es = tf.keras.callbacks.EarlyStopping(\n",
    "    monitor='val_loss', \n",
    "    min_delta=1e-12, \n",
    "    patience=5, \n",
    "    verbose=1, \n",
    "    restore_best_weights=True\n",
    ")"
   ]
  },
  {
   "cell_type": "code",
   "execution_count": 32,
   "metadata": {},
   "outputs": [],
   "source": [
    "ms = ModelSaver(filepath=_restore,save_freq=5)"
   ]
  },
  {
   "cell_type": "code",
   "execution_count": 33,
   "metadata": {},
   "outputs": [
    {
     "data": {
      "text/plain": [
       "'recoding\\\\pokemonIAAEsharp_diff\\\\csv_dir\\\\pokemonIAAEsharp_diff.csv'"
      ]
     },
     "execution_count": 33,
     "metadata": {},
     "output_type": "execute_result"
    }
   ],
   "source": [
    "csv_dir = os.path.join(recoding_dir, 'csv_dir')\n",
    "create_if_not_exist(csv_dir)\n",
    "csv_dir = os.path.join(csv_dir, ae.name+'.csv')\n",
    "csv_log = tf.keras.callbacks.CSVLogger(csv_dir, append=True)\n",
    "csv_dir"
   ]
  },
  {
   "cell_type": "code",
   "execution_count": 34,
   "metadata": {},
   "outputs": [],
   "source": [
    "image_gen_dir = os.path.join(recoding_dir, 'image_gen_dir')\n",
    "create_if_not_exist(image_gen_dir)"
   ]
  },
  {
   "cell_type": "code",
   "execution_count": 35,
   "metadata": {},
   "outputs": [],
   "source": [
    "sg = SampleGeneration(latent_shape=latent_dim, filepath=image_gen_dir, gen_freq=5, save_img=True, gray_plot=False)"
   ]
  },
  {
   "cell_type": "code",
   "execution_count": 36,
   "metadata": {},
   "outputs": [],
   "source": [
    "import numpy as np"
   ]
  },
  {
   "cell_type": "markdown",
   "metadata": {},
   "source": [
    "# Model Training"
   ]
  },
  {
   "cell_type": "code",
   "execution_count": 37,
   "metadata": {
    "scrolled": false
   },
   "outputs": [
    {
     "name": "stdout",
     "output_type": "stream",
     "text": [
      "\n",
      "training traditional basicAE\n"
     ]
    },
    {
     "data": {
      "application/vnd.jupyter.widget-view+json": {
       "model_id": "",
       "version_major": 2,
       "version_minor": 0
      },
      "text/plain": [
       "HBox(children=(IntProgress(value=0, description='Training', max=10, style=ProgressStyle(description_width='ini…"
      ]
     },
     "metadata": {},
     "output_type": "display_data"
    },
    {
     "data": {
      "application/vnd.jupyter.widget-view+json": {
       "model_id": "",
       "version_major": 2,
       "version_minor": 0
      },
      "text/plain": [
       "HBox(children=(IntProgress(value=0, description='Epoch 0', max=10, style=ProgressStyle(description_width='init…"
      ]
     },
     "metadata": {},
     "output_type": "display_data"
    },
    {
     "data": {
      "application/vnd.jupyter.widget-view+json": {
       "model_id": "",
       "version_major": 2,
       "version_minor": 0
      },
      "text/plain": [
       "HBox(children=(IntProgress(value=0, description='Epoch 1', max=10, style=ProgressStyle(description_width='init…"
      ]
     },
     "metadata": {},
     "output_type": "display_data"
    },
    {
     "data": {
      "application/vnd.jupyter.widget-view+json": {
       "model_id": "",
       "version_major": 2,
       "version_minor": 0
      },
      "text/plain": [
       "HBox(children=(IntProgress(value=0, description='Epoch 2', max=10, style=ProgressStyle(description_width='init…"
      ]
     },
     "metadata": {},
     "output_type": "display_data"
    },
    {
     "data": {
      "application/vnd.jupyter.widget-view+json": {
       "model_id": "",
       "version_major": 2,
       "version_minor": 0
      },
      "text/plain": [
       "HBox(children=(IntProgress(value=0, description='Epoch 3', max=10, style=ProgressStyle(description_width='init…"
      ]
     },
     "metadata": {},
     "output_type": "display_data"
    },
    {
     "data": {
      "application/vnd.jupyter.widget-view+json": {
       "model_id": "",
       "version_major": 2,
       "version_minor": 0
      },
      "text/plain": [
       "HBox(children=(IntProgress(value=0, description='Epoch 4', max=10, style=ProgressStyle(description_width='init…"
      ]
     },
     "metadata": {},
     "output_type": "display_data"
    },
    {
     "data": {
      "application/vnd.jupyter.widget-view+json": {
       "model_id": "",
       "version_major": 2,
       "version_minor": 0
      },
      "text/plain": [
       "HBox(children=(IntProgress(value=0, description='Epoch 5', max=10, style=ProgressStyle(description_width='init…"
      ]
     },
     "metadata": {},
     "output_type": "display_data"
    },
    {
     "data": {
      "application/vnd.jupyter.widget-view+json": {
       "model_id": "",
       "version_major": 2,
       "version_minor": 0
      },
      "text/plain": [
       "HBox(children=(IntProgress(value=0, description='Epoch 6', max=10, style=ProgressStyle(description_width='init…"
      ]
     },
     "metadata": {},
     "output_type": "display_data"
    },
    {
     "data": {
      "application/vnd.jupyter.widget-view+json": {
       "model_id": "",
       "version_major": 2,
       "version_minor": 0
      },
      "text/plain": [
       "HBox(children=(IntProgress(value=0, description='Epoch 7', max=10, style=ProgressStyle(description_width='init…"
      ]
     },
     "metadata": {},
     "output_type": "display_data"
    },
    {
     "data": {
      "application/vnd.jupyter.widget-view+json": {
       "model_id": "",
       "version_major": 2,
       "version_minor": 0
      },
      "text/plain": [
       "HBox(children=(IntProgress(value=0, description='Epoch 8', max=10, style=ProgressStyle(description_width='init…"
      ]
     },
     "metadata": {},
     "output_type": "display_data"
    },
    {
     "data": {
      "application/vnd.jupyter.widget-view+json": {
       "model_id": "",
       "version_major": 2,
       "version_minor": 0
      },
      "text/plain": [
       "HBox(children=(IntProgress(value=0, description='Epoch 9', max=10, style=ProgressStyle(description_width='init…"
      ]
     },
     "metadata": {},
     "output_type": "display_data"
    },
    {
     "name": "stdout",
     "output_type": "stream",
     "text": [
      "Model: \"inputs_real_discriminator\"\n",
      "_________________________________________________________________\n",
      "Layer (type)                 Output Shape              Param #   \n",
      "=================================================================\n",
      "inference_inputs (InputLayer [(None, 200, 200, 3)]     0         \n",
      "_________________________________________________________________\n",
      "dense (Dense)                (None, 200, 200, 16)      64        \n",
      "_________________________________________________________________\n",
      "flatten (Flatten)            (None, 640000)            0         \n",
      "_________________________________________________________________\n",
      "dense_1 (Dense)              (None, 32)                20480032  \n",
      "_________________________________________________________________\n",
      "batch_normalization (BatchNo (None, 32)                128       \n",
      "_________________________________________________________________\n",
      "dropout (Dropout)            (None, 32)                0         \n",
      "_________________________________________________________________\n",
      "activity_regularization (Act (None, 32)                0         \n",
      "_________________________________________________________________\n",
      "inference_outputs (Activatio (None, 32)                0         \n",
      "_________________________________________________________________\n",
      "flatten_1 (Flatten)          (None, 32)                0         \n",
      "_________________________________________________________________\n",
      "inputs_real_discriminator_ou (None, 1)                 33        \n",
      "=================================================================\n",
      "Total params: 20,480,257\n",
      "Trainable params: 20,480,193\n",
      "Non-trainable params: 64\n",
      "_________________________________________________________________\n",
      "None\n",
      "Model: \"inputs_fake_discriminator\"\n",
      "_________________________________________________________________\n",
      "Layer (type)                 Output Shape              Param #   \n",
      "=================================================================\n",
      "inference_inputs (InputLayer [(None, 200, 200, 3)]     0         \n",
      "_________________________________________________________________\n",
      "dense (Dense)                (None, 200, 200, 16)      64        \n",
      "_________________________________________________________________\n",
      "flatten (Flatten)            (None, 640000)            0         \n",
      "_________________________________________________________________\n",
      "dense_1 (Dense)              (None, 32)                20480032  \n",
      "_________________________________________________________________\n",
      "batch_normalization (BatchNo (None, 32)                128       \n",
      "_________________________________________________________________\n",
      "dropout (Dropout)            (None, 32)                0         \n",
      "_________________________________________________________________\n",
      "activity_regularization (Act (None, 32)                0         \n",
      "_________________________________________________________________\n",
      "inference_outputs (Activatio (None, 32)                0         \n",
      "_________________________________________________________________\n",
      "flatten_2 (Flatten)          (None, 32)                0         \n",
      "_________________________________________________________________\n",
      "inputs_fake_discriminator_ou (None, 1)                 33        \n",
      "=================================================================\n",
      "Total params: 20,480,257\n",
      "Trainable params: 20,480,193\n",
      "Non-trainable params: 64\n",
      "_________________________________________________________________\n",
      "None\n",
      "\n",
      "training inputs real discriminator\n",
      "Train for 10 steps, validate for 10 steps\n",
      "Epoch 1/10\n",
      "10/10 [==============================] - ETA: 11s - loss: 0.42 - ETA: 5s - loss: 0.5568 - ETA: 3s - loss: 0.554 - ETA: 2s - loss: 0.555 - ETA: 1s - loss: 0.534 - ETA: 1s - loss: 0.534 - ETA: 0s - loss: 0.513 - ETA: 0s - loss: 0.506 - ETA: 0s - loss: 0.498 - 4s 358ms/step - loss: 0.4891 - val_loss: 0.1552\n",
      "Epoch 2/10\n",
      "10/10 [==============================] - ETA: 0s - loss: 0.349 - ETA: 0s - loss: 0.346 - ETA: 0s - loss: 0.354 - ETA: 0s - loss: 0.364 - ETA: 0s - loss: 0.359 - ETA: 0s - loss: 0.372 - ETA: 0s - loss: 0.382 - ETA: 0s - loss: 0.385 - ETA: 0s - loss: 0.379 - 2s 200ms/step - loss: 0.3795 - val_loss: 0.1892\n",
      "Epoch 3/10\n",
      "10/10 [==============================] - ETA: 0s - loss: 0.408 - ETA: 0s - loss: 0.379 - ETA: 0s - loss: 0.388 - ETA: 0s - loss: 0.385 - ETA: 0s - loss: 0.377 - ETA: 0s - loss: 0.371 - ETA: 0s - loss: 0.374 - ETA: 0s - loss: 0.379 - ETA: 0s - loss: 0.376 - 2s 198ms/step - loss: 0.3797 - val_loss: 0.1410\n",
      "Epoch 4/10\n",
      "10/10 [==============================] - ETA: 0s - loss: 0.433 - ETA: 0s - loss: 0.415 - ETA: 0s - loss: 0.401 - ETA: 0s - loss: 0.397 - ETA: 0s - loss: 0.389 - ETA: 0s - loss: 0.393 - ETA: 0s - loss: 0.385 - ETA: 0s - loss: 0.382 - ETA: 0s - loss: 0.381 - 2s 196ms/step - loss: 0.3815 - val_loss: 0.1415\n",
      "Epoch 5/10\n",
      "10/10 [==============================] - ETA: 0s - loss: 0.344 - ETA: 0s - loss: 0.330 - ETA: 0s - loss: 0.339 - ETA: 0s - loss: 0.338 - ETA: 0s - loss: 0.339 - ETA: 0s - loss: 0.338 - ETA: 0s - loss: 0.340 - ETA: 0s - loss: 0.339 - ETA: 0s - loss: 0.343 - 2s 200ms/step - loss: 0.3370 - val_loss: 0.1277\n",
      "Epoch 6/10\n",
      "10/10 [==============================] - ETA: 0s - loss: 0.333 - ETA: 0s - loss: 0.335 - ETA: 0s - loss: 0.336 - ETA: 0s - loss: 0.348 - ETA: 0s - loss: 0.343 - ETA: 0s - loss: 0.345 - ETA: 0s - loss: 0.345 - ETA: 0s - loss: 0.339 - ETA: 0s - loss: 0.342 - 2s 198ms/step - loss: 0.3398 - val_loss: 0.1174\n",
      "Epoch 7/10\n",
      "10/10 [==============================] - ETA: 0s - loss: 0.297 - ETA: 0s - loss: 0.289 - ETA: 0s - loss: 0.288 - ETA: 0s - loss: 0.303 - ETA: 0s - loss: 0.307 - ETA: 0s - loss: 0.304 - ETA: 0s - loss: 0.307 - ETA: 0s - loss: 0.307 - ETA: 0s - loss: 0.308 - 2s 197ms/step - loss: 0.3087 - val_loss: 0.1187\n",
      "Epoch 8/10\n",
      "10/10 [==============================] - ETA: 0s - loss: 0.336 - ETA: 0s - loss: 0.333 - ETA: 0s - loss: 0.330 - ETA: 0s - loss: 0.333 - ETA: 0s - loss: 0.331 - ETA: 0s - loss: 0.328 - ETA: 0s - loss: 0.325 - ETA: 0s - loss: 0.320 - ETA: 0s - loss: 0.317 - 2s 197ms/step - loss: 0.3189 - val_loss: 0.1387\n",
      "Epoch 9/10\n",
      "10/10 [==============================] - ETA: 0s - loss: 0.317 - ETA: 0s - loss: 0.339 - ETA: 0s - loss: 0.326 - ETA: 0s - loss: 0.320 - ETA: 0s - loss: 0.322 - ETA: 0s - loss: 0.320 - ETA: 0s - loss: 0.314 - ETA: 0s - loss: 0.304 - ETA: 0s - loss: 0.303 - 2s 200ms/step - loss: 0.3015 - val_loss: 0.1657\n",
      "Epoch 10/10\n",
      "10/10 [==============================] - ETA: 0s - loss: 0.283 - ETA: 0s - loss: 0.295 - ETA: 0s - loss: 0.306 - ETA: 0s - loss: 0.311 - ETA: 0s - loss: 0.306 - ETA: 0s - loss: 0.312 - ETA: 0s - loss: 0.309 - ETA: 0s - loss: 0.310 - ETA: 0s - loss: 0.310 - 2s 204ms/step - loss: 0.3080 - val_loss: 0.1669\n",
      "\n",
      "training inputs fake discriminator\n",
      "Train for 10 steps, validate for 10 steps\n",
      "Epoch 1/10\n",
      "10/10 [==============================] - ETA: 12s - loss: 0.48 - ETA: 6s - loss: 0.8095 - ETA: 3s - loss: 0.843 - ETA: 2s - loss: 0.857 - ETA: 1s - loss: 0.857 - ETA: 1s - loss: 0.867 - ETA: 0s - loss: 0.863 - ETA: 0s - loss: 0.841 - ETA: 0s - loss: 0.839 - 4s 368ms/step - loss: 0.8330 - val_loss: 20.4240\n",
      "Epoch 2/10\n",
      "10/10 [==============================] - ETA: 0s - loss: 0.772 - ETA: 0s - loss: 0.780 - ETA: 0s - loss: 0.751 - ETA: 0s - loss: 0.728 - ETA: 0s - loss: 0.662 - ETA: 0s - loss: 0.665 - ETA: 0s - loss: 0.668 - ETA: 0s - loss: 0.665 - ETA: 0s - loss: 0.659 - 2s 199ms/step - loss: 0.6538 - val_loss: 11.4902\n",
      "Epoch 3/10\n",
      "10/10 [==============================] - ETA: 0s - loss: 0.625 - ETA: 0s - loss: 0.583 - ETA: 0s - loss: 0.620 - ETA: 0s - loss: 0.620 - ETA: 0s - loss: 0.613 - ETA: 0s - loss: 0.611 - ETA: 0s - loss: 0.603 - ETA: 0s - loss: 0.601 - ETA: 0s - loss: 0.605 - 2s 198ms/step - loss: 0.5990 - val_loss: 7.3661\n",
      "Epoch 4/10\n",
      "10/10 [==============================] - ETA: 0s - loss: 0.638 - ETA: 0s - loss: 0.565 - ETA: 0s - loss: 0.552 - ETA: 0s - loss: 0.539 - ETA: 0s - loss: 0.541 - ETA: 0s - loss: 0.532 - ETA: 0s - loss: 0.525 - ETA: 0s - loss: 0.530 - ETA: 0s - loss: 0.529 - 2s 199ms/step - loss: 0.5295 - val_loss: 4.8447\n",
      "Epoch 5/10\n",
      "10/10 [==============================] - ETA: 0s - loss: 0.452 - ETA: 0s - loss: 0.501 - ETA: 0s - loss: 0.480 - ETA: 0s - loss: 0.488 - ETA: 0s - loss: 0.491 - ETA: 0s - loss: 0.480 - ETA: 0s - loss: 0.478 - ETA: 0s - loss: 0.474 - ETA: 0s - loss: 0.471 - 2s 198ms/step - loss: 0.4668 - val_loss: 3.6696\n",
      "Epoch 6/10\n",
      "10/10 [==============================] - ETA: 0s - loss: 0.405 - ETA: 0s - loss: 0.450 - ETA: 0s - loss: 0.424 - ETA: 0s - loss: 0.439 - ETA: 0s - loss: 0.436 - ETA: 0s - loss: 0.415 - ETA: 0s - loss: 0.413 - ETA: 0s - loss: 0.413 - ETA: 0s - loss: 0.415 - 2s 203ms/step - loss: 0.4151 - val_loss: 2.7710\n",
      "Epoch 7/10\n",
      "10/10 [==============================] - ETA: 0s - loss: 0.338 - ETA: 0s - loss: 0.390 - ETA: 0s - loss: 0.359 - ETA: 0s - loss: 0.362 - ETA: 0s - loss: 0.362 - ETA: 0s - loss: 0.365 - ETA: 0s - loss: 0.366 - ETA: 0s - loss: 0.355 - ETA: 0s - loss: 0.358 - 2s 201ms/step - loss: 0.3595 - val_loss: 2.3262\n",
      "Epoch 8/10\n",
      "10/10 [==============================] - ETA: 0s - loss: 0.386 - ETA: 0s - loss: 0.404 - ETA: 0s - loss: 0.365 - ETA: 0s - loss: 0.362 - ETA: 0s - loss: 0.370 - ETA: 0s - loss: 0.371 - ETA: 0s - loss: 0.364 - ETA: 0s - loss: 0.363 - ETA: 0s - loss: 0.356 - 2s 201ms/step - loss: 0.3495 - val_loss: 1.7645\n",
      "Epoch 9/10\n",
      "10/10 [==============================] - ETA: 0s - loss: 0.286 - ETA: 0s - loss: 0.302 - ETA: 0s - loss: 0.293 - ETA: 0s - loss: 0.300 - ETA: 0s - loss: 0.297 - ETA: 0s - loss: 0.292 - ETA: 0s - loss: 0.287 - ETA: 0s - loss: 0.293 - ETA: 0s - loss: 0.291 - 2s 200ms/step - loss: 0.2911 - val_loss: 1.3487\n",
      "Epoch 10/10\n",
      "10/10 [==============================] - ETA: 0s - loss: 0.296 - ETA: 0s - loss: 0.292 - ETA: 0s - loss: 0.287 - ETA: 0s - loss: 0.287 - ETA: 0s - loss: 0.291 - ETA: 0s - loss: 0.286 - ETA: 0s - loss: 0.290 - ETA: 0s - loss: 0.290 - ETA: 0s - loss: 0.283 - 2s 200ms/step - loss: 0.2798 - val_loss: 1.0290\n",
      "Model: \"inputs_AA\"\n",
      "__________________________________________________________________________________________________\n",
      "Layer (type)                    Output Shape         Param #     Connected to                     \n",
      "==================================================================================================\n",
      "inference_inputs (InputLayer)   [(None, 200, 200, 3) 0                                            \n",
      "__________________________________________________________________________________________________\n",
      "tf_op_layer_Shape (TensorFlowOp [(4,)]               0           inference_inputs[0][0]           \n",
      "__________________________________________________________________________________________________\n",
      "tf_op_layer_random_normal/Rando [(None, 200, 200, 3) 0           tf_op_layer_Shape[0][0]          \n",
      "__________________________________________________________________________________________________\n",
      "tf_op_layer_random_normal/mul ( [(None, 200, 200, 3) 0           tf_op_layer_random_normal/RandomS\n",
      "__________________________________________________________________________________________________\n",
      "inference (Model)               (None, 32)           20480224    inference_inputs[0][0]           \n",
      "__________________________________________________________________________________________________\n",
      "tf_op_layer_random_normal (Tens [(None, 200, 200, 3) 0           tf_op_layer_random_normal/mul[0][\n",
      "__________________________________________________________________________________________________\n",
      "generative (Model)              (None, 200, 200, 3)  2041596     inference[2][0]                  \n",
      "__________________________________________________________________________________________________\n",
      "inputs_fake_discriminator (Mode (None, 1)            20480257    inference_inputs[0][0]           \n",
      "__________________________________________________________________________________________________\n",
      "inputs_real_discriminator (Mode (None, 1)            20480257    tf_op_layer_random_normal[0][0]  \n",
      "__________________________________________________________________________________________________\n",
      "tf_op_layer_x_logits_1 (TensorF [(None, 200, 200, 3) 0           generative[2][0]                 \n",
      "==================================================================================================\n",
      "Total params: 63,482,334\n",
      "Trainable params: 63,482,136\n",
      "Non-trainable params: 198\n",
      "__________________________________________________________________________________________________\n",
      "None\n",
      "\n",
      "training together\n"
     ]
    },
    {
     "data": {
      "application/vnd.jupyter.widget-view+json": {
       "model_id": "",
       "version_major": 2,
       "version_minor": 0
      },
      "text/plain": [
       "HBox(children=(IntProgress(value=0, description='Training', max=10, style=ProgressStyle(description_width='ini…"
      ]
     },
     "metadata": {},
     "output_type": "display_data"
    },
    {
     "data": {
      "application/vnd.jupyter.widget-view+json": {
       "model_id": "",
       "version_major": 2,
       "version_minor": 0
      },
      "text/plain": [
       "HBox(children=(IntProgress(value=0, description='Epoch 0', max=10, style=ProgressStyle(description_width='init…"
      ]
     },
     "metadata": {},
     "output_type": "display_data"
    },
    {
     "name": "stdout",
     "output_type": "stream",
     "text": [
      "INFO:tensorflow:Unsupported signature for serialization: ((<tensorflow.python.framework.func_graph.UnknownArgument object at 0x000001811CC0F988>, (200, 200, 3), [50, 32], TensorSpec(shape=(50, 32), dtype=tf.float32, name='eps')), {}).\n",
      "INFO:tensorflow:Unsupported signature for serialization: ((<tensorflow.python.framework.func_graph.UnknownArgument object at 0x000001812950A448>, (200, 200, 3), [50, 32], TensorSpec(shape=(50, 32), dtype=tf.float32, name='eps')), {}).\n",
      "INFO:tensorflow:Unsupported signature for serialization: ((<tensorflow.python.framework.func_graph.UnknownArgument object at 0x000001811CC0F988>, (200, 200, 3), [50, 32], TensorSpec(shape=(50, 32), dtype=tf.float32, name='eps')), {}).\n",
      "INFO:tensorflow:Unsupported signature for serialization: ((<tensorflow.python.framework.func_graph.UnknownArgument object at 0x000001812950A448>, (200, 200, 3), [50, 32], TensorSpec(shape=(50, 32), dtype=tf.float32, name='eps')), {}).\n",
      "WARNING:tensorflow:From C:\\ProgramData\\Anaconda3\\envs\\tf02\\lib\\site-packages\\tensorflow_core\\python\\ops\\resource_variable_ops.py:1786: calling BaseResourceVariable.__init__ (from tensorflow.python.ops.resource_variable_ops) with constraint is deprecated and will be removed in a future version.\n",
      "Instructions for updating:\n",
      "If using Keras pass *_constraint arguments to layers.\n",
      "INFO:tensorflow:Assets written to: recoding\\pokemonIAAEsharp_diff\\var_save_dir\\assets\n",
      "INFO:tensorflow:Unsupported signature for serialization: ((<tensorflow.python.framework.func_graph.UnknownArgument object at 0x000001811CC0F988>, (200, 200, 3), [50, 32], TensorSpec(shape=(50, 32), dtype=tf.float32, name='eps')), {}).\n",
      "INFO:tensorflow:Unsupported signature for serialization: ((<tensorflow.python.framework.func_graph.UnknownArgument object at 0x000001812950A448>, (200, 200, 3), [50, 32], TensorSpec(shape=(50, 32), dtype=tf.float32, name='eps')), {}).\n"
     ]
    },
    {
     "data": {
      "application/vnd.jupyter.widget-view+json": {
       "model_id": "",
       "version_major": 2,
       "version_minor": 0
      },
      "text/plain": [
       "HBox(children=(IntProgress(value=0, description='Epoch 1', max=10, style=ProgressStyle(description_width='init…"
      ]
     },
     "metadata": {},
     "output_type": "display_data"
    },
    {
     "data": {
      "application/vnd.jupyter.widget-view+json": {
       "model_id": "",
       "version_major": 2,
       "version_minor": 0
      },
      "text/plain": [
       "HBox(children=(IntProgress(value=0, description='Epoch 2', max=10, style=ProgressStyle(description_width='init…"
      ]
     },
     "metadata": {},
     "output_type": "display_data"
    },
    {
     "data": {
      "application/vnd.jupyter.widget-view+json": {
       "model_id": "",
       "version_major": 2,
       "version_minor": 0
      },
      "text/plain": [
       "HBox(children=(IntProgress(value=0, description='Epoch 3', max=10, style=ProgressStyle(description_width='init…"
      ]
     },
     "metadata": {},
     "output_type": "display_data"
    },
    {
     "data": {
      "application/vnd.jupyter.widget-view+json": {
       "model_id": "",
       "version_major": 2,
       "version_minor": 0
      },
      "text/plain": [
       "HBox(children=(IntProgress(value=0, description='Epoch 4', max=10, style=ProgressStyle(description_width='init…"
      ]
     },
     "metadata": {},
     "output_type": "display_data"
    },
    {
     "data": {
      "application/vnd.jupyter.widget-view+json": {
       "model_id": "",
       "version_major": 2,
       "version_minor": 0
      },
      "text/plain": [
       "HBox(children=(IntProgress(value=0, description='Epoch 5', max=10, style=ProgressStyle(description_width='init…"
      ]
     },
     "metadata": {},
     "output_type": "display_data"
    },
    {
     "name": "stdout",
     "output_type": "stream",
     "text": [
      "INFO:tensorflow:Unsupported signature for serialization: ((<tensorflow.python.framework.func_graph.UnknownArgument object at 0x000001811CC0F988>, (200, 200, 3), [50, 32], TensorSpec(shape=(50, 32), dtype=tf.float32, name='eps')), {}).\n",
      "INFO:tensorflow:Unsupported signature for serialization: ((<tensorflow.python.framework.func_graph.UnknownArgument object at 0x000001818488ED08>, (200, 200, 3), [50, 32], TensorSpec(shape=(50, 32), dtype=tf.float32, name='eps')), {}).\n",
      "INFO:tensorflow:Unsupported signature for serialization: ((<tensorflow.python.framework.func_graph.UnknownArgument object at 0x000001812950A448>, (200, 200, 3), [50, 32], TensorSpec(shape=(50, 32), dtype=tf.float32, name='eps')), {}).\n",
      "INFO:tensorflow:Unsupported signature for serialization: ((<tensorflow.python.framework.func_graph.UnknownArgument object at 0x000001811CC0F988>, (200, 200, 3), [50, 32], TensorSpec(shape=(50, 32), dtype=tf.float32, name='eps')), {}).\n",
      "INFO:tensorflow:Unsupported signature for serialization: ((<tensorflow.python.framework.func_graph.UnknownArgument object at 0x000001818488ED08>, (200, 200, 3), [50, 32], TensorSpec(shape=(50, 32), dtype=tf.float32, name='eps')), {}).\n",
      "INFO:tensorflow:Unsupported signature for serialization: ((<tensorflow.python.framework.func_graph.UnknownArgument object at 0x000001812950A448>, (200, 200, 3), [50, 32], TensorSpec(shape=(50, 32), dtype=tf.float32, name='eps')), {}).\n",
      "INFO:tensorflow:Assets written to: recoding\\pokemonIAAEsharp_diff\\var_save_dir\\assets\n",
      "INFO:tensorflow:Unsupported signature for serialization: ((<tensorflow.python.framework.func_graph.UnknownArgument object at 0x000001811CC0F988>, (200, 200, 3), [50, 32], TensorSpec(shape=(50, 32), dtype=tf.float32, name='eps')), {}).\n",
      "INFO:tensorflow:Unsupported signature for serialization: ((<tensorflow.python.framework.func_graph.UnknownArgument object at 0x000001818488ED08>, (200, 200, 3), [50, 32], TensorSpec(shape=(50, 32), dtype=tf.float32, name='eps')), {}).\n",
      "INFO:tensorflow:Unsupported signature for serialization: ((<tensorflow.python.framework.func_graph.UnknownArgument object at 0x000001812950A448>, (200, 200, 3), [50, 32], TensorSpec(shape=(50, 32), dtype=tf.float32, name='eps')), {}).\n"
     ]
    },
    {
     "data": {
      "application/vnd.jupyter.widget-view+json": {
       "model_id": "",
       "version_major": 2,
       "version_minor": 0
      },
      "text/plain": [
       "HBox(children=(IntProgress(value=0, description='Epoch 6', max=10, style=ProgressStyle(description_width='init…"
      ]
     },
     "metadata": {},
     "output_type": "display_data"
    },
    {
     "data": {
      "application/vnd.jupyter.widget-view+json": {
       "model_id": "",
       "version_major": 2,
       "version_minor": 0
      },
      "text/plain": [
       "HBox(children=(IntProgress(value=0, description='Epoch 7', max=10, style=ProgressStyle(description_width='init…"
      ]
     },
     "metadata": {},
     "output_type": "display_data"
    },
    {
     "data": {
      "application/vnd.jupyter.widget-view+json": {
       "model_id": "",
       "version_major": 2,
       "version_minor": 0
      },
      "text/plain": [
       "HBox(children=(IntProgress(value=0, description='Epoch 8', max=10, style=ProgressStyle(description_width='init…"
      ]
     },
     "metadata": {},
     "output_type": "display_data"
    },
    {
     "data": {
      "application/vnd.jupyter.widget-view+json": {
       "model_id": "",
       "version_major": 2,
       "version_minor": 0
      },
      "text/plain": [
       "HBox(children=(IntProgress(value=0, description='Epoch 9', max=10, style=ProgressStyle(description_width='init…"
      ]
     },
     "metadata": {},
     "output_type": "display_data"
    },
    {
     "name": "stdout",
     "output_type": "stream",
     "text": [
      "\r"
     ]
    }
   ],
   "source": [
    "ae.fit(\n",
    "    x=train_ds,\n",
    "    input_kw=None,\n",
    "    steps_per_epoch=100,\n",
    "    epochs=int(1e6), \n",
    "    verbose=0,\n",
    "    callbacks=[progbar, es, ms, csv_log, sg],\n",
    "    workers=-1,\n",
    "    use_multiprocessing=True,\n",
    "    validation_data=test_ds,\n",
    "    validation_steps=100\n",
    ")"
   ]
  },
  {
   "cell_type": "code",
   "execution_count": null,
   "metadata": {},
   "outputs": [],
   "source": []
  },
  {
   "cell_type": "code",
   "execution_count": null,
   "metadata": {},
   "outputs": [],
   "source": []
  }
 ],
 "metadata": {
  "kernelspec": {
   "display_name": "Python 3",
   "language": "python",
   "name": "python3"
  },
  "language_info": {
   "codemirror_mode": {
    "name": "ipython",
    "version": 3
   },
   "file_extension": ".py",
   "mimetype": "text/x-python",
   "name": "python",
   "nbconvert_exporter": "python",
   "pygments_lexer": "ipython3",
   "version": "3.7.5"
  }
 },
 "nbformat": 4,
 "nbformat_minor": 2
}
