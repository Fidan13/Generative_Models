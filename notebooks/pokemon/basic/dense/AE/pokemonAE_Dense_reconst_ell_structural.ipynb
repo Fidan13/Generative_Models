{
 "cells": [
  {
   "cell_type": "markdown",
   "metadata": {},
   "source": [
    "# Settings"
   ]
  },
  {
   "cell_type": "code",
   "execution_count": 1,
   "metadata": {},
   "outputs": [],
   "source": [
    "%load_ext autoreload\n",
    "%autoreload 2"
   ]
  },
  {
   "cell_type": "code",
   "execution_count": 2,
   "metadata": {},
   "outputs": [
    {
     "name": "stdout",
     "output_type": "stream",
     "text": [
      "env: TF_KERAS=1\n",
      "\\\n"
     ]
    }
   ],
   "source": [
    "%env TF_KERAS = 1\n",
    "import os\n",
    "sep_local = os.path.sep\n",
    "\n",
    "import sys\n",
    "sys.path.append('..'+sep_local+'..')\n",
    "print(sep_local)"
   ]
  },
  {
   "cell_type": "code",
   "execution_count": 3,
   "metadata": {},
   "outputs": [
    {
     "name": "stdout",
     "output_type": "stream",
     "text": [
      "2.1.0-rc1\n"
     ]
    }
   ],
   "source": [
    "import tensorflow as tf\n",
    "print(tf.__version__)"
   ]
  },
  {
   "cell_type": "code",
   "execution_count": 4,
   "metadata": {},
   "outputs": [
    {
     "name": "stdout",
     "output_type": "stream",
     "text": [
      "C:\\Users\\Khalid\\Documents\\projects\\Generative_Models\n"
     ]
    }
   ],
   "source": [
    "os.chdir('..'+sep_local+'..'+sep_local+'..'+sep_local+'..'+sep_local+'..')\n",
    "print(os.getcwd())"
   ]
  },
  {
   "cell_type": "markdown",
   "metadata": {},
   "source": [
    "# Dataset loading"
   ]
  },
  {
   "cell_type": "code",
   "execution_count": 5,
   "metadata": {},
   "outputs": [],
   "source": [
    "dataset_name='pokemon'"
   ]
  },
  {
   "cell_type": "code",
   "execution_count": 6,
   "metadata": {},
   "outputs": [],
   "source": [
    "images_dir = 'C:\\\\Users\\\\Khalid\\\\Documents\\projects\\\\pokemon\\DS06\\\\'\n",
    "validation_percentage = 20\n",
    "valid_format = 'png'"
   ]
  },
  {
   "cell_type": "code",
   "execution_count": 7,
   "metadata": {},
   "outputs": [
    {
     "name": "stderr",
     "output_type": "stream",
     "text": [
      "Using TensorFlow backend.\n"
     ]
    }
   ],
   "source": [
    "from training.generators.file_image_generator import create_image_lists, get_generators"
   ]
  },
  {
   "cell_type": "code",
   "execution_count": 8,
   "metadata": {},
   "outputs": [
    {
     "name": "stdout",
     "output_type": "stream",
     "text": [
      "\n"
     ]
    },
    {
     "name": "stderr",
     "output_type": "stream",
     "text": [
      "  DEBUG    | Looking for images in 'all'\n"
     ]
    },
    {
     "name": "stdout",
     "output_type": "stream",
     "text": [
      "\n"
     ]
    },
    {
     "name": "stderr",
     "output_type": "stream",
     "text": [
      "  INFO     | 809 file found\n"
     ]
    }
   ],
   "source": [
    "imgs_list = create_image_lists(\n",
    "    image_dir=images_dir, \n",
    "    validation_pct=validation_percentage, \n",
    "    valid_imgae_formats=valid_format\n",
    ")"
   ]
  },
  {
   "cell_type": "code",
   "execution_count": 9,
   "metadata": {},
   "outputs": [],
   "source": [
    "inputs_shape= image_size=(200, 200, 3)\n",
    "batch_size = 10\n",
    "latents_dim = 32\n",
    "intermediate_dim = 50"
   ]
  },
  {
   "cell_type": "code",
   "execution_count": 10,
   "metadata": {},
   "outputs": [
    {
     "name": "stdout",
     "output_type": "stream",
     "text": [
      "\n"
     ]
    },
    {
     "name": "stderr",
     "output_type": "stream",
     "text": [
      "  INFO     | Found 662 training files\n"
     ]
    },
    {
     "name": "stdout",
     "output_type": "stream",
     "text": [
      "\n"
     ]
    },
    {
     "name": "stderr",
     "output_type": "stream",
     "text": [
      "  INFO     | Found 147 validation files\n"
     ]
    }
   ],
   "source": [
    "training_generator, testing_generator = get_generators(\n",
    "    images_list=imgs_list, \n",
    "    image_dir=images_dir, \n",
    "    image_size=image_size, \n",
    "    batch_size=batch_size, \n",
    "    class_mode=None\n",
    ")"
   ]
  },
  {
   "cell_type": "code",
   "execution_count": 11,
   "metadata": {},
   "outputs": [],
   "source": [
    "import tensorflow as tf"
   ]
  },
  {
   "cell_type": "code",
   "execution_count": 12,
   "metadata": {},
   "outputs": [],
   "source": [
    "train_ds = tf.data.Dataset.from_generator(\n",
    "    lambda: training_generator, \n",
    "    output_types=tf.float32 ,\n",
    "    output_shapes=tf.TensorShape((batch_size, ) + image_size)\n",
    ")\n",
    "\n",
    "test_ds = tf.data.Dataset.from_generator(\n",
    "    lambda: testing_generator, \n",
    "    output_types=tf.float32 ,\n",
    "    output_shapes=tf.TensorShape((batch_size, ) + image_size)\n",
    ")"
   ]
  },
  {
   "cell_type": "code",
   "execution_count": 13,
   "metadata": {},
   "outputs": [],
   "source": [
    "_instance_scale=1.0\n",
    "for data in train_ds:\n",
    "    _instance_scale = float(data[0].numpy().max())\n",
    "    break"
   ]
  },
  {
   "cell_type": "code",
   "execution_count": 14,
   "metadata": {},
   "outputs": [
    {
     "data": {
      "text/plain": [
       "1.0"
      ]
     },
     "execution_count": 14,
     "metadata": {},
     "output_type": "execute_result"
    }
   ],
   "source": [
    "_instance_scale"
   ]
  },
  {
   "cell_type": "code",
   "execution_count": 15,
   "metadata": {},
   "outputs": [],
   "source": [
    "import numpy as np\n",
    "from collections.abc import Iterable"
   ]
  },
  {
   "cell_type": "code",
   "execution_count": 16,
   "metadata": {},
   "outputs": [],
   "source": [
    "if isinstance(inputs_shape, Iterable):\n",
    "    _outputs_shape = np.prod(inputs_shape)"
   ]
  },
  {
   "cell_type": "code",
   "execution_count": 17,
   "metadata": {},
   "outputs": [
    {
     "data": {
      "text/plain": [
       "120000"
      ]
     },
     "execution_count": 17,
     "metadata": {},
     "output_type": "execute_result"
    }
   ],
   "source": [
    "_outputs_shape"
   ]
  },
  {
   "cell_type": "markdown",
   "metadata": {},
   "source": [
    "# Model's Layers definition"
   ]
  },
  {
   "cell_type": "code",
   "execution_count": 18,
   "metadata": {},
   "outputs": [],
   "source": [
    "enc_lays = [tf.keras.layers.Dense(units=intermediate_dim, activation='relu'),\n",
    "            tf.keras.layers.Dense(units=intermediate_dim, activation='relu'),\n",
    "            tf.keras.layers.Flatten(),\n",
    "            tf.keras.layers.Dense(units=latents_dim)]\n",
    "\n",
    "dec_lays = [tf.keras.layers.Dense(units=latents_dim, activation='relu'),\n",
    "            tf.keras.layers.Dense(units=intermediate_dim, activation='relu'),\n",
    "            tf.keras.layers.Dense(units=_outputs_shape),\n",
    "            tf.keras.layers.Reshape(inputs_shape)]"
   ]
  },
  {
   "cell_type": "markdown",
   "metadata": {},
   "source": [
    "# Model definition"
   ]
  },
  {
   "cell_type": "code",
   "execution_count": 19,
   "metadata": {},
   "outputs": [],
   "source": [
    "model_name = dataset_name+'AE_Dense_reconst_ell_struct'\n",
    "experiments_dir='experiments'+sep_local+model_name"
   ]
  },
  {
   "cell_type": "code",
   "execution_count": 20,
   "metadata": {
    "scrolled": true
   },
   "outputs": [],
   "source": [
    "from training.autoencoding_basic.autoencoders.autoencoder import autoencoder as AE"
   ]
  },
  {
   "cell_type": "code",
   "execution_count": 21,
   "metadata": {},
   "outputs": [],
   "source": [
    "inputs_shape=image_size"
   ]
  },
  {
   "cell_type": "code",
   "execution_count": 22,
   "metadata": {},
   "outputs": [],
   "source": [
    "variables_params = \\\n",
    "[\n",
    "    {\n",
    "        'name': 'inference', \n",
    "        'inputs_shape':inputs_shape,\n",
    "        'outputs_shape':latents_dim,\n",
    "        'layers': enc_lays\n",
    "    }\n",
    "\n",
    "    ,\n",
    "    \n",
    "        {\n",
    "        'name': 'generative', \n",
    "        'inputs_shape':latents_dim,\n",
    "        'outputs_shape':inputs_shape,\n",
    "        'layers':dec_lays\n",
    "    }\n",
    "]"
   ]
  },
  {
   "cell_type": "code",
   "execution_count": 23,
   "metadata": {},
   "outputs": [],
   "source": [
    "from utils.data_and_files.file_utils import create_if_not_exist"
   ]
  },
  {
   "cell_type": "code",
   "execution_count": 24,
   "metadata": {},
   "outputs": [],
   "source": [
    "_restore = os.path.join(experiments_dir, 'var_save_dir')"
   ]
  },
  {
   "cell_type": "code",
   "execution_count": 25,
   "metadata": {},
   "outputs": [
    {
     "data": {
      "text/plain": [
       "'experiments\\\\pokemonAE_Dense_reconst_ell_struct\\\\var_save_dir'"
      ]
     },
     "execution_count": 25,
     "metadata": {},
     "output_type": "execute_result"
    }
   ],
   "source": [
    "create_if_not_exist(_restore)\n",
    "_restore"
   ]
  },
  {
   "cell_type": "code",
   "execution_count": 26,
   "metadata": {},
   "outputs": [],
   "source": [
    "#to restore trained model, set filepath=_restore"
   ]
  },
  {
   "cell_type": "code",
   "execution_count": 27,
   "metadata": {
    "scrolled": false
   },
   "outputs": [
    {
     "name": "stdout",
     "output_type": "stream",
     "text": [
      "\n"
     ]
    },
    {
     "name": "stderr",
     "output_type": "stream",
     "text": [
      "  DEBUG    | Restore old models ...\n"
     ]
    },
    {
     "name": "stdout",
     "output_type": "stream",
     "text": [
      "SavedModel file does not exist at: experiments\\pokemonAE_Dense_reconst_ell_struct\\var_save_dir\\pokemonAE_Dense_reconst_ell_struct_inference.hdf5/{saved_model.pbtxt|saved_model.pb}\n",
      "\n",
      "\n"
     ]
    },
    {
     "name": "stderr",
     "output_type": "stream",
     "text": [
      "  ERROR    | Faild to restore old models !\n"
     ]
    },
    {
     "name": "stdout",
     "output_type": "stream",
     "text": [
      "Model: \"inference\"\n",
      "_________________________________________________________________\n",
      "Layer (type)                 Output Shape              Param #   \n",
      "=================================================================\n",
      "inference_inputs (InputLayer [(None, 200, 200, 3)]     0         \n",
      "_________________________________________________________________\n",
      "dense (Dense)                (None, 200, 200, 50)      200       \n",
      "_________________________________________________________________\n",
      "dense_1 (Dense)              (None, 200, 200, 50)      2550      \n",
      "_________________________________________________________________\n",
      "flatten (Flatten)            (None, 2000000)           0         \n",
      "_________________________________________________________________\n",
      "dense_2 (Dense)              (None, 32)                64000032  \n",
      "_________________________________________________________________\n",
      "batch_normalization (BatchNo (None, 32)                128       \n",
      "_________________________________________________________________\n",
      "dropout (Dropout)            (None, 32)                0         \n",
      "_________________________________________________________________\n",
      "activity_regularization (Act (None, 32)                0         \n",
      "_________________________________________________________________\n",
      "inference_outputs (Activatio (None, 32)                0         \n",
      "=================================================================\n",
      "Total params: 64,002,910\n",
      "Trainable params: 64,002,846\n",
      "Non-trainable params: 64\n",
      "_________________________________________________________________\n",
      "\n"
     ]
    },
    {
     "name": "stderr",
     "output_type": "stream",
     "text": [
      "  WARNING  | None\n"
     ]
    },
    {
     "name": "stdout",
     "output_type": "stream",
     "text": [
      "Model: \"generative\"\n",
      "_________________________________________________________________\n",
      "Layer (type)                 Output Shape              Param #   \n",
      "=================================================================\n",
      "generative_inputs (InputLaye [(None, 32)]              0         \n",
      "_________________________________________________________________\n",
      "dense_3 (Dense)              (None, 32)                1056      \n",
      "_________________________________________________________________\n",
      "dense_4 (Dense)              (None, 50)                1650      \n",
      "_________________________________________________________________\n",
      "dense_5 (Dense)              (None, 120000)            6120000   \n",
      "_________________________________________________________________\n",
      "reshape (Reshape)            (None, 200, 200, 3)       0         \n",
      "_________________________________________________________________\n",
      "batch_normalization_1 (Batch (None, 200, 200, 3)       12        \n",
      "_________________________________________________________________\n",
      "dropout_1 (Dropout)          (None, 200, 200, 3)       0         \n",
      "_________________________________________________________________\n",
      "activity_regularization_1 (A (None, 200, 200, 3)       0         \n",
      "_________________________________________________________________\n",
      "generative_outputs (Activati (None, 200, 200, 3)       0         \n",
      "=================================================================\n",
      "Total params: 6,122,718\n",
      "Trainable params: 6,122,712\n",
      "Non-trainable params: 6\n",
      "_________________________________________________________________\n",
      "\n"
     ]
    },
    {
     "name": "stderr",
     "output_type": "stream",
     "text": [
      "  WARNING  | None\n"
     ]
    }
   ],
   "source": [
    "ae = AE( \n",
    "    name=model_name,\n",
    "    latents_dim=latents_dim,\n",
    "    batch_size=batch_size,\n",
    "    variables_params=variables_params, \n",
    "    filepath=_restore\n",
    "    )"
   ]
  },
  {
   "cell_type": "code",
   "execution_count": 28,
   "metadata": {},
   "outputs": [],
   "source": [
    "#from evaluation.quantitive_metrics.peak_signal_to_noise_ratio import prepare_psnr\n",
    "from statistical.ultimate_loss import prepare_ell_struct"
   ]
  },
  {
   "cell_type": "code",
   "execution_count": 29,
   "metadata": {},
   "outputs": [
    {
     "name": "stdout",
     "output_type": "stream",
     "text": [
      "Model: \"pokemonAE_Dense_reconst_ell_struct\"\n",
      "_________________________________________________________________\n",
      "Layer (type)                 Output Shape              Param #   \n",
      "=================================================================\n",
      "inference_inputs (InputLayer [(None, 200, 200, 3)]     0         \n",
      "_________________________________________________________________\n",
      "inference (Model)            (None, 32)                64002910  \n",
      "_________________________________________________________________\n",
      "generative (Model)           (None, 200, 200, 3)       6122718   \n",
      "_________________________________________________________________\n",
      "tf_op_layer_x_logits (Tensor [(None, 200, 200, 3)]     0         \n",
      "=================================================================\n",
      "Total params: 70,125,628\n",
      "Trainable params: 70,125,558\n",
      "Non-trainable params: 70\n",
      "_________________________________________________________________\n",
      "None\n"
     ]
    }
   ],
   "source": [
    "ae.compile(loss={'x_logits': prepare_ell_struct([ae.batch_size]+ae.get_inputs_shape())})"
   ]
  },
  {
   "cell_type": "markdown",
   "metadata": {},
   "source": [
    "# Callbacks"
   ]
  },
  {
   "cell_type": "code",
   "execution_count": 30,
   "metadata": {},
   "outputs": [],
   "source": [
    "\n",
    "from training.callbacks.sample_generation import SampleGeneration\n",
    "from training.callbacks.save_model import ModelSaver"
   ]
  },
  {
   "cell_type": "code",
   "execution_count": null,
   "metadata": {},
   "outputs": [],
   "source": []
  },
  {
   "cell_type": "code",
   "execution_count": 31,
   "metadata": {},
   "outputs": [],
   "source": [
    "es = tf.keras.callbacks.EarlyStopping(\n",
    "    monitor='loss', \n",
    "    min_delta=1e-12, \n",
    "    patience=5, \n",
    "    verbose=1, \n",
    "    restore_best_weights=True\n",
    ")"
   ]
  },
  {
   "cell_type": "code",
   "execution_count": 32,
   "metadata": {},
   "outputs": [],
   "source": [
    "ms = ModelSaver(filepath=_restore,save_freq=5)"
   ]
  },
  {
   "cell_type": "code",
   "execution_count": 33,
   "metadata": {},
   "outputs": [
    {
     "data": {
      "text/plain": [
       "'experiments\\\\pokemonAE_Dense_reconst_ell_struct\\\\csv_dir\\\\pokemonAE_Dense_reconst_ell_struct.csv'"
      ]
     },
     "execution_count": 33,
     "metadata": {},
     "output_type": "execute_result"
    }
   ],
   "source": [
    "csv_dir = os.path.join(experiments_dir, 'csv_dir')\n",
    "create_if_not_exist(csv_dir)\n",
    "csv_dir = os.path.join(csv_dir, ae.name+'.csv')\n",
    "csv_log = tf.keras.callbacks.CSVLogger(csv_dir, append=True)\n",
    "csv_dir"
   ]
  },
  {
   "cell_type": "code",
   "execution_count": 34,
   "metadata": {},
   "outputs": [],
   "source": [
    "image_gen_dir = os.path.join(experiments_dir, 'image_gen_dir')\n",
    "create_if_not_exist(image_gen_dir)"
   ]
  },
  {
   "cell_type": "code",
   "execution_count": 35,
   "metadata": {},
   "outputs": [],
   "source": [
    "sg = SampleGeneration(latents_shape=latents_dim, filepath=image_gen_dir, gen_freq=5, save_img=True, gray_plot=False)"
   ]
  },
  {
   "cell_type": "code",
   "execution_count": 36,
   "metadata": {},
   "outputs": [],
   "source": [
    "import numpy as np"
   ]
  },
  {
   "cell_type": "markdown",
   "metadata": {},
   "source": [
    "# Model Training"
   ]
  },
  {
   "cell_type": "code",
   "execution_count": null,
   "metadata": {
    "scrolled": true
   },
   "outputs": [
    {
     "name": "stdout",
     "output_type": "stream",
     "text": [
      "Train for 1000 steps, validate for 1000 steps\n",
      "Epoch 1/1000000\n",
      "WARNING:tensorflow:From C:\\ProgramData\\Anaconda3\\envs\\tf02\\lib\\site-packages\\tensorflow_core\\python\\ops\\math_grad.py:303: setdiff1d (from tensorflow.python.ops.array_ops) is deprecated and will be removed after 2018-11-30.\n",
      "Instructions for updating:\n",
      "This op will be removed after the deprecation date. Please switch to tf.sets.difference().\n"
     ]
    },
    {
     "name": "stdout",
     "output_type": "stream",
     "text": [
      "  45/1000 [>.............................] - ETA: 2:19:47 - loss: -164955.5469 - psnr: 7.4071 - total_variation: 223466.7188 - ssim_multiscale: 1.1095 - sharpdiff: 7.0431 - mean_absolute_error: 0.3909 - mean_squared_error: 0.183 - ETA: 1:12:06 - loss: 758326.3516 - psnr: 6.0704 - total_variation: 731489.1250 - ssim_multiscale: 0.7539 - sharpdiff: 3.5188 - mean_absolute_error: 0.4175 - mean_squared_error: 0.260 - ETA: 49:32 - loss: 1258094.3177 - psnr: 5.6901 - total_variation: 897173.9375 - ssim_multiscale: 0.6605 - sharpdiff: 2.3561 - mean_absolute_error: 0.4221 - mean_squared_error: 0.2809 - ETA: 38:12 - loss: 1449791.0508 - psnr: 5.6159 - total_variation: 936662.0000 - ssim_multiscale: 0.6130 - sharpdiff: 1.9809 - mean_absolute_error: 0.4164 - mean_squared_error: 0.284 - ETA: 31:25 - loss: 1568894.4656 - psnr: 5.6583 - total_variation: 962267.0000 - ssim_multiscale: 0.5986 - sharpdiff: 1.7463 - mean_absolute_error: 0.4085 - mean_squared_error: 0.281 - ETA: 26:53 - loss: 1690289.6380 - psnr: 5.6596 - total_variation: 976054.5000 - ssim_multiscale: 0.5644 - sharpdiff: 1.6194 - mean_absolute_error: 0.4049 - mean_squared_error: 0.280 - ETA: 23:40 - loss: 1745233.1719 - psnr: 5.6544 - total_variation: 976290.8750 - ssim_multiscale: 0.5548 - sharpdiff: 1.5685 - mean_absolute_error: 0.4016 - mean_squared_error: 0.279 - ETA: 21:14 - loss: 1738923.2598 - psnr: 5.7840 - total_variation: 965798.0000 - ssim_multiscale: 0.5645 - sharpdiff: 1.5772 - mean_absolute_error: 0.3935 - mean_squared_error: 0.273 - ETA: 19:21 - loss: 1759706.6476 - psnr: 5.7772 - total_variation: 975619.1250 - ssim_multiscale: 0.5627 - sharpdiff: 1.4912 - mean_absolute_error: 0.3915 - mean_squared_error: 0.273 - ETA: 17:50 - loss: 1781779.0203 - psnr: 5.7770 - total_variation: 977528.0000 - ssim_multiscale: 0.5657 - sharpdiff: 1.4535 - mean_absolute_error: 0.3905 - mean_squared_error: 0.273 - ETA: 16:36 - loss: 1815153.6094 - psnr: 5.7466 - total_variation: 991945.5625 - ssim_multiscale: 0.5631 - sharpdiff: 1.3588 - mean_absolute_error: 0.3907 - mean_squared_error: 0.274 - ETA: 15:35 - loss: 1815046.4336 - psnr: 5.7809 - total_variation: 990247.0625 - ssim_multiscale: 0.5572 - sharpdiff: 1.3496 - mean_absolute_error: 0.3882 - mean_squared_error: 0.272 - ETA: 14:43 - loss: 1822828.1406 - psnr: 5.7696 - total_variation: 988573.8750 - ssim_multiscale: 0.5619 - sharpdiff: 1.3424 - mean_absolute_error: 0.3878 - mean_squared_error: 0.272 - ETA: 13:58 - loss: 1813285.6931 - psnr: 5.7700 - total_variation: 994441.1250 - ssim_multiscale: 0.5633 - sharpdiff: 1.2934 - mean_absolute_error: 0.3868 - mean_squared_error: 0.272 - ETA: 13:18 - loss: 1818306.5719 - psnr: 5.7868 - total_variation: 994825.6875 - ssim_multiscale: 0.5588 - sharpdiff: 1.2767 - mean_absolute_error: 0.3858 - mean_squared_error: 0.271 - ETA: 12:44 - loss: 1825047.0361 - psnr: 5.7801 - total_variation: 994721.3750 - ssim_multiscale: 0.5518 - sharpdiff: 1.2645 - mean_absolute_error: 0.3857 - mean_squared_error: 0.271 - ETA: 12:13 - loss: 1826186.5487 - psnr: 5.7894 - total_variation: 991632.9375 - ssim_multiscale: 0.5502 - sharpdiff: 1.2712 - mean_absolute_error: 0.3848 - mean_squared_error: 0.270 - ETA: 11:46 - loss: 1824345.8377 - psnr: 5.7902 - total_variation: 989221.8750 - ssim_multiscale: 0.5491 - sharpdiff: 1.2748 - mean_absolute_error: 0.3843 - mean_squared_error: 0.270 - ETA: 11:22 - loss: 1818038.2804 - psnr: 5.8171 - total_variation: 985551.5000 - ssim_multiscale: 0.5482 - sharpdiff: 1.2855 - mean_absolute_error: 0.3826 - mean_squared_error: 0.269 - ETA: 11:00 - loss: 1828306.6852 - psnr: 5.8085 - total_variation: 983492.1250 - ssim_multiscale: 0.5465 - sharpdiff: 1.2926 - mean_absolute_error: 0.3826 - mean_squared_error: 0.269 - ETA: 10:40 - loss: 1820057.5990 - psnr: 5.8208 - total_variation: 980857.3125 - ssim_multiscale: 0.5457 - sharpdiff: 1.2989 - mean_absolute_error: 0.3814 - mean_squared_error: 0.269 - ETA: 10:22 - loss: 1827777.0774 - psnr: 5.8203 - total_variation: 981076.9375 - ssim_multiscale: 0.5520 - sharpdiff: 1.2951 - mean_absolute_error: 0.3812 - mean_squared_error: 0.269 - ETA: 10:06 - loss: 1833103.4708 - psnr: 5.8157 - total_variation: 982393.8125 - ssim_multiscale: 0.5505 - sharpdiff: 1.2829 - mean_absolute_error: 0.3811 - mean_squared_error: 0.269 - ETA: 9:50 - loss: 1829372.2533 - psnr: 5.8490 - total_variation: 975930.7500 - ssim_multiscale: 0.5522 - sharpdiff: 1.3141 - mean_absolute_error: 0.3795 - mean_squared_error: 0.267 - ETA: 9:37 - loss: 1830526.1081 - psnr: 5.8509 - total_variation: 973034.5000 - ssim_multiscale: 0.5497 - sharpdiff: 1.3232 - mean_absolute_error: 0.3793 - mean_squared_error: 0.26 - ETA: 9:24 - loss: 1825427.6328 - psnr: 5.8479 - total_variation: 976875.9375 - ssim_multiscale: 0.5464 - sharpdiff: 1.2980 - mean_absolute_error: 0.3790 - mean_squared_error: 0.26 - ETA: 9:12 - loss: 1834239.4936 - psnr: 5.8389 - total_variation: 981268.0000 - ssim_multiscale: 0.5492 - sharpdiff: 1.2741 - mean_absolute_error: 0.3792 - mean_squared_error: 0.26 - ETA: 9:01 - loss: 1835138.8287 - psnr: 5.8407 - total_variation: 978947.6875 - ssim_multiscale: 0.5485 - sharpdiff: 1.2826 - mean_absolute_error: 0.3788 - mean_squared_error: 0.26 - ETA: 8:50 - loss: 1844844.4898 - psnr: 5.8383 - total_variation: 979532.6875 - ssim_multiscale: 0.5504 - sharpdiff: 1.2774 - mean_absolute_error: 0.3792 - mean_squared_error: 0.26 - ETA: 8:41 - loss: 1841552.1984 - psnr: 5.8413 - total_variation: 979758.0000 - ssim_multiscale: 0.5486 - sharpdiff: 1.2730 - mean_absolute_error: 0.3787 - mean_squared_error: 0.26 - ETA: 8:32 - loss: 1840897.3977 - psnr: 5.8471 - total_variation: 981022.1250 - ssim_multiscale: 0.5486 - sharpdiff: 1.2636 - mean_absolute_error: 0.3781 - mean_squared_error: 0.26 - ETA: 8:23 - loss: 1842052.5103 - psnr: 5.8511 - total_variation: 982254.3125 - ssim_multiscale: 0.5462 - sharpdiff: 1.2545 - mean_absolute_error: 0.3776 - mean_squared_error: 0.26 - ETA: 8:15 - loss: 1840737.5327 - psnr: 5.8580 - total_variation: 980447.0625 - ssim_multiscale: 0.5480 - sharpdiff: 1.2631 - mean_absolute_error: 0.3770 - mean_squared_error: 0.26 - ETA: 8:07 - loss: 1842326.5538 - psnr: 5.8537 - total_variation: 978760.0625 - ssim_multiscale: 0.5472 - sharpdiff: 1.2700 - mean_absolute_error: 0.3770 - mean_squared_error: 0.26 - ETA: 8:00 - loss: 1844002.4915 - psnr: 5.8634 - total_variation: 978662.3750 - ssim_multiscale: 0.5466 - sharpdiff: 1.2706 - mean_absolute_error: 0.3765 - mean_squared_error: 0.26 - ETA: 7:53 - loss: 1844666.7174 - psnr: 5.8632 - total_variation: 978747.7500 - ssim_multiscale: 0.5467 - sharpdiff: 1.2695 - mean_absolute_error: 0.3762 - mean_squared_error: 0.26 - ETA: 7:47 - loss: 1849761.2555 - psnr: 5.8571 - total_variation: 982282.1875 - ssim_multiscale: 0.5475 - sharpdiff: 1.2509 - mean_absolute_error: 0.3765 - mean_squared_error: 0.26 - ETA: 7:41 - loss: 1853371.8968 - psnr: 5.8579 - total_variation: 983036.1875 - ssim_multiscale: 0.5490 - sharpdiff: 1.2444 - mean_absolute_error: 0.3766 - mean_squared_error: 0.26 - ETA: 7:35 - loss: 1855636.5982 - psnr: 5.8669 - total_variation: 980527.8750 - ssim_multiscale: 0.5507 - sharpdiff: 1.2576 - mean_absolute_error: 0.3761 - mean_squared_error: 0.26 - ETA: 7:30 - loss: 1856333.1613 - psnr: 5.8698 - total_variation: 978924.6875 - ssim_multiscale: 0.5514 - sharpdiff: 1.2659 - mean_absolute_error: 0.3759 - mean_squared_error: 0.26 - ETA: 7:24 - loss: 1857791.5385 - psnr: 5.8641 - total_variation: 980096.3750 - ssim_multiscale: 0.5524 - sharpdiff: 1.2585 - mean_absolute_error: 0.3760 - mean_squared_error: 0.26 - ETA: 7:19 - loss: 1850246.0911 - psnr: 5.8717 - total_variation: 979579.5000 - ssim_multiscale: 0.5531 - sharpdiff: 1.2581 - mean_absolute_error: 0.3754 - mean_squared_error: 0.26 - ETA: 7:14 - loss: 1850805.6791 - psnr: 5.8704 - total_variation: 979769.5625 - ssim_multiscale: 0.5532 - sharpdiff: 1.2562 - mean_absolute_error: 0.3753 - mean_squared_error: 0.26 - ETA: 7:10 - loss: 1854157.7177 - psnr: 5.8600 - total_variation: 979366.7500 - ssim_multiscale: 0.5515 - sharpdiff: 1.2575 - mean_absolute_error: 0.3759 - mean_squared_error: 0.26 - ETA: 7:05 - loss: 1859085.2601 - psnr: 5.8516 - total_variation: 983181.8750 - ssim_multiscale: 0.5514 - sharpdiff: 1.2371 - mean_absolute_error: 0.3763 - mean_squared_error: 0.2667"
     ]
    },
    {
     "name": "stdout",
     "output_type": "stream",
     "text": [
      "  90/1000 [=>............................] - ETA: 7:01 - loss: 1853933.8658 - psnr: 5.8614 - total_variation: 982684.9375 - ssim_multiscale: 0.5518 - sharpdiff: 1.2382 - mean_absolute_error: 0.3758 - mean_squared_error: 0.26 - ETA: 6:57 - loss: 1849380.2729 - psnr: 5.8713 - total_variation: 980065.1875 - ssim_multiscale: 0.5516 - sharpdiff: 1.2508 - mean_absolute_error: 0.3752 - mean_squared_error: 0.26 - ETA: 6:53 - loss: 1842809.6188 - psnr: 5.8791 - total_variation: 976240.6875 - ssim_multiscale: 0.5501 - sharpdiff: 1.2693 - mean_absolute_error: 0.3747 - mean_squared_error: 0.26 - ETA: 6:49 - loss: 1845333.2720 - psnr: 5.8709 - total_variation: 978055.5000 - ssim_multiscale: 0.5483 - sharpdiff: 1.2597 - mean_absolute_error: 0.3750 - mean_squared_error: 0.26 - ETA: 6:46 - loss: 1842624.8216 - psnr: 5.8702 - total_variation: 978665.6875 - ssim_multiscale: 0.5492 - sharpdiff: 1.2553 - mean_absolute_error: 0.3749 - mean_squared_error: 0.26 - ETA: 6:42 - loss: 1839507.1584 - psnr: 5.8780 - total_variation: 977494.4375 - ssim_multiscale: 0.5487 - sharpdiff: 1.2617 - mean_absolute_error: 0.3745 - mean_squared_error: 0.26 - ETA: 6:39 - loss: 1838344.2395 - psnr: 5.8801 - total_variation: 975955.4375 - ssim_multiscale: 0.5470 - sharpdiff: 1.2694 - mean_absolute_error: 0.3743 - mean_squared_error: 0.26 - ETA: 6:36 - loss: 1836518.7185 - psnr: 5.8902 - total_variation: 974961.9375 - ssim_multiscale: 0.5482 - sharpdiff: 1.2740 - mean_absolute_error: 0.3739 - mean_squared_error: 0.26 - ETA: 6:32 - loss: 1835979.3024 - psnr: 5.8903 - total_variation: 976002.8750 - ssim_multiscale: 0.5477 - sharpdiff: 1.2679 - mean_absolute_error: 0.3738 - mean_squared_error: 0.26 - ETA: 6:29 - loss: 1836477.8923 - psnr: 5.8928 - total_variation: 976028.0625 - ssim_multiscale: 0.5463 - sharpdiff: 1.2677 - mean_absolute_error: 0.3737 - mean_squared_error: 0.26 - ETA: 6:26 - loss: 1833264.1889 - psnr: 5.8936 - total_variation: 976690.1250 - ssim_multiscale: 0.5467 - sharpdiff: 1.2632 - mean_absolute_error: 0.3735 - mean_squared_error: 0.26 - ETA: 6:24 - loss: 1828232.8610 - psnr: 5.9006 - total_variation: 974152.3750 - ssim_multiscale: 0.5461 - sharpdiff: 1.2766 - mean_absolute_error: 0.3730 - mean_squared_error: 0.26 - ETA: 6:21 - loss: 1829269.1026 - psnr: 5.8994 - total_variation: 975034.0000 - ssim_multiscale: 0.5464 - sharpdiff: 1.2716 - mean_absolute_error: 0.3731 - mean_squared_error: 0.26 - ETA: 6:18 - loss: 1832552.1856 - psnr: 5.8917 - total_variation: 976308.1250 - ssim_multiscale: 0.5465 - sharpdiff: 1.2647 - mean_absolute_error: 0.3735 - mean_squared_error: 0.26 - ETA: 6:16 - loss: 1833645.2596 - psnr: 5.8856 - total_variation: 976597.8125 - ssim_multiscale: 0.5477 - sharpdiff: 1.2630 - mean_absolute_error: 0.3738 - mean_squared_error: 0.26 - ETA: 6:13 - loss: 1835218.1837 - psnr: 5.8839 - total_variation: 977265.8125 - ssim_multiscale: 0.5479 - sharpdiff: 1.2595 - mean_absolute_error: 0.3739 - mean_squared_error: 0.26 - ETA: 6:11 - loss: 1836258.2291 - psnr: 5.8842 - total_variation: 977574.7500 - ssim_multiscale: 0.5480 - sharpdiff: 1.2580 - mean_absolute_error: 0.3739 - mean_squared_error: 0.26 - ETA: 6:08 - loss: 1834381.9695 - psnr: 5.8845 - total_variation: 978308.5625 - ssim_multiscale: 0.5494 - sharpdiff: 1.2527 - mean_absolute_error: 0.3738 - mean_squared_error: 0.26 - ETA: 6:06 - loss: 1835021.8684 - psnr: 5.8834 - total_variation: 978372.5000 - ssim_multiscale: 0.5492 - sharpdiff: 1.2526 - mean_absolute_error: 0.3739 - mean_squared_error: 0.26 - ETA: 6:04 - loss: 1833244.5858 - psnr: 5.8822 - total_variation: 978393.3750 - ssim_multiscale: 0.5483 - sharpdiff: 1.2517 - mean_absolute_error: 0.3739 - mean_squared_error: 0.26 - ETA: 6:02 - loss: 1834102.0845 - psnr: 5.8785 - total_variation: 981291.8125 - ssim_multiscale: 0.5486 - sharpdiff: 1.2372 - mean_absolute_error: 0.3740 - mean_squared_error: 0.26 - ETA: 6:00 - loss: 1833864.4844 - psnr: 5.8786 - total_variation: 982042.5000 - ssim_multiscale: 0.5484 - sharpdiff: 1.2336 - mean_absolute_error: 0.3740 - mean_squared_error: 0.26 - ETA: 5:58 - loss: 1833197.7677 - psnr: 5.8769 - total_variation: 981878.8750 - ssim_multiscale: 0.5472 - sharpdiff: 1.2340 - mean_absolute_error: 0.3740 - mean_squared_error: 0.26 - ETA: 5:56 - loss: 1832942.1479 - psnr: 5.8771 - total_variation: 982845.1875 - ssim_multiscale: 0.5484 - sharpdiff: 1.2288 - mean_absolute_error: 0.3740 - mean_squared_error: 0.26 - ETA: 5:54 - loss: 1831936.2511 - psnr: 5.8813 - total_variation: 982592.6875 - ssim_multiscale: 0.5489 - sharpdiff: 1.2295 - mean_absolute_error: 0.3738 - mean_squared_error: 0.26 - ETA: 5:52 - loss: 1832470.4835 - psnr: 5.8790 - total_variation: 983461.4375 - ssim_multiscale: 0.5479 - sharpdiff: 1.2250 - mean_absolute_error: 0.3739 - mean_squared_error: 0.26 - ETA: 5:50 - loss: 1831906.2042 - psnr: 5.8809 - total_variation: 982574.5625 - ssim_multiscale: 0.5486 - sharpdiff: 1.2297 - mean_absolute_error: 0.3738 - mean_squared_error: 0.26 - ETA: 5:49 - loss: 1829022.1723 - psnr: 5.8878 - total_variation: 981311.3125 - ssim_multiscale: 0.5491 - sharpdiff: 1.2354 - mean_absolute_error: 0.3735 - mean_squared_error: 0.26 - ETA: 5:47 - loss: 1829039.2679 - psnr: 5.8851 - total_variation: 982390.6875 - ssim_multiscale: 0.5500 - sharpdiff: 1.2299 - mean_absolute_error: 0.3737 - mean_squared_error: 0.26 - ETA: 5:45 - loss: 1831095.2360 - psnr: 5.8771 - total_variation: 982813.5625 - ssim_multiscale: 0.5510 - sharpdiff: 1.2281 - mean_absolute_error: 0.3742 - mean_squared_error: 0.26 - ETA: 5:44 - loss: 1831986.6885 - psnr: 5.8722 - total_variation: 985055.2500 - ssim_multiscale: 0.5510 - sharpdiff: 1.2162 - mean_absolute_error: 0.3744 - mean_squared_error: 0.26 - ETA: 5:43 - loss: 1828199.6033 - psnr: 5.8736 - total_variation: 985631.8125 - ssim_multiscale: 0.5512 - sharpdiff: 1.2120 - mean_absolute_error: 0.3743 - mean_squared_error: 0.26 - ETA: 5:41 - loss: 1827140.3295 - psnr: 5.8756 - total_variation: 985589.1250 - ssim_multiscale: 0.5503 - sharpdiff: 1.2121 - mean_absolute_error: 0.3742 - mean_squared_error: 0.26 - ETA: 5:40 - loss: 1826445.0295 - psnr: 5.8721 - total_variation: 985213.3750 - ssim_multiscale: 0.5497 - sharpdiff: 1.2143 - mean_absolute_error: 0.3743 - mean_squared_error: 0.26 - ETA: 5:38 - loss: 1827591.6182 - psnr: 5.8669 - total_variation: 985569.0000 - ssim_multiscale: 0.5485 - sharpdiff: 1.2126 - mean_absolute_error: 0.3746 - mean_squared_error: 0.26 - ETA: 5:37 - loss: 1828437.3111 - psnr: 5.8656 - total_variation: 985649.8750 - ssim_multiscale: 0.5474 - sharpdiff: 1.2123 - mean_absolute_error: 0.3747 - mean_squared_error: 0.26 - ETA: 5:35 - loss: 1826331.8683 - psnr: 5.8676 - total_variation: 983522.7500 - ssim_multiscale: 0.5456 - sharpdiff: 1.2243 - mean_absolute_error: 0.3745 - mean_squared_error: 0.26 - ETA: 5:34 - loss: 1824553.4678 - psnr: 5.8712 - total_variation: 982734.0625 - ssim_multiscale: 0.5458 - sharpdiff: 1.2285 - mean_absolute_error: 0.3744 - mean_squared_error: 0.26 - ETA: 5:33 - loss: 1823518.7628 - psnr: 5.8703 - total_variation: 982996.5000 - ssim_multiscale: 0.5461 - sharpdiff: 1.2269 - mean_absolute_error: 0.3744 - mean_squared_error: 0.26 - ETA: 5:32 - loss: 1821165.5730 - psnr: 5.8671 - total_variation: 983827.3750 - ssim_multiscale: 0.5469 - sharpdiff: 1.2219 - mean_absolute_error: 0.3745 - mean_squared_error: 0.26 - ETA: 5:30 - loss: 1818319.8105 - psnr: 5.8674 - total_variation: 983669.5625 - ssim_multiscale: 0.5463 - sharpdiff: 1.2219 - mean_absolute_error: 0.3744 - mean_squared_error: 0.26 - ETA: 5:29 - loss: 1817307.3500 - psnr: 5.8662 - total_variation: 984669.4375 - ssim_multiscale: 0.5458 - sharpdiff: 1.2162 - mean_absolute_error: 0.3744 - mean_squared_error: 0.26 - ETA: 5:27 - loss: 1814308.8233 - psnr: 5.8673 - total_variation: 985099.4375 - ssim_multiscale: 0.5449 - sharpdiff: 1.2132 - mean_absolute_error: 0.3743 - mean_squared_error: 0.26 - ETA: 5:26 - loss: 1812593.0233 - psnr: 5.8678 - total_variation: 985786.0625 - ssim_multiscale: 0.5459 - sharpdiff: 1.2095 - mean_absolute_error: 0.3743 - mean_squared_error: 0.26 - ETA: 5:25 - loss: 1810885.6078 - psnr: 5.8705 - total_variation: 984988.3750 - ssim_multiscale: 0.5450 - sharpdiff: 1.2139 - mean_absolute_error: 0.3741 - mean_squared_error: 0.2657"
     ]
    },
    {
     "name": "stdout",
     "output_type": "stream",
     "text": [
      " 135/1000 [===>..........................] - ETA: 5:23 - loss: 1811990.8237 - psnr: 5.8657 - total_variation: 986353.5625 - ssim_multiscale: 0.5456 - sharpdiff: 1.2073 - mean_absolute_error: 0.3744 - mean_squared_error: 0.26 - ETA: 5:22 - loss: 1809830.8161 - psnr: 5.8682 - total_variation: 985967.3750 - ssim_multiscale: 0.5450 - sharpdiff: 1.2088 - mean_absolute_error: 0.3743 - mean_squared_error: 0.26 - ETA: 5:21 - loss: 1807994.9000 - psnr: 5.8624 - total_variation: 985991.0625 - ssim_multiscale: 0.5440 - sharpdiff: 1.2076 - mean_absolute_error: 0.3745 - mean_squared_error: 0.26 - ETA: 5:20 - loss: 1807682.1671 - psnr: 5.8612 - total_variation: 986900.2500 - ssim_multiscale: 0.5444 - sharpdiff: 1.2033 - mean_absolute_error: 0.3746 - mean_squared_error: 0.26 - ETA: 5:19 - loss: 1807756.1390 - psnr: 5.8585 - total_variation: 987983.6875 - ssim_multiscale: 0.5436 - sharpdiff: 1.1981 - mean_absolute_error: 0.3747 - mean_squared_error: 0.26 - ETA: 5:17 - loss: 1806978.2104 - psnr: 5.8590 - total_variation: 988081.4375 - ssim_multiscale: 0.5443 - sharpdiff: 1.1976 - mean_absolute_error: 0.3747 - mean_squared_error: 0.26 - ETA: 5:16 - loss: 1803861.4712 - psnr: 5.8595 - total_variation: 988788.3750 - ssim_multiscale: 0.5447 - sharpdiff: 1.1929 - mean_absolute_error: 0.3746 - mean_squared_error: 0.26 - ETA: 5:15 - loss: 1799619.2916 - psnr: 5.8631 - total_variation: 988097.2500 - ssim_multiscale: 0.5453 - sharpdiff: 1.1957 - mean_absolute_error: 0.3744 - mean_squared_error: 0.26 - ETA: 5:14 - loss: 1798429.3089 - psnr: 5.8621 - total_variation: 987651.5000 - ssim_multiscale: 0.5451 - sharpdiff: 1.1979 - mean_absolute_error: 0.3744 - mean_squared_error: 0.26 - ETA: 5:13 - loss: 1795726.8470 - psnr: 5.8653 - total_variation: 986309.3750 - ssim_multiscale: 0.5447 - sharpdiff: 1.2053 - mean_absolute_error: 0.3742 - mean_squared_error: 0.26 - ETA: 5:12 - loss: 1795464.6530 - psnr: 5.8630 - total_variation: 987706.7500 - ssim_multiscale: 0.5455 - sharpdiff: 1.1987 - mean_absolute_error: 0.3743 - mean_squared_error: 0.26 - ETA: 5:11 - loss: 1792620.1429 - psnr: 5.8653 - total_variation: 986307.1875 - ssim_multiscale: 0.5452 - sharpdiff: 1.2054 - mean_absolute_error: 0.3742 - mean_squared_error: 0.26 - ETA: 5:10 - loss: 1789779.3588 - psnr: 5.8633 - total_variation: 986871.2500 - ssim_multiscale: 0.5459 - sharpdiff: 1.2017 - mean_absolute_error: 0.3743 - mean_squared_error: 0.26 - ETA: 5:09 - loss: 1786020.5596 - psnr: 5.8664 - total_variation: 985830.6875 - ssim_multiscale: 0.5458 - sharpdiff: 1.2064 - mean_absolute_error: 0.3741 - mean_squared_error: 0.26 - ETA: 5:08 - loss: 1786634.7996 - psnr: 5.8617 - total_variation: 987911.0625 - ssim_multiscale: 0.5461 - sharpdiff: 1.1964 - mean_absolute_error: 0.3744 - mean_squared_error: 0.26 - ETA: 5:07 - loss: 1785151.7130 - psnr: 5.8629 - total_variation: 987488.3750 - ssim_multiscale: 0.5453 - sharpdiff: 1.1994 - mean_absolute_error: 0.3743 - mean_squared_error: 0.26 - ETA: 5:06 - loss: 1781672.7671 - psnr: 5.8644 - total_variation: 988312.4375 - ssim_multiscale: 0.5472 - sharpdiff: 1.1948 - mean_absolute_error: 0.3742 - mean_squared_error: 0.26 - ETA: 5:05 - loss: 1778788.5343 - psnr: 5.8646 - total_variation: 987930.7500 - ssim_multiscale: 0.5478 - sharpdiff: 1.1964 - mean_absolute_error: 0.3741 - mean_squared_error: 0.26 - ETA: 5:04 - loss: 1776333.5466 - psnr: 5.8675 - total_variation: 987272.2500 - ssim_multiscale: 0.5477 - sharpdiff: 1.1999 - mean_absolute_error: 0.3740 - mean_squared_error: 0.26 - ETA: 5:03 - loss: 1774766.5041 - psnr: 5.8694 - total_variation: 987185.4375 - ssim_multiscale: 0.5494 - sharpdiff: 1.2004 - mean_absolute_error: 0.3740 - mean_squared_error: 0.26 - ETA: 5:02 - loss: 1772389.6719 - psnr: 5.8720 - total_variation: 986643.5625 - ssim_multiscale: 0.5490 - sharpdiff: 1.2034 - mean_absolute_error: 0.3738 - mean_squared_error: 0.26 - ETA: 5:01 - loss: 1768443.8991 - psnr: 5.8772 - total_variation: 986221.8750 - ssim_multiscale: 0.5491 - sharpdiff: 1.2050 - mean_absolute_error: 0.3736 - mean_squared_error: 0.26 - ETA: 5:00 - loss: 1767979.0239 - psnr: 5.8710 - total_variation: 987477.5625 - ssim_multiscale: 0.5493 - sharpdiff: 1.1985 - mean_absolute_error: 0.3739 - mean_squared_error: 0.26 - ETA: 4:59 - loss: 1765392.4470 - psnr: 5.8738 - total_variation: 986938.6250 - ssim_multiscale: 0.5500 - sharpdiff: 1.2008 - mean_absolute_error: 0.3737 - mean_squared_error: 0.26 - ETA: 4:58 - loss: 1763288.0257 - psnr: 5.8733 - total_variation: 986987.7500 - ssim_multiscale: 0.5500 - sharpdiff: 1.2004 - mean_absolute_error: 0.3738 - mean_squared_error: 0.26 - ETA: 4:57 - loss: 1760741.3067 - psnr: 5.8746 - total_variation: 987021.7500 - ssim_multiscale: 0.5499 - sharpdiff: 1.2001 - mean_absolute_error: 0.3737 - mean_squared_error: 0.26 - ETA: 4:56 - loss: 1760957.6940 - psnr: 5.8724 - total_variation: 988646.5000 - ssim_multiscale: 0.5503 - sharpdiff: 1.1922 - mean_absolute_error: 0.3738 - mean_squared_error: 0.26 - ETA: 4:55 - loss: 1757362.7210 - psnr: 5.8763 - total_variation: 988272.2500 - ssim_multiscale: 0.5504 - sharpdiff: 1.1938 - mean_absolute_error: 0.3737 - mean_squared_error: 0.26 - ETA: 4:54 - loss: 1754817.7622 - psnr: 5.8802 - total_variation: 988067.6250 - ssim_multiscale: 0.5501 - sharpdiff: 1.1946 - mean_absolute_error: 0.3735 - mean_squared_error: 0.26 - ETA: 4:54 - loss: 1751971.2777 - psnr: 5.8823 - total_variation: 988121.6250 - ssim_multiscale: 0.5508 - sharpdiff: 1.1940 - mean_absolute_error: 0.3734 - mean_squared_error: 0.26 - ETA: 4:53 - loss: 1751856.6174 - psnr: 5.8792 - total_variation: 990013.0625 - ssim_multiscale: 0.5524 - sharpdiff: 1.1849 - mean_absolute_error: 0.3736 - mean_squared_error: 0.26 - ETA: 4:52 - loss: 1751742.7814 - psnr: 5.8748 - total_variation: 990504.8750 - ssim_multiscale: 0.5517 - sharpdiff: 1.1831 - mean_absolute_error: 0.3738 - mean_squared_error: 0.26 - ETA: 4:51 - loss: 1749978.4732 - psnr: 5.8734 - total_variation: 991420.9375 - ssim_multiscale: 0.5520 - sharpdiff: 1.1782 - mean_absolute_error: 0.3739 - mean_squared_error: 0.26 - ETA: 4:50 - loss: 1747548.3736 - psnr: 5.8729 - total_variation: 991605.1875 - ssim_multiscale: 0.5521 - sharpdiff: 1.1765 - mean_absolute_error: 0.3739 - mean_squared_error: 0.26 - ETA: 4:49 - loss: 1746320.5716 - psnr: 5.8720 - total_variation: 992078.0000 - ssim_multiscale: 0.5526 - sharpdiff: 1.1739 - mean_absolute_error: 0.3740 - mean_squared_error: 0.26 - ETA: 4:48 - loss: 1745379.0264 - psnr: 5.8694 - total_variation: 992413.1875 - ssim_multiscale: 0.5531 - sharpdiff: 1.1724 - mean_absolute_error: 0.3741 - mean_squared_error: 0.26 - ETA: 4:48 - loss: 1743141.8894 - psnr: 5.8696 - total_variation: 992379.8750 - ssim_multiscale: 0.5527 - sharpdiff: 1.1719 - mean_absolute_error: 0.3741 - mean_squared_error: 0.26 - ETA: 4:47 - loss: 1740963.2740 - psnr: 5.8683 - total_variation: 992155.0000 - ssim_multiscale: 0.5524 - sharpdiff: 1.1731 - mean_absolute_error: 0.3742 - mean_squared_error: 0.26 - ETA: 4:46 - loss: 1739120.6518 - psnr: 5.8665 - total_variation: 992552.6875 - ssim_multiscale: 0.5530 - sharpdiff: 1.1707 - mean_absolute_error: 0.3743 - mean_squared_error: 0.26 - ETA: 4:45 - loss: 1737223.5852 - psnr: 5.8670 - total_variation: 993008.2500 - ssim_multiscale: 0.5540 - sharpdiff: 1.1689 - mean_absolute_error: 0.3743 - mean_squared_error: 0.26 - ETA: 4:45 - loss: 1735521.7449 - psnr: 5.8665 - total_variation: 993100.6250 - ssim_multiscale: 0.5536 - sharpdiff: 1.1685 - mean_absolute_error: 0.3743 - mean_squared_error: 0.26 - ETA: 4:44 - loss: 1733192.9495 - psnr: 5.8665 - total_variation: 992967.0000 - ssim_multiscale: 0.5538 - sharpdiff: 1.1689 - mean_absolute_error: 0.3743 - mean_squared_error: 0.26 - ETA: 4:43 - loss: 1730413.9395 - psnr: 5.8695 - total_variation: 991723.5000 - ssim_multiscale: 0.5542 - sharpdiff: 1.1762 - mean_absolute_error: 0.3742 - mean_squared_error: 0.26 - ETA: 4:42 - loss: 1727842.8420 - psnr: 5.8715 - total_variation: 991584.6250 - ssim_multiscale: 0.5544 - sharpdiff: 1.1775 - mean_absolute_error: 0.3741 - mean_squared_error: 0.26 - ETA: 4:42 - loss: 1725087.0441 - psnr: 5.8743 - total_variation: 991526.2500 - ssim_multiscale: 0.5543 - sharpdiff: 1.1776 - mean_absolute_error: 0.3740 - mean_squared_error: 0.2655"
     ]
    },
    {
     "name": "stdout",
     "output_type": "stream",
     "text": [
      " 180/1000 [====>.........................] - ETA: 4:41 - loss: 1722948.8112 - psnr: 5.8725 - total_variation: 992809.8750 - ssim_multiscale: 0.5547 - sharpdiff: 1.1710 - mean_absolute_error: 0.3741 - mean_squared_error: 0.26 - ETA: 4:40 - loss: 1720441.9987 - psnr: 5.8734 - total_variation: 992712.7500 - ssim_multiscale: 0.5547 - sharpdiff: 1.1715 - mean_absolute_error: 0.3740 - mean_squared_error: 0.26 - ETA: 4:39 - loss: 1719200.1138 - psnr: 5.8694 - total_variation: 994156.3125 - ssim_multiscale: 0.5549 - sharpdiff: 1.1646 - mean_absolute_error: 0.3742 - mean_squared_error: 0.26 - ETA: 4:39 - loss: 1717264.9151 - psnr: 5.8672 - total_variation: 993759.3125 - ssim_multiscale: 0.5546 - sharpdiff: 1.1669 - mean_absolute_error: 0.3744 - mean_squared_error: 0.26 - ETA: 4:38 - loss: 1713596.8309 - psnr: 5.8703 - total_variation: 993181.2500 - ssim_multiscale: 0.5538 - sharpdiff: 1.1696 - mean_absolute_error: 0.3742 - mean_squared_error: 0.26 - ETA: 4:37 - loss: 1711491.5564 - psnr: 5.8681 - total_variation: 993659.9375 - ssim_multiscale: 0.5540 - sharpdiff: 1.1672 - mean_absolute_error: 0.3743 - mean_squared_error: 0.26 - ETA: 4:37 - loss: 1708218.1757 - psnr: 5.8718 - total_variation: 992664.3125 - ssim_multiscale: 0.5544 - sharpdiff: 1.1728 - mean_absolute_error: 0.3741 - mean_squared_error: 0.26 - ETA: 4:36 - loss: 1706014.1378 - psnr: 5.8731 - total_variation: 992392.1875 - ssim_multiscale: 0.5541 - sharpdiff: 1.1742 - mean_absolute_error: 0.3741 - mean_squared_error: 0.26 - ETA: 4:35 - loss: 1702976.4163 - psnr: 5.8734 - total_variation: 992187.5625 - ssim_multiscale: 0.5536 - sharpdiff: 1.1749 - mean_absolute_error: 0.3740 - mean_squared_error: 0.26 - ETA: 4:35 - loss: 1701388.9221 - psnr: 5.8711 - total_variation: 993026.1250 - ssim_multiscale: 0.5537 - sharpdiff: 1.1707 - mean_absolute_error: 0.3742 - mean_squared_error: 0.26 - ETA: 4:34 - loss: 1699735.1992 - psnr: 5.8696 - total_variation: 993530.0625 - ssim_multiscale: 0.5539 - sharpdiff: 1.1679 - mean_absolute_error: 0.3743 - mean_squared_error: 0.26 - ETA: 4:33 - loss: 1698820.5720 - psnr: 5.8648 - total_variation: 994580.8750 - ssim_multiscale: 0.5544 - sharpdiff: 1.1627 - mean_absolute_error: 0.3746 - mean_squared_error: 0.26 - ETA: 4:33 - loss: 1696745.4904 - psnr: 5.8623 - total_variation: 995417.8125 - ssim_multiscale: 0.5549 - sharpdiff: 1.1586 - mean_absolute_error: 0.3747 - mean_squared_error: 0.26 - ETA: 4:32 - loss: 1694779.5433 - psnr: 5.8627 - total_variation: 996195.0000 - ssim_multiscale: 0.5548 - sharpdiff: 1.1547 - mean_absolute_error: 0.3747 - mean_squared_error: 0.26 - ETA: 4:31 - loss: 1693195.1014 - psnr: 5.8612 - total_variation: 996516.1875 - ssim_multiscale: 0.5550 - sharpdiff: 1.1531 - mean_absolute_error: 0.3748 - mean_squared_error: 0.26 - ETA: 4:31 - loss: 1689319.8407 - psnr: 5.8642 - total_variation: 995983.8125 - ssim_multiscale: 0.5552 - sharpdiff: 1.1557 - mean_absolute_error: 0.3746 - mean_squared_error: 0.26 - ETA: 4:30 - loss: 1687401.1313 - psnr: 5.8644 - total_variation: 996024.1875 - ssim_multiscale: 0.5544 - sharpdiff: 1.1561 - mean_absolute_error: 0.3746 - mean_squared_error: 0.26 - ETA: 4:29 - loss: 1686515.7088 - psnr: 5.8590 - total_variation: 997083.1875 - ssim_multiscale: 0.5542 - sharpdiff: 1.1514 - mean_absolute_error: 0.3749 - mean_squared_error: 0.26 - ETA: 4:29 - loss: 1683832.5557 - psnr: 5.8573 - total_variation: 997782.9375 - ssim_multiscale: 0.5538 - sharpdiff: 1.1478 - mean_absolute_error: 0.3750 - mean_squared_error: 0.26 - ETA: 4:28 - loss: 1681072.6860 - psnr: 5.8576 - total_variation: 997717.5625 - ssim_multiscale: 0.5544 - sharpdiff: 1.1477 - mean_absolute_error: 0.3750 - mean_squared_error: 0.26 - ETA: 4:27 - loss: 1678977.4749 - psnr: 5.8550 - total_variation: 998423.1875 - ssim_multiscale: 0.5553 - sharpdiff: 1.1444 - mean_absolute_error: 0.3751 - mean_squared_error: 0.26 - ETA: 4:27 - loss: 1676258.3540 - psnr: 5.8558 - total_variation: 998175.1875 - ssim_multiscale: 0.5554 - sharpdiff: 1.1458 - mean_absolute_error: 0.3751 - mean_squared_error: 0.26 - ETA: 4:26 - loss: 1673524.8787 - psnr: 5.8580 - total_variation: 997566.3750 - ssim_multiscale: 0.5549 - sharpdiff: 1.1491 - mean_absolute_error: 0.3749 - mean_squared_error: 0.26 - ETA: 4:26 - loss: 1671016.1161 - psnr: 5.8593 - total_variation: 997812.2500 - ssim_multiscale: 0.5548 - sharpdiff: 1.1480 - mean_absolute_error: 0.3749 - mean_squared_error: 0.26 - ETA: 4:25 - loss: 1669276.1825 - psnr: 5.8561 - total_variation: 998883.5000 - ssim_multiscale: 0.5543 - sharpdiff: 1.1427 - mean_absolute_error: 0.3751 - mean_squared_error: 0.26 - ETA: 4:24 - loss: 1667288.7334 - psnr: 5.8546 - total_variation: 999453.5000 - ssim_multiscale: 0.5535 - sharpdiff: 1.1402 - mean_absolute_error: 0.3752 - mean_squared_error: 0.26 - ETA: 4:24 - loss: 1663714.1039 - psnr: 5.8555 - total_variation: 999442.5625 - ssim_multiscale: 0.5538 - sharpdiff: 1.1401 - mean_absolute_error: 0.3751 - mean_squared_error: 0.26 - ETA: 4:23 - loss: 1661282.9253 - psnr: 5.8537 - total_variation: 1000470.5625 - ssim_multiscale: 0.5543 - sharpdiff: 1.1350 - mean_absolute_error: 0.3752 - mean_squared_error: 0.266 - ETA: 4:23 - loss: 1657694.4342 - psnr: 5.8533 - total_variation: 1000532.3750 - ssim_multiscale: 0.5546 - sharpdiff: 1.1342 - mean_absolute_error: 0.3751 - mean_squared_error: 0.266 - ETA: 4:22 - loss: 1654901.6755 - psnr: 5.8533 - total_variation: 1000792.3125 - ssim_multiscale: 0.5544 - sharpdiff: 1.1328 - mean_absolute_error: 0.3751 - mean_squared_error: 0.266 - ETA: 4:21 - loss: 1652001.6722 - psnr: 5.8530 - total_variation: 1001296.9375 - ssim_multiscale: 0.5545 - sharpdiff: 1.1305 - mean_absolute_error: 0.3751 - mean_squared_error: 0.266 - ETA: 4:21 - loss: 1648572.1779 - psnr: 5.8563 - total_variation: 1000236.3750 - ssim_multiscale: 0.5544 - sharpdiff: 1.1363 - mean_absolute_error: 0.3749 - mean_squared_error: 0.266 - ETA: 4:20 - loss: 1646935.6679 - psnr: 5.8540 - total_variation: 1000893.8125 - ssim_multiscale: 0.5541 - sharpdiff: 1.1332 - mean_absolute_error: 0.3751 - mean_squared_error: 0.266 - ETA: 4:20 - loss: 1644341.3200 - psnr: 5.8531 - total_variation: 1001821.0625 - ssim_multiscale: 0.5547 - sharpdiff: 1.1284 - mean_absolute_error: 0.3752 - mean_squared_error: 0.266 - ETA: 4:19 - loss: 1642896.3931 - psnr: 5.8507 - total_variation: 1002731.3125 - ssim_multiscale: 0.5554 - sharpdiff: 1.1238 - mean_absolute_error: 0.3753 - mean_squared_error: 0.266 - ETA: 4:19 - loss: 1639042.6909 - psnr: 5.8522 - total_variation: 1003075.6250 - ssim_multiscale: 0.5559 - sharpdiff: 1.1215 - mean_absolute_error: 0.3752 - mean_squared_error: 0.266 - ETA: 4:18 - loss: 1635223.3170 - psnr: 5.8544 - total_variation: 1002894.3125 - ssim_multiscale: 0.5557 - sharpdiff: 1.1222 - mean_absolute_error: 0.3751 - mean_squared_error: 0.266 - ETA: 4:17 - loss: 1633143.6236 - psnr: 5.8520 - total_variation: 1003090.3750 - ssim_multiscale: 0.5559 - sharpdiff: 1.1216 - mean_absolute_error: 0.3752 - mean_squared_error: 0.266 - ETA: 4:17 - loss: 1630231.6287 - psnr: 5.8518 - total_variation: 1003264.6250 - ssim_multiscale: 0.5565 - sharpdiff: 1.1207 - mean_absolute_error: 0.3752 - mean_squared_error: 0.266 - ETA: 4:16 - loss: 1627783.7637 - psnr: 5.8514 - total_variation: 1003132.4375 - ssim_multiscale: 0.5564 - sharpdiff: 1.1220 - mean_absolute_error: 0.3752 - mean_squared_error: 0.266 - ETA: 4:16 - loss: 1624711.3247 - psnr: 5.8519 - total_variation: 1002905.2500 - ssim_multiscale: 0.5565 - sharpdiff: 1.1231 - mean_absolute_error: 0.3752 - mean_squared_error: 0.266 - ETA: 4:15 - loss: 1622287.5552 - psnr: 5.8531 - total_variation: 1003008.4375 - ssim_multiscale: 0.5567 - sharpdiff: 1.1231 - mean_absolute_error: 0.3751 - mean_squared_error: 0.266 - ETA: 4:15 - loss: 1620084.1146 - psnr: 5.8502 - total_variation: 1003433.2500 - ssim_multiscale: 0.5562 - sharpdiff: 1.1208 - mean_absolute_error: 0.3753 - mean_squared_error: 0.266 - ETA: 4:14 - loss: 1617779.0043 - psnr: 5.8492 - total_variation: 1003709.7500 - ssim_multiscale: 0.5565 - sharpdiff: 1.1198 - mean_absolute_error: 0.3753 - mean_squared_error: 0.267 - ETA: 4:14 - loss: 1614384.9536 - psnr: 5.8501 - total_variation: 1004135.8125 - ssim_multiscale: 0.5570 - sharpdiff: 1.1174 - mean_absolute_error: 0.3753 - mean_squared_error: 0.2669"
     ]
    },
    {
     "name": "stdout",
     "output_type": "stream",
     "text": [
      " 225/1000 [=====>........................] - ETA: 4:13 - loss: 1611389.8917 - psnr: 5.8511 - total_variation: 1004093.9375 - ssim_multiscale: 0.5577 - sharpdiff: 1.1177 - mean_absolute_error: 0.3753 - mean_squared_error: 0.266 - ETA: 4:13 - loss: 1608918.8483 - psnr: 5.8522 - total_variation: 1003150.6875 - ssim_multiscale: 0.5582 - sharpdiff: 1.1232 - mean_absolute_error: 0.3752 - mean_squared_error: 0.266 - ETA: 4:12 - loss: 1607971.6756 - psnr: 5.8479 - total_variation: 1004646.9375 - ssim_multiscale: 0.5581 - sharpdiff: 1.1165 - mean_absolute_error: 0.3755 - mean_squared_error: 0.267 - ETA: 4:12 - loss: 1604548.2246 - psnr: 5.8484 - total_variation: 1004428.8750 - ssim_multiscale: 0.5582 - sharpdiff: 1.1174 - mean_absolute_error: 0.3754 - mean_squared_error: 0.267 - ETA: 4:11 - loss: 1602390.0457 - psnr: 5.8452 - total_variation: 1005511.3750 - ssim_multiscale: 0.5589 - sharpdiff: 1.1122 - mean_absolute_error: 0.3756 - mean_squared_error: 0.267 - ETA: 4:11 - loss: 1599395.1143 - psnr: 5.8455 - total_variation: 1005458.7500 - ssim_multiscale: 0.5589 - sharpdiff: 1.1119 - mean_absolute_error: 0.3756 - mean_squared_error: 0.267 - ETA: 4:10 - loss: 1596090.1264 - psnr: 5.8450 - total_variation: 1005727.3750 - ssim_multiscale: 0.5584 - sharpdiff: 1.1104 - mean_absolute_error: 0.3756 - mean_squared_error: 0.267 - ETA: 4:10 - loss: 1592416.8661 - psnr: 5.8471 - total_variation: 1005353.6250 - ssim_multiscale: 0.5586 - sharpdiff: 1.1122 - mean_absolute_error: 0.3755 - mean_squared_error: 0.267 - ETA: 4:09 - loss: 1589593.7147 - psnr: 5.8465 - total_variation: 1005974.5000 - ssim_multiscale: 0.5584 - sharpdiff: 1.1091 - mean_absolute_error: 0.3756 - mean_squared_error: 0.267 - ETA: 4:09 - loss: 1586553.2527 - psnr: 5.8480 - total_variation: 1005944.5000 - ssim_multiscale: 0.5584 - sharpdiff: 1.1091 - mean_absolute_error: 0.3755 - mean_squared_error: 0.267 - ETA: 4:08 - loss: 1583334.9209 - psnr: 5.8496 - total_variation: 1005875.2500 - ssim_multiscale: 0.5582 - sharpdiff: 1.1094 - mean_absolute_error: 0.3754 - mean_squared_error: 0.267 - ETA: 4:08 - loss: 1580859.4552 - psnr: 5.8476 - total_variation: 1006496.3125 - ssim_multiscale: 0.5579 - sharpdiff: 1.1062 - mean_absolute_error: 0.3756 - mean_squared_error: 0.267 - ETA: 4:07 - loss: 1578055.3984 - psnr: 5.8494 - total_variation: 1006468.7500 - ssim_multiscale: 0.5576 - sharpdiff: 1.1065 - mean_absolute_error: 0.3755 - mean_squared_error: 0.267 - ETA: 4:07 - loss: 1576129.4981 - psnr: 5.8468 - total_variation: 1007531.4375 - ssim_multiscale: 0.5576 - sharpdiff: 1.1019 - mean_absolute_error: 0.3757 - mean_squared_error: 0.267 - ETA: 4:06 - loss: 1572562.6254 - psnr: 5.8479 - total_variation: 1007245.5625 - ssim_multiscale: 0.5578 - sharpdiff: 1.1031 - mean_absolute_error: 0.3756 - mean_squared_error: 0.267 - ETA: 4:06 - loss: 1570648.1420 - psnr: 5.8454 - total_variation: 1008073.1250 - ssim_multiscale: 0.5577 - sharpdiff: 1.0991 - mean_absolute_error: 0.3758 - mean_squared_error: 0.267 - ETA: 4:05 - loss: 1567789.2329 - psnr: 5.8468 - total_variation: 1008065.8750 - ssim_multiscale: 0.5580 - sharpdiff: 1.0993 - mean_absolute_error: 0.3757 - mean_squared_error: 0.267 - ETA: 4:05 - loss: 1564509.2861 - psnr: 5.8480 - total_variation: 1008296.8750 - ssim_multiscale: 0.5581 - sharpdiff: 1.0984 - mean_absolute_error: 0.3757 - mean_squared_error: 0.267 - ETA: 4:04 - loss: 1561131.4055 - psnr: 5.8479 - total_variation: 1008474.0000 - ssim_multiscale: 0.5578 - sharpdiff: 1.0976 - mean_absolute_error: 0.3757 - mean_squared_error: 0.267 - ETA: 4:04 - loss: 1558878.9610 - psnr: 5.8498 - total_variation: 1008360.7500 - ssim_multiscale: 0.5581 - sharpdiff: 1.0979 - mean_absolute_error: 0.3756 - mean_squared_error: 0.267 - ETA: 4:03 - loss: 1555180.5887 - psnr: 5.8531 - total_variation: 1007705.5625 - ssim_multiscale: 0.5583 - sharpdiff: 1.1011 - mean_absolute_error: 0.3754 - mean_squared_error: 0.266 - ETA: 4:03 - loss: 1551694.5375 - psnr: 5.8534 - total_variation: 1008009.6875 - ssim_multiscale: 0.5583 - sharpdiff: 1.0997 - mean_absolute_error: 0.3754 - mean_squared_error: 0.266 - ETA: 4:02 - loss: 1549012.1008 - psnr: 5.8506 - total_variation: 1009085.8750 - ssim_multiscale: 0.5582 - sharpdiff: 1.0946 - mean_absolute_error: 0.3756 - mean_squared_error: 0.266 - ETA: 4:02 - loss: 1547150.1309 - psnr: 5.8476 - total_variation: 1010118.3750 - ssim_multiscale: 0.5585 - sharpdiff: 1.0901 - mean_absolute_error: 0.3758 - mean_squared_error: 0.267 - ETA: 4:01 - loss: 1543784.5248 - psnr: 5.8484 - total_variation: 1009413.1250 - ssim_multiscale: 0.5585 - sharpdiff: 1.0936 - mean_absolute_error: 0.3757 - mean_squared_error: 0.267 - ETA: 4:01 - loss: 1541540.6248 - psnr: 5.8458 - total_variation: 1010421.5000 - ssim_multiscale: 0.5587 - sharpdiff: 1.0890 - mean_absolute_error: 0.3759 - mean_squared_error: 0.267 - ETA: 4:00 - loss: 1538058.6692 - psnr: 5.8458 - total_variation: 1010934.8750 - ssim_multiscale: 0.5589 - sharpdiff: 1.0864 - mean_absolute_error: 0.3759 - mean_squared_error: 0.267 - ETA: 4:00 - loss: 1535824.1876 - psnr: 5.8431 - total_variation: 1011932.0625 - ssim_multiscale: 0.5590 - sharpdiff: 1.0819 - mean_absolute_error: 0.3761 - mean_squared_error: 0.267 - ETA: 3:59 - loss: 1533940.0581 - psnr: 5.8383 - total_variation: 1013254.2500 - ssim_multiscale: 0.5591 - sharpdiff: 1.0760 - mean_absolute_error: 0.3764 - mean_squared_error: 0.267 - ETA: 3:59 - loss: 1531272.3224 - psnr: 5.8362 - total_variation: 1013622.7500 - ssim_multiscale: 0.5591 - sharpdiff: 1.0745 - mean_absolute_error: 0.3765 - mean_squared_error: 0.267 - ETA: 3:59 - loss: 1528356.4595 - psnr: 5.8345 - total_variation: 1014450.6250 - ssim_multiscale: 0.5592 - sharpdiff: 1.0706 - mean_absolute_error: 0.3766 - mean_squared_error: 0.267 - ETA: 3:58 - loss: 1525397.0797 - psnr: 5.8340 - total_variation: 1014774.1250 - ssim_multiscale: 0.5592 - sharpdiff: 1.0691 - mean_absolute_error: 0.3767 - mean_squared_error: 0.267 - ETA: 3:58 - loss: 1521407.3604 - psnr: 5.8359 - total_variation: 1014748.6875 - ssim_multiscale: 0.5593 - sharpdiff: 1.0688 - mean_absolute_error: 0.3766 - mean_squared_error: 0.267 - ETA: 3:57 - loss: 1517963.9849 - psnr: 5.8383 - total_variation: 1014523.0000 - ssim_multiscale: 0.5589 - sharpdiff: 1.0698 - mean_absolute_error: 0.3764 - mean_squared_error: 0.267 - ETA: 3:57 - loss: 1514168.1922 - psnr: 5.8388 - total_variation: 1014976.7500 - ssim_multiscale: 0.5592 - sharpdiff: 1.0674 - mean_absolute_error: 0.3764 - mean_squared_error: 0.267 - ETA: 3:56 - loss: 1510947.1016 - psnr: 5.8390 - total_variation: 1015258.9375 - ssim_multiscale: 0.5593 - sharpdiff: 1.0660 - mean_absolute_error: 0.3764 - mean_squared_error: 0.267 - ETA: 3:56 - loss: 1509045.0493 - psnr: 5.8367 - total_variation: 1016090.3125 - ssim_multiscale: 0.5594 - sharpdiff: 1.0624 - mean_absolute_error: 0.3766 - mean_squared_error: 0.267 - ETA: 3:55 - loss: 1506662.2782 - psnr: 5.8348 - total_variation: 1017000.8125 - ssim_multiscale: 0.5590 - sharpdiff: 1.0580 - mean_absolute_error: 0.3767 - mean_squared_error: 0.267 - ETA: 3:55 - loss: 1503174.5629 - psnr: 5.8347 - total_variation: 1017502.8750 - ssim_multiscale: 0.5590 - sharpdiff: 1.0555 - mean_absolute_error: 0.3767 - mean_squared_error: 0.267 - ETA: 3:54 - loss: 1499992.0913 - psnr: 5.8368 - total_variation: 1016719.1875 - ssim_multiscale: 0.5585 - sharpdiff: 1.0595 - mean_absolute_error: 0.3766 - mean_squared_error: 0.267 - ETA: 3:54 - loss: 1497003.1556 - psnr: 5.8396 - total_variation: 1016182.3125 - ssim_multiscale: 0.5587 - sharpdiff: 1.0623 - mean_absolute_error: 0.3764 - mean_squared_error: 0.267 - ETA: 3:54 - loss: 1494540.6059 - psnr: 5.8364 - total_variation: 1017370.6250 - ssim_multiscale: 0.5591 - sharpdiff: 1.0569 - mean_absolute_error: 0.3767 - mean_squared_error: 0.267 - ETA: 3:53 - loss: 1490926.9917 - psnr: 5.8352 - total_variation: 1018044.4375 - ssim_multiscale: 0.5589 - sharpdiff: 1.0536 - mean_absolute_error: 0.3767 - mean_squared_error: 0.267 - ETA: 3:53 - loss: 1487540.5751 - psnr: 5.8324 - total_variation: 1019104.6875 - ssim_multiscale: 0.5589 - sharpdiff: 1.0487 - mean_absolute_error: 0.3769 - mean_squared_error: 0.268 - ETA: 3:52 - loss: 1485087.3801 - psnr: 5.8300 - total_variation: 1020095.6250 - ssim_multiscale: 0.5587 - sharpdiff: 1.0442 - mean_absolute_error: 0.3770 - mean_squared_error: 0.2681"
     ]
    },
    {
     "name": "stdout",
     "output_type": "stream",
     "text": [
      " 270/1000 [=======>......................] - ETA: 3:52 - loss: 1481615.2227 - psnr: 5.8289 - total_variation: 1020868.9375 - ssim_multiscale: 0.5589 - sharpdiff: 1.0406 - mean_absolute_error: 0.3771 - mean_squared_error: 0.268 - ETA: 3:51 - loss: 1477721.4128 - psnr: 5.8316 - total_variation: 1020428.1250 - ssim_multiscale: 0.5590 - sharpdiff: 1.0427 - mean_absolute_error: 0.3770 - mean_squared_error: 0.268 - ETA: 3:51 - loss: 1474487.5456 - psnr: 5.8311 - total_variation: 1020574.1875 - ssim_multiscale: 0.5592 - sharpdiff: 1.0423 - mean_absolute_error: 0.3770 - mean_squared_error: 0.268 - ETA: 3:51 - loss: 1471038.4496 - psnr: 5.8334 - total_variation: 1020089.4375 - ssim_multiscale: 0.5592 - sharpdiff: 1.0449 - mean_absolute_error: 0.3769 - mean_squared_error: 0.267 - ETA: 3:50 - loss: 1468090.1376 - psnr: 5.8330 - total_variation: 1020265.9375 - ssim_multiscale: 0.5589 - sharpdiff: 1.0438 - mean_absolute_error: 0.3769 - mean_squared_error: 0.267 - ETA: 3:50 - loss: 1465200.8453 - psnr: 5.8322 - total_variation: 1020865.5000 - ssim_multiscale: 0.5594 - sharpdiff: 1.0412 - mean_absolute_error: 0.3770 - mean_squared_error: 0.268 - ETA: 3:49 - loss: 1461586.6216 - psnr: 5.8324 - total_variation: 1020550.2500 - ssim_multiscale: 0.5597 - sharpdiff: 1.0422 - mean_absolute_error: 0.3769 - mean_squared_error: 0.268 - ETA: 3:49 - loss: 1458574.7211 - psnr: 5.8315 - total_variation: 1021185.4375 - ssim_multiscale: 0.5595 - sharpdiff: 1.0395 - mean_absolute_error: 0.3770 - mean_squared_error: 0.268 - ETA: 3:48 - loss: 1455198.4432 - psnr: 5.8303 - total_variation: 1021880.8125 - ssim_multiscale: 0.5595 - sharpdiff: 1.0363 - mean_absolute_error: 0.3771 - mean_squared_error: 0.268 - ETA: 3:48 - loss: 1451492.1485 - psnr: 5.8300 - total_variation: 1022099.5000 - ssim_multiscale: 0.5595 - sharpdiff: 1.0354 - mean_absolute_error: 0.3771 - mean_squared_error: 0.268 - ETA: 3:48 - loss: 1447743.4961 - psnr: 5.8288 - total_variation: 1022587.0000 - ssim_multiscale: 0.5596 - sharpdiff: 1.0333 - mean_absolute_error: 0.3772 - mean_squared_error: 0.268 - ETA: 3:47 - loss: 1445425.1583 - psnr: 5.8258 - total_variation: 1023393.1250 - ssim_multiscale: 0.5601 - sharpdiff: 1.0300 - mean_absolute_error: 0.3774 - mean_squared_error: 0.268 - ETA: 3:47 - loss: 1441642.7790 - psnr: 5.8261 - total_variation: 1023620.3125 - ssim_multiscale: 0.5599 - sharpdiff: 1.0288 - mean_absolute_error: 0.3773 - mean_squared_error: 0.268 - ETA: 3:46 - loss: 1437694.3242 - psnr: 5.8267 - total_variation: 1023964.0625 - ssim_multiscale: 0.5598 - sharpdiff: 1.0270 - mean_absolute_error: 0.3773 - mean_squared_error: 0.268 - ETA: 3:46 - loss: 1435938.8687 - psnr: 5.8236 - total_variation: 1024891.9375 - ssim_multiscale: 0.5597 - sharpdiff: 1.0229 - mean_absolute_error: 0.3775 - mean_squared_error: 0.268 - ETA: 3:46 - loss: 1432378.4198 - psnr: 5.8237 - total_variation: 1024858.9375 - ssim_multiscale: 0.5600 - sharpdiff: 1.0228 - mean_absolute_error: 0.3775 - mean_squared_error: 0.268 - ETA: 3:45 - loss: 1428746.5539 - psnr: 5.8241 - total_variation: 1025178.9375 - ssim_multiscale: 0.5602 - sharpdiff: 1.0212 - mean_absolute_error: 0.3775 - mean_squared_error: 0.268 - ETA: 3:45 - loss: 1424960.1549 - psnr: 5.8239 - total_variation: 1025704.3750 - ssim_multiscale: 0.5601 - sharpdiff: 1.0187 - mean_absolute_error: 0.3775 - mean_squared_error: 0.268 - ETA: 3:44 - loss: 1421273.1138 - psnr: 5.8232 - total_variation: 1026218.3750 - ssim_multiscale: 0.5605 - sharpdiff: 1.0163 - mean_absolute_error: 0.3776 - mean_squared_error: 0.268 - ETA: 3:44 - loss: 1417995.1600 - psnr: 5.8225 - total_variation: 1026648.8125 - ssim_multiscale: 0.5607 - sharpdiff: 1.0144 - mean_absolute_error: 0.3776 - mean_squared_error: 0.268 - ETA: 3:43 - loss: 1415293.6357 - psnr: 5.8228 - total_variation: 1026487.0000 - ssim_multiscale: 0.5600 - sharpdiff: 1.0155 - mean_absolute_error: 0.3776 - mean_squared_error: 0.268 - ETA: 3:43 - loss: 1412032.9138 - psnr: 5.8215 - total_variation: 1027233.0000 - ssim_multiscale: 0.5601 - sharpdiff: 1.0121 - mean_absolute_error: 0.3777 - mean_squared_error: 0.268 - ETA: 3:43 - loss: 1408328.1780 - psnr: 5.8196 - total_variation: 1027043.3125 - ssim_multiscale: 0.5601 - sharpdiff: 1.0129 - mean_absolute_error: 0.3778 - mean_squared_error: 0.268 - ETA: 3:42 - loss: 1404646.7157 - psnr: 5.8192 - total_variation: 1027636.6250 - ssim_multiscale: 0.5602 - sharpdiff: 1.0100 - mean_absolute_error: 0.3779 - mean_squared_error: 0.268 - ETA: 3:42 - loss: 1400778.2264 - psnr: 5.8215 - total_variation: 1027464.9375 - ssim_multiscale: 0.5602 - sharpdiff: 1.0107 - mean_absolute_error: 0.3777 - mean_squared_error: 0.268 - ETA: 3:41 - loss: 1397347.1727 - psnr: 5.8194 - total_variation: 1028434.3750 - ssim_multiscale: 0.5604 - sharpdiff: 1.0064 - mean_absolute_error: 0.3779 - mean_squared_error: 0.268 - ETA: 3:41 - loss: 1393986.6339 - psnr: 5.8179 - total_variation: 1029223.8125 - ssim_multiscale: 0.5601 - sharpdiff: 1.0029 - mean_absolute_error: 0.3780 - mean_squared_error: 0.268 - ETA: 3:41 - loss: 1391031.6269 - psnr: 5.8161 - total_variation: 1030058.1250 - ssim_multiscale: 0.5600 - sharpdiff: 0.9992 - mean_absolute_error: 0.3781 - mean_squared_error: 0.268 - ETA: 3:40 - loss: 1387941.5688 - psnr: 5.8145 - total_variation: 1030846.9375 - ssim_multiscale: 0.5603 - sharpdiff: 0.9958 - mean_absolute_error: 0.3782 - mean_squared_error: 0.269 - ETA: 3:40 - loss: 1384172.3301 - psnr: 5.8158 - total_variation: 1030686.5625 - ssim_multiscale: 0.5603 - sharpdiff: 0.9962 - mean_absolute_error: 0.3782 - mean_squared_error: 0.268 - ETA: 3:40 - loss: 1380874.5556 - psnr: 5.8157 - total_variation: 1031161.1250 - ssim_multiscale: 0.5607 - sharpdiff: 0.9943 - mean_absolute_error: 0.3782 - mean_squared_error: 0.268 - ETA: 3:39 - loss: 1377328.0632 - psnr: 5.8146 - total_variation: 1031774.0625 - ssim_multiscale: 0.5606 - sharpdiff: 0.9916 - mean_absolute_error: 0.3783 - mean_squared_error: 0.269 - ETA: 3:39 - loss: 1374997.0254 - psnr: 5.8108 - total_variation: 1032597.7500 - ssim_multiscale: 0.5608 - sharpdiff: 0.9879 - mean_absolute_error: 0.3786 - mean_squared_error: 0.269 - ETA: 3:38 - loss: 1370957.0960 - psnr: 5.8091 - total_variation: 1033268.8125 - ssim_multiscale: 0.5609 - sharpdiff: 0.9847 - mean_absolute_error: 0.3787 - mean_squared_error: 0.269 - ETA: 3:38 - loss: 1367368.9686 - psnr: 5.8113 - total_variation: 1033345.8750 - ssim_multiscale: 0.5611 - sharpdiff: 0.9845 - mean_absolute_error: 0.3786 - mean_squared_error: 0.269 - ETA: 3:38 - loss: 1363432.8548 - psnr: 5.8142 - total_variation: 1033140.9375 - ssim_multiscale: 0.5612 - sharpdiff: 0.9856 - mean_absolute_error: 0.3785 - mean_squared_error: 0.269 - ETA: 3:37 - loss: 1359924.9203 - psnr: 5.8140 - total_variation: 1033462.6250 - ssim_multiscale: 0.5609 - sharpdiff: 0.9840 - mean_absolute_error: 0.3785 - mean_squared_error: 0.269 - ETA: 3:37 - loss: 1356310.1590 - psnr: 5.8152 - total_variation: 1033242.6250 - ssim_multiscale: 0.5609 - sharpdiff: 0.9849 - mean_absolute_error: 0.3785 - mean_squared_error: 0.268 - ETA: 3:36 - loss: 1352391.5943 - psnr: 5.8144 - total_variation: 1033893.6875 - ssim_multiscale: 0.5613 - sharpdiff: 0.9819 - mean_absolute_error: 0.3785 - mean_squared_error: 0.269 - ETA: 3:36 - loss: 1348502.7590 - psnr: 5.8145 - total_variation: 1034101.0000 - ssim_multiscale: 0.5611 - sharpdiff: 0.9808 - mean_absolute_error: 0.3785 - mean_squared_error: 0.269 - ETA: 3:36 - loss: 1344591.4029 - psnr: 5.8143 - total_variation: 1034660.5625 - ssim_multiscale: 0.5611 - sharpdiff: 0.9783 - mean_absolute_error: 0.3786 - mean_squared_error: 0.269 - ETA: 3:35 - loss: 1343325.5444 - psnr: 5.8091 - total_variation: 1035462.2500 - ssim_multiscale: 0.5607 - sharpdiff: 0.9747 - mean_absolute_error: 0.3789 - mean_squared_error: 0.269 - ETA: 3:35 - loss: 1339252.5211 - psnr: 5.8079 - total_variation: 1036134.4375 - ssim_multiscale: 0.5610 - sharpdiff: 0.9716 - mean_absolute_error: 0.3790 - mean_squared_error: 0.269 - ETA: 3:34 - loss: 1335206.4290 - psnr: 5.8075 - total_variation: 1036778.3750 - ssim_multiscale: 0.5609 - sharpdiff: 0.9686 - mean_absolute_error: 0.3791 - mean_squared_error: 0.269 - ETA: 3:34 - loss: 1332000.7139 - psnr: 5.8044 - total_variation: 1037585.4375 - ssim_multiscale: 0.5611 - sharpdiff: 0.9649 - mean_absolute_error: 0.3793 - mean_squared_error: 0.2696"
     ]
    },
    {
     "name": "stdout",
     "output_type": "stream",
     "text": [
      " 315/1000 [========>.....................] - ETA: 3:34 - loss: 1328512.9640 - psnr: 5.8021 - total_variation: 1038503.5625 - ssim_multiscale: 0.5608 - sharpdiff: 0.9609 - mean_absolute_error: 0.3794 - mean_squared_error: 0.269 - ETA: 3:33 - loss: 1325496.1089 - psnr: 5.7988 - total_variation: 1039402.9375 - ssim_multiscale: 0.5611 - sharpdiff: 0.9569 - mean_absolute_error: 0.3797 - mean_squared_error: 0.269 - ETA: 3:33 - loss: 1321727.1570 - psnr: 5.7950 - total_variation: 1040308.6250 - ssim_multiscale: 0.5613 - sharpdiff: 0.9528 - mean_absolute_error: 0.3799 - mean_squared_error: 0.270 - ETA: 3:33 - loss: 1318265.4157 - psnr: 5.7917 - total_variation: 1041203.2500 - ssim_multiscale: 0.5614 - sharpdiff: 0.9488 - mean_absolute_error: 0.3801 - mean_squared_error: 0.270 - ETA: 3:32 - loss: 1314609.1360 - psnr: 5.7919 - total_variation: 1041524.1250 - ssim_multiscale: 0.5614 - sharpdiff: 0.9471 - mean_absolute_error: 0.3801 - mean_squared_error: 0.270 - ETA: 3:32 - loss: 1311396.7114 - psnr: 5.7882 - total_variation: 1042411.6875 - ssim_multiscale: 0.5614 - sharpdiff: 0.9432 - mean_absolute_error: 0.3804 - mean_squared_error: 0.270 - ETA: 3:31 - loss: 1307865.8620 - psnr: 5.7854 - total_variation: 1043333.5625 - ssim_multiscale: 0.5618 - sharpdiff: 0.9391 - mean_absolute_error: 0.3805 - mean_squared_error: 0.270 - ETA: 3:31 - loss: 1305477.4063 - psnr: 5.7813 - total_variation: 1044170.0000 - ssim_multiscale: 0.5617 - sharpdiff: 0.9354 - mean_absolute_error: 0.3808 - mean_squared_error: 0.271 - ETA: 3:31 - loss: 1302762.3780 - psnr: 5.7774 - total_variation: 1044937.0625 - ssim_multiscale: 0.5617 - sharpdiff: 0.9320 - mean_absolute_error: 0.3811 - mean_squared_error: 0.271 - ETA: 3:30 - loss: 1298909.2349 - psnr: 5.7752 - total_variation: 1045731.4375 - ssim_multiscale: 0.5619 - sharpdiff: 0.9284 - mean_absolute_error: 0.3812 - mean_squared_error: 0.271 - ETA: 3:30 - loss: 1295283.5963 - psnr: 5.7775 - total_variation: 1045349.4375 - ssim_multiscale: 0.5619 - sharpdiff: 0.9301 - mean_absolute_error: 0.3811 - mean_squared_error: 0.271 - ETA: 3:30 - loss: 1291746.0848 - psnr: 5.7752 - total_variation: 1046202.3125 - ssim_multiscale: 0.5622 - sharpdiff: 0.9264 - mean_absolute_error: 0.3812 - mean_squared_error: 0.271 - ETA: 3:29 - loss: 1288426.4409 - psnr: 5.7708 - total_variation: 1047065.6875 - ssim_multiscale: 0.5623 - sharpdiff: 0.9225 - mean_absolute_error: 0.3815 - mean_squared_error: 0.271 - ETA: 3:29 - loss: 1284105.4944 - psnr: 5.7718 - total_variation: 1047031.3125 - ssim_multiscale: 0.5623 - sharpdiff: 0.9223 - mean_absolute_error: 0.3815 - mean_squared_error: 0.271 - ETA: 3:29 - loss: 1280396.1472 - psnr: 5.7691 - total_variation: 1047895.5625 - ssim_multiscale: 0.5621 - sharpdiff: 0.9186 - mean_absolute_error: 0.3816 - mean_squared_error: 0.271 - ETA: 3:28 - loss: 1276873.7564 - psnr: 5.7660 - total_variation: 1048756.7500 - ssim_multiscale: 0.5620 - sharpdiff: 0.9149 - mean_absolute_error: 0.3818 - mean_squared_error: 0.271 - ETA: 3:28 - loss: 1273385.2331 - psnr: 5.7634 - total_variation: 1049556.1250 - ssim_multiscale: 0.5621 - sharpdiff: 0.9115 - mean_absolute_error: 0.3820 - mean_squared_error: 0.272 - ETA: 3:27 - loss: 1269440.1592 - psnr: 5.7616 - total_variation: 1050392.5000 - ssim_multiscale: 0.5625 - sharpdiff: 0.9079 - mean_absolute_error: 0.3821 - mean_squared_error: 0.272 - ETA: 3:27 - loss: 1267616.5407 - psnr: 5.7568 - total_variation: 1051090.7500 - ssim_multiscale: 0.5625 - sharpdiff: 0.9046 - mean_absolute_error: 0.3824 - mean_squared_error: 0.272 - ETA: 3:27 - loss: 1263489.6498 - psnr: 5.7551 - total_variation: 1051824.3750 - ssim_multiscale: 0.5624 - sharpdiff: 0.9013 - mean_absolute_error: 0.3826 - mean_squared_error: 0.272 - ETA: 3:26 - loss: 1260437.6549 - psnr: 5.7510 - total_variation: 1052608.5000 - ssim_multiscale: 0.5625 - sharpdiff: 0.8978 - mean_absolute_error: 0.3828 - mean_squared_error: 0.272 - ETA: 3:26 - loss: 1257088.1237 - psnr: 5.7477 - total_variation: 1053420.6250 - ssim_multiscale: 0.5625 - sharpdiff: 0.8942 - mean_absolute_error: 0.3830 - mean_squared_error: 0.273 - ETA: 3:26 - loss: 1253638.1971 - psnr: 5.7447 - total_variation: 1054323.3750 - ssim_multiscale: 0.5625 - sharpdiff: 0.8903 - mean_absolute_error: 0.3832 - mean_squared_error: 0.273 - ETA: 3:25 - loss: 1250097.5327 - psnr: 5.7476 - total_variation: 1054089.8750 - ssim_multiscale: 0.5627 - sharpdiff: 0.8912 - mean_absolute_error: 0.3831 - mean_squared_error: 0.273 - ETA: 3:25 - loss: 1247650.6730 - psnr: 5.7435 - total_variation: 1054817.1250 - ssim_multiscale: 0.5625 - sharpdiff: 0.8881 - mean_absolute_error: 0.3834 - mean_squared_error: 0.273 - ETA: 3:25 - loss: 1244182.5246 - psnr: 5.7401 - total_variation: 1055599.0000 - ssim_multiscale: 0.5625 - sharpdiff: 0.8846 - mean_absolute_error: 0.3836 - mean_squared_error: 0.273 - ETA: 3:24 - loss: 1241390.2567 - psnr: 5.7367 - total_variation: 1056372.0000 - ssim_multiscale: 0.5626 - sharpdiff: 0.8812 - mean_absolute_error: 0.3838 - mean_squared_error: 0.273 - ETA: 3:24 - loss: 1237673.4128 - psnr: 5.7371 - total_variation: 1056587.8750 - ssim_multiscale: 0.5628 - sharpdiff: 0.8800 - mean_absolute_error: 0.3838 - mean_squared_error: 0.273 - ETA: 3:24 - loss: 1233772.4955 - psnr: 5.7362 - total_variation: 1057212.1250 - ssim_multiscale: 0.5629 - sharpdiff: 0.8772 - mean_absolute_error: 0.3839 - mean_squared_error: 0.273 - ETA: 3:23 - loss: 1230293.5351 - psnr: 5.7394 - total_variation: 1056472.1250 - ssim_multiscale: 0.5630 - sharpdiff: 0.8810 - mean_absolute_error: 0.3837 - mean_squared_error: 0.273 - ETA: 3:23 - loss: 1227273.1767 - psnr: 5.7367 - total_variation: 1057095.8750 - ssim_multiscale: 0.5629 - sharpdiff: 0.8782 - mean_absolute_error: 0.3839 - mean_squared_error: 0.273 - ETA: 3:22 - loss: 1223694.4592 - psnr: 5.7353 - total_variation: 1057832.7500 - ssim_multiscale: 0.5636 - sharpdiff: 0.8750 - mean_absolute_error: 0.3840 - mean_squared_error: 0.273 - ETA: 3:22 - loss: 1221163.6484 - psnr: 5.7322 - total_variation: 1058578.1250 - ssim_multiscale: 0.5642 - sharpdiff: 0.8716 - mean_absolute_error: 0.3842 - mean_squared_error: 0.274 - ETA: 3:22 - loss: 1218456.6027 - psnr: 5.7287 - total_variation: 1059329.7500 - ssim_multiscale: 0.5643 - sharpdiff: 0.8683 - mean_absolute_error: 0.3845 - mean_squared_error: 0.274 - ETA: 3:21 - loss: 1215279.5042 - psnr: 5.7298 - total_variation: 1059411.1250 - ssim_multiscale: 0.5640 - sharpdiff: 0.8683 - mean_absolute_error: 0.3845 - mean_squared_error: 0.274 - ETA: 3:21 - loss: 1212085.8330 - psnr: 5.7272 - total_variation: 1060254.3750 - ssim_multiscale: 0.5637 - sharpdiff: 0.8647 - mean_absolute_error: 0.3846 - mean_squared_error: 0.274 - ETA: 3:21 - loss: 1209304.3404 - psnr: 5.7248 - total_variation: 1061006.6250 - ssim_multiscale: 0.5641 - sharpdiff: 0.8614 - mean_absolute_error: 0.3848 - mean_squared_error: 0.274 - ETA: 3:20 - loss: 1205961.4683 - psnr: 5.7225 - total_variation: 1061789.8750 - ssim_multiscale: 0.5643 - sharpdiff: 0.8580 - mean_absolute_error: 0.3850 - mean_squared_error: 0.274 - ETA: 3:20 - loss: 1202540.2272 - psnr: 5.7190 - total_variation: 1062607.1250 - ssim_multiscale: 0.5644 - sharpdiff: 0.8544 - mean_absolute_error: 0.3852 - mean_squared_error: 0.274 - ETA: 3:20 - loss: 1199035.2547 - psnr: 5.7202 - total_variation: 1062757.8750 - ssim_multiscale: 0.5644 - sharpdiff: 0.8539 - mean_absolute_error: 0.3852 - mean_squared_error: 0.274 - ETA: 3:19 - loss: 1195400.7565 - psnr: 5.7221 - total_variation: 1062843.6250 - ssim_multiscale: 0.5644 - sharpdiff: 0.8534 - mean_absolute_error: 0.3851 - mean_squared_error: 0.274 - ETA: 3:19 - loss: 1191802.0143 - psnr: 5.7234 - total_variation: 1063169.2500 - ssim_multiscale: 0.5644 - sharpdiff: 0.8518 - mean_absolute_error: 0.3851 - mean_squared_error: 0.274 - ETA: 3:19 - loss: 1188728.3256 - psnr: 5.7203 - total_variation: 1063904.1250 - ssim_multiscale: 0.5642 - sharpdiff: 0.8486 - mean_absolute_error: 0.3853 - mean_squared_error: 0.274 - ETA: 3:18 - loss: 1185412.3376 - psnr: 5.7201 - total_variation: 1064373.7500 - ssim_multiscale: 0.5644 - sharpdiff: 0.8464 - mean_absolute_error: 0.3853 - mean_squared_error: 0.274 - ETA: 3:18 - loss: 1181792.9376 - psnr: 5.7195 - total_variation: 1064935.2500 - ssim_multiscale: 0.5646 - sharpdiff: 0.8438 - mean_absolute_error: 0.3854 - mean_squared_error: 0.2748"
     ]
    },
    {
     "name": "stdout",
     "output_type": "stream",
     "text": [
      " 360/1000 [=========>....................] - ETA: 3:18 - loss: 1178604.3409 - psnr: 5.7167 - total_variation: 1065668.8750 - ssim_multiscale: 0.5649 - sharpdiff: 0.8406 - mean_absolute_error: 0.3855 - mean_squared_error: 0.275 - ETA: 3:17 - loss: 1177088.7342 - psnr: 5.7132 - total_variation: 1066193.6250 - ssim_multiscale: 0.5651 - sharpdiff: 0.8383 - mean_absolute_error: 0.3858 - mean_squared_error: 0.275 - ETA: 3:17 - loss: 1174438.8295 - psnr: 5.7092 - total_variation: 1066879.1250 - ssim_multiscale: 0.5655 - sharpdiff: 0.8352 - mean_absolute_error: 0.3861 - mean_squared_error: 0.275 - ETA: 3:16 - loss: 1172830.9474 - psnr: 5.7059 - total_variation: 1067489.2500 - ssim_multiscale: 0.5658 - sharpdiff: 0.8324 - mean_absolute_error: 0.3863 - mean_squared_error: 0.275 - ETA: 3:16 - loss: 1169308.4729 - psnr: 5.7070 - total_variation: 1067632.2500 - ssim_multiscale: 0.5657 - sharpdiff: 0.8314 - mean_absolute_error: 0.3862 - mean_squared_error: 0.275 - ETA: 3:16 - loss: 1167278.5866 - psnr: 5.7029 - total_variation: 1068283.1250 - ssim_multiscale: 0.5657 - sharpdiff: 0.8285 - mean_absolute_error: 0.3865 - mean_squared_error: 0.275 - ETA: 3:15 - loss: 1163736.7294 - psnr: 5.7033 - total_variation: 1068584.0000 - ssim_multiscale: 0.5660 - sharpdiff: 0.8271 - mean_absolute_error: 0.3865 - mean_squared_error: 0.275 - ETA: 3:15 - loss: 1160266.0060 - psnr: 5.7053 - total_variation: 1068315.5000 - ssim_multiscale: 0.5660 - sharpdiff: 0.8282 - mean_absolute_error: 0.3864 - mean_squared_error: 0.275 - ETA: 3:15 - loss: 1156853.0988 - psnr: 5.7073 - total_variation: 1068133.2500 - ssim_multiscale: 0.5660 - sharpdiff: 0.8289 - mean_absolute_error: 0.3863 - mean_squared_error: 0.275 - ETA: 3:14 - loss: 1153880.1082 - psnr: 5.7049 - total_variation: 1068818.7500 - ssim_multiscale: 0.5661 - sharpdiff: 0.8260 - mean_absolute_error: 0.3865 - mean_squared_error: 0.275 - ETA: 3:14 - loss: 1151031.0045 - psnr: 5.7012 - total_variation: 1069508.6250 - ssim_multiscale: 0.5660 - sharpdiff: 0.8229 - mean_absolute_error: 0.3867 - mean_squared_error: 0.276 - ETA: 3:14 - loss: 1147251.8251 - psnr: 5.6987 - total_variation: 1070193.8750 - ssim_multiscale: 0.5664 - sharpdiff: 0.8199 - mean_absolute_error: 0.3869 - mean_squared_error: 0.276 - ETA: 3:13 - loss: 1144270.8402 - psnr: 5.6954 - total_variation: 1070840.3750 - ssim_multiscale: 0.5666 - sharpdiff: 0.8171 - mean_absolute_error: 0.3871 - mean_squared_error: 0.276 - ETA: 3:13 - loss: 1141210.5542 - psnr: 5.6924 - total_variation: 1071357.7500 - ssim_multiscale: 0.5665 - sharpdiff: 0.8149 - mean_absolute_error: 0.3873 - mean_squared_error: 0.276 - ETA: 3:13 - loss: 1138762.2420 - psnr: 5.6886 - total_variation: 1071978.0000 - ssim_multiscale: 0.5666 - sharpdiff: 0.8122 - mean_absolute_error: 0.3876 - mean_squared_error: 0.276 - ETA: 3:12 - loss: 1135180.8203 - psnr: 5.6901 - total_variation: 1071966.8750 - ssim_multiscale: 0.5669 - sharpdiff: 0.8121 - mean_absolute_error: 0.3875 - mean_squared_error: 0.276 - ETA: 3:12 - loss: 1132262.0274 - psnr: 5.6865 - total_variation: 1072542.2500 - ssim_multiscale: 0.5671 - sharpdiff: 0.8094 - mean_absolute_error: 0.3877 - mean_squared_error: 0.277 - ETA: 3:12 - loss: 1129956.3844 - psnr: 5.6837 - total_variation: 1073207.7500 - ssim_multiscale: 0.5675 - sharpdiff: 0.8065 - mean_absolute_error: 0.3879 - mean_squared_error: 0.277 - ETA: 3:11 - loss: 1127281.1563 - psnr: 5.6803 - total_variation: 1073792.6250 - ssim_multiscale: 0.5674 - sharpdiff: 0.8040 - mean_absolute_error: 0.3881 - mean_squared_error: 0.277 - ETA: 3:11 - loss: 1123746.6528 - psnr: 5.6791 - total_variation: 1074360.2500 - ssim_multiscale: 0.5678 - sharpdiff: 0.8014 - mean_absolute_error: 0.3882 - mean_squared_error: 0.277 - ETA: 3:11 - loss: 1120106.5997 - psnr: 5.6782 - total_variation: 1074838.8750 - ssim_multiscale: 0.5681 - sharpdiff: 0.7992 - mean_absolute_error: 0.3883 - mean_squared_error: 0.277 - ETA: 3:10 - loss: 1116642.4511 - psnr: 5.6774 - total_variation: 1075496.8750 - ssim_multiscale: 0.5683 - sharpdiff: 0.7964 - mean_absolute_error: 0.3884 - mean_squared_error: 0.277 - ETA: 3:10 - loss: 1114425.1980 - psnr: 5.6731 - total_variation: 1076103.2500 - ssim_multiscale: 0.5685 - sharpdiff: 0.7937 - mean_absolute_error: 0.3886 - mean_squared_error: 0.277 - ETA: 3:10 - loss: 1110711.6146 - psnr: 5.6736 - total_variation: 1076409.6250 - ssim_multiscale: 0.5686 - sharpdiff: 0.7923 - mean_absolute_error: 0.3887 - mean_squared_error: 0.277 - ETA: 3:09 - loss: 1107274.9395 - psnr: 5.6724 - total_variation: 1077033.0000 - ssim_multiscale: 0.5686 - sharpdiff: 0.7896 - mean_absolute_error: 0.3887 - mean_squared_error: 0.277 - ETA: 3:09 - loss: 1103893.2329 - psnr: 5.6698 - total_variation: 1077768.8750 - ssim_multiscale: 0.5688 - sharpdiff: 0.7865 - mean_absolute_error: 0.3889 - mean_squared_error: 0.278 - ETA: 3:09 - loss: 1100207.1607 - psnr: 5.6694 - total_variation: 1078207.2500 - ssim_multiscale: 0.5691 - sharpdiff: 0.7847 - mean_absolute_error: 0.3890 - mean_squared_error: 0.278 - ETA: 3:09 - loss: 1096858.4565 - psnr: 5.6685 - total_variation: 1078777.0000 - ssim_multiscale: 0.5694 - sharpdiff: 0.7821 - mean_absolute_error: 0.3890 - mean_squared_error: 0.278 - ETA: 3:08 - loss: 1094277.4826 - psnr: 5.6660 - total_variation: 1079405.7500 - ssim_multiscale: 0.5696 - sharpdiff: 0.7794 - mean_absolute_error: 0.3892 - mean_squared_error: 0.278 - ETA: 3:08 - loss: 1091099.0437 - psnr: 5.6634 - total_variation: 1080021.8750 - ssim_multiscale: 0.5698 - sharpdiff: 0.7767 - mean_absolute_error: 0.3894 - mean_squared_error: 0.278 - ETA: 3:08 - loss: 1088025.7002 - psnr: 5.6676 - total_variation: 1079267.1250 - ssim_multiscale: 0.5698 - sharpdiff: 0.7800 - mean_absolute_error: 0.3891 - mean_squared_error: 0.278 - ETA: 3:07 - loss: 1084483.3342 - psnr: 5.6681 - total_variation: 1079502.6250 - ssim_multiscale: 0.5703 - sharpdiff: 0.7788 - mean_absolute_error: 0.3891 - mean_squared_error: 0.278 - ETA: 3:07 - loss: 1081823.9140 - psnr: 5.6652 - total_variation: 1080088.8750 - ssim_multiscale: 0.5704 - sharpdiff: 0.7762 - mean_absolute_error: 0.3893 - mean_squared_error: 0.278 - ETA: 3:07 - loss: 1078498.3465 - psnr: 5.6638 - total_variation: 1080604.7500 - ssim_multiscale: 0.5707 - sharpdiff: 0.7739 - mean_absolute_error: 0.3894 - mean_squared_error: 0.278 - ETA: 3:06 - loss: 1075369.1909 - psnr: 5.6612 - total_variation: 1081218.6250 - ssim_multiscale: 0.5709 - sharpdiff: 0.7713 - mean_absolute_error: 0.3896 - mean_squared_error: 0.278 - ETA: 3:06 - loss: 1072239.8028 - psnr: 5.6602 - total_variation: 1081790.8750 - ssim_multiscale: 0.5707 - sharpdiff: 0.7688 - mean_absolute_error: 0.3897 - mean_squared_error: 0.278 - ETA: 3:06 - loss: 1069363.4992 - psnr: 5.6577 - total_variation: 1082426.8750 - ssim_multiscale: 0.5712 - sharpdiff: 0.7661 - mean_absolute_error: 0.3898 - mean_squared_error: 0.278 - ETA: 3:05 - loss: 1066179.3664 - psnr: 5.6556 - total_variation: 1083027.7500 - ssim_multiscale: 0.5716 - sharpdiff: 0.7635 - mean_absolute_error: 0.3900 - mean_squared_error: 0.278 - ETA: 3:05 - loss: 1062882.5811 - psnr: 5.6532 - total_variation: 1083613.6250 - ssim_multiscale: 0.5718 - sharpdiff: 0.7611 - mean_absolute_error: 0.3901 - mean_squared_error: 0.279 - ETA: 3:05 - loss: 1060040.4141 - psnr: 5.6507 - total_variation: 1084265.2500 - ssim_multiscale: 0.5719 - sharpdiff: 0.7582 - mean_absolute_error: 0.3903 - mean_squared_error: 0.279 - ETA: 3:04 - loss: 1056732.6222 - psnr: 5.6486 - total_variation: 1084963.8750 - ssim_multiscale: 0.5722 - sharpdiff: 0.7553 - mean_absolute_error: 0.3904 - mean_squared_error: 0.279 - ETA: 3:04 - loss: 1054263.7952 - psnr: 5.6449 - total_variation: 1085522.5000 - ssim_multiscale: 0.5723 - sharpdiff: 0.7528 - mean_absolute_error: 0.3907 - mean_squared_error: 0.279 - ETA: 3:04 - loss: 1051543.8272 - psnr: 5.6492 - total_variation: 1084586.3750 - ssim_multiscale: 0.5725 - sharpdiff: 0.7572 - mean_absolute_error: 0.3905 - mean_squared_error: 0.279 - ETA: 3:03 - loss: 1048815.5803 - psnr: 5.6470 - total_variation: 1085169.0000 - ssim_multiscale: 0.5728 - sharpdiff: 0.7546 - mean_absolute_error: 0.3906 - mean_squared_error: 0.279 - ETA: 3:03 - loss: 1046224.7673 - psnr: 5.6445 - total_variation: 1085773.3750 - ssim_multiscale: 0.5729 - sharpdiff: 0.7521 - mean_absolute_error: 0.3908 - mean_squared_error: 0.2796"
     ]
    },
    {
     "name": "stdout",
     "output_type": "stream",
     "text": [
      " 405/1000 [===========>..................] - ETA: 3:03 - loss: 1043044.8758 - psnr: 5.6431 - total_variation: 1086398.0000 - ssim_multiscale: 0.5733 - sharpdiff: 0.7494 - mean_absolute_error: 0.3909 - mean_squared_error: 0.279 - ETA: 3:02 - loss: 1039935.6484 - psnr: 5.6452 - total_variation: 1086352.1250 - ssim_multiscale: 0.5733 - sharpdiff: 0.7494 - mean_absolute_error: 0.3908 - mean_squared_error: 0.279 - ETA: 3:02 - loss: 1037156.2432 - psnr: 5.6424 - total_variation: 1086934.6250 - ssim_multiscale: 0.5733 - sharpdiff: 0.7469 - mean_absolute_error: 0.3910 - mean_squared_error: 0.279 - ETA: 3:02 - loss: 1034297.7425 - psnr: 5.6397 - total_variation: 1087460.6250 - ssim_multiscale: 0.5733 - sharpdiff: 0.7447 - mean_absolute_error: 0.3911 - mean_squared_error: 0.279 - ETA: 3:01 - loss: 1032098.5746 - psnr: 5.6368 - total_variation: 1088006.8750 - ssim_multiscale: 0.5736 - sharpdiff: 0.7422 - mean_absolute_error: 0.3913 - mean_squared_error: 0.280 - ETA: 3:01 - loss: 1029855.9122 - psnr: 5.6343 - total_variation: 1088535.3750 - ssim_multiscale: 0.5736 - sharpdiff: 0.7400 - mean_absolute_error: 0.3915 - mean_squared_error: 0.280 - ETA: 3:01 - loss: 1026375.1479 - psnr: 5.6329 - total_variation: 1089052.8750 - ssim_multiscale: 0.5739 - sharpdiff: 0.7378 - mean_absolute_error: 0.3916 - mean_squared_error: 0.280 - ETA: 3:00 - loss: 1023242.8848 - psnr: 5.6328 - total_variation: 1089272.1250 - ssim_multiscale: 0.5739 - sharpdiff: 0.7367 - mean_absolute_error: 0.3916 - mean_squared_error: 0.280 - ETA: 3:00 - loss: 1021136.6224 - psnr: 5.6298 - total_variation: 1089795.0000 - ssim_multiscale: 0.5743 - sharpdiff: 0.7345 - mean_absolute_error: 0.3918 - mean_squared_error: 0.280 - ETA: 3:00 - loss: 1019606.2069 - psnr: 5.6266 - total_variation: 1090272.3750 - ssim_multiscale: 0.5740 - sharpdiff: 0.7323 - mean_absolute_error: 0.3920 - mean_squared_error: 0.280 - ETA: 2:59 - loss: 1016195.9833 - psnr: 5.6272 - total_variation: 1090617.7500 - ssim_multiscale: 0.5740 - sharpdiff: 0.7307 - mean_absolute_error: 0.3920 - mean_squared_error: 0.280 - ETA: 2:59 - loss: 1014186.9814 - psnr: 5.6244 - total_variation: 1091124.2500 - ssim_multiscale: 0.5740 - sharpdiff: 0.7284 - mean_absolute_error: 0.3922 - mean_squared_error: 0.280 - ETA: 2:59 - loss: 1011129.2968 - psnr: 5.6232 - total_variation: 1091694.5000 - ssim_multiscale: 0.5741 - sharpdiff: 0.7260 - mean_absolute_error: 0.3923 - mean_squared_error: 0.281 - ETA: 2:59 - loss: 1008168.5940 - psnr: 5.6203 - total_variation: 1092348.1250 - ssim_multiscale: 0.5742 - sharpdiff: 0.7232 - mean_absolute_error: 0.3925 - mean_squared_error: 0.281 - ETA: 2:58 - loss: 1006004.1037 - psnr: 5.6172 - total_variation: 1092871.6250 - ssim_multiscale: 0.5742 - sharpdiff: 0.7208 - mean_absolute_error: 0.3927 - mean_squared_error: 0.281 - ETA: 2:58 - loss: 1002851.3435 - psnr: 5.6166 - total_variation: 1093295.1250 - ssim_multiscale: 0.5745 - sharpdiff: 0.7190 - mean_absolute_error: 0.3927 - mean_squared_error: 0.281 - ETA: 2:58 - loss: 999463.8973 - psnr: 5.6154 - total_variation: 1093783.3750 - ssim_multiscale: 0.5749 - sharpdiff: 0.7168 - mean_absolute_error: 0.3928 - mean_squared_error: 0.281 - ETA: 2:57 - loss: 996277.3924 - psnr: 5.6156 - total_variation: 1094128.6250 - ssim_multiscale: 0.5751 - sharpdiff: 0.7153 - mean_absolute_error: 0.3928 - mean_squared_error: 0.28 - ETA: 2:57 - loss: 994107.5791 - psnr: 5.6124 - total_variation: 1094584.6250 - ssim_multiscale: 0.5753 - sharpdiff: 0.7132 - mean_absolute_error: 0.3931 - mean_squared_error: 0.28 - ETA: 2:57 - loss: 991733.6769 - psnr: 5.6102 - total_variation: 1095077.2500 - ssim_multiscale: 0.5753 - sharpdiff: 0.7111 - mean_absolute_error: 0.3932 - mean_squared_error: 0.28 - ETA: 2:56 - loss: 989004.5746 - psnr: 5.6076 - total_variation: 1095526.6250 - ssim_multiscale: 0.5751 - sharpdiff: 0.7092 - mean_absolute_error: 0.3934 - mean_squared_error: 0.28 - ETA: 2:56 - loss: 985974.5634 - psnr: 5.6094 - total_variation: 1095686.5000 - ssim_multiscale: 0.5756 - sharpdiff: 0.7086 - mean_absolute_error: 0.3933 - mean_squared_error: 0.28 - ETA: 2:56 - loss: 983211.6789 - psnr: 5.6079 - total_variation: 1096308.5000 - ssim_multiscale: 0.5757 - sharpdiff: 0.7059 - mean_absolute_error: 0.3934 - mean_squared_error: 0.28 - ETA: 2:55 - loss: 980893.5960 - psnr: 5.6117 - total_variation: 1095470.3750 - ssim_multiscale: 0.5757 - sharpdiff: 0.7098 - mean_absolute_error: 0.3932 - mean_squared_error: 0.28 - ETA: 2:55 - loss: 978298.3638 - psnr: 5.6095 - total_variation: 1095955.0000 - ssim_multiscale: 0.5758 - sharpdiff: 0.7077 - mean_absolute_error: 0.3934 - mean_squared_error: 0.28 - ETA: 2:55 - loss: 975921.6363 - psnr: 5.6074 - total_variation: 1096469.2500 - ssim_multiscale: 0.5755 - sharpdiff: 0.7055 - mean_absolute_error: 0.3935 - mean_squared_error: 0.28 - ETA: 2:54 - loss: 973125.1424 - psnr: 5.6051 - total_variation: 1096989.8750 - ssim_multiscale: 0.5757 - sharpdiff: 0.7033 - mean_absolute_error: 0.3937 - mean_squared_error: 0.28 - ETA: 2:54 - loss: 970015.6987 - psnr: 5.6037 - total_variation: 1097532.2500 - ssim_multiscale: 0.5757 - sharpdiff: 0.7010 - mean_absolute_error: 0.3937 - mean_squared_error: 0.28 - ETA: 2:54 - loss: 967414.6302 - psnr: 5.6019 - total_variation: 1098020.8750 - ssim_multiscale: 0.5757 - sharpdiff: 0.6989 - mean_absolute_error: 0.3939 - mean_squared_error: 0.28 - ETA: 2:53 - loss: 964549.7416 - psnr: 5.5994 - total_variation: 1098509.7500 - ssim_multiscale: 0.5756 - sharpdiff: 0.6968 - mean_absolute_error: 0.3940 - mean_squared_error: 0.28 - ETA: 2:53 - loss: 961695.9898 - psnr: 5.6011 - total_variation: 1098433.5000 - ssim_multiscale: 0.5757 - sharpdiff: 0.6971 - mean_absolute_error: 0.3940 - mean_squared_error: 0.28 - ETA: 2:53 - loss: 959270.8665 - psnr: 5.5993 - total_variation: 1098991.5000 - ssim_multiscale: 0.5755 - sharpdiff: 0.6948 - mean_absolute_error: 0.3941 - mean_squared_error: 0.28 - ETA: 2:52 - loss: 956666.3005 - psnr: 5.5964 - total_variation: 1099534.1250 - ssim_multiscale: 0.5758 - sharpdiff: 0.6924 - mean_absolute_error: 0.3943 - mean_squared_error: 0.28 - ETA: 2:52 - loss: 953838.3423 - psnr: 5.5932 - total_variation: 1100075.3750 - ssim_multiscale: 0.5760 - sharpdiff: 0.6901 - mean_absolute_error: 0.3945 - mean_squared_error: 0.28 - ETA: 2:52 - loss: 951180.4029 - psnr: 5.5960 - total_variation: 1099900.3750 - ssim_multiscale: 0.5759 - sharpdiff: 0.6908 - mean_absolute_error: 0.3944 - mean_squared_error: 0.28 - ETA: 2:52 - loss: 948789.8020 - psnr: 5.5998 - total_variation: 1099079.2500 - ssim_multiscale: 0.5759 - sharpdiff: 0.6948 - mean_absolute_error: 0.3942 - mean_squared_error: 0.28 - ETA: 2:51 - loss: 946046.2739 - psnr: 5.5980 - total_variation: 1099576.6250 - ssim_multiscale: 0.5757 - sharpdiff: 0.6928 - mean_absolute_error: 0.3943 - mean_squared_error: 0.28 - ETA: 2:51 - loss: 943565.2267 - psnr: 5.5963 - total_variation: 1100064.3750 - ssim_multiscale: 0.5757 - sharpdiff: 0.6907 - mean_absolute_error: 0.3944 - mean_squared_error: 0.28 - ETA: 2:51 - loss: 941895.7061 - psnr: 5.5933 - total_variation: 1100530.2500 - ssim_multiscale: 0.5756 - sharpdiff: 0.6886 - mean_absolute_error: 0.3946 - mean_squared_error: 0.28 - ETA: 2:50 - loss: 938638.0832 - psnr: 5.5937 - total_variation: 1100895.5000 - ssim_multiscale: 0.5760 - sharpdiff: 0.6869 - mean_absolute_error: 0.3946 - mean_squared_error: 0.28 - ETA: 2:50 - loss: 935579.0374 - psnr: 5.5966 - total_variation: 1100823.7500 - ssim_multiscale: 0.5760 - sharpdiff: 0.6870 - mean_absolute_error: 0.3945 - mean_squared_error: 0.28 - ETA: 2:50 - loss: 933166.0527 - psnr: 5.5952 - total_variation: 1101219.0000 - ssim_multiscale: 0.5760 - sharpdiff: 0.6853 - mean_absolute_error: 0.3946 - mean_squared_error: 0.28 - ETA: 2:49 - loss: 930367.1788 - psnr: 5.5971 - total_variation: 1100969.2500 - ssim_multiscale: 0.5761 - sharpdiff: 0.6862 - mean_absolute_error: 0.3945 - mean_squared_error: 0.28 - ETA: 2:49 - loss: 928364.9014 - psnr: 5.5941 - total_variation: 1101430.0000 - ssim_multiscale: 0.5759 - sharpdiff: 0.6842 - mean_absolute_error: 0.3947 - mean_squared_error: 0.28 - ETA: 2:49 - loss: 926177.9004 - psnr: 5.5909 - total_variation: 1101886.1250 - ssim_multiscale: 0.5758 - sharpdiff: 0.6822 - mean_absolute_error: 0.3949 - mean_squared_error: 0.2832"
     ]
    },
    {
     "name": "stdout",
     "output_type": "stream",
     "text": [
      " 450/1000 [============>.................] - ETA: 2:48 - loss: 923451.2999 - psnr: 5.5892 - total_variation: 1102372.1250 - ssim_multiscale: 0.5761 - sharpdiff: 0.6800 - mean_absolute_error: 0.3950 - mean_squared_error: 0.28 - ETA: 2:48 - loss: 920850.6643 - psnr: 5.5874 - total_variation: 1102963.3750 - ssim_multiscale: 0.5761 - sharpdiff: 0.6776 - mean_absolute_error: 0.3951 - mean_squared_error: 0.28 - ETA: 2:48 - loss: 918039.3125 - psnr: 5.5867 - total_variation: 1103558.6250 - ssim_multiscale: 0.5761 - sharpdiff: 0.6752 - mean_absolute_error: 0.3952 - mean_squared_error: 0.28 - ETA: 2:47 - loss: 915940.0962 - psnr: 5.5838 - total_variation: 1103991.3750 - ssim_multiscale: 0.5762 - sharpdiff: 0.6733 - mean_absolute_error: 0.3954 - mean_squared_error: 0.28 - ETA: 2:47 - loss: 913168.1544 - psnr: 5.5814 - total_variation: 1104533.1250 - ssim_multiscale: 0.5761 - sharpdiff: 0.6710 - mean_absolute_error: 0.3955 - mean_squared_error: 0.28 - ETA: 2:47 - loss: 910073.2387 - psnr: 5.5799 - total_variation: 1105015.1250 - ssim_multiscale: 0.5764 - sharpdiff: 0.6690 - mean_absolute_error: 0.3956 - mean_squared_error: 0.28 - ETA: 2:47 - loss: 907606.5524 - psnr: 5.5782 - total_variation: 1105480.7500 - ssim_multiscale: 0.5767 - sharpdiff: 0.6670 - mean_absolute_error: 0.3958 - mean_squared_error: 0.28 - ETA: 2:46 - loss: 904971.6134 - psnr: 5.5760 - total_variation: 1105973.3750 - ssim_multiscale: 0.5768 - sharpdiff: 0.6649 - mean_absolute_error: 0.3959 - mean_squared_error: 0.28 - ETA: 2:46 - loss: 902479.1812 - psnr: 5.5740 - total_variation: 1106328.7500 - ssim_multiscale: 0.5768 - sharpdiff: 0.6634 - mean_absolute_error: 0.3960 - mean_squared_error: 0.28 - ETA: 2:46 - loss: 899671.6772 - psnr: 5.5766 - total_variation: 1106135.3750 - ssim_multiscale: 0.5769 - sharpdiff: 0.6641 - mean_absolute_error: 0.3959 - mean_squared_error: 0.28 - ETA: 2:45 - loss: 896621.8638 - psnr: 5.5779 - total_variation: 1106358.5000 - ssim_multiscale: 0.5772 - sharpdiff: 0.6630 - mean_absolute_error: 0.3959 - mean_squared_error: 0.28 - ETA: 2:45 - loss: 893833.8462 - psnr: 5.5782 - total_variation: 1106632.1250 - ssim_multiscale: 0.5770 - sharpdiff: 0.6618 - mean_absolute_error: 0.3959 - mean_squared_error: 0.28 - ETA: 2:45 - loss: 891678.2951 - psnr: 5.5758 - total_variation: 1107092.5000 - ssim_multiscale: 0.5773 - sharpdiff: 0.6597 - mean_absolute_error: 0.3960 - mean_squared_error: 0.28 - ETA: 2:44 - loss: 888814.8449 - psnr: 5.5771 - total_variation: 1107316.7500 - ssim_multiscale: 0.5775 - sharpdiff: 0.6587 - mean_absolute_error: 0.3960 - mean_squared_error: 0.28 - ETA: 2:44 - loss: 885843.3751 - psnr: 5.5762 - total_variation: 1107619.0000 - ssim_multiscale: 0.5778 - sharpdiff: 0.6574 - mean_absolute_error: 0.3961 - mean_squared_error: 0.28 - ETA: 2:44 - loss: 882970.7971 - psnr: 5.5746 - total_variation: 1108033.2500 - ssim_multiscale: 0.5781 - sharpdiff: 0.6556 - mean_absolute_error: 0.3962 - mean_squared_error: 0.28 - ETA: 2:43 - loss: 880052.9058 - psnr: 5.5741 - total_variation: 1108389.5000 - ssim_multiscale: 0.5779 - sharpdiff: 0.6541 - mean_absolute_error: 0.3962 - mean_squared_error: 0.28 - ETA: 2:43 - loss: 878018.9363 - psnr: 5.5713 - total_variation: 1108804.0000 - ssim_multiscale: 0.5780 - sharpdiff: 0.6523 - mean_absolute_error: 0.3964 - mean_squared_error: 0.28 - ETA: 2:43 - loss: 875398.8267 - psnr: 5.5723 - total_variation: 1108985.7500 - ssim_multiscale: 0.5784 - sharpdiff: 0.6515 - mean_absolute_error: 0.3964 - mean_squared_error: 0.28 - ETA: 2:43 - loss: 873502.3645 - psnr: 5.5695 - total_variation: 1109417.3750 - ssim_multiscale: 0.5784 - sharpdiff: 0.6496 - mean_absolute_error: 0.3966 - mean_squared_error: 0.28 - ETA: 2:42 - loss: 870690.6315 - psnr: 5.5697 - total_variation: 1109733.5000 - ssim_multiscale: 0.5788 - sharpdiff: 0.6481 - mean_absolute_error: 0.3966 - mean_squared_error: 0.28 - ETA: 2:42 - loss: 867732.6303 - psnr: 5.5700 - total_variation: 1110007.1250 - ssim_multiscale: 0.5789 - sharpdiff: 0.6468 - mean_absolute_error: 0.3966 - mean_squared_error: 0.28 - ETA: 2:42 - loss: 865349.2408 - psnr: 5.5683 - total_variation: 1110466.8750 - ssim_multiscale: 0.5791 - sharpdiff: 0.6448 - mean_absolute_error: 0.3967 - mean_squared_error: 0.28 - ETA: 2:41 - loss: 862984.3276 - psnr: 5.5696 - total_variation: 1110532.2500 - ssim_multiscale: 0.5792 - sharpdiff: 0.6447 - mean_absolute_error: 0.3967 - mean_squared_error: 0.28 - ETA: 2:41 - loss: 860818.8088 - psnr: 5.5666 - total_variation: 1110957.7500 - ssim_multiscale: 0.5793 - sharpdiff: 0.6428 - mean_absolute_error: 0.3968 - mean_squared_error: 0.28 - ETA: 2:41 - loss: 858291.7699 - psnr: 5.5701 - total_variation: 1110547.2500 - ssim_multiscale: 0.5794 - sharpdiff: 0.6445 - mean_absolute_error: 0.3967 - mean_squared_error: 0.28 - ETA: 2:40 - loss: 856080.1000 - psnr: 5.5695 - total_variation: 1111006.2500 - ssim_multiscale: 0.5795 - sharpdiff: 0.6426 - mean_absolute_error: 0.3967 - mean_squared_error: 0.28 - ETA: 2:40 - loss: 853596.9564 - psnr: 5.5672 - total_variation: 1111496.7500 - ssim_multiscale: 0.5797 - sharpdiff: 0.6405 - mean_absolute_error: 0.3969 - mean_squared_error: 0.28 - ETA: 2:40 - loss: 851107.0035 - psnr: 5.5688 - total_variation: 1111385.7500 - ssim_multiscale: 0.5796 - sharpdiff: 0.6408 - mean_absolute_error: 0.3968 - mean_squared_error: 0.28 - ETA: 2:39 - loss: 848407.2723 - psnr: 5.5699 - total_variation: 1111377.7500 - ssim_multiscale: 0.5797 - sharpdiff: 0.6407 - mean_absolute_error: 0.3968 - mean_squared_error: 0.28 - ETA: 2:39 - loss: 845835.3434 - psnr: 5.5675 - total_variation: 1111756.0000 - ssim_multiscale: 0.5799 - sharpdiff: 0.6390 - mean_absolute_error: 0.3969 - mean_squared_error: 0.28 - ETA: 2:39 - loss: 843860.6390 - psnr: 5.5645 - total_variation: 1112178.1250 - ssim_multiscale: 0.5802 - sharpdiff: 0.6372 - mean_absolute_error: 0.3971 - mean_squared_error: 0.28 - ETA: 2:39 - loss: 842042.6400 - psnr: 5.5617 - total_variation: 1112600.6250 - ssim_multiscale: 0.5802 - sharpdiff: 0.6354 - mean_absolute_error: 0.3973 - mean_squared_error: 0.28 - ETA: 2:38 - loss: 839136.8450 - psnr: 5.5599 - total_variation: 1113104.7500 - ssim_multiscale: 0.5802 - sharpdiff: 0.6333 - mean_absolute_error: 0.3974 - mean_squared_error: 0.28 - ETA: 2:38 - loss: 836659.3009 - psnr: 5.5583 - total_variation: 1113508.5000 - ssim_multiscale: 0.5805 - sharpdiff: 0.6317 - mean_absolute_error: 0.3975 - mean_squared_error: 0.28 - ETA: 2:38 - loss: 834335.7822 - psnr: 5.5560 - total_variation: 1113861.1250 - ssim_multiscale: 0.5804 - sharpdiff: 0.6302 - mean_absolute_error: 0.3977 - mean_squared_error: 0.28 - ETA: 2:37 - loss: 831605.8578 - psnr: 5.5548 - total_variation: 1114352.0000 - ssim_multiscale: 0.5805 - sharpdiff: 0.6281 - mean_absolute_error: 0.3978 - mean_squared_error: 0.28 - ETA: 2:37 - loss: 829517.0910 - psnr: 5.5526 - total_variation: 1114760.7500 - ssim_multiscale: 0.5807 - sharpdiff: 0.6263 - mean_absolute_error: 0.3979 - mean_squared_error: 0.28 - ETA: 2:37 - loss: 826624.9854 - psnr: 5.5517 - total_variation: 1115215.5000 - ssim_multiscale: 0.5806 - sharpdiff: 0.6244 - mean_absolute_error: 0.3980 - mean_squared_error: 0.28 - ETA: 2:36 - loss: 824442.3151 - psnr: 5.5538 - total_variation: 1114871.2500 - ssim_multiscale: 0.5807 - sharpdiff: 0.6258 - mean_absolute_error: 0.3979 - mean_squared_error: 0.28 - ETA: 2:36 - loss: 821567.0473 - psnr: 5.5529 - total_variation: 1115330.1250 - ssim_multiscale: 0.5808 - sharpdiff: 0.6239 - mean_absolute_error: 0.3979 - mean_squared_error: 0.28 - ETA: 2:36 - loss: 819476.9624 - psnr: 5.5503 - total_variation: 1115631.5000 - ssim_multiscale: 0.5809 - sharpdiff: 0.6225 - mean_absolute_error: 0.3981 - mean_squared_error: 0.28 - ETA: 2:35 - loss: 817642.6963 - psnr: 5.5530 - total_variation: 1114748.6250 - ssim_multiscale: 0.5810 - sharpdiff: 0.6268 - mean_absolute_error: 0.3979 - mean_squared_error: 0.28 - ETA: 2:35 - loss: 814745.8454 - psnr: 5.5530 - total_variation: 1115086.5000 - ssim_multiscale: 0.5811 - sharpdiff: 0.6253 - mean_absolute_error: 0.3980 - mean_squared_error: 0.28 - ETA: 2:35 - loss: 812060.2455 - psnr: 5.5529 - total_variation: 1115435.5000 - ssim_multiscale: 0.5813 - sharpdiff: 0.6238 - mean_absolute_error: 0.3980 - mean_squared_error: 0.2857"
     ]
    },
    {
     "name": "stdout",
     "output_type": "stream",
     "text": [
      " 495/1000 [=============>................] - ETA: 2:35 - loss: 809199.5861 - psnr: 5.5545 - total_variation: 1115491.5000 - ssim_multiscale: 0.5816 - sharpdiff: 0.6233 - mean_absolute_error: 0.3979 - mean_squared_error: 0.28 - ETA: 2:34 - loss: 807369.0086 - psnr: 5.5518 - total_variation: 1115813.2500 - ssim_multiscale: 0.5817 - sharpdiff: 0.6221 - mean_absolute_error: 0.3981 - mean_squared_error: 0.28 - ETA: 2:34 - loss: 804695.1723 - psnr: 5.5517 - total_variation: 1116231.2500 - ssim_multiscale: 0.5816 - sharpdiff: 0.6204 - mean_absolute_error: 0.3981 - mean_squared_error: 0.28 - ETA: 2:34 - loss: 802688.3235 - psnr: 5.5498 - total_variation: 1116654.6250 - ssim_multiscale: 0.5815 - sharpdiff: 0.6186 - mean_absolute_error: 0.3983 - mean_squared_error: 0.28 - ETA: 2:33 - loss: 800499.7590 - psnr: 5.5533 - total_variation: 1115905.1250 - ssim_multiscale: 0.5817 - sharpdiff: 0.6221 - mean_absolute_error: 0.3981 - mean_squared_error: 0.28 - ETA: 2:33 - loss: 798700.8094 - psnr: 5.5505 - total_variation: 1116271.6250 - ssim_multiscale: 0.5817 - sharpdiff: 0.6205 - mean_absolute_error: 0.3983 - mean_squared_error: 0.28 - ETA: 2:33 - loss: 796077.1139 - psnr: 5.5517 - total_variation: 1116493.7500 - ssim_multiscale: 0.5819 - sharpdiff: 0.6195 - mean_absolute_error: 0.3982 - mean_squared_error: 0.28 - ETA: 2:32 - loss: 794123.6931 - psnr: 5.5489 - total_variation: 1116905.6250 - ssim_multiscale: 0.5820 - sharpdiff: 0.6178 - mean_absolute_error: 0.3984 - mean_squared_error: 0.28 - ETA: 2:32 - loss: 791342.9227 - psnr: 5.5491 - total_variation: 1117124.3750 - ssim_multiscale: 0.5823 - sharpdiff: 0.6168 - mean_absolute_error: 0.3984 - mean_squared_error: 0.28 - ETA: 2:32 - loss: 789198.4377 - psnr: 5.5474 - total_variation: 1117549.0000 - ssim_multiscale: 0.5820 - sharpdiff: 0.6151 - mean_absolute_error: 0.3985 - mean_squared_error: 0.28 - ETA: 2:32 - loss: 787223.8514 - psnr: 5.5456 - total_variation: 1117927.6250 - ssim_multiscale: 0.5820 - sharpdiff: 0.6136 - mean_absolute_error: 0.3986 - mean_squared_error: 0.28 - ETA: 2:31 - loss: 784412.9435 - psnr: 5.5454 - total_variation: 1118321.1250 - ssim_multiscale: 0.5820 - sharpdiff: 0.6118 - mean_absolute_error: 0.3986 - mean_squared_error: 0.28 - ETA: 2:31 - loss: 781710.6480 - psnr: 5.5448 - total_variation: 1118791.7500 - ssim_multiscale: 0.5818 - sharpdiff: 0.6099 - mean_absolute_error: 0.3987 - mean_squared_error: 0.28 - ETA: 2:31 - loss: 779787.8330 - psnr: 5.5476 - total_variation: 1118052.2500 - ssim_multiscale: 0.5819 - sharpdiff: 0.6134 - mean_absolute_error: 0.3985 - mean_squared_error: 0.28 - ETA: 2:30 - loss: 777459.9149 - psnr: 5.5453 - total_variation: 1118511.8750 - ssim_multiscale: 0.5820 - sharpdiff: 0.6115 - mean_absolute_error: 0.3987 - mean_squared_error: 0.28 - ETA: 2:30 - loss: 775143.6555 - psnr: 5.5432 - total_variation: 1118821.0000 - ssim_multiscale: 0.5822 - sharpdiff: 0.6101 - mean_absolute_error: 0.3988 - mean_squared_error: 0.28 - ETA: 2:30 - loss: 773697.4577 - psnr: 5.5413 - total_variation: 1119188.1250 - ssim_multiscale: 0.5824 - sharpdiff: 0.6085 - mean_absolute_error: 0.3989 - mean_squared_error: 0.28 - ETA: 2:29 - loss: 771757.1513 - psnr: 5.5419 - total_variation: 1118672.5000 - ssim_multiscale: 0.5822 - sharpdiff: 0.6114 - mean_absolute_error: 0.3989 - mean_squared_error: 0.28 - ETA: 2:29 - loss: 769705.4587 - psnr: 5.5393 - total_variation: 1118998.8750 - ssim_multiscale: 0.5822 - sharpdiff: 0.6101 - mean_absolute_error: 0.3991 - mean_squared_error: 0.28 - ETA: 2:29 - loss: 767427.1933 - psnr: 5.5376 - total_variation: 1119324.0000 - ssim_multiscale: 0.5820 - sharpdiff: 0.6088 - mean_absolute_error: 0.3992 - mean_squared_error: 0.28 - ETA: 2:29 - loss: 765183.8337 - psnr: 5.5353 - total_variation: 1119766.1250 - ssim_multiscale: 0.5821 - sharpdiff: 0.6069 - mean_absolute_error: 0.3994 - mean_squared_error: 0.28 - ETA: 2:28 - loss: 762770.0815 - psnr: 5.5338 - total_variation: 1120074.5000 - ssim_multiscale: 0.5822 - sharpdiff: 0.6058 - mean_absolute_error: 0.3994 - mean_squared_error: 0.28 - ETA: 2:28 - loss: 760287.0194 - psnr: 5.5348 - total_variation: 1120199.8750 - ssim_multiscale: 0.5824 - sharpdiff: 0.6055 - mean_absolute_error: 0.3994 - mean_squared_error: 0.28 - ETA: 2:28 - loss: 757642.4327 - psnr: 5.5341 - total_variation: 1120550.0000 - ssim_multiscale: 0.5827 - sharpdiff: 0.6041 - mean_absolute_error: 0.3995 - mean_squared_error: 0.28 - ETA: 2:27 - loss: 755065.4742 - psnr: 5.5323 - total_variation: 1120902.7500 - ssim_multiscale: 0.5829 - sharpdiff: 0.6026 - mean_absolute_error: 0.3996 - mean_squared_error: 0.28 - ETA: 2:27 - loss: 752594.6571 - psnr: 5.5307 - total_variation: 1121431.2500 - ssim_multiscale: 0.5831 - sharpdiff: 0.6005 - mean_absolute_error: 0.3997 - mean_squared_error: 0.28 - ETA: 2:27 - loss: 750895.4670 - psnr: 5.5323 - total_variation: 1120648.7500 - ssim_multiscale: 0.5832 - sharpdiff: 0.6043 - mean_absolute_error: 0.3996 - mean_squared_error: 0.28 - ETA: 2:26 - loss: 748359.9963 - psnr: 5.5314 - total_variation: 1121143.2500 - ssim_multiscale: 0.5834 - sharpdiff: 0.6023 - mean_absolute_error: 0.3997 - mean_squared_error: 0.28 - ETA: 2:26 - loss: 745938.0254 - psnr: 5.5316 - total_variation: 1121466.7500 - ssim_multiscale: 0.5835 - sharpdiff: 0.6010 - mean_absolute_error: 0.3997 - mean_squared_error: 0.28 - ETA: 2:26 - loss: 743994.5961 - psnr: 5.5297 - total_variation: 1121839.1250 - ssim_multiscale: 0.5836 - sharpdiff: 0.5994 - mean_absolute_error: 0.3998 - mean_squared_error: 0.28 - ETA: 2:25 - loss: 741850.4645 - psnr: 5.5323 - total_variation: 1121499.0000 - ssim_multiscale: 0.5838 - sharpdiff: 0.6009 - mean_absolute_error: 0.3997 - mean_squared_error: 0.28 - ETA: 2:25 - loss: 739466.6475 - psnr: 5.5339 - total_variation: 1121499.0000 - ssim_multiscale: 0.5842 - sharpdiff: 0.6010 - mean_absolute_error: 0.3996 - mean_squared_error: 0.28 - ETA: 2:25 - loss: 738469.4077 - psnr: 5.5309 - total_variation: 1121772.0000 - ssim_multiscale: 0.5843 - sharpdiff: 0.5996 - mean_absolute_error: 0.3998 - mean_squared_error: 0.28 - ETA: 2:25 - loss: 736395.0176 - psnr: 5.5293 - total_variation: 1121927.6250 - ssim_multiscale: 0.5844 - sharpdiff: 0.5990 - mean_absolute_error: 0.4000 - mean_squared_error: 0.28 - ETA: 2:24 - loss: 734472.6265 - psnr: 5.5270 - total_variation: 1122198.8750 - ssim_multiscale: 0.5844 - sharpdiff: 0.5981 - mean_absolute_error: 0.4001 - mean_squared_error: 0.28 - ETA: 2:24 - loss: 732730.5564 - psnr: 5.5292 - total_variation: 1121869.7500 - ssim_multiscale: 0.5845 - sharpdiff: 0.5996 - mean_absolute_error: 0.4000 - mean_squared_error: 0.28 - ETA: 2:24 - loss: 730132.2351 - psnr: 5.5289 - total_variation: 1122181.5000 - ssim_multiscale: 0.5847 - sharpdiff: 0.5983 - mean_absolute_error: 0.4001 - mean_squared_error: 0.28 - ETA: 2:23 - loss: 728385.0519 - psnr: 5.5266 - total_variation: 1122548.3750 - ssim_multiscale: 0.5846 - sharpdiff: 0.5968 - mean_absolute_error: 0.4002 - mean_squared_error: 0.28 - ETA: 2:23 - loss: 725848.6467 - psnr: 5.5269 - total_variation: 1122742.6250 - ssim_multiscale: 0.5850 - sharpdiff: 0.5960 - mean_absolute_error: 0.4002 - mean_squared_error: 0.28 - ETA: 2:23 - loss: 724287.8204 - psnr: 5.5252 - total_variation: 1123088.6250 - ssim_multiscale: 0.5848 - sharpdiff: 0.5946 - mean_absolute_error: 0.4003 - mean_squared_error: 0.28 - ETA: 2:22 - loss: 721922.9379 - psnr: 5.5232 - total_variation: 1123466.3750 - ssim_multiscale: 0.5847 - sharpdiff: 0.5930 - mean_absolute_error: 0.4004 - mean_squared_error: 0.28 - ETA: 2:22 - loss: 719301.3223 - psnr: 5.5227 - total_variation: 1123906.3750 - ssim_multiscale: 0.5847 - sharpdiff: 0.5912 - mean_absolute_error: 0.4005 - mean_squared_error: 0.28 - ETA: 2:22 - loss: 717015.0226 - psnr: 5.5214 - total_variation: 1124260.0000 - ssim_multiscale: 0.5847 - sharpdiff: 0.5897 - mean_absolute_error: 0.4006 - mean_squared_error: 0.28 - ETA: 2:22 - loss: 714669.6617 - psnr: 5.5224 - total_variation: 1124345.7500 - ssim_multiscale: 0.5846 - sharpdiff: 0.5893 - mean_absolute_error: 0.4005 - mean_squared_error: 0.28 - ETA: 2:21 - loss: 712452.1640 - psnr: 5.5220 - total_variation: 1124602.8750 - ssim_multiscale: 0.5846 - sharpdiff: 0.5882 - mean_absolute_error: 0.4006 - mean_squared_error: 0.2877"
     ]
    },
    {
     "name": "stdout",
     "output_type": "stream",
     "text": [
      " 540/1000 [===============>..............] - ETA: 2:21 - loss: 710195.4455 - psnr: 5.5213 - total_variation: 1124961.7500 - ssim_multiscale: 0.5848 - sharpdiff: 0.5866 - mean_absolute_error: 0.4006 - mean_squared_error: 0.28 - ETA: 2:21 - loss: 708840.0895 - psnr: 5.5192 - total_variation: 1125308.7500 - ssim_multiscale: 0.5849 - sharpdiff: 0.5851 - mean_absolute_error: 0.4008 - mean_squared_error: 0.28 - ETA: 2:20 - loss: 706193.6370 - psnr: 5.5183 - total_variation: 1125775.8750 - ssim_multiscale: 0.5851 - sharpdiff: 0.5832 - mean_absolute_error: 0.4008 - mean_squared_error: 0.28 - ETA: 2:20 - loss: 703795.2950 - psnr: 5.5172 - total_variation: 1126130.0000 - ssim_multiscale: 0.5853 - sharpdiff: 0.5817 - mean_absolute_error: 0.4009 - mean_squared_error: 0.28 - ETA: 2:20 - loss: 701170.7049 - psnr: 5.5182 - total_variation: 1126200.2500 - ssim_multiscale: 0.5855 - sharpdiff: 0.5813 - mean_absolute_error: 0.4009 - mean_squared_error: 0.28 - ETA: 2:20 - loss: 699458.2543 - psnr: 5.5163 - total_variation: 1126520.6250 - ssim_multiscale: 0.5855 - sharpdiff: 0.5800 - mean_absolute_error: 0.4010 - mean_squared_error: 0.28 - ETA: 2:19 - loss: 697189.2315 - psnr: 5.5149 - total_variation: 1126880.8750 - ssim_multiscale: 0.5856 - sharpdiff: 0.5785 - mean_absolute_error: 0.4011 - mean_squared_error: 0.28 - ETA: 2:19 - loss: 695013.9738 - psnr: 5.5131 - total_variation: 1127339.0000 - ssim_multiscale: 0.5857 - sharpdiff: 0.5766 - mean_absolute_error: 0.4012 - mean_squared_error: 0.28 - ETA: 2:19 - loss: 692830.3991 - psnr: 5.5113 - total_variation: 1127674.6250 - ssim_multiscale: 0.5858 - sharpdiff: 0.5752 - mean_absolute_error: 0.4013 - mean_squared_error: 0.28 - ETA: 2:18 - loss: 691128.7778 - psnr: 5.5087 - total_variation: 1127978.0000 - ssim_multiscale: 0.5859 - sharpdiff: 0.5739 - mean_absolute_error: 0.4015 - mean_squared_error: 0.28 - ETA: 2:18 - loss: 689487.2643 - psnr: 5.5062 - total_variation: 1128240.6250 - ssim_multiscale: 0.5860 - sharpdiff: 0.5729 - mean_absolute_error: 0.4017 - mean_squared_error: 0.28 - ETA: 2:18 - loss: 688111.4310 - psnr: 5.5039 - total_variation: 1128517.0000 - ssim_multiscale: 0.5861 - sharpdiff: 0.5717 - mean_absolute_error: 0.4018 - mean_squared_error: 0.28 - ETA: 2:17 - loss: 685876.4949 - psnr: 5.5041 - total_variation: 1128742.2500 - ssim_multiscale: 0.5861 - sharpdiff: 0.5709 - mean_absolute_error: 0.4018 - mean_squared_error: 0.28 - ETA: 2:17 - loss: 683950.1963 - psnr: 5.5022 - total_variation: 1129077.6250 - ssim_multiscale: 0.5862 - sharpdiff: 0.5695 - mean_absolute_error: 0.4019 - mean_squared_error: 0.28 - ETA: 2:17 - loss: 681807.4491 - psnr: 5.5002 - total_variation: 1129451.1250 - ssim_multiscale: 0.5865 - sharpdiff: 0.5679 - mean_absolute_error: 0.4021 - mean_squared_error: 0.28 - ETA: 2:17 - loss: 679879.7074 - psnr: 5.4981 - total_variation: 1129775.5000 - ssim_multiscale: 0.5866 - sharpdiff: 0.5665 - mean_absolute_error: 0.4022 - mean_squared_error: 0.28 - ETA: 2:16 - loss: 677631.6653 - psnr: 5.4974 - total_variation: 1130098.3750 - ssim_multiscale: 0.5867 - sharpdiff: 0.5652 - mean_absolute_error: 0.4022 - mean_squared_error: 0.28 - ETA: 2:16 - loss: 675091.6684 - psnr: 5.4970 - total_variation: 1130427.1250 - ssim_multiscale: 0.5869 - sharpdiff: 0.5637 - mean_absolute_error: 0.4023 - mean_squared_error: 0.28 - ETA: 2:16 - loss: 672651.5102 - psnr: 5.4957 - total_variation: 1130746.5000 - ssim_multiscale: 0.5871 - sharpdiff: 0.5626 - mean_absolute_error: 0.4024 - mean_squared_error: 0.28 - ETA: 2:15 - loss: 670598.6917 - psnr: 5.4972 - total_variation: 1130612.6250 - ssim_multiscale: 0.5872 - sharpdiff: 0.5632 - mean_absolute_error: 0.4023 - mean_squared_error: 0.28 - ETA: 2:15 - loss: 668665.1344 - psnr: 5.4951 - total_variation: 1130925.2500 - ssim_multiscale: 0.5874 - sharpdiff: 0.5619 - mean_absolute_error: 0.4024 - mean_squared_error: 0.28 - ETA: 2:15 - loss: 666185.4228 - psnr: 5.4955 - total_variation: 1131198.6250 - ssim_multiscale: 0.5876 - sharpdiff: 0.5607 - mean_absolute_error: 0.4024 - mean_squared_error: 0.28 - ETA: 2:14 - loss: 664451.8441 - psnr: 5.4982 - total_variation: 1130778.5000 - ssim_multiscale: 0.5875 - sharpdiff: 0.5625 - mean_absolute_error: 0.4023 - mean_squared_error: 0.28 - ETA: 2:14 - loss: 662840.6833 - psnr: 5.5019 - total_variation: 1129947.8750 - ssim_multiscale: 0.5876 - sharpdiff: 0.5665 - mean_absolute_error: 0.4021 - mean_squared_error: 0.28 - ETA: 2:14 - loss: 660705.7949 - psnr: 5.4997 - total_variation: 1130357.0000 - ssim_multiscale: 0.5875 - sharpdiff: 0.5648 - mean_absolute_error: 0.4023 - mean_squared_error: 0.28 - ETA: 2:14 - loss: 658305.6496 - psnr: 5.4986 - total_variation: 1130719.6250 - ssim_multiscale: 0.5876 - sharpdiff: 0.5633 - mean_absolute_error: 0.4023 - mean_squared_error: 0.28 - ETA: 2:13 - loss: 656146.9644 - psnr: 5.4970 - total_variation: 1131098.0000 - ssim_multiscale: 0.5878 - sharpdiff: 0.5617 - mean_absolute_error: 0.4024 - mean_squared_error: 0.28 - ETA: 2:13 - loss: 654240.8480 - psnr: 5.4954 - total_variation: 1131446.8750 - ssim_multiscale: 0.5878 - sharpdiff: 0.5602 - mean_absolute_error: 0.4025 - mean_squared_error: 0.28 - ETA: 2:13 - loss: 652275.8170 - psnr: 5.4933 - total_variation: 1131745.2500 - ssim_multiscale: 0.5878 - sharpdiff: 0.5590 - mean_absolute_error: 0.4027 - mean_squared_error: 0.28 - ETA: 2:12 - loss: 650095.6414 - psnr: 5.4927 - total_variation: 1132074.6250 - ssim_multiscale: 0.5878 - sharpdiff: 0.5575 - mean_absolute_error: 0.4027 - mean_squared_error: 0.28 - ETA: 2:12 - loss: 648162.5114 - psnr: 5.4950 - total_variation: 1131880.3750 - ssim_multiscale: 0.5879 - sharpdiff: 0.5583 - mean_absolute_error: 0.4026 - mean_squared_error: 0.28 - ETA: 2:12 - loss: 646531.9568 - psnr: 5.4931 - total_variation: 1132198.7500 - ssim_multiscale: 0.5882 - sharpdiff: 0.5570 - mean_absolute_error: 0.4027 - mean_squared_error: 0.28 - ETA: 2:12 - loss: 644293.6469 - psnr: 5.4920 - total_variation: 1132506.3750 - ssim_multiscale: 0.5885 - sharpdiff: 0.5557 - mean_absolute_error: 0.4028 - mean_squared_error: 0.28 - ETA: 2:11 - loss: 642274.4667 - psnr: 5.4944 - total_variation: 1132379.7500 - ssim_multiscale: 0.5886 - sharpdiff: 0.5564 - mean_absolute_error: 0.4027 - mean_squared_error: 0.28 - ETA: 2:11 - loss: 640395.3235 - psnr: 5.4927 - total_variation: 1132717.1250 - ssim_multiscale: 0.5886 - sharpdiff: 0.5550 - mean_absolute_error: 0.4028 - mean_squared_error: 0.28 - ETA: 2:11 - loss: 638458.3793 - psnr: 5.4948 - total_variation: 1132456.5000 - ssim_multiscale: 0.5886 - sharpdiff: 0.5561 - mean_absolute_error: 0.4027 - mean_squared_error: 0.28 - ETA: 2:10 - loss: 636052.3803 - psnr: 5.4949 - total_variation: 1132656.8750 - ssim_multiscale: 0.5887 - sharpdiff: 0.5554 - mean_absolute_error: 0.4027 - mean_squared_error: 0.28 - ETA: 2:10 - loss: 633675.6452 - psnr: 5.4943 - total_variation: 1133106.8750 - ssim_multiscale: 0.5886 - sharpdiff: 0.5535 - mean_absolute_error: 0.4028 - mean_squared_error: 0.28 - ETA: 2:10 - loss: 631878.3499 - psnr: 5.4972 - total_variation: 1132743.2500 - ssim_multiscale: 0.5883 - sharpdiff: 0.5551 - mean_absolute_error: 0.4027 - mean_squared_error: 0.28 - ETA: 2:09 - loss: 630344.5041 - psnr: 5.5005 - total_variation: 1132099.0000 - ssim_multiscale: 0.5878 - sharpdiff: 0.5585 - mean_absolute_error: 0.4025 - mean_squared_error: 0.28 - ETA: 2:09 - loss: 628885.2777 - psnr: 5.4988 - total_variation: 1132430.8750 - ssim_multiscale: 0.5880 - sharpdiff: 0.5572 - mean_absolute_error: 0.4026 - mean_squared_error: 0.28 - ETA: 2:09 - loss: 626582.4010 - psnr: 5.4983 - total_variation: 1132792.2500 - ssim_multiscale: 0.5881 - sharpdiff: 0.5557 - mean_absolute_error: 0.4026 - mean_squared_error: 0.28 - ETA: 2:09 - loss: 624333.7977 - psnr: 5.4997 - total_variation: 1132870.8750 - ssim_multiscale: 0.5881 - sharpdiff: 0.5553 - mean_absolute_error: 0.4026 - mean_squared_error: 0.28 - ETA: 2:08 - loss: 622621.7116 - psnr: 5.4980 - total_variation: 1133191.1250 - ssim_multiscale: 0.5881 - sharpdiff: 0.5540 - mean_absolute_error: 0.4027 - mean_squared_error: 0.28 - ETA: 2:08 - loss: 621239.9274 - psnr: 5.4960 - total_variation: 1133503.0000 - ssim_multiscale: 0.5883 - sharpdiff: 0.5527 - mean_absolute_error: 0.4028 - mean_squared_error: 0.2896"
     ]
    },
    {
     "name": "stdout",
     "output_type": "stream",
     "text": [
      " 585/1000 [================>.............] - ETA: 2:08 - loss: 619043.2782 - psnr: 5.4965 - total_variation: 1133642.2500 - ssim_multiscale: 0.5886 - sharpdiff: 0.5523 - mean_absolute_error: 0.4028 - mean_squared_error: 0.28 - ETA: 2:07 - loss: 618200.1380 - psnr: 5.4940 - total_variation: 1133895.7500 - ssim_multiscale: 0.5886 - sharpdiff: 0.5511 - mean_absolute_error: 0.4030 - mean_squared_error: 0.28 - ETA: 2:07 - loss: 615695.7815 - psnr: 5.4938 - total_variation: 1134267.3750 - ssim_multiscale: 0.5886 - sharpdiff: 0.5495 - mean_absolute_error: 0.4030 - mean_squared_error: 0.28 - ETA: 2:07 - loss: 613584.1880 - psnr: 5.4926 - total_variation: 1134715.2500 - ssim_multiscale: 0.5886 - sharpdiff: 0.5477 - mean_absolute_error: 0.4031 - mean_squared_error: 0.28 - ETA: 2:07 - loss: 611407.5679 - psnr: 5.4906 - total_variation: 1135027.2500 - ssim_multiscale: 0.5886 - sharpdiff: 0.5465 - mean_absolute_error: 0.4032 - mean_squared_error: 0.29 - ETA: 2:06 - loss: 609080.4863 - psnr: 5.4892 - total_variation: 1135434.6250 - ssim_multiscale: 0.5888 - sharpdiff: 0.5448 - mean_absolute_error: 0.4033 - mean_squared_error: 0.29 - ETA: 2:06 - loss: 607230.5870 - psnr: 5.4872 - total_variation: 1135803.7500 - ssim_multiscale: 0.5888 - sharpdiff: 0.5432 - mean_absolute_error: 0.4034 - mean_squared_error: 0.29 - ETA: 2:06 - loss: 604875.4415 - psnr: 5.4860 - total_variation: 1136242.1250 - ssim_multiscale: 0.5889 - sharpdiff: 0.5415 - mean_absolute_error: 0.4035 - mean_squared_error: 0.29 - ETA: 2:05 - loss: 602848.3799 - psnr: 5.4856 - total_variation: 1136611.6250 - ssim_multiscale: 0.5888 - sharpdiff: 0.5401 - mean_absolute_error: 0.4035 - mean_squared_error: 0.29 - ETA: 2:05 - loss: 600938.3057 - psnr: 5.4838 - total_variation: 1136969.7500 - ssim_multiscale: 0.5890 - sharpdiff: 0.5386 - mean_absolute_error: 0.4036 - mean_squared_error: 0.29 - ETA: 2:05 - loss: 598631.1899 - psnr: 5.4833 - total_variation: 1137322.8750 - ssim_multiscale: 0.5892 - sharpdiff: 0.5371 - mean_absolute_error: 0.4037 - mean_squared_error: 0.29 - ETA: 2:05 - loss: 597047.7903 - psnr: 5.4815 - total_variation: 1137675.1250 - ssim_multiscale: 0.5894 - sharpdiff: 0.5356 - mean_absolute_error: 0.4038 - mean_squared_error: 0.29 - ETA: 2:04 - loss: 594788.2494 - psnr: 5.4816 - total_variation: 1137935.0000 - ssim_multiscale: 0.5893 - sharpdiff: 0.5344 - mean_absolute_error: 0.4038 - mean_squared_error: 0.29 - ETA: 2:04 - loss: 592727.6954 - psnr: 5.4799 - total_variation: 1138335.1250 - ssim_multiscale: 0.5893 - sharpdiff: 0.5328 - mean_absolute_error: 0.4039 - mean_squared_error: 0.29 - ETA: 2:04 - loss: 590769.0481 - psnr: 5.4786 - total_variation: 1138560.6250 - ssim_multiscale: 0.5896 - sharpdiff: 0.5318 - mean_absolute_error: 0.4040 - mean_squared_error: 0.29 - ETA: 2:03 - loss: 588734.5502 - psnr: 5.4780 - total_variation: 1138962.2500 - ssim_multiscale: 0.5897 - sharpdiff: 0.5302 - mean_absolute_error: 0.4040 - mean_squared_error: 0.29 - ETA: 2:03 - loss: 586890.2823 - psnr: 5.4766 - total_variation: 1139214.0000 - ssim_multiscale: 0.5899 - sharpdiff: 0.5292 - mean_absolute_error: 0.4041 - mean_squared_error: 0.29 - ETA: 2:03 - loss: 585402.2129 - psnr: 5.4795 - total_variation: 1138477.2500 - ssim_multiscale: 0.5900 - sharpdiff: 0.5328 - mean_absolute_error: 0.4040 - mean_squared_error: 0.29 - ETA: 2:02 - loss: 583465.3844 - psnr: 5.4774 - total_variation: 1138760.6250 - ssim_multiscale: 0.5900 - sharpdiff: 0.5316 - mean_absolute_error: 0.4041 - mean_squared_error: 0.29 - ETA: 2:02 - loss: 581472.4890 - psnr: 5.4759 - total_variation: 1139135.6250 - ssim_multiscale: 0.5901 - sharpdiff: 0.5301 - mean_absolute_error: 0.4042 - mean_squared_error: 0.29 - ETA: 2:02 - loss: 579491.4190 - psnr: 5.4746 - total_variation: 1139504.6250 - ssim_multiscale: 0.5902 - sharpdiff: 0.5286 - mean_absolute_error: 0.4043 - mean_squared_error: 0.29 - ETA: 2:02 - loss: 577766.3478 - psnr: 5.4772 - total_variation: 1139154.1250 - ssim_multiscale: 0.5901 - sharpdiff: 0.5301 - mean_absolute_error: 0.4041 - mean_squared_error: 0.29 - ETA: 2:01 - loss: 576216.5109 - psnr: 5.4755 - total_variation: 1139425.7500 - ssim_multiscale: 0.5903 - sharpdiff: 0.5291 - mean_absolute_error: 0.4042 - mean_squared_error: 0.29 - ETA: 2:01 - loss: 574191.2330 - psnr: 5.4741 - total_variation: 1139844.8750 - ssim_multiscale: 0.5902 - sharpdiff: 0.5274 - mean_absolute_error: 0.4043 - mean_squared_error: 0.29 - ETA: 2:01 - loss: 572058.2219 - psnr: 5.4745 - total_variation: 1140004.0000 - ssim_multiscale: 0.5904 - sharpdiff: 0.5267 - mean_absolute_error: 0.4043 - mean_squared_error: 0.29 - ETA: 2:00 - loss: 570781.3504 - psnr: 5.4726 - total_variation: 1140261.3750 - ssim_multiscale: 0.5904 - sharpdiff: 0.5256 - mean_absolute_error: 0.4044 - mean_squared_error: 0.29 - ETA: 2:00 - loss: 569487.5804 - psnr: 5.4749 - total_variation: 1139650.8750 - ssim_multiscale: 0.5904 - sharpdiff: 0.5285 - mean_absolute_error: 0.4043 - mean_squared_error: 0.29 - ETA: 2:00 - loss: 567500.2158 - psnr: 5.4744 - total_variation: 1139948.1250 - ssim_multiscale: 0.5904 - sharpdiff: 0.5273 - mean_absolute_error: 0.4044 - mean_squared_error: 0.29 - ETA: 2:00 - loss: 565331.8416 - psnr: 5.4750 - total_variation: 1140125.6250 - ssim_multiscale: 0.5905 - sharpdiff: 0.5265 - mean_absolute_error: 0.4043 - mean_squared_error: 0.29 - ETA: 1:59 - loss: 563477.3767 - psnr: 5.4733 - total_variation: 1140416.8750 - ssim_multiscale: 0.5907 - sharpdiff: 0.5252 - mean_absolute_error: 0.4044 - mean_squared_error: 0.29 - ETA: 1:59 - loss: 562169.7988 - psnr: 5.4721 - total_variation: 1140679.0000 - ssim_multiscale: 0.5910 - sharpdiff: 0.5241 - mean_absolute_error: 0.4045 - mean_squared_error: 0.29 - ETA: 1:59 - loss: 560596.0887 - psnr: 5.4754 - total_variation: 1140153.0000 - ssim_multiscale: 0.5909 - sharpdiff: 0.5266 - mean_absolute_error: 0.4044 - mean_squared_error: 0.29 - ETA: 1:58 - loss: 559011.8082 - psnr: 5.4735 - total_variation: 1140457.2500 - ssim_multiscale: 0.5909 - sharpdiff: 0.5254 - mean_absolute_error: 0.4045 - mean_squared_error: 0.29 - ETA: 1:58 - loss: 556824.6096 - psnr: 5.4738 - total_variation: 1140704.7500 - ssim_multiscale: 0.5910 - sharpdiff: 0.5243 - mean_absolute_error: 0.4045 - mean_squared_error: 0.29 - ETA: 1:58 - loss: 555126.7428 - psnr: 5.4760 - total_variation: 1140457.3750 - ssim_multiscale: 0.5911 - sharpdiff: 0.5253 - mean_absolute_error: 0.4044 - mean_squared_error: 0.29 - ETA: 1:58 - loss: 553509.9362 - psnr: 5.4741 - total_variation: 1140819.5000 - ssim_multiscale: 0.5911 - sharpdiff: 0.5238 - mean_absolute_error: 0.4045 - mean_squared_error: 0.29 - ETA: 1:57 - loss: 551386.1800 - psnr: 5.4730 - total_variation: 1141174.8750 - ssim_multiscale: 0.5911 - sharpdiff: 0.5224 - mean_absolute_error: 0.4046 - mean_squared_error: 0.29 - ETA: 1:57 - loss: 549982.9045 - psnr: 5.4752 - total_variation: 1140743.2500 - ssim_multiscale: 0.5912 - sharpdiff: 0.5245 - mean_absolute_error: 0.4045 - mean_squared_error: 0.29 - ETA: 1:57 - loss: 547836.4618 - psnr: 5.4739 - total_variation: 1141143.6250 - ssim_multiscale: 0.5911 - sharpdiff: 0.5229 - mean_absolute_error: 0.4045 - mean_squared_error: 0.29 - ETA: 1:56 - loss: 545974.4655 - psnr: 5.4730 - total_variation: 1141475.8750 - ssim_multiscale: 0.5912 - sharpdiff: 0.5215 - mean_absolute_error: 0.4046 - mean_squared_error: 0.29 - ETA: 1:56 - loss: 544480.0179 - psnr: 5.4742 - total_variation: 1141337.5000 - ssim_multiscale: 0.5912 - sharpdiff: 0.5221 - mean_absolute_error: 0.4045 - mean_squared_error: 0.29 - ETA: 1:56 - loss: 542478.1044 - psnr: 5.4743 - total_variation: 1141649.1250 - ssim_multiscale: 0.5911 - sharpdiff: 0.5208 - mean_absolute_error: 0.4046 - mean_squared_error: 0.29 - ETA: 1:56 - loss: 540759.2427 - psnr: 5.4728 - total_variation: 1141991.6250 - ssim_multiscale: 0.5910 - sharpdiff: 0.5193 - mean_absolute_error: 0.4046 - mean_squared_error: 0.29 - ETA: 1:55 - loss: 538978.8710 - psnr: 5.4742 - total_variation: 1141945.0000 - ssim_multiscale: 0.5910 - sharpdiff: 0.5195 - mean_absolute_error: 0.4046 - mean_squared_error: 0.29 - ETA: 1:55 - loss: 537300.0116 - psnr: 5.4735 - total_variation: 1142238.5000 - ssim_multiscale: 0.5913 - sharpdiff: 0.5183 - mean_absolute_error: 0.4046 - mean_squared_error: 0.2911"
     ]
    },
    {
     "name": "stdout",
     "output_type": "stream",
     "text": [
      " 630/1000 [=================>............] - ETA: 1:55 - loss: 535426.5529 - psnr: 5.4727 - total_variation: 1142680.3750 - ssim_multiscale: 0.5913 - sharpdiff: 0.5166 - mean_absolute_error: 0.4047 - mean_squared_error: 0.29 - ETA: 1:54 - loss: 533835.4443 - psnr: 5.4715 - total_variation: 1143043.3750 - ssim_multiscale: 0.5912 - sharpdiff: 0.5152 - mean_absolute_error: 0.4048 - mean_squared_error: 0.29 - ETA: 1:54 - loss: 531786.1782 - psnr: 5.4712 - total_variation: 1143395.1250 - ssim_multiscale: 0.5911 - sharpdiff: 0.5137 - mean_absolute_error: 0.4048 - mean_squared_error: 0.29 - ETA: 1:54 - loss: 530309.1090 - psnr: 5.4694 - total_variation: 1143705.3750 - ssim_multiscale: 0.5912 - sharpdiff: 0.5124 - mean_absolute_error: 0.4049 - mean_squared_error: 0.29 - ETA: 1:54 - loss: 528228.1784 - psnr: 5.4690 - total_variation: 1143979.7500 - ssim_multiscale: 0.5914 - sharpdiff: 0.5113 - mean_absolute_error: 0.4049 - mean_squared_error: 0.29 - ETA: 1:53 - loss: 526414.9051 - psnr: 5.4706 - total_variation: 1143905.8750 - ssim_multiscale: 0.5913 - sharpdiff: 0.5115 - mean_absolute_error: 0.4049 - mean_squared_error: 0.29 - ETA: 1:53 - loss: 524589.9500 - psnr: 5.4696 - total_variation: 1144234.5000 - ssim_multiscale: 0.5914 - sharpdiff: 0.5102 - mean_absolute_error: 0.4049 - mean_squared_error: 0.29 - ETA: 1:53 - loss: 523028.7794 - psnr: 5.4714 - total_variation: 1144103.1250 - ssim_multiscale: 0.5915 - sharpdiff: 0.5109 - mean_absolute_error: 0.4049 - mean_squared_error: 0.29 - ETA: 1:52 - loss: 521251.1703 - psnr: 5.4713 - total_variation: 1144293.1250 - ssim_multiscale: 0.5915 - sharpdiff: 0.5102 - mean_absolute_error: 0.4049 - mean_squared_error: 0.29 - ETA: 1:52 - loss: 519296.1252 - psnr: 5.4705 - total_variation: 1144662.8750 - ssim_multiscale: 0.5917 - sharpdiff: 0.5087 - mean_absolute_error: 0.4049 - mean_squared_error: 0.29 - ETA: 1:52 - loss: 517262.4933 - psnr: 5.4708 - total_variation: 1144913.1250 - ssim_multiscale: 0.5918 - sharpdiff: 0.5075 - mean_absolute_error: 0.4049 - mean_squared_error: 0.29 - ETA: 1:52 - loss: 515544.1186 - psnr: 5.4723 - total_variation: 1144766.8750 - ssim_multiscale: 0.5918 - sharpdiff: 0.5081 - mean_absolute_error: 0.4048 - mean_squared_error: 0.29 - ETA: 1:51 - loss: 513683.8593 - psnr: 5.4716 - total_variation: 1145105.3750 - ssim_multiscale: 0.5918 - sharpdiff: 0.5068 - mean_absolute_error: 0.4049 - mean_squared_error: 0.29 - ETA: 1:51 - loss: 511954.1515 - psnr: 5.4703 - total_variation: 1145442.2500 - ssim_multiscale: 0.5919 - sharpdiff: 0.5054 - mean_absolute_error: 0.4050 - mean_squared_error: 0.29 - ETA: 1:51 - loss: 510191.0994 - psnr: 5.4696 - total_variation: 1145679.6250 - ssim_multiscale: 0.5920 - sharpdiff: 0.5044 - mean_absolute_error: 0.4050 - mean_squared_error: 0.29 - ETA: 1:50 - loss: 508293.2307 - psnr: 5.4684 - total_variation: 1145992.2500 - ssim_multiscale: 0.5919 - sharpdiff: 0.5032 - mean_absolute_error: 0.4051 - mean_squared_error: 0.29 - ETA: 1:50 - loss: 506963.7418 - psnr: 5.4672 - total_variation: 1146268.7500 - ssim_multiscale: 0.5917 - sharpdiff: 0.5020 - mean_absolute_error: 0.4052 - mean_squared_error: 0.29 - ETA: 1:50 - loss: 505069.9110 - psnr: 5.4664 - total_variation: 1146636.0000 - ssim_multiscale: 0.5918 - sharpdiff: 0.5006 - mean_absolute_error: 0.4052 - mean_squared_error: 0.29 - ETA: 1:50 - loss: 503208.0348 - psnr: 5.4656 - total_variation: 1146845.5000 - ssim_multiscale: 0.5920 - sharpdiff: 0.4998 - mean_absolute_error: 0.4053 - mean_squared_error: 0.29 - ETA: 1:49 - loss: 501301.3446 - psnr: 5.4648 - total_variation: 1147148.5000 - ssim_multiscale: 0.5921 - sharpdiff: 0.4985 - mean_absolute_error: 0.4053 - mean_squared_error: 0.29 - ETA: 1:49 - loss: 499413.8690 - psnr: 5.4643 - total_variation: 1147486.5000 - ssim_multiscale: 0.5923 - sharpdiff: 0.4972 - mean_absolute_error: 0.4054 - mean_squared_error: 0.29 - ETA: 1:49 - loss: 498269.1518 - psnr: 5.4665 - total_variation: 1146884.2500 - ssim_multiscale: 0.5922 - sharpdiff: 0.5001 - mean_absolute_error: 0.4052 - mean_squared_error: 0.29 - ETA: 1:48 - loss: 496301.3717 - psnr: 5.4670 - total_variation: 1147126.6250 - ssim_multiscale: 0.5923 - sharpdiff: 0.4990 - mean_absolute_error: 0.4052 - mean_squared_error: 0.29 - ETA: 1:48 - loss: 494798.7791 - psnr: 5.4657 - total_variation: 1147416.6250 - ssim_multiscale: 0.5924 - sharpdiff: 0.4979 - mean_absolute_error: 0.4053 - mean_squared_error: 0.29 - ETA: 1:48 - loss: 493806.6299 - psnr: 5.4691 - total_variation: 1146550.5000 - ssim_multiscale: 0.5924 - sharpdiff: 0.5021 - mean_absolute_error: 0.4051 - mean_squared_error: 0.29 - ETA: 1:48 - loss: 492869.3649 - psnr: 5.4725 - total_variation: 1145619.6250 - ssim_multiscale: 0.5925 - sharpdiff: 0.5068 - mean_absolute_error: 0.4049 - mean_squared_error: 0.29 - ETA: 1:47 - loss: 490792.3593 - psnr: 5.4726 - total_variation: 1145952.2500 - ssim_multiscale: 0.5926 - sharpdiff: 0.5055 - mean_absolute_error: 0.4049 - mean_squared_error: 0.29 - ETA: 1:47 - loss: 488805.4196 - psnr: 5.4722 - total_variation: 1146309.6250 - ssim_multiscale: 0.5926 - sharpdiff: 0.5040 - mean_absolute_error: 0.4050 - mean_squared_error: 0.29 - ETA: 1:47 - loss: 487267.8294 - psnr: 5.4731 - total_variation: 1146263.5000 - ssim_multiscale: 0.5926 - sharpdiff: 0.5042 - mean_absolute_error: 0.4049 - mean_squared_error: 0.29 - ETA: 1:46 - loss: 485218.2438 - psnr: 5.4730 - total_variation: 1146531.5000 - ssim_multiscale: 0.5926 - sharpdiff: 0.5030 - mean_absolute_error: 0.4050 - mean_squared_error: 0.29 - ETA: 1:46 - loss: 483248.9780 - psnr: 5.4726 - total_variation: 1146928.8750 - ssim_multiscale: 0.5927 - sharpdiff: 0.5015 - mean_absolute_error: 0.4050 - mean_squared_error: 0.29 - ETA: 1:46 - loss: 481580.7233 - psnr: 5.4709 - total_variation: 1147263.3750 - ssim_multiscale: 0.5927 - sharpdiff: 0.5001 - mean_absolute_error: 0.4051 - mean_squared_error: 0.29 - ETA: 1:46 - loss: 479758.5697 - psnr: 5.4699 - total_variation: 1147613.5000 - ssim_multiscale: 0.5929 - sharpdiff: 0.4987 - mean_absolute_error: 0.4052 - mean_squared_error: 0.29 - ETA: 1:45 - loss: 477835.6969 - psnr: 5.4686 - total_variation: 1147914.5000 - ssim_multiscale: 0.5930 - sharpdiff: 0.4975 - mean_absolute_error: 0.4052 - mean_squared_error: 0.29 - ETA: 1:45 - loss: 476079.2581 - psnr: 5.4691 - total_variation: 1148043.5000 - ssim_multiscale: 0.5929 - sharpdiff: 0.4969 - mean_absolute_error: 0.4052 - mean_squared_error: 0.29 - ETA: 1:45 - loss: 474060.0361 - psnr: 5.4689 - total_variation: 1148379.8750 - ssim_multiscale: 0.5931 - sharpdiff: 0.4955 - mean_absolute_error: 0.4052 - mean_squared_error: 0.29 - ETA: 1:44 - loss: 472572.1239 - psnr: 5.4672 - total_variation: 1148660.3750 - ssim_multiscale: 0.5931 - sharpdiff: 0.4945 - mean_absolute_error: 0.4053 - mean_squared_error: 0.29 - ETA: 1:44 - loss: 470970.3800 - psnr: 5.4660 - total_variation: 1148970.2500 - ssim_multiscale: 0.5932 - sharpdiff: 0.4933 - mean_absolute_error: 0.4054 - mean_squared_error: 0.29 - ETA: 1:44 - loss: 469064.2806 - psnr: 5.4659 - total_variation: 1149263.7500 - ssim_multiscale: 0.5931 - sharpdiff: 0.4920 - mean_absolute_error: 0.4054 - mean_squared_error: 0.29 - ETA: 1:44 - loss: 467659.8314 - psnr: 5.4644 - total_variation: 1149595.5000 - ssim_multiscale: 0.5931 - sharpdiff: 0.4908 - mean_absolute_error: 0.4055 - mean_squared_error: 0.29 - ETA: 1:43 - loss: 466418.0404 - psnr: 5.4628 - total_variation: 1149854.0000 - ssim_multiscale: 0.5933 - sharpdiff: 0.4897 - mean_absolute_error: 0.4056 - mean_squared_error: 0.29 - ETA: 1:43 - loss: 464657.7786 - psnr: 5.4618 - total_variation: 1150183.7500 - ssim_multiscale: 0.5936 - sharpdiff: 0.4884 - mean_absolute_error: 0.4057 - mean_squared_error: 0.29 - ETA: 1:43 - loss: 463443.2506 - psnr: 5.4607 - total_variation: 1150455.2500 - ssim_multiscale: 0.5936 - sharpdiff: 0.4873 - mean_absolute_error: 0.4058 - mean_squared_error: 0.29 - ETA: 1:42 - loss: 461828.5333 - psnr: 5.4591 - total_variation: 1150772.0000 - ssim_multiscale: 0.5937 - sharpdiff: 0.4860 - mean_absolute_error: 0.4059 - mean_squared_error: 0.29 - ETA: 1:42 - loss: 460464.5444 - psnr: 5.4574 - total_variation: 1151054.2500 - ssim_multiscale: 0.5937 - sharpdiff: 0.4848 - mean_absolute_error: 0.4060 - mean_squared_error: 0.2921"
     ]
    },
    {
     "name": "stdout",
     "output_type": "stream",
     "text": [
      " 654/1000 [==================>...........] - ETA: 1:42 - loss: 458567.9502 - psnr: 5.4575 - total_variation: 1151363.3750 - ssim_multiscale: 0.5936 - sharpdiff: 0.4836 - mean_absolute_error: 0.4060 - mean_squared_error: 0.29 - ETA: 1:42 - loss: 456846.1388 - psnr: 5.4575 - total_variation: 1151642.3750 - ssim_multiscale: 0.5936 - sharpdiff: 0.4825 - mean_absolute_error: 0.4060 - mean_squared_error: 0.29 - ETA: 1:41 - loss: 455086.3160 - psnr: 5.4581 - total_variation: 1151740.1250 - ssim_multiscale: 0.5935 - sharpdiff: 0.4820 - mean_absolute_error: 0.4060 - mean_squared_error: 0.29 - ETA: 1:41 - loss: 453611.5184 - psnr: 5.4611 - total_variation: 1151337.3750 - ssim_multiscale: 0.5938 - sharpdiff: 0.4838 - mean_absolute_error: 0.4058 - mean_squared_error: 0.29 - ETA: 1:41 - loss: 452101.2388 - psnr: 5.4599 - total_variation: 1151630.2500 - ssim_multiscale: 0.5938 - sharpdiff: 0.4827 - mean_absolute_error: 0.4059 - mean_squared_error: 0.29 - ETA: 1:40 - loss: 450658.9523 - psnr: 5.4582 - total_variation: 1151889.3750 - ssim_multiscale: 0.5938 - sharpdiff: 0.4817 - mean_absolute_error: 0.4060 - mean_squared_error: 0.29 - ETA: 1:40 - loss: 448888.3309 - psnr: 5.4574 - total_variation: 1152216.3750 - ssim_multiscale: 0.5940 - sharpdiff: 0.4804 - mean_absolute_error: 0.4061 - mean_squared_error: 0.29 - ETA: 1:40 - loss: 447158.4687 - psnr: 5.4571 - total_variation: 1152445.2500 - ssim_multiscale: 0.5940 - sharpdiff: 0.4795 - mean_absolute_error: 0.4061 - mean_squared_error: 0.29 - ETA: 1:40 - loss: 445759.5430 - psnr: 5.4554 - total_variation: 1152705.0000 - ssim_multiscale: 0.5940 - sharpdiff: 0.4785 - mean_absolute_error: 0.4062 - mean_squared_error: 0.29 - ETA: 1:39 - loss: 443765.5345 - psnr: 5.4558 - total_variation: 1152921.8750 - ssim_multiscale: 0.5941 - sharpdiff: 0.4775 - mean_absolute_error: 0.4062 - mean_squared_error: 0.29 - ETA: 1:39 - loss: 441829.3392 - psnr: 5.4555 - total_variation: 1153313.0000 - ssim_multiscale: 0.5942 - sharpdiff: 0.4759 - mean_absolute_error: 0.4062 - mean_squared_error: 0.29 - ETA: 1:39 - loss: 440522.1724 - psnr: 5.4538 - total_variation: 1153588.5000 - ssim_multiscale: 0.5943 - sharpdiff: 0.4748 - mean_absolute_error: 0.4063 - mean_squared_error: 0.29 - ETA: 1:38 - loss: 438834.0924 - psnr: 5.4525 - total_variation: 1154010.8750 - ssim_multiscale: 0.5941 - sharpdiff: 0.4731 - mean_absolute_error: 0.4064 - mean_squared_error: 0.29 - ETA: 1:38 - loss: 437075.7397 - psnr: 5.4513 - total_variation: 1154355.6250 - ssim_multiscale: 0.5941 - sharpdiff: 0.4717 - mean_absolute_error: 0.4065 - mean_squared_error: 0.29 - ETA: 1:38 - loss: 435128.9991 - psnr: 5.4512 - total_variation: 1154704.2500 - ssim_multiscale: 0.5942 - sharpdiff: 0.4703 - mean_absolute_error: 0.4065 - mean_squared_error: 0.29 - ETA: 1:38 - loss: 433820.3797 - psnr: 5.4530 - total_variation: 1154501.5000 - ssim_multiscale: 0.5942 - sharpdiff: 0.4712 - mean_absolute_error: 0.4064 - mean_squared_error: 0.29 - ETA: 1:37 - loss: 432221.0127 - psnr: 5.4517 - total_variation: 1154831.7500 - ssim_multiscale: 0.5942 - sharpdiff: 0.4699 - mean_absolute_error: 0.4065 - mean_squared_error: 0.29 - ETA: 1:37 - loss: 430732.7290 - psnr: 5.4507 - total_variation: 1155149.2500 - ssim_multiscale: 0.5942 - sharpdiff: 0.4686 - mean_absolute_error: 0.4065 - mean_squared_error: 0.29 - ETA: 1:37 - loss: 429338.1599 - psnr: 5.4493 - total_variation: 1155389.6250 - ssim_multiscale: 0.5944 - sharpdiff: 0.4676 - mean_absolute_error: 0.4066 - mean_squared_error: 0.29 - ETA: 1:36 - loss: 427451.2724 - psnr: 5.4497 - total_variation: 1155637.7500 - ssim_multiscale: 0.5946 - sharpdiff: 0.4666 - mean_absolute_error: 0.4066 - mean_squared_error: 0.29 - ETA: 1:36 - loss: 425941.5935 - psnr: 5.4486 - total_variation: 1155961.7500 - ssim_multiscale: 0.5947 - sharpdiff: 0.4653 - mean_absolute_error: 0.4067 - mean_squared_error: 0.29 - ETA: 1:36 - loss: 424030.6720 - psnr: 5.4480 - total_variation: 1156325.7500 - ssim_multiscale: 0.5947 - sharpdiff: 0.4638 - mean_absolute_error: 0.4067 - mean_squared_error: 0.29 - ETA: 1:36 - loss: 422190.7535 - psnr: 5.4473 - total_variation: 1156570.1250 - ssim_multiscale: 0.5947 - sharpdiff: 0.4628 - mean_absolute_error: 0.4068 - mean_squared_error: 0.29 - ETA: 1:35 - loss: 420707.6578 - psnr: 5.4461 - total_variation: 1156868.6250 - ssim_multiscale: 0.5947 - sharpdiff: 0.4616 - mean_absolute_error: 0.4068 - mean_squared_error: 0.2928"
     ]
    }
   ],
   "source": [
    "ae.fit(\n",
    "    x=train_ds,\n",
    "    input_kw=None,\n",
    "    steps_per_epoch=1000,\n",
    "    epochs=int(1e6), \n",
    "    verbose=1,\n",
    "    callbacks=[ es, ms, csv_log, sg],\n",
    "    workers=-1,\n",
    "    use_multiprocessing=True,\n",
    "    validation_data=test_ds,\n",
    "    validation_steps=1000\n",
    ")"
   ]
  },
  {
   "cell_type": "code",
   "execution_count": null,
   "metadata": {},
   "outputs": [],
   "source": []
  },
  {
   "cell_type": "markdown",
   "metadata": {},
   "source": [
    "# Model Evaluation"
   ]
  },
  {
   "cell_type": "markdown",
   "metadata": {},
   "source": [
    "## inception_score"
   ]
  },
  {
   "cell_type": "code",
   "execution_count": null,
   "metadata": {},
   "outputs": [],
   "source": [
    "from evaluation.generativity_metrics.inception_metrics import inception_score"
   ]
  },
  {
   "cell_type": "code",
   "execution_count": null,
   "metadata": {},
   "outputs": [],
   "source": [
    "is_mean, is_sigma = inception_score(ae, tolerance_threshold=1e-6, max_iteration=200)\n",
    "print(f'inception_score mean: {is_mean}, sigma: {is_sigma}')"
   ]
  },
  {
   "cell_type": "markdown",
   "metadata": {},
   "source": [
    "## Frechet_inception_distance"
   ]
  },
  {
   "cell_type": "code",
   "execution_count": null,
   "metadata": {},
   "outputs": [],
   "source": [
    "from evaluation.generativity_metrics.inception_metrics import frechet_inception_distance"
   ]
  },
  {
   "cell_type": "code",
   "execution_count": null,
   "metadata": {},
   "outputs": [],
   "source": [
    "fis_score = frechet_inception_distance(ae, training_generator, tolerance_threshold=1e-6, max_iteration=10, batch_size=32)\n",
    "print(f'frechet inception distance: {fis_score}')"
   ]
  },
  {
   "cell_type": "code",
   "execution_count": null,
   "metadata": {},
   "outputs": [],
   "source": []
  },
  {
   "cell_type": "markdown",
   "metadata": {},
   "source": [
    "## perceptual_path_length_score"
   ]
  },
  {
   "cell_type": "code",
   "execution_count": null,
   "metadata": {},
   "outputs": [],
   "source": [
    "from evaluation.generativity_metrics.perceptual_path_length import perceptual_path_length_score"
   ]
  },
  {
   "cell_type": "code",
   "execution_count": null,
   "metadata": {
    "scrolled": true
   },
   "outputs": [],
   "source": [
    "ppl_mean_score = perceptual_path_length_score(ae, training_generator, tolerance_threshold=1e-6, max_iteration=200, batch_size=32)\n",
    "print(f'perceptual path length score: {ppl_mean_score}')"
   ]
  },
  {
   "cell_type": "code",
   "execution_count": null,
   "metadata": {},
   "outputs": [],
   "source": []
  },
  {
   "cell_type": "markdown",
   "metadata": {},
   "source": [
    "## precision score"
   ]
  },
  {
   "cell_type": "code",
   "execution_count": null,
   "metadata": {},
   "outputs": [],
   "source": [
    "from evaluation.generativity_metrics.precision_recall import precision_score"
   ]
  },
  {
   "cell_type": "code",
   "execution_count": null,
   "metadata": {},
   "outputs": [],
   "source": [
    "_precision_score = precision_score(ae, training_generator, tolerance_threshold=1e-6, max_iteration=200)\n",
    "print(f'precision score: {_precision_score}')"
   ]
  },
  {
   "cell_type": "markdown",
   "metadata": {},
   "source": [
    "## recall score"
   ]
  },
  {
   "cell_type": "code",
   "execution_count": null,
   "metadata": {},
   "outputs": [],
   "source": [
    "from evaluation.generativity_metrics.precision_recall import recall_score"
   ]
  },
  {
   "cell_type": "code",
   "execution_count": null,
   "metadata": {},
   "outputs": [],
   "source": [
    "_recall_score = recall_score(ae, training_generator, tolerance_threshold=1e-6, max_iteration=200)\n",
    "print(f'recall score: {_recall_score}')"
   ]
  },
  {
   "cell_type": "code",
   "execution_count": null,
   "metadata": {},
   "outputs": [],
   "source": []
  },
  {
   "cell_type": "markdown",
   "metadata": {},
   "source": [
    "# Image Generation"
   ]
  },
  {
   "cell_type": "markdown",
   "metadata": {},
   "source": [
    "## image reconstruction"
   ]
  },
  {
   "cell_type": "markdown",
   "metadata": {},
   "source": [
    "### Training dataset"
   ]
  },
  {
   "cell_type": "code",
   "execution_count": null,
   "metadata": {},
   "outputs": [],
   "source": [
    "%load_ext autoreload\n",
    "%autoreload 2"
   ]
  },
  {
   "cell_type": "code",
   "execution_count": null,
   "metadata": {},
   "outputs": [],
   "source": [
    "from training.generators.image_generation_testing import reconstruct_from_a_batch"
   ]
  },
  {
   "cell_type": "code",
   "execution_count": null,
   "metadata": {},
   "outputs": [],
   "source": [
    "from utils.data_and_files.file_utils import create_if_not_exist\n",
    "save_dir = os.path.join(experiments_dir, 'reconstruct_training_images_like_a_batch_dir')\n",
    "create_if_not_exist(save_dir)\n",
    "\n",
    "reconstruct_from_a_batch(ae, training_generator, save_dir)"
   ]
  },
  {
   "cell_type": "code",
   "execution_count": null,
   "metadata": {},
   "outputs": [],
   "source": [
    "from utils.data_and_files.file_utils import create_if_not_exist\n",
    "save_dir = os.path.join(experiments_dir, 'reconstruct_testing_images_like_a_batch_dir')\n",
    "create_if_not_exist(save_dir)\n",
    "\n",
    "reconstruct_from_a_batch(ae, testing_generator, save_dir)"
   ]
  },
  {
   "cell_type": "markdown",
   "metadata": {},
   "source": [
    "## with Randomness"
   ]
  },
  {
   "cell_type": "code",
   "execution_count": null,
   "metadata": {},
   "outputs": [],
   "source": [
    "from training.generators.image_generation_testing import generate_images_like_a_batch"
   ]
  },
  {
   "cell_type": "code",
   "execution_count": null,
   "metadata": {},
   "outputs": [],
   "source": [
    "from utils.data_and_files.file_utils import create_if_not_exist\n",
    "save_dir = os.path.join(experiments_dir, 'generate_training_images_like_a_batch_dir')\n",
    "create_if_not_exist(save_dir)\n",
    "\n",
    "generate_images_like_a_batch(ae, training_generator, save_dir)"
   ]
  },
  {
   "cell_type": "code",
   "execution_count": null,
   "metadata": {},
   "outputs": [],
   "source": [
    "from utils.data_and_files.file_utils import create_if_not_exist\n",
    "save_dir = os.path.join(experiments_dir, 'generate_testing_images_like_a_batch_dir')\n",
    "create_if_not_exist(save_dir)\n",
    "\n",
    "generate_images_like_a_batch(ae, testing_generator, save_dir)"
   ]
  },
  {
   "cell_type": "code",
   "execution_count": null,
   "metadata": {},
   "outputs": [],
   "source": []
  },
  {
   "cell_type": "markdown",
   "metadata": {},
   "source": [
    "### Complete Randomness"
   ]
  },
  {
   "cell_type": "code",
   "execution_count": null,
   "metadata": {},
   "outputs": [],
   "source": [
    "from training.generators.image_generation_testing import generate_images_randomly"
   ]
  },
  {
   "cell_type": "code",
   "execution_count": null,
   "metadata": {},
   "outputs": [],
   "source": [
    "from utils.data_and_files.file_utils import create_if_not_exist\n",
    "save_dir = os.path.join(experiments_dir, 'random_synthetic_dir')\n",
    "create_if_not_exist(save_dir)\n",
    "\n",
    "generate_images_randomly(ae, save_dir)"
   ]
  },
  {
   "cell_type": "code",
   "execution_count": null,
   "metadata": {},
   "outputs": [],
   "source": [
    "from training.generators.image_generation_testing import interpolate_a_batch"
   ]
  },
  {
   "cell_type": "code",
   "execution_count": null,
   "metadata": {
    "scrolled": false
   },
   "outputs": [],
   "source": [
    "from utils.data_and_files.file_utils import create_if_not_exist\n",
    "save_dir = os.path.join(experiments_dir, 'interpolate_dir')\n",
    "create_if_not_exist(save_dir)\n",
    "\n",
    "interpolate_a_batch(ae, testing_generator, save_dir)"
   ]
  },
  {
   "cell_type": "code",
   "execution_count": null,
   "metadata": {},
   "outputs": [],
   "source": []
  },
  {
   "cell_type": "code",
   "execution_count": null,
   "metadata": {},
   "outputs": [],
   "source": []
  },
  {
   "cell_type": "markdown",
   "metadata": {},
   "source": [
    "# Image Generation"
   ]
  },
  {
   "cell_type": "markdown",
   "metadata": {},
   "source": [
    "## image reconstruction"
   ]
  },
  {
   "cell_type": "markdown",
   "metadata": {},
   "source": [
    "### Training dataset"
   ]
  },
  {
   "cell_type": "code",
   "execution_count": null,
   "metadata": {},
   "outputs": [],
   "source": [
    "%load_ext autoreload\n",
    "%autoreload 2"
   ]
  },
  {
   "cell_type": "code",
   "execution_count": null,
   "metadata": {},
   "outputs": [],
   "source": [
    "from training.generators.image_generation_testing import reconstruct_from_a_batch"
   ]
  },
  {
   "cell_type": "code",
   "execution_count": null,
   "metadata": {},
   "outputs": [],
   "source": [
    "from utils.data_and_files.file_utils import create_if_not_exist\n",
    "save_dir = os.path.join(experiments_dir, 'reconstruct_training_images_like_a_batch_dir')\n",
    "create_if_not_exist(save_dir)\n",
    "\n",
    "reconstruct_from_a_batch(ae, training_generator, save_dir)"
   ]
  },
  {
   "cell_type": "code",
   "execution_count": null,
   "metadata": {},
   "outputs": [],
   "source": [
    "from utils.data_and_files.file_utils import create_if_not_exist\n",
    "save_dir = os.path.join(experiments_dir, 'reconstruct_testing_images_like_a_batch_dir')\n",
    "create_if_not_exist(save_dir)\n",
    "\n",
    "reconstruct_from_a_batch(ae, testing_generator, save_dir)"
   ]
  },
  {
   "cell_type": "markdown",
   "metadata": {},
   "source": [
    "## with Randomness"
   ]
  },
  {
   "cell_type": "code",
   "execution_count": null,
   "metadata": {},
   "outputs": [],
   "source": [
    "from training.generators.image_generation_testing import generate_images_like_a_batch"
   ]
  },
  {
   "cell_type": "code",
   "execution_count": null,
   "metadata": {},
   "outputs": [],
   "source": [
    "from utils.data_and_files.file_utils import create_if_not_exist\n",
    "save_dir = os.path.join(experiments_dir, 'generate_training_images_like_a_batch_dir')\n",
    "create_if_not_exist(save_dir)\n",
    "\n",
    "generate_images_like_a_batch(ae, training_generator, save_dir)"
   ]
  },
  {
   "cell_type": "code",
   "execution_count": null,
   "metadata": {},
   "outputs": [],
   "source": [
    "from utils.data_and_files.file_utils import create_if_not_exist\n",
    "save_dir = os.path.join(experiments_dir, 'generate_testing_images_like_a_batch_dir')\n",
    "create_if_not_exist(save_dir)\n",
    "\n",
    "generate_images_like_a_batch(ae, testing_generator, save_dir)"
   ]
  },
  {
   "cell_type": "code",
   "execution_count": null,
   "metadata": {},
   "outputs": [],
   "source": []
  },
  {
   "cell_type": "markdown",
   "metadata": {},
   "source": [
    "### Complete Randomness"
   ]
  },
  {
   "cell_type": "code",
   "execution_count": null,
   "metadata": {},
   "outputs": [],
   "source": [
    "from training.generators.image_generation_testing import generate_images_randomly"
   ]
  },
  {
   "cell_type": "code",
   "execution_count": null,
   "metadata": {},
   "outputs": [],
   "source": [
    "from utils.data_and_files.file_utils import create_if_not_exist\n",
    "save_dir = os.path.join(experiments_dir, 'random_synthetic_dir')\n",
    "create_if_not_exist(save_dir)\n",
    "\n",
    "generate_images_randomly(ae, save_dir)"
   ]
  },
  {
   "cell_type": "code",
   "execution_count": null,
   "metadata": {},
   "outputs": [],
   "source": [
    "from training.generators.image_generation_testing import interpolate_a_batch"
   ]
  },
  {
   "cell_type": "code",
   "execution_count": null,
   "metadata": {
    "scrolled": false
   },
   "outputs": [],
   "source": [
    "from utils.data_and_files.file_utils import create_if_not_exist\n",
    "save_dir = os.path.join(experiments_dir, 'interpolate_dir')\n",
    "create_if_not_exist(save_dir)\n",
    "\n",
    "interpolate_a_batch(ae, testing_generator, save_dir)"
   ]
  },
  {
   "cell_type": "code",
   "execution_count": null,
   "metadata": {},
   "outputs": [],
   "source": []
  }
 ],
 "metadata": {
  "kernelspec": {
   "display_name": "Python 3",
   "language": "python",
   "name": "python3"
  },
  "language_info": {
   "codemirror_mode": {
    "name": "ipython",
    "version": 3
   },
   "file_extension": ".py",
   "mimetype": "text/x-python",
   "name": "python",
   "nbconvert_exporter": "python",
   "pygments_lexer": "ipython3",
   "version": "3.7.5"
  }
 },
 "nbformat": 4,
 "nbformat_minor": 2
}
