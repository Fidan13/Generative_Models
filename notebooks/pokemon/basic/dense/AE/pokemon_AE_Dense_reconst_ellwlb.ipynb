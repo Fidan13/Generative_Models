{
 "cells": [
  {
   "cell_type": "code",
   "execution_count": 1,
   "metadata": {},
   "outputs": [],
   "source": [
    "%load_ext autoreload\n",
    "%autoreload 2"
   ]
  },
  {
   "cell_type": "markdown",
   "metadata": {},
   "source": [
    "# Settings"
   ]
  },
  {
   "cell_type": "code",
   "execution_count": 2,
   "metadata": {},
   "outputs": [],
   "source": [
    "%env TF_KERAS = 1\n",
    "import os\n",
    "sep_local = os.path.sep\n",
    "\n",
    "import sys\n",
    "sys.path.append('..'+sep_local+'..')\n",
    "print(sep_local)"
   ]
  },
  {
   "cell_type": "code",
   "execution_count": 3,
   "metadata": {},
   "outputs": [
    {
     "name": "stdout",
     "output_type": "stream",
     "text": [
      "2.3.0\n"
     ]
    }
   ],
   "source": [
    "import tensorflow as tf\n",
    "print(tf.__version__)"
   ]
  },
  {
   "cell_type": "code",
   "execution_count": 4,
   "metadata": {},
   "outputs": [
    {
     "name": "stdout",
     "output_type": "stream",
     "text": [
      "C:\\Users\\Khalid\\Documents\\projects\\Generative_Models\n"
     ]
    }
   ],
   "source": [
    "os.chdir('..'+sep_local+'..'+sep_local+'..'+sep_local+'..'+sep_local+'..')\n",
    "print(os.getcwd())"
   ]
  },
  {
   "cell_type": "markdown",
   "metadata": {},
   "source": [
    "# only on colab"
   ]
  },
  {
   "cell_type": "code",
   "execution_count": 5,
   "metadata": {},
   "outputs": [],
   "source": [
    "#!cat data/.pokemon/pokemon.tar.part* > data/.pokemon/pokemon.tar"
   ]
  },
  {
   "cell_type": "code",
   "execution_count": 6,
   "metadata": {},
   "outputs": [],
   "source": [
    "#!tar -xvf data/.pokemon/pokemon_combined.tar --directory data/.pokemon/"
   ]
  },
  {
   "cell_type": "markdown",
   "metadata": {},
   "source": [
    "# Dataset loading"
   ]
  },
  {
   "cell_type": "code",
   "execution_count": 7,
   "metadata": {},
   "outputs": [
    {
     "name": "stderr",
     "output_type": "stream",
     "text": [
      "Using TensorFlow backend.\n"
     ]
    }
   ],
   "source": [
    "from training.generators.from_lmdb.lmdb_image_generator import get_generators"
   ]
  },
  {
   "cell_type": "code",
   "execution_count": 8,
   "metadata": {},
   "outputs": [],
   "source": [
    "dataset_name='pokemon'\n",
    "inputs_shape= image_shape=(100, 100, 3)\n",
    "batch_size = 10\n",
    "latents_dim = 32\n",
    "intermediate_dim = 50\n",
    "lmdb_dir = 'data/.pokemon/Pokemon_LMDB'"
   ]
  },
  {
   "cell_type": "code",
   "execution_count": 9,
   "metadata": {},
   "outputs": [],
   "source": [
    "from transformation.lmdb_transformer import LmdbTransformer"
   ]
  },
  {
   "cell_type": "code",
   "execution_count": 10,
   "metadata": {
    "scrolled": true
   },
   "outputs": [
    {
     "name": "stdout",
     "output_type": "stream",
     "text": [
      "\n"
     ]
    },
    {
     "name": "stderr",
     "output_type": "stream",
     "text": [
      "  DEBUG    | Looking for images in '_training'\n",
      "  DEBUG    | Looking for images in '_training'\n"
     ]
    },
    {
     "name": "stdout",
     "output_type": "stream",
     "text": [
      "\n"
     ]
    },
    {
     "name": "stderr",
     "output_type": "stream",
     "text": [
      "  WARNING  | No files found\n",
      "  WARNING  | No files found\n",
      "C:\\Users\\Khalid\\Documents\\projects\\Generative_Models\\transformation\\file_image_generator.py:51: UserWarning: No files found\n",
      "  warnings.warn(msg)\n"
     ]
    },
    {
     "name": "stdout",
     "output_type": "stream",
     "text": [
      "\n"
     ]
    },
    {
     "name": "stderr",
     "output_type": "stream",
     "text": [
      "  DEBUG    | Looking for images in '_validation'\n",
      "  DEBUG    | Looking for images in '_validation'\n"
     ]
    },
    {
     "name": "stdout",
     "output_type": "stream",
     "text": [
      "\n"
     ]
    },
    {
     "name": "stderr",
     "output_type": "stream",
     "text": [
      "  WARNING  | No files found\n",
      "  WARNING  | No files found\n"
     ]
    },
    {
     "name": "stdout",
     "output_type": "stream",
     "text": [
      "Initializing Iterator training Number of images 591\n",
      "Initializing Iterator validation Number of images 218\n"
     ]
    }
   ],
   "source": [
    "train_generator, val_generator = get_generators(\n",
    "        lmdb_dir=lmdb_dir,\n",
    "        batch_size=batch_size,\n",
    "        episode_len=None,\n",
    "        episode_shift=None\n",
    ")"
   ]
  },
  {
   "cell_type": "code",
   "execution_count": 11,
   "metadata": {},
   "outputs": [
    {
     "name": "stdout",
     "output_type": "stream",
     "text": [
      "1.0\n"
     ]
    }
   ],
   "source": [
    "_instance_scale=1.0\n",
    "for data in val_generator:\n",
    "    print(data['images'].numpy().max())\n",
    "    break\n",
    "    #print(data.keys())"
   ]
  },
  {
   "cell_type": "code",
   "execution_count": 12,
   "metadata": {},
   "outputs": [
    {
     "data": {
      "text/plain": [
       "TensorShape([100, 100, 3])"
      ]
     },
     "execution_count": 12,
     "metadata": {},
     "output_type": "execute_result"
    }
   ],
   "source": [
    "data['images'][0].shape"
   ]
  },
  {
   "cell_type": "code",
   "execution_count": 13,
   "metadata": {},
   "outputs": [
    {
     "data": {
      "text/plain": [
       "dict_keys(['images', 'label'])"
      ]
     },
     "execution_count": 13,
     "metadata": {},
     "output_type": "execute_result"
    }
   ],
   "source": [
    "data.keys()"
   ]
  },
  {
   "cell_type": "markdown",
   "metadata": {},
   "source": [
    "# Model's Layers definition"
   ]
  },
  {
   "cell_type": "code",
   "execution_count": 14,
   "metadata": {},
   "outputs": [
    {
     "data": {
      "text/plain": [
       "30000"
      ]
     },
     "execution_count": 14,
     "metadata": {},
     "output_type": "execute_result"
    }
   ],
   "source": [
    "import numpy as np\n",
    "from collections.abc import Iterable\n",
    "if isinstance(inputs_shape, Iterable):\n",
    "    flat_outputs_shape = np.prod(inputs_shape)\n",
    "flat_outputs_shape"
   ]
  },
  {
   "cell_type": "code",
   "execution_count": 15,
   "metadata": {},
   "outputs": [
    {
     "data": {
      "text/plain": [
       "32"
      ]
     },
     "execution_count": 15,
     "metadata": {},
     "output_type": "execute_result"
    }
   ],
   "source": [
    "latents_dim"
   ]
  },
  {
   "cell_type": "code",
   "execution_count": 16,
   "metadata": {},
   "outputs": [],
   "source": [
    "enc_lays = [tf.keras.layers.Dense(units=intermediate_dim, activation='relu'),\n",
    "            tf.keras.layers.Dense(units=intermediate_dim, activation='relu'),\n",
    "            tf.keras.layers.Flatten(),\n",
    "            tf.keras.layers.Dense(units=latents_dim)]\n",
    "\n",
    "dec_lays = [tf.keras.layers.Dense(units=latents_dim, activation='relu'),\n",
    "            tf.keras.layers.Dense(units= latents_dim*intermediate_dim//3 , activation='relu'),\n",
    "            tf.keras.layers.Dense(units= latents_dim*intermediate_dim//3 , activation='relu'),\n",
    "            tf.keras.layers.Dense(units= latents_dim*intermediate_dim//3 , activation='relu'),\n",
    "\n",
    "            tf.keras.layers.Dense(units=flat_outputs_shape),\n",
    "            tf.keras.layers.Reshape(inputs_shape)]"
   ]
  },
  {
   "cell_type": "markdown",
   "metadata": {},
   "source": [
    "# Model definition"
   ]
  },
  {
   "cell_type": "code",
   "execution_count": 17,
   "metadata": {},
   "outputs": [],
   "source": [
    "model_name = dataset_name+'AE_Dense_reconst_ell'\n",
    "experiments_dir='experiments'+sep_local+model_name"
   ]
  },
  {
   "cell_type": "code",
   "execution_count": 18,
   "metadata": {
    "scrolled": true
   },
   "outputs": [],
   "source": [
    "from training.autoencoding_basic.autoencoders.autoencoder import autoencoder as AE"
   ]
  },
  {
   "cell_type": "code",
   "execution_count": 19,
   "metadata": {},
   "outputs": [],
   "source": [
    "variables_params = \\\n",
    "[\n",
    "    {\n",
    "        'name': 'inference', \n",
    "        'inputs_shape':inputs_shape,\n",
    "        'outputs_shape':latents_dim,\n",
    "        'layers': enc_lays\n",
    "    }\n",
    "\n",
    "    ,\n",
    "    \n",
    "        {\n",
    "        'name': 'generative', \n",
    "        'inputs_shape':latents_dim,\n",
    "        'outputs_shape':inputs_shape,\n",
    "        'layers':dec_lays\n",
    "    }\n",
    "]"
   ]
  },
  {
   "cell_type": "code",
   "execution_count": 20,
   "metadata": {},
   "outputs": [],
   "source": [
    "from utils.data_and_files.file_utils import create_if_not_exist"
   ]
  },
  {
   "cell_type": "code",
   "execution_count": 21,
   "metadata": {},
   "outputs": [],
   "source": [
    "_restore = os.path.join(experiments_dir, 'var_save_dir')"
   ]
  },
  {
   "cell_type": "code",
   "execution_count": 22,
   "metadata": {},
   "outputs": [
    {
     "data": {
      "text/plain": [
       "'experiments\\\\pokemonAE_Dense_reconst_ell\\\\var_save_dir'"
      ]
     },
     "execution_count": 22,
     "metadata": {},
     "output_type": "execute_result"
    }
   ],
   "source": [
    "create_if_not_exist(_restore)\n",
    "_restore"
   ]
  },
  {
   "cell_type": "code",
   "execution_count": 23,
   "metadata": {},
   "outputs": [],
   "source": [
    "#to restore trained model, set filepath=_restore"
   ]
  },
  {
   "cell_type": "code",
   "execution_count": 24,
   "metadata": {
    "scrolled": false
   },
   "outputs": [
    {
     "name": "stdout",
     "output_type": "stream",
     "text": [
      "Model: \"inference\"\n",
      "_________________________________________________________________\n",
      "Layer (type)                 Output Shape              Param #   \n",
      "=================================================================\n",
      "inference_inputs (InputLayer [(None, 100, 100, 3)]     0         \n",
      "_________________________________________________________________\n",
      "dense (Dense)                (None, 100, 100, 50)      200       \n",
      "_________________________________________________________________\n",
      "dense_1 (Dense)              (None, 100, 100, 50)      2550      \n",
      "_________________________________________________________________\n",
      "flatten (Flatten)            (None, 500000)            0         \n",
      "_________________________________________________________________\n",
      "dense_2 (Dense)              (None, 32)                16000032  \n",
      "_________________________________________________________________\n",
      "batch_normalization (BatchNo (None, 32)                128       \n",
      "_________________________________________________________________\n",
      "dropout (Dropout)            (None, 32)                0         \n",
      "_________________________________________________________________\n",
      "activity_regularization (Act (None, 32)                0         \n",
      "_________________________________________________________________\n",
      "inference_outputs (Activatio (None, 32)                0         \n",
      "=================================================================\n",
      "Total params: 16,002,910\n",
      "Trainable params: 16,002,846\n",
      "Non-trainable params: 64\n",
      "_________________________________________________________________\n",
      "\n"
     ]
    },
    {
     "name": "stderr",
     "output_type": "stream",
     "text": [
      "  WARNING  | None\n",
      "  WARNING  | None\n"
     ]
    },
    {
     "name": "stdout",
     "output_type": "stream",
     "text": [
      "Model: \"generative\"\n",
      "_________________________________________________________________\n",
      "Layer (type)                 Output Shape              Param #   \n",
      "=================================================================\n",
      "generative_inputs (InputLaye [(None, 32)]              0         \n",
      "_________________________________________________________________\n",
      "dense_3 (Dense)              (None, 32)                1056      \n",
      "_________________________________________________________________\n",
      "dense_4 (Dense)              (None, 533)               17589     \n",
      "_________________________________________________________________\n",
      "dense_5 (Dense)              (None, 533)               284622    \n",
      "_________________________________________________________________\n",
      "dense_6 (Dense)              (None, 533)               284622    \n",
      "_________________________________________________________________\n",
      "dense_7 (Dense)              (None, 30000)             16020000  \n",
      "_________________________________________________________________\n",
      "reshape (Reshape)            (None, 100, 100, 3)       0         \n",
      "_________________________________________________________________\n",
      "batch_normalization_1 (Batch (None, 100, 100, 3)       12        \n",
      "_________________________________________________________________\n",
      "dropout_1 (Dropout)          (None, 100, 100, 3)       0         \n",
      "_________________________________________________________________\n",
      "activity_regularization_1 (A (None, 100, 100, 3)       0         \n",
      "_________________________________________________________________\n",
      "generative_outputs (Activati (None, 100, 100, 3)       0         \n",
      "=================================================================\n",
      "Total params: 16,607,901\n",
      "Trainable params: 16,607,895\n",
      "Non-trainable params: 6\n",
      "_________________________________________________________________\n",
      "\n"
     ]
    },
    {
     "name": "stderr",
     "output_type": "stream",
     "text": [
      "  WARNING  | None\n",
      "  WARNING  | None\n"
     ]
    }
   ],
   "source": [
    "ae = AE( \n",
    "    name=model_name,\n",
    "    latents_dim=latents_dim,\n",
    "    batch_size=batch_size,\n",
    "    variables_params=variables_params, \n",
    "    filepath=None\n",
    "    )"
   ]
  },
  {
   "cell_type": "code",
   "execution_count": 25,
   "metadata": {},
   "outputs": [
    {
     "name": "stdout",
     "output_type": "stream",
     "text": [
      "Model: \"pokemonAE_Dense_reconst_ell\"\n",
      "_________________________________________________________________\n",
      "Layer (type)                 Output Shape              Param #   \n",
      "=================================================================\n",
      "inference_inputs (InputLayer [(None, 100, 100, 3)]     0         \n",
      "_________________________________________________________________\n",
      "inference (Functional)       (None, 32)                16002910  \n",
      "_________________________________________________________________\n",
      "generative (Functional)      (None, 100, 100, 3)       16607901  \n",
      "_________________________________________________________________\n",
      "tf_op_layer_x_logits (Tensor [(None, 100, 100, 3)]     0         \n",
      "=================================================================\n",
      "Total params: 32,610,811\n",
      "Trainable params: 32,610,741\n",
      "Non-trainable params: 70\n",
      "_________________________________________________________________\n",
      "None\n"
     ]
    }
   ],
   "source": [
    "#ae.compile(metrics=None)\n",
    "ae.compile()"
   ]
  },
  {
   "cell_type": "code",
   "execution_count": 26,
   "metadata": {},
   "outputs": [
    {
     "data": {
      "text/plain": [
       "(None, 100, 100, 3)"
      ]
     },
     "execution_count": 26,
     "metadata": {},
     "output_type": "execute_result"
    }
   ],
   "source": [
    "ae.output_shape"
   ]
  },
  {
   "cell_type": "markdown",
   "metadata": {},
   "source": [
    "# Callbacks"
   ]
  },
  {
   "cell_type": "code",
   "execution_count": 27,
   "metadata": {},
   "outputs": [],
   "source": [
    "from training.callbacks.sample_generation import SampleGeneration\n",
    "from training.callbacks.save_model import ModelSaver"
   ]
  },
  {
   "cell_type": "code",
   "execution_count": 28,
   "metadata": {},
   "outputs": [],
   "source": [
    "es = tf.keras.callbacks.EarlyStopping(\n",
    "    monitor='val_loss', \n",
    "    min_delta=1e-15, \n",
    "    patience=10, \n",
    "    verbose=1, \n",
    "    restore_best_weights=False\n",
    ")"
   ]
  },
  {
   "cell_type": "code",
   "execution_count": 29,
   "metadata": {},
   "outputs": [],
   "source": [
    "ms = ModelSaver(filepath=_restore)"
   ]
  },
  {
   "cell_type": "code",
   "execution_count": 30,
   "metadata": {},
   "outputs": [
    {
     "data": {
      "text/plain": [
       "'experiments\\\\pokemonAE_Dense_reconst_ell\\\\csv_dir\\\\pokemonAE_Dense_reconst_ell.csv'"
      ]
     },
     "execution_count": 30,
     "metadata": {},
     "output_type": "execute_result"
    }
   ],
   "source": [
    "csv_dir = os.path.join(experiments_dir, 'csv_dir')\n",
    "create_if_not_exist(csv_dir)\n",
    "csv_dir = os.path.join(csv_dir, ae.name+'.csv')\n",
    "csv_log = tf.keras.callbacks.CSVLogger(csv_dir, append=True)\n",
    "csv_dir"
   ]
  },
  {
   "cell_type": "code",
   "execution_count": 31,
   "metadata": {},
   "outputs": [],
   "source": [
    "image_gen_dir = os.path.join(experiments_dir, 'image_gen_dir')\n",
    "create_if_not_exist(image_gen_dir)"
   ]
  },
  {
   "cell_type": "code",
   "execution_count": 32,
   "metadata": {},
   "outputs": [],
   "source": [
    "sg = SampleGeneration(latents_shape=latents_dim, filepath=image_gen_dir, gen_freq=5, save_img=True, gray_plot=False)"
   ]
  },
  {
   "cell_type": "code",
   "execution_count": 33,
   "metadata": {},
   "outputs": [],
   "source": [
    "import numpy as np"
   ]
  },
  {
   "cell_type": "markdown",
   "metadata": {},
   "source": [
    "# Model Training"
   ]
  },
  {
   "cell_type": "code",
   "execution_count": 34,
   "metadata": {
    "scrolled": true
   },
   "outputs": [
    {
     "name": "stdout",
     "output_type": "stream",
     "text": [
      "Epoch 1/1000000\n",
      "\n",
      "Epoch 00001: loss improved from inf to 7804.29102, saving model to experiments\\pokemonAE_Dense_reconst_ell\\var_save_dir\n",
      "5000/5000 - 725s - loss: 7804.2910 - psnr: 10.6674 - total_variation: 82763.9531 - ssim_multiscale: 3.1985 - sharpdiff: 5.3070 - mean_absolute_error: 0.2202 - mean_squared_error: 0.0882 - val_loss: 3111.4226 - val_psnr: 15.6926 - val_total_variation: 24531.2520 - val_ssim_multiscale: 7.0578 - val_sharpdiff: 10.1793 - val_mean_absolute_error: 0.1179 - val_mean_squared_error: 0.0292\n",
      "Epoch 2/1000000\n",
      "\n",
      "Epoch 00002: loss improved from 7804.29102 to 5990.32471, saving model to experiments\\pokemonAE_Dense_reconst_ell\\var_save_dir\n",
      "5000/5000 - 706s - loss: 5990.3247 - psnr: 11.6867 - total_variation: 91814.7812 - ssim_multiscale: 4.7241 - sharpdiff: 5.1741 - mean_absolute_error: 0.1814 - mean_squared_error: 0.0689 - val_loss: 1852.1803 - val_psnr: 18.6998 - val_total_variation: 29570.5723 - val_ssim_multiscale: 8.2679 - val_sharpdiff: 11.1435 - val_mean_absolute_error: 0.0798 - val_mean_squared_error: 0.0162\n",
      "Epoch 3/1000000\n",
      "\n",
      "Epoch 00003: loss improved from 5990.32471 to 5409.67041, saving model to experiments\\pokemonAE_Dense_reconst_ell\\var_save_dir\n",
      "5000/5000 - 710s - loss: 5409.6704 - psnr: 12.1130 - total_variation: 96260.7812 - ssim_multiscale: 5.3142 - sharpdiff: 5.1370 - mean_absolute_error: 0.1656 - mean_squared_error: 0.0626 - val_loss: 1206.3295 - val_psnr: 20.7073 - val_total_variation: 30899.1719 - val_ssim_multiscale: 8.8577 - val_sharpdiff: 11.9569 - val_mean_absolute_error: 0.0591 - val_mean_squared_error: 0.0106\n",
      "Epoch 4/1000000\n",
      "\n",
      "Epoch 00004: loss improved from 5409.67041 to 5097.33301, saving model to experiments\\pokemonAE_Dense_reconst_ell\\var_save_dir\n",
      "5000/5000 - 698s - loss: 5097.3330 - psnr: 12.3528 - total_variation: 98320.5469 - ssim_multiscale: 5.6336 - sharpdiff: 5.1377 - mean_absolute_error: 0.1567 - mean_squared_error: 0.0593 - val_loss: 982.4031 - val_psnr: 22.0270 - val_total_variation: 31196.0312 - val_ssim_multiscale: 9.0949 - val_sharpdiff: 12.4821 - val_mean_absolute_error: 0.0513 - val_mean_squared_error: 0.0080\n",
      "Epoch 5/1000000\n",
      "\n",
      "Epoch 00005: loss improved from 5097.33301 to 4907.19336, saving model to experiments\\pokemonAE_Dense_reconst_ell\\var_save_dir\n",
      "5000/5000 - 700s - loss: 4907.1934 - psnr: 12.5063 - total_variation: 99504.3281 - ssim_multiscale: 5.8405 - sharpdiff: 5.1476 - mean_absolute_error: 0.1511 - mean_squared_error: 0.0573 - val_loss: 752.2539 - val_psnr: 23.3115 - val_total_variation: 30918.5723 - val_ssim_multiscale: 9.3118 - val_sharpdiff: 13.0764 - val_mean_absolute_error: 0.0432 - val_mean_squared_error: 0.0061\n",
      "Epoch 6/1000000\n",
      "\n",
      "Epoch 00006: loss improved from 4907.19336 to 4766.01953, saving model to experiments\\pokemonAE_Dense_reconst_ell\\var_save_dir\n",
      "5000/5000 - 700s - loss: 4766.0195 - psnr: 12.6238 - total_variation: 100288.3203 - ssim_multiscale: 5.9945 - sharpdiff: 5.1601 - mean_absolute_error: 0.1467 - mean_squared_error: 0.0558 - val_loss: 678.4922 - val_psnr: 23.9267 - val_total_variation: 31094.8105 - val_ssim_multiscale: 9.3792 - val_sharpdiff: 13.3475 - val_mean_absolute_error: 0.0404 - val_mean_squared_error: 0.0052\n",
      "Epoch 7/1000000\n",
      "\n",
      "Epoch 00007: loss improved from 4766.01953 to 4653.73047, saving model to experiments\\pokemonAE_Dense_reconst_ell\\var_save_dir\n",
      "5000/5000 - 688s - loss: 4653.7305 - psnr: 12.7123 - total_variation: 100790.5859 - ssim_multiscale: 6.1029 - sharpdiff: 5.1713 - mean_absolute_error: 0.1434 - mean_squared_error: 0.0546 - val_loss: 571.8669 - val_psnr: 24.7243 - val_total_variation: 30636.1660 - val_ssim_multiscale: 9.4951 - val_sharpdiff: 13.7279 - val_mean_absolute_error: 0.0364 - val_mean_squared_error: 0.0044\n",
      "Epoch 8/1000000\n",
      "\n",
      "Epoch 00008: loss improved from 4653.73047 to 4577.26025, saving model to experiments\\pokemonAE_Dense_reconst_ell\\var_save_dir\n",
      "5000/5000 - 685s - loss: 4577.2603 - psnr: 12.7822 - total_variation: 101092.0078 - ssim_multiscale: 6.1866 - sharpdiff: 5.1840 - mean_absolute_error: 0.1407 - mean_squared_error: 0.0538 - val_loss: 499.9537 - val_psnr: 25.4411 - val_total_variation: 30672.5723 - val_ssim_multiscale: 9.5564 - val_sharpdiff: 14.0293 - val_mean_absolute_error: 0.0333 - val_mean_squared_error: 0.0037\n",
      "Epoch 9/1000000\n",
      "\n",
      "Epoch 00009: loss improved from 4577.26025 to 4493.07666, saving model to experiments\\pokemonAE_Dense_reconst_ell\\var_save_dir\n",
      "5000/5000 - 685s - loss: 4493.0767 - psnr: 12.8470 - total_variation: 101386.0391 - ssim_multiscale: 6.2602 - sharpdiff: 5.1946 - mean_absolute_error: 0.1381 - mean_squared_error: 0.0530 - val_loss: 406.0114 - val_psnr: 26.0882 - val_total_variation: 30836.6875 - val_ssim_multiscale: 9.6467 - val_sharpdiff: 14.3515 - val_mean_absolute_error: 0.0296 - val_mean_squared_error: 0.0031\n",
      "Epoch 10/1000000\n",
      "\n",
      "Epoch 00010: loss improved from 4493.07666 to 4445.04492, saving model to experiments\\pokemonAE_Dense_reconst_ell\\var_save_dir\n",
      "5000/5000 - 685s - loss: 4445.0449 - psnr: 12.8885 - total_variation: 101582.0625 - ssim_multiscale: 6.3145 - sharpdiff: 5.2026 - mean_absolute_error: 0.1364 - mean_squared_error: 0.0525 - val_loss: 385.5723 - val_psnr: 26.2874 - val_total_variation: 30409.6992 - val_ssim_multiscale: 9.6666 - val_sharpdiff: 14.4951 - val_mean_absolute_error: 0.0289 - val_mean_squared_error: 0.0029\n",
      "Epoch 11/1000000\n",
      "\n",
      "Epoch 00011: loss improved from 4445.04492 to 4394.21387, saving model to experiments\\pokemonAE_Dense_reconst_ell\\var_save_dir\n",
      "5000/5000 - 686s - loss: 4394.2139 - psnr: 12.9289 - total_variation: 101740.2812 - ssim_multiscale: 6.3615 - sharpdiff: 5.2100 - mean_absolute_error: 0.1346 - mean_squared_error: 0.0520 - val_loss: 396.9737 - val_psnr: 26.3338 - val_total_variation: 29621.1270 - val_ssim_multiscale: 9.6812 - val_sharpdiff: 14.5990 - val_mean_absolute_error: 0.0295 - val_mean_squared_error: 0.0029\n",
      "Epoch 12/1000000\n",
      "\n",
      "Epoch 00012: loss improved from 4394.21387 to 4341.05615, saving model to experiments\\pokemonAE_Dense_reconst_ell\\var_save_dir\n",
      "5000/5000 - 684s - loss: 4341.0562 - psnr: 12.9714 - total_variation: 101887.2422 - ssim_multiscale: 6.4064 - sharpdiff: 5.2185 - mean_absolute_error: 0.1329 - mean_squared_error: 0.0514 - val_loss: 410.4464 - val_psnr: 26.1720 - val_total_variation: 29167.1016 - val_ssim_multiscale: 9.6852 - val_sharpdiff: 14.5978 - val_mean_absolute_error: 0.0305 - val_mean_squared_error: 0.0030\n",
      "Epoch 13/1000000\n",
      "\n",
      "Epoch 00013: loss improved from 4341.05615 to 4310.42578, saving model to experiments\\pokemonAE_Dense_reconst_ell\\var_save_dir\n",
      "5000/5000 - 685s - loss: 4310.4258 - psnr: 12.9927 - total_variation: 101956.1250 - ssim_multiscale: 6.4303 - sharpdiff: 5.2234 - mean_absolute_error: 0.1319 - mean_squared_error: 0.0512 - val_loss: 362.7882 - val_psnr: 26.7557 - val_total_variation: 29094.7676 - val_ssim_multiscale: 9.7085 - val_sharpdiff: 14.8777 - val_mean_absolute_error: 0.0279 - val_mean_squared_error: 0.0026\n",
      "Epoch 14/1000000\n",
      "\n",
      "Epoch 00014: loss improved from 4310.42578 to 4294.54102, saving model to experiments\\pokemonAE_Dense_reconst_ell\\var_save_dir\n",
      "5000/5000 - 685s - loss: 4294.5410 - psnr: 13.0083 - total_variation: 101977.5625 - ssim_multiscale: 6.4536 - sharpdiff: 5.2289 - mean_absolute_error: 0.1312 - mean_squared_error: 0.0510 - val_loss: 369.6971 - val_psnr: 26.5612 - val_total_variation: 28820.9824 - val_ssim_multiscale: 9.7162 - val_sharpdiff: 14.8738 - val_mean_absolute_error: 0.0287 - val_mean_squared_error: 0.0027\n",
      "Epoch 15/1000000\n",
      "\n",
      "Epoch 00015: loss improved from 4294.54102 to 4270.94824, saving model to experiments\\pokemonAE_Dense_reconst_ell\\var_save_dir\n",
      "5000/5000 - 685s - loss: 4270.9482 - psnr: 13.0295 - total_variation: 101989.0234 - ssim_multiscale: 6.4736 - sharpdiff: 5.2359 - mean_absolute_error: 0.1303 - mean_squared_error: 0.0508 - val_loss: 805.9175 - val_psnr: 23.4974 - val_total_variation: 27786.7832 - val_ssim_multiscale: 9.3855 - val_sharpdiff: 13.7180 - val_mean_absolute_error: 0.0461 - val_mean_squared_error: 0.0066\n",
      "Epoch 16/1000000\n",
      "\n",
      "Epoch 00016: loss improved from 4270.94824 to 4248.61768, saving model to experiments\\pokemonAE_Dense_reconst_ell\\var_save_dir\n",
      "5000/5000 - 685s - loss: 4248.6177 - psnr: 13.0448 - total_variation: 102072.6172 - ssim_multiscale: 6.4917 - sharpdiff: 5.2386 - mean_absolute_error: 0.1295 - mean_squared_error: 0.0506 - val_loss: 682.9060 - val_psnr: 24.2955 - val_total_variation: 27695.7832 - val_ssim_multiscale: 9.4976 - val_sharpdiff: 14.0152 - val_mean_absolute_error: 0.0420 - val_mean_squared_error: 0.0049\n"
     ]
    },
    {
     "name": "stdout",
     "output_type": "stream",
     "text": [
      "Epoch 17/1000000\n",
      "\n",
      "Epoch 00017: loss improved from 4248.61768 to 4230.20752, saving model to experiments\\pokemonAE_Dense_reconst_ell\\var_save_dir\n",
      "5000/5000 - 684s - loss: 4230.2075 - psnr: 13.0570 - total_variation: 102077.6016 - ssim_multiscale: 6.5032 - sharpdiff: 5.2421 - mean_absolute_error: 0.1289 - mean_squared_error: 0.0504 - val_loss: 274.7545 - val_psnr: 27.1472 - val_total_variation: 29129.4883 - val_ssim_multiscale: 9.7809 - val_sharpdiff: 15.2911 - val_mean_absolute_error: 0.0251 - val_mean_squared_error: 0.0022\n",
      "Epoch 18/1000000\n",
      "\n",
      "Epoch 00018: loss improved from 4230.20752 to 4229.06006, saving model to experiments\\pokemonAE_Dense_reconst_ell\\var_save_dir\n",
      "5000/5000 - 685s - loss: 4229.0601 - psnr: 13.0676 - total_variation: 102090.8906 - ssim_multiscale: 6.5191 - sharpdiff: 5.2468 - mean_absolute_error: 0.1284 - mean_squared_error: 0.0503 - val_loss: 6674.1318 - val_psnr: 12.5388 - val_total_variation: 25275.3965 - val_ssim_multiscale: 4.4188 - val_sharpdiff: 9.5313 - val_mean_absolute_error: 0.1950 - val_mean_squared_error: 0.0685\n",
      "Epoch 19/1000000\n",
      "\n",
      "Epoch 00019: loss did not improve from 4229.06006\n",
      "5000/5000 - 684s - loss: 5006.2271 - psnr: 12.5255 - total_variation: 99237.3984 - ssim_multiscale: 5.8772 - sharpdiff: 5.2106 - mean_absolute_error: 0.1486 - mean_squared_error: 0.0582 - val_loss: 6901.7500 - val_psnr: 11.8998 - val_total_variation: 20445.9551 - val_ssim_multiscale: 3.8922 - val_sharpdiff: 9.5660 - val_mean_absolute_error: 0.2052 - val_mean_squared_error: 0.0732\n",
      "Epoch 20/1000000\n",
      "\n",
      "Epoch 00020: loss did not improve from 4229.06006\n",
      "5000/5000 - 684s - loss: 5100.7822 - psnr: 12.4636 - total_variation: 97906.1875 - ssim_multiscale: 5.7665 - sharpdiff: 5.2343 - mean_absolute_error: 0.1520 - mean_squared_error: 0.0590 - val_loss: 3371.0391 - val_psnr: 17.3294 - val_total_variation: 25241.3418 - val_ssim_multiscale: 7.1103 - val_sharpdiff: 11.3065 - val_mean_absolute_error: 0.1145 - val_mean_squared_error: 0.0331\n",
      "Epoch 21/1000000\n",
      "\n",
      "Epoch 00021: loss did not improve from 4229.06006\n",
      "5000/5000 - 685s - loss: 5278.0630 - psnr: 12.3414 - total_variation: 97066.2422 - ssim_multiscale: 5.6168 - sharpdiff: 5.2357 - mean_absolute_error: 0.1564 - mean_squared_error: 0.0608 - val_loss: 2746.7524 - val_psnr: 18.5552 - val_total_variation: 26259.3672 - val_ssim_multiscale: 7.5382 - val_sharpdiff: 11.7814 - val_mean_absolute_error: 0.0997 - val_mean_squared_error: 0.0262\n",
      "Epoch 22/1000000\n",
      "\n",
      "Epoch 00022: loss did not improve from 4229.06006\n",
      "5000/5000 - 684s - loss: 6180.5298 - psnr: 11.7561 - total_variation: 91482.7422 - ssim_multiscale: 4.8384 - sharpdiff: 5.2996 - mean_absolute_error: 0.1787 - mean_squared_error: 0.0702 - val_loss: 8827.9326 - val_psnr: 10.2923 - val_total_variation: 20919.0664 - val_ssim_multiscale: 3.2514 - val_sharpdiff: 9.2760 - val_mean_absolute_error: 0.2454 - val_mean_squared_error: 0.0976\n",
      "Epoch 23/1000000\n",
      "\n",
      "Epoch 00023: loss did not improve from 4229.06006\n",
      "5000/5000 - 684s - loss: 6518.2632 - psnr: 11.5411 - total_variation: 88716.0312 - ssim_multiscale: 4.5303 - sharpdiff: 5.3499 - mean_absolute_error: 0.1878 - mean_squared_error: 0.0738 - val_loss: 6871.8955 - val_psnr: 11.8513 - val_total_variation: 20543.2246 - val_ssim_multiscale: 3.9670 - val_sharpdiff: 9.5446 - val_mean_absolute_error: 0.1961 - val_mean_squared_error: 0.0726\n",
      "Epoch 24/1000000\n",
      "\n",
      "Epoch 00024: loss did not improve from 4229.06006\n",
      "5000/5000 - 684s - loss: 6462.1484 - psnr: 11.5632 - total_variation: 88713.4141 - ssim_multiscale: 4.5486 - sharpdiff: 5.3561 - mean_absolute_error: 0.1875 - mean_squared_error: 0.0733 - val_loss: 7072.1094 - val_psnr: 12.0272 - val_total_variation: 20537.6367 - val_ssim_multiscale: 4.2540 - val_sharpdiff: 9.7078 - val_mean_absolute_error: 0.1842 - val_mean_squared_error: 0.0719\n",
      "Epoch 25/1000000\n",
      "\n",
      "Epoch 00025: loss did not improve from 4229.06006\n",
      "5000/5000 - 684s - loss: 6469.9102 - psnr: 11.5593 - total_variation: 88821.7891 - ssim_multiscale: 4.5420 - sharpdiff: 5.3537 - mean_absolute_error: 0.1876 - mean_squared_error: 0.0734 - val_loss: 4714.1924 - val_psnr: 14.5754 - val_total_variation: 20517.1738 - val_ssim_multiscale: 5.7591 - val_sharpdiff: 10.5630 - val_mean_absolute_error: 0.1546 - val_mean_squared_error: 0.0474\n",
      "Epoch 26/1000000\n",
      "\n",
      "Epoch 00026: loss did not improve from 4229.06006\n",
      "5000/5000 - 685s - loss: 6217.0952 - psnr: 11.7208 - total_variation: 90218.2969 - ssim_multiscale: 4.7578 - sharpdiff: 5.3428 - mean_absolute_error: 0.1819 - mean_squared_error: 0.0706 - val_loss: 6280.3999 - val_psnr: 12.7741 - val_total_variation: 23715.4297 - val_ssim_multiscale: 4.7183 - val_sharpdiff: 9.8315 - val_mean_absolute_error: 0.1839 - val_mean_squared_error: 0.0668\n",
      "Epoch 27/1000000\n",
      "\n",
      "Epoch 00027: loss did not improve from 4229.06006\n",
      "5000/5000 - 685s - loss: 5773.6187 - psnr: 12.0043 - total_variation: 93366.4453 - ssim_multiscale: 5.1443 - sharpdiff: 5.2936 - mean_absolute_error: 0.1708 - mean_squared_error: 0.0659 - val_loss: 8273.6006 - val_psnr: 10.7738 - val_total_variation: 20471.1738 - val_ssim_multiscale: 3.3105 - val_sharpdiff: 9.3499 - val_mean_absolute_error: 0.2226 - val_mean_squared_error: 0.0885\n",
      "Epoch 00027: early stopping\n"
     ]
    },
    {
     "data": {
      "text/plain": [
       "<tensorflow.python.keras.callbacks.History at 0x21eb086c4c8>"
      ]
     },
     "execution_count": 34,
     "metadata": {},
     "output_type": "execute_result"
    }
   ],
   "source": [
    "ae.fit(\n",
    "    x=train_generator,\n",
    "    input_kw='images',\n",
    "    steps_per_epoch=int(5e3),\n",
    "    epochs=int(1e6), \n",
    "    verbose=2,\n",
    "    callbacks=[es, ms, csv_log, sg],\n",
    "    workers=-1,\n",
    "    use_multiprocessing=True,\n",
    "    validation_data=val_generator,\n",
    "    validation_steps=int(1e4)\n",
    ")"
   ]
  },
  {
   "cell_type": "markdown",
   "metadata": {},
   "source": [
    "# Model Evaluation"
   ]
  },
  {
   "cell_type": "markdown",
   "metadata": {},
   "source": [
    "## inception_score"
   ]
  },
  {
   "cell_type": "code",
   "execution_count": null,
   "metadata": {},
   "outputs": [],
   "source": [
    "from evaluation.generativity_metrics.inception_metrics import inception_score"
   ]
  },
  {
   "cell_type": "code",
   "execution_count": null,
   "metadata": {
    "scrolled": true
   },
   "outputs": [],
   "source": [
    "is_mean, is_sigma = inception_score(ae, tolerance_threshold=1e-6, max_iteration=100)\n",
    "print(f'inception_score mean: {is_mean}, sigma: {is_sigma}')"
   ]
  },
  {
   "cell_type": "code",
   "execution_count": null,
   "metadata": {},
   "outputs": [],
   "source": []
  },
  {
   "cell_type": "markdown",
   "metadata": {},
   "source": [
    "## Frechet_inception_distance"
   ]
  },
  {
   "cell_type": "code",
   "execution_count": null,
   "metadata": {},
   "outputs": [],
   "source": [
    "is_mean.compute()"
   ]
  },
  {
   "cell_type": "code",
   "execution_count": null,
   "metadata": {},
   "outputs": [],
   "source": [
    "from evaluation.generativity_metrics.inception_metrics import frechet_inception_distance"
   ]
  },
  {
   "cell_type": "code",
   "execution_count": null,
   "metadata": {},
   "outputs": [],
   "source": [
    "fis_score = frechet_inception_distance(ae, training_generator, tolerance_threshold=1e-6, max_iteration=100, batch_size=32)\n",
    "print(f'frechet inception distance: {fis_score}')"
   ]
  },
  {
   "cell_type": "markdown",
   "metadata": {},
   "source": [
    "## perceptual_path_length_score"
   ]
  },
  {
   "cell_type": "code",
   "execution_count": null,
   "metadata": {},
   "outputs": [],
   "source": [
    "from evaluation.generativity_metrics.perceptual_path_length import perceptual_path_length_score"
   ]
  },
  {
   "cell_type": "code",
   "execution_count": null,
   "metadata": {},
   "outputs": [],
   "source": [
    "ppl_mean_score = perceptual_path_length_score(ae, training_generator, tolerance_threshold=1e-6, max_iteration=100, batch_size=32)\n",
    "print(f'perceptual path length score: {ppl_mean_score}')"
   ]
  },
  {
   "cell_type": "code",
   "execution_count": null,
   "metadata": {},
   "outputs": [],
   "source": []
  },
  {
   "cell_type": "markdown",
   "metadata": {},
   "source": [
    "## precision score"
   ]
  },
  {
   "cell_type": "code",
   "execution_count": null,
   "metadata": {},
   "outputs": [],
   "source": [
    "from evaluation.generativity_metrics.precision_recall import precision_score"
   ]
  },
  {
   "cell_type": "code",
   "execution_count": null,
   "metadata": {
    "scrolled": true
   },
   "outputs": [],
   "source": [
    "_precision_score = precision_score(ae, training_generator, tolerance_threshold=1e-6, max_iteration=100)\n",
    "print(f'precision score: {_precision_score}')"
   ]
  },
  {
   "cell_type": "markdown",
   "metadata": {},
   "source": [
    "## recall score"
   ]
  },
  {
   "cell_type": "code",
   "execution_count": null,
   "metadata": {},
   "outputs": [],
   "source": [
    "from evaluation.generativity_metrics.precision_recall import recall_score"
   ]
  },
  {
   "cell_type": "code",
   "execution_count": null,
   "metadata": {},
   "outputs": [],
   "source": [
    "_recall_score = recall_score(ae, training_generator, tolerance_threshold=1e-6, max_iteration=100)\n",
    "print(f'recall score: {_recall_score}')"
   ]
  },
  {
   "cell_type": "code",
   "execution_count": null,
   "metadata": {},
   "outputs": [],
   "source": []
  },
  {
   "cell_type": "markdown",
   "metadata": {},
   "source": [
    "# Image Generation"
   ]
  },
  {
   "cell_type": "markdown",
   "metadata": {},
   "source": [
    "## image reconstruction"
   ]
  },
  {
   "cell_type": "markdown",
   "metadata": {},
   "source": [
    "### Training dataset"
   ]
  },
  {
   "cell_type": "code",
   "execution_count": null,
   "metadata": {},
   "outputs": [],
   "source": [
    "%load_ext autoreload\n",
    "%autoreload 2"
   ]
  },
  {
   "cell_type": "code",
   "execution_count": null,
   "metadata": {},
   "outputs": [],
   "source": [
    "from training.generators.image_generation_testing import reconstruct_from_a_batch"
   ]
  },
  {
   "cell_type": "code",
   "execution_count": null,
   "metadata": {},
   "outputs": [],
   "source": [
    "from utils.data_and_files.file_utils import create_if_not_exist\n",
    "save_dir = os.path.join(experiments_dir, 'reconstruct_training_images_like_a_batch_dir')\n",
    "create_if_not_exist(save_dir)\n",
    "\n",
    "reconstruct_from_a_batch(ae, training_generator, save_dir)"
   ]
  },
  {
   "cell_type": "code",
   "execution_count": null,
   "metadata": {},
   "outputs": [],
   "source": [
    "from utils.data_and_files.file_utils import create_if_not_exist\n",
    "save_dir = os.path.join(experiments_dir, 'reconstruct_testing_images_like_a_batch_dir')\n",
    "create_if_not_exist(save_dir)\n",
    "\n",
    "reconstruct_from_a_batch(ae, testing_generator, save_dir)"
   ]
  },
  {
   "cell_type": "markdown",
   "metadata": {},
   "source": [
    "## with Randomness"
   ]
  },
  {
   "cell_type": "code",
   "execution_count": null,
   "metadata": {},
   "outputs": [],
   "source": [
    "from training.generators.image_generation_testing import generate_images_like_a_batch"
   ]
  },
  {
   "cell_type": "code",
   "execution_count": null,
   "metadata": {},
   "outputs": [],
   "source": [
    "from utils.data_and_files.file_utils import create_if_not_exist\n",
    "save_dir = os.path.join(experiments_dir, 'generate_training_images_like_a_batch_dir')\n",
    "create_if_not_exist(save_dir)\n",
    "\n",
    "generate_images_like_a_batch(ae, training_generator, save_dir)"
   ]
  },
  {
   "cell_type": "code",
   "execution_count": null,
   "metadata": {},
   "outputs": [],
   "source": [
    "from utils.data_and_files.file_utils import create_if_not_exist\n",
    "save_dir = os.path.join(experiments_dir, 'generate_testing_images_like_a_batch_dir')\n",
    "create_if_not_exist(save_dir)\n",
    "\n",
    "generate_images_like_a_batch(ae, testing_generator, save_dir)"
   ]
  },
  {
   "cell_type": "code",
   "execution_count": null,
   "metadata": {},
   "outputs": [],
   "source": []
  },
  {
   "cell_type": "markdown",
   "metadata": {},
   "source": [
    "### Complete Randomness"
   ]
  },
  {
   "cell_type": "code",
   "execution_count": null,
   "metadata": {},
   "outputs": [],
   "source": [
    "from training.generators.image_generation_testing import generate_images_randomly"
   ]
  },
  {
   "cell_type": "code",
   "execution_count": null,
   "metadata": {},
   "outputs": [],
   "source": [
    "from utils.data_and_files.file_utils import create_if_not_exist\n",
    "save_dir = os.path.join(experiments_dir, 'random_synthetic_dir')\n",
    "create_if_not_exist(save_dir)\n",
    "\n",
    "generate_images_randomly(ae, save_dir)"
   ]
  },
  {
   "cell_type": "code",
   "execution_count": null,
   "metadata": {},
   "outputs": [],
   "source": [
    "from training.generators.image_generation_testing import interpolate_a_batch"
   ]
  },
  {
   "cell_type": "code",
   "execution_count": null,
   "metadata": {
    "scrolled": false
   },
   "outputs": [],
   "source": [
    "from utils.data_and_files.file_utils import create_if_not_exist\n",
    "save_dir = os.path.join(experiments_dir, 'interpolate_dir')\n",
    "create_if_not_exist(save_dir)\n",
    "\n",
    "interpolate_a_batch(ae, testing_generator, save_dir)"
   ]
  },
  {
   "cell_type": "code",
   "execution_count": null,
   "metadata": {},
   "outputs": [],
   "source": []
  },
  {
   "cell_type": "code",
   "execution_count": null,
   "metadata": {},
   "outputs": [],
   "source": []
  }
 ],
 "metadata": {
  "kernelspec": {
   "display_name": "Python 3",
   "language": "python",
   "name": "python3"
  },
  "language_info": {
   "codemirror_mode": {
    "name": "ipython",
    "version": 3
   },
   "file_extension": ".py",
   "mimetype": "text/x-python",
   "name": "python",
   "nbconvert_exporter": "python",
   "pygments_lexer": "ipython3",
   "version": "3.7.5"
  }
 },
 "nbformat": 4,
 "nbformat_minor": 2
}
