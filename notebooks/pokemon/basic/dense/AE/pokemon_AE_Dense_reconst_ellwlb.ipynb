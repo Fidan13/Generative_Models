{
 "cells": [
  {
   "cell_type": "markdown",
   "metadata": {},
   "source": [
    "# Settings"
   ]
  },
  {
   "cell_type": "code",
   "execution_count": 1,
   "metadata": {},
   "outputs": [],
   "source": [
    "%env TF_KERAS = 1\n",
    "import os\n",
    "sep_local = os.path.sep\n",
    "\n",
    "import sys\n",
    "sys.path.append('..'+sep_local+'..')\n",
    "print(sep_local)"
   ]
  },
  {
   "cell_type": "code",
   "execution_count": 2,
   "metadata": {},
   "outputs": [
    {
     "name": "stdout",
     "output_type": "stream",
     "text": [
      "2.2.0\n"
     ]
    }
   ],
   "source": [
    "import tensorflow as tf\n",
    "print(tf.__version__)"
   ]
  },
  {
   "cell_type": "code",
   "execution_count": 3,
   "metadata": {},
   "outputs": [
    {
     "name": "stdout",
     "output_type": "stream",
     "text": [
      "C:\\Users\\Khalid\\Documents\\projects\\Generative_Models\n"
     ]
    }
   ],
   "source": [
    "os.chdir('..'+sep_local+'..'+sep_local+'..'+sep_local+'..'+sep_local+'..')\n",
    "print(os.getcwd())"
   ]
  },
  {
   "cell_type": "markdown",
   "metadata": {},
   "source": [
    "# Dataset loading"
   ]
  },
  {
   "cell_type": "code",
   "execution_count": 4,
   "metadata": {},
   "outputs": [],
   "source": [
    "dataset_name='pokemon'"
   ]
  },
  {
   "cell_type": "code",
   "execution_count": 5,
   "metadata": {},
   "outputs": [],
   "source": [
    "images_dir = 'C:\\\\Users\\\\Khalid\\\\Documents\\projects\\\\pokemon\\DS06\\\\'\n",
    "validation_percentage = 20\n",
    "valid_format = 'png'"
   ]
  },
  {
   "cell_type": "code",
   "execution_count": 6,
   "metadata": {},
   "outputs": [
    {
     "name": "stderr",
     "output_type": "stream",
     "text": [
      "Using TensorFlow backend.\n"
     ]
    }
   ],
   "source": [
    "from training.generators.file_image_generator import create_image_lists, get_generators"
   ]
  },
  {
   "cell_type": "code",
   "execution_count": 7,
   "metadata": {},
   "outputs": [
    {
     "name": "stdout",
     "output_type": "stream",
     "text": [
      "\n"
     ]
    },
    {
     "name": "stderr",
     "output_type": "stream",
     "text": [
      "  DEBUG    | Looking for images in 'all'\n"
     ]
    },
    {
     "name": "stdout",
     "output_type": "stream",
     "text": [
      "\n"
     ]
    },
    {
     "name": "stderr",
     "output_type": "stream",
     "text": [
      "  INFO     | 809 file found\n"
     ]
    }
   ],
   "source": [
    "imgs_list = create_image_lists(\n",
    "    image_dir=images_dir, \n",
    "    validation_pct=validation_percentage, \n",
    "    valid_imgae_formats=valid_format\n",
    ")"
   ]
  },
  {
   "cell_type": "code",
   "execution_count": 8,
   "metadata": {},
   "outputs": [],
   "source": [
    "inputs_shape= image_size=(100, 100, 3)\n",
    "batch_size = 32\n",
    "latents_dim = 32\n",
    "intermediate_dim = 50"
   ]
  },
  {
   "cell_type": "code",
   "execution_count": 9,
   "metadata": {},
   "outputs": [
    {
     "name": "stdout",
     "output_type": "stream",
     "text": [
      "\n"
     ]
    },
    {
     "name": "stderr",
     "output_type": "stream",
     "text": [
      "  INFO     | Found 662 training files\n"
     ]
    },
    {
     "name": "stdout",
     "output_type": "stream",
     "text": [
      "\n"
     ]
    },
    {
     "name": "stderr",
     "output_type": "stream",
     "text": [
      "  INFO     | Found 147 validation files\n"
     ]
    }
   ],
   "source": [
    "training_generator, testing_generator = get_generators(\n",
    "    images_list=imgs_list, \n",
    "    image_dir=images_dir, \n",
    "    image_size=image_size, \n",
    "    batch_size=batch_size, \n",
    "    class_mode=None\n",
    ")"
   ]
  },
  {
   "cell_type": "code",
   "execution_count": 10,
   "metadata": {},
   "outputs": [],
   "source": [
    "import tensorflow as tf"
   ]
  },
  {
   "cell_type": "code",
   "execution_count": 11,
   "metadata": {},
   "outputs": [],
   "source": [
    "train_ds = tf.data.Dataset.from_generator(\n",
    "    lambda: training_generator, \n",
    "    output_types=tf.float32 ,\n",
    "    output_shapes=tf.TensorShape((batch_size, ) + image_size)\n",
    ")\n",
    "\n",
    "test_ds = tf.data.Dataset.from_generator(\n",
    "    lambda: testing_generator, \n",
    "    output_types=tf.float32 ,\n",
    "    output_shapes=tf.TensorShape((batch_size, ) + image_size)\n",
    ")\n"
   ]
  },
  {
   "cell_type": "code",
   "execution_count": 12,
   "metadata": {},
   "outputs": [],
   "source": [
    "_instance_scale=1.0\n",
    "for data in train_ds:\n",
    "    _instance_scale = float(data[0].numpy().max())\n",
    "    break"
   ]
  },
  {
   "cell_type": "code",
   "execution_count": 13,
   "metadata": {},
   "outputs": [
    {
     "data": {
      "text/plain": [
       "1.0"
      ]
     },
     "execution_count": 13,
     "metadata": {},
     "output_type": "execute_result"
    }
   ],
   "source": [
    "_instance_scale"
   ]
  },
  {
   "cell_type": "code",
   "execution_count": 14,
   "metadata": {},
   "outputs": [],
   "source": [
    "import numpy as np\n",
    "from collections.abc import Iterable"
   ]
  },
  {
   "cell_type": "code",
   "execution_count": 15,
   "metadata": {},
   "outputs": [],
   "source": [
    "if isinstance(inputs_shape, Iterable):\n",
    "    _outputs_shape = np.prod(inputs_shape)"
   ]
  },
  {
   "cell_type": "code",
   "execution_count": 16,
   "metadata": {},
   "outputs": [
    {
     "data": {
      "text/plain": [
       "30000"
      ]
     },
     "execution_count": 16,
     "metadata": {},
     "output_type": "execute_result"
    }
   ],
   "source": [
    "_outputs_shape"
   ]
  },
  {
   "cell_type": "markdown",
   "metadata": {},
   "source": [
    "# Model's Layers definition"
   ]
  },
  {
   "cell_type": "code",
   "execution_count": 17,
   "metadata": {},
   "outputs": [],
   "source": [
    "enc_lays = [tf.keras.layers.Dense(units=intermediate_dim, activation='relu'),\n",
    "            tf.keras.layers.Dense(units=intermediate_dim, activation='relu'),\n",
    "            tf.keras.layers.Flatten(),\n",
    "            tf.keras.layers.Dense(units=latents_dim)]\n",
    "\n",
    "dec_lays = [tf.keras.layers.Dense(units=latents_dim, activation='relu'),\n",
    "            tf.keras.layers.Dense(units=intermediate_dim, activation='relu'),\n",
    "            tf.keras.layers.Dense(units=_outputs_shape),\n",
    "            tf.keras.layers.Reshape(inputs_shape)]"
   ]
  },
  {
   "cell_type": "markdown",
   "metadata": {},
   "source": [
    "# Model definition"
   ]
  },
  {
   "cell_type": "code",
   "execution_count": 18,
   "metadata": {},
   "outputs": [],
   "source": [
    "model_name = dataset_name+'AE_Dense_reconst_ell'\n",
    "experiments_dir='experiments'+sep_local+model_name"
   ]
  },
  {
   "cell_type": "code",
   "execution_count": 19,
   "metadata": {
    "scrolled": true
   },
   "outputs": [],
   "source": [
    "from training.autoencoding_basic.autoencoders.autoencoder import autoencoder as AE"
   ]
  },
  {
   "cell_type": "code",
   "execution_count": 20,
   "metadata": {},
   "outputs": [],
   "source": [
    "inputs_shape=image_size"
   ]
  },
  {
   "cell_type": "code",
   "execution_count": 21,
   "metadata": {},
   "outputs": [],
   "source": [
    "variables_params = \\\n",
    "[\n",
    "    {\n",
    "        'name': 'inference', \n",
    "        'inputs_shape':inputs_shape,\n",
    "        'outputs_shape':latents_dim,\n",
    "        'layers': enc_lays\n",
    "    }\n",
    "\n",
    "    ,\n",
    "    \n",
    "        {\n",
    "        'name': 'generative', \n",
    "        'inputs_shape':latents_dim,\n",
    "        'outputs_shape':inputs_shape,\n",
    "        'layers':dec_lays\n",
    "    }\n",
    "]"
   ]
  },
  {
   "cell_type": "code",
   "execution_count": 22,
   "metadata": {},
   "outputs": [],
   "source": [
    "from utils.data_and_files.file_utils import create_if_not_exist"
   ]
  },
  {
   "cell_type": "code",
   "execution_count": 23,
   "metadata": {},
   "outputs": [],
   "source": [
    "_restore = os.path.join(experiments_dir, 'var_save_dir')"
   ]
  },
  {
   "cell_type": "code",
   "execution_count": 24,
   "metadata": {},
   "outputs": [
    {
     "data": {
      "text/plain": [
       "'experiments\\\\pokemonAE_Dense_reconst_ell\\\\var_save_dir'"
      ]
     },
     "execution_count": 24,
     "metadata": {},
     "output_type": "execute_result"
    }
   ],
   "source": [
    "create_if_not_exist(_restore)\n",
    "_restore"
   ]
  },
  {
   "cell_type": "code",
   "execution_count": 25,
   "metadata": {},
   "outputs": [],
   "source": [
    "#to restore trained model, set filepath=_restore"
   ]
  },
  {
   "cell_type": "code",
   "execution_count": 26,
   "metadata": {
    "scrolled": false
   },
   "outputs": [
    {
     "name": "stdout",
     "output_type": "stream",
     "text": [
      "Model: \"inference\"\n",
      "_________________________________________________________________\n",
      "Layer (type)                 Output Shape              Param #   \n",
      "=================================================================\n",
      "inference_inputs (InputLayer [(None, 100, 100, 3)]     0         \n",
      "_________________________________________________________________\n",
      "dense (Dense)                (None, 100, 100, 50)      200       \n",
      "_________________________________________________________________\n",
      "dense_1 (Dense)              (None, 100, 100, 50)      2550      \n",
      "_________________________________________________________________\n",
      "flatten (Flatten)            (None, 500000)            0         \n",
      "_________________________________________________________________\n",
      "dense_2 (Dense)              (None, 32)                16000032  \n",
      "_________________________________________________________________\n",
      "batch_normalization (BatchNo (None, 32)                128       \n",
      "_________________________________________________________________\n",
      "dropout (Dropout)            (None, 32)                0         \n",
      "_________________________________________________________________\n",
      "activity_regularization (Act (None, 32)                0         \n",
      "_________________________________________________________________\n",
      "inference_outputs (Activatio (None, 32)                0         \n",
      "=================================================================\n",
      "Total params: 16,002,910\n",
      "Trainable params: 16,002,846\n",
      "Non-trainable params: 64\n",
      "_________________________________________________________________\n",
      "\n"
     ]
    },
    {
     "name": "stderr",
     "output_type": "stream",
     "text": [
      "  WARNING  | None\n"
     ]
    },
    {
     "name": "stdout",
     "output_type": "stream",
     "text": [
      "Model: \"generative\"\n",
      "_________________________________________________________________\n",
      "Layer (type)                 Output Shape              Param #   \n",
      "=================================================================\n",
      "generative_inputs (InputLaye [(None, 32)]              0         \n",
      "_________________________________________________________________\n",
      "dense_3 (Dense)              (None, 32)                1056      \n",
      "_________________________________________________________________\n",
      "dense_4 (Dense)              (None, 50)                1650      \n",
      "_________________________________________________________________\n",
      "dense_5 (Dense)              (None, 30000)             1530000   \n",
      "_________________________________________________________________\n",
      "reshape (Reshape)            (None, 100, 100, 3)       0         \n",
      "_________________________________________________________________\n",
      "batch_normalization_1 (Batch (None, 100, 100, 3)       12        \n",
      "_________________________________________________________________\n",
      "dropout_1 (Dropout)          (None, 100, 100, 3)       0         \n",
      "_________________________________________________________________\n",
      "activity_regularization_1 (A (None, 100, 100, 3)       0         \n",
      "_________________________________________________________________\n",
      "generative_outputs (Activati (None, 100, 100, 3)       0         \n",
      "=================================================================\n",
      "Total params: 1,532,718\n",
      "Trainable params: 1,532,712\n",
      "Non-trainable params: 6\n",
      "_________________________________________________________________\n",
      "\n"
     ]
    },
    {
     "name": "stderr",
     "output_type": "stream",
     "text": [
      "  WARNING  | None\n"
     ]
    }
   ],
   "source": [
    "ae = AE( \n",
    "    name=model_name,\n",
    "    latents_dim=latents_dim,\n",
    "    batch_size=batch_size,\n",
    "    variables_params=variables_params, \n",
    "    filepath=None\n",
    "    )"
   ]
  },
  {
   "cell_type": "code",
   "execution_count": 27,
   "metadata": {},
   "outputs": [
    {
     "name": "stdout",
     "output_type": "stream",
     "text": [
      "Model: \"pokemonAE_Dense_reconst_ell\"\n",
      "_________________________________________________________________\n",
      "Layer (type)                 Output Shape              Param #   \n",
      "=================================================================\n",
      "inference_inputs (InputLayer [(None, 100, 100, 3)]     0         \n",
      "_________________________________________________________________\n",
      "inference (Model)            (None, 32)                16002910  \n",
      "_________________________________________________________________\n",
      "generative (Model)           (None, 100, 100, 3)       1532718   \n",
      "_________________________________________________________________\n",
      "tf_op_layer_x_logits (Tensor [(None, 100, 100, 3)]     0         \n",
      "=================================================================\n",
      "Total params: 17,535,628\n",
      "Trainable params: 17,535,558\n",
      "Non-trainable params: 70\n",
      "_________________________________________________________________\n",
      "None\n"
     ]
    }
   ],
   "source": [
    "#ae.compile(metrics=None)\n",
    "ae.compile()"
   ]
  },
  {
   "cell_type": "markdown",
   "metadata": {},
   "source": [
    "# Callbacks"
   ]
  },
  {
   "cell_type": "code",
   "execution_count": 28,
   "metadata": {},
   "outputs": [],
   "source": [
    "\n",
    "from training.callbacks.sample_generation import SampleGeneration\n",
    "from training.callbacks.save_model import ModelSaver"
   ]
  },
  {
   "cell_type": "code",
   "execution_count": null,
   "metadata": {},
   "outputs": [],
   "source": []
  },
  {
   "cell_type": "code",
   "execution_count": 29,
   "metadata": {},
   "outputs": [],
   "source": [
    "es = tf.keras.callbacks.EarlyStopping(\n",
    "    monitor='loss', \n",
    "    min_delta=1e-12, \n",
    "    patience=6, \n",
    "    verbose=1, \n",
    "    restore_best_weights=False\n",
    ")"
   ]
  },
  {
   "cell_type": "code",
   "execution_count": 30,
   "metadata": {},
   "outputs": [],
   "source": [
    "ms = ModelSaver(filepath=_restore)"
   ]
  },
  {
   "cell_type": "code",
   "execution_count": 31,
   "metadata": {},
   "outputs": [
    {
     "data": {
      "text/plain": [
       "'experiments\\\\pokemonAE_Dense_reconst_ell\\\\csv_dir\\\\pokemonAE_Dense_reconst_ell.csv'"
      ]
     },
     "execution_count": 31,
     "metadata": {},
     "output_type": "execute_result"
    }
   ],
   "source": [
    "csv_dir = os.path.join(experiments_dir, 'csv_dir')\n",
    "create_if_not_exist(csv_dir)\n",
    "csv_dir = os.path.join(csv_dir, ae.name+'.csv')\n",
    "csv_log = tf.keras.callbacks.CSVLogger(csv_dir, append=True)\n",
    "csv_dir"
   ]
  },
  {
   "cell_type": "code",
   "execution_count": 32,
   "metadata": {},
   "outputs": [],
   "source": [
    "image_gen_dir = os.path.join(experiments_dir, 'image_gen_dir')\n",
    "create_if_not_exist(image_gen_dir)"
   ]
  },
  {
   "cell_type": "code",
   "execution_count": 33,
   "metadata": {},
   "outputs": [],
   "source": [
    "sg = SampleGeneration(latents_shape=latents_dim, filepath=image_gen_dir, gen_freq=5, save_img=True, gray_plot=False)"
   ]
  },
  {
   "cell_type": "code",
   "execution_count": 34,
   "metadata": {},
   "outputs": [],
   "source": [
    "import numpy as np"
   ]
  },
  {
   "cell_type": "markdown",
   "metadata": {},
   "source": [
    "# Model Training"
   ]
  },
  {
   "cell_type": "code",
   "execution_count": null,
   "metadata": {
    "scrolled": true
   },
   "outputs": [
    {
     "name": "stdout",
     "output_type": "stream",
     "text": [
      "Epoch 1/1000000\n",
      "\n",
      "Epoch 00001: loss improved from inf to 7126.55518, saving model to experiments\\pokemonAE_Dense_reconst_ell\\var_save_dir\n",
      "10000/10000 - 3409s - loss: 7126.5552 - psnr: 10.9722 - total_variation: 258701.4219 - ssim_multiscale: 11.3072 - sharpdiff: 5.3417 - mean_absolute_error: 0.2090 - mean_squared_error: 0.0814 - val_loss: 4471.4229 - val_psnr: 13.5348 - val_total_variation: 41143.6094 - val_ssim_multiscale: 18.5683 - val_sharpdiff: 10.1918 - val_mean_absolute_error: 0.1464 - val_mean_squared_error: 0.0467\n",
      "Epoch 2/1000000\n",
      "\n",
      "Epoch 00002: loss improved from 7126.55518 to 6556.31152, saving model to experiments\\pokemonAE_Dense_reconst_ell\\var_save_dir\n",
      "10000/10000 - 3417s - loss: 6556.3115 - psnr: 11.2310 - total_variation: 267312.9062 - ssim_multiscale: 12.6720 - sharpdiff: 5.2442 - mean_absolute_error: 0.1945 - mean_squared_error: 0.0760 - val_loss: 4560.4292 - val_psnr: 13.4462 - val_total_variation: 41534.3672 - val_ssim_multiscale: 18.2405 - val_sharpdiff: 10.1522 - val_mean_absolute_error: 0.1505 - val_mean_squared_error: 0.0475\n",
      "Epoch 3/1000000\n",
      "\n",
      "Epoch 00003: loss improved from 6556.31152 to 6507.85791, saving model to experiments\\pokemonAE_Dense_reconst_ell\\var_save_dir\n",
      "10000/10000 - 3415s - loss: 6507.8579 - psnr: 11.2561 - total_variation: 267743.3438 - ssim_multiscale: 12.8195 - sharpdiff: 5.2401 - mean_absolute_error: 0.1933 - mean_squared_error: 0.0756 - val_loss: 4525.4688 - val_psnr: 13.4502 - val_total_variation: 38575.3320 - val_ssim_multiscale: 18.2634 - val_sharpdiff: 10.2392 - val_mean_absolute_error: 0.1485 - val_mean_squared_error: 0.0476\n",
      "Epoch 4/1000000\n",
      "\n",
      "Epoch 00004: loss improved from 6507.85791 to 6482.74316, saving model to experiments\\pokemonAE_Dense_reconst_ell\\var_save_dir\n",
      "10000/10000 - 3414s - loss: 6482.7432 - psnr: 11.2698 - total_variation: 267952.9062 - ssim_multiscale: 12.8910 - sharpdiff: 5.2384 - mean_absolute_error: 0.1927 - mean_squared_error: 0.0753 - val_loss: 4438.9214 - val_psnr: 13.5001 - val_total_variation: 38068.6289 - val_ssim_multiscale: 18.6946 - val_sharpdiff: 10.2921 - val_mean_absolute_error: 0.1433 - val_mean_squared_error: 0.0471\n",
      "Epoch 5/1000000\n",
      "\n",
      "Epoch 00005: loss improved from 6482.74316 to 6468.09863, saving model to experiments\\pokemonAE_Dense_reconst_ell\\var_save_dir\n",
      "10000/10000 - 3414s - loss: 6468.0986 - psnr: 11.2778 - total_variation: 268028.4062 - ssim_multiscale: 12.9361 - sharpdiff: 5.2379 - mean_absolute_error: 0.1923 - mean_squared_error: 0.0752 - val_loss: 4473.6670 - val_psnr: 13.5017 - val_total_variation: 38612.0547 - val_ssim_multiscale: 18.5105 - val_sharpdiff: 10.2484 - val_mean_absolute_error: 0.1465 - val_mean_squared_error: 0.0470\n",
      "Epoch 6/1000000\n",
      "\n",
      "Epoch 00006: loss improved from 6468.09863 to 6456.13770, saving model to experiments\\pokemonAE_Dense_reconst_ell\\var_save_dir\n",
      "10000/10000 - 3413s - loss: 6456.1377 - psnr: 11.2844 - total_variation: 268149.2812 - ssim_multiscale: 12.9670 - sharpdiff: 5.2369 - mean_absolute_error: 0.1920 - mean_squared_error: 0.0751 - val_loss: 4414.2896 - val_psnr: 13.5288 - val_total_variation: 37515.7930 - val_ssim_multiscale: 18.7584 - val_sharpdiff: 10.3055 - val_mean_absolute_error: 0.1431 - val_mean_squared_error: 0.0468\n",
      "Epoch 7/1000000\n",
      "\n",
      "Epoch 00007: loss improved from 6456.13770 to 6446.40771, saving model to experiments\\pokemonAE_Dense_reconst_ell\\var_save_dir\n",
      "10000/10000 - 3410s - loss: 6446.4077 - psnr: 11.2898 - total_variation: 268263.4375 - ssim_multiscale: 12.9996 - sharpdiff: 5.2360 - mean_absolute_error: 0.1918 - mean_squared_error: 0.0750 - val_loss: 4403.7549 - val_psnr: 13.5484 - val_total_variation: 36894.7500 - val_ssim_multiscale: 18.7931 - val_sharpdiff: 10.3206 - val_mean_absolute_error: 0.1430 - val_mean_squared_error: 0.0466\n",
      "Epoch 8/1000000\n",
      "\n",
      "Epoch 00008: loss improved from 6446.40771 to 6440.09619, saving model to experiments\\pokemonAE_Dense_reconst_ell\\var_save_dir\n",
      "10000/10000 - 3413s - loss: 6440.0962 - psnr: 11.2936 - total_variation: 268285.8125 - ssim_multiscale: 13.0181 - sharpdiff: 5.2360 - mean_absolute_error: 0.1916 - mean_squared_error: 0.0749 - val_loss: 4442.5562 - val_psnr: 13.5068 - val_total_variation: 37109.2812 - val_ssim_multiscale: 18.6517 - val_sharpdiff: 10.3101 - val_mean_absolute_error: 0.1438 - val_mean_squared_error: 0.0472\n",
      "Epoch 9/1000000\n",
      "\n",
      "Epoch 00009: loss improved from 6440.09619 to 6436.08984, saving model to experiments\\pokemonAE_Dense_reconst_ell\\var_save_dir\n",
      "10000/10000 - 3412s - loss: 6436.0898 - psnr: 11.2957 - total_variation: 268309.2188 - ssim_multiscale: 13.0319 - sharpdiff: 5.2357 - mean_absolute_error: 0.1915 - mean_squared_error: 0.0749 - val_loss: 4443.9434 - val_psnr: 13.4911 - val_total_variation: 36544.9102 - val_ssim_multiscale: 18.7208 - val_sharpdiff: 10.3327 - val_mean_absolute_error: 0.1433 - val_mean_squared_error: 0.0473\n",
      "Epoch 10/1000000\n",
      "\n",
      "Epoch 00010: loss improved from 6436.08984 to 6429.20264, saving model to experiments\\pokemonAE_Dense_reconst_ell\\var_save_dir\n",
      "10000/10000 - 3413s - loss: 6429.2026 - psnr: 11.3000 - total_variation: 268381.6562 - ssim_multiscale: 13.0509 - sharpdiff: 5.2351 - mean_absolute_error: 0.1913 - mean_squared_error: 0.0748 - val_loss: 4544.1934 - val_psnr: 13.4429 - val_total_variation: 38657.2070 - val_ssim_multiscale: 18.3641 - val_sharpdiff: 10.2362 - val_mean_absolute_error: 0.1494 - val_mean_squared_error: 0.0476\n",
      "Epoch 11/1000000\n",
      "\n",
      "Epoch 00011: loss improved from 6429.20264 to 6426.63184, saving model to experiments\\pokemonAE_Dense_reconst_ell\\var_save_dir\n",
      "10000/10000 - 3410s - loss: 6426.6318 - psnr: 11.3009 - total_variation: 268376.4688 - ssim_multiscale: 13.0600 - sharpdiff: 5.2353 - mean_absolute_error: 0.1913 - mean_squared_error: 0.0748 - val_loss: 4460.2100 - val_psnr: 13.5178 - val_total_variation: 37373.4844 - val_ssim_multiscale: 18.5822 - val_sharpdiff: 10.2829 - val_mean_absolute_error: 0.1468 - val_mean_squared_error: 0.0469\n",
      "Epoch 12/1000000\n",
      "\n",
      "Epoch 00012: loss improved from 6426.63184 to 6422.56299, saving model to experiments\\pokemonAE_Dense_reconst_ell\\var_save_dir\n",
      "10000/10000 - 3407s - loss: 6422.5630 - psnr: 11.3036 - total_variation: 268434.6562 - ssim_multiscale: 13.0714 - sharpdiff: 5.2347 - mean_absolute_error: 0.1912 - mean_squared_error: 0.0747 - val_loss: 4521.9565 - val_psnr: 13.4661 - val_total_variation: 37665.3516 - val_ssim_multiscale: 18.3235 - val_sharpdiff: 10.2563 - val_mean_absolute_error: 0.1492 - val_mean_squared_error: 0.0474\n",
      "Epoch 13/1000000\n",
      "\n",
      "Epoch 00013: loss improved from 6422.56299 to 6419.14941, saving model to experiments\\pokemonAE_Dense_reconst_ell\\var_save_dir\n",
      "10000/10000 - 3409s - loss: 6419.1494 - psnr: 11.3054 - total_variation: 268454.9375 - ssim_multiscale: 13.0790 - sharpdiff: 5.2345 - mean_absolute_error: 0.1911 - mean_squared_error: 0.0747 - val_loss: 4578.5444 - val_psnr: 13.4093 - val_total_variation: 38573.6680 - val_ssim_multiscale: 18.2767 - val_sharpdiff: 10.2283 - val_mean_absolute_error: 0.1505 - val_mean_squared_error: 0.0479\n",
      "Epoch 14/1000000\n",
      "\n",
      "Epoch 00014: loss improved from 6419.14941 to 6416.89307, saving model to experiments\\pokemonAE_Dense_reconst_ell\\var_save_dir\n",
      "10000/10000 - 3408s - loss: 6416.8931 - psnr: 11.3068 - total_variation: 268451.1875 - ssim_multiscale: 13.0878 - sharpdiff: 5.2346 - mean_absolute_error: 0.1910 - mean_squared_error: 0.0747 - val_loss: 4414.4009 - val_psnr: 13.5234 - val_total_variation: 36109.9219 - val_ssim_multiscale: 18.8554 - val_sharpdiff: 10.3507 - val_mean_absolute_error: 0.1421 - val_mean_squared_error: 0.0469\n",
      "Epoch 15/1000000\n",
      "\n",
      "Epoch 00015: loss improved from 6416.89307 to 6415.91748, saving model to experiments\\pokemonAE_Dense_reconst_ell\\var_save_dir\n",
      "10000/10000 - 3408s - loss: 6415.9175 - psnr: 11.3071 - total_variation: 268468.6250 - ssim_multiscale: 13.0916 - sharpdiff: 5.2346 - mean_absolute_error: 0.1910 - mean_squared_error: 0.0747 - val_loss: 4463.4331 - val_psnr: 13.5141 - val_total_variation: 37362.3984 - val_ssim_multiscale: 18.5003 - val_sharpdiff: 10.2777 - val_mean_absolute_error: 0.1473 - val_mean_squared_error: 0.0470\n",
      "Epoch 16/1000000\n",
      "\n",
      "Epoch 00016: loss improved from 6415.91748 to 6411.88232, saving model to experiments\\pokemonAE_Dense_reconst_ell\\var_save_dir\n",
      "10000/10000 - 3408s - loss: 6411.8823 - psnr: 11.3095 - total_variation: 268471.4375 - ssim_multiscale: 13.1028 - sharpdiff: 5.2345 - mean_absolute_error: 0.1909 - mean_squared_error: 0.0746 - val_loss: 4486.8022 - val_psnr: 13.4993 - val_total_variation: 37349.6953 - val_ssim_multiscale: 18.4138 - val_sharpdiff: 10.2664 - val_mean_absolute_error: 0.1485 - val_mean_squared_error: 0.0471\n"
     ]
    },
    {
     "name": "stdout",
     "output_type": "stream",
     "text": [
      "Epoch 17/1000000\n",
      "\n",
      "Epoch 00017: loss improved from 6411.88232 to 6411.59717, saving model to experiments\\pokemonAE_Dense_reconst_ell\\var_save_dir\n",
      "10000/10000 - 3411s - loss: 6411.5972 - psnr: 11.3096 - total_variation: 268496.7812 - ssim_multiscale: 13.1039 - sharpdiff: 5.2342 - mean_absolute_error: 0.1909 - mean_squared_error: 0.0746 - val_loss: 4491.1294 - val_psnr: 13.4871 - val_total_variation: 37648.2344 - val_ssim_multiscale: 18.4409 - val_sharpdiff: 10.2627 - val_mean_absolute_error: 0.1484 - val_mean_squared_error: 0.0472\n",
      "Epoch 18/1000000\n",
      "\n",
      "Epoch 00018: loss improved from 6411.59717 to 6408.67139, saving model to experiments\\pokemonAE_Dense_reconst_ell\\var_save_dir\n",
      "10000/10000 - 3410s - loss: 6408.6714 - psnr: 11.3115 - total_variation: 268551.1875 - ssim_multiscale: 13.1109 - sharpdiff: 5.2338 - mean_absolute_error: 0.1908 - mean_squared_error: 0.0746 - val_loss: 4412.9473 - val_psnr: 13.5325 - val_total_variation: 36653.7070 - val_ssim_multiscale: 18.7978 - val_sharpdiff: 10.3268 - val_mean_absolute_error: 0.1430 - val_mean_squared_error: 0.0468\n",
      "Epoch 19/1000000\n",
      "\n",
      "Epoch 00019: loss improved from 6408.67139 to 6404.44482, saving model to experiments\\pokemonAE_Dense_reconst_ell\\var_save_dir\n",
      "10000/10000 - 3411s - loss: 6404.4448 - psnr: 11.3139 - total_variation: 268623.5938 - ssim_multiscale: 13.1235 - sharpdiff: 5.2330 - mean_absolute_error: 0.1907 - mean_squared_error: 0.0746 - val_loss: 4426.6006 - val_psnr: 13.5292 - val_total_variation: 37053.3086 - val_ssim_multiscale: 18.7943 - val_sharpdiff: 10.3128 - val_mean_absolute_error: 0.1442 - val_mean_squared_error: 0.0468\n",
      "Epoch 20/1000000\n",
      "\n",
      "Epoch 00020: loss improved from 6404.44482 to 6404.16699, saving model to experiments\\pokemonAE_Dense_reconst_ell\\var_save_dir\n",
      "10000/10000 - 3410s - loss: 6404.1670 - psnr: 11.3143 - total_variation: 268581.6250 - ssim_multiscale: 13.1244 - sharpdiff: 5.2335 - mean_absolute_error: 0.1907 - mean_squared_error: 0.0746 - val_loss: 4413.5024 - val_psnr: 13.5453 - val_total_variation: 37388.0039 - val_ssim_multiscale: 18.8356 - val_sharpdiff: 10.3024 - val_mean_absolute_error: 0.1440 - val_mean_squared_error: 0.0466\n",
      "Epoch 21/1000000\n",
      "\n",
      "Epoch 00021: loss improved from 6404.16699 to 6403.06152, saving model to experiments\\pokemonAE_Dense_reconst_ell\\var_save_dir\n",
      "10000/10000 - 3410s - loss: 6403.0615 - psnr: 11.3149 - total_variation: 268593.2500 - ssim_multiscale: 13.1293 - sharpdiff: 5.2334 - mean_absolute_error: 0.1907 - mean_squared_error: 0.0745 - val_loss: 4425.8906 - val_psnr: 13.5312 - val_total_variation: 37499.7227 - val_ssim_multiscale: 18.8131 - val_sharpdiff: 10.2976 - val_mean_absolute_error: 0.1441 - val_mean_squared_error: 0.0467\n",
      "Epoch 22/1000000\n",
      "\n",
      "Epoch 00022: loss improved from 6403.06152 to 6401.44629, saving model to experiments\\pokemonAE_Dense_reconst_ell\\var_save_dir\n",
      "10000/10000 - 3419s - loss: 6401.4463 - psnr: 11.3156 - total_variation: 268602.2188 - ssim_multiscale: 13.1313 - sharpdiff: 5.2331 - mean_absolute_error: 0.1907 - mean_squared_error: 0.0745 - val_loss: 4463.5073 - val_psnr: 13.5000 - val_total_variation: 37018.2227 - val_ssim_multiscale: 18.6016 - val_sharpdiff: 10.2959 - val_mean_absolute_error: 0.1463 - val_mean_squared_error: 0.0472\n",
      "Epoch 23/1000000\n",
      "\n",
      "Epoch 00023: loss improved from 6401.44629 to 6399.37500, saving model to experiments\\pokemonAE_Dense_reconst_ell\\var_save_dir\n",
      "10000/10000 - 3416s - loss: 6399.3750 - psnr: 11.3168 - total_variation: 268621.2500 - ssim_multiscale: 13.1383 - sharpdiff: 5.2331 - mean_absolute_error: 0.1906 - mean_squared_error: 0.0745 - val_loss: 4459.1528 - val_psnr: 13.5032 - val_total_variation: 37583.3438 - val_ssim_multiscale: 18.6729 - val_sharpdiff: 10.2802 - val_mean_absolute_error: 0.1459 - val_mean_squared_error: 0.0470\n",
      "Epoch 24/1000000\n",
      "\n",
      "Epoch 00024: loss improved from 6399.37500 to 6398.30371, saving model to experiments\\pokemonAE_Dense_reconst_ell\\var_save_dir\n",
      "10000/10000 - 3416s - loss: 6398.3037 - psnr: 11.3176 - total_variation: 268654.5312 - ssim_multiscale: 13.1425 - sharpdiff: 5.2328 - mean_absolute_error: 0.1906 - mean_squared_error: 0.0745 - val_loss: 4481.6426 - val_psnr: 13.4874 - val_total_variation: 37207.0352 - val_ssim_multiscale: 18.5263 - val_sharpdiff: 10.2836 - val_mean_absolute_error: 0.1472 - val_mean_squared_error: 0.0472\n",
      "Epoch 25/1000000\n",
      "\n",
      "Epoch 00025: loss improved from 6398.30371 to 6396.54443, saving model to experiments\\pokemonAE_Dense_reconst_ell\\var_save_dir\n",
      "10000/10000 - 3416s - loss: 6396.5444 - psnr: 11.3185 - total_variation: 268643.0938 - ssim_multiscale: 13.1461 - sharpdiff: 5.2327 - mean_absolute_error: 0.1905 - mean_squared_error: 0.0745 - val_loss: 4475.6704 - val_psnr: 13.4985 - val_total_variation: 36339.7969 - val_ssim_multiscale: 18.4971 - val_sharpdiff: 10.3013 - val_mean_absolute_error: 0.1471 - val_mean_squared_error: 0.0471\n",
      "Epoch 26/1000000\n"
     ]
    }
   ],
   "source": [
    "ae.fit(\n",
    "    x=train_ds,\n",
    "    input_kw=None,\n",
    "    steps_per_epoch=int(1e4),\n",
    "    epochs=int(1e6), \n",
    "    verbose=2,\n",
    "    callbacks=[ es, ms, csv_log, sg],\n",
    "    workers=-1,\n",
    "    use_multiprocessing=True,\n",
    "    validation_data=test_ds,\n",
    "    validation_steps=int(1e4)\n",
    ")"
   ]
  },
  {
   "cell_type": "code",
   "execution_count": null,
   "metadata": {},
   "outputs": [],
   "source": []
  },
  {
   "cell_type": "markdown",
   "metadata": {},
   "source": [
    "# Model Evaluation"
   ]
  },
  {
   "cell_type": "markdown",
   "metadata": {},
   "source": [
    "## inception_score"
   ]
  },
  {
   "cell_type": "code",
   "execution_count": null,
   "metadata": {},
   "outputs": [],
   "source": [
    "from evaluation.generativity_metrics.inception_metrics import inception_score"
   ]
  },
  {
   "cell_type": "code",
   "execution_count": null,
   "metadata": {},
   "outputs": [],
   "source": [
    "is_mean, is_sigma = inception_score(ae, tolerance_threshold=1e-6, max_iteration=200)\n",
    "print(f'inception_score mean: {is_mean}, sigma: {is_sigma}')"
   ]
  },
  {
   "cell_type": "markdown",
   "metadata": {},
   "source": [
    "## Frechet_inception_distance"
   ]
  },
  {
   "cell_type": "code",
   "execution_count": null,
   "metadata": {},
   "outputs": [],
   "source": [
    "from evaluation.generativity_metrics.inception_metrics import frechet_inception_distance"
   ]
  },
  {
   "cell_type": "code",
   "execution_count": null,
   "metadata": {},
   "outputs": [],
   "source": [
    "fis_score = frechet_inception_distance(ae, training_generator, tolerance_threshold=1e-6, max_iteration=10, batch_size=32)\n",
    "print(f'frechet inception distance: {fis_score}')"
   ]
  },
  {
   "cell_type": "code",
   "execution_count": null,
   "metadata": {},
   "outputs": [],
   "source": []
  },
  {
   "cell_type": "markdown",
   "metadata": {},
   "source": [
    "## perceptual_path_length_score"
   ]
  },
  {
   "cell_type": "code",
   "execution_count": null,
   "metadata": {},
   "outputs": [],
   "source": [
    "from evaluation.generativity_metrics.perceptual_path_length import perceptual_path_length_score"
   ]
  },
  {
   "cell_type": "code",
   "execution_count": null,
   "metadata": {},
   "outputs": [],
   "source": [
    "ppl_mean_score = perceptual_path_length_score(ae, training_generator, tolerance_threshold=1e-6, max_iteration=200, batch_size=32)\n",
    "print(f'perceptual path length score: {ppl_mean_score}')"
   ]
  },
  {
   "cell_type": "code",
   "execution_count": null,
   "metadata": {},
   "outputs": [],
   "source": []
  },
  {
   "cell_type": "markdown",
   "metadata": {},
   "source": [
    "## precision score"
   ]
  },
  {
   "cell_type": "code",
   "execution_count": null,
   "metadata": {},
   "outputs": [],
   "source": [
    "from evaluation.generativity_metrics.precision_recall import precision_score"
   ]
  },
  {
   "cell_type": "code",
   "execution_count": null,
   "metadata": {},
   "outputs": [],
   "source": [
    "_precision_score = precision_score(ae, training_generator, tolerance_threshold=1e-6, max_iteration=200)\n",
    "print(f'precision score: {_precision_score}')"
   ]
  },
  {
   "cell_type": "markdown",
   "metadata": {},
   "source": [
    "## recall score"
   ]
  },
  {
   "cell_type": "code",
   "execution_count": null,
   "metadata": {},
   "outputs": [],
   "source": [
    "from evaluation.generativity_metrics.precision_recall import recall_score"
   ]
  },
  {
   "cell_type": "code",
   "execution_count": null,
   "metadata": {},
   "outputs": [],
   "source": [
    "_recall_score = recall_score(ae, training_generator, tolerance_threshold=1e-6, max_iteration=200)\n",
    "print(f'recall score: {_recall_score}')"
   ]
  },
  {
   "cell_type": "code",
   "execution_count": null,
   "metadata": {},
   "outputs": [],
   "source": []
  },
  {
   "cell_type": "markdown",
   "metadata": {},
   "source": [
    "# Image Generation"
   ]
  },
  {
   "cell_type": "markdown",
   "metadata": {},
   "source": [
    "## image reconstruction"
   ]
  },
  {
   "cell_type": "markdown",
   "metadata": {},
   "source": [
    "### Training dataset"
   ]
  },
  {
   "cell_type": "code",
   "execution_count": null,
   "metadata": {},
   "outputs": [],
   "source": [
    "%load_ext autoreload\n",
    "%autoreload 2"
   ]
  },
  {
   "cell_type": "code",
   "execution_count": null,
   "metadata": {},
   "outputs": [],
   "source": [
    "from training.generators.image_generation_testing import reconstruct_from_a_batch"
   ]
  },
  {
   "cell_type": "code",
   "execution_count": null,
   "metadata": {},
   "outputs": [],
   "source": [
    "from utils.data_and_files.file_utils import create_if_not_exist\n",
    "save_dir = os.path.join(experiments_dir, 'reconstruct_training_images_like_a_batch_dir')\n",
    "create_if_not_exist(save_dir)\n",
    "\n",
    "reconstruct_from_a_batch(ae, training_generator, save_dir)"
   ]
  },
  {
   "cell_type": "code",
   "execution_count": null,
   "metadata": {},
   "outputs": [],
   "source": [
    "from utils.data_and_files.file_utils import create_if_not_exist\n",
    "save_dir = os.path.join(experiments_dir, 'reconstruct_testing_images_like_a_batch_dir')\n",
    "create_if_not_exist(save_dir)\n",
    "\n",
    "reconstruct_from_a_batch(ae, testing_generator, save_dir)"
   ]
  },
  {
   "cell_type": "markdown",
   "metadata": {},
   "source": [
    "## with Randomness"
   ]
  },
  {
   "cell_type": "code",
   "execution_count": null,
   "metadata": {},
   "outputs": [],
   "source": [
    "from training.generators.image_generation_testing import generate_images_like_a_batch"
   ]
  },
  {
   "cell_type": "code",
   "execution_count": null,
   "metadata": {},
   "outputs": [],
   "source": [
    "from utils.data_and_files.file_utils import create_if_not_exist\n",
    "save_dir = os.path.join(experiments_dir, 'generate_training_images_like_a_batch_dir')\n",
    "create_if_not_exist(save_dir)\n",
    "\n",
    "generate_images_like_a_batch(ae, training_generator, save_dir)"
   ]
  },
  {
   "cell_type": "code",
   "execution_count": null,
   "metadata": {},
   "outputs": [],
   "source": [
    "from utils.data_and_files.file_utils import create_if_not_exist\n",
    "save_dir = os.path.join(experiments_dir, 'generate_testing_images_like_a_batch_dir')\n",
    "create_if_not_exist(save_dir)\n",
    "\n",
    "generate_images_like_a_batch(ae, testing_generator, save_dir)"
   ]
  },
  {
   "cell_type": "code",
   "execution_count": null,
   "metadata": {},
   "outputs": [],
   "source": []
  },
  {
   "cell_type": "markdown",
   "metadata": {},
   "source": [
    "### Complete Randomness"
   ]
  },
  {
   "cell_type": "code",
   "execution_count": null,
   "metadata": {},
   "outputs": [],
   "source": [
    "from training.generators.image_generation_testing import generate_images_randomly"
   ]
  },
  {
   "cell_type": "code",
   "execution_count": null,
   "metadata": {},
   "outputs": [],
   "source": [
    "from utils.data_and_files.file_utils import create_if_not_exist\n",
    "save_dir = os.path.join(experiments_dir, 'random_synthetic_dir')\n",
    "create_if_not_exist(save_dir)\n",
    "\n",
    "generate_images_randomly(ae, save_dir)"
   ]
  },
  {
   "cell_type": "code",
   "execution_count": null,
   "metadata": {},
   "outputs": [],
   "source": [
    "from training.generators.image_generation_testing import interpolate_a_batch"
   ]
  },
  {
   "cell_type": "code",
   "execution_count": null,
   "metadata": {
    "scrolled": false
   },
   "outputs": [],
   "source": [
    "from utils.data_and_files.file_utils import create_if_not_exist\n",
    "save_dir = os.path.join(experiments_dir, 'interpolate_dir')\n",
    "create_if_not_exist(save_dir)\n",
    "\n",
    "interpolate_a_batch(ae, testing_generator, save_dir)"
   ]
  },
  {
   "cell_type": "code",
   "execution_count": null,
   "metadata": {},
   "outputs": [],
   "source": []
  },
  {
   "cell_type": "code",
   "execution_count": null,
   "metadata": {},
   "outputs": [],
   "source": []
  }
 ],
 "metadata": {
  "kernelspec": {
   "display_name": "Python 3",
   "language": "python",
   "name": "python3"
  },
  "language_info": {
   "codemirror_mode": {
    "name": "ipython",
    "version": 3
   },
   "file_extension": ".py",
   "mimetype": "text/x-python",
   "name": "python",
   "nbconvert_exporter": "python",
   "pygments_lexer": "ipython3",
   "version": "3.7.5"
  }
 },
 "nbformat": 4,
 "nbformat_minor": 2
}
