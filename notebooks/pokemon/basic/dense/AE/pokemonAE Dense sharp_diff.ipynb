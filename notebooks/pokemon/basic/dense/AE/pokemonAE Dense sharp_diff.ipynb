{
 "cells": [
  {
   "cell_type": "markdown",
   "metadata": {},
   "source": [
    "# Settings"
   ]
  },
  {
   "cell_type": "code",
   "execution_count": 1,
   "metadata": {},
   "outputs": [
    {
     "name": "stdout",
     "output_type": "stream",
     "text": [
      "env: TF_KERAS=1\n",
      "\\\n"
     ]
    }
   ],
   "source": [
    "%env TF_KERAS = 1\n",
    "import os\n",
    "sep_local = os.path.sep\n",
    "\n",
    "import sys\n",
    "sys.path.append('..'+sep_local+'..')\n",
    "print(sep_local)"
   ]
  },
  {
   "cell_type": "code",
   "execution_count": 2,
   "metadata": {},
   "outputs": [
    {
     "name": "stdout",
     "output_type": "stream",
     "text": [
      "2.1.0\n"
     ]
    }
   ],
   "source": [
    "import tensorflow as tf\n",
    "print(tf.__version__)"
   ]
  },
  {
   "cell_type": "markdown",
   "metadata": {},
   "source": [
    "# Dataset loading"
   ]
  },
  {
   "cell_type": "code",
   "execution_count": 3,
   "metadata": {},
   "outputs": [],
   "source": [
    "dataset_name='pokemon'"
   ]
  },
  {
   "cell_type": "code",
   "execution_count": 4,
   "metadata": {},
   "outputs": [],
   "source": [
    "IMG_DIR = 'C:\\\\Users\\\\Khalid\\\\Documents\\projects\\\\pokemon\\DS06\\\\'\n",
    "VAL_PCT = 20\n",
    "VAL_FORMAT = 'png'"
   ]
  },
  {
   "cell_type": "code",
   "execution_count": 5,
   "metadata": {},
   "outputs": [
    {
     "name": "stderr",
     "output_type": "stream",
     "text": [
      "Using TensorFlow backend.\n"
     ]
    }
   ],
   "source": [
    "from training.generators.file_image_generator import create_image_lists, get_generators"
   ]
  },
  {
   "cell_type": "code",
   "execution_count": 6,
   "metadata": {},
   "outputs": [
    {
     "name": "stdout",
     "output_type": "stream",
     "text": [
      "\n"
     ]
    },
    {
     "name": "stderr",
     "output_type": "stream",
     "text": [
      "  DEBUG    | Looking for images in 'all'\n"
     ]
    },
    {
     "name": "stdout",
     "output_type": "stream",
     "text": [
      "\n"
     ]
    },
    {
     "name": "stderr",
     "output_type": "stream",
     "text": [
      "  INFO     | 809 file found\n"
     ]
    }
   ],
   "source": [
    "imgs_list = create_image_lists(\n",
    "    image_dir=IMG_DIR, \n",
    "    validation_pct=VAL_PCT, \n",
    "    valid_imgae_formats=VAL_FORMAT\n",
    ")"
   ]
  },
  {
   "cell_type": "code",
   "execution_count": 7,
   "metadata": {},
   "outputs": [],
   "source": [
    "inputs_shape= IMG_SIZE=(200, 200, 3)\n",
    "BATCH_SIZE = 32\n",
    "latent_dim = 32\n",
    "intermediate_dim = 32"
   ]
  },
  {
   "cell_type": "code",
   "execution_count": 8,
   "metadata": {},
   "outputs": [
    {
     "name": "stdout",
     "output_type": "stream",
     "text": [
      "\n"
     ]
    },
    {
     "name": "stderr",
     "output_type": "stream",
     "text": [
      "  INFO     | Found 738 training files\n"
     ]
    },
    {
     "name": "stdout",
     "output_type": "stream",
     "text": [
      "\n"
     ]
    },
    {
     "name": "stderr",
     "output_type": "stream",
     "text": [
      "  INFO     | Found 71 validation files\n"
     ]
    }
   ],
   "source": [
    "train_gen, test_gen = get_generators(\n",
    "    images_list=imgs_list, \n",
    "    image_dir=IMG_DIR, \n",
    "    image_size=IMG_SIZE, \n",
    "    batch_size=BATCH_SIZE, \n",
    "    class_mode=None\n",
    ")"
   ]
  },
  {
   "cell_type": "code",
   "execution_count": 9,
   "metadata": {},
   "outputs": [],
   "source": [
    "import tensorflow as tf"
   ]
  },
  {
   "cell_type": "code",
   "execution_count": 10,
   "metadata": {},
   "outputs": [],
   "source": [
    "train_ds = tf.data.Dataset.from_generator(\n",
    "    lambda: train_gen, \n",
    "    output_types=tf.float32 ,\n",
    "    output_shapes=tf.TensorShape((BATCH_SIZE, ) + IMG_SIZE)\n",
    ")\n",
    "\n",
    "test_ds = tf.data.Dataset.from_generator(\n",
    "    lambda: test_gen, \n",
    "    output_types=tf.float32 ,\n",
    "    output_shapes=tf.TensorShape((BATCH_SIZE, ) + IMG_SIZE)\n",
    ")"
   ]
  },
  {
   "cell_type": "code",
   "execution_count": 11,
   "metadata": {},
   "outputs": [],
   "source": [
    "_instance_scale=1.0\n",
    "for data in train_ds:\n",
    "    _instance_scale = float(data[0].numpy().max())\n",
    "    break"
   ]
  },
  {
   "cell_type": "code",
   "execution_count": 12,
   "metadata": {},
   "outputs": [
    {
     "data": {
      "text/plain": [
       "1.0"
      ]
     },
     "execution_count": 12,
     "metadata": {},
     "output_type": "execute_result"
    }
   ],
   "source": [
    "_instance_scale"
   ]
  },
  {
   "cell_type": "code",
   "execution_count": 13,
   "metadata": {},
   "outputs": [],
   "source": [
    "import numpy as np\n",
    "from collections.abc import Iterable"
   ]
  },
  {
   "cell_type": "code",
   "execution_count": 14,
   "metadata": {},
   "outputs": [],
   "source": [
    "if isinstance(inputs_shape, Iterable):\n",
    "    _outputs_shape = np.prod(inputs_shape)"
   ]
  },
  {
   "cell_type": "code",
   "execution_count": 15,
   "metadata": {},
   "outputs": [
    {
     "data": {
      "text/plain": [
       "120000"
      ]
     },
     "execution_count": 15,
     "metadata": {},
     "output_type": "execute_result"
    }
   ],
   "source": [
    "_outputs_shape"
   ]
  },
  {
   "cell_type": "markdown",
   "metadata": {},
   "source": [
    "# Model's Layers definition"
   ]
  },
  {
   "cell_type": "code",
   "execution_count": 16,
   "metadata": {},
   "outputs": [],
   "source": [
    "enc_lays = [tf.keras.layers.Dense(units=intermediate_dim, activation='relu'),\n",
    "            tf.keras.layers.Dense(units=intermediate_dim, activation='relu'),\n",
    "            tf.keras.layers.Flatten(),\n",
    "            tf.keras.layers.Dense(units=latent_dim)]\n",
    "\n",
    "dec_lays = [tf.keras.layers.Dense(units=latent_dim, activation='relu'),\n",
    "            tf.keras.layers.Dense(units=intermediate_dim, activation='relu'),\n",
    "            tf.keras.layers.Dense(units=_outputs_shape),\n",
    "            tf.keras.layers.Reshape(inputs_shape)]"
   ]
  },
  {
   "cell_type": "markdown",
   "metadata": {},
   "source": [
    "# Model definition"
   ]
  },
  {
   "cell_type": "code",
   "execution_count": 17,
   "metadata": {},
   "outputs": [],
   "source": [
    "model_name = dataset_name+'AEsharp_diff'\n",
    "recording_dir='..'+sep_local+'..'+sep_local+'recording'+sep_local+model_name"
   ]
  },
  {
   "cell_type": "code",
   "execution_count": 18,
   "metadata": {
    "scrolled": true
   },
   "outputs": [],
   "source": [
    "from training.autoencoding_basic.autoencoders.autoencoder import autoencoder as AE"
   ]
  },
  {
   "cell_type": "code",
   "execution_count": 19,
   "metadata": {},
   "outputs": [],
   "source": [
    "inputs_shape=IMG_SIZE"
   ]
  },
  {
   "cell_type": "code",
   "execution_count": 20,
   "metadata": {},
   "outputs": [],
   "source": [
    "variables_params = \\\n",
    "[\n",
    "    {\n",
    "        'name': 'inference', \n",
    "        'inputs_shape':inputs_shape,\n",
    "        'outputs_shape':latent_dim,\n",
    "        'layers': enc_lays#enc_lays2#\n",
    "    }\n",
    "\n",
    "    ,\n",
    "    \n",
    "        {\n",
    "        'name': 'generative', \n",
    "        'inputs_shape':latent_dim,\n",
    "        'outputs_shape':inputs_shape,\n",
    "        'layers':dec_lays#dec_lays2#\n",
    "    }\n",
    "]"
   ]
  },
  {
   "cell_type": "code",
   "execution_count": 21,
   "metadata": {},
   "outputs": [],
   "source": [
    "from utils.data_and_files.file_utils import create_if_not_exist"
   ]
  },
  {
   "cell_type": "code",
   "execution_count": 22,
   "metadata": {},
   "outputs": [],
   "source": [
    "_restore = os.path.join(recording_dir, 'var_save_dir')"
   ]
  },
  {
   "cell_type": "code",
   "execution_count": 23,
   "metadata": {},
   "outputs": [
    {
     "data": {
      "text/plain": [
       "'..\\\\..\\\\recording\\\\pokemonAEsharp_diff\\\\var_save_dir'"
      ]
     },
     "execution_count": 23,
     "metadata": {},
     "output_type": "execute_result"
    }
   ],
   "source": [
    "create_if_not_exist(_restore)\n",
    "_restore"
   ]
  },
  {
   "cell_type": "code",
   "execution_count": 24,
   "metadata": {},
   "outputs": [],
   "source": [
    "#to restore trained model, set filepath=_restore"
   ]
  },
  {
   "cell_type": "code",
   "execution_count": 25,
   "metadata": {
    "scrolled": false
   },
   "outputs": [
    {
     "name": "stdout",
     "output_type": "stream",
     "text": [
      "Model: \"inference\"\n",
      "_________________________________________________________________\n",
      "Layer (type)                 Output Shape              Param #   \n",
      "=================================================================\n",
      "inference_inputs (InputLayer [(None, 200, 200, 3)]     0         \n",
      "_________________________________________________________________\n",
      "dense (Dense)                (None, 200, 200, 32)      128       \n",
      "_________________________________________________________________\n",
      "dense_1 (Dense)              (None, 200, 200, 32)      1056      \n",
      "_________________________________________________________________\n",
      "flatten (Flatten)            (None, 1280000)           0         \n",
      "_________________________________________________________________\n",
      "dense_2 (Dense)              (None, 32)                40960032  \n",
      "_________________________________________________________________\n",
      "batch_normalization (BatchNo (None, 32)                128       \n",
      "_________________________________________________________________\n",
      "dropout (Dropout)            (None, 32)                0         \n",
      "_________________________________________________________________\n",
      "activity_regularization (Act (None, 32)                0         \n",
      "_________________________________________________________________\n",
      "inference_outputs (Activatio (None, 32)                0         \n",
      "=================================================================\n",
      "Total params: 40,961,344\n",
      "Trainable params: 40,961,280\n",
      "Non-trainable params: 64\n",
      "_________________________________________________________________\n",
      "\n"
     ]
    },
    {
     "name": "stderr",
     "output_type": "stream",
     "text": [
      "  WARNING  | None\n"
     ]
    },
    {
     "name": "stdout",
     "output_type": "stream",
     "text": [
      "Model: \"generative\"\n",
      "_________________________________________________________________\n",
      "Layer (type)                 Output Shape              Param #   \n",
      "=================================================================\n",
      "generative_inputs (InputLaye [(None, 32)]              0         \n",
      "_________________________________________________________________\n",
      "dense_3 (Dense)              (None, 32)                1056      \n",
      "_________________________________________________________________\n",
      "dense_4 (Dense)              (None, 32)                1056      \n",
      "_________________________________________________________________\n",
      "dense_5 (Dense)              (None, 120000)            3960000   \n",
      "_________________________________________________________________\n",
      "reshape (Reshape)            (None, 200, 200, 3)       0         \n",
      "_________________________________________________________________\n",
      "batch_normalization_1 (Batch (None, 200, 200, 3)       12        \n",
      "_________________________________________________________________\n",
      "dropout_1 (Dropout)          (None, 200, 200, 3)       0         \n",
      "_________________________________________________________________\n",
      "activity_regularization_1 (A (None, 200, 200, 3)       0         \n",
      "_________________________________________________________________\n",
      "generative_outputs (Activati (None, 200, 200, 3)       0         \n",
      "=================================================================\n",
      "Total params: 3,962,124\n",
      "Trainable params: 3,962,118\n",
      "Non-trainable params: 6\n",
      "_________________________________________________________________\n",
      "\n"
     ]
    },
    {
     "name": "stderr",
     "output_type": "stream",
     "text": [
      "  WARNING  | None\n"
     ]
    }
   ],
   "source": [
    "ae = AE( \n",
    "    name=model_name,\n",
    "    inputs_shape=inputs_shape,\n",
    "    outputs_shape=inputs_shape,\n",
    "    latent_dim=latent_dim,\n",
    "    batch_size=BATCH_SIZE,\n",
    "    variables_params=variables_params, \n",
    "    filepath=None\n",
    "    )"
   ]
  },
  {
   "cell_type": "code",
   "execution_count": 26,
   "metadata": {},
   "outputs": [],
   "source": [
    "#from evaluation.quantitive_metrics.psnr import psnr\n",
    "#from evaluation.quantitive_metrics.ssmi import ssmi\n",
    "from evaluation.quantitive_metrics.sharp_diff import sharp_diff\n"
   ]
  },
  {
   "cell_type": "code",
   "execution_count": 27,
   "metadata": {},
   "outputs": [
    {
     "name": "stdout",
     "output_type": "stream",
     "text": [
      "Model: \"pokemonAEsharp_diff\"\n",
      "_________________________________________________________________\n",
      "Layer (type)                 Output Shape              Param #   \n",
      "=================================================================\n",
      "inference_inputs (InputLayer [(None, 200, 200, 3)]     0         \n",
      "_________________________________________________________________\n",
      "inference (Model)            (None, 32)                40961344  \n",
      "_________________________________________________________________\n",
      "generative (Model)           (None, 200, 200, 3)       3962124   \n",
      "_________________________________________________________________\n",
      "tf_op_layer_x_logits (Tensor [(None, 200, 200, 3)]     0         \n",
      "=================================================================\n",
      "Total params: 44,923,468\n",
      "Trainable params: 44,923,398\n",
      "Non-trainable params: 70\n",
      "_________________________________________________________________\n",
      "None\n"
     ]
    }
   ],
   "source": [
    "ae.compile(loss={'x_logits': sharp_diff})"
   ]
  },
  {
   "cell_type": "markdown",
   "metadata": {},
   "source": [
    "# Callbacks"
   ]
  },
  {
   "cell_type": "code",
   "execution_count": 28,
   "metadata": {},
   "outputs": [],
   "source": [
    "from training.callbacks.progress_bar import NotebookPrograssBar\n",
    "from training.callbacks.sample_generation import SampleGeneration\n",
    "from training.callbacks.save_model import ModelSaver"
   ]
  },
  {
   "cell_type": "code",
   "execution_count": 29,
   "metadata": {},
   "outputs": [],
   "source": [
    "progbar = NotebookPrograssBar(leave_outer=False)"
   ]
  },
  {
   "cell_type": "code",
   "execution_count": 30,
   "metadata": {},
   "outputs": [],
   "source": [
    "es = tf.keras.callbacks.EarlyStopping(\n",
    "    monitor='val_loss', \n",
    "    min_delta=1e-12, \n",
    "    patience=5, \n",
    "    verbose=1, \n",
    "    restore_best_weights=True\n",
    ")"
   ]
  },
  {
   "cell_type": "code",
   "execution_count": 31,
   "metadata": {},
   "outputs": [],
   "source": [
    "ms = ModelSaver(filepath=_restore,save_freq=5)"
   ]
  },
  {
   "cell_type": "code",
   "execution_count": 32,
   "metadata": {},
   "outputs": [
    {
     "data": {
      "text/plain": [
       "'..\\\\..\\\\recording\\\\pokemonAEsharp_diff\\\\csv_dir\\\\pokemonAEsharp_diff.csv'"
      ]
     },
     "execution_count": 32,
     "metadata": {},
     "output_type": "execute_result"
    }
   ],
   "source": [
    "csv_dir = os.path.join(recording_dir, 'csv_dir')\n",
    "create_if_not_exist(csv_dir)\n",
    "csv_dir = os.path.join(csv_dir, ae.name+'.csv')\n",
    "csv_log = tf.keras.callbacks.CSVLogger(csv_dir, append=True)\n",
    "csv_dir"
   ]
  },
  {
   "cell_type": "code",
   "execution_count": 33,
   "metadata": {},
   "outputs": [],
   "source": [
    "image_gen_dir = os.path.join(recording_dir, 'image_gen_dir')\n",
    "create_if_not_exist(image_gen_dir)"
   ]
  },
  {
   "cell_type": "code",
   "execution_count": 34,
   "metadata": {},
   "outputs": [],
   "source": [
    "sg = SampleGeneration(latent_shape=latent_dim, filepath=image_gen_dir, gen_freq=5, save_img=True, gray_plot=False)"
   ]
  },
  {
   "cell_type": "code",
   "execution_count": 35,
   "metadata": {},
   "outputs": [],
   "source": [
    "import numpy as np"
   ]
  },
  {
   "cell_type": "markdown",
   "metadata": {},
   "source": [
    "# Model Training"
   ]
  },
  {
   "cell_type": "code",
   "execution_count": 36,
   "metadata": {
    "scrolled": false
   },
   "outputs": [
    {
     "name": "stdout",
     "output_type": "stream",
     "text": [
      "Train for 10 steps, validate for 10 steps\n"
     ]
    },
    {
     "data": {
      "application/vnd.jupyter.widget-view+json": {
       "model_id": "",
       "version_major": 2,
       "version_minor": 0
      },
      "text/plain": [
       "HBox(children=(IntProgress(value=0, description='Training', max=10, style=ProgressStyle(description_width='ini…"
      ]
     },
     "metadata": {},
     "output_type": "display_data"
    },
    {
     "data": {
      "application/vnd.jupyter.widget-view+json": {
       "model_id": "",
       "version_major": 2,
       "version_minor": 0
      },
      "text/plain": [
       "HBox(children=(IntProgress(value=0, description='Epoch 0', max=10, style=ProgressStyle(description_width='init…"
      ]
     },
     "metadata": {},
     "output_type": "display_data"
    },
    {
     "name": "stdout",
     "output_type": "stream",
     "text": [
      "Epoch 1/10\n",
      "10/10 [==============================] - ETA: 35s - loss: 7.3205 - psnr: 7.3411 - ssmi: 0.0351 - sharp_diff: 7.276 - ETA: 17s - loss: 6.8875 - psnr: 7.2692 - ssmi: 0.0297 - sharp_diff: 6.833 - ETA: 10s - loss: 6.7993 - psnr: 7.2331 - ssmi: 0.0290 - sharp_diff: 6.741 - ETA: 7s - loss: 6.7130 - psnr: 7.2011 - ssmi: 0.0279 - sharp_diff: 6.652 - ETA: 5s - loss: 6.6858 - psnr: 7.1867 - ssmi: 0.0276 - sharp_diff: 6.62 - ETA: 3s - loss: 6.6259 - psnr: 7.1814 - ssmi: 0.0276 - sharp_diff: 6.56 - ETA: 2s - loss: 6.5461 - psnr: 7.1690 - ssmi: 0.0265 - sharp_diff: 6.48 - ETA: 1s - loss: 6.4840 - psnr: 7.1753 - ssmi: 0.0259 - sharp_diff: 6.41 - ETA: 0s - loss: 6.4526 - psnr: 7.1788 - ssmi: 0.0257 - sharp_diff: 6.38 - 9s 924ms/step - loss: 6.3797 - psnr: 7.1737 - ssmi: 0.0250 - sharp_diff: 6.3094 - val_loss: 11.9086 - val_psnr: 7.5272 - val_ssmi: 0.1423 - val_sharp_diff: 11.9063\n"
     ]
    },
    {
     "data": {
      "application/vnd.jupyter.widget-view+json": {
       "model_id": "",
       "version_major": 2,
       "version_minor": 0
      },
      "text/plain": [
       "HBox(children=(IntProgress(value=0, description='Epoch 1', max=10, style=ProgressStyle(description_width='init…"
      ]
     },
     "metadata": {},
     "output_type": "display_data"
    },
    {
     "name": "stdout",
     "output_type": "stream",
     "text": [
      "Epoch 2/10\n",
      "10/10 [==============================] - ETA: 2s - loss: 5.3762 - psnr: 7.0521 - ssmi: 0.0146 - sharp_diff: 5.27 - ETA: 2s - loss: 5.4506 - psnr: 7.0100 - ssmi: 0.0160 - sharp_diff: 5.35 - ETA: 1s - loss: 5.5093 - psnr: 6.9898 - ssmi: 0.0161 - sharp_diff: 5.41 - ETA: 1s - loss: 5.4743 - psnr: 7.0025 - ssmi: 0.0162 - sharp_diff: 5.37 - ETA: 1s - loss: 5.4403 - psnr: 6.9742 - ssmi: 0.0160 - sharp_diff: 5.34 - ETA: 1s - loss: 5.3858 - psnr: 6.9765 - ssmi: 0.0160 - sharp_diff: 5.28 - ETA: 0s - loss: 5.3295 - psnr: 6.9653 - ssmi: 0.0160 - sharp_diff: 5.22 - ETA: 0s - loss: 5.3175 - psnr: 6.9761 - ssmi: 0.0165 - sharp_diff: 5.21 - ETA: 0s - loss: 5.3077 - psnr: 6.9839 - ssmi: 0.0167 - sharp_diff: 5.20 - 4s 396ms/step - loss: 5.2485 - psnr: 6.9843 - ssmi: 0.0165 - sharp_diff: 5.1402 - val_loss: 11.0676 - val_psnr: 7.5036 - val_ssmi: 0.1197 - val_sharp_diff: 11.0611\n"
     ]
    },
    {
     "data": {
      "application/vnd.jupyter.widget-view+json": {
       "model_id": "",
       "version_major": 2,
       "version_minor": 0
      },
      "text/plain": [
       "HBox(children=(IntProgress(value=0, description='Epoch 2', max=10, style=ProgressStyle(description_width='init…"
      ]
     },
     "metadata": {},
     "output_type": "display_data"
    },
    {
     "name": "stdout",
     "output_type": "stream",
     "text": [
      "Epoch 3/10\n",
      "10/10 [==============================] - ETA: 2s - loss: 4.6014 - psnr: 6.8963 - ssmi: 0.0135 - sharp_diff: 4.47 - ETA: 2s - loss: 4.6263 - psnr: 6.9256 - ssmi: 0.0134 - sharp_diff: 4.49 - ETA: 1s - loss: 4.6262 - psnr: 6.8471 - ssmi: 0.0147 - sharp_diff: 4.49 - ETA: 1s - loss: 4.6010 - psnr: 6.8973 - ssmi: 0.0147 - sharp_diff: 4.47 - ETA: 1s - loss: 4.5235 - psnr: 6.8618 - ssmi: 0.0141 - sharp_diff: 4.38 - ETA: 1s - loss: 4.5070 - psnr: 6.8619 - ssmi: 0.0139 - sharp_diff: 4.37 - ETA: 0s - loss: 4.4547 - psnr: 6.8811 - ssmi: 0.0137 - sharp_diff: 4.31 - ETA: 0s - loss: 4.3881 - psnr: 6.8658 - ssmi: 0.0132 - sharp_diff: 4.24 - ETA: 0s - loss: 4.3342 - psnr: 6.8675 - ssmi: 0.0129 - sharp_diff: 4.19 - 4s 393ms/step - loss: 4.2868 - psnr: 6.8538 - ssmi: 0.0127 - sharp_diff: 4.1405 - val_loss: 9.9742 - val_psnr: 7.4423 - val_ssmi: 0.0885 - val_sharp_diff: 9.9619\n"
     ]
    },
    {
     "data": {
      "application/vnd.jupyter.widget-view+json": {
       "model_id": "",
       "version_major": 2,
       "version_minor": 0
      },
      "text/plain": [
       "HBox(children=(IntProgress(value=0, description='Epoch 3', max=10, style=ProgressStyle(description_width='init…"
      ]
     },
     "metadata": {},
     "output_type": "display_data"
    },
    {
     "name": "stdout",
     "output_type": "stream",
     "text": [
      "Epoch 4/10\n",
      "10/10 [==============================] - ETA: 2s - loss: 3.6818 - psnr: 6.6652 - ssmi: 0.0093 - sharp_diff: 3.51 - ETA: 2s - loss: 3.7577 - psnr: 6.6669 - ssmi: 0.0099 - sharp_diff: 3.58 - ETA: 1s - loss: 3.8012 - psnr: 6.6774 - ssmi: 0.0102 - sharp_diff: 3.62 - ETA: 1s - loss: 3.7602 - psnr: 6.6330 - ssmi: 0.0097 - sharp_diff: 3.58 - ETA: 1s - loss: 3.7186 - psnr: 6.6239 - ssmi: 0.0096 - sharp_diff: 3.54 - ETA: 1s - loss: 3.7112 - psnr: 6.6032 - ssmi: 0.0097 - sharp_diff: 3.53 - ETA: 0s - loss: 3.6991 - psnr: 6.6237 - ssmi: 0.0100 - sharp_diff: 3.52 - ETA: 0s - loss: 3.6408 - psnr: 6.6109 - ssmi: 0.0098 - sharp_diff: 3.45 - ETA: 0s - loss: 3.6131 - psnr: 6.6094 - ssmi: 0.0097 - sharp_diff: 3.43 - 4s 394ms/step - loss: 3.5799 - psnr: 6.6024 - ssmi: 0.0096 - sharp_diff: 3.3966 - val_loss: 9.6771 - val_psnr: 7.4950 - val_ssmi: 0.0898 - val_sharp_diff: 9.6636\n"
     ]
    },
    {
     "data": {
      "application/vnd.jupyter.widget-view+json": {
       "model_id": "",
       "version_major": 2,
       "version_minor": 0
      },
      "text/plain": [
       "HBox(children=(IntProgress(value=0, description='Epoch 4', max=10, style=ProgressStyle(description_width='init…"
      ]
     },
     "metadata": {},
     "output_type": "display_data"
    },
    {
     "name": "stdout",
     "output_type": "stream",
     "text": [
      "Epoch 5/10\n",
      "10/10 [==============================] - ETA: 2s - loss: 3.2940 - psnr: 6.5347 - ssmi: 0.0086 - sharp_diff: 3.09 - ETA: 2s - loss: 3.1788 - psnr: 6.5980 - ssmi: 0.0086 - sharp_diff: 2.97 - ETA: 1s - loss: 3.1728 - psnr: 6.5737 - ssmi: 0.0087 - sharp_diff: 2.96 - ETA: 1s - loss: 3.1727 - psnr: 6.5516 - ssmi: 0.0087 - sharp_diff: 2.96 - ETA: 1s - loss: 3.1665 - psnr: 6.5624 - ssmi: 0.0088 - sharp_diff: 2.96 - ETA: 1s - loss: 3.1712 - psnr: 6.5583 - ssmi: 0.0089 - sharp_diff: 2.96 - ETA: 0s - loss: 3.1627 - psnr: 6.5314 - ssmi: 0.0086 - sharp_diff: 2.95 - ETA: 0s - loss: 3.1420 - psnr: 6.5293 - ssmi: 0.0085 - sharp_diff: 2.93 - ETA: 0s - loss: 3.1195 - psnr: 6.5164 - ssmi: 0.0084 - sharp_diff: 2.91 - 4s 394ms/step - loss: 3.1071 - psnr: 6.5134 - ssmi: 0.0083 - sharp_diff: 2.8995 - val_loss: 9.0765 - val_psnr: 7.4964 - val_ssmi: 0.0752 - val_sharp_diff: 9.0591\n"
     ]
    },
    {
     "data": {
      "application/vnd.jupyter.widget-view+json": {
       "model_id": "",
       "version_major": 2,
       "version_minor": 0
      },
      "text/plain": [
       "HBox(children=(IntProgress(value=0, description='Epoch 5', max=10, style=ProgressStyle(description_width='init…"
      ]
     },
     "metadata": {},
     "output_type": "display_data"
    },
    {
     "name": "stdout",
     "output_type": "stream",
     "text": [
      "Epoch 6/10\n",
      "10/10 [==============================] - ETA: 2s - loss: 2.9110 - psnr: 6.6502 - ssmi: 0.0092 - sharp_diff: 2.69 - ETA: 2s - loss: 2.8719 - psnr: 6.5629 - ssmi: 0.0086 - sharp_diff: 2.65 - ETA: 1s - loss: 2.8677 - psnr: 6.5363 - ssmi: 0.0083 - sharp_diff: 2.64 - ETA: 1s - loss: 2.8605 - psnr: 6.5181 - ssmi: 0.0081 - sharp_diff: 2.64 - ETA: 1s - loss: 2.8461 - psnr: 6.5010 - ssmi: 0.0079 - sharp_diff: 2.62 - ETA: 1s - loss: 2.8108 - psnr: 6.4795 - ssmi: 0.0077 - sharp_diff: 2.58 - ETA: 0s - loss: 2.8117 - psnr: 6.4688 - ssmi: 0.0077 - sharp_diff: 2.59 - ETA: 0s - loss: 2.7905 - psnr: 6.4479 - ssmi: 0.0075 - sharp_diff: 2.56 - ETA: 0s - loss: 2.7890 - psnr: 6.4557 - ssmi: 0.0075 - sharp_diff: 2.56 - 5s 507ms/step - loss: 2.7750 - psnr: 6.4545 - ssmi: 0.0074 - sharp_diff: 2.5511 - val_loss: 8.4010 - val_psnr: 7.5202 - val_ssmi: 0.0684 - val_sharp_diff: 8.3782\n"
     ]
    },
    {
     "data": {
      "application/vnd.jupyter.widget-view+json": {
       "model_id": "",
       "version_major": 2,
       "version_minor": 0
      },
      "text/plain": [
       "HBox(children=(IntProgress(value=0, description='Epoch 6', max=10, style=ProgressStyle(description_width='init…"
      ]
     },
     "metadata": {},
     "output_type": "display_data"
    },
    {
     "name": "stdout",
     "output_type": "stream",
     "text": [
      "Epoch 7/10\n",
      "10/10 [==============================] - ETA: 2s - loss: 2.5420 - psnr: 6.3581 - ssmi: 0.0066 - sharp_diff: 2.30 - ETA: 2s - loss: 2.6407 - psnr: 6.4209 - ssmi: 0.0073 - sharp_diff: 2.40 - ETA: 1s - loss: 2.6231 - psnr: 6.3709 - ssmi: 0.0068 - sharp_diff: 2.39 - ETA: 1s - loss: 2.6343 - psnr: 6.3998 - ssmi: 0.0070 - sharp_diff: 2.40 - ETA: 1s - loss: 2.6449 - psnr: 6.4002 - ssmi: 0.0069 - sharp_diff: 2.41 - ETA: 1s - loss: 2.6316 - psnr: 6.4242 - ssmi: 0.0071 - sharp_diff: 2.39 - ETA: 0s - loss: 2.6201 - psnr: 6.4168 - ssmi: 0.0071 - sharp_diff: 2.38 - ETA: 0s - loss: 2.6075 - psnr: 6.4210 - ssmi: 0.0071 - sharp_diff: 2.37 - ETA: 0s - loss: 2.5979 - psnr: 6.4286 - ssmi: 0.0071 - sharp_diff: 2.36 - 4s 381ms/step - loss: 2.5781 - psnr: 6.4156 - ssmi: 0.0070 - sharp_diff: 2.3424 - val_loss: 8.8891 - val_psnr: 7.4904 - val_ssmi: 0.0737 - val_sharp_diff: 8.8710\n"
     ]
    },
    {
     "data": {
      "application/vnd.jupyter.widget-view+json": {
       "model_id": "",
       "version_major": 2,
       "version_minor": 0
      },
      "text/plain": [
       "HBox(children=(IntProgress(value=0, description='Epoch 7', max=10, style=ProgressStyle(description_width='init…"
      ]
     },
     "metadata": {},
     "output_type": "display_data"
    },
    {
     "name": "stdout",
     "output_type": "stream",
     "text": [
      "Epoch 8/10\n",
      "10/10 [==============================] - ETA: 2s - loss: 2.4870 - psnr: 6.0586 - ssmi: 0.0051 - sharp_diff: 2.25 - ETA: 2s - loss: 2.4682 - psnr: 6.2004 - ssmi: 0.0057 - sharp_diff: 2.23 - ETA: 1s - loss: 2.4349 - psnr: 6.2299 - ssmi: 0.0059 - sharp_diff: 2.19 - ETA: 1s - loss: 2.4256 - psnr: 6.2785 - ssmi: 0.0060 - sharp_diff: 2.18 - ETA: 1s - loss: 2.4326 - psnr: 6.2772 - ssmi: 0.0061 - sharp_diff: 2.19 - ETA: 1s - loss: 2.4163 - psnr: 6.3001 - ssmi: 0.0061 - sharp_diff: 2.17 - ETA: 0s - loss: 2.4268 - psnr: 6.2970 - ssmi: 0.0062 - sharp_diff: 2.18 - ETA: 0s - loss: 2.4244 - psnr: 6.3133 - ssmi: 0.0062 - sharp_diff: 2.18 - ETA: 0s - loss: 2.4255 - psnr: 6.3240 - ssmi: 0.0062 - sharp_diff: 2.18 - 4s 379ms/step - loss: 2.4128 - psnr: 6.3313 - ssmi: 0.0063 - sharp_diff: 2.1718 - val_loss: 8.6721 - val_psnr: 7.4893 - val_ssmi: 0.0700 - val_sharp_diff: 8.6522\n"
     ]
    },
    {
     "data": {
      "application/vnd.jupyter.widget-view+json": {
       "model_id": "",
       "version_major": 2,
       "version_minor": 0
      },
      "text/plain": [
       "HBox(children=(IntProgress(value=0, description='Epoch 8', max=10, style=ProgressStyle(description_width='init…"
      ]
     },
     "metadata": {},
     "output_type": "display_data"
    },
    {
     "name": "stdout",
     "output_type": "stream",
     "text": [
      "Epoch 9/10\n",
      "10/10 [==============================] - ETA: 2s - loss: 2.3661 - psnr: 6.2937 - ssmi: 0.0057 - sharp_diff: 2.12 - ETA: 2s - loss: 2.3457 - psnr: 6.3170 - ssmi: 0.0059 - sharp_diff: 2.10 - ETA: 1s - loss: 2.3252 - psnr: 6.2938 - ssmi: 0.0060 - sharp_diff: 2.08 - ETA: 1s - loss: 2.3434 - psnr: 6.2961 - ssmi: 0.0060 - sharp_diff: 2.09 - ETA: 1s - loss: 2.3401 - psnr: 6.3108 - ssmi: 0.0062 - sharp_diff: 2.09 - ETA: 1s - loss: 2.3283 - psnr: 6.3146 - ssmi: 0.0062 - sharp_diff: 2.08 - ETA: 0s - loss: 2.3205 - psnr: 6.3155 - ssmi: 0.0062 - sharp_diff: 2.07 - ETA: 0s - loss: 2.3380 - psnr: 6.3068 - ssmi: 0.0061 - sharp_diff: 2.09 - ETA: 0s - loss: 2.3367 - psnr: 6.3106 - ssmi: 0.0062 - sharp_diff: 2.09 - 4s 376ms/step - loss: 2.3376 - psnr: 6.3077 - ssmi: 0.0062 - sharp_diff: 2.0914 - val_loss: 8.5134 - val_psnr: 7.4229 - val_ssmi: 0.0669 - val_sharp_diff: 8.4921\n"
     ]
    },
    {
     "data": {
      "application/vnd.jupyter.widget-view+json": {
       "model_id": "",
       "version_major": 2,
       "version_minor": 0
      },
      "text/plain": [
       "HBox(children=(IntProgress(value=0, description='Epoch 9', max=10, style=ProgressStyle(description_width='init…"
      ]
     },
     "metadata": {},
     "output_type": "display_data"
    },
    {
     "name": "stdout",
     "output_type": "stream",
     "text": [
      "Epoch 10/10\n",
      "10/10 [==============================] - ETA: 2s - loss: 2.4398 - psnr: 6.3866 - ssmi: 0.0074 - sharp_diff: 2.19 - ETA: 2s - loss: 2.3930 - psnr: 6.3293 - ssmi: 0.0067 - sharp_diff: 2.14 - ETA: 1s - loss: 2.3302 - psnr: 6.3311 - ssmi: 0.0066 - sharp_diff: 2.08 - ETA: 1s - loss: 2.3297 - psnr: 6.4062 - ssmi: 0.0068 - sharp_diff: 2.08 - ETA: 1s - loss: 2.3798 - psnr: 6.5137 - ssmi: 0.0086 - sharp_diff: 2.13 - ETA: 1s - loss: 2.3533 - psnr: 6.4964 - ssmi: 0.0082 - sharp_diff: 2.10 - ETA: 0s - loss: 2.3474 - psnr: 6.4835 - ssmi: 0.0079 - sharp_diff: 2.09 - ETA: 0s - loss: 2.3346 - psnr: 6.4587 - ssmi: 0.0077 - sharp_diff: 2.08 - ETA: 0s - loss: 2.3104 - psnr: 6.4368 - ssmi: 0.0074 - sharp_diff: 2.05 - 4s 392ms/step - loss: 2.2961 - psnr: 6.4253 - ssmi: 0.0073 - sharp_diff: 2.0448 - val_loss: 7.8138 - val_psnr: 7.4350 - val_ssmi: 0.0555 - val_sharp_diff: 7.7863\n",
      "\r"
     ]
    },
    {
     "data": {
      "text/plain": [
       "<tensorflow.python.keras.callbacks.History at 0x1d156b9ef08>"
      ]
     },
     "execution_count": 36,
     "metadata": {},
     "output_type": "execute_result"
    }
   ],
   "source": [
    "ae.fit(\n",
    "    x=train_ds,\n",
    "    input_kw=None,\n",
    "    steps_per_epoch=750,\n",
    "    epochs=int(1e6), \n",
    "    verbose=0,\n",
    "    callbacks=[progbar, es, ms, csv_log, sg],\n",
    "    workers=-1,\n",
    "    use_multiprocessing=True,\n",
    "    validation_data=test_ds,\n",
    "    validation_steps=250\n",
    ")"
   ]
  },
  {
   "cell_type": "code",
   "execution_count": null,
   "metadata": {},
   "outputs": [],
   "source": []
  },
  {
   "cell_type": "code",
   "execution_count": null,
   "metadata": {},
   "outputs": [],
   "source": []
  }
 ],
 "metadata": {
  "kernelspec": {
   "display_name": "Python 3",
   "language": "python",
   "name": "python3"
  },
  "language_info": {
   "codemirror_mode": {
    "name": "ipython",
    "version": 3
   },
   "file_extension": ".py",
   "mimetype": "text/x-python",
   "name": "python",
   "nbconvert_exporter": "python",
   "pygments_lexer": "ipython3",
   "version": "3.7.5"
  }
 },
 "nbformat": 4,
 "nbformat_minor": 2
}
