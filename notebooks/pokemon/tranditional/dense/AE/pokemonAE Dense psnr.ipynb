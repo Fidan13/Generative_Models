{
 "cells": [
  {
   "cell_type": "markdown",
   "metadata": {},
   "source": [
    "# Settings"
   ]
  },
  {
   "cell_type": "code",
   "execution_count": 1,
   "metadata": {},
   "outputs": [
    {
     "name": "stdout",
     "output_type": "stream",
     "text": [
      "env: TF_KERAS=1\n",
      "\\\n"
     ]
    }
   ],
   "source": [
    "%env TF_KERAS = 1\n",
    "import os\n",
    "sep_local = os.path.sep\n",
    "\n",
    "import sys\n",
    "sys.path.append('..'+sep_local+'..')\n",
    "print(sep_local)"
   ]
  },
  {
   "cell_type": "code",
   "execution_count": 2,
   "metadata": {},
   "outputs": [
    {
     "name": "stdout",
     "output_type": "stream",
     "text": [
      "2.1.0\n"
     ]
    }
   ],
   "source": [
    "import tensorflow as tf\n",
    "print(tf.__version__)"
   ]
  },
  {
   "cell_type": "markdown",
   "metadata": {},
   "source": [
    "# Dataset loading"
   ]
  },
  {
   "cell_type": "code",
   "execution_count": 3,
   "metadata": {},
   "outputs": [],
   "source": [
    "dataset_name='pokemon'"
   ]
  },
  {
   "cell_type": "code",
   "execution_count": 4,
   "metadata": {},
   "outputs": [],
   "source": [
    "IMG_DIR = 'C:\\\\Users\\\\Khalid\\\\Documents\\projects\\\\pokemon\\DS06\\\\'\n",
    "VAL_PCT = 10\n",
    "VAL_FORMAT = 'png'"
   ]
  },
  {
   "cell_type": "code",
   "execution_count": 5,
   "metadata": {},
   "outputs": [
    {
     "name": "stderr",
     "output_type": "stream",
     "text": [
      "Using TensorFlow backend.\n"
     ]
    }
   ],
   "source": [
    "from training.generators.file_image_generator import create_image_lists, get_generators"
   ]
  },
  {
   "cell_type": "code",
   "execution_count": 6,
   "metadata": {},
   "outputs": [
    {
     "name": "stdout",
     "output_type": "stream",
     "text": [
      "\n"
     ]
    },
    {
     "name": "stderr",
     "output_type": "stream",
     "text": [
      "  DEBUG    | Looking for images in 'all'\n"
     ]
    },
    {
     "name": "stdout",
     "output_type": "stream",
     "text": [
      "\n"
     ]
    },
    {
     "name": "stderr",
     "output_type": "stream",
     "text": [
      "  INFO     | 809 file found\n"
     ]
    }
   ],
   "source": [
    "imgs_list = create_image_lists(\n",
    "    image_dir=IMG_DIR, \n",
    "    validation_pct=VAL_PCT, \n",
    "    valid_imgae_formats=VAL_FORMAT\n",
    ")"
   ]
  },
  {
   "cell_type": "code",
   "execution_count": 7,
   "metadata": {},
   "outputs": [],
   "source": [
    "inputs_shape= IMG_SIZE=(200, 200, 3)\n",
    "BATCH_SIZE = 32\n",
    "latent_dim = 32\n",
    "intermediate_dim = 32"
   ]
  },
  {
   "cell_type": "code",
   "execution_count": 8,
   "metadata": {},
   "outputs": [
    {
     "name": "stdout",
     "output_type": "stream",
     "text": [
      "\n"
     ]
    },
    {
     "name": "stderr",
     "output_type": "stream",
     "text": [
      "  INFO     | Found 738 training files\n"
     ]
    },
    {
     "name": "stdout",
     "output_type": "stream",
     "text": [
      "\n"
     ]
    },
    {
     "name": "stderr",
     "output_type": "stream",
     "text": [
      "  INFO     | Found 71 validation files\n"
     ]
    }
   ],
   "source": [
    "train_gen, test_gen = get_generators(\n",
    "    images_list=imgs_list, \n",
    "    image_dir=IMG_DIR, \n",
    "    image_size=IMG_SIZE, \n",
    "    batch_size=BATCH_SIZE, \n",
    "    class_mode=None\n",
    ")"
   ]
  },
  {
   "cell_type": "code",
   "execution_count": 9,
   "metadata": {},
   "outputs": [],
   "source": [
    "import tensorflow as tf"
   ]
  },
  {
   "cell_type": "code",
   "execution_count": 10,
   "metadata": {},
   "outputs": [],
   "source": [
    "train_ds = tf.data.Dataset.from_generator(\n",
    "    lambda: train_gen, \n",
    "    output_types=tf.float32 ,\n",
    "    output_shapes=tf.TensorShape((BATCH_SIZE, ) + IMG_SIZE)\n",
    ")\n",
    "\n",
    "test_ds = tf.data.Dataset.from_generator(\n",
    "    lambda: test_gen, \n",
    "    output_types=tf.float32 ,\n",
    "    output_shapes=tf.TensorShape((BATCH_SIZE, ) + IMG_SIZE)\n",
    ")"
   ]
  },
  {
   "cell_type": "code",
   "execution_count": 11,
   "metadata": {},
   "outputs": [],
   "source": [
    "_instance_scale=1.0\n",
    "for data in train_ds:\n",
    "    _instance_scale = float(data[0].numpy().max())\n",
    "    break"
   ]
  },
  {
   "cell_type": "code",
   "execution_count": 12,
   "metadata": {},
   "outputs": [
    {
     "data": {
      "text/plain": [
       "1.0"
      ]
     },
     "execution_count": 12,
     "metadata": {},
     "output_type": "execute_result"
    }
   ],
   "source": [
    "_instance_scale"
   ]
  },
  {
   "cell_type": "code",
   "execution_count": 13,
   "metadata": {},
   "outputs": [],
   "source": [
    "import numpy as np\n",
    "from collections.abc import Iterable"
   ]
  },
  {
   "cell_type": "code",
   "execution_count": 14,
   "metadata": {},
   "outputs": [],
   "source": [
    "if isinstance(inputs_shape, Iterable):\n",
    "    _outputs_shape = np.prod(inputs_shape)"
   ]
  },
  {
   "cell_type": "code",
   "execution_count": 15,
   "metadata": {},
   "outputs": [
    {
     "data": {
      "text/plain": [
       "120000"
      ]
     },
     "execution_count": 15,
     "metadata": {},
     "output_type": "execute_result"
    }
   ],
   "source": [
    "_outputs_shape"
   ]
  },
  {
   "cell_type": "markdown",
   "metadata": {},
   "source": [
    "# Model's Layers definition"
   ]
  },
  {
   "cell_type": "code",
   "execution_count": 16,
   "metadata": {},
   "outputs": [],
   "source": [
    "enc_lays = [tf.keras.layers.Dense(units=intermediate_dim, activation='relu'),\n",
    "            tf.keras.layers.Dense(units=intermediate_dim, activation='relu'),\n",
    "            tf.keras.layers.Flatten(),\n",
    "            tf.keras.layers.Dense(units=latent_dim)]\n",
    "\n",
    "dec_lays = [tf.keras.layers.Dense(units=latent_dim, activation='relu'),\n",
    "            tf.keras.layers.Dense(units=intermediate_dim, activation='relu'),\n",
    "            tf.keras.layers.Dense(units=_outputs_shape),\n",
    "            tf.keras.layers.Reshape(inputs_shape)]"
   ]
  },
  {
   "cell_type": "markdown",
   "metadata": {},
   "source": [
    "# Model definition"
   ]
  },
  {
   "cell_type": "code",
   "execution_count": 17,
   "metadata": {},
   "outputs": [],
   "source": [
    "model_name = dataset_name+'AEpsnr'\n",
    "recoding_dir='..'+sep_local+'..'+sep_local+'recoding'+sep_local+model_name"
   ]
  },
  {
   "cell_type": "code",
   "execution_count": 18,
   "metadata": {
    "scrolled": true
   },
   "outputs": [],
   "source": [
    "from training.traditional.autoencoders.autoencoder import autoencoder as AE"
   ]
  },
  {
   "cell_type": "code",
   "execution_count": 19,
   "metadata": {},
   "outputs": [],
   "source": [
    "inputs_shape=IMG_SIZE"
   ]
  },
  {
   "cell_type": "code",
   "execution_count": 20,
   "metadata": {},
   "outputs": [],
   "source": [
    "variables_params = \\\n",
    "[\n",
    "    {\n",
    "        'name': 'inference', \n",
    "        'inputs_shape':inputs_shape,\n",
    "        'outputs_shape':latent_dim,\n",
    "        'layers': enc_lays#enc_lays2#\n",
    "    }\n",
    "\n",
    "    ,\n",
    "    \n",
    "        {\n",
    "        'name': 'generative', \n",
    "        'inputs_shape':latent_dim,\n",
    "        'outputs_shape':inputs_shape,\n",
    "        'layers':dec_lays#dec_lays2#\n",
    "    }\n",
    "]"
   ]
  },
  {
   "cell_type": "code",
   "execution_count": 21,
   "metadata": {},
   "outputs": [],
   "source": [
    "from utils.data_and_files.file_utils import create_if_not_exist"
   ]
  },
  {
   "cell_type": "code",
   "execution_count": 22,
   "metadata": {},
   "outputs": [],
   "source": [
    "_restore = os.path.join(recoding_dir, 'var_save_dir')"
   ]
  },
  {
   "cell_type": "code",
   "execution_count": 23,
   "metadata": {},
   "outputs": [
    {
     "data": {
      "text/plain": [
       "'..\\\\..\\\\recoding\\\\pokemonAEpsnr\\\\var_save_dir'"
      ]
     },
     "execution_count": 23,
     "metadata": {},
     "output_type": "execute_result"
    }
   ],
   "source": [
    "create_if_not_exist(_restore)\n",
    "_restore"
   ]
  },
  {
   "cell_type": "code",
   "execution_count": 24,
   "metadata": {},
   "outputs": [],
   "source": [
    "#to restore trained model, set filepath=_restore"
   ]
  },
  {
   "cell_type": "code",
   "execution_count": 25,
   "metadata": {
    "scrolled": false
   },
   "outputs": [
    {
     "name": "stdout",
     "output_type": "stream",
     "text": [
      "Model: \"inference\"\n",
      "_________________________________________________________________\n",
      "Layer (type)                 Output Shape              Param #   \n",
      "=================================================================\n",
      "inference_inputs (InputLayer [(None, 200, 200, 3)]     0         \n",
      "_________________________________________________________________\n",
      "dense (Dense)                (None, 200, 200, 32)      128       \n",
      "_________________________________________________________________\n",
      "dense_1 (Dense)              (None, 200, 200, 32)      1056      \n",
      "_________________________________________________________________\n",
      "flatten (Flatten)            (None, 1280000)           0         \n",
      "_________________________________________________________________\n",
      "dense_2 (Dense)              (None, 32)                40960032  \n",
      "_________________________________________________________________\n",
      "batch_normalization (BatchNo (None, 32)                128       \n",
      "_________________________________________________________________\n",
      "dropout (Dropout)            (None, 32)                0         \n",
      "_________________________________________________________________\n",
      "activity_regularization (Act (None, 32)                0         \n",
      "_________________________________________________________________\n",
      "inference_outputs (Activatio (None, 32)                0         \n",
      "=================================================================\n",
      "Total params: 40,961,344\n",
      "Trainable params: 40,961,280\n",
      "Non-trainable params: 64\n",
      "_________________________________________________________________\n",
      "\n"
     ]
    },
    {
     "name": "stderr",
     "output_type": "stream",
     "text": [
      "  WARNING  | None\n"
     ]
    },
    {
     "name": "stdout",
     "output_type": "stream",
     "text": [
      "Model: \"generative\"\n",
      "_________________________________________________________________\n",
      "Layer (type)                 Output Shape              Param #   \n",
      "=================================================================\n",
      "generative_inputs (InputLaye [(None, 32)]              0         \n",
      "_________________________________________________________________\n",
      "dense_3 (Dense)              (None, 32)                1056      \n",
      "_________________________________________________________________\n",
      "dense_4 (Dense)              (None, 32)                1056      \n",
      "_________________________________________________________________\n",
      "dense_5 (Dense)              (None, 120000)            3960000   \n",
      "_________________________________________________________________\n",
      "reshape (Reshape)            (None, 200, 200, 3)       0         \n",
      "_________________________________________________________________\n",
      "batch_normalization_1 (Batch (None, 200, 200, 3)       12        \n",
      "_________________________________________________________________\n",
      "dropout_1 (Dropout)          (None, 200, 200, 3)       0         \n",
      "_________________________________________________________________\n",
      "activity_regularization_1 (A (None, 200, 200, 3)       0         \n",
      "_________________________________________________________________\n",
      "generative_outputs (Activati (None, 200, 200, 3)       0         \n",
      "=================================================================\n",
      "Total params: 3,962,124\n",
      "Trainable params: 3,962,118\n",
      "Non-trainable params: 6\n",
      "_________________________________________________________________\n",
      "\n"
     ]
    },
    {
     "name": "stderr",
     "output_type": "stream",
     "text": [
      "  WARNING  | None\n"
     ]
    }
   ],
   "source": [
    "ae = AE( \n",
    "    name=model_name,\n",
    "    inputs_shape=inputs_shape,\n",
    "    outputs_shape=inputs_shape,\n",
    "    latent_dim=latent_dim,\n",
    "    batch_size=BATCH_SIZE,\n",
    "    variables_params=variables_params, \n",
    "    filepath=None\n",
    "    )"
   ]
  },
  {
   "cell_type": "code",
   "execution_count": 26,
   "metadata": {},
   "outputs": [],
   "source": [
    "from evaluation.quantitive_metrics.psnr import psnr\n",
    "#from evaluation.quantitive_metrics.ssmi import ssmi\n",
    "#from evaluation.quantitive_metrics.sharp_diff import sharp_diff\n"
   ]
  },
  {
   "cell_type": "code",
   "execution_count": 27,
   "metadata": {},
   "outputs": [
    {
     "name": "stdout",
     "output_type": "stream",
     "text": [
      "Model: \"pokemonAEpsnr\"\n",
      "_________________________________________________________________\n",
      "Layer (type)                 Output Shape              Param #   \n",
      "=================================================================\n",
      "inference_inputs (InputLayer [(None, 200, 200, 3)]     0         \n",
      "_________________________________________________________________\n",
      "inference (Model)            (None, 32)                40961344  \n",
      "_________________________________________________________________\n",
      "generative (Model)           (None, 200, 200, 3)       3962124   \n",
      "_________________________________________________________________\n",
      "tf_op_layer_x_logits (Tensor [(None, 200, 200, 3)]     0         \n",
      "=================================================================\n",
      "Total params: 44,923,468\n",
      "Trainable params: 44,923,398\n",
      "Non-trainable params: 70\n",
      "_________________________________________________________________\n",
      "None\n"
     ]
    }
   ],
   "source": [
    "ae.compile(loss={'x_logits': psnr})"
   ]
  },
  {
   "cell_type": "markdown",
   "metadata": {},
   "source": [
    "# Callbacks"
   ]
  },
  {
   "cell_type": "code",
   "execution_count": 28,
   "metadata": {},
   "outputs": [],
   "source": [
    "from training.callbacks.progress_bar import NotebookPrograssBar\n",
    "from training.callbacks.sample_generation import SampleGeneration\n",
    "from training.callbacks.save_model import ModelSaver"
   ]
  },
  {
   "cell_type": "code",
   "execution_count": 29,
   "metadata": {},
   "outputs": [],
   "source": [
    "progbar = NotebookPrograssBar(leave_outer=False)"
   ]
  },
  {
   "cell_type": "code",
   "execution_count": 30,
   "metadata": {},
   "outputs": [],
   "source": [
    "es = tf.keras.callbacks.EarlyStopping(\n",
    "    monitor='val_loss', \n",
    "    min_delta=1e-12, \n",
    "    patience=5, \n",
    "    verbose=1, \n",
    "    restore_best_weights=True\n",
    ")"
   ]
  },
  {
   "cell_type": "code",
   "execution_count": 31,
   "metadata": {},
   "outputs": [],
   "source": [
    "ms = ModelSaver(filepath=_restore,save_freq=5)"
   ]
  },
  {
   "cell_type": "code",
   "execution_count": 32,
   "metadata": {},
   "outputs": [
    {
     "data": {
      "text/plain": [
       "'..\\\\..\\\\recoding\\\\pokemonAEpsnr\\\\csv_dir\\\\pokemonAEpsnr.csv'"
      ]
     },
     "execution_count": 32,
     "metadata": {},
     "output_type": "execute_result"
    }
   ],
   "source": [
    "csv_dir = os.path.join(recoding_dir, 'csv_dir')\n",
    "create_if_not_exist(csv_dir)\n",
    "csv_dir = os.path.join(csv_dir, ae.name+'.csv')\n",
    "csv_log = tf.keras.callbacks.CSVLogger(csv_dir, append=True)\n",
    "csv_dir"
   ]
  },
  {
   "cell_type": "code",
   "execution_count": 33,
   "metadata": {},
   "outputs": [],
   "source": [
    "image_gen_dir = os.path.join(recoding_dir, 'image_gen_dir')\n",
    "create_if_not_exist(image_gen_dir)"
   ]
  },
  {
   "cell_type": "code",
   "execution_count": 34,
   "metadata": {},
   "outputs": [],
   "source": [
    "sg = SampleGeneration(latent_shape=latent_dim, filepath=image_gen_dir, gen_freq=5, save_img=True, gray_plot=False)"
   ]
  },
  {
   "cell_type": "code",
   "execution_count": 35,
   "metadata": {},
   "outputs": [],
   "source": [
    "import numpy as np"
   ]
  },
  {
   "cell_type": "markdown",
   "metadata": {},
   "source": [
    "# Model Training"
   ]
  },
  {
   "cell_type": "code",
   "execution_count": null,
   "metadata": {
    "scrolled": true
   },
   "outputs": [
    {
     "name": "stdout",
     "output_type": "stream",
     "text": [
      "Train for 50 steps, validate for 50 steps\n"
     ]
    },
    {
     "data": {
      "application/vnd.jupyter.widget-view+json": {
       "model_id": "8a8f30364b9841779a16c196f4d6deff",
       "version_major": 2,
       "version_minor": 0
      },
      "text/plain": [
       "HBox(children=(IntProgress(value=0, description='Training', max=50, style=ProgressStyle(description_width='ini…"
      ]
     },
     "metadata": {},
     "output_type": "display_data"
    },
    {
     "data": {
      "application/vnd.jupyter.widget-view+json": {
       "model_id": "",
       "version_major": 2,
       "version_minor": 0
      },
      "text/plain": [
       "HBox(children=(IntProgress(value=0, description='Epoch 0', max=50, style=ProgressStyle(description_width='init…"
      ]
     },
     "metadata": {},
     "output_type": "display_data"
    },
    {
     "name": "stdout",
     "output_type": "stream",
     "text": [
      "Epoch 1/50\n",
      "50/50 [==============================] - ETA: 3:12 - loss: 7.3587 - psnr: 7.3091 - ssmi: 0.0295 - sharp_diff: 6.96 - ETA: 1:40 - loss: 7.3254 - psnr: 7.2721 - ssmi: 0.0291 - sharp_diff: 6.88 - ETA: 1:09 - loss: 7.2966 - psnr: 7.2399 - ssmi: 0.0287 - sharp_diff: 6.83 - ETA: 53s - loss: 7.2514 - psnr: 7.1888 - ssmi: 0.0271 - sharp_diff: 6.6855 - ETA: 44s - loss: 7.2270 - psnr: 7.1598 - ssmi: 0.0272 - sharp_diff: 6.633 - ETA: 37s - loss: 7.2131 - psnr: 7.1413 - ssmi: 0.0266 - sharp_diff: 6.537 - ETA: 33s - loss: 7.1888 - psnr: 7.1119 - ssmi: 0.0251 - sharp_diff: 6.400 - ETA: 29s - loss: 7.1868 - psnr: 7.1056 - ssmi: 0.0245 - sharp_diff: 6.314 - ETA: 26s - loss: 7.1762 - psnr: 7.0921 - ssmi: 0.0237 - sharp_diff: 6.228 - ETA: 24s - loss: 7.1660 - psnr: 7.0790 - ssmi: 0.0232 - sharp_diff: 6.163 - ETA: 22s - loss: 7.1495 - psnr: 7.0602 - ssmi: 0.0225 - sharp_diff: 6.090 - ETA: 21s - loss: 7.1233 - psnr: 7.0315 - ssmi: 0.0218 - sharp_diff: 6.017 - ETA: 19s - loss: 7.1015 - psnr: 7.0079 - ssmi: 0.0213 - sharp_diff: 5.972 - ETA: 18s - loss: 7.0871 - psnr: 6.9920 - ssmi: 0.0211 - sharp_diff: 5.932 - ETA: 17s - loss: 7.0591 - psnr: 6.9618 - ssmi: 0.0206 - sharp_diff: 5.879 - ETA: 16s - loss: 7.0410 - psnr: 6.9420 - ssmi: 0.0202 - sharp_diff: 5.824 - ETA: 15s - loss: 7.0207 - psnr: 6.9201 - ssmi: 0.0199 - sharp_diff: 5.790 - ETA: 14s - loss: 7.0084 - psnr: 6.9062 - ssmi: 0.0199 - sharp_diff: 5.776 - ETA: 13s - loss: 6.9967 - psnr: 6.8932 - ssmi: 0.0199 - sharp_diff: 5.764 - ETA: 13s - loss: 6.9844 - psnr: 6.8795 - ssmi: 0.0200 - sharp_diff: 5.751 - ETA: 12s - loss: 6.9665 - psnr: 6.8598 - ssmi: 0.0200 - sharp_diff: 5.735 - ETA: 11s - loss: 6.9525 - psnr: 6.8445 - ssmi: 0.0200 - sharp_diff: 5.726 - ETA: 11s - loss: 6.9114 - psnr: 6.8016 - ssmi: 0.0196 - sharp_diff: 5.675 - ETA: 10s - loss: 6.9012 - psnr: 6.7899 - ssmi: 0.0198 - sharp_diff: 5.669 - ETA: 9s - loss: 6.8748 - psnr: 6.7616 - ssmi: 0.0196 - sharp_diff: 5.648 - ETA: 9s - loss: 6.8581 - psnr: 6.7434 - ssmi: 0.0195 - sharp_diff: 5.63 - ETA: 8s - loss: 6.8460 - psnr: 6.7298 - ssmi: 0.0195 - sharp_diff: 5.62 - ETA: 8s - loss: 6.8290 - psnr: 6.7113 - ssmi: 0.0193 - sharp_diff: 5.61 - ETA: 7s - loss: 6.8121 - psnr: 6.6925 - ssmi: 0.0193 - sharp_diff: 5.60 - ETA: 7s - loss: 6.7898 - psnr: 6.6685 - ssmi: 0.0192 - sharp_diff: 5.59 - ETA: 6s - loss: 6.7693 - psnr: 6.6462 - ssmi: 0.0191 - sharp_diff: 5.57 - ETA: 6s - loss: 6.7504 - psnr: 6.6258 - ssmi: 0.0190 - sharp_diff: 5.57 - ETA: 6s - loss: 6.7331 - psnr: 6.6069 - ssmi: 0.0189 - sharp_diff: 5.57 - ETA: 5s - loss: 6.7103 - psnr: 6.5825 - ssmi: 0.0187 - sharp_diff: 5.56 - ETA: 5s - loss: 6.6907 - psnr: 6.5614 - ssmi: 0.0186 - sharp_diff: 5.56 - ETA: 4s - loss: 6.6701 - psnr: 6.5392 - ssmi: 0.0185 - sharp_diff: 5.56 - ETA: 4s - loss: 6.6526 - psnr: 6.5201 - ssmi: 0.0185 - sharp_diff: 5.55 - ETA: 4s - loss: 6.6318 - psnr: 6.4978 - ssmi: 0.0183 - sharp_diff: 5.55 - ETA: 3s - loss: 6.6131 - psnr: 6.4776 - ssmi: 0.0182 - sharp_diff: 5.54 - ETA: 3s - loss: 6.5970 - psnr: 6.4600 - ssmi: 0.0181 - sharp_diff: 5.54 - ETA: 3s - loss: 6.5811 - psnr: 6.4426 - ssmi: 0.0180 - sharp_diff: 5.54 - ETA: 2s - loss: 6.5650 - psnr: 6.4249 - ssmi: 0.0180 - sharp_diff: 5.54 - ETA: 2s - loss: 6.5477 - psnr: 6.4061 - ssmi: 0.0179 - sharp_diff: 5.54 - ETA: 2s - loss: 6.5283 - psnr: 6.3853 - ssmi: 0.0178 - sharp_diff: 5.54 - ETA: 1s - loss: 6.5133 - psnr: 6.3688 - ssmi: 0.0177 - sharp_diff: 5.53 - ETA: 1s - loss: 6.4990 - psnr: 6.3530 - ssmi: 0.0177 - sharp_diff: 5.54 - ETA: 0s - loss: 6.4883 - psnr: 6.3416 - ssmi: 0.0176 - sharp_diff: 5.54 - ETA: 0s - loss: 6.4724 - psnr: 6.3243 - ssmi: 0.0175 - sharp_diff: 5.54 - ETA: 0s - loss: 6.4564 - psnr: 6.3069 - ssmi: 0.0175 - sharp_diff: 5.54 - 23s 469ms/step - loss: 6.4405 - psnr: 6.2897 - ssmi: 0.0174 - sharp_diff: 5.5475 - val_loss: 7.3005 - val_psnr: 7.2801 - val_ssmi: 0.1159 - val_sharp_diff: 11.1420\n"
     ]
    },
    {
     "data": {
      "application/vnd.jupyter.widget-view+json": {
       "model_id": "",
       "version_major": 2,
       "version_minor": 0
      },
      "text/plain": [
       "HBox(children=(IntProgress(value=0, description='Epoch 1', max=50, style=ProgressStyle(description_width='init…"
      ]
     },
     "metadata": {},
     "output_type": "display_data"
    },
    {
     "name": "stdout",
     "output_type": "stream",
     "text": [
      "Epoch 2/50\n",
      "50/50 [==============================] - ETA: 13s - loss: 5.7323 - psnr: 5.5118 - ssmi: 0.0137 - sharp_diff: 5.564 - ETA: 12s - loss: 5.6811 - psnr: 5.4618 - ssmi: 0.0133 - sharp_diff: 5.565 - ETA: 12s - loss: 5.6982 - psnr: 5.4777 - ssmi: 0.0135 - sharp_diff: 5.602 - ETA: 11s - loss: 5.6940 - psnr: 5.4744 - ssmi: 0.0139 - sharp_diff: 5.638 - ETA: 11s - loss: 5.6917 - psnr: 5.4712 - ssmi: 0.0134 - sharp_diff: 5.635 - ETA: 11s - loss: 5.6715 - psnr: 5.4503 - ssmi: 0.0134 - sharp_diff: 5.646 - ETA: 10s - loss: 5.6609 - psnr: 5.4393 - ssmi: 0.0134 - sharp_diff: 5.677 - ETA: 10s - loss: 5.6537 - psnr: 5.4322 - ssmi: 0.0133 - sharp_diff: 5.694 - ETA: 10s - loss: 5.6649 - psnr: 5.4434 - ssmi: 0.0135 - sharp_diff: 5.712 - ETA: 10s - loss: 5.6621 - psnr: 5.4400 - ssmi: 0.0133 - sharp_diff: 5.703 - ETA: 9s - loss: 5.6484 - psnr: 5.4253 - ssmi: 0.0132 - sharp_diff: 5.707 - ETA: 9s - loss: 5.6400 - psnr: 5.4165 - ssmi: 0.0132 - sharp_diff: 5.70 - ETA: 9s - loss: 5.6267 - psnr: 5.4028 - ssmi: 0.0132 - sharp_diff: 5.71 - ETA: 9s - loss: 5.6231 - psnr: 5.3988 - ssmi: 0.0134 - sharp_diff: 5.72 - ETA: 8s - loss: 5.6275 - psnr: 5.4028 - ssmi: 0.0137 - sharp_diff: 5.75 - ETA: 8s - loss: 5.6258 - psnr: 5.4006 - ssmi: 0.0136 - sharp_diff: 5.75 - ETA: 8s - loss: 5.6160 - psnr: 5.3902 - ssmi: 0.0136 - sharp_diff: 5.76 - ETA: 8s - loss: 5.6087 - psnr: 5.3823 - ssmi: 0.0136 - sharp_diff: 5.77 - ETA: 7s - loss: 5.6096 - psnr: 5.3827 - ssmi: 0.0136 - sharp_diff: 5.78 - ETA: 7s - loss: 5.6069 - psnr: 5.3797 - ssmi: 0.0137 - sharp_diff: 5.79 - ETA: 7s - loss: 5.5994 - psnr: 5.3721 - ssmi: 0.0134 - sharp_diff: 5.79 - ETA: 7s - loss: 5.5949 - psnr: 5.3674 - ssmi: 0.0134 - sharp_diff: 5.80 - ETA: 6s - loss: 5.5809 - psnr: 5.3528 - ssmi: 0.0132 - sharp_diff: 5.80 - ETA: 6s - loss: 5.5860 - psnr: 5.3575 - ssmi: 0.0132 - sharp_diff: 5.81 - ETA: 6s - loss: 5.5779 - psnr: 5.3490 - ssmi: 0.0132 - sharp_diff: 5.82 - ETA: 6s - loss: 5.5759 - psnr: 5.3466 - ssmi: 0.0132 - sharp_diff: 5.82 - ETA: 5s - loss: 5.5708 - psnr: 5.3412 - ssmi: 0.0132 - sharp_diff: 5.83 - ETA: 5s - loss: 5.5700 - psnr: 5.3401 - ssmi: 0.0132 - sharp_diff: 5.84 - ETA: 5s - loss: 5.5697 - psnr: 5.3395 - ssmi: 0.0132 - sharp_diff: 5.85 - ETA: 5s - loss: 5.5687 - psnr: 5.3380 - ssmi: 0.0132 - sharp_diff: 5.85 - ETA: 4s - loss: 5.5682 - psnr: 5.3372 - ssmi: 0.0132 - sharp_diff: 5.86 - ETA: 4s - loss: 5.5652 - psnr: 5.3338 - ssmi: 0.0132 - sharp_diff: 5.87 - ETA: 4s - loss: 5.5567 - psnr: 5.3248 - ssmi: 0.0132 - sharp_diff: 5.87 - ETA: 4s - loss: 5.5535 - psnr: 5.3214 - ssmi: 0.0132 - sharp_diff: 5.88 - ETA: 3s - loss: 5.5472 - psnr: 5.3146 - ssmi: 0.0132 - sharp_diff: 5.88 - ETA: 3s - loss: 5.5452 - psnr: 5.3123 - ssmi: 0.0131 - sharp_diff: 5.88 - ETA: 3s - loss: 5.5412 - psnr: 5.3080 - ssmi: 0.0131 - sharp_diff: 5.89 - ETA: 3s - loss: 5.5355 - psnr: 5.3020 - ssmi: 0.0131 - sharp_diff: 5.89 - ETA: 2s - loss: 5.5323 - psnr: 5.2984 - ssmi: 0.0131 - sharp_diff: 5.89 - ETA: 2s - loss: 5.5261 - psnr: 5.2919 - ssmi: 0.0130 - sharp_diff: 5.90 - ETA: 2s - loss: 5.5232 - psnr: 5.2887 - ssmi: 0.0130 - sharp_diff: 5.90 - ETA: 2s - loss: 5.5196 - psnr: 5.2847 - ssmi: 0.0129 - sharp_diff: 5.90 - ETA: 1s - loss: 5.5178 - psnr: 5.2827 - ssmi: 0.0129 - sharp_diff: 5.91 - ETA: 1s - loss: 5.5176 - psnr: 5.2822 - ssmi: 0.0130 - sharp_diff: 5.91 - ETA: 1s - loss: 5.5195 - psnr: 5.2840 - ssmi: 0.0134 - sharp_diff: 5.91 - ETA: 1s - loss: 5.5173 - psnr: 5.2815 - ssmi: 0.0134 - sharp_diff: 5.92 - ETA: 0s - loss: 5.5151 - psnr: 5.2790 - ssmi: 0.0134 - sharp_diff: 5.92 - ETA: 0s - loss: 5.5121 - psnr: 5.2758 - ssmi: 0.0134 - sharp_diff: 5.93 - ETA: 0s - loss: 5.5089 - psnr: 5.2723 - ssmi: 0.0133 - sharp_diff: 5.93 - 18s 362ms/step - loss: 5.5057 - psnr: 5.2687 - ssmi: 0.0133 - sharp_diff: 5.9406 - val_loss: 7.2501 - val_psnr: 7.2303 - val_ssmi: 0.1352 - val_sharp_diff: 11.8620\n"
     ]
    },
    {
     "data": {
      "application/vnd.jupyter.widget-view+json": {
       "model_id": "",
       "version_major": 2,
       "version_minor": 0
      },
      "text/plain": [
       "HBox(children=(IntProgress(value=0, description='Epoch 2', max=50, style=ProgressStyle(description_width='init…"
      ]
     },
     "metadata": {},
     "output_type": "display_data"
    },
    {
     "name": "stdout",
     "output_type": "stream",
     "text": [
      "Epoch 3/50\n",
      "50/50 [==============================] - ETA: 12s - loss: 5.2801 - psnr: 5.0287 - ssmi: 0.0115 - sharp_diff: 6.055 - ETA: 12s - loss: 5.3309 - psnr: 5.0790 - ssmi: 0.0119 - sharp_diff: 6.150 - ETA: 11s - loss: 5.3521 - psnr: 5.1009 - ssmi: 0.0130 - sharp_diff: 6.175 - ETA: 11s - loss: 5.3574 - psnr: 5.1052 - ssmi: 0.0129 - sharp_diff: 6.160 - ETA: 11s - loss: 5.3471 - psnr: 5.0952 - ssmi: 0.0127 - sharp_diff: 6.157 - ETA: 10s - loss: 5.3414 - psnr: 5.0893 - ssmi: 0.0124 - sharp_diff: 6.165 - ETA: 10s - loss: 5.3578 - psnr: 5.1057 - ssmi: 0.0126 - sharp_diff: 6.166 - ETA: 10s - loss: 5.3709 - psnr: 5.1186 - ssmi: 0.0128 - sharp_diff: 6.169 - ETA: 10s - loss: 5.3597 - psnr: 5.1072 - ssmi: 0.0131 - sharp_diff: 6.173 - ETA: 9s - loss: 5.3438 - psnr: 5.0912 - ssmi: 0.0128 - sharp_diff: 6.178 - ETA: 9s - loss: 5.3387 - psnr: 5.0861 - ssmi: 0.0128 - sharp_diff: 6.17 - ETA: 9s - loss: 5.3338 - psnr: 5.0810 - ssmi: 0.0128 - sharp_diff: 6.18 - ETA: 9s - loss: 5.3249 - psnr: 5.0719 - ssmi: 0.0127 - sharp_diff: 6.18 - ETA: 8s - loss: 5.3236 - psnr: 5.0705 - ssmi: 0.0126 - sharp_diff: 6.18 - ETA: 8s - loss: 5.3240 - psnr: 5.0706 - ssmi: 0.0125 - sharp_diff: 6.17 - ETA: 8s - loss: 5.3335 - psnr: 5.0800 - ssmi: 0.0126 - sharp_diff: 6.17 - ETA: 8s - loss: 5.3365 - psnr: 5.0829 - ssmi: 0.0128 - sharp_diff: 6.18 - ETA: 7s - loss: 5.3397 - psnr: 5.0860 - ssmi: 0.0130 - sharp_diff: 6.18 - ETA: 7s - loss: 5.3483 - psnr: 5.0946 - ssmi: 0.0128 - sharp_diff: 6.19 - ETA: 7s - loss: 5.3481 - psnr: 5.0942 - ssmi: 0.0127 - sharp_diff: 6.19 - ETA: 7s - loss: 5.3518 - psnr: 5.0979 - ssmi: 0.0130 - sharp_diff: 6.19 - ETA: 6s - loss: 5.3511 - psnr: 5.0969 - ssmi: 0.0130 - sharp_diff: 6.19 - ETA: 6s - loss: 5.3545 - psnr: 5.1002 - ssmi: 0.0131 - sharp_diff: 6.19 - ETA: 6s - loss: 5.3540 - psnr: 5.0995 - ssmi: 0.0131 - sharp_diff: 6.19 - ETA: 6s - loss: 5.3502 - psnr: 5.0955 - ssmi: 0.0131 - sharp_diff: 6.20 - ETA: 5s - loss: 5.3516 - psnr: 5.0967 - ssmi: 0.0130 - sharp_diff: 6.20 - ETA: 5s - loss: 5.3489 - psnr: 5.0940 - ssmi: 0.0131 - sharp_diff: 6.20 - ETA: 5s - loss: 5.3490 - psnr: 5.0939 - ssmi: 0.0130 - sharp_diff: 6.20 - ETA: 5s - loss: 5.3442 - psnr: 5.0889 - ssmi: 0.0130 - sharp_diff: 6.20 - ETA: 4s - loss: 5.3410 - psnr: 5.0856 - ssmi: 0.0129 - sharp_diff: 6.21 - ETA: 4s - loss: 5.3393 - psnr: 5.0837 - ssmi: 0.0129 - sharp_diff: 6.21 - ETA: 4s - loss: 5.3337 - psnr: 5.0780 - ssmi: 0.0129 - sharp_diff: 6.21 - ETA: 4s - loss: 5.3343 - psnr: 5.0784 - ssmi: 0.0129 - sharp_diff: 6.21 - ETA: 3s - loss: 5.3340 - psnr: 5.0780 - ssmi: 0.0129 - sharp_diff: 6.21 - ETA: 3s - loss: 5.3295 - psnr: 5.0733 - ssmi: 0.0129 - sharp_diff: 6.21 - ETA: 3s - loss: 5.3286 - psnr: 5.0723 - ssmi: 0.0129 - sharp_diff: 6.21 - ETA: 3s - loss: 5.3286 - psnr: 5.0721 - ssmi: 0.0130 - sharp_diff: 6.22 - ETA: 2s - loss: 5.3283 - psnr: 5.0717 - ssmi: 0.0130 - sharp_diff: 6.21 - ETA: 2s - loss: 5.3240 - psnr: 5.0673 - ssmi: 0.0130 - sharp_diff: 6.21 - ETA: 2s - loss: 5.3242 - psnr: 5.0673 - ssmi: 0.0130 - sharp_diff: 6.22 - ETA: 2s - loss: 5.3200 - psnr: 5.0631 - ssmi: 0.0129 - sharp_diff: 6.22 - ETA: 2s - loss: 5.3191 - psnr: 5.0620 - ssmi: 0.0129 - sharp_diff: 6.22 - ETA: 1s - loss: 5.3089 - psnr: 5.0517 - ssmi: 0.0128 - sharp_diff: 6.22 - ETA: 1s - loss: 5.3052 - psnr: 5.0478 - ssmi: 0.0128 - sharp_diff: 6.22 - ETA: 1s - loss: 5.3029 - psnr: 5.0454 - ssmi: 0.0128 - sharp_diff: 6.22 - ETA: 1s - loss: 5.3010 - psnr: 5.0434 - ssmi: 0.0128 - sharp_diff: 6.22 - ETA: 0s - loss: 5.2995 - psnr: 5.0417 - ssmi: 0.0128 - sharp_diff: 6.22 - ETA: 0s - loss: 5.3002 - psnr: 5.0423 - ssmi: 0.0128 - sharp_diff: 6.22 - ETA: 0s - loss: 5.3001 - psnr: 5.0420 - ssmi: 0.0127 - sharp_diff: 6.22 - 18s 363ms/step - loss: 5.2995 - psnr: 5.0413 - ssmi: 0.0127 - sharp_diff: 6.2265 - val_loss: 7.0304 - val_psnr: 6.9965 - val_ssmi: 0.1312 - val_sharp_diff: 11.7721\n"
     ]
    },
    {
     "data": {
      "application/vnd.jupyter.widget-view+json": {
       "model_id": "",
       "version_major": 2,
       "version_minor": 0
      },
      "text/plain": [
       "HBox(children=(IntProgress(value=0, description='Epoch 3', max=50, style=ProgressStyle(description_width='init…"
      ]
     },
     "metadata": {},
     "output_type": "display_data"
    },
    {
     "name": "stdout",
     "output_type": "stream",
     "text": [
      "Epoch 4/50\n",
      "50/50 [==============================] - ETA: 12s - loss: 5.2548 - psnr: 4.9885 - ssmi: 0.0126 - sharp_diff: 6.184 - ETA: 12s - loss: 5.2019 - psnr: 4.9356 - ssmi: 0.0123 - sharp_diff: 6.196 - ETA: 11s - loss: 5.2188 - psnr: 4.9532 - ssmi: 0.0127 - sharp_diff: 6.239 - ETA: 11s - loss: 5.2516 - psnr: 4.9862 - ssmi: 0.0129 - sharp_diff: 6.250 - ETA: 11s - loss: 5.2569 - psnr: 4.9912 - ssmi: 0.0130 - sharp_diff: 6.250 - ETA: 11s - loss: 5.2611 - psnr: 4.9951 - ssmi: 0.0130 - sharp_diff: 6.262 - ETA: 10s - loss: 5.2703 - psnr: 5.0045 - ssmi: 0.0133 - sharp_diff: 6.272 - ETA: 10s - loss: 5.2561 - psnr: 4.9902 - ssmi: 0.0132 - sharp_diff: 6.266 - ETA: 10s - loss: 5.2539 - psnr: 4.9878 - ssmi: 0.0131 - sharp_diff: 6.262 - ETA: 10s - loss: 5.2642 - psnr: 4.9981 - ssmi: 0.0132 - sharp_diff: 6.273 - ETA: 9s - loss: 5.2676 - psnr: 5.0014 - ssmi: 0.0132 - sharp_diff: 6.276 - ETA: 9s - loss: 5.2515 - psnr: 4.9853 - ssmi: 0.0132 - sharp_diff: 6.27 - ETA: 9s - loss: 5.2596 - psnr: 4.9934 - ssmi: 0.0132 - sharp_diff: 6.28 - ETA: 9s - loss: 5.2477 - psnr: 4.9813 - ssmi: 0.0132 - sharp_diff: 6.27 - ETA: 8s - loss: 5.2415 - psnr: 4.9750 - ssmi: 0.0132 - sharp_diff: 6.27 - ETA: 8s - loss: 5.2473 - psnr: 4.9808 - ssmi: 0.0133 - sharp_diff: 6.28 - ETA: 8s - loss: 5.2531 - psnr: 4.9866 - ssmi: 0.0131 - sharp_diff: 6.27 - ETA: 8s - loss: 5.2517 - psnr: 4.9851 - ssmi: 0.0131 - sharp_diff: 6.27 - ETA: 7s - loss: 5.2453 - psnr: 4.9784 - ssmi: 0.0129 - sharp_diff: 6.27 - ETA: 7s - loss: 5.2397 - psnr: 4.9728 - ssmi: 0.0128 - sharp_diff: 6.26 - ETA: 7s - loss: 5.2398 - psnr: 4.9726 - ssmi: 0.0128 - sharp_diff: 6.26 - ETA: 7s - loss: 5.2413 - psnr: 4.9739 - ssmi: 0.0128 - sharp_diff: 6.26 - ETA: 6s - loss: 5.2322 - psnr: 4.9646 - ssmi: 0.0127 - sharp_diff: 6.26 - ETA: 6s - loss: 5.2287 - psnr: 4.9610 - ssmi: 0.0127 - sharp_diff: 6.26 - ETA: 6s - loss: 5.2299 - psnr: 4.9620 - ssmi: 0.0128 - sharp_diff: 6.26 - ETA: 6s - loss: 5.2364 - psnr: 4.9686 - ssmi: 0.0129 - sharp_diff: 6.26 - ETA: 5s - loss: 5.2371 - psnr: 4.9691 - ssmi: 0.0129 - sharp_diff: 6.26 - ETA: 5s - loss: 5.2351 - psnr: 4.9669 - ssmi: 0.0129 - sharp_diff: 6.26 - ETA: 5s - loss: 5.2363 - psnr: 4.9680 - ssmi: 0.0128 - sharp_diff: 6.26 - ETA: 5s - loss: 5.2358 - psnr: 4.9673 - ssmi: 0.0128 - sharp_diff: 6.26 - ETA: 4s - loss: 5.2339 - psnr: 4.9654 - ssmi: 0.0129 - sharp_diff: 6.27 - ETA: 4s - loss: 5.2330 - psnr: 4.9644 - ssmi: 0.0128 - sharp_diff: 6.27 - ETA: 4s - loss: 5.2274 - psnr: 4.9586 - ssmi: 0.0128 - sharp_diff: 6.26 - ETA: 4s - loss: 5.2310 - psnr: 4.9621 - ssmi: 0.0128 - sharp_diff: 6.26 - ETA: 3s - loss: 5.2276 - psnr: 4.9586 - ssmi: 0.0128 - sharp_diff: 6.26 - ETA: 3s - loss: 5.2238 - psnr: 4.9547 - ssmi: 0.0127 - sharp_diff: 6.26 - ETA: 3s - loss: 5.2243 - psnr: 4.9550 - ssmi: 0.0128 - sharp_diff: 6.27 - ETA: 3s - loss: 5.2249 - psnr: 4.9556 - ssmi: 0.0128 - sharp_diff: 6.27 - ETA: 2s - loss: 5.2196 - psnr: 4.9501 - ssmi: 0.0128 - sharp_diff: 6.27 - ETA: 2s - loss: 5.2182 - psnr: 4.9485 - ssmi: 0.0127 - sharp_diff: 6.27 - ETA: 2s - loss: 5.2129 - psnr: 4.9434 - ssmi: 0.0126 - sharp_diff: 6.27 - ETA: 2s - loss: 5.2113 - psnr: 4.9417 - ssmi: 0.0126 - sharp_diff: 6.26 - ETA: 1s - loss: 5.2130 - psnr: 4.9433 - ssmi: 0.0126 - sharp_diff: 6.26 - ETA: 1s - loss: 5.2120 - psnr: 4.9421 - ssmi: 0.0126 - sharp_diff: 6.26 - ETA: 1s - loss: 5.2121 - psnr: 4.9421 - ssmi: 0.0126 - sharp_diff: 6.27 - ETA: 1s - loss: 5.2117 - psnr: 4.9416 - ssmi: 0.0126 - sharp_diff: 6.27 - ETA: 0s - loss: 5.2114 - psnr: 4.9411 - ssmi: 0.0125 - sharp_diff: 6.27 - ETA: 0s - loss: 5.2079 - psnr: 4.9375 - ssmi: 0.0125 - sharp_diff: 6.27 - ETA: 0s - loss: 5.2083 - psnr: 4.9378 - ssmi: 0.0125 - sharp_diff: 6.27 - 18s 363ms/step - loss: 5.2087 - psnr: 4.9382 - ssmi: 0.0125 - sharp_diff: 6.2719 - val_loss: 6.7751 - val_psnr: 6.7239 - val_ssmi: 0.1246 - val_sharp_diff: 11.6360\n"
     ]
    },
    {
     "data": {
      "application/vnd.jupyter.widget-view+json": {
       "model_id": "",
       "version_major": 2,
       "version_minor": 0
      },
      "text/plain": [
       "HBox(children=(IntProgress(value=0, description='Epoch 4', max=50, style=ProgressStyle(description_width='init…"
      ]
     },
     "metadata": {},
     "output_type": "display_data"
    },
    {
     "name": "stdout",
     "output_type": "stream",
     "text": [
      "Epoch 5/50\n",
      "50/50 [==============================] - ETA: 12s - loss: 5.0258 - psnr: 4.7500 - ssmi: 0.0084 - sharp_diff: 6.328 - ETA: 12s - loss: 5.0597 - psnr: 4.7832 - ssmi: 0.0095 - sharp_diff: 6.279 - ETA: 11s - loss: 5.0559 - psnr: 4.7790 - ssmi: 0.0105 - sharp_diff: 6.259 - ETA: 11s - loss: 5.0674 - psnr: 4.7904 - ssmi: 0.0107 - sharp_diff: 6.253 - ETA: 11s - loss: 5.0833 - psnr: 4.8062 - ssmi: 0.0116 - sharp_diff: 6.242 - ETA: 10s - loss: 5.0887 - psnr: 4.8113 - ssmi: 0.0116 - sharp_diff: 6.238 - ETA: 10s - loss: 5.1209 - psnr: 4.8437 - ssmi: 0.0120 - sharp_diff: 6.254 - ETA: 10s - loss: 5.1266 - psnr: 4.8493 - ssmi: 0.0122 - sharp_diff: 6.247 - ETA: 10s - loss: 5.1222 - psnr: 4.8445 - ssmi: 0.0120 - sharp_diff: 6.239 - ETA: 9s - loss: 5.1190 - psnr: 4.8411 - ssmi: 0.0122 - sharp_diff: 6.237 - ETA: 9s - loss: 5.1159 - psnr: 4.8379 - ssmi: 0.0123 - sharp_diff: 6.23 - ETA: 9s - loss: 5.1121 - psnr: 4.8341 - ssmi: 0.0122 - sharp_diff: 6.23 - ETA: 9s - loss: 5.1128 - psnr: 4.8348 - ssmi: 0.0123 - sharp_diff: 6.24 - ETA: 8s - loss: 5.1353 - psnr: 4.8574 - ssmi: 0.0127 - sharp_diff: 6.25 - ETA: 8s - loss: 5.1310 - psnr: 4.8528 - ssmi: 0.0130 - sharp_diff: 6.24 - ETA: 8s - loss: 5.1306 - psnr: 4.8525 - ssmi: 0.0131 - sharp_diff: 6.25 - ETA: 8s - loss: 5.1252 - psnr: 4.8470 - ssmi: 0.0130 - sharp_diff: 6.25 - ETA: 7s - loss: 5.1271 - psnr: 4.8487 - ssmi: 0.0129 - sharp_diff: 6.25 - ETA: 7s - loss: 5.1263 - psnr: 4.8478 - ssmi: 0.0128 - sharp_diff: 6.25 - ETA: 7s - loss: 5.1211 - psnr: 4.8425 - ssmi: 0.0127 - sharp_diff: 6.25 - ETA: 7s - loss: 5.1286 - psnr: 4.8500 - ssmi: 0.0127 - sharp_diff: 6.25 - ETA: 6s - loss: 5.1312 - psnr: 4.8524 - ssmi: 0.0128 - sharp_diff: 6.25 - ETA: 6s - loss: 5.1382 - psnr: 4.8594 - ssmi: 0.0128 - sharp_diff: 6.25 - ETA: 6s - loss: 5.1413 - psnr: 4.8625 - ssmi: 0.0128 - sharp_diff: 6.26 - ETA: 6s - loss: 5.1453 - psnr: 4.8665 - ssmi: 0.0129 - sharp_diff: 6.26 - ETA: 5s - loss: 5.1459 - psnr: 4.8670 - ssmi: 0.0129 - sharp_diff: 6.26 - ETA: 5s - loss: 5.1463 - psnr: 4.8674 - ssmi: 0.0129 - sharp_diff: 6.26 - ETA: 5s - loss: 5.1425 - psnr: 4.8634 - ssmi: 0.0128 - sharp_diff: 6.26 - ETA: 5s - loss: 5.1411 - psnr: 4.8619 - ssmi: 0.0127 - sharp_diff: 6.27 - ETA: 4s - loss: 5.1372 - psnr: 4.8579 - ssmi: 0.0126 - sharp_diff: 6.26 - ETA: 4s - loss: 5.1375 - psnr: 4.8581 - ssmi: 0.0126 - sharp_diff: 6.27 - ETA: 4s - loss: 5.1366 - psnr: 4.8572 - ssmi: 0.0126 - sharp_diff: 6.27 - ETA: 4s - loss: 5.1362 - psnr: 4.8566 - ssmi: 0.0125 - sharp_diff: 6.27 - ETA: 3s - loss: 5.1325 - psnr: 4.8528 - ssmi: 0.0125 - sharp_diff: 6.27 - ETA: 3s - loss: 5.1326 - psnr: 4.8529 - ssmi: 0.0125 - sharp_diff: 6.27 - ETA: 3s - loss: 5.1285 - psnr: 4.8487 - ssmi: 0.0126 - sharp_diff: 6.26 - ETA: 3s - loss: 5.1260 - psnr: 4.8460 - ssmi: 0.0126 - sharp_diff: 6.26 - ETA: 2s - loss: 5.1296 - psnr: 4.8496 - ssmi: 0.0127 - sharp_diff: 6.26 - ETA: 2s - loss: 5.1225 - psnr: 4.8423 - ssmi: 0.0125 - sharp_diff: 6.25 - ETA: 2s - loss: 5.1235 - psnr: 4.8431 - ssmi: 0.0125 - sharp_diff: 6.25 - ETA: 2s - loss: 5.1230 - psnr: 4.8427 - ssmi: 0.0125 - sharp_diff: 6.26 - ETA: 1s - loss: 5.1209 - psnr: 4.8405 - ssmi: 0.0125 - sharp_diff: 6.26 - ETA: 1s - loss: 5.1194 - psnr: 4.8388 - ssmi: 0.0126 - sharp_diff: 6.26 - ETA: 1s - loss: 5.1181 - psnr: 4.8375 - ssmi: 0.0126 - sharp_diff: 6.26 - ETA: 1s - loss: 5.1153 - psnr: 4.8346 - ssmi: 0.0125 - sharp_diff: 6.26 - ETA: 0s - loss: 5.1166 - psnr: 4.8357 - ssmi: 0.0126 - sharp_diff: 6.26 - ETA: 0s - loss: 5.1177 - psnr: 4.8367 - ssmi: 0.0126 - sharp_diff: 6.26 - ETA: 0s - loss: 5.1166 - psnr: 4.8355 - ssmi: 0.0126 - sharp_diff: 6.26 - ETA: 0s - loss: 5.1148 - psnr: 4.8337 - ssmi: 0.0126 - sharp_diff: 6.26 - 18s 363ms/step - loss: 5.1127 - psnr: 4.8315 - ssmi: 0.0126 - sharp_diff: 6.2622 - val_loss: 6.3753 - val_psnr: 6.2886 - val_ssmi: 0.1128 - val_sharp_diff: 11.4857\n"
     ]
    },
    {
     "data": {
      "application/vnd.jupyter.widget-view+json": {
       "model_id": "",
       "version_major": 2,
       "version_minor": 0
      },
      "text/plain": [
       "HBox(children=(IntProgress(value=0, description='Epoch 5', max=50, style=ProgressStyle(description_width='init…"
      ]
     },
     "metadata": {},
     "output_type": "display_data"
    },
    {
     "name": "stdout",
     "output_type": "stream",
     "text": [
      "Epoch 6/50\n",
      "50/50 [==============================] - ETA: 12s - loss: 5.0530 - psnr: 4.7678 - ssmi: 0.0113 - sharp_diff: 6.255 - ETA: 12s - loss: 4.9781 - psnr: 4.6918 - ssmi: 0.0110 - sharp_diff: 6.241 - ETA: 12s - loss: 5.0337 - psnr: 4.7476 - ssmi: 0.0113 - sharp_diff: 6.272 - ETA: 11s - loss: 5.0865 - psnr: 4.8005 - ssmi: 0.0118 - sharp_diff: 6.286 - ETA: 11s - loss: 5.0922 - psnr: 4.8062 - ssmi: 0.0117 - sharp_diff: 6.279 - ETA: 11s - loss: 5.0984 - psnr: 4.8120 - ssmi: 0.0123 - sharp_diff: 6.265 - ETA: 10s - loss: 5.1007 - psnr: 4.8141 - ssmi: 0.0122 - sharp_diff: 6.275 - ETA: 10s - loss: 5.0988 - psnr: 4.8120 - ssmi: 0.0123 - sharp_diff: 6.270 - ETA: 10s - loss: 5.0902 - psnr: 4.8032 - ssmi: 0.0121 - sharp_diff: 6.264 - ETA: 10s - loss: 5.0907 - psnr: 4.8036 - ssmi: 0.0121 - sharp_diff: 6.264 - ETA: 9s - loss: 5.0956 - psnr: 4.8083 - ssmi: 0.0122 - sharp_diff: 6.257 - ETA: 9s - loss: 5.0944 - psnr: 4.8069 - ssmi: 0.0122 - sharp_diff: 6.25 - ETA: 9s - loss: 5.0658 - psnr: 4.7779 - ssmi: 0.0120 - sharp_diff: 6.23 - ETA: 9s - loss: 5.0760 - psnr: 4.7881 - ssmi: 0.0121 - sharp_diff: 6.23 - ETA: 8s - loss: 5.0584 - psnr: 4.7703 - ssmi: 0.0119 - sharp_diff: 6.23 - ETA: 8s - loss: 5.0492 - psnr: 4.7609 - ssmi: 0.0118 - sharp_diff: 6.23 - ETA: 8s - loss: 5.0492 - psnr: 4.7607 - ssmi: 0.0118 - sharp_diff: 6.23 - ETA: 8s - loss: 5.0515 - psnr: 4.7630 - ssmi: 0.0117 - sharp_diff: 6.23 - ETA: 7s - loss: 5.0525 - psnr: 4.7639 - ssmi: 0.0119 - sharp_diff: 6.23 - ETA: 7s - loss: 5.0572 - psnr: 4.7684 - ssmi: 0.0119 - sharp_diff: 6.23 - ETA: 7s - loss: 5.0568 - psnr: 4.7679 - ssmi: 0.0119 - sharp_diff: 6.23 - ETA: 7s - loss: 5.0639 - psnr: 4.7749 - ssmi: 0.0121 - sharp_diff: 6.24 - ETA: 6s - loss: 5.0650 - psnr: 4.7760 - ssmi: 0.0120 - sharp_diff: 6.24 - ETA: 6s - loss: 5.0577 - psnr: 4.7686 - ssmi: 0.0120 - sharp_diff: 6.23 - ETA: 6s - loss: 5.0578 - psnr: 4.7686 - ssmi: 0.0120 - sharp_diff: 6.23 - ETA: 6s - loss: 5.0595 - psnr: 4.7702 - ssmi: 0.0120 - sharp_diff: 6.23 - ETA: 5s - loss: 5.0534 - psnr: 4.7640 - ssmi: 0.0120 - sharp_diff: 6.23 - ETA: 5s - loss: 5.0538 - psnr: 4.7643 - ssmi: 0.0120 - sharp_diff: 6.23 - ETA: 5s - loss: 5.0536 - psnr: 4.7639 - ssmi: 0.0120 - sharp_diff: 6.23 - ETA: 5s - loss: 5.0546 - psnr: 4.7649 - ssmi: 0.0119 - sharp_diff: 6.23 - ETA: 4s - loss: 5.0526 - psnr: 4.7628 - ssmi: 0.0119 - sharp_diff: 6.23 - ETA: 4s - loss: 5.0526 - psnr: 4.7626 - ssmi: 0.0119 - sharp_diff: 6.23 - ETA: 4s - loss: 5.0476 - psnr: 4.7575 - ssmi: 0.0118 - sharp_diff: 6.23 - ETA: 4s - loss: 5.0483 - psnr: 4.7581 - ssmi: 0.0119 - sharp_diff: 6.23 - ETA: 3s - loss: 5.0487 - psnr: 4.7585 - ssmi: 0.0119 - sharp_diff: 6.23 - ETA: 3s - loss: 5.0513 - psnr: 4.7610 - ssmi: 0.0119 - sharp_diff: 6.23 - ETA: 3s - loss: 5.0576 - psnr: 4.7672 - ssmi: 0.0121 - sharp_diff: 6.23 - ETA: 3s - loss: 5.0595 - psnr: 4.7690 - ssmi: 0.0121 - sharp_diff: 6.23 - ETA: 2s - loss: 5.0561 - psnr: 4.7654 - ssmi: 0.0120 - sharp_diff: 6.22 - ETA: 2s - loss: 5.0526 - psnr: 4.7619 - ssmi: 0.0120 - sharp_diff: 6.22 - ETA: 2s - loss: 5.0512 - psnr: 4.7604 - ssmi: 0.0120 - sharp_diff: 6.22 - ETA: 2s - loss: 5.0529 - psnr: 4.7619 - ssmi: 0.0120 - sharp_diff: 6.22 - ETA: 1s - loss: 5.0513 - psnr: 4.7602 - ssmi: 0.0120 - sharp_diff: 6.22 - ETA: 1s - loss: 5.0511 - psnr: 4.7598 - ssmi: 0.0119 - sharp_diff: 6.22 - ETA: 1s - loss: 5.0485 - psnr: 4.7571 - ssmi: 0.0119 - sharp_diff: 6.22 - ETA: 1s - loss: 5.0484 - psnr: 4.7570 - ssmi: 0.0119 - sharp_diff: 6.22 - ETA: 0s - loss: 5.0484 - psnr: 4.7569 - ssmi: 0.0119 - sharp_diff: 6.22 - ETA: 0s - loss: 5.0454 - psnr: 4.7538 - ssmi: 0.0119 - sharp_diff: 6.22 - ETA: 0s - loss: 5.0446 - psnr: 4.7529 - ssmi: 0.0119 - sharp_diff: 6.22 - 20s 397ms/step - loss: 5.0444 - psnr: 4.7527 - ssmi: 0.0118 - sharp_diff: 6.2271 - val_loss: 6.0349 - val_psnr: 5.9119 - val_ssmi: 0.1040 - val_sharp_diff: 11.3423\n"
     ]
    },
    {
     "data": {
      "application/vnd.jupyter.widget-view+json": {
       "model_id": "",
       "version_major": 2,
       "version_minor": 0
      },
      "text/plain": [
       "HBox(children=(IntProgress(value=0, description='Epoch 6', max=50, style=ProgressStyle(description_width='init…"
      ]
     },
     "metadata": {},
     "output_type": "display_data"
    },
    {
     "name": "stdout",
     "output_type": "stream",
     "text": [
      "Epoch 7/50\n",
      "50/50 [==============================] - ETA: 13s - loss: 4.9863 - psnr: 4.6906 - ssmi: 0.0106 - sharp_diff: 6.202 - ETA: 12s - loss: 4.9979 - psnr: 4.7013 - ssmi: 0.0108 - sharp_diff: 6.197 - ETA: 12s - loss: 5.0224 - psnr: 4.7257 - ssmi: 0.0117 - sharp_diff: 6.224 - ETA: 12s - loss: 5.0587 - psnr: 4.7618 - ssmi: 0.0123 - sharp_diff: 6.213 - ETA: 11s - loss: 5.0775 - psnr: 4.7806 - ssmi: 0.0125 - sharp_diff: 6.224 - ETA: 11s - loss: 5.0686 - psnr: 4.7712 - ssmi: 0.0124 - sharp_diff: 6.223 - ETA: 11s - loss: 5.0518 - psnr: 4.7543 - ssmi: 0.0126 - sharp_diff: 6.214 - ETA: 10s - loss: 5.0571 - psnr: 4.7596 - ssmi: 0.0126 - sharp_diff: 6.218 - ETA: 10s - loss: 5.0453 - psnr: 4.7475 - ssmi: 0.0126 - sharp_diff: 6.216 - ETA: 10s - loss: 5.0221 - psnr: 4.7243 - ssmi: 0.0124 - sharp_diff: 6.220 - ETA: 10s - loss: 5.0326 - psnr: 4.7346 - ssmi: 0.0120 - sharp_diff: 6.222 - ETA: 9s - loss: 5.0210 - psnr: 4.7228 - ssmi: 0.0118 - sharp_diff: 6.217 - ETA: 9s - loss: 5.0159 - psnr: 4.7176 - ssmi: 0.0116 - sharp_diff: 6.21 - ETA: 9s - loss: 5.0077 - psnr: 4.7094 - ssmi: 0.0115 - sharp_diff: 6.21 - ETA: 8s - loss: 5.0051 - psnr: 4.7066 - ssmi: 0.0113 - sharp_diff: 6.21 - ETA: 8s - loss: 5.0016 - psnr: 4.7030 - ssmi: 0.0114 - sharp_diff: 6.21 - ETA: 8s - loss: 4.9985 - psnr: 4.6997 - ssmi: 0.0113 - sharp_diff: 6.20 - ETA: 8s - loss: 4.9952 - psnr: 4.6964 - ssmi: 0.0112 - sharp_diff: 6.20 - ETA: 7s - loss: 4.9970 - psnr: 4.6981 - ssmi: 0.0112 - sharp_diff: 6.20 - ETA: 7s - loss: 5.0027 - psnr: 4.7037 - ssmi: 0.0113 - sharp_diff: 6.20 - ETA: 7s - loss: 4.9970 - psnr: 4.6978 - ssmi: 0.0113 - sharp_diff: 6.20 - ETA: 7s - loss: 4.9975 - psnr: 4.6983 - ssmi: 0.0112 - sharp_diff: 6.20 - ETA: 6s - loss: 4.9969 - psnr: 4.6976 - ssmi: 0.0112 - sharp_diff: 6.20 - ETA: 6s - loss: 4.9985 - psnr: 4.6990 - ssmi: 0.0113 - sharp_diff: 6.20 - ETA: 6s - loss: 4.9997 - psnr: 4.7001 - ssmi: 0.0115 - sharp_diff: 6.20 - ETA: 6s - loss: 5.0050 - psnr: 4.7054 - ssmi: 0.0117 - sharp_diff: 6.20 - ETA: 5s - loss: 5.0056 - psnr: 4.7059 - ssmi: 0.0116 - sharp_diff: 6.20 - ETA: 5s - loss: 5.0011 - psnr: 4.7013 - ssmi: 0.0116 - sharp_diff: 6.20 - ETA: 5s - loss: 5.0024 - psnr: 4.7025 - ssmi: 0.0116 - sharp_diff: 6.20 - ETA: 5s - loss: 5.0026 - psnr: 4.7026 - ssmi: 0.0117 - sharp_diff: 6.20 - ETA: 4s - loss: 4.9966 - psnr: 4.6965 - ssmi: 0.0116 - sharp_diff: 6.20 - ETA: 4s - loss: 4.9978 - psnr: 4.6976 - ssmi: 0.0117 - sharp_diff: 6.20 - ETA: 4s - loss: 4.9971 - psnr: 4.6969 - ssmi: 0.0117 - sharp_diff: 6.20 - ETA: 4s - loss: 4.9995 - psnr: 4.6992 - ssmi: 0.0118 - sharp_diff: 6.20 - ETA: 3s - loss: 4.9851 - psnr: 4.6847 - ssmi: 0.0117 - sharp_diff: 6.19 - ETA: 3s - loss: 4.9842 - psnr: 4.6838 - ssmi: 0.0118 - sharp_diff: 6.19 - ETA: 3s - loss: 4.9827 - psnr: 4.6822 - ssmi: 0.0118 - sharp_diff: 6.19 - ETA: 3s - loss: 4.9850 - psnr: 4.6843 - ssmi: 0.0118 - sharp_diff: 6.19 - ETA: 2s - loss: 4.9845 - psnr: 4.6838 - ssmi: 0.0118 - sharp_diff: 6.19 - ETA: 2s - loss: 4.9828 - psnr: 4.6820 - ssmi: 0.0117 - sharp_diff: 6.19 - ETA: 2s - loss: 4.9798 - psnr: 4.6790 - ssmi: 0.0117 - sharp_diff: 6.19 - ETA: 2s - loss: 4.9776 - psnr: 4.6766 - ssmi: 0.0117 - sharp_diff: 6.19 - ETA: 1s - loss: 4.9766 - psnr: 4.6756 - ssmi: 0.0117 - sharp_diff: 6.19 - ETA: 1s - loss: 4.9767 - psnr: 4.6755 - ssmi: 0.0117 - sharp_diff: 6.19 - ETA: 1s - loss: 4.9779 - psnr: 4.6766 - ssmi: 0.0117 - sharp_diff: 6.19 - ETA: 1s - loss: 4.9766 - psnr: 4.6752 - ssmi: 0.0117 - sharp_diff: 6.19 - ETA: 0s - loss: 4.9768 - psnr: 4.6753 - ssmi: 0.0117 - sharp_diff: 6.19 - ETA: 0s - loss: 4.9746 - psnr: 4.6731 - ssmi: 0.0117 - sharp_diff: 6.19 - ETA: 0s - loss: 4.9778 - psnr: 4.6762 - ssmi: 0.0117 - sharp_diff: 6.19 - 18s 367ms/step - loss: 4.9766 - psnr: 4.6749 - ssmi: 0.0117 - sharp_diff: 6.1992 - val_loss: 5.5017 - val_psnr: 5.3223 - val_ssmi: 0.0889 - val_sharp_diff: 11.0635\n"
     ]
    },
    {
     "data": {
      "application/vnd.jupyter.widget-view+json": {
       "model_id": "",
       "version_major": 2,
       "version_minor": 0
      },
      "text/plain": [
       "HBox(children=(IntProgress(value=0, description='Epoch 7', max=50, style=ProgressStyle(description_width='init…"
      ]
     },
     "metadata": {},
     "output_type": "display_data"
    },
    {
     "name": "stdout",
     "output_type": "stream",
     "text": [
      "Epoch 8/50\n",
      "50/50 [==============================] - ETA: 12s - loss: 4.9999 - psnr: 4.6919 - ssmi: 0.0116 - sharp_diff: 6.177 - ETA: 12s - loss: 4.9792 - psnr: 4.6717 - ssmi: 0.0114 - sharp_diff: 6.164 - ETA: 11s - loss: 4.9680 - psnr: 4.6604 - ssmi: 0.0116 - sharp_diff: 6.152 - ETA: 11s - loss: 4.9633 - psnr: 4.6556 - ssmi: 0.0119 - sharp_diff: 6.151 - ETA: 11s - loss: 4.9551 - psnr: 4.6480 - ssmi: 0.0113 - sharp_diff: 6.175 - ETA: 10s - loss: 4.9652 - psnr: 4.6585 - ssmi: 0.0115 - sharp_diff: 6.192 - ETA: 10s - loss: 4.9398 - psnr: 4.6327 - ssmi: 0.0114 - sharp_diff: 6.178 - ETA: 10s - loss: 4.9461 - psnr: 4.6388 - ssmi: 0.0116 - sharp_diff: 6.177 - ETA: 10s - loss: 4.9167 - psnr: 4.6090 - ssmi: 0.0114 - sharp_diff: 6.154 - ETA: 10s - loss: 4.9254 - psnr: 4.6175 - ssmi: 0.0115 - sharp_diff: 6.153 - ETA: 9s - loss: 4.9141 - psnr: 4.6061 - ssmi: 0.0114 - sharp_diff: 6.147 - ETA: 9s - loss: 4.9029 - psnr: 4.5948 - ssmi: 0.0112 - sharp_diff: 6.15 - ETA: 9s - loss: 4.8960 - psnr: 4.5878 - ssmi: 0.0112 - sharp_diff: 6.14 - ETA: 8s - loss: 4.8968 - psnr: 4.5886 - ssmi: 0.0111 - sharp_diff: 6.15 - ETA: 8s - loss: 4.9106 - psnr: 4.6023 - ssmi: 0.0113 - sharp_diff: 6.15 - ETA: 8s - loss: 4.9153 - psnr: 4.6069 - ssmi: 0.0114 - sharp_diff: 6.15 - ETA: 8s - loss: 4.9158 - psnr: 4.6074 - ssmi: 0.0113 - sharp_diff: 6.15 - ETA: 7s - loss: 4.9170 - psnr: 4.6085 - ssmi: 0.0113 - sharp_diff: 6.16 - ETA: 7s - loss: 4.9217 - psnr: 4.6132 - ssmi: 0.0113 - sharp_diff: 6.16 - ETA: 7s - loss: 4.9207 - psnr: 4.6122 - ssmi: 0.0113 - sharp_diff: 6.16 - ETA: 7s - loss: 4.9200 - psnr: 4.6113 - ssmi: 0.0113 - sharp_diff: 6.16 - ETA: 6s - loss: 4.9179 - psnr: 4.6090 - ssmi: 0.0114 - sharp_diff: 6.16 - ETA: 6s - loss: 4.9176 - psnr: 4.6087 - ssmi: 0.0114 - sharp_diff: 6.16 - ETA: 6s - loss: 4.9176 - psnr: 4.6085 - ssmi: 0.0113 - sharp_diff: 6.16 - ETA: 6s - loss: 4.9148 - psnr: 4.6057 - ssmi: 0.0113 - sharp_diff: 6.15 - ETA: 5s - loss: 4.9169 - psnr: 4.6076 - ssmi: 0.0113 - sharp_diff: 6.15 - ETA: 5s - loss: 4.9194 - psnr: 4.6099 - ssmi: 0.0113 - sharp_diff: 6.15 - ETA: 5s - loss: 4.9187 - psnr: 4.6092 - ssmi: 0.0113 - sharp_diff: 6.15 - ETA: 5s - loss: 4.9181 - psnr: 4.6085 - ssmi: 0.0113 - sharp_diff: 6.15 - ETA: 4s - loss: 4.9197 - psnr: 4.6100 - ssmi: 0.0113 - sharp_diff: 6.15 - ETA: 4s - loss: 4.9168 - psnr: 4.6070 - ssmi: 0.0113 - sharp_diff: 6.15 - ETA: 4s - loss: 4.9211 - psnr: 4.6112 - ssmi: 0.0113 - sharp_diff: 6.15 - ETA: 4s - loss: 4.9183 - psnr: 4.6083 - ssmi: 0.0113 - sharp_diff: 6.15 - ETA: 3s - loss: 4.9189 - psnr: 4.6088 - ssmi: 0.0113 - sharp_diff: 6.15 - ETA: 3s - loss: 4.9151 - psnr: 4.6049 - ssmi: 0.0113 - sharp_diff: 6.15 - ETA: 3s - loss: 4.9173 - psnr: 4.6069 - ssmi: 0.0113 - sharp_diff: 6.15 - ETA: 3s - loss: 4.9158 - psnr: 4.6052 - ssmi: 0.0112 - sharp_diff: 6.15 - ETA: 2s - loss: 4.9145 - psnr: 4.6038 - ssmi: 0.0112 - sharp_diff: 6.15 - ETA: 2s - loss: 4.9134 - psnr: 4.6027 - ssmi: 0.0111 - sharp_diff: 6.15 - ETA: 2s - loss: 4.9118 - psnr: 4.6010 - ssmi: 0.0111 - sharp_diff: 6.15 - ETA: 2s - loss: 4.9083 - psnr: 4.5974 - ssmi: 0.0111 - sharp_diff: 6.15 - ETA: 1s - loss: 4.9079 - psnr: 4.5968 - ssmi: 0.0111 - sharp_diff: 6.15 - ETA: 1s - loss: 4.9091 - psnr: 4.5979 - ssmi: 0.0111 - sharp_diff: 6.15 - ETA: 1s - loss: 4.9086 - psnr: 4.5974 - ssmi: 0.0111 - sharp_diff: 6.15 - ETA: 1s - loss: 4.9062 - psnr: 4.5949 - ssmi: 0.0110 - sharp_diff: 6.14 - ETA: 0s - loss: 4.9044 - psnr: 4.5929 - ssmi: 0.0111 - sharp_diff: 6.14 - ETA: 0s - loss: 4.9043 - psnr: 4.5927 - ssmi: 0.0110 - sharp_diff: 6.14 - ETA: 0s - loss: 4.9038 - psnr: 4.5921 - ssmi: 0.0110 - sharp_diff: 6.14 - ETA: 0s - loss: 4.9045 - psnr: 4.5927 - ssmi: 0.0111 - sharp_diff: 6.14 - 18s 362ms/step - loss: 4.9058 - psnr: 4.5939 - ssmi: 0.0110 - sharp_diff: 6.1456 - val_loss: 5.3410 - val_psnr: 5.1109 - val_ssmi: 0.0799 - val_sharp_diff: 10.9867\n"
     ]
    },
    {
     "data": {
      "application/vnd.jupyter.widget-view+json": {
       "model_id": "",
       "version_major": 2,
       "version_minor": 0
      },
      "text/plain": [
       "HBox(children=(IntProgress(value=0, description='Epoch 8', max=50, style=ProgressStyle(description_width='init…"
      ]
     },
     "metadata": {},
     "output_type": "display_data"
    },
    {
     "name": "stdout",
     "output_type": "stream",
     "text": [
      "Epoch 9/50\n",
      "50/50 [==============================] - ETA: 12s - loss: 4.8113 - psnr: 4.4930 - ssmi: 0.0108 - sharp_diff: 6.095 - ETA: 12s - loss: 4.8737 - psnr: 4.5555 - ssmi: 0.0119 - sharp_diff: 6.125 - ETA: 11s - loss: 4.8608 - psnr: 4.5434 - ssmi: 0.0118 - sharp_diff: 6.178 - ETA: 11s - loss: 4.8855 - psnr: 4.5681 - ssmi: 0.0119 - sharp_diff: 6.178 - ETA: 11s - loss: 4.8972 - psnr: 4.5795 - ssmi: 0.0120 - sharp_diff: 6.153 - ETA: 11s - loss: 4.8980 - psnr: 4.5802 - ssmi: 0.0121 - sharp_diff: 6.149 - ETA: 10s - loss: 4.8819 - psnr: 4.5636 - ssmi: 0.0109 - sharp_diff: 6.150 - ETA: 10s - loss: 4.8949 - psnr: 4.5766 - ssmi: 0.0109 - sharp_diff: 6.149 - ETA: 10s - loss: 4.8758 - psnr: 4.5576 - ssmi: 0.0107 - sharp_diff: 6.154 - ETA: 10s - loss: 4.8632 - psnr: 4.5448 - ssmi: 0.0104 - sharp_diff: 6.145 - ETA: 9s - loss: 4.8686 - psnr: 4.5500 - ssmi: 0.0104 - sharp_diff: 6.142 - ETA: 9s - loss: 4.8614 - psnr: 4.5427 - ssmi: 0.0105 - sharp_diff: 6.14 - ETA: 9s - loss: 4.8614 - psnr: 4.5427 - ssmi: 0.0105 - sharp_diff: 6.14 - ETA: 9s - loss: 4.8603 - psnr: 4.5415 - ssmi: 0.0105 - sharp_diff: 6.13 - ETA: 8s - loss: 4.8624 - psnr: 4.5435 - ssmi: 0.0105 - sharp_diff: 6.13 - ETA: 8s - loss: 4.8656 - psnr: 4.5466 - ssmi: 0.0106 - sharp_diff: 6.13 - ETA: 8s - loss: 4.8697 - psnr: 4.5506 - ssmi: 0.0106 - sharp_diff: 6.13 - ETA: 8s - loss: 4.8644 - psnr: 4.5451 - ssmi: 0.0106 - sharp_diff: 6.12 - ETA: 7s - loss: 4.8644 - psnr: 4.5450 - ssmi: 0.0107 - sharp_diff: 6.12 - ETA: 7s - loss: 4.8654 - psnr: 4.5459 - ssmi: 0.0108 - sharp_diff: 6.12 - ETA: 7s - loss: 4.8696 - psnr: 4.5500 - ssmi: 0.0109 - sharp_diff: 6.12 - ETA: 7s - loss: 4.8710 - psnr: 4.5513 - ssmi: 0.0109 - sharp_diff: 6.12 - ETA: 6s - loss: 4.8673 - psnr: 4.5474 - ssmi: 0.0108 - sharp_diff: 6.12 - ETA: 6s - loss: 4.8683 - psnr: 4.5483 - ssmi: 0.0108 - sharp_diff: 6.11 - ETA: 6s - loss: 4.8648 - psnr: 4.5447 - ssmi: 0.0108 - sharp_diff: 6.11 - ETA: 6s - loss: 4.8670 - psnr: 4.5467 - ssmi: 0.0108 - sharp_diff: 6.11 - ETA: 5s - loss: 4.8686 - psnr: 4.5482 - ssmi: 0.0108 - sharp_diff: 6.11 - ETA: 5s - loss: 4.8659 - psnr: 4.5454 - ssmi: 0.0108 - sharp_diff: 6.11 - ETA: 5s - loss: 4.8648 - psnr: 4.5443 - ssmi: 0.0108 - sharp_diff: 6.11 - ETA: 5s - loss: 4.8624 - psnr: 4.5418 - ssmi: 0.0108 - sharp_diff: 6.11 - ETA: 4s - loss: 4.8523 - psnr: 4.5315 - ssmi: 0.0111 - sharp_diff: 6.11 - ETA: 4s - loss: 4.8505 - psnr: 4.5297 - ssmi: 0.0111 - sharp_diff: 6.11 - ETA: 4s - loss: 4.8486 - psnr: 4.5277 - ssmi: 0.0111 - sharp_diff: 6.11 - ETA: 4s - loss: 4.8486 - psnr: 4.5276 - ssmi: 0.0111 - sharp_diff: 6.10 - ETA: 3s - loss: 4.8464 - psnr: 4.5253 - ssmi: 0.0110 - sharp_diff: 6.10 - ETA: 3s - loss: 4.8472 - psnr: 4.5260 - ssmi: 0.0111 - sharp_diff: 6.11 - ETA: 3s - loss: 4.8473 - psnr: 4.5261 - ssmi: 0.0111 - sharp_diff: 6.11 - ETA: 3s - loss: 4.8462 - psnr: 4.5248 - ssmi: 0.0110 - sharp_diff: 6.11 - ETA: 2s - loss: 4.8504 - psnr: 4.5289 - ssmi: 0.0110 - sharp_diff: 6.11 - ETA: 2s - loss: 4.8518 - psnr: 4.5301 - ssmi: 0.0110 - sharp_diff: 6.10 - ETA: 2s - loss: 4.8472 - psnr: 4.5255 - ssmi: 0.0109 - sharp_diff: 6.10 - ETA: 2s - loss: 4.8459 - psnr: 4.5241 - ssmi: 0.0110 - sharp_diff: 6.10 - ETA: 1s - loss: 4.8438 - psnr: 4.5219 - ssmi: 0.0110 - sharp_diff: 6.10 - ETA: 1s - loss: 4.8446 - psnr: 4.5225 - ssmi: 0.0109 - sharp_diff: 6.10 - ETA: 1s - loss: 4.8446 - psnr: 4.5224 - ssmi: 0.0109 - sharp_diff: 6.10 - ETA: 1s - loss: 4.8460 - psnr: 4.5237 - ssmi: 0.0110 - sharp_diff: 6.10 - ETA: 0s - loss: 4.8457 - psnr: 4.5233 - ssmi: 0.0109 - sharp_diff: 6.10 - ETA: 0s - loss: 4.8459 - psnr: 4.5234 - ssmi: 0.0110 - sharp_diff: 6.10 - ETA: 0s - loss: 4.8466 - psnr: 4.5240 - ssmi: 0.0110 - sharp_diff: 6.10 - 18s 366ms/step - loss: 4.8449 - psnr: 4.5221 - ssmi: 0.0110 - sharp_diff: 6.1044 - val_loss: 5.2033 - val_psnr: 4.9692 - val_ssmi: 0.0819 - val_sharp_diff: 11.0144\n"
     ]
    },
    {
     "data": {
      "application/vnd.jupyter.widget-view+json": {
       "model_id": "",
       "version_major": 2,
       "version_minor": 0
      },
      "text/plain": [
       "HBox(children=(IntProgress(value=0, description='Epoch 9', max=50, style=ProgressStyle(description_width='init…"
      ]
     },
     "metadata": {},
     "output_type": "display_data"
    },
    {
     "name": "stdout",
     "output_type": "stream",
     "text": [
      "Epoch 10/50\n",
      "50/50 [==============================] - ETA: 12s - loss: 4.9260 - psnr: 4.5967 - ssmi: 0.0139 - sharp_diff: 6.045 - ETA: 12s - loss: 4.8587 - psnr: 4.5298 - ssmi: 0.0118 - sharp_diff: 6.071 - ETA: 11s - loss: 4.8281 - psnr: 4.4991 - ssmi: 0.0113 - sharp_diff: 6.070 - ETA: 11s - loss: 4.8280 - psnr: 4.4987 - ssmi: 0.0109 - sharp_diff: 6.062 - ETA: 11s - loss: 4.7422 - psnr: 4.4129 - ssmi: 0.0096 - sharp_diff: 6.022 - ETA: 11s - loss: 4.7493 - psnr: 4.4199 - ssmi: 0.0095 - sharp_diff: 6.022 - ETA: 10s - loss: 4.7596 - psnr: 4.4302 - ssmi: 0.0096 - sharp_diff: 6.034 - ETA: 10s - loss: 4.7606 - psnr: 4.4312 - ssmi: 0.0096 - sharp_diff: 6.042 - ETA: 10s - loss: 4.7752 - psnr: 4.4456 - ssmi: 0.0095 - sharp_diff: 6.041 - ETA: 10s - loss: 4.7755 - psnr: 4.4459 - ssmi: 0.0094 - sharp_diff: 6.047 - ETA: 9s - loss: 4.7643 - psnr: 4.4344 - ssmi: 0.0094 - sharp_diff: 6.045 - ETA: 9s - loss: 4.7615 - psnr: 4.4315 - ssmi: 0.0094 - sharp_diff: 6.04 - ETA: 9s - loss: 4.7620 - psnr: 4.4319 - ssmi: 0.0094 - sharp_diff: 6.04 - ETA: 9s - loss: 4.7585 - psnr: 4.4283 - ssmi: 0.0093 - sharp_diff: 6.04 - ETA: 8s - loss: 4.7600 - psnr: 4.4295 - ssmi: 0.0093 - sharp_diff: 6.04 - ETA: 8s - loss: 4.7663 - psnr: 4.4357 - ssmi: 0.0096 - sharp_diff: 6.03 - ETA: 8s - loss: 4.7668 - psnr: 4.4360 - ssmi: 0.0095 - sharp_diff: 6.03 - ETA: 8s - loss: 4.7704 - psnr: 4.4397 - ssmi: 0.0097 - sharp_diff: 6.03 - ETA: 7s - loss: 4.7758 - psnr: 4.4450 - ssmi: 0.0098 - sharp_diff: 6.04 - ETA: 7s - loss: 4.7765 - psnr: 4.4455 - ssmi: 0.0098 - sharp_diff: 6.04 - ETA: 7s - loss: 4.7839 - psnr: 4.4528 - ssmi: 0.0099 - sharp_diff: 6.04 - ETA: 7s - loss: 4.7901 - psnr: 4.4590 - ssmi: 0.0100 - sharp_diff: 6.04 - ETA: 6s - loss: 4.7848 - psnr: 4.4536 - ssmi: 0.0100 - sharp_diff: 6.04 - ETA: 6s - loss: 4.7810 - psnr: 4.4497 - ssmi: 0.0099 - sharp_diff: 6.04 - ETA: 6s - loss: 4.7843 - psnr: 4.4529 - ssmi: 0.0100 - sharp_diff: 6.04 - ETA: 6s - loss: 4.7881 - psnr: 4.4565 - ssmi: 0.0101 - sharp_diff: 6.04 - ETA: 5s - loss: 4.7872 - psnr: 4.4555 - ssmi: 0.0101 - sharp_diff: 6.04 - ETA: 5s - loss: 4.7886 - psnr: 4.4568 - ssmi: 0.0101 - sharp_diff: 6.04 - ETA: 5s - loss: 4.7962 - psnr: 4.4643 - ssmi: 0.0104 - sharp_diff: 6.04 - ETA: 5s - loss: 4.7956 - psnr: 4.4637 - ssmi: 0.0103 - sharp_diff: 6.04 - ETA: 4s - loss: 4.7942 - psnr: 4.4622 - ssmi: 0.0103 - sharp_diff: 6.04 - ETA: 4s - loss: 4.7915 - psnr: 4.4593 - ssmi: 0.0103 - sharp_diff: 6.04 - ETA: 4s - loss: 4.7899 - psnr: 4.4576 - ssmi: 0.0103 - sharp_diff: 6.04 - ETA: 4s - loss: 4.7921 - psnr: 4.4597 - ssmi: 0.0103 - sharp_diff: 6.04 - ETA: 3s - loss: 4.7921 - psnr: 4.4596 - ssmi: 0.0103 - sharp_diff: 6.04 - ETA: 3s - loss: 4.7915 - psnr: 4.4589 - ssmi: 0.0103 - sharp_diff: 6.04 - ETA: 3s - loss: 4.7909 - psnr: 4.4582 - ssmi: 0.0103 - sharp_diff: 6.04 - ETA: 3s - loss: 4.7905 - psnr: 4.4576 - ssmi: 0.0103 - sharp_diff: 6.04 - ETA: 2s - loss: 4.7871 - psnr: 4.4541 - ssmi: 0.0103 - sharp_diff: 6.04 - ETA: 2s - loss: 4.7916 - psnr: 4.4585 - ssmi: 0.0103 - sharp_diff: 6.04 - ETA: 2s - loss: 4.7870 - psnr: 4.4538 - ssmi: 0.0103 - sharp_diff: 6.04 - ETA: 2s - loss: 4.7872 - psnr: 4.4539 - ssmi: 0.0102 - sharp_diff: 6.04 - ETA: 1s - loss: 4.7876 - psnr: 4.4542 - ssmi: 0.0103 - sharp_diff: 6.04 - ETA: 1s - loss: 4.7860 - psnr: 4.4524 - ssmi: 0.0103 - sharp_diff: 6.04 - ETA: 1s - loss: 4.7875 - psnr: 4.4538 - ssmi: 0.0103 - sharp_diff: 6.04 - ETA: 1s - loss: 4.7891 - psnr: 4.4554 - ssmi: 0.0103 - sharp_diff: 6.04 - ETA: 0s - loss: 4.7872 - psnr: 4.4534 - ssmi: 0.0103 - sharp_diff: 6.04 - ETA: 0s - loss: 4.7860 - psnr: 4.4521 - ssmi: 0.0103 - sharp_diff: 6.04 - ETA: 0s - loss: 4.7869 - psnr: 4.4528 - ssmi: 0.0104 - sharp_diff: 6.04 - 18s 370ms/step - loss: 4.7877 - psnr: 4.4536 - ssmi: 0.0104 - sharp_diff: 6.0454 - val_loss: 5.0551 - val_psnr: 4.7815 - val_ssmi: 0.0738 - val_sharp_diff: 10.9799\n"
     ]
    },
    {
     "data": {
      "application/vnd.jupyter.widget-view+json": {
       "model_id": "",
       "version_major": 2,
       "version_minor": 0
      },
      "text/plain": [
       "HBox(children=(IntProgress(value=0, description='Epoch 10', max=50, style=ProgressStyle(description_width='ini…"
      ]
     },
     "metadata": {},
     "output_type": "display_data"
    },
    {
     "name": "stdout",
     "output_type": "stream",
     "text": [
      "Epoch 11/50\n",
      "50/50 [==============================] - ETA: 12s - loss: 4.8298 - psnr: 4.4893 - ssmi: 0.0092 - sharp_diff: 6.042 - ETA: 12s - loss: 4.7450 - psnr: 4.4046 - ssmi: 0.0097 - sharp_diff: 6.008 - ETA: 12s - loss: 4.7776 - psnr: 4.4370 - ssmi: 0.0120 - sharp_diff: 5.978 - ETA: 11s - loss: 4.7779 - psnr: 4.4374 - ssmi: 0.0114 - sharp_diff: 5.995 - ETA: 11s - loss: 4.7725 - psnr: 4.4318 - ssmi: 0.0111 - sharp_diff: 6.002 - ETA: 11s - loss: 4.7608 - psnr: 4.4199 - ssmi: 0.0107 - sharp_diff: 5.993 - ETA: 10s - loss: 4.7643 - psnr: 4.4232 - ssmi: 0.0107 - sharp_diff: 5.997 - ETA: 10s - loss: 4.7788 - psnr: 4.4377 - ssmi: 0.0107 - sharp_diff: 6.000 - ETA: 10s - loss: 4.7648 - psnr: 4.4236 - ssmi: 0.0105 - sharp_diff: 6.002 - ETA: 10s - loss: 4.7605 - psnr: 4.4193 - ssmi: 0.0104 - sharp_diff: 6.004 - ETA: 10s - loss: 4.7678 - psnr: 4.4264 - ssmi: 0.0106 - sharp_diff: 6.005 - ETA: 9s - loss: 4.7631 - psnr: 4.4216 - ssmi: 0.0104 - sharp_diff: 6.010 - ETA: 9s - loss: 4.7641 - psnr: 4.4225 - ssmi: 0.0105 - sharp_diff: 6.01 - ETA: 9s - loss: 4.7682 - psnr: 4.4265 - ssmi: 0.0105 - sharp_diff: 6.00 - ETA: 8s - loss: 4.7633 - psnr: 4.4215 - ssmi: 0.0104 - sharp_diff: 6.01 - ETA: 8s - loss: 4.7603 - psnr: 4.4184 - ssmi: 0.0104 - sharp_diff: 6.01 - ETA: 8s - loss: 4.7572 - psnr: 4.4152 - ssmi: 0.0103 - sharp_diff: 6.00 - ETA: 8s - loss: 4.7607 - psnr: 4.4187 - ssmi: 0.0104 - sharp_diff: 6.00 - ETA: 7s - loss: 4.7567 - psnr: 4.4145 - ssmi: 0.0104 - sharp_diff: 6.01 - ETA: 7s - loss: 4.7539 - psnr: 4.4116 - ssmi: 0.0103 - sharp_diff: 6.01 - ETA: 7s - loss: 4.7537 - psnr: 4.4113 - ssmi: 0.0102 - sharp_diff: 6.00 - ETA: 7s - loss: 4.7515 - psnr: 4.4089 - ssmi: 0.0102 - sharp_diff: 6.00 - ETA: 6s - loss: 4.7471 - psnr: 4.4044 - ssmi: 0.0102 - sharp_diff: 6.00 - ETA: 6s - loss: 4.7474 - psnr: 4.4046 - ssmi: 0.0102 - sharp_diff: 6.00 - ETA: 6s - loss: 4.7414 - psnr: 4.3984 - ssmi: 0.0101 - sharp_diff: 6.00 - ETA: 6s - loss: 4.7430 - psnr: 4.3999 - ssmi: 0.0101 - sharp_diff: 6.00 - ETA: 5s - loss: 4.7710 - psnr: 4.4278 - ssmi: 0.0104 - sharp_diff: 6.00 - ETA: 5s - loss: 4.7660 - psnr: 4.4226 - ssmi: 0.0103 - sharp_diff: 6.00 - ETA: 5s - loss: 4.7668 - psnr: 4.4233 - ssmi: 0.0103 - sharp_diff: 6.00 - ETA: 5s - loss: 4.7682 - psnr: 4.4246 - ssmi: 0.0103 - sharp_diff: 6.00 - ETA: 4s - loss: 4.7633 - psnr: 4.4196 - ssmi: 0.0102 - sharp_diff: 5.99 - ETA: 4s - loss: 4.7639 - psnr: 4.4201 - ssmi: 0.0102 - sharp_diff: 6.00 - ETA: 4s - loss: 4.7619 - psnr: 4.4179 - ssmi: 0.0103 - sharp_diff: 6.00 - ETA: 4s - loss: 4.7630 - psnr: 4.4190 - ssmi: 0.0103 - sharp_diff: 6.00 - ETA: 3s - loss: 4.7613 - psnr: 4.4171 - ssmi: 0.0103 - sharp_diff: 6.00 - ETA: 3s - loss: 4.7581 - psnr: 4.4138 - ssmi: 0.0102 - sharp_diff: 6.00 - ETA: 3s - loss: 4.7586 - psnr: 4.4142 - ssmi: 0.0102 - sharp_diff: 6.00 - ETA: 3s - loss: 4.7570 - psnr: 4.4124 - ssmi: 0.0101 - sharp_diff: 6.00 - ETA: 2s - loss: 4.7552 - psnr: 4.4106 - ssmi: 0.0101 - sharp_diff: 6.00 - ETA: 2s - loss: 4.7530 - psnr: 4.4083 - ssmi: 0.0101 - sharp_diff: 6.00 - ETA: 2s - loss: 4.7521 - psnr: 4.4072 - ssmi: 0.0101 - sharp_diff: 6.00 - ETA: 2s - loss: 4.7482 - psnr: 4.4032 - ssmi: 0.0100 - sharp_diff: 5.99 - ETA: 1s - loss: 4.7481 - psnr: 4.4029 - ssmi: 0.0100 - sharp_diff: 5.99 - ETA: 1s - loss: 4.7477 - psnr: 4.4024 - ssmi: 0.0101 - sharp_diff: 5.99 - ETA: 1s - loss: 4.7478 - psnr: 4.4024 - ssmi: 0.0101 - sharp_diff: 5.99 - ETA: 1s - loss: 4.7465 - psnr: 4.4010 - ssmi: 0.0101 - sharp_diff: 5.99 - ETA: 0s - loss: 4.7452 - psnr: 4.3995 - ssmi: 0.0101 - sharp_diff: 5.99 - ETA: 0s - loss: 4.7431 - psnr: 4.3973 - ssmi: 0.0100 - sharp_diff: 5.99 - ETA: 0s - loss: 4.7435 - psnr: 4.3976 - ssmi: 0.0100 - sharp_diff: 5.99 - 19s 387ms/step - loss: 4.7440 - psnr: 4.3979 - ssmi: 0.0100 - sharp_diff: 5.9919 - val_loss: 4.8234 - val_psnr: 4.5437 - val_ssmi: 0.0749 - val_sharp_diff: 11.0052\n"
     ]
    },
    {
     "data": {
      "application/vnd.jupyter.widget-view+json": {
       "model_id": "",
       "version_major": 2,
       "version_minor": 0
      },
      "text/plain": [
       "HBox(children=(IntProgress(value=0, description='Epoch 11', max=50, style=ProgressStyle(description_width='ini…"
      ]
     },
     "metadata": {},
     "output_type": "display_data"
    },
    {
     "name": "stdout",
     "output_type": "stream",
     "text": [
      "Epoch 12/50\n",
      "50/50 [==============================] - ETA: 13s - loss: 5.1663 - psnr: 4.8166 - ssmi: 0.0218 - sharp_diff: 5.843 - ETA: 12s - loss: 4.8912 - psnr: 4.5401 - ssmi: 0.0157 - sharp_diff: 5.903 - ETA: 12s - loss: 4.8443 - psnr: 4.4929 - ssmi: 0.0139 - sharp_diff: 5.942 - ETA: 12s - loss: 4.8085 - psnr: 4.4566 - ssmi: 0.0127 - sharp_diff: 5.944 - ETA: 11s - loss: 4.7838 - psnr: 4.4317 - ssmi: 0.0118 - sharp_diff: 5.957 - ETA: 11s - loss: 4.7569 - psnr: 4.4043 - ssmi: 0.0114 - sharp_diff: 5.947 - ETA: 11s - loss: 4.7581 - psnr: 4.4053 - ssmi: 0.0114 - sharp_diff: 5.948 - ETA: 10s - loss: 4.7438 - psnr: 4.3912 - ssmi: 0.0111 - sharp_diff: 5.967 - ETA: 10s - loss: 4.7536 - psnr: 4.4011 - ssmi: 0.0112 - sharp_diff: 5.972 - ETA: 10s - loss: 4.7407 - psnr: 4.3880 - ssmi: 0.0108 - sharp_diff: 5.972 - ETA: 9s - loss: 4.7370 - psnr: 4.3843 - ssmi: 0.0106 - sharp_diff: 5.973 - ETA: 9s - loss: 4.7427 - psnr: 4.3899 - ssmi: 0.0106 - sharp_diff: 5.97 - ETA: 9s - loss: 4.7293 - psnr: 4.3763 - ssmi: 0.0105 - sharp_diff: 5.97 - ETA: 9s - loss: 4.7291 - psnr: 4.3759 - ssmi: 0.0103 - sharp_diff: 5.97 - ETA: 8s - loss: 4.7288 - psnr: 4.3755 - ssmi: 0.0103 - sharp_diff: 5.96 - ETA: 8s - loss: 4.7157 - psnr: 4.3622 - ssmi: 0.0102 - sharp_diff: 5.96 - ETA: 8s - loss: 4.7153 - psnr: 4.3617 - ssmi: 0.0103 - sharp_diff: 5.96 - ETA: 8s - loss: 4.7214 - psnr: 4.3677 - ssmi: 0.0104 - sharp_diff: 5.96 - ETA: 7s - loss: 4.7172 - psnr: 4.3633 - ssmi: 0.0103 - sharp_diff: 5.96 - ETA: 7s - loss: 4.7127 - psnr: 4.3586 - ssmi: 0.0102 - sharp_diff: 5.95 - ETA: 7s - loss: 4.7125 - psnr: 4.3583 - ssmi: 0.0102 - sharp_diff: 5.95 - ETA: 7s - loss: 4.7078 - psnr: 4.3534 - ssmi: 0.0101 - sharp_diff: 5.95 - ETA: 6s - loss: 4.7074 - psnr: 4.3528 - ssmi: 0.0100 - sharp_diff: 5.94 - ETA: 6s - loss: 4.7071 - psnr: 4.3524 - ssmi: 0.0100 - sharp_diff: 5.95 - ETA: 6s - loss: 4.7212 - psnr: 4.3663 - ssmi: 0.0101 - sharp_diff: 5.94 - ETA: 6s - loss: 4.7161 - psnr: 4.3611 - ssmi: 0.0101 - sharp_diff: 5.94 - ETA: 5s - loss: 4.7113 - psnr: 4.3561 - ssmi: 0.0101 - sharp_diff: 5.94 - ETA: 5s - loss: 4.7114 - psnr: 4.3561 - ssmi: 0.0100 - sharp_diff: 5.94 - ETA: 5s - loss: 4.7102 - psnr: 4.3547 - ssmi: 0.0100 - sharp_diff: 5.93 - ETA: 5s - loss: 4.7116 - psnr: 4.3560 - ssmi: 0.0100 - sharp_diff: 5.94 - ETA: 4s - loss: 4.7135 - psnr: 4.3579 - ssmi: 0.0101 - sharp_diff: 5.94 - ETA: 4s - loss: 4.7117 - psnr: 4.3560 - ssmi: 0.0100 - sharp_diff: 5.94 - ETA: 4s - loss: 4.7128 - psnr: 4.3569 - ssmi: 0.0100 - sharp_diff: 5.94 - ETA: 4s - loss: 4.7111 - psnr: 4.3551 - ssmi: 0.0099 - sharp_diff: 5.94 - ETA: 3s - loss: 4.7096 - psnr: 4.3535 - ssmi: 0.0099 - sharp_diff: 5.94 - ETA: 3s - loss: 4.7080 - psnr: 4.3518 - ssmi: 0.0099 - sharp_diff: 5.94 - ETA: 3s - loss: 4.7066 - psnr: 4.3502 - ssmi: 0.0098 - sharp_diff: 5.94 - ETA: 3s - loss: 4.7017 - psnr: 4.3452 - ssmi: 0.0098 - sharp_diff: 5.94 - ETA: 2s - loss: 4.7034 - psnr: 4.3468 - ssmi: 0.0098 - sharp_diff: 5.94 - ETA: 2s - loss: 4.7007 - psnr: 4.3440 - ssmi: 0.0097 - sharp_diff: 5.94 - ETA: 2s - loss: 4.6995 - psnr: 4.3426 - ssmi: 0.0097 - sharp_diff: 5.94 - ETA: 2s - loss: 4.6992 - psnr: 4.3422 - ssmi: 0.0097 - sharp_diff: 5.94 - ETA: 1s - loss: 4.6981 - psnr: 4.3410 - ssmi: 0.0097 - sharp_diff: 5.94 - ETA: 1s - loss: 4.6950 - psnr: 4.3378 - ssmi: 0.0096 - sharp_diff: 5.94 - ETA: 1s - loss: 4.6972 - psnr: 4.3398 - ssmi: 0.0097 - sharp_diff: 5.94 - ETA: 1s - loss: 4.6958 - psnr: 4.3382 - ssmi: 0.0096 - sharp_diff: 5.93 - ETA: 0s - loss: 4.6933 - psnr: 4.3357 - ssmi: 0.0096 - sharp_diff: 5.94 - ETA: 0s - loss: 4.6935 - psnr: 4.3357 - ssmi: 0.0097 - sharp_diff: 5.94 - ETA: 0s - loss: 4.6972 - psnr: 4.3393 - ssmi: 0.0099 - sharp_diff: 5.94 - 18s 364ms/step - loss: 4.6997 - psnr: 4.3417 - ssmi: 0.0099 - sharp_diff: 5.9405 - val_loss: 4.7904 - val_psnr: 4.4962 - val_ssmi: 0.0722 - val_sharp_diff: 11.0132\n"
     ]
    },
    {
     "data": {
      "application/vnd.jupyter.widget-view+json": {
       "model_id": "",
       "version_major": 2,
       "version_minor": 0
      },
      "text/plain": [
       "HBox(children=(IntProgress(value=0, description='Epoch 12', max=50, style=ProgressStyle(description_width='ini…"
      ]
     },
     "metadata": {},
     "output_type": "display_data"
    },
    {
     "name": "stdout",
     "output_type": "stream",
     "text": [
      "Epoch 13/50\n",
      "50/50 [==============================] - ETA: 12s - loss: 4.6549 - psnr: 4.2909 - ssmi: 0.0084 - sharp_diff: 5.956 - ETA: 12s - loss: 4.6168 - psnr: 4.2523 - ssmi: 0.0088 - sharp_diff: 5.912 - ETA: 11s - loss: 4.6336 - psnr: 4.2691 - ssmi: 0.0093 - sharp_diff: 5.912 - ETA: 11s - loss: 4.6533 - psnr: 4.2891 - ssmi: 0.0093 - sharp_diff: 5.926 - ETA: 11s - loss: 4.6549 - psnr: 4.2904 - ssmi: 0.0097 - sharp_diff: 5.917 - ETA: 11s - loss: 4.6504 - psnr: 4.2856 - ssmi: 0.0095 - sharp_diff: 5.914 - ETA: 10s - loss: 4.6437 - psnr: 4.2786 - ssmi: 0.0093 - sharp_diff: 5.903 - ETA: 10s - loss: 4.6508 - psnr: 4.2854 - ssmi: 0.0093 - sharp_diff: 5.901 - ETA: 10s - loss: 4.6389 - psnr: 4.2734 - ssmi: 0.0090 - sharp_diff: 5.900 - ETA: 10s - loss: 4.6427 - psnr: 4.2772 - ssmi: 0.0090 - sharp_diff: 5.914 - ETA: 9s - loss: 4.6391 - psnr: 4.2736 - ssmi: 0.0090 - sharp_diff: 5.918 - ETA: 9s - loss: 4.6489 - psnr: 4.2834 - ssmi: 0.0092 - sharp_diff: 5.91 - ETA: 9s - loss: 4.6286 - psnr: 4.2628 - ssmi: 0.0089 - sharp_diff: 5.90 - ETA: 9s - loss: 4.6312 - psnr: 4.2652 - ssmi: 0.0089 - sharp_diff: 5.90 - ETA: 8s - loss: 4.6285 - psnr: 4.2624 - ssmi: 0.0089 - sharp_diff: 5.90 - ETA: 8s - loss: 4.6310 - psnr: 4.2648 - ssmi: 0.0090 - sharp_diff: 5.90 - ETA: 8s - loss: 4.6285 - psnr: 4.2622 - ssmi: 0.0091 - sharp_diff: 5.90 - ETA: 8s - loss: 4.6329 - psnr: 4.2665 - ssmi: 0.0091 - sharp_diff: 5.90 - ETA: 7s - loss: 4.6352 - psnr: 4.2687 - ssmi: 0.0091 - sharp_diff: 5.90 - ETA: 7s - loss: 4.6300 - psnr: 4.2633 - ssmi: 0.0091 - sharp_diff: 5.90 - ETA: 7s - loss: 4.6334 - psnr: 4.2666 - ssmi: 0.0090 - sharp_diff: 5.90 - ETA: 7s - loss: 4.6294 - psnr: 4.2625 - ssmi: 0.0091 - sharp_diff: 5.90 - ETA: 6s - loss: 4.6483 - psnr: 4.2813 - ssmi: 0.0093 - sharp_diff: 5.90 - ETA: 6s - loss: 4.6459 - psnr: 4.2787 - ssmi: 0.0093 - sharp_diff: 5.90 - ETA: 6s - loss: 4.6446 - psnr: 4.2773 - ssmi: 0.0092 - sharp_diff: 5.90 - ETA: 6s - loss: 4.6455 - psnr: 4.2780 - ssmi: 0.0092 - sharp_diff: 5.89 - ETA: 5s - loss: 4.6406 - psnr: 4.2731 - ssmi: 0.0092 - sharp_diff: 5.90 - ETA: 5s - loss: 4.6380 - psnr: 4.2703 - ssmi: 0.0092 - sharp_diff: 5.89 - ETA: 5s - loss: 4.6338 - psnr: 4.2660 - ssmi: 0.0091 - sharp_diff: 5.89 - ETA: 4s - loss: 4.6303 - psnr: 4.2624 - ssmi: 0.0091 - sharp_diff: 5.89 - ETA: 4s - loss: 4.6279 - psnr: 4.2598 - ssmi: 0.0090 - sharp_diff: 5.89 - ETA: 4s - loss: 4.6262 - psnr: 4.2580 - ssmi: 0.0090 - sharp_diff: 5.89 - ETA: 4s - loss: 4.6284 - psnr: 4.2600 - ssmi: 0.0090 - sharp_diff: 5.89 - ETA: 4s - loss: 4.6283 - psnr: 4.2598 - ssmi: 0.0091 - sharp_diff: 5.89 - ETA: 3s - loss: 4.6293 - psnr: 4.2607 - ssmi: 0.0090 - sharp_diff: 5.89 - ETA: 3s - loss: 4.6301 - psnr: 4.2614 - ssmi: 0.0090 - sharp_diff: 5.89 - ETA: 3s - loss: 4.6291 - psnr: 4.2603 - ssmi: 0.0090 - sharp_diff: 5.89 - ETA: 3s - loss: 4.6279 - psnr: 4.2590 - ssmi: 0.0089 - sharp_diff: 5.89 - ETA: 2s - loss: 4.6271 - psnr: 4.2581 - ssmi: 0.0090 - sharp_diff: 5.89 - ETA: 2s - loss: 4.6285 - psnr: 4.2593 - ssmi: 0.0090 - sharp_diff: 5.89 - ETA: 2s - loss: 4.6262 - psnr: 4.2568 - ssmi: 0.0090 - sharp_diff: 5.89 - ETA: 2s - loss: 4.6272 - psnr: 4.2577 - ssmi: 0.0090 - sharp_diff: 5.89 - ETA: 1s - loss: 4.6279 - psnr: 4.2583 - ssmi: 0.0090 - sharp_diff: 5.89 - ETA: 1s - loss: 4.6285 - psnr: 4.2587 - ssmi: 0.0091 - sharp_diff: 5.89 - ETA: 1s - loss: 4.6293 - psnr: 4.2594 - ssmi: 0.0091 - sharp_diff: 5.89 - ETA: 1s - loss: 4.6278 - psnr: 4.2578 - ssmi: 0.0091 - sharp_diff: 5.89 - ETA: 0s - loss: 4.6301 - psnr: 4.2600 - ssmi: 0.0090 - sharp_diff: 5.89 - ETA: 0s - loss: 4.6300 - psnr: 4.2597 - ssmi: 0.0090 - sharp_diff: 5.89 - ETA: 0s - loss: 4.6285 - psnr: 4.2581 - ssmi: 0.0090 - sharp_diff: 5.89 - 18s 363ms/step - loss: 4.6302 - psnr: 4.2597 - ssmi: 0.0090 - sharp_diff: 5.8897 - val_loss: 4.6690 - val_psnr: 4.3637 - val_ssmi: 0.0724 - val_sharp_diff: 11.0323\n"
     ]
    },
    {
     "data": {
      "application/vnd.jupyter.widget-view+json": {
       "model_id": "",
       "version_major": 2,
       "version_minor": 0
      },
      "text/plain": [
       "HBox(children=(IntProgress(value=0, description='Epoch 13', max=50, style=ProgressStyle(description_width='ini…"
      ]
     },
     "metadata": {},
     "output_type": "display_data"
    },
    {
     "name": "stdout",
     "output_type": "stream",
     "text": [
      "Epoch 14/50\n",
      "50/50 [==============================] - ETA: 12s - loss: 4.5892 - psnr: 4.2119 - ssmi: 0.0083 - sharp_diff: 5.863 - ETA: 12s - loss: 4.5937 - psnr: 4.2172 - ssmi: 0.0075 - sharp_diff: 5.894 - ETA: 11s - loss: 4.5963 - psnr: 4.2195 - ssmi: 0.0078 - sharp_diff: 5.894 - ETA: 11s - loss: 4.6069 - psnr: 4.2297 - ssmi: 0.0082 - sharp_diff: 5.876 - ETA: 11s - loss: 4.6133 - psnr: 4.2359 - ssmi: 0.0086 - sharp_diff: 5.869 - ETA: 11s - loss: 4.5935 - psnr: 4.2160 - ssmi: 0.0085 - sharp_diff: 5.863 - ETA: 10s - loss: 4.5972 - psnr: 4.2193 - ssmi: 0.0085 - sharp_diff: 5.858 - ETA: 10s - loss: 4.5963 - psnr: 4.2183 - ssmi: 0.0086 - sharp_diff: 5.857 - ETA: 10s - loss: 4.6015 - psnr: 4.2235 - ssmi: 0.0087 - sharp_diff: 5.866 - ETA: 10s - loss: 4.6002 - psnr: 4.2221 - ssmi: 0.0088 - sharp_diff: 5.866 - ETA: 9s - loss: 4.5961 - psnr: 4.2177 - ssmi: 0.0088 - sharp_diff: 5.858 - ETA: 9s - loss: 4.5931 - psnr: 4.2145 - ssmi: 0.0089 - sharp_diff: 5.85 - ETA: 9s - loss: 4.5900 - psnr: 4.2112 - ssmi: 0.0087 - sharp_diff: 5.85 - ETA: 9s - loss: 4.5886 - psnr: 4.2098 - ssmi: 0.0088 - sharp_diff: 5.85 - ETA: 8s - loss: 4.5834 - psnr: 4.2044 - ssmi: 0.0088 - sharp_diff: 5.84 - ETA: 8s - loss: 4.5741 - psnr: 4.1949 - ssmi: 0.0087 - sharp_diff: 5.84 - ETA: 8s - loss: 4.5751 - psnr: 4.1957 - ssmi: 0.0087 - sharp_diff: 5.84 - ETA: 8s - loss: 4.5700 - psnr: 4.1907 - ssmi: 0.0086 - sharp_diff: 5.84 - ETA: 7s - loss: 4.5699 - psnr: 4.1904 - ssmi: 0.0086 - sharp_diff: 5.84 - ETA: 7s - loss: 4.5703 - psnr: 4.1907 - ssmi: 0.0085 - sharp_diff: 5.84 - ETA: 7s - loss: 4.5779 - psnr: 4.1984 - ssmi: 0.0083 - sharp_diff: 5.85 - ETA: 7s - loss: 4.5762 - psnr: 4.1966 - ssmi: 0.0083 - sharp_diff: 5.85 - ETA: 6s - loss: 4.5775 - psnr: 4.1978 - ssmi: 0.0083 - sharp_diff: 5.85 - ETA: 6s - loss: 4.5767 - psnr: 4.1968 - ssmi: 0.0082 - sharp_diff: 5.84 - ETA: 6s - loss: 4.5722 - psnr: 4.1921 - ssmi: 0.0083 - sharp_diff: 5.84 - ETA: 6s - loss: 4.5744 - psnr: 4.1941 - ssmi: 0.0082 - sharp_diff: 5.84 - ETA: 5s - loss: 4.5750 - psnr: 4.1946 - ssmi: 0.0082 - sharp_diff: 5.84 - ETA: 5s - loss: 4.5757 - psnr: 4.1952 - ssmi: 0.0082 - sharp_diff: 5.84 - ETA: 5s - loss: 4.5739 - psnr: 4.1933 - ssmi: 0.0082 - sharp_diff: 5.84 - ETA: 5s - loss: 4.5697 - psnr: 4.1889 - ssmi: 0.0081 - sharp_diff: 5.84 - ETA: 4s - loss: 4.5687 - psnr: 4.1878 - ssmi: 0.0081 - sharp_diff: 5.84 - ETA: 4s - loss: 4.5748 - psnr: 4.1938 - ssmi: 0.0083 - sharp_diff: 5.84 - ETA: 4s - loss: 4.5737 - psnr: 4.1927 - ssmi: 0.0083 - sharp_diff: 5.85 - ETA: 4s - loss: 4.5758 - psnr: 4.1946 - ssmi: 0.0083 - sharp_diff: 5.84 - ETA: 3s - loss: 4.5764 - psnr: 4.1951 - ssmi: 0.0083 - sharp_diff: 5.84 - ETA: 3s - loss: 4.5767 - psnr: 4.1953 - ssmi: 0.0083 - sharp_diff: 5.84 - ETA: 3s - loss: 4.5736 - psnr: 4.1920 - ssmi: 0.0082 - sharp_diff: 5.84 - ETA: 3s - loss: 4.5722 - psnr: 4.1905 - ssmi: 0.0083 - sharp_diff: 5.84 - ETA: 2s - loss: 4.5700 - psnr: 4.1882 - ssmi: 0.0083 - sharp_diff: 5.84 - ETA: 2s - loss: 4.5676 - psnr: 4.1856 - ssmi: 0.0082 - sharp_diff: 5.84 - ETA: 2s - loss: 4.5678 - psnr: 4.1857 - ssmi: 0.0083 - sharp_diff: 5.84 - ETA: 2s - loss: 4.5677 - psnr: 4.1855 - ssmi: 0.0082 - sharp_diff: 5.84 - ETA: 1s - loss: 4.5676 - psnr: 4.1852 - ssmi: 0.0083 - sharp_diff: 5.83 - ETA: 1s - loss: 4.5658 - psnr: 4.1832 - ssmi: 0.0083 - sharp_diff: 5.83 - ETA: 1s - loss: 4.5745 - psnr: 4.1919 - ssmi: 0.0083 - sharp_diff: 5.83 - ETA: 1s - loss: 4.5745 - psnr: 4.1918 - ssmi: 0.0084 - sharp_diff: 5.83 - ETA: 0s - loss: 4.5766 - psnr: 4.1938 - ssmi: 0.0084 - sharp_diff: 5.83 - ETA: 0s - loss: 4.5774 - psnr: 4.1944 - ssmi: 0.0085 - sharp_diff: 5.83 - ETA: 0s - loss: 4.5765 - psnr: 4.1934 - ssmi: 0.0084 - sharp_diff: 5.83 - 18s 365ms/step - loss: 4.5768 - psnr: 4.1935 - ssmi: 0.0084 - sharp_diff: 5.8375 - val_loss: 4.5292 - val_psnr: 4.2297 - val_ssmi: 0.0746 - val_sharp_diff: 11.0829\n"
     ]
    },
    {
     "data": {
      "application/vnd.jupyter.widget-view+json": {
       "model_id": "",
       "version_major": 2,
       "version_minor": 0
      },
      "text/plain": [
       "HBox(children=(IntProgress(value=0, description='Epoch 14', max=50, style=ProgressStyle(description_width='ini…"
      ]
     },
     "metadata": {},
     "output_type": "display_data"
    },
    {
     "name": "stdout",
     "output_type": "stream",
     "text": [
      "Epoch 15/50\n",
      "50/50 [==============================] - ETA: 12s - loss: 4.5555 - psnr: 4.1650 - ssmi: 0.0080 - sharp_diff: 5.793 - ETA: 12s - loss: 4.5697 - psnr: 4.1796 - ssmi: 0.0090 - sharp_diff: 5.799 - ETA: 11s - loss: 4.5669 - psnr: 4.1770 - ssmi: 0.0084 - sharp_diff: 5.813 - ETA: 11s - loss: 4.5494 - psnr: 4.1596 - ssmi: 0.0084 - sharp_diff: 5.829 - ETA: 11s - loss: 4.5207 - psnr: 4.1308 - ssmi: 0.0084 - sharp_diff: 5.825 - ETA: 11s - loss: 4.5191 - psnr: 4.1294 - ssmi: 0.0084 - sharp_diff: 5.834 - ETA: 10s - loss: 4.5282 - psnr: 4.1382 - ssmi: 0.0083 - sharp_diff: 5.828 - ETA: 10s - loss: 4.5321 - psnr: 4.1419 - ssmi: 0.0082 - sharp_diff: 5.827 - ETA: 10s - loss: 4.5266 - psnr: 4.1361 - ssmi: 0.0081 - sharp_diff: 5.818 - ETA: 10s - loss: 4.5261 - psnr: 4.1353 - ssmi: 0.0080 - sharp_diff: 5.815 - ETA: 9s - loss: 4.5311 - psnr: 4.1402 - ssmi: 0.0081 - sharp_diff: 5.815 - ETA: 9s - loss: 4.5289 - psnr: 4.1378 - ssmi: 0.0081 - sharp_diff: 5.81 - ETA: 9s - loss: 4.5163 - psnr: 4.1251 - ssmi: 0.0080 - sharp_diff: 5.81 - ETA: 9s - loss: 4.5117 - psnr: 4.1203 - ssmi: 0.0080 - sharp_diff: 5.81 - ETA: 8s - loss: 4.5118 - psnr: 4.1203 - ssmi: 0.0080 - sharp_diff: 5.80 - ETA: 8s - loss: 4.5140 - psnr: 4.1223 - ssmi: 0.0081 - sharp_diff: 5.80 - ETA: 8s - loss: 4.5192 - psnr: 4.1275 - ssmi: 0.0082 - sharp_diff: 5.80 - ETA: 8s - loss: 4.5167 - psnr: 4.1248 - ssmi: 0.0081 - sharp_diff: 5.80 - ETA: 7s - loss: 4.5263 - psnr: 4.1343 - ssmi: 0.0083 - sharp_diff: 5.80 - ETA: 7s - loss: 4.5204 - psnr: 4.1283 - ssmi: 0.0082 - sharp_diff: 5.80 - ETA: 7s - loss: 4.5253 - psnr: 4.1331 - ssmi: 0.0081 - sharp_diff: 5.80 - ETA: 7s - loss: 4.5265 - psnr: 4.1341 - ssmi: 0.0081 - sharp_diff: 5.80 - ETA: 6s - loss: 4.5289 - psnr: 4.1364 - ssmi: 0.0081 - sharp_diff: 5.80 - ETA: 6s - loss: 4.5262 - psnr: 4.1336 - ssmi: 0.0081 - sharp_diff: 5.80 - ETA: 6s - loss: 4.5303 - psnr: 4.1376 - ssmi: 0.0082 - sharp_diff: 5.80 - ETA: 6s - loss: 4.5255 - psnr: 4.1326 - ssmi: 0.0081 - sharp_diff: 5.80 - ETA: 5s - loss: 4.5235 - psnr: 4.1304 - ssmi: 0.0081 - sharp_diff: 5.80 - ETA: 5s - loss: 4.5248 - psnr: 4.1315 - ssmi: 0.0081 - sharp_diff: 5.80 - ETA: 5s - loss: 4.5245 - psnr: 4.1311 - ssmi: 0.0080 - sharp_diff: 5.80 - ETA: 5s - loss: 4.5275 - psnr: 4.1340 - ssmi: 0.0081 - sharp_diff: 5.79 - ETA: 4s - loss: 4.5287 - psnr: 4.1350 - ssmi: 0.0081 - sharp_diff: 5.79 - ETA: 4s - loss: 4.5295 - psnr: 4.1357 - ssmi: 0.0081 - sharp_diff: 5.79 - ETA: 4s - loss: 4.5242 - psnr: 4.1302 - ssmi: 0.0081 - sharp_diff: 5.79 - ETA: 4s - loss: 4.5253 - psnr: 4.1312 - ssmi: 0.0081 - sharp_diff: 5.79 - ETA: 3s - loss: 4.5264 - psnr: 4.1321 - ssmi: 0.0081 - sharp_diff: 5.79 - ETA: 3s - loss: 4.5262 - psnr: 4.1318 - ssmi: 0.0081 - sharp_diff: 5.79 - ETA: 3s - loss: 4.5263 - psnr: 4.1318 - ssmi: 0.0082 - sharp_diff: 5.79 - ETA: 3s - loss: 4.5230 - psnr: 4.1283 - ssmi: 0.0081 - sharp_diff: 5.79 - ETA: 2s - loss: 4.5226 - psnr: 4.1278 - ssmi: 0.0082 - sharp_diff: 5.79 - ETA: 2s - loss: 4.5190 - psnr: 4.1241 - ssmi: 0.0082 - sharp_diff: 5.79 - ETA: 2s - loss: 4.5152 - psnr: 4.1202 - ssmi: 0.0082 - sharp_diff: 5.79 - ETA: 2s - loss: 4.5163 - psnr: 4.1212 - ssmi: 0.0082 - sharp_diff: 5.79 - ETA: 1s - loss: 4.5054 - psnr: 4.1102 - ssmi: 0.0081 - sharp_diff: 5.79 - ETA: 1s - loss: 4.5036 - psnr: 4.1083 - ssmi: 0.0081 - sharp_diff: 5.79 - ETA: 1s - loss: 4.5042 - psnr: 4.1087 - ssmi: 0.0081 - sharp_diff: 5.79 - ETA: 1s - loss: 4.5060 - psnr: 4.1105 - ssmi: 0.0081 - sharp_diff: 5.79 - ETA: 0s - loss: 4.5088 - psnr: 4.1130 - ssmi: 0.0081 - sharp_diff: 5.79 - ETA: 0s - loss: 4.5081 - psnr: 4.1123 - ssmi: 0.0081 - sharp_diff: 5.79 - ETA: 0s - loss: 4.5089 - psnr: 4.1129 - ssmi: 0.0081 - sharp_diff: 5.79 - 18s 362ms/step - loss: 4.5085 - psnr: 4.1124 - ssmi: 0.0081 - sharp_diff: 5.7925 - val_loss: 4.5452 - val_psnr: 4.2394 - val_ssmi: 0.0742 - val_sharp_diff: 11.0607\n"
     ]
    },
    {
     "data": {
      "application/vnd.jupyter.widget-view+json": {
       "model_id": "",
       "version_major": 2,
       "version_minor": 0
      },
      "text/plain": [
       "HBox(children=(IntProgress(value=0, description='Epoch 15', max=50, style=ProgressStyle(description_width='ini…"
      ]
     },
     "metadata": {},
     "output_type": "display_data"
    },
    {
     "name": "stdout",
     "output_type": "stream",
     "text": [
      "Epoch 16/50\n",
      "50/50 [==============================] - ETA: 12s - loss: 4.4073 - psnr: 4.0045 - ssmi: 0.0078 - sharp_diff: 5.746 - ETA: 12s - loss: 4.4556 - psnr: 4.0524 - ssmi: 0.0082 - sharp_diff: 5.720 - ETA: 12s - loss: 4.4687 - psnr: 4.0652 - ssmi: 0.0081 - sharp_diff: 5.730 - ETA: 11s - loss: 4.4998 - psnr: 4.0960 - ssmi: 0.0082 - sharp_diff: 5.736 - ETA: 11s - loss: 4.4879 - psnr: 4.0843 - ssmi: 0.0078 - sharp_diff: 5.745 - ETA: 11s - loss: 4.5059 - psnr: 4.1023 - ssmi: 0.0079 - sharp_diff: 5.744 - ETA: 10s - loss: 4.5112 - psnr: 4.1075 - ssmi: 0.0080 - sharp_diff: 5.750 - ETA: 10s - loss: 4.5087 - psnr: 4.1050 - ssmi: 0.0079 - sharp_diff: 5.745 - ETA: 10s - loss: 4.4937 - psnr: 4.0899 - ssmi: 0.0080 - sharp_diff: 5.742 - ETA: 10s - loss: 4.4930 - psnr: 4.0889 - ssmi: 0.0081 - sharp_diff: 5.739 - ETA: 9s - loss: 4.4975 - psnr: 4.0935 - ssmi: 0.0080 - sharp_diff: 5.748 - ETA: 9s - loss: 4.4942 - psnr: 4.0901 - ssmi: 0.0080 - sharp_diff: 5.74 - ETA: 9s - loss: 4.4918 - psnr: 4.0875 - ssmi: 0.0080 - sharp_diff: 5.74 - ETA: 9s - loss: 4.4886 - psnr: 4.0841 - ssmi: 0.0080 - sharp_diff: 5.75 - ETA: 8s - loss: 4.4802 - psnr: 4.0757 - ssmi: 0.0079 - sharp_diff: 5.75 - ETA: 8s - loss: 4.4729 - psnr: 4.0683 - ssmi: 0.0080 - sharp_diff: 5.74 - ETA: 8s - loss: 4.4818 - psnr: 4.0771 - ssmi: 0.0078 - sharp_diff: 5.75 - ETA: 8s - loss: 4.4815 - psnr: 4.0767 - ssmi: 0.0078 - sharp_diff: 5.75 - ETA: 7s - loss: 4.4831 - psnr: 4.0780 - ssmi: 0.0079 - sharp_diff: 5.75 - ETA: 7s - loss: 4.4815 - psnr: 4.0764 - ssmi: 0.0078 - sharp_diff: 5.76 - ETA: 7s - loss: 4.4807 - psnr: 4.0754 - ssmi: 0.0078 - sharp_diff: 5.75 - ETA: 7s - loss: 4.4778 - psnr: 4.0724 - ssmi: 0.0078 - sharp_diff: 5.75 - ETA: 6s - loss: 4.4768 - psnr: 4.0713 - ssmi: 0.0077 - sharp_diff: 5.75 - ETA: 6s - loss: 4.4793 - psnr: 4.0736 - ssmi: 0.0077 - sharp_diff: 5.75 - ETA: 6s - loss: 4.4817 - psnr: 4.0759 - ssmi: 0.0077 - sharp_diff: 5.75 - ETA: 6s - loss: 4.4789 - psnr: 4.0729 - ssmi: 0.0077 - sharp_diff: 5.75 - ETA: 5s - loss: 4.4781 - psnr: 4.0720 - ssmi: 0.0077 - sharp_diff: 5.75 - ETA: 5s - loss: 4.4762 - psnr: 4.0700 - ssmi: 0.0077 - sharp_diff: 5.75 - ETA: 5s - loss: 4.4750 - psnr: 4.0686 - ssmi: 0.0077 - sharp_diff: 5.75 - ETA: 5s - loss: 4.4773 - psnr: 4.0708 - ssmi: 0.0077 - sharp_diff: 5.75 - ETA: 4s - loss: 4.4750 - psnr: 4.0683 - ssmi: 0.0077 - sharp_diff: 5.74 - ETA: 4s - loss: 4.4759 - psnr: 4.0690 - ssmi: 0.0077 - sharp_diff: 5.74 - ETA: 4s - loss: 4.4789 - psnr: 4.0720 - ssmi: 0.0077 - sharp_diff: 5.74 - ETA: 4s - loss: 4.4754 - psnr: 4.0683 - ssmi: 0.0077 - sharp_diff: 5.74 - ETA: 3s - loss: 4.4718 - psnr: 4.0645 - ssmi: 0.0076 - sharp_diff: 5.74 - ETA: 3s - loss: 4.4707 - psnr: 4.0633 - ssmi: 0.0076 - sharp_diff: 5.74 - ETA: 3s - loss: 4.4730 - psnr: 4.0655 - ssmi: 0.0077 - sharp_diff: 5.74 - ETA: 3s - loss: 4.4717 - psnr: 4.0641 - ssmi: 0.0078 - sharp_diff: 5.74 - ETA: 2s - loss: 4.4714 - psnr: 4.0637 - ssmi: 0.0078 - sharp_diff: 5.74 - ETA: 2s - loss: 4.4709 - psnr: 4.0630 - ssmi: 0.0078 - sharp_diff: 5.74 - ETA: 2s - loss: 4.4763 - psnr: 4.0683 - ssmi: 0.0078 - sharp_diff: 5.74 - ETA: 2s - loss: 4.4756 - psnr: 4.0675 - ssmi: 0.0078 - sharp_diff: 5.74 - ETA: 1s - loss: 4.4762 - psnr: 4.0680 - ssmi: 0.0078 - sharp_diff: 5.74 - ETA: 1s - loss: 4.4756 - psnr: 4.0672 - ssmi: 0.0078 - sharp_diff: 5.74 - ETA: 1s - loss: 4.4766 - psnr: 4.0681 - ssmi: 0.0078 - sharp_diff: 5.74 - ETA: 1s - loss: 4.4752 - psnr: 4.0666 - ssmi: 0.0078 - sharp_diff: 5.74 - ETA: 0s - loss: 4.4739 - psnr: 4.0652 - ssmi: 0.0078 - sharp_diff: 5.74 - ETA: 0s - loss: 4.4713 - psnr: 4.0624 - ssmi: 0.0078 - sharp_diff: 5.74 - ETA: 0s - loss: 4.4703 - psnr: 4.0613 - ssmi: 0.0078 - sharp_diff: 5.74 - 19s 389ms/step - loss: 4.4715 - psnr: 4.0624 - ssmi: 0.0078 - sharp_diff: 5.7406 - val_loss: 4.4833 - val_psnr: 4.1691 - val_ssmi: 0.0725 - val_sharp_diff: 11.0812\n"
     ]
    },
    {
     "data": {
      "application/vnd.jupyter.widget-view+json": {
       "model_id": "",
       "version_major": 2,
       "version_minor": 0
      },
      "text/plain": [
       "HBox(children=(IntProgress(value=0, description='Epoch 16', max=50, style=ProgressStyle(description_width='ini…"
      ]
     },
     "metadata": {},
     "output_type": "display_data"
    },
    {
     "name": "stdout",
     "output_type": "stream",
     "text": [
      "Epoch 17/50\n",
      "50/50 [==============================] - ETA: 13s - loss: 4.4989 - psnr: 4.0830 - ssmi: 0.0075 - sharp_diff: 5.713 - ETA: 12s - loss: 4.5120 - psnr: 4.0963 - ssmi: 0.0078 - sharp_diff: 5.708 - ETA: 12s - loss: 4.4538 - psnr: 4.0377 - ssmi: 0.0076 - sharp_diff: 5.696 - ETA: 12s - loss: 4.4409 - psnr: 4.0245 - ssmi: 0.0075 - sharp_diff: 5.691 - ETA: 11s - loss: 4.4422 - psnr: 4.0257 - ssmi: 0.0072 - sharp_diff: 5.693 - ETA: 11s - loss: 4.4614 - psnr: 4.0449 - ssmi: 0.0079 - sharp_diff: 5.704 - ETA: 11s - loss: 4.4640 - psnr: 4.0474 - ssmi: 0.0079 - sharp_diff: 5.709 - ETA: 10s - loss: 4.4524 - psnr: 4.0356 - ssmi: 0.0078 - sharp_diff: 5.710 - ETA: 10s - loss: 4.4547 - psnr: 4.0378 - ssmi: 0.0079 - sharp_diff: 5.714 - ETA: 10s - loss: 4.4567 - psnr: 4.0397 - ssmi: 0.0077 - sharp_diff: 5.714 - ETA: 9s - loss: 4.4523 - psnr: 4.0351 - ssmi: 0.0076 - sharp_diff: 5.711 - ETA: 9s - loss: 4.4428 - psnr: 4.0253 - ssmi: 0.0076 - sharp_diff: 5.70 - ETA: 9s - loss: 4.4384 - psnr: 4.0209 - ssmi: 0.0077 - sharp_diff: 5.70 - ETA: 9s - loss: 4.4376 - psnr: 4.0199 - ssmi: 0.0076 - sharp_diff: 5.71 - ETA: 8s - loss: 4.4513 - psnr: 4.0340 - ssmi: 0.0077 - sharp_diff: 5.72 - ETA: 8s - loss: 4.4427 - psnr: 4.0253 - ssmi: 0.0076 - sharp_diff: 5.71 - ETA: 8s - loss: 4.4407 - psnr: 4.0230 - ssmi: 0.0077 - sharp_diff: 5.71 - ETA: 8s - loss: 4.4353 - psnr: 4.0176 - ssmi: 0.0075 - sharp_diff: 5.71 - ETA: 7s - loss: 4.4359 - psnr: 4.0180 - ssmi: 0.0075 - sharp_diff: 5.71 - ETA: 7s - loss: 4.4320 - psnr: 4.0140 - ssmi: 0.0075 - sharp_diff: 5.71 - ETA: 7s - loss: 4.4286 - psnr: 4.0104 - ssmi: 0.0074 - sharp_diff: 5.71 - ETA: 7s - loss: 4.4332 - psnr: 4.0148 - ssmi: 0.0074 - sharp_diff: 5.71 - ETA: 6s - loss: 4.4340 - psnr: 4.0155 - ssmi: 0.0074 - sharp_diff: 5.71 - ETA: 6s - loss: 4.4388 - psnr: 4.0201 - ssmi: 0.0074 - sharp_diff: 5.70 - ETA: 6s - loss: 4.4373 - psnr: 4.0184 - ssmi: 0.0073 - sharp_diff: 5.70 - ETA: 6s - loss: 4.4345 - psnr: 4.0155 - ssmi: 0.0073 - sharp_diff: 5.70 - ETA: 5s - loss: 4.4344 - psnr: 4.0153 - ssmi: 0.0073 - sharp_diff: 5.70 - ETA: 5s - loss: 4.4320 - psnr: 4.0128 - ssmi: 0.0072 - sharp_diff: 5.70 - ETA: 5s - loss: 4.4310 - psnr: 4.0116 - ssmi: 0.0073 - sharp_diff: 5.70 - ETA: 5s - loss: 4.4366 - psnr: 4.0171 - ssmi: 0.0074 - sharp_diff: 5.70 - ETA: 4s - loss: 4.4353 - psnr: 4.0156 - ssmi: 0.0074 - sharp_diff: 5.70 - ETA: 4s - loss: 4.4354 - psnr: 4.0156 - ssmi: 0.0074 - sharp_diff: 5.70 - ETA: 4s - loss: 4.4358 - psnr: 4.0158 - ssmi: 0.0074 - sharp_diff: 5.70 - ETA: 4s - loss: 4.4414 - psnr: 4.0213 - ssmi: 0.0075 - sharp_diff: 5.70 - ETA: 3s - loss: 4.4398 - psnr: 4.0195 - ssmi: 0.0075 - sharp_diff: 5.70 - ETA: 3s - loss: 4.4364 - psnr: 4.0160 - ssmi: 0.0075 - sharp_diff: 5.70 - ETA: 3s - loss: 4.4366 - psnr: 4.0161 - ssmi: 0.0075 - sharp_diff: 5.70 - ETA: 3s - loss: 4.4338 - psnr: 4.0131 - ssmi: 0.0075 - sharp_diff: 5.70 - ETA: 2s - loss: 4.4366 - psnr: 4.0157 - ssmi: 0.0076 - sharp_diff: 5.69 - ETA: 2s - loss: 4.4376 - psnr: 4.0166 - ssmi: 0.0075 - sharp_diff: 5.69 - ETA: 2s - loss: 4.4341 - psnr: 4.0130 - ssmi: 0.0075 - sharp_diff: 5.69 - ETA: 2s - loss: 4.4324 - psnr: 4.0111 - ssmi: 0.0074 - sharp_diff: 5.69 - ETA: 1s - loss: 4.4321 - psnr: 4.0107 - ssmi: 0.0074 - sharp_diff: 5.69 - ETA: 1s - loss: 4.4325 - psnr: 4.0109 - ssmi: 0.0074 - sharp_diff: 5.69 - ETA: 1s - loss: 4.4300 - psnr: 4.0083 - ssmi: 0.0074 - sharp_diff: 5.69 - ETA: 1s - loss: 4.4296 - psnr: 4.0077 - ssmi: 0.0074 - sharp_diff: 5.69 - ETA: 0s - loss: 4.4287 - psnr: 4.0067 - ssmi: 0.0074 - sharp_diff: 5.69 - ETA: 0s - loss: 4.4274 - psnr: 4.0053 - ssmi: 0.0074 - sharp_diff: 5.69 - ETA: 0s - loss: 4.4279 - psnr: 4.0056 - ssmi: 0.0074 - sharp_diff: 5.69 - 18s 367ms/step - loss: 4.4291 - psnr: 4.0067 - ssmi: 0.0074 - sharp_diff: 5.6929 - val_loss: 4.4488 - val_psnr: 4.1158 - val_ssmi: 0.0696 - val_sharp_diff: 11.0977\n"
     ]
    },
    {
     "data": {
      "application/vnd.jupyter.widget-view+json": {
       "model_id": "",
       "version_major": 2,
       "version_minor": 0
      },
      "text/plain": [
       "HBox(children=(IntProgress(value=0, description='Epoch 17', max=50, style=ProgressStyle(description_width='ini…"
      ]
     },
     "metadata": {},
     "output_type": "display_data"
    },
    {
     "name": "stdout",
     "output_type": "stream",
     "text": [
      "Epoch 18/50\n",
      "50/50 [==============================] - ETA: 12s - loss: 4.4539 - psnr: 4.0248 - ssmi: 0.0085 - sharp_diff: 5.696 - ETA: 12s - loss: 4.4263 - psnr: 3.9966 - ssmi: 0.0072 - sharp_diff: 5.669 - ETA: 11s - loss: 4.4201 - psnr: 3.9906 - ssmi: 0.0077 - sharp_diff: 5.694 - ETA: 11s - loss: 4.3973 - psnr: 3.9675 - ssmi: 0.0077 - sharp_diff: 5.672 - ETA: 11s - loss: 4.4310 - psnr: 4.0010 - ssmi: 0.0080 - sharp_diff: 5.674 - ETA: 11s - loss: 4.4178 - psnr: 3.9877 - ssmi: 0.0077 - sharp_diff: 5.671 - ETA: 10s - loss: 4.4070 - psnr: 3.9767 - ssmi: 0.0075 - sharp_diff: 5.668 - ETA: 10s - loss: 4.4068 - psnr: 3.9763 - ssmi: 0.0074 - sharp_diff: 5.669 - ETA: 10s - loss: 4.4015 - psnr: 3.9707 - ssmi: 0.0074 - sharp_diff: 5.662 - ETA: 10s - loss: 4.4004 - psnr: 3.9696 - ssmi: 0.0073 - sharp_diff: 5.665 - ETA: 9s - loss: 4.4025 - psnr: 3.9714 - ssmi: 0.0073 - sharp_diff: 5.660 - ETA: 9s - loss: 4.3948 - psnr: 3.9636 - ssmi: 0.0073 - sharp_diff: 5.65 - ETA: 9s - loss: 4.4352 - psnr: 4.0041 - ssmi: 0.0082 - sharp_diff: 5.66 - ETA: 9s - loss: 4.4270 - psnr: 3.9958 - ssmi: 0.0080 - sharp_diff: 5.66 - ETA: 8s - loss: 4.4255 - psnr: 3.9941 - ssmi: 0.0079 - sharp_diff: 5.66 - ETA: 8s - loss: 4.4224 - psnr: 3.9908 - ssmi: 0.0078 - sharp_diff: 5.65 - ETA: 8s - loss: 4.4166 - psnr: 3.9848 - ssmi: 0.0077 - sharp_diff: 5.65 - ETA: 8s - loss: 4.4142 - psnr: 3.9823 - ssmi: 0.0076 - sharp_diff: 5.65 - ETA: 7s - loss: 4.4186 - psnr: 3.9865 - ssmi: 0.0077 - sharp_diff: 5.65 - ETA: 7s - loss: 4.4119 - psnr: 3.9796 - ssmi: 0.0076 - sharp_diff: 5.65 - ETA: 7s - loss: 4.4180 - psnr: 3.9856 - ssmi: 0.0076 - sharp_diff: 5.65 - ETA: 7s - loss: 4.4200 - psnr: 3.9876 - ssmi: 0.0076 - sharp_diff: 5.65 - ETA: 6s - loss: 4.4181 - psnr: 3.9855 - ssmi: 0.0077 - sharp_diff: 5.65 - ETA: 6s - loss: 4.4102 - psnr: 3.9775 - ssmi: 0.0077 - sharp_diff: 5.65 - ETA: 6s - loss: 4.4058 - psnr: 3.9729 - ssmi: 0.0076 - sharp_diff: 5.65 - ETA: 6s - loss: 4.4041 - psnr: 3.9711 - ssmi: 0.0075 - sharp_diff: 5.65 - ETA: 5s - loss: 4.4002 - psnr: 3.9670 - ssmi: 0.0075 - sharp_diff: 5.64 - ETA: 5s - loss: 4.4010 - psnr: 3.9677 - ssmi: 0.0075 - sharp_diff: 5.65 - ETA: 5s - loss: 4.4012 - psnr: 3.9678 - ssmi: 0.0074 - sharp_diff: 5.65 - ETA: 5s - loss: 4.4001 - psnr: 3.9666 - ssmi: 0.0074 - sharp_diff: 5.65 - ETA: 4s - loss: 4.3976 - psnr: 3.9640 - ssmi: 0.0074 - sharp_diff: 5.65 - ETA: 4s - loss: 4.3990 - psnr: 3.9653 - ssmi: 0.0074 - sharp_diff: 5.65 - ETA: 4s - loss: 4.3993 - psnr: 3.9655 - ssmi: 0.0074 - sharp_diff: 5.65 - ETA: 4s - loss: 4.3985 - psnr: 3.9646 - ssmi: 0.0074 - sharp_diff: 5.65 - ETA: 3s - loss: 4.3987 - psnr: 3.9646 - ssmi: 0.0075 - sharp_diff: 5.65 - ETA: 3s - loss: 4.3990 - psnr: 3.9648 - ssmi: 0.0075 - sharp_diff: 5.65 - ETA: 3s - loss: 4.3994 - psnr: 3.9651 - ssmi: 0.0075 - sharp_diff: 5.65 - ETA: 3s - loss: 4.4029 - psnr: 3.9684 - ssmi: 0.0076 - sharp_diff: 5.65 - ETA: 2s - loss: 4.3988 - psnr: 3.9642 - ssmi: 0.0075 - sharp_diff: 5.64 - ETA: 2s - loss: 4.3975 - psnr: 3.9627 - ssmi: 0.0075 - sharp_diff: 5.64 - ETA: 2s - loss: 4.3981 - psnr: 3.9632 - ssmi: 0.0075 - sharp_diff: 5.64 - ETA: 2s - loss: 4.3979 - psnr: 3.9628 - ssmi: 0.0075 - sharp_diff: 5.64 - ETA: 1s - loss: 4.3978 - psnr: 3.9625 - ssmi: 0.0075 - sharp_diff: 5.64 - ETA: 1s - loss: 4.3965 - psnr: 3.9612 - ssmi: 0.0074 - sharp_diff: 5.64 - ETA: 1s - loss: 4.3943 - psnr: 3.9588 - ssmi: 0.0075 - sharp_diff: 5.64 - ETA: 1s - loss: 4.3938 - psnr: 3.9582 - ssmi: 0.0074 - sharp_diff: 5.64 - ETA: 0s - loss: 4.3924 - psnr: 3.9567 - ssmi: 0.0074 - sharp_diff: 5.64 - ETA: 0s - loss: 4.3933 - psnr: 3.9574 - ssmi: 0.0074 - sharp_diff: 5.64 - ETA: 0s - loss: 4.3948 - psnr: 3.9588 - ssmi: 0.0075 - sharp_diff: 5.64 - 18s 363ms/step - loss: 4.3949 - psnr: 3.9588 - ssmi: 0.0074 - sharp_diff: 5.6445 - val_loss: 4.3218 - val_psnr: 3.9763 - val_ssmi: 0.0699 - val_sharp_diff: 11.0781\n"
     ]
    },
    {
     "data": {
      "application/vnd.jupyter.widget-view+json": {
       "model_id": "",
       "version_major": 2,
       "version_minor": 0
      },
      "text/plain": [
       "HBox(children=(IntProgress(value=0, description='Epoch 18', max=50, style=ProgressStyle(description_width='ini…"
      ]
     },
     "metadata": {},
     "output_type": "display_data"
    },
    {
     "name": "stdout",
     "output_type": "stream",
     "text": [
      "Epoch 19/50\n",
      "50/50 [==============================] - ETA: 12s - loss: 4.4264 - psnr: 3.9841 - ssmi: 0.0079 - sharp_diff: 5.662 - ETA: 12s - loss: 4.3215 - psnr: 3.8792 - ssmi: 0.0072 - sharp_diff: 5.651 - ETA: 11s - loss: 4.3332 - psnr: 3.8901 - ssmi: 0.0068 - sharp_diff: 5.632 - ETA: 11s - loss: 4.3410 - psnr: 3.8976 - ssmi: 0.0067 - sharp_diff: 5.627 - ETA: 11s - loss: 4.3316 - psnr: 3.8882 - ssmi: 0.0065 - sharp_diff: 5.626 - ETA: 11s - loss: 4.3150 - psnr: 3.8711 - ssmi: 0.0067 - sharp_diff: 5.614 - ETA: 10s - loss: 4.3302 - psnr: 3.8861 - ssmi: 0.0068 - sharp_diff: 5.617 - ETA: 10s - loss: 4.3436 - psnr: 3.8995 - ssmi: 0.0069 - sharp_diff: 5.622 - ETA: 10s - loss: 4.3340 - psnr: 3.8898 - ssmi: 0.0069 - sharp_diff: 5.626 - ETA: 10s - loss: 4.3297 - psnr: 3.8855 - ssmi: 0.0069 - sharp_diff: 5.629 - ETA: 9s - loss: 4.3471 - psnr: 3.9031 - ssmi: 0.0073 - sharp_diff: 5.634 - ETA: 9s - loss: 4.3465 - psnr: 3.9022 - ssmi: 0.0072 - sharp_diff: 5.63 - ETA: 9s - loss: 4.3456 - psnr: 3.9010 - ssmi: 0.0072 - sharp_diff: 5.62 - ETA: 9s - loss: 4.3472 - psnr: 3.9024 - ssmi: 0.0073 - sharp_diff: 5.62 - ETA: 8s - loss: 4.3380 - psnr: 3.8930 - ssmi: 0.0071 - sharp_diff: 5.62 - ETA: 8s - loss: 4.3406 - psnr: 3.8955 - ssmi: 0.0071 - sharp_diff: 5.62 - ETA: 8s - loss: 4.3406 - psnr: 3.8954 - ssmi: 0.0071 - sharp_diff: 5.62 - ETA: 8s - loss: 4.3378 - psnr: 3.8926 - ssmi: 0.0070 - sharp_diff: 5.62 - ETA: 7s - loss: 4.3446 - psnr: 3.8992 - ssmi: 0.0070 - sharp_diff: 5.62 - ETA: 7s - loss: 4.3433 - psnr: 3.8978 - ssmi: 0.0070 - sharp_diff: 5.62 - ETA: 7s - loss: 4.3421 - psnr: 3.8965 - ssmi: 0.0071 - sharp_diff: 5.62 - ETA: 7s - loss: 4.3487 - psnr: 3.9029 - ssmi: 0.0072 - sharp_diff: 5.62 - ETA: 6s - loss: 4.3453 - psnr: 3.8993 - ssmi: 0.0072 - sharp_diff: 5.62 - ETA: 6s - loss: 4.3450 - psnr: 3.8989 - ssmi: 0.0072 - sharp_diff: 5.62 - ETA: 6s - loss: 4.3509 - psnr: 3.9047 - ssmi: 0.0072 - sharp_diff: 5.62 - ETA: 6s - loss: 4.3539 - psnr: 3.9076 - ssmi: 0.0073 - sharp_diff: 5.62 - ETA: 5s - loss: 4.3555 - psnr: 3.9091 - ssmi: 0.0073 - sharp_diff: 5.62 - ETA: 5s - loss: 4.3494 - psnr: 3.9028 - ssmi: 0.0072 - sharp_diff: 5.62 - ETA: 5s - loss: 4.3480 - psnr: 3.9013 - ssmi: 0.0072 - sharp_diff: 5.61 - ETA: 5s - loss: 4.3457 - psnr: 3.8988 - ssmi: 0.0072 - sharp_diff: 5.61 - ETA: 4s - loss: 4.3459 - psnr: 3.8989 - ssmi: 0.0072 - sharp_diff: 5.62 - ETA: 4s - loss: 4.3445 - psnr: 3.8973 - ssmi: 0.0071 - sharp_diff: 5.62 - ETA: 4s - loss: 4.3424 - psnr: 3.8951 - ssmi: 0.0071 - sharp_diff: 5.61 - ETA: 4s - loss: 4.3433 - psnr: 3.8959 - ssmi: 0.0071 - sharp_diff: 5.61 - ETA: 3s - loss: 4.3288 - psnr: 3.8812 - ssmi: 0.0069 - sharp_diff: 5.61 - ETA: 3s - loss: 4.3257 - psnr: 3.8780 - ssmi: 0.0068 - sharp_diff: 5.61 - ETA: 3s - loss: 4.3223 - psnr: 3.8744 - ssmi: 0.0068 - sharp_diff: 5.61 - ETA: 3s - loss: 4.3237 - psnr: 3.8757 - ssmi: 0.0068 - sharp_diff: 5.61 - ETA: 2s - loss: 4.3237 - psnr: 3.8755 - ssmi: 0.0068 - sharp_diff: 5.60 - ETA: 2s - loss: 4.3247 - psnr: 3.8763 - ssmi: 0.0068 - sharp_diff: 5.60 - ETA: 2s - loss: 4.3263 - psnr: 3.8778 - ssmi: 0.0068 - sharp_diff: 5.61 - ETA: 2s - loss: 4.3284 - psnr: 3.8798 - ssmi: 0.0068 - sharp_diff: 5.61 - ETA: 1s - loss: 4.3262 - psnr: 3.8775 - ssmi: 0.0067 - sharp_diff: 5.61 - ETA: 1s - loss: 4.3277 - psnr: 3.8788 - ssmi: 0.0068 - sharp_diff: 5.61 - ETA: 1s - loss: 4.3279 - psnr: 3.8788 - ssmi: 0.0068 - sharp_diff: 5.60 - ETA: 1s - loss: 4.3268 - psnr: 3.8776 - ssmi: 0.0068 - sharp_diff: 5.60 - ETA: 0s - loss: 4.3284 - psnr: 3.8791 - ssmi: 0.0068 - sharp_diff: 5.60 - ETA: 0s - loss: 4.3265 - psnr: 3.8770 - ssmi: 0.0068 - sharp_diff: 5.60 - ETA: 0s - loss: 4.3268 - psnr: 3.8772 - ssmi: 0.0068 - sharp_diff: 5.60 - 18s 363ms/step - loss: 4.3279 - psnr: 3.8781 - ssmi: 0.0068 - sharp_diff: 5.6051 - val_loss: 4.3110 - val_psnr: 3.9845 - val_ssmi: 0.0752 - val_sharp_diff: 11.1261\n"
     ]
    },
    {
     "data": {
      "application/vnd.jupyter.widget-view+json": {
       "model_id": "",
       "version_major": 2,
       "version_minor": 0
      },
      "text/plain": [
       "HBox(children=(IntProgress(value=0, description='Epoch 19', max=50, style=ProgressStyle(description_width='ini…"
      ]
     },
     "metadata": {},
     "output_type": "display_data"
    },
    {
     "name": "stdout",
     "output_type": "stream",
     "text": [
      "Epoch 20/50\n",
      "50/50 [==============================] - ETA: 12s - loss: 4.2751 - psnr: 3.8182 - ssmi: 0.0074 - sharp_diff: 5.554 - ETA: 12s - loss: 4.2813 - psnr: 3.8243 - ssmi: 0.0068 - sharp_diff: 5.566 - ETA: 11s - loss: 4.2659 - psnr: 3.8089 - ssmi: 0.0069 - sharp_diff: 5.574 - ETA: 11s - loss: 4.2846 - psnr: 3.8277 - ssmi: 0.0072 - sharp_diff: 5.587 - ETA: 11s - loss: 4.2842 - psnr: 3.8271 - ssmi: 0.0072 - sharp_diff: 5.583 - ETA: 11s - loss: 4.2986 - psnr: 3.8412 - ssmi: 0.0072 - sharp_diff: 5.584 - ETA: 10s - loss: 4.3043 - psnr: 3.8469 - ssmi: 0.0072 - sharp_diff: 5.589 - ETA: 10s - loss: 4.3088 - psnr: 3.8513 - ssmi: 0.0073 - sharp_diff: 5.588 - ETA: 10s - loss: 4.3257 - psnr: 3.8686 - ssmi: 0.0072 - sharp_diff: 5.597 - ETA: 10s - loss: 4.3287 - psnr: 3.8714 - ssmi: 0.0072 - sharp_diff: 5.598 - ETA: 9s - loss: 4.3196 - psnr: 3.8621 - ssmi: 0.0071 - sharp_diff: 5.598 - ETA: 9s - loss: 4.3142 - psnr: 3.8565 - ssmi: 0.0071 - sharp_diff: 5.59 - ETA: 9s - loss: 4.3149 - psnr: 3.8570 - ssmi: 0.0071 - sharp_diff: 5.59 - ETA: 9s - loss: 4.3134 - psnr: 3.8553 - ssmi: 0.0071 - sharp_diff: 5.58 - ETA: 8s - loss: 4.3121 - psnr: 3.8537 - ssmi: 0.0070 - sharp_diff: 5.58 - ETA: 8s - loss: 4.3166 - psnr: 3.8580 - ssmi: 0.0070 - sharp_diff: 5.58 - ETA: 8s - loss: 4.3153 - psnr: 3.8567 - ssmi: 0.0069 - sharp_diff: 5.58 - ETA: 8s - loss: 4.3142 - psnr: 3.8554 - ssmi: 0.0068 - sharp_diff: 5.58 - ETA: 7s - loss: 4.3136 - psnr: 3.8546 - ssmi: 0.0068 - sharp_diff: 5.58 - ETA: 7s - loss: 4.3135 - psnr: 3.8545 - ssmi: 0.0068 - sharp_diff: 5.58 - ETA: 7s - loss: 4.3195 - psnr: 3.8603 - ssmi: 0.0068 - sharp_diff: 5.58 - ETA: 7s - loss: 4.3197 - psnr: 3.8604 - ssmi: 0.0069 - sharp_diff: 5.58 - ETA: 6s - loss: 4.3159 - psnr: 3.8564 - ssmi: 0.0070 - sharp_diff: 5.58 - ETA: 6s - loss: 4.3205 - psnr: 3.8608 - ssmi: 0.0070 - sharp_diff: 5.58 - ETA: 6s - loss: 4.3173 - psnr: 3.8575 - ssmi: 0.0070 - sharp_diff: 5.57 - ETA: 6s - loss: 4.3162 - psnr: 3.8562 - ssmi: 0.0070 - sharp_diff: 5.58 - ETA: 5s - loss: 4.3190 - psnr: 3.8589 - ssmi: 0.0070 - sharp_diff: 5.58 - ETA: 5s - loss: 4.3222 - psnr: 3.8619 - ssmi: 0.0070 - sharp_diff: 5.58 - ETA: 5s - loss: 4.3213 - psnr: 3.8609 - ssmi: 0.0070 - sharp_diff: 5.57 - ETA: 5s - loss: 4.3187 - psnr: 3.8582 - ssmi: 0.0069 - sharp_diff: 5.57 - ETA: 4s - loss: 4.3140 - psnr: 3.8534 - ssmi: 0.0069 - sharp_diff: 5.58 - ETA: 4s - loss: 4.3160 - psnr: 3.8552 - ssmi: 0.0069 - sharp_diff: 5.57 - ETA: 4s - loss: 4.3074 - psnr: 3.8466 - ssmi: 0.0068 - sharp_diff: 5.58 - ETA: 4s - loss: 4.3079 - psnr: 3.8470 - ssmi: 0.0069 - sharp_diff: 5.58 - ETA: 3s - loss: 4.3124 - psnr: 3.8514 - ssmi: 0.0069 - sharp_diff: 5.58 - ETA: 3s - loss: 4.3117 - psnr: 3.8505 - ssmi: 0.0068 - sharp_diff: 5.58 - ETA: 3s - loss: 4.3093 - psnr: 3.8479 - ssmi: 0.0068 - sharp_diff: 5.58 - ETA: 3s - loss: 4.3097 - psnr: 3.8483 - ssmi: 0.0068 - sharp_diff: 5.58 - ETA: 2s - loss: 4.3092 - psnr: 3.8476 - ssmi: 0.0068 - sharp_diff: 5.57 - ETA: 2s - loss: 4.3090 - psnr: 3.8473 - ssmi: 0.0068 - sharp_diff: 5.58 - ETA: 2s - loss: 4.3059 - psnr: 3.8440 - ssmi: 0.0067 - sharp_diff: 5.57 - ETA: 2s - loss: 4.3040 - psnr: 3.8420 - ssmi: 0.0068 - sharp_diff: 5.57 - ETA: 1s - loss: 4.3039 - psnr: 3.8417 - ssmi: 0.0067 - sharp_diff: 5.57 - ETA: 1s - loss: 4.3024 - psnr: 3.8400 - ssmi: 0.0067 - sharp_diff: 5.57 - ETA: 1s - loss: 4.3005 - psnr: 3.8380 - ssmi: 0.0067 - sharp_diff: 5.57 - ETA: 1s - loss: 4.3030 - psnr: 3.8403 - ssmi: 0.0068 - sharp_diff: 5.57 - ETA: 0s - loss: 4.3029 - psnr: 3.8401 - ssmi: 0.0068 - sharp_diff: 5.57 - ETA: 0s - loss: 4.3049 - psnr: 3.8420 - ssmi: 0.0068 - sharp_diff: 5.57 - ETA: 0s - loss: 4.3034 - psnr: 3.8403 - ssmi: 0.0068 - sharp_diff: 5.57 - 18s 363ms/step - loss: 4.3011 - psnr: 3.8379 - ssmi: 0.0067 - sharp_diff: 5.5691 - val_loss: 4.1859 - val_psnr: 3.8188 - val_ssmi: 0.0674 - val_sharp_diff: 11.1034\n"
     ]
    },
    {
     "data": {
      "application/vnd.jupyter.widget-view+json": {
       "model_id": "",
       "version_major": 2,
       "version_minor": 0
      },
      "text/plain": [
       "HBox(children=(IntProgress(value=0, description='Epoch 20', max=50, style=ProgressStyle(description_width='ini…"
      ]
     },
     "metadata": {},
     "output_type": "display_data"
    },
    {
     "name": "stdout",
     "output_type": "stream",
     "text": [
      "Epoch 21/50\n",
      "49/50 [============================>.] - ETA: 12s - loss: 4.3125 - psnr: 3.8419 - ssmi: 0.0060 - sharp_diff: 5.543 - ETA: 12s - loss: 4.3287 - psnr: 3.8580 - ssmi: 0.0066 - sharp_diff: 5.545 - ETA: 12s - loss: 4.3430 - psnr: 3.8725 - ssmi: 0.0073 - sharp_diff: 5.563 - ETA: 11s - loss: 4.3270 - psnr: 3.8567 - ssmi: 0.0070 - sharp_diff: 5.573 - ETA: 11s - loss: 4.3057 - psnr: 3.8350 - ssmi: 0.0067 - sharp_diff: 5.562 - ETA: 11s - loss: 4.2933 - psnr: 3.8223 - ssmi: 0.0064 - sharp_diff: 5.558 - ETA: 11s - loss: 4.2820 - psnr: 3.8118 - ssmi: 0.0062 - sharp_diff: 5.590 - ETA: 10s - loss: 4.2851 - psnr: 3.8146 - ssmi: 0.0063 - sharp_diff: 5.582 - ETA: 10s - loss: 4.2824 - psnr: 3.8116 - ssmi: 0.0062 - sharp_diff: 5.572 - ETA: 10s - loss: 4.2702 - psnr: 3.7993 - ssmi: 0.0062 - sharp_diff: 5.572 - ETA: 9s - loss: 4.2723 - psnr: 3.8011 - ssmi: 0.0063 - sharp_diff: 5.566 - ETA: 9s - loss: 4.2781 - psnr: 3.8067 - ssmi: 0.0063 - sharp_diff: 5.56 - ETA: 9s - loss: 4.2846 - psnr: 3.8130 - ssmi: 0.0063 - sharp_diff: 5.56 - ETA: 9s - loss: 4.2826 - psnr: 3.8108 - ssmi: 0.0063 - sharp_diff: 5.55 - ETA: 8s - loss: 4.2813 - psnr: 3.8093 - ssmi: 0.0063 - sharp_diff: 5.55 - ETA: 8s - loss: 4.2806 - psnr: 3.8084 - ssmi: 0.0063 - sharp_diff: 5.55 - ETA: 8s - loss: 4.2885 - psnr: 3.8162 - ssmi: 0.0064 - sharp_diff: 5.55 - ETA: 8s - loss: 4.2860 - psnr: 3.8137 - ssmi: 0.0064 - sharp_diff: 5.55 - ETA: 7s - loss: 4.2830 - psnr: 3.8105 - ssmi: 0.0064 - sharp_diff: 5.55 - ETA: 7s - loss: 4.2812 - psnr: 3.8085 - ssmi: 0.0064 - sharp_diff: 5.55 - ETA: 7s - loss: 4.2785 - psnr: 3.8057 - ssmi: 0.0064 - sharp_diff: 5.54 - ETA: 7s - loss: 4.2773 - psnr: 3.8044 - ssmi: 0.0064 - sharp_diff: 5.55 - ETA: 6s - loss: 4.2762 - psnr: 3.8032 - ssmi: 0.0064 - sharp_diff: 5.55 - ETA: 6s - loss: 4.2765 - psnr: 3.8032 - ssmi: 0.0064 - sharp_diff: 5.54 - ETA: 6s - loss: 4.2799 - psnr: 3.8065 - ssmi: 0.0064 - sharp_diff: 5.54 - ETA: 6s - loss: 4.2801 - psnr: 3.8065 - ssmi: 0.0064 - sharp_diff: 5.54 - ETA: 5s - loss: 4.2749 - psnr: 3.8012 - ssmi: 0.0064 - sharp_diff: 5.54 - ETA: 5s - loss: 4.2740 - psnr: 3.8002 - ssmi: 0.0064 - sharp_diff: 5.54 - ETA: 5s - loss: 4.2769 - psnr: 3.8029 - ssmi: 0.0064 - sharp_diff: 5.54 - ETA: 5s - loss: 4.2745 - psnr: 3.8005 - ssmi: 0.0064 - sharp_diff: 5.54 - ETA: 4s - loss: 4.2722 - psnr: 3.7980 - ssmi: 0.0064 - sharp_diff: 5.54 - ETA: 4s - loss: 4.2670 - psnr: 3.7926 - ssmi: 0.0064 - sharp_diff: 5.54 - ETA: 4s - loss: 4.2692 - psnr: 3.7947 - ssmi: 0.0064 - sharp_diff: 5.53 - ETA: 4s - loss: 4.2686 - psnr: 3.7940 - ssmi: 0.0064 - sharp_diff: 5.53 - ETA: 3s - loss: 4.2683 - psnr: 3.7935 - ssmi: 0.0063 - sharp_diff: 5.53 - ETA: 3s - loss: 4.2696 - psnr: 3.7947 - ssmi: 0.0064 - sharp_diff: 5.53 - ETA: 3s - loss: 4.2716 - psnr: 3.7966 - ssmi: 0.0064 - sharp_diff: 5.53 - ETA: 3s - loss: 4.2704 - psnr: 3.7952 - ssmi: 0.0064 - sharp_diff: 5.53 - ETA: 2s - loss: 4.2700 - psnr: 3.7947 - ssmi: 0.0064 - sharp_diff: 5.53 - ETA: 2s - loss: 4.2696 - psnr: 3.7941 - ssmi: 0.0063 - sharp_diff: 5.53 - ETA: 2s - loss: 4.2681 - psnr: 3.7925 - ssmi: 0.0063 - sharp_diff: 5.53 - ETA: 2s - loss: 4.2702 - psnr: 3.7945 - ssmi: 0.0064 - sharp_diff: 5.53 - ETA: 1s - loss: 4.2706 - psnr: 3.7948 - ssmi: 0.0064 - sharp_diff: 5.53 - ETA: 1s - loss: 4.2705 - psnr: 3.7944 - ssmi: 0.0064 - sharp_diff: 5.53 - ETA: 1s - loss: 4.2705 - psnr: 3.7944 - ssmi: 0.0064 - sharp_diff: 5.53 - ETA: 1s - loss: 4.2704 - psnr: 3.7941 - ssmi: 0.0064 - sharp_diff: 5.53 - ETA: 0s - loss: 4.2688 - psnr: 3.7923 - ssmi: 0.0064 - sharp_diff: 5.53 - ETA: 0s - loss: 4.2694 - psnr: 3.7928 - ssmi: 0.0065 - sharp_diff: 5.53 - ETA: 0s - loss: 4.2687 - psnr: 3.7919 - ssmi: 0.0064 - sharp_diff: 5.5332WARNING:tensorflow:5 out of the last 5 calls to <function generate_sample at 0x0000029C674FE3A8> triggered tf.function retracing. Tracing is expensive and the excessive number of tracings is likely due to passing python objects instead of tensors. Also, tf.function has experimental_relax_shapes=True option that relaxes argument shapes that can avoid unnecessary retracing. Please refer to https://www.tensorflow.org/tutorials/customization/performance#python_or_tensor_args and https://www.tensorflow.org/api_docs/python/tf/function for more details.\n",
      "50/50 [==============================] - 19s 389ms/step - loss: 4.2694 - psnr: 3.7925 - ssmi: 0.0064 - sharp_diff: 5.5330 - val_loss: 4.1311 - val_psnr: 3.7633 - val_ssmi: 0.0697 - val_sharp_diff: 11.1242\n"
     ]
    },
    {
     "data": {
      "application/vnd.jupyter.widget-view+json": {
       "model_id": "d389156dbd5b414da413f448c72f028e",
       "version_major": 2,
       "version_minor": 0
      },
      "text/plain": [
       "HBox(children=(IntProgress(value=0, description='Epoch 21', max=50, style=ProgressStyle(description_width='ini…"
      ]
     },
     "metadata": {},
     "output_type": "display_data"
    },
    {
     "name": "stdout",
     "output_type": "stream",
     "text": [
      "Epoch 22/50\n",
      "49/50 [============================>.] - ETA: 13s - loss: 4.2063 - psnr: 3.7230 - ssmi: 0.0060 - sharp_diff: 5.512 - ETA: 13s - loss: 4.1469 - psnr: 3.6630 - ssmi: 0.0056 - sharp_diff: 5.505 - ETA: 12s - loss: 4.1656 - psnr: 3.6811 - ssmi: 0.0056 - sharp_diff: 5.496 - ETA: 12s - loss: 4.1914 - psnr: 3.7067 - ssmi: 0.0057 - sharp_diff: 5.491 - ETA: 11s - loss: 4.3478 - psnr: 3.8634 - ssmi: 0.0070 - sharp_diff: 5.517 - ETA: 11s - loss: 4.3429 - psnr: 3.8582 - ssmi: 0.0071 - sharp_diff: 5.511 - ETA: 11s - loss: 4.3174 - psnr: 3.8326 - ssmi: 0.0067 - sharp_diff: 5.508 - ETA: 10s - loss: 4.3018 - psnr: 3.8169 - ssmi: 0.0063 - sharp_diff: 5.511 - ETA: 10s - loss: 4.3078 - psnr: 3.8227 - ssmi: 0.0065 - sharp_diff: 5.509 - ETA: 10s - loss: 4.3136 - psnr: 3.8283 - ssmi: 0.0065 - sharp_diff: 5.505 - ETA: 9s - loss: 4.3120 - psnr: 3.8264 - ssmi: 0.0064 - sharp_diff: 5.502 - ETA: 9s - loss: 4.2956 - psnr: 3.8099 - ssmi: 0.0063 - sharp_diff: 5.50 - ETA: 9s - loss: 4.2916 - psnr: 3.8057 - ssmi: 0.0062 - sharp_diff: 5.49 - ETA: 9s - loss: 4.2874 - psnr: 3.8013 - ssmi: 0.0062 - sharp_diff: 5.50 - ETA: 8s - loss: 4.2902 - psnr: 3.8039 - ssmi: 0.0062 - sharp_diff: 5.50 - ETA: 8s - loss: 4.2936 - psnr: 3.8073 - ssmi: 0.0063 - sharp_diff: 5.50 - ETA: 8s - loss: 4.2930 - psnr: 3.8065 - ssmi: 0.0063 - sharp_diff: 5.49 - ETA: 8s - loss: 4.2896 - psnr: 3.8029 - ssmi: 0.0063 - sharp_diff: 5.49 - ETA: 7s - loss: 4.2835 - psnr: 3.7968 - ssmi: 0.0062 - sharp_diff: 5.49 - ETA: 7s - loss: 4.2849 - psnr: 3.7980 - ssmi: 0.0062 - sharp_diff: 5.49 - ETA: 7s - loss: 4.2720 - psnr: 3.7849 - ssmi: 0.0061 - sharp_diff: 5.49 - ETA: 7s - loss: 4.2633 - psnr: 3.7761 - ssmi: 0.0061 - sharp_diff: 5.49 - ETA: 6s - loss: 4.2592 - psnr: 3.7719 - ssmi: 0.0061 - sharp_diff: 5.49 - ETA: 6s - loss: 4.2625 - psnr: 3.7749 - ssmi: 0.0061 - sharp_diff: 5.49 - ETA: 6s - loss: 4.2569 - psnr: 3.7692 - ssmi: 0.0061 - sharp_diff: 5.48 - ETA: 6s - loss: 4.2559 - psnr: 3.7681 - ssmi: 0.0062 - sharp_diff: 5.49 - ETA: 5s - loss: 4.2576 - psnr: 3.7696 - ssmi: 0.0062 - sharp_diff: 5.49 - ETA: 5s - loss: 4.2571 - psnr: 3.7690 - ssmi: 0.0062 - sharp_diff: 5.49 - ETA: 5s - loss: 4.2536 - psnr: 3.7655 - ssmi: 0.0066 - sharp_diff: 5.48 - ETA: 5s - loss: 4.2551 - psnr: 3.7669 - ssmi: 0.0066 - sharp_diff: 5.48 - ETA: 4s - loss: 4.2528 - psnr: 3.7644 - ssmi: 0.0065 - sharp_diff: 5.48 - ETA: 4s - loss: 4.2533 - psnr: 3.7647 - ssmi: 0.0064 - sharp_diff: 5.48 - ETA: 4s - loss: 4.2524 - psnr: 3.7637 - ssmi: 0.0064 - sharp_diff: 5.48 - ETA: 4s - loss: 4.2538 - psnr: 3.7649 - ssmi: 0.0064 - sharp_diff: 5.48 - ETA: 3s - loss: 4.2529 - psnr: 3.7639 - ssmi: 0.0064 - sharp_diff: 5.48 - ETA: 3s - loss: 4.2515 - psnr: 3.7624 - ssmi: 0.0064 - sharp_diff: 5.48 - ETA: 3s - loss: 4.2515 - psnr: 3.7623 - ssmi: 0.0064 - sharp_diff: 5.48 - ETA: 3s - loss: 4.2498 - psnr: 3.7605 - ssmi: 0.0064 - sharp_diff: 5.48 - ETA: 2s - loss: 4.2493 - psnr: 3.7599 - ssmi: 0.0064 - sharp_diff: 5.48 - ETA: 2s - loss: 4.2511 - psnr: 3.7615 - ssmi: 0.0064 - sharp_diff: 5.48 - ETA: 2s - loss: 4.2495 - psnr: 3.7598 - ssmi: 0.0063 - sharp_diff: 5.48 - ETA: 2s - loss: 4.2485 - psnr: 3.7586 - ssmi: 0.0063 - sharp_diff: 5.48 - ETA: 1s - loss: 4.2480 - psnr: 3.7580 - ssmi: 0.0063 - sharp_diff: 5.48 - ETA: 1s - loss: 4.2476 - psnr: 3.7575 - ssmi: 0.0063 - sharp_diff: 5.48 - ETA: 1s - loss: 4.2466 - psnr: 3.7563 - ssmi: 0.0063 - sharp_diff: 5.48 - ETA: 1s - loss: 4.2455 - psnr: 3.7551 - ssmi: 0.0063 - sharp_diff: 5.48 - ETA: 0s - loss: 4.2419 - psnr: 3.7513 - ssmi: 0.0063 - sharp_diff: 5.48 - ETA: 0s - loss: 4.2397 - psnr: 3.7491 - ssmi: 0.0062 - sharp_diff: 5.48 - ETA: 0s - loss: 4.2390 - psnr: 3.7481 - ssmi: 0.0062 - sharp_diff: 5.4814"
     ]
    }
   ],
   "source": [
    "ae.fit(\n",
    "    x=train_ds,\n",
    "    input_kw=None,\n",
    "    steps_per_epoch=100,\n",
    "    epochs=int(1e6), \n",
    "    verbose=0,\n",
    "    callbacks=[progbar, es, ms, csv_log, sg],\n",
    "    workers=-1,\n",
    "    use_multiprocessing=True,\n",
    "    validation_data=test_ds,\n",
    "    validation_steps=100\n",
    ")"
   ]
  },
  {
   "cell_type": "code",
   "execution_count": null,
   "metadata": {},
   "outputs": [],
   "source": []
  },
  {
   "cell_type": "code",
   "execution_count": null,
   "metadata": {},
   "outputs": [],
   "source": []
  },
  {
   "cell_type": "code",
   "execution_count": null,
   "metadata": {},
   "outputs": [],
   "source": []
  },
  {
   "cell_type": "code",
   "execution_count": null,
   "metadata": {},
   "outputs": [],
   "source": []
  },
  {
   "cell_type": "code",
   "execution_count": null,
   "metadata": {},
   "outputs": [],
   "source": []
  },
  {
   "cell_type": "code",
   "execution_count": null,
   "metadata": {},
   "outputs": [],
   "source": []
  },
  {
   "cell_type": "code",
   "execution_count": null,
   "metadata": {},
   "outputs": [],
   "source": []
  },
  {
   "cell_type": "code",
   "execution_count": null,
   "metadata": {},
   "outputs": [],
   "source": []
  }
 ],
 "metadata": {
  "kernelspec": {
   "display_name": "Python 3",
   "language": "python",
   "name": "python3"
  },
  "language_info": {
   "codemirror_mode": {
    "name": "ipython",
    "version": 3
   },
   "file_extension": ".py",
   "mimetype": "text/x-python",
   "name": "python",
   "nbconvert_exporter": "python",
   "pygments_lexer": "ipython3",
   "version": "3.7.5"
  }
 },
 "nbformat": 4,
 "nbformat_minor": 2
}
