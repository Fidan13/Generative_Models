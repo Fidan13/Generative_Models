{
  "nbformat": 4,
  "nbformat_minor": 0,
  "metadata": {
    "kernelspec": {
      "name": "python3",
      "display_name": "Python 3"
    },
    "language_info": {
      "codemirror_mode": {
        "name": "ipython",
        "version": 3
      },
      "file_extension": ".py",
      "mimetype": "text/x-python",
      "name": "python",
      "nbconvert_exporter": "python",
      "pygments_lexer": "ipython3",
      "version": "3.7.5"
    },
    "colab": {
      "name": "Atari AE dense_old.ipynb",
      "provenance": [],
      "toc_visible": true
    },
    "accelerator": "TPU"
  },
  "cells": [
    {
      "cell_type": "markdown",
      "metadata": {
        "id": "FaAUkhTxnzQT",
        "colab_type": "text"
      },
      "source": [
        "# To run in colab"
      ]
    },
    {
      "cell_type": "code",
      "metadata": {
        "id": "fBNvxnE75KkY",
        "colab_type": "code",
        "outputId": "4124eaf1-8c46-4019-dd9b-dfb872dd8265",
        "colab": {
          "base_uri": "https://localhost:8080/",
          "height": 34
        }
      },
      "source": [
        "import tensorflow as tf\n",
        "print(tf.__version__)"
      ],
      "execution_count": 0,
      "outputs": [
        {
          "output_type": "stream",
          "text": [
            "2.1.0-rc1\n"
          ],
          "name": "stdout"
        }
      ]
    },
    {
      "cell_type": "code",
      "metadata": {
        "id": "8NG-p_XGaauI",
        "colab_type": "code",
        "colab": {}
      },
      "source": [
        "from __future__ import absolute_import, division, print_function, unicode_literals\n",
        "\n",
        "# Install TensorFlow\n",
        "try:\n",
        "  # %tensorflow_version only exists in Colab.\n",
        "  %tensorflow_version 2.x\n",
        "except Exception:\n",
        "  pass\n",
        "\n",
        "import tensorflow as tf"
      ],
      "execution_count": 0,
      "outputs": []
    },
    {
      "cell_type": "code",
      "metadata": {
        "id": "WyuGVtb85Nq3",
        "colab_type": "code",
        "outputId": "dd359626-f3c9-4d11-c6e7-cac3ce6fb25d",
        "colab": {
          "base_uri": "https://localhost:8080/",
          "height": 374
        }
      },
      "source": [
        "#Required packages\n",
        "!pip install colorlog\n",
        "!pip install keras_radam"
      ],
      "execution_count": 0,
      "outputs": [
        {
          "output_type": "stream",
          "text": [
            "Collecting colorlog\n",
            "  Downloading https://files.pythonhosted.org/packages/68/4d/892728b0c14547224f0ac40884e722a3d00cb54e7a146aea0b3186806c9e/colorlog-4.0.2-py2.py3-none-any.whl\n",
            "Installing collected packages: colorlog\n",
            "Successfully installed colorlog-4.0.2\n",
            "Collecting keras_radam\n",
            "  Downloading https://files.pythonhosted.org/packages/46/8d/b83ccaa94253fbc920b21981f038393041d92236bb541751b98a66a2ac1d/keras-radam-0.15.0.tar.gz\n",
            "Requirement already satisfied: numpy in /tensorflow-2.1.0/python3.6 (from keras_radam) (1.17.4)\n",
            "Requirement already satisfied: Keras in /usr/local/lib/python3.6/dist-packages (from keras_radam) (2.2.5)\n",
            "Requirement already satisfied: pyyaml in /usr/local/lib/python3.6/dist-packages (from Keras->keras_radam) (3.13)\n",
            "Requirement already satisfied: six>=1.9.0 in /tensorflow-2.1.0/python3.6 (from Keras->keras_radam) (1.13.0)\n",
            "Requirement already satisfied: keras-preprocessing>=1.1.0 in /tensorflow-2.1.0/python3.6 (from Keras->keras_radam) (1.1.0)\n",
            "Requirement already satisfied: keras-applications>=1.0.8 in /tensorflow-2.1.0/python3.6 (from Keras->keras_radam) (1.0.8)\n",
            "Requirement already satisfied: h5py in /tensorflow-2.1.0/python3.6 (from Keras->keras_radam) (2.10.0)\n",
            "Requirement already satisfied: scipy>=0.14 in /usr/local/lib/python3.6/dist-packages (from Keras->keras_radam) (1.3.3)\n",
            "Building wheels for collected packages: keras-radam\n",
            "  Building wheel for keras-radam (setup.py) ... \u001b[?25l\u001b[?25hdone\n",
            "  Created wheel for keras-radam: filename=keras_radam-0.15.0-cp36-none-any.whl size=14686 sha256=7753176dd20f17f877a0d27b02267cf82c45018adcbd0190e5eeb7cb7874d082\n",
            "  Stored in directory: /root/.cache/pip/wheels/79/a0/c0/670b0a118e8f078539fafec7bd02eba0af921f745660c7f83f\n",
            "Successfully built keras-radam\n",
            "Installing collected packages: keras-radam\n",
            "Successfully installed keras-radam-0.15.0\n"
          ],
          "name": "stdout"
        }
      ]
    },
    {
      "cell_type": "code",
      "metadata": {
        "id": "0zbi2r-8nENp",
        "colab_type": "code",
        "outputId": "a59172fe-dc67-48ca-b909-b2fa490f967c",
        "colab": {
          "base_uri": "https://localhost:8080/",
          "height": 85
        }
      },
      "source": [
        "!git clone https://github.com/kkahloots/Generative_Models.git"
      ],
      "execution_count": 0,
      "outputs": [
        {
          "output_type": "stream",
          "text": [
            "Cloning into 'Generative_Models'...\n",
            "remote: Enumerating objects: 75, done.\u001b[K\n",
            "remote: Total 75 (delta 0), reused 0 (delta 0), pack-reused 75\n",
            "Unpacking objects: 100% (75/75), done.\n"
          ],
          "name": "stdout"
        }
      ]
    },
    {
      "cell_type": "markdown",
      "metadata": {
        "id": "66BWqWxGnTns",
        "colab_type": "text"
      },
      "source": [
        "# Download Data"
      ]
    },
    {
      "cell_type": "code",
      "metadata": {
        "id": "fu7ro458qArA",
        "colab_type": "code",
        "colab": {}
      },
      "source": [
        "!cd /content/"
      ],
      "execution_count": 0,
      "outputs": []
    },
    {
      "cell_type": "code",
      "metadata": {
        "id": "JqZLLyLOnTCM",
        "colab_type": "code",
        "outputId": "ba4c4b51-8b67-4418-a26a-03ee17601a80",
        "colab": {
          "base_uri": "https://localhost:8080/",
          "height": 258
        }
      },
      "source": [
        "!wget https://omnomnom.vision.rwth-aachen.de/data/atari_v1_release/mspacman.tar.gz -P /content --no-check-certificate\n",
        "!cd /content/Generative_Models/data"
      ],
      "execution_count": 0,
      "outputs": [
        {
          "output_type": "stream",
          "text": [
            "--2019-12-28 02:59:28--  https://omnomnom.vision.rwth-aachen.de/data/atari_v1_release/mspacman.tar.gz\n",
            "Resolving omnomnom.vision.rwth-aachen.de (omnomnom.vision.rwth-aachen.de)... 137.226.34.132\n",
            "Connecting to omnomnom.vision.rwth-aachen.de (omnomnom.vision.rwth-aachen.de)|137.226.34.132|:443... connected.\n",
            "WARNING: cannot verify omnomnom.vision.rwth-aachen.de's certificate, issued by ‘CN=DFN-Verein Global Issuing CA,OU=DFN-PKI,O=Verein zur Foerderung eines Deutschen Forschungsnetzes e. V.,C=DE’:\n",
            "  Unable to locally verify the issuer's authority.\n",
            "HTTP request sent, awaiting response... 200 OK\n",
            "Length: 3180918265 (3.0G) [application/octet-stream]\n",
            "Saving to: ‘/content/mspacman.tar.gz’\n",
            "\n",
            "mspacman.tar.gz     100%[===================>]   2.96G  10.9MB/s    in 4m 44s  \n",
            "\n",
            "2019-12-28 03:04:13 (10.7 MB/s) - ‘/content/mspacman.tar.gz’ saved [3180918265/3180918265]\n",
            "\n"
          ],
          "name": "stdout"
        }
      ]
    },
    {
      "cell_type": "code",
      "metadata": {
        "id": "pdgCgACgtcWE",
        "colab_type": "code",
        "colab": {}
      },
      "source": [
        "!mkdir  /content/Generative_Models/data/.mspacman\n",
        "!tar -xf /content/mspacman.tar.gz -C /content/Generative_Models/data/.mspacman"
      ],
      "execution_count": 0,
      "outputs": []
    },
    {
      "cell_type": "code",
      "metadata": {
        "id": "C7SJgL794IXN",
        "colab_type": "code",
        "outputId": "b7118ed3-b765-457e-9f7b-75ebf1cd3e85",
        "colab": {
          "base_uri": "https://localhost:8080/",
          "height": 34
        }
      },
      "source": [
        "#%cd /content/Generative_Models/data/.mspacman/atari_v1/screens/mspacman\n",
        "#!ls -la"
      ],
      "execution_count": 0,
      "outputs": [
        {
          "output_type": "stream",
          "text": [
            "/content/Generative_Models/data/.mspacman/atari_v1/screens/mspacman\n"
          ],
          "name": "stdout"
        }
      ]
    },
    {
      "cell_type": "markdown",
      "metadata": {
        "id": "By5IJzX9qUsY",
        "colab_type": "text"
      },
      "source": [
        "# Run Original notebook|\n"
      ]
    },
    {
      "cell_type": "code",
      "metadata": {
        "id": "Z0L1R6nYm9uQ",
        "colab_type": "code",
        "colab": {}
      },
      "source": [
        "#import sys\n",
        "#sys.path.append('..')\n",
        "\n",
        "import os\n",
        "os.chdir(\"/content/Generative_Models/\")"
      ],
      "execution_count": 0,
      "outputs": []
    },
    {
      "cell_type": "code",
      "metadata": {
        "id": "4x1TMSPPm9uW",
        "colab_type": "code",
        "outputId": "0941686b-e321-4757-dc86-2e587c52fecc",
        "colab": {
          "base_uri": "https://localhost:8080/",
          "height": 34
        }
      },
      "source": [
        "from training.generators.FileImageGenerator import create_image_lists, get_generators"
      ],
      "execution_count": 0,
      "outputs": [
        {
          "output_type": "stream",
          "text": [
            "Using TensorFlow backend.\n"
          ],
          "name": "stderr"
        }
      ]
    },
    {
      "cell_type": "code",
      "metadata": {
        "id": "t8Vr460gm9ua",
        "colab_type": "code",
        "colab": {}
      },
      "source": [
        "#images_dir = '..\\\\data\\\\.mspacman\\\\atari_v1\\\\screens\\\\mspacman'\n",
        "images_dir = '/content/Generative_Models/data/.mspacman/atari_v1/screens/mspacman'\n",
        "validation_percentage = 25\n",
        "valid_format = 'png'"
      ],
      "execution_count": 0,
      "outputs": []
    },
    {
      "cell_type": "code",
      "metadata": {
        "id": "rSchKB8Vm9uc",
        "colab_type": "code",
        "outputId": "a4ebe6a2-d629-45ae-ab03-ff33cc035d51",
        "colab": {
          "base_uri": "https://localhost:8080/",
          "height": 1000
        }
      },
      "source": [
        "imgs_list = create_image_lists(\n",
        "    image_dir=images_dir, \n",
        "    validation_pct=validation_percentage, \n",
        "    valid_imgae_formats=valid_format\n",
        ")"
      ],
      "execution_count": 0,
      "outputs": [
        {
          "output_type": "stream",
          "text": [
            "  \u001b[37mDEBUG   \u001b[0m | \u001b[37mLooking for images in '499'\u001b[0m\n",
            "  \u001b[32mINFO    \u001b[0m | \u001b[32m10829 file found\u001b[0m\n",
            "  \u001b[37mDEBUG   \u001b[0m | \u001b[37mLooking for images in '564'\u001b[0m\n",
            "  \u001b[32mINFO    \u001b[0m | \u001b[32m2199 file found\u001b[0m\n",
            "  \u001b[37mDEBUG   \u001b[0m | \u001b[37mLooking for images in '69'\u001b[0m\n",
            "  \u001b[32mINFO    \u001b[0m | \u001b[32m3419 file found\u001b[0m\n",
            "  \u001b[37mDEBUG   \u001b[0m | \u001b[37mLooking for images in '287'\u001b[0m\n",
            "  \u001b[32mINFO    \u001b[0m | \u001b[32m6505 file found\u001b[0m\n",
            "  \u001b[37mDEBUG   \u001b[0m | \u001b[37mLooking for images in '546'\u001b[0m\n",
            "  \u001b[32mINFO    \u001b[0m | \u001b[32m4387 file found\u001b[0m\n",
            "  \u001b[37mDEBUG   \u001b[0m | \u001b[37mLooking for images in '532'\u001b[0m\n",
            "  \u001b[32mINFO    \u001b[0m | \u001b[32m7192 file found\u001b[0m\n"
          ],
          "name": "stderr"
        },
        {
          "output_type": "stream",
          "text": [
            "\n",
            "\n",
            "\n",
            "\n",
            "\n",
            "\n",
            "\n",
            "\n",
            "\n",
            "\n",
            "\n",
            "\n"
          ],
          "name": "stdout"
        },
        {
          "output_type": "stream",
          "text": [
            "  \u001b[37mDEBUG   \u001b[0m | \u001b[37mLooking for images in '135'\u001b[0m\n",
            "  \u001b[32mINFO    \u001b[0m | \u001b[32m633 file found\u001b[0m\n",
            "  \u001b[37mDEBUG   \u001b[0m | \u001b[37mLooking for images in '544'\u001b[0m\n",
            "  \u001b[32mINFO    \u001b[0m | \u001b[32m2348 file found\u001b[0m\n",
            "  \u001b[37mDEBUG   \u001b[0m | \u001b[37mLooking for images in '61'\u001b[0m\n",
            "  \u001b[32mINFO    \u001b[0m | \u001b[32m5972 file found\u001b[0m\n",
            "  \u001b[37mDEBUG   \u001b[0m | \u001b[37mLooking for images in '573'\u001b[0m\n",
            "  \u001b[32mINFO    \u001b[0m | \u001b[32m4964 file found\u001b[0m\n",
            "  \u001b[37mDEBUG   \u001b[0m | \u001b[37mLooking for images in '575'\u001b[0m\n",
            "  \u001b[32mINFO    \u001b[0m | \u001b[32m4055 file found\u001b[0m\n",
            "  \u001b[37mDEBUG   \u001b[0m | \u001b[37mLooking for images in '403'\u001b[0m\n",
            "  \u001b[32mINFO    \u001b[0m | \u001b[32m5842 file found\u001b[0m\n",
            "  \u001b[37mDEBUG   \u001b[0m | \u001b[37mLooking for images in '260'\u001b[0m\n",
            "  \u001b[32mINFO    \u001b[0m | \u001b[32m3698 file found\u001b[0m\n",
            "  \u001b[37mDEBUG   \u001b[0m | \u001b[37mLooking for images in '206'\u001b[0m\n"
          ],
          "name": "stderr"
        },
        {
          "output_type": "stream",
          "text": [
            "\n",
            "\n",
            "\n",
            "\n",
            "\n",
            "\n",
            "\n",
            "\n",
            "\n",
            "\n",
            "\n",
            "\n",
            "\n",
            "\n",
            "\n",
            "\n"
          ],
          "name": "stdout"
        },
        {
          "output_type": "stream",
          "text": [
            "  \u001b[32mINFO    \u001b[0m | \u001b[32m7654 file found\u001b[0m\n",
            "  \u001b[37mDEBUG   \u001b[0m | \u001b[37mLooking for images in '216'\u001b[0m\n",
            "  \u001b[32mINFO    \u001b[0m | \u001b[32m3064 file found\u001b[0m\n",
            "  \u001b[37mDEBUG   \u001b[0m | \u001b[37mLooking for images in '370'\u001b[0m\n",
            "  \u001b[32mINFO    \u001b[0m | \u001b[32m3638 file found\u001b[0m\n",
            "  \u001b[37mDEBUG   \u001b[0m | \u001b[37mLooking for images in '149'\u001b[0m\n",
            "  \u001b[32mINFO    \u001b[0m | \u001b[32m5645 file found\u001b[0m\n",
            "  \u001b[37mDEBUG   \u001b[0m | \u001b[37mLooking for images in '620'\u001b[0m\n",
            "  \u001b[32mINFO    \u001b[0m | \u001b[32m1524 file found\u001b[0m\n",
            "  \u001b[37mDEBUG   \u001b[0m | \u001b[37mLooking for images in '53'\u001b[0m\n",
            "  \u001b[32mINFO    \u001b[0m | \u001b[32m277 file found\u001b[0m\n",
            "  \u001b[37mDEBUG   \u001b[0m | \u001b[37mLooking for images in '329'\u001b[0m\n",
            "  \u001b[32mINFO    \u001b[0m | \u001b[32m283 file found\u001b[0m\n",
            "  \u001b[37mDEBUG   \u001b[0m | \u001b[37mLooking for images in '526'\u001b[0m\n",
            "  \u001b[32mINFO    \u001b[0m | \u001b[32m5315 file found\u001b[0m\n",
            "  \u001b[37mDEBUG   \u001b[0m | \u001b[37mLooking for images in '568'\u001b[0m\n",
            "  \u001b[32mINFO    \u001b[0m | \u001b[32m4431 file found\u001b[0m\n",
            "  \u001b[37mDEBUG   \u001b[0m | \u001b[37mLooking for images in '483'\u001b[0m\n"
          ],
          "name": "stderr"
        },
        {
          "output_type": "stream",
          "text": [
            "\n",
            "\n",
            "\n",
            "\n",
            "\n",
            "\n",
            "\n",
            "\n",
            "\n",
            "\n",
            "\n",
            "\n",
            "\n",
            "\n",
            "\n",
            "\n",
            "\n"
          ],
          "name": "stdout"
        },
        {
          "output_type": "stream",
          "text": [
            "  \u001b[32mINFO    \u001b[0m | \u001b[32m8589 file found\u001b[0m\n",
            "  \u001b[37mDEBUG   \u001b[0m | \u001b[37mLooking for images in '267'\u001b[0m\n",
            "  \u001b[32mINFO    \u001b[0m | \u001b[32m8242 file found\u001b[0m\n",
            "  \u001b[37mDEBUG   \u001b[0m | \u001b[37mLooking for images in '525'\u001b[0m\n",
            "  \u001b[32mINFO    \u001b[0m | \u001b[32m3206 file found\u001b[0m\n",
            "  \u001b[37mDEBUG   \u001b[0m | \u001b[37mLooking for images in '326'\u001b[0m\n",
            "  \u001b[32mINFO    \u001b[0m | \u001b[32m5250 file found\u001b[0m\n",
            "  \u001b[37mDEBUG   \u001b[0m | \u001b[37mLooking for images in '113'\u001b[0m\n",
            "  \u001b[32mINFO    \u001b[0m | \u001b[32m5912 file found\u001b[0m\n",
            "  \u001b[37mDEBUG   \u001b[0m | \u001b[37mLooking for images in '215'\u001b[0m\n",
            "  \u001b[32mINFO    \u001b[0m | \u001b[32m324 file found\u001b[0m\n",
            "  \u001b[37mDEBUG   \u001b[0m | \u001b[37mLooking for images in '463'\u001b[0m\n",
            "  \u001b[32mINFO    \u001b[0m | \u001b[32m4305 file found\u001b[0m\n"
          ],
          "name": "stderr"
        },
        {
          "output_type": "stream",
          "text": [
            "\n",
            "\n",
            "\n",
            "\n",
            "\n",
            "\n",
            "\n",
            "\n",
            "\n",
            "\n",
            "\n",
            "\n",
            "\n"
          ],
          "name": "stdout"
        },
        {
          "output_type": "stream",
          "text": [
            "  \u001b[37mDEBUG   \u001b[0m | \u001b[37mLooking for images in '186'\u001b[0m\n",
            "  \u001b[32mINFO    \u001b[0m | \u001b[32m3312 file found\u001b[0m\n",
            "  \u001b[37mDEBUG   \u001b[0m | \u001b[37mLooking for images in '177'\u001b[0m\n",
            "  \u001b[32mINFO    \u001b[0m | \u001b[32m2114 file found\u001b[0m\n",
            "  \u001b[37mDEBUG   \u001b[0m | \u001b[37mLooking for images in '273'\u001b[0m\n",
            "  \u001b[32mINFO    \u001b[0m | \u001b[32m4661 file found\u001b[0m\n",
            "  \u001b[37mDEBUG   \u001b[0m | \u001b[37mLooking for images in '582'\u001b[0m\n",
            "  \u001b[32mINFO    \u001b[0m | \u001b[32m1094 file found\u001b[0m\n",
            "  \u001b[37mDEBUG   \u001b[0m | \u001b[37mLooking for images in '127'\u001b[0m\n",
            "  \u001b[32mINFO    \u001b[0m | \u001b[32m4233 file found\u001b[0m\n",
            "  \u001b[37mDEBUG   \u001b[0m | \u001b[37mLooking for images in '24'\u001b[0m\n",
            "  \u001b[32mINFO    \u001b[0m | \u001b[32m355 file found\u001b[0m\n",
            "  \u001b[37mDEBUG   \u001b[0m | \u001b[37mLooking for images in '300'\u001b[0m\n",
            "  \u001b[32mINFO    \u001b[0m | \u001b[32m7125 file found\u001b[0m\n",
            "  \u001b[37mDEBUG   \u001b[0m | \u001b[37mLooking for images in '504'\u001b[0m\n",
            "  \u001b[32mINFO    \u001b[0m | \u001b[32m1924 file found\u001b[0m\n",
            "  \u001b[37mDEBUG   \u001b[0m | \u001b[37mLooking for images in '561'\u001b[0m\n"
          ],
          "name": "stderr"
        },
        {
          "output_type": "stream",
          "text": [
            "\n",
            "\n",
            "\n",
            "\n",
            "\n",
            "\n",
            "\n",
            "\n",
            "\n",
            "\n",
            "\n",
            "\n",
            "\n",
            "\n",
            "\n",
            "\n",
            "\n",
            "\n"
          ],
          "name": "stdout"
        },
        {
          "output_type": "stream",
          "text": [
            "  \u001b[32mINFO    \u001b[0m | \u001b[32m6445 file found\u001b[0m\n",
            "  \u001b[37mDEBUG   \u001b[0m | \u001b[37mLooking for images in '19'\u001b[0m\n",
            "  \u001b[32mINFO    \u001b[0m | \u001b[32m5034 file found\u001b[0m\n",
            "  \u001b[37mDEBUG   \u001b[0m | \u001b[37mLooking for images in '178'\u001b[0m\n",
            "  \u001b[32mINFO    \u001b[0m | \u001b[32m11830 file found\u001b[0m\n",
            "  \u001b[37mDEBUG   \u001b[0m | \u001b[37mLooking for images in '619'\u001b[0m\n",
            "  \u001b[32mINFO    \u001b[0m | \u001b[32m7745 file found\u001b[0m\n",
            "  \u001b[37mDEBUG   \u001b[0m | \u001b[37mLooking for images in '168'\u001b[0m\n",
            "  \u001b[32mINFO    \u001b[0m | \u001b[32m5732 file found\u001b[0m\n",
            "  \u001b[37mDEBUG   \u001b[0m | \u001b[37mLooking for images in '129'\u001b[0m\n"
          ],
          "name": "stderr"
        },
        {
          "output_type": "stream",
          "text": [
            "\n",
            "\n",
            "\n",
            "\n",
            "\n",
            "\n",
            "\n",
            "\n",
            "\n"
          ],
          "name": "stdout"
        },
        {
          "output_type": "stream",
          "text": [
            "  \u001b[32mINFO    \u001b[0m | \u001b[32m4530 file found\u001b[0m\n",
            "  \u001b[37mDEBUG   \u001b[0m | \u001b[37mLooking for images in '558'\u001b[0m\n",
            "  \u001b[32mINFO    \u001b[0m | \u001b[32m5580 file found\u001b[0m\n",
            "  \u001b[37mDEBUG   \u001b[0m | \u001b[37mLooking for images in '139'\u001b[0m\n",
            "  \u001b[32mINFO    \u001b[0m | \u001b[32m5656 file found\u001b[0m\n",
            "  \u001b[37mDEBUG   \u001b[0m | \u001b[37mLooking for images in '8'\u001b[0m\n",
            "  \u001b[32mINFO    \u001b[0m | \u001b[32m1569 file found\u001b[0m\n",
            "  \u001b[37mDEBUG   \u001b[0m | \u001b[37mLooking for images in '388'\u001b[0m\n",
            "  \u001b[32mINFO    \u001b[0m | \u001b[32m3450 file found\u001b[0m\n",
            "  \u001b[37mDEBUG   \u001b[0m | \u001b[37mLooking for images in '138'\u001b[0m\n",
            "  \u001b[32mINFO    \u001b[0m | \u001b[32m6003 file found\u001b[0m\n",
            "  \u001b[37mDEBUG   \u001b[0m | \u001b[37mLooking for images in '25'\u001b[0m\n",
            "  \u001b[32mINFO    \u001b[0m | \u001b[32m5930 file found\u001b[0m\n",
            "  \u001b[37mDEBUG   \u001b[0m | \u001b[37mLooking for images in '580'\u001b[0m\n"
          ],
          "name": "stderr"
        },
        {
          "output_type": "stream",
          "text": [
            "\n",
            "\n",
            "\n",
            "\n",
            "\n",
            "\n",
            "\n",
            "\n",
            "\n",
            "\n",
            "\n",
            "\n",
            "\n",
            "\n"
          ],
          "name": "stdout"
        },
        {
          "output_type": "stream",
          "text": [
            "  \u001b[32mINFO    \u001b[0m | \u001b[32m5881 file found\u001b[0m\n",
            "  \u001b[37mDEBUG   \u001b[0m | \u001b[37mLooking for images in '3'\u001b[0m\n",
            "  \u001b[32mINFO    \u001b[0m | \u001b[32m325 file found\u001b[0m\n",
            "  \u001b[37mDEBUG   \u001b[0m | \u001b[37mLooking for images in '316'\u001b[0m\n",
            "  \u001b[32mINFO    \u001b[0m | \u001b[32m4033 file found\u001b[0m\n",
            "  \u001b[37mDEBUG   \u001b[0m | \u001b[37mLooking for images in '367'\u001b[0m\n",
            "  \u001b[32mINFO    \u001b[0m | \u001b[32m702 file found\u001b[0m\n",
            "  \u001b[37mDEBUG   \u001b[0m | \u001b[37mLooking for images in '358'\u001b[0m\n",
            "  \u001b[32mINFO    \u001b[0m | \u001b[32m3528 file found\u001b[0m\n",
            "  \u001b[37mDEBUG   \u001b[0m | \u001b[37mLooking for images in '167'\u001b[0m\n",
            "  \u001b[32mINFO    \u001b[0m | \u001b[32m280 file found\u001b[0m\n",
            "  \u001b[37mDEBUG   \u001b[0m | \u001b[37mLooking for images in '615'\u001b[0m\n",
            "  \u001b[32mINFO    \u001b[0m | \u001b[32m4451 file found\u001b[0m\n",
            "  \u001b[37mDEBUG   \u001b[0m | \u001b[37mLooking for images in '289'\u001b[0m\n",
            "  \u001b[32mINFO    \u001b[0m | \u001b[32m302 file found\u001b[0m\n",
            "  \u001b[37mDEBUG   \u001b[0m | \u001b[37mLooking for images in '448'\u001b[0m\n",
            "  \u001b[32mINFO    \u001b[0m | \u001b[32m4619 file found\u001b[0m\n",
            "  \u001b[37mDEBUG   \u001b[0m | \u001b[37mLooking for images in '119'\u001b[0m\n",
            "  \u001b[32mINFO    \u001b[0m | \u001b[32m8341 file found\u001b[0m\n"
          ],
          "name": "stderr"
        },
        {
          "output_type": "stream",
          "text": [
            "\n",
            "\n",
            "\n",
            "\n",
            "\n",
            "\n",
            "\n",
            "\n",
            "\n",
            "\n",
            "\n",
            "\n",
            "\n",
            "\n",
            "\n",
            "\n",
            "\n",
            "\n",
            "\n"
          ],
          "name": "stdout"
        },
        {
          "output_type": "stream",
          "text": [
            "  \u001b[37mDEBUG   \u001b[0m | \u001b[37mLooking for images in '389'\u001b[0m\n",
            "  \u001b[32mINFO    \u001b[0m | \u001b[32m5314 file found\u001b[0m\n",
            "  \u001b[37mDEBUG   \u001b[0m | \u001b[37mLooking for images in '157'\u001b[0m\n",
            "  \u001b[32mINFO    \u001b[0m | \u001b[32m288 file found\u001b[0m\n",
            "  \u001b[37mDEBUG   \u001b[0m | \u001b[37mLooking for images in '364'\u001b[0m\n",
            "  \u001b[32mINFO    \u001b[0m | \u001b[32m4880 file found\u001b[0m\n",
            "  \u001b[37mDEBUG   \u001b[0m | \u001b[37mLooking for images in '32'\u001b[0m\n",
            "  \u001b[32mINFO    \u001b[0m | \u001b[32m274 file found\u001b[0m\n",
            "  \u001b[37mDEBUG   \u001b[0m | \u001b[37mLooking for images in '36'\u001b[0m\n",
            "  \u001b[32mINFO    \u001b[0m | \u001b[32m5176 file found\u001b[0m\n",
            "  \u001b[37mDEBUG   \u001b[0m | \u001b[37mLooking for images in '353'\u001b[0m\n",
            "  \u001b[32mINFO    \u001b[0m | \u001b[32m4486 file found\u001b[0m\n",
            "  \u001b[37mDEBUG   \u001b[0m | \u001b[37mLooking for images in '520'\u001b[0m\n",
            "  \u001b[32mINFO    \u001b[0m | \u001b[32m9374 file found\u001b[0m\n"
          ],
          "name": "stderr"
        },
        {
          "output_type": "stream",
          "text": [
            "\n",
            "\n",
            "\n",
            "\n",
            "\n",
            "\n",
            "\n",
            "\n",
            "\n",
            "\n",
            "\n",
            "\n",
            "\n",
            "\n"
          ],
          "name": "stdout"
        },
        {
          "output_type": "stream",
          "text": [
            "  \u001b[37mDEBUG   \u001b[0m | \u001b[37mLooking for images in '510'\u001b[0m\n",
            "  \u001b[32mINFO    \u001b[0m | \u001b[32m4658 file found\u001b[0m\n",
            "  \u001b[37mDEBUG   \u001b[0m | \u001b[37mLooking for images in '565'\u001b[0m\n",
            "  \u001b[32mINFO    \u001b[0m | \u001b[32m320 file found\u001b[0m\n",
            "  \u001b[37mDEBUG   \u001b[0m | \u001b[37mLooking for images in '90'\u001b[0m\n",
            "  \u001b[32mINFO    \u001b[0m | \u001b[32m7121 file found\u001b[0m\n",
            "  \u001b[37mDEBUG   \u001b[0m | \u001b[37mLooking for images in '363'\u001b[0m\n",
            "  \u001b[32mINFO    \u001b[0m | \u001b[32m3134 file found\u001b[0m\n",
            "  \u001b[37mDEBUG   \u001b[0m | \u001b[37mLooking for images in '467'\u001b[0m\n",
            "  \u001b[32mINFO    \u001b[0m | \u001b[32m6221 file found\u001b[0m\n",
            "  \u001b[37mDEBUG   \u001b[0m | \u001b[37mLooking for images in '219'\u001b[0m\n",
            "  \u001b[32mINFO    \u001b[0m | \u001b[32m2704 file found\u001b[0m\n",
            "  \u001b[37mDEBUG   \u001b[0m | \u001b[37mLooking for images in '433'\u001b[0m\n",
            "  \u001b[32mINFO    \u001b[0m | \u001b[32m1392 file found\u001b[0m\n",
            "  \u001b[37mDEBUG   \u001b[0m | \u001b[37mLooking for images in '637'\u001b[0m\n",
            "  \u001b[32mINFO    \u001b[0m | \u001b[32m3707 file found\u001b[0m\n"
          ],
          "name": "stderr"
        },
        {
          "output_type": "stream",
          "text": [
            "\n",
            "\n",
            "\n",
            "\n",
            "\n",
            "\n",
            "\n",
            "\n",
            "\n",
            "\n",
            "\n",
            "\n",
            "\n",
            "\n",
            "\n",
            "\n",
            "\n"
          ],
          "name": "stdout"
        },
        {
          "output_type": "stream",
          "text": [
            "  \u001b[37mDEBUG   \u001b[0m | \u001b[37mLooking for images in '294'\u001b[0m\n",
            "  \u001b[32mINFO    \u001b[0m | \u001b[32m5131 file found\u001b[0m\n",
            "  \u001b[37mDEBUG   \u001b[0m | \u001b[37mLooking for images in '598'\u001b[0m\n",
            "  \u001b[32mINFO    \u001b[0m | \u001b[32m2112 file found\u001b[0m\n",
            "  \u001b[37mDEBUG   \u001b[0m | \u001b[37mLooking for images in '470'\u001b[0m\n",
            "  \u001b[32mINFO    \u001b[0m | \u001b[32m4701 file found\u001b[0m\n",
            "  \u001b[37mDEBUG   \u001b[0m | \u001b[37mLooking for images in '553'\u001b[0m\n",
            "  \u001b[32mINFO    \u001b[0m | \u001b[32m4392 file found\u001b[0m\n",
            "  \u001b[37mDEBUG   \u001b[0m | \u001b[37mLooking for images in '547'\u001b[0m\n",
            "  \u001b[32mINFO    \u001b[0m | \u001b[32m2501 file found\u001b[0m\n",
            "  \u001b[37mDEBUG   \u001b[0m | \u001b[37mLooking for images in '563'\u001b[0m\n",
            "  \u001b[32mINFO    \u001b[0m | \u001b[32m4496 file found\u001b[0m\n",
            "  \u001b[37mDEBUG   \u001b[0m | \u001b[37mLooking for images in '281'\u001b[0m\n",
            "  \u001b[32mINFO    \u001b[0m | \u001b[32m5051 file found\u001b[0m\n",
            "  \u001b[37mDEBUG   \u001b[0m | \u001b[37mLooking for images in '259'\u001b[0m\n",
            "  \u001b[32mINFO    \u001b[0m | \u001b[32m2159 file found\u001b[0m\n"
          ],
          "name": "stderr"
        },
        {
          "output_type": "stream",
          "text": [
            "\n",
            "\n",
            "\n",
            "\n",
            "\n",
            "\n",
            "\n",
            "\n",
            "\n",
            "\n",
            "\n",
            "\n",
            "\n",
            "\n",
            "\n"
          ],
          "name": "stdout"
        },
        {
          "output_type": "stream",
          "text": [
            "  \u001b[37mDEBUG   \u001b[0m | \u001b[37mLooking for images in '99'\u001b[0m\n",
            "  \u001b[32mINFO    \u001b[0m | \u001b[32m2539 file found\u001b[0m\n",
            "  \u001b[37mDEBUG   \u001b[0m | \u001b[37mLooking for images in '471'\u001b[0m\n",
            "  \u001b[32mINFO    \u001b[0m | \u001b[32m7228 file found\u001b[0m\n",
            "  \u001b[37mDEBUG   \u001b[0m | \u001b[37mLooking for images in '369'\u001b[0m\n",
            "  \u001b[32mINFO    \u001b[0m | \u001b[32m7538 file found\u001b[0m\n",
            "  \u001b[37mDEBUG   \u001b[0m | \u001b[37mLooking for images in '151'\u001b[0m\n",
            "  \u001b[32mINFO    \u001b[0m | \u001b[32m9733 file found\u001b[0m\n",
            "  \u001b[37mDEBUG   \u001b[0m | \u001b[37mLooking for images in '394'\u001b[0m\n",
            "  \u001b[32mINFO    \u001b[0m | \u001b[32m4584 file found\u001b[0m\n",
            "  \u001b[37mDEBUG   \u001b[0m | \u001b[37mLooking for images in '527'\u001b[0m\n"
          ],
          "name": "stderr"
        },
        {
          "output_type": "stream",
          "text": [
            "\n",
            "\n",
            "\n",
            "\n",
            "\n",
            "\n",
            "\n",
            "\n",
            "\n",
            "\n",
            "\n"
          ],
          "name": "stdout"
        },
        {
          "output_type": "stream",
          "text": [
            "  \u001b[32mINFO    \u001b[0m | \u001b[32m770 file found\u001b[0m\n",
            "  \u001b[37mDEBUG   \u001b[0m | \u001b[37mLooking for images in '204'\u001b[0m\n",
            "  \u001b[32mINFO    \u001b[0m | \u001b[32m4800 file found\u001b[0m\n",
            "  \u001b[37mDEBUG   \u001b[0m | \u001b[37mLooking for images in '570'\u001b[0m\n",
            "  \u001b[32mINFO    \u001b[0m | \u001b[32m4564 file found\u001b[0m\n",
            "  \u001b[37mDEBUG   \u001b[0m | \u001b[37mLooking for images in '68'\u001b[0m\n",
            "  \u001b[32mINFO    \u001b[0m | \u001b[32m4734 file found\u001b[0m\n",
            "  \u001b[37mDEBUG   \u001b[0m | \u001b[37mLooking for images in '587'\u001b[0m\n",
            "  \u001b[32mINFO    \u001b[0m | \u001b[32m6660 file found\u001b[0m\n",
            "  \u001b[37mDEBUG   \u001b[0m | \u001b[37mLooking for images in '451'\u001b[0m\n",
            "  \u001b[32mINFO    \u001b[0m | \u001b[32m4034 file found\u001b[0m\n",
            "  \u001b[37mDEBUG   \u001b[0m | \u001b[37mLooking for images in '635'\u001b[0m\n"
          ],
          "name": "stderr"
        },
        {
          "output_type": "stream",
          "text": [
            "\n",
            "\n",
            "\n",
            "\n",
            "\n",
            "\n",
            "\n",
            "\n",
            "\n",
            "\n",
            "\n",
            "\n",
            "\n"
          ],
          "name": "stdout"
        },
        {
          "output_type": "stream",
          "text": [
            "  \u001b[32mINFO    \u001b[0m | \u001b[32m4681 file found\u001b[0m\n",
            "  \u001b[37mDEBUG   \u001b[0m | \u001b[37mLooking for images in '66'\u001b[0m\n",
            "  \u001b[32mINFO    \u001b[0m | \u001b[32m3297 file found\u001b[0m\n",
            "  \u001b[37mDEBUG   \u001b[0m | \u001b[37mLooking for images in '182'\u001b[0m\n",
            "  \u001b[32mINFO    \u001b[0m | \u001b[32m2319 file found\u001b[0m\n",
            "  \u001b[37mDEBUG   \u001b[0m | \u001b[37mLooking for images in '594'\u001b[0m\n",
            "  \u001b[32mINFO    \u001b[0m | \u001b[32m4196 file found\u001b[0m\n",
            "  \u001b[37mDEBUG   \u001b[0m | \u001b[37mLooking for images in '7'\u001b[0m\n",
            "  \u001b[32mINFO    \u001b[0m | \u001b[32m2089 file found\u001b[0m\n",
            "  \u001b[37mDEBUG   \u001b[0m | \u001b[37mLooking for images in '110'\u001b[0m\n",
            "  \u001b[32mINFO    \u001b[0m | \u001b[32m7136 file found\u001b[0m\n",
            "  \u001b[37mDEBUG   \u001b[0m | \u001b[37mLooking for images in '78'\u001b[0m\n",
            "  \u001b[32mINFO    \u001b[0m | \u001b[32m3519 file found\u001b[0m\n",
            "  \u001b[37mDEBUG   \u001b[0m | \u001b[37mLooking for images in '589'\u001b[0m\n",
            "  \u001b[32mINFO    \u001b[0m | \u001b[32m3959 file found\u001b[0m\n",
            "  \u001b[37mDEBUG   \u001b[0m | \u001b[37mLooking for images in '458'\u001b[0m\n",
            "  \u001b[32mINFO    \u001b[0m | \u001b[32m3932 file found\u001b[0m\n"
          ],
          "name": "stderr"
        },
        {
          "output_type": "stream",
          "text": [
            "\n",
            "\n",
            "\n",
            "\n",
            "\n",
            "\n",
            "\n",
            "\n",
            "\n",
            "\n",
            "\n",
            "\n",
            "\n",
            "\n",
            "\n",
            "\n",
            "\n"
          ],
          "name": "stdout"
        },
        {
          "output_type": "stream",
          "text": [
            "  \u001b[37mDEBUG   \u001b[0m | \u001b[37mLooking for images in '241'\u001b[0m\n",
            "  \u001b[32mINFO    \u001b[0m | \u001b[32m7788 file found\u001b[0m\n",
            "  \u001b[37mDEBUG   \u001b[0m | \u001b[37mLooking for images in '405'\u001b[0m\n",
            "  \u001b[32mINFO    \u001b[0m | \u001b[32m1115 file found\u001b[0m\n",
            "  \u001b[37mDEBUG   \u001b[0m | \u001b[37mLooking for images in '522'\u001b[0m\n",
            "  \u001b[32mINFO    \u001b[0m | \u001b[32m6363 file found\u001b[0m\n",
            "  \u001b[37mDEBUG   \u001b[0m | \u001b[37mLooking for images in '60'\u001b[0m\n",
            "  \u001b[32mINFO    \u001b[0m | \u001b[32m5953 file found\u001b[0m\n",
            "  \u001b[37mDEBUG   \u001b[0m | \u001b[37mLooking for images in '616'\u001b[0m\n",
            "  \u001b[32mINFO    \u001b[0m | \u001b[32m10032 file found\u001b[0m\n",
            "  \u001b[37mDEBUG   \u001b[0m | \u001b[37mLooking for images in '63'\u001b[0m\n",
            "  \u001b[32mINFO    \u001b[0m | \u001b[32m6821 file found\u001b[0m\n"
          ],
          "name": "stderr"
        },
        {
          "output_type": "stream",
          "text": [
            "\n",
            "\n",
            "\n",
            "\n",
            "\n",
            "\n",
            "\n",
            "\n",
            "\n",
            "\n",
            "\n"
          ],
          "name": "stdout"
        },
        {
          "output_type": "stream",
          "text": [
            "  \u001b[37mDEBUG   \u001b[0m | \u001b[37mLooking for images in '245'\u001b[0m\n",
            "  \u001b[32mINFO    \u001b[0m | \u001b[32m333 file found\u001b[0m\n",
            "  \u001b[37mDEBUG   \u001b[0m | \u001b[37mLooking for images in '257'\u001b[0m\n",
            "  \u001b[32mINFO    \u001b[0m | \u001b[32m2865 file found\u001b[0m\n",
            "  \u001b[37mDEBUG   \u001b[0m | \u001b[37mLooking for images in '348'\u001b[0m\n",
            "  \u001b[32mINFO    \u001b[0m | \u001b[32m1527 file found\u001b[0m\n",
            "  \u001b[37mDEBUG   \u001b[0m | \u001b[37mLooking for images in '420'\u001b[0m\n",
            "  \u001b[32mINFO    \u001b[0m | \u001b[32m346 file found\u001b[0m\n",
            "  \u001b[37mDEBUG   \u001b[0m | \u001b[37mLooking for images in '277'\u001b[0m\n",
            "  \u001b[32mINFO    \u001b[0m | \u001b[32m298 file found\u001b[0m\n",
            "  \u001b[37mDEBUG   \u001b[0m | \u001b[37mLooking for images in '21'\u001b[0m\n",
            "  \u001b[32mINFO    \u001b[0m | \u001b[32m3297 file found\u001b[0m\n",
            "  \u001b[37mDEBUG   \u001b[0m | \u001b[37mLooking for images in '209'\u001b[0m\n",
            "  \u001b[32mINFO    \u001b[0m | \u001b[32m294 file found\u001b[0m\n",
            "  \u001b[37mDEBUG   \u001b[0m | \u001b[37mLooking for images in '586'\u001b[0m\n",
            "  \u001b[32mINFO    \u001b[0m | \u001b[32m8899 file found\u001b[0m\n",
            "  \u001b[37mDEBUG   \u001b[0m | \u001b[37mLooking for images in '599'\u001b[0m\n",
            "  \u001b[32mINFO    \u001b[0m | \u001b[32m3325 file found\u001b[0m\n",
            "  \u001b[37mDEBUG   \u001b[0m | \u001b[37mLooking for images in '76'\u001b[0m\n",
            "  \u001b[32mINFO    \u001b[0m | \u001b[32m4365 file found\u001b[0m\n",
            "  \u001b[37mDEBUG   \u001b[0m | \u001b[37mLooking for images in '415'\u001b[0m\n",
            "  \u001b[32mINFO    \u001b[0m | \u001b[32m1830 file found\u001b[0m\n"
          ],
          "name": "stderr"
        },
        {
          "output_type": "stream",
          "text": [
            "\n",
            "\n",
            "\n",
            "\n",
            "\n",
            "\n",
            "\n",
            "\n",
            "\n",
            "\n",
            "\n",
            "\n",
            "\n",
            "\n",
            "\n",
            "\n",
            "\n",
            "\n",
            "\n",
            "\n",
            "\n",
            "\n"
          ],
          "name": "stdout"
        },
        {
          "output_type": "stream",
          "text": [
            "  \u001b[37mDEBUG   \u001b[0m | \u001b[37mLooking for images in '610'\u001b[0m\n",
            "  \u001b[32mINFO    \u001b[0m | \u001b[32m3530 file found\u001b[0m\n",
            "  \u001b[37mDEBUG   \u001b[0m | \u001b[37mLooking for images in '419'\u001b[0m\n",
            "  \u001b[32mINFO    \u001b[0m | \u001b[32m4462 file found\u001b[0m\n",
            "  \u001b[37mDEBUG   \u001b[0m | \u001b[37mLooking for images in '81'\u001b[0m\n",
            "  \u001b[32mINFO    \u001b[0m | \u001b[32m10113 file found\u001b[0m\n",
            "  \u001b[37mDEBUG   \u001b[0m | \u001b[37mLooking for images in '602'\u001b[0m\n",
            "  \u001b[32mINFO    \u001b[0m | \u001b[32m4201 file found\u001b[0m\n",
            "  \u001b[37mDEBUG   \u001b[0m | \u001b[37mLooking for images in '148'\u001b[0m\n",
            "  \u001b[32mINFO    \u001b[0m | \u001b[32m2121 file found\u001b[0m\n",
            "  \u001b[37mDEBUG   \u001b[0m | \u001b[37mLooking for images in '346'\u001b[0m\n",
            "  \u001b[32mINFO    \u001b[0m | \u001b[32m2841 file found\u001b[0m\n",
            "  \u001b[37mDEBUG   \u001b[0m | \u001b[37mLooking for images in '482'\u001b[0m\n",
            "  \u001b[32mINFO    \u001b[0m | \u001b[32m6667 file found\u001b[0m\n"
          ],
          "name": "stderr"
        },
        {
          "output_type": "stream",
          "text": [
            "\n",
            "\n",
            "\n",
            "\n",
            "\n",
            "\n",
            "\n",
            "\n",
            "\n",
            "\n",
            "\n",
            "\n",
            "\n",
            "\n"
          ],
          "name": "stdout"
        },
        {
          "output_type": "stream",
          "text": [
            "  \u001b[37mDEBUG   \u001b[0m | \u001b[37mLooking for images in '382'\u001b[0m\n",
            "  \u001b[32mINFO    \u001b[0m | \u001b[32m11511 file found\u001b[0m\n",
            "  \u001b[37mDEBUG   \u001b[0m | \u001b[37mLooking for images in '436'\u001b[0m\n",
            "  \u001b[32mINFO    \u001b[0m | \u001b[32m5236 file found\u001b[0m\n",
            "  \u001b[37mDEBUG   \u001b[0m | \u001b[37mLooking for images in '94'\u001b[0m\n",
            "  \u001b[32mINFO    \u001b[0m | \u001b[32m3089 file found\u001b[0m\n",
            "  \u001b[37mDEBUG   \u001b[0m | \u001b[37mLooking for images in '292'\u001b[0m\n",
            "  \u001b[32mINFO    \u001b[0m | \u001b[32m5082 file found\u001b[0m\n",
            "  \u001b[37mDEBUG   \u001b[0m | \u001b[37mLooking for images in '350'\u001b[0m\n",
            "  \u001b[32mINFO    \u001b[0m | \u001b[32m4432 file found\u001b[0m\n",
            "  \u001b[37mDEBUG   \u001b[0m | \u001b[37mLooking for images in '31'\u001b[0m\n",
            "  \u001b[32mINFO    \u001b[0m | \u001b[32m4473 file found\u001b[0m\n"
          ],
          "name": "stderr"
        },
        {
          "output_type": "stream",
          "text": [
            "\n",
            "\n",
            "\n",
            "\n",
            "\n",
            "\n",
            "\n",
            "\n",
            "\n",
            "\n",
            "\n",
            "\n"
          ],
          "name": "stdout"
        },
        {
          "output_type": "stream",
          "text": [
            "  \u001b[37mDEBUG   \u001b[0m | \u001b[37mLooking for images in '102'\u001b[0m\n",
            "  \u001b[32mINFO    \u001b[0m | \u001b[32m5777 file found\u001b[0m\n",
            "  \u001b[37mDEBUG   \u001b[0m | \u001b[37mLooking for images in '152'\u001b[0m\n",
            "  \u001b[32mINFO    \u001b[0m | \u001b[32m3481 file found\u001b[0m\n",
            "  \u001b[37mDEBUG   \u001b[0m | \u001b[37mLooking for images in '133'\u001b[0m\n",
            "  \u001b[32mINFO    \u001b[0m | \u001b[32m4344 file found\u001b[0m\n",
            "  \u001b[37mDEBUG   \u001b[0m | \u001b[37mLooking for images in '422'\u001b[0m\n",
            "  \u001b[32mINFO    \u001b[0m | \u001b[32m7558 file found\u001b[0m\n",
            "  \u001b[37mDEBUG   \u001b[0m | \u001b[37mLooking for images in '474'\u001b[0m\n",
            "  \u001b[32mINFO    \u001b[0m | \u001b[32m3032 file found\u001b[0m\n",
            "  \u001b[37mDEBUG   \u001b[0m | \u001b[37mLooking for images in '562'\u001b[0m\n",
            "  \u001b[32mINFO    \u001b[0m | \u001b[32m2867 file found\u001b[0m\n",
            "  \u001b[37mDEBUG   \u001b[0m | \u001b[37mLooking for images in '498'\u001b[0m\n",
            "  \u001b[32mINFO    \u001b[0m | \u001b[32m285 file found\u001b[0m\n",
            "  \u001b[37mDEBUG   \u001b[0m | \u001b[37mLooking for images in '324'\u001b[0m\n",
            "  \u001b[32mINFO    \u001b[0m | \u001b[32m4936 file found\u001b[0m\n"
          ],
          "name": "stderr"
        },
        {
          "output_type": "stream",
          "text": [
            "\n",
            "\n",
            "\n",
            "\n",
            "\n",
            "\n",
            "\n",
            "\n",
            "\n",
            "\n",
            "\n",
            "\n",
            "\n",
            "\n",
            "\n",
            "\n"
          ],
          "name": "stdout"
        },
        {
          "output_type": "stream",
          "text": [
            "  \u001b[37mDEBUG   \u001b[0m | \u001b[37mLooking for images in '625'\u001b[0m\n",
            "  \u001b[32mINFO    \u001b[0m | \u001b[32m3752 file found\u001b[0m\n",
            "  \u001b[37mDEBUG   \u001b[0m | \u001b[37mLooking for images in '325'\u001b[0m\n",
            "  \u001b[32mINFO    \u001b[0m | \u001b[32m5057 file found\u001b[0m\n",
            "  \u001b[37mDEBUG   \u001b[0m | \u001b[37mLooking for images in '261'\u001b[0m\n",
            "  \u001b[32mINFO    \u001b[0m | \u001b[32m4055 file found\u001b[0m\n",
            "  \u001b[37mDEBUG   \u001b[0m | \u001b[37mLooking for images in '428'\u001b[0m\n",
            "  \u001b[32mINFO    \u001b[0m | \u001b[32m4630 file found\u001b[0m\n",
            "  \u001b[37mDEBUG   \u001b[0m | \u001b[37mLooking for images in '478'\u001b[0m\n",
            "  \u001b[32mINFO    \u001b[0m | \u001b[32m5475 file found\u001b[0m\n",
            "  \u001b[37mDEBUG   \u001b[0m | \u001b[37mLooking for images in '171'\u001b[0m\n",
            "  \u001b[32mINFO    \u001b[0m | \u001b[32m4558 file found\u001b[0m\n",
            "  \u001b[37mDEBUG   \u001b[0m | \u001b[37mLooking for images in '623'\u001b[0m\n",
            "  \u001b[32mINFO    \u001b[0m | \u001b[32m3465 file found\u001b[0m\n"
          ],
          "name": "stderr"
        },
        {
          "output_type": "stream",
          "text": [
            "\n",
            "\n",
            "\n",
            "\n",
            "\n",
            "\n",
            "\n",
            "\n",
            "\n",
            "\n",
            "\n",
            "\n",
            "\n",
            "\n"
          ],
          "name": "stdout"
        },
        {
          "output_type": "stream",
          "text": [
            "  \u001b[37mDEBUG   \u001b[0m | \u001b[37mLooking for images in '10'\u001b[0m\n",
            "  \u001b[32mINFO    \u001b[0m | \u001b[32m1524 file found\u001b[0m\n",
            "  \u001b[37mDEBUG   \u001b[0m | \u001b[37mLooking for images in '577'\u001b[0m\n",
            "  \u001b[32mINFO    \u001b[0m | \u001b[32m6116 file found\u001b[0m\n",
            "  \u001b[37mDEBUG   \u001b[0m | \u001b[37mLooking for images in '634'\u001b[0m\n",
            "  \u001b[32mINFO    \u001b[0m | \u001b[32m6359 file found\u001b[0m\n",
            "  \u001b[37mDEBUG   \u001b[0m | \u001b[37mLooking for images in '453'\u001b[0m\n",
            "  \u001b[32mINFO    \u001b[0m | \u001b[32m3989 file found\u001b[0m\n",
            "  \u001b[37mDEBUG   \u001b[0m | \u001b[37mLooking for images in '630'\u001b[0m\n",
            "  \u001b[32mINFO    \u001b[0m | \u001b[32m5585 file found\u001b[0m\n",
            "  \u001b[37mDEBUG   \u001b[0m | \u001b[37mLooking for images in '572'\u001b[0m\n",
            "  \u001b[32mINFO    \u001b[0m | \u001b[32m4099 file found\u001b[0m\n",
            "  \u001b[37mDEBUG   \u001b[0m | \u001b[37mLooking for images in '40'\u001b[0m\n",
            "  \u001b[32mINFO    \u001b[0m | \u001b[32m6261 file found\u001b[0m\n"
          ],
          "name": "stderr"
        },
        {
          "output_type": "stream",
          "text": [
            "\n",
            "\n",
            "\n",
            "\n",
            "\n",
            "\n",
            "\n",
            "\n",
            "\n",
            "\n",
            "\n",
            "\n",
            "\n",
            "\n"
          ],
          "name": "stdout"
        },
        {
          "output_type": "stream",
          "text": [
            "  \u001b[37mDEBUG   \u001b[0m | \u001b[37mLooking for images in '360'\u001b[0m\n",
            "  \u001b[32mINFO    \u001b[0m | \u001b[32m346 file found\u001b[0m\n",
            "  \u001b[37mDEBUG   \u001b[0m | \u001b[37mLooking for images in '79'\u001b[0m\n",
            "  \u001b[32mINFO    \u001b[0m | \u001b[32m3857 file found\u001b[0m\n",
            "  \u001b[37mDEBUG   \u001b[0m | \u001b[37mLooking for images in '13'\u001b[0m\n",
            "  \u001b[32mINFO    \u001b[0m | \u001b[32m5005 file found\u001b[0m\n",
            "  \u001b[37mDEBUG   \u001b[0m | \u001b[37mLooking for images in '33'\u001b[0m\n",
            "  \u001b[32mINFO    \u001b[0m | \u001b[32m297 file found\u001b[0m\n",
            "  \u001b[37mDEBUG   \u001b[0m | \u001b[37mLooking for images in '212'\u001b[0m\n",
            "  \u001b[32mINFO    \u001b[0m | \u001b[32m7101 file found\u001b[0m\n",
            "  \u001b[37mDEBUG   \u001b[0m | \u001b[37mLooking for images in '641'\u001b[0m\n",
            "  \u001b[32mINFO    \u001b[0m | \u001b[32m6726 file found\u001b[0m\n",
            "  \u001b[37mDEBUG   \u001b[0m | \u001b[37mLooking for images in '540'\u001b[0m\n",
            "  \u001b[32mINFO    \u001b[0m | \u001b[32m2643 file found\u001b[0m\n",
            "  \u001b[37mDEBUG   \u001b[0m | \u001b[37mLooking for images in '309'\u001b[0m\n",
            "  \u001b[32mINFO    \u001b[0m | \u001b[32m5758 file found\u001b[0m\n"
          ],
          "name": "stderr"
        },
        {
          "output_type": "stream",
          "text": [
            "\n",
            "\n",
            "\n",
            "\n",
            "\n",
            "\n",
            "\n",
            "\n",
            "\n",
            "\n",
            "\n",
            "\n",
            "\n",
            "\n",
            "\n",
            "\n"
          ],
          "name": "stdout"
        },
        {
          "output_type": "stream",
          "text": [
            "  \u001b[37mDEBUG   \u001b[0m | \u001b[37mLooking for images in '593'\u001b[0m\n",
            "  \u001b[32mINFO    \u001b[0m | \u001b[32m774 file found\u001b[0m\n",
            "  \u001b[37mDEBUG   \u001b[0m | \u001b[37mLooking for images in '11'\u001b[0m\n",
            "  \u001b[32mINFO    \u001b[0m | \u001b[32m3140 file found\u001b[0m\n",
            "  \u001b[37mDEBUG   \u001b[0m | \u001b[37mLooking for images in '9'\u001b[0m\n",
            "  \u001b[32mINFO    \u001b[0m | \u001b[32m1961 file found\u001b[0m\n",
            "  \u001b[37mDEBUG   \u001b[0m | \u001b[37mLooking for images in '189'\u001b[0m\n",
            "  \u001b[32mINFO    \u001b[0m | \u001b[32m540 file found\u001b[0m\n",
            "  \u001b[37mDEBUG   \u001b[0m | \u001b[37mLooking for images in '91'\u001b[0m\n",
            "  \u001b[32mINFO    \u001b[0m | \u001b[32m3172 file found\u001b[0m\n",
            "  \u001b[37mDEBUG   \u001b[0m | \u001b[37mLooking for images in '612'\u001b[0m\n",
            "  \u001b[32mINFO    \u001b[0m | \u001b[32m4354 file found\u001b[0m\n",
            "  \u001b[37mDEBUG   \u001b[0m | \u001b[37mLooking for images in '574'\u001b[0m\n",
            "  \u001b[32mINFO    \u001b[0m | \u001b[32m3441 file found\u001b[0m\n",
            "  \u001b[37mDEBUG   \u001b[0m | \u001b[37mLooking for images in '271'\u001b[0m\n",
            "  \u001b[32mINFO    \u001b[0m | \u001b[32m3061 file found\u001b[0m\n",
            "  \u001b[37mDEBUG   \u001b[0m | \u001b[37mLooking for images in '466'\u001b[0m\n",
            "  \u001b[32mINFO    \u001b[0m | \u001b[32m9046 file found\u001b[0m\n"
          ],
          "name": "stderr"
        },
        {
          "output_type": "stream",
          "text": [
            "\n",
            "\n",
            "\n",
            "\n",
            "\n",
            "\n",
            "\n",
            "\n",
            "\n",
            "\n",
            "\n",
            "\n",
            "\n",
            "\n",
            "\n",
            "\n",
            "\n",
            "\n"
          ],
          "name": "stdout"
        },
        {
          "output_type": "stream",
          "text": [
            "  \u001b[37mDEBUG   \u001b[0m | \u001b[37mLooking for images in '427'\u001b[0m\n",
            "  \u001b[32mINFO    \u001b[0m | \u001b[32m5395 file found\u001b[0m\n",
            "  \u001b[37mDEBUG   \u001b[0m | \u001b[37mLooking for images in '107'\u001b[0m\n",
            "  \u001b[32mINFO    \u001b[0m | \u001b[32m8293 file found\u001b[0m\n",
            "  \u001b[37mDEBUG   \u001b[0m | \u001b[37mLooking for images in '193'\u001b[0m\n",
            "  \u001b[32mINFO    \u001b[0m | \u001b[32m4688 file found\u001b[0m\n",
            "  \u001b[37mDEBUG   \u001b[0m | \u001b[37mLooking for images in '299'\u001b[0m\n",
            "  \u001b[32mINFO    \u001b[0m | \u001b[32m5379 file found\u001b[0m\n",
            "  \u001b[37mDEBUG   \u001b[0m | \u001b[37mLooking for images in '523'\u001b[0m\n",
            "  \u001b[32mINFO    \u001b[0m | \u001b[32m1716 file found\u001b[0m\n",
            "  \u001b[37mDEBUG   \u001b[0m | \u001b[37mLooking for images in '588'\u001b[0m\n",
            "  \u001b[32mINFO    \u001b[0m | \u001b[32m5172 file found\u001b[0m\n"
          ],
          "name": "stderr"
        },
        {
          "output_type": "stream",
          "text": [
            "\n",
            "\n",
            "\n",
            "\n",
            "\n",
            "\n",
            "\n",
            "\n",
            "\n",
            "\n",
            "\n",
            "\n"
          ],
          "name": "stdout"
        },
        {
          "output_type": "stream",
          "text": [
            "  \u001b[37mDEBUG   \u001b[0m | \u001b[37mLooking for images in '134'\u001b[0m\n",
            "  \u001b[32mINFO    \u001b[0m | \u001b[32m2964 file found\u001b[0m\n",
            "  \u001b[37mDEBUG   \u001b[0m | \u001b[37mLooking for images in '536'\u001b[0m\n",
            "  \u001b[32mINFO    \u001b[0m | \u001b[32m4393 file found\u001b[0m\n",
            "  \u001b[37mDEBUG   \u001b[0m | \u001b[37mLooking for images in '452'\u001b[0m\n",
            "  \u001b[32mINFO    \u001b[0m | \u001b[32m4527 file found\u001b[0m\n",
            "  \u001b[37mDEBUG   \u001b[0m | \u001b[37mLooking for images in '242'\u001b[0m\n",
            "  \u001b[32mINFO    \u001b[0m | \u001b[32m1145 file found\u001b[0m\n",
            "  \u001b[37mDEBUG   \u001b[0m | \u001b[37mLooking for images in '237'\u001b[0m\n",
            "  \u001b[32mINFO    \u001b[0m | \u001b[32m5985 file found\u001b[0m\n",
            "  \u001b[37mDEBUG   \u001b[0m | \u001b[37mLooking for images in '507'\u001b[0m\n",
            "  \u001b[32mINFO    \u001b[0m | \u001b[32m3562 file found\u001b[0m\n",
            "  \u001b[37mDEBUG   \u001b[0m | \u001b[37mLooking for images in '303'\u001b[0m\n",
            "  \u001b[32mINFO    \u001b[0m | \u001b[32m5976 file found\u001b[0m\n",
            "  \u001b[37mDEBUG   \u001b[0m | \u001b[37mLooking for images in '456'\u001b[0m\n"
          ],
          "name": "stderr"
        },
        {
          "output_type": "stream",
          "text": [
            "\n",
            "\n",
            "\n",
            "\n",
            "\n",
            "\n",
            "\n",
            "\n",
            "\n",
            "\n",
            "\n",
            "\n",
            "\n",
            "\n",
            "\n",
            "\n"
          ],
          "name": "stdout"
        },
        {
          "output_type": "stream",
          "text": [
            "  \u001b[32mINFO    \u001b[0m | \u001b[32m2946 file found\u001b[0m\n",
            "  \u001b[37mDEBUG   \u001b[0m | \u001b[37mLooking for images in '506'\u001b[0m\n",
            "  \u001b[32mINFO    \u001b[0m | \u001b[32m3262 file found\u001b[0m\n",
            "  \u001b[37mDEBUG   \u001b[0m | \u001b[37mLooking for images in '282'\u001b[0m\n",
            "  \u001b[32mINFO    \u001b[0m | \u001b[32m1893 file found\u001b[0m\n",
            "  \u001b[37mDEBUG   \u001b[0m | \u001b[37mLooking for images in '621'\u001b[0m\n",
            "  \u001b[32mINFO    \u001b[0m | \u001b[32m4223 file found\u001b[0m\n",
            "  \u001b[37mDEBUG   \u001b[0m | \u001b[37mLooking for images in '120'\u001b[0m\n",
            "  \u001b[32mINFO    \u001b[0m | \u001b[32m3433 file found\u001b[0m\n",
            "  \u001b[37mDEBUG   \u001b[0m | \u001b[37mLooking for images in '183'\u001b[0m\n",
            "  \u001b[32mINFO    \u001b[0m | \u001b[32m7139 file found\u001b[0m\n",
            "  \u001b[37mDEBUG   \u001b[0m | \u001b[37mLooking for images in '519'\u001b[0m\n",
            "  \u001b[32mINFO    \u001b[0m | \u001b[32m3842 file found\u001b[0m\n",
            "  \u001b[37mDEBUG   \u001b[0m | \u001b[37mLooking for images in '80'\u001b[0m\n",
            "  \u001b[32mINFO    \u001b[0m | \u001b[32m5566 file found\u001b[0m\n"
          ],
          "name": "stderr"
        },
        {
          "output_type": "stream",
          "text": [
            "\n",
            "\n",
            "\n",
            "\n",
            "\n",
            "\n",
            "\n",
            "\n",
            "\n",
            "\n",
            "\n",
            "\n",
            "\n",
            "\n"
          ],
          "name": "stdout"
        },
        {
          "output_type": "stream",
          "text": [
            "  \u001b[37mDEBUG   \u001b[0m | \u001b[37mLooking for images in '408'\u001b[0m\n",
            "  \u001b[32mINFO    \u001b[0m | \u001b[32m8527 file found\u001b[0m\n",
            "  \u001b[37mDEBUG   \u001b[0m | \u001b[37mLooking for images in '517'\u001b[0m\n",
            "  \u001b[32mINFO    \u001b[0m | \u001b[32m4906 file found\u001b[0m\n",
            "  \u001b[37mDEBUG   \u001b[0m | \u001b[37mLooking for images in '15'\u001b[0m\n",
            "  \u001b[32mINFO    \u001b[0m | \u001b[32m5278 file found\u001b[0m\n",
            "  \u001b[37mDEBUG   \u001b[0m | \u001b[37mLooking for images in '597'\u001b[0m\n",
            "  \u001b[32mINFO    \u001b[0m | \u001b[32m4600 file found\u001b[0m\n",
            "  \u001b[37mDEBUG   \u001b[0m | \u001b[37mLooking for images in '125'\u001b[0m\n",
            "  \u001b[32mINFO    \u001b[0m | \u001b[32m2506 file found\u001b[0m\n",
            "  \u001b[37mDEBUG   \u001b[0m | \u001b[37mLooking for images in '184'\u001b[0m\n",
            "  \u001b[32mINFO    \u001b[0m | \u001b[32m5399 file found\u001b[0m\n",
            "  \u001b[37mDEBUG   \u001b[0m | \u001b[37mLooking for images in '407'\u001b[0m\n"
          ],
          "name": "stderr"
        },
        {
          "output_type": "stream",
          "text": [
            "\n",
            "\n",
            "\n",
            "\n",
            "\n",
            "\n",
            "\n",
            "\n",
            "\n",
            "\n",
            "\n",
            "\n",
            "\n"
          ],
          "name": "stdout"
        },
        {
          "output_type": "stream",
          "text": [
            "  \u001b[32mINFO    \u001b[0m | \u001b[32m8201 file found\u001b[0m\n",
            "  \u001b[37mDEBUG   \u001b[0m | \u001b[37mLooking for images in '256'\u001b[0m\n",
            "  \u001b[32mINFO    \u001b[0m | \u001b[32m5383 file found\u001b[0m\n",
            "  \u001b[37mDEBUG   \u001b[0m | \u001b[37mLooking for images in '302'\u001b[0m\n",
            "  \u001b[32mINFO    \u001b[0m | \u001b[32m6115 file found\u001b[0m\n",
            "  \u001b[37mDEBUG   \u001b[0m | \u001b[37mLooking for images in '421'\u001b[0m\n",
            "  \u001b[32mINFO    \u001b[0m | \u001b[32m3821 file found\u001b[0m\n",
            "  \u001b[37mDEBUG   \u001b[0m | \u001b[37mLooking for images in '190'\u001b[0m\n",
            "  \u001b[32mINFO    \u001b[0m | \u001b[32m3846 file found\u001b[0m\n",
            "  \u001b[37mDEBUG   \u001b[0m | \u001b[37mLooking for images in '153'\u001b[0m\n",
            "  \u001b[32mINFO    \u001b[0m | \u001b[32m9353 file found\u001b[0m\n"
          ],
          "name": "stderr"
        },
        {
          "output_type": "stream",
          "text": [
            "\n",
            "\n",
            "\n",
            "\n",
            "\n",
            "\n",
            "\n",
            "\n",
            "\n",
            "\n",
            "\n"
          ],
          "name": "stdout"
        },
        {
          "output_type": "stream",
          "text": [
            "  \u001b[37mDEBUG   \u001b[0m | \u001b[37mLooking for images in '359'\u001b[0m\n",
            "  \u001b[32mINFO    \u001b[0m | \u001b[32m278 file found\u001b[0m\n",
            "  \u001b[37mDEBUG   \u001b[0m | \u001b[37mLooking for images in '401'\u001b[0m\n",
            "  \u001b[32mINFO    \u001b[0m | \u001b[32m7305 file found\u001b[0m\n",
            "  \u001b[37mDEBUG   \u001b[0m | \u001b[37mLooking for images in '291'\u001b[0m\n",
            "  \u001b[32mINFO    \u001b[0m | \u001b[32m5212 file found\u001b[0m\n",
            "  \u001b[37mDEBUG   \u001b[0m | \u001b[37mLooking for images in '239'\u001b[0m\n",
            "  \u001b[32mINFO    \u001b[0m | \u001b[32m2387 file found\u001b[0m\n",
            "  \u001b[37mDEBUG   \u001b[0m | \u001b[37mLooking for images in '150'\u001b[0m\n",
            "  \u001b[32mINFO    \u001b[0m | \u001b[32m10518 file found\u001b[0m\n",
            "  \u001b[37mDEBUG   \u001b[0m | \u001b[37mLooking for images in '85'\u001b[0m\n",
            "  \u001b[32mINFO    \u001b[0m | \u001b[32m5095 file found\u001b[0m\n"
          ],
          "name": "stderr"
        },
        {
          "output_type": "stream",
          "text": [
            "\n",
            "\n",
            "\n",
            "\n",
            "\n",
            "\n",
            "\n",
            "\n",
            "\n",
            "\n",
            "\n",
            "\n",
            "\n"
          ],
          "name": "stdout"
        },
        {
          "output_type": "stream",
          "text": [
            "  \u001b[37mDEBUG   \u001b[0m | \u001b[37mLooking for images in '39'\u001b[0m\n",
            "  \u001b[32mINFO    \u001b[0m | \u001b[32m4235 file found\u001b[0m\n",
            "  \u001b[37mDEBUG   \u001b[0m | \u001b[37mLooking for images in '607'\u001b[0m\n",
            "  \u001b[32mINFO    \u001b[0m | \u001b[32m304 file found\u001b[0m\n",
            "  \u001b[37mDEBUG   \u001b[0m | \u001b[37mLooking for images in '263'\u001b[0m\n",
            "  \u001b[32mINFO    \u001b[0m | \u001b[32m5089 file found\u001b[0m\n",
            "  \u001b[37mDEBUG   \u001b[0m | \u001b[37mLooking for images in '62'\u001b[0m\n",
            "  \u001b[32mINFO    \u001b[0m | \u001b[32m5108 file found\u001b[0m\n",
            "  \u001b[37mDEBUG   \u001b[0m | \u001b[37mLooking for images in '584'\u001b[0m\n",
            "  \u001b[32mINFO    \u001b[0m | \u001b[32m6004 file found\u001b[0m\n",
            "  \u001b[37mDEBUG   \u001b[0m | \u001b[37mLooking for images in '285'\u001b[0m\n",
            "  \u001b[32mINFO    \u001b[0m | \u001b[32m3162 file found\u001b[0m\n",
            "  \u001b[37mDEBUG   \u001b[0m | \u001b[37mLooking for images in '176'\u001b[0m\n",
            "  \u001b[32mINFO    \u001b[0m | \u001b[32m6342 file found\u001b[0m\n",
            "  \u001b[37mDEBUG   \u001b[0m | \u001b[37mLooking for images in '392'\u001b[0m\n"
          ],
          "name": "stderr"
        },
        {
          "output_type": "stream",
          "text": [
            "\n",
            "\n",
            "\n",
            "\n",
            "\n",
            "\n",
            "\n",
            "\n",
            "\n",
            "\n",
            "\n",
            "\n",
            "\n",
            "\n"
          ],
          "name": "stdout"
        },
        {
          "output_type": "stream",
          "text": [
            "  \u001b[32mINFO    \u001b[0m | \u001b[32m3602 file found\u001b[0m\n",
            "  \u001b[37mDEBUG   \u001b[0m | \u001b[37mLooking for images in '240'\u001b[0m\n",
            "  \u001b[32mINFO    \u001b[0m | \u001b[32m3115 file found\u001b[0m\n",
            "  \u001b[37mDEBUG   \u001b[0m | \u001b[37mLooking for images in '117'\u001b[0m\n",
            "  \u001b[32mINFO    \u001b[0m | \u001b[32m6261 file found\u001b[0m\n",
            "  \u001b[37mDEBUG   \u001b[0m | \u001b[37mLooking for images in '395'\u001b[0m\n",
            "  \u001b[32mINFO    \u001b[0m | \u001b[32m4925 file found\u001b[0m\n",
            "  \u001b[37mDEBUG   \u001b[0m | \u001b[37mLooking for images in '142'\u001b[0m\n",
            "  \u001b[32mINFO    \u001b[0m | \u001b[32m9162 file found\u001b[0m\n",
            "  \u001b[37mDEBUG   \u001b[0m | \u001b[37mLooking for images in '396'\u001b[0m\n",
            "  \u001b[32mINFO    \u001b[0m | \u001b[32m6368 file found\u001b[0m\n",
            "  \u001b[37mDEBUG   \u001b[0m | \u001b[37mLooking for images in '82'\u001b[0m\n"
          ],
          "name": "stderr"
        },
        {
          "output_type": "stream",
          "text": [
            "\n",
            "\n",
            "\n",
            "\n",
            "\n",
            "\n",
            "\n",
            "\n",
            "\n",
            "\n",
            "\n",
            "\n"
          ],
          "name": "stdout"
        },
        {
          "output_type": "stream",
          "text": [
            "  \u001b[32mINFO    \u001b[0m | \u001b[32m5004 file found\u001b[0m\n",
            "  \u001b[37mDEBUG   \u001b[0m | \u001b[37mLooking for images in '274'\u001b[0m\n",
            "  \u001b[32mINFO    \u001b[0m | \u001b[32m8199 file found\u001b[0m\n",
            "  \u001b[37mDEBUG   \u001b[0m | \u001b[37mLooking for images in '613'\u001b[0m\n",
            "  \u001b[32mINFO    \u001b[0m | \u001b[32m4480 file found\u001b[0m\n",
            "  \u001b[37mDEBUG   \u001b[0m | \u001b[37mLooking for images in '334'\u001b[0m\n",
            "  \u001b[32mINFO    \u001b[0m | \u001b[32m2475 file found\u001b[0m\n",
            "  \u001b[37mDEBUG   \u001b[0m | \u001b[37mLooking for images in '443'\u001b[0m\n",
            "  \u001b[32mINFO    \u001b[0m | \u001b[32m5455 file found\u001b[0m\n",
            "  \u001b[37mDEBUG   \u001b[0m | \u001b[37mLooking for images in '56'\u001b[0m\n",
            "  \u001b[32mINFO    \u001b[0m | \u001b[32m8197 file found\u001b[0m\n"
          ],
          "name": "stderr"
        },
        {
          "output_type": "stream",
          "text": [
            "\n",
            "\n",
            "\n",
            "\n",
            "\n",
            "\n",
            "\n",
            "\n",
            "\n",
            "\n",
            "\n"
          ],
          "name": "stdout"
        },
        {
          "output_type": "stream",
          "text": [
            "  \u001b[37mDEBUG   \u001b[0m | \u001b[37mLooking for images in '64'\u001b[0m\n",
            "  \u001b[32mINFO    \u001b[0m | \u001b[32m7911 file found\u001b[0m\n",
            "  \u001b[37mDEBUG   \u001b[0m | \u001b[37mLooking for images in '330'\u001b[0m\n",
            "  \u001b[32mINFO    \u001b[0m | \u001b[32m5329 file found\u001b[0m\n",
            "  \u001b[37mDEBUG   \u001b[0m | \u001b[37mLooking for images in '595'\u001b[0m\n",
            "  \u001b[32mINFO    \u001b[0m | \u001b[32m3959 file found\u001b[0m\n",
            "  \u001b[37mDEBUG   \u001b[0m | \u001b[37mLooking for images in '123'\u001b[0m\n",
            "  \u001b[32mINFO    \u001b[0m | \u001b[32m2270 file found\u001b[0m\n",
            "  \u001b[37mDEBUG   \u001b[0m | \u001b[37mLooking for images in '429'\u001b[0m\n",
            "  \u001b[32mINFO    \u001b[0m | \u001b[32m3950 file found\u001b[0m\n",
            "  \u001b[37mDEBUG   \u001b[0m | \u001b[37mLooking for images in '368'\u001b[0m\n",
            "  \u001b[32mINFO    \u001b[0m | \u001b[32m272 file found\u001b[0m\n",
            "  \u001b[37mDEBUG   \u001b[0m | \u001b[37mLooking for images in '144'\u001b[0m\n",
            "  \u001b[32mINFO    \u001b[0m | \u001b[32m3158 file found\u001b[0m\n",
            "  \u001b[37mDEBUG   \u001b[0m | \u001b[37mLooking for images in '425'\u001b[0m\n"
          ],
          "name": "stderr"
        },
        {
          "output_type": "stream",
          "text": [
            "\n",
            "\n",
            "\n",
            "\n",
            "\n",
            "\n",
            "\n",
            "\n",
            "\n",
            "\n",
            "\n",
            "\n",
            "\n",
            "\n",
            "\n"
          ],
          "name": "stdout"
        },
        {
          "output_type": "stream",
          "text": [
            "  \u001b[32mINFO    \u001b[0m | \u001b[32m8961 file found\u001b[0m\n",
            "  \u001b[37mDEBUG   \u001b[0m | \u001b[37mLooking for images in '390'\u001b[0m\n",
            "  \u001b[32mINFO    \u001b[0m | \u001b[32m3200 file found\u001b[0m\n",
            "  \u001b[37mDEBUG   \u001b[0m | \u001b[37mLooking for images in '624'\u001b[0m\n",
            "  \u001b[32mINFO    \u001b[0m | \u001b[32m293 file found\u001b[0m\n",
            "  \u001b[37mDEBUG   \u001b[0m | \u001b[37mLooking for images in '250'\u001b[0m\n",
            "  \u001b[32mINFO    \u001b[0m | \u001b[32m1127 file found\u001b[0m\n",
            "  \u001b[37mDEBUG   \u001b[0m | \u001b[37mLooking for images in '93'\u001b[0m\n",
            "  \u001b[32mINFO    \u001b[0m | \u001b[32m2906 file found\u001b[0m\n",
            "  \u001b[37mDEBUG   \u001b[0m | \u001b[37mLooking for images in '515'\u001b[0m\n",
            "  \u001b[32mINFO    \u001b[0m | \u001b[32m5016 file found\u001b[0m\n",
            "  \u001b[37mDEBUG   \u001b[0m | \u001b[37mLooking for images in '444'\u001b[0m\n",
            "  \u001b[32mINFO    \u001b[0m | \u001b[32m1556 file found\u001b[0m\n",
            "  \u001b[37mDEBUG   \u001b[0m | \u001b[37mLooking for images in '30'\u001b[0m\n",
            "  \u001b[32mINFO    \u001b[0m | \u001b[32m2413 file found\u001b[0m\n",
            "  \u001b[37mDEBUG   \u001b[0m | \u001b[37mLooking for images in '393'\u001b[0m\n",
            "  \u001b[32mINFO    \u001b[0m | \u001b[32m5118 file found\u001b[0m\n",
            "  \u001b[37mDEBUG   \u001b[0m | \u001b[37mLooking for images in '430'\u001b[0m\n"
          ],
          "name": "stderr"
        },
        {
          "output_type": "stream",
          "text": [
            "\n",
            "\n",
            "\n",
            "\n",
            "\n",
            "\n",
            "\n",
            "\n",
            "\n",
            "\n",
            "\n",
            "\n",
            "\n",
            "\n",
            "\n",
            "\n",
            "\n",
            "\n"
          ],
          "name": "stdout"
        },
        {
          "output_type": "stream",
          "text": [
            "  \u001b[32mINFO    \u001b[0m | \u001b[32m2424 file found\u001b[0m\n",
            "  \u001b[37mDEBUG   \u001b[0m | \u001b[37mLooking for images in '438'\u001b[0m\n",
            "  \u001b[32mINFO    \u001b[0m | \u001b[32m273 file found\u001b[0m\n",
            "  \u001b[37mDEBUG   \u001b[0m | \u001b[37mLooking for images in '554'\u001b[0m\n",
            "  \u001b[32mINFO    \u001b[0m | \u001b[32m810 file found\u001b[0m\n",
            "  \u001b[37mDEBUG   \u001b[0m | \u001b[37mLooking for images in '18'\u001b[0m\n",
            "  \u001b[32mINFO    \u001b[0m | \u001b[32m6824 file found\u001b[0m\n",
            "  \u001b[37mDEBUG   \u001b[0m | \u001b[37mLooking for images in '603'\u001b[0m\n",
            "  \u001b[32mINFO    \u001b[0m | \u001b[32m5458 file found\u001b[0m\n",
            "  \u001b[37mDEBUG   \u001b[0m | \u001b[37mLooking for images in '339'\u001b[0m\n",
            "  \u001b[32mINFO    \u001b[0m | \u001b[32m276 file found\u001b[0m\n",
            "  \u001b[37mDEBUG   \u001b[0m | \u001b[37mLooking for images in '400'\u001b[0m\n",
            "  \u001b[32mINFO    \u001b[0m | \u001b[32m2277 file found\u001b[0m\n",
            "  \u001b[37mDEBUG   \u001b[0m | \u001b[37mLooking for images in '114'\u001b[0m\n",
            "  \u001b[32mINFO    \u001b[0m | \u001b[32m6748 file found\u001b[0m\n",
            "  \u001b[37mDEBUG   \u001b[0m | \u001b[37mLooking for images in '236'\u001b[0m\n",
            "  \u001b[32mINFO    \u001b[0m | \u001b[32m2877 file found\u001b[0m\n",
            "  \u001b[37mDEBUG   \u001b[0m | \u001b[37mLooking for images in '633'\u001b[0m\n"
          ],
          "name": "stderr"
        },
        {
          "output_type": "stream",
          "text": [
            "\n",
            "\n",
            "\n",
            "\n",
            "\n",
            "\n",
            "\n",
            "\n",
            "\n",
            "\n",
            "\n",
            "\n",
            "\n",
            "\n",
            "\n",
            "\n",
            "\n",
            "\n"
          ],
          "name": "stdout"
        },
        {
          "output_type": "stream",
          "text": [
            "  \u001b[32mINFO    \u001b[0m | \u001b[32m1447 file found\u001b[0m\n",
            "  \u001b[37mDEBUG   \u001b[0m | \u001b[37mLooking for images in '583'\u001b[0m\n",
            "  \u001b[32mINFO    \u001b[0m | \u001b[32m4492 file found\u001b[0m\n",
            "  \u001b[37mDEBUG   \u001b[0m | \u001b[37mLooking for images in '432'\u001b[0m\n",
            "  \u001b[32mINFO    \u001b[0m | \u001b[32m3211 file found\u001b[0m\n",
            "  \u001b[37mDEBUG   \u001b[0m | \u001b[37mLooking for images in '535'\u001b[0m\n",
            "  \u001b[32mINFO    \u001b[0m | \u001b[32m2202 file found\u001b[0m\n",
            "  \u001b[37mDEBUG   \u001b[0m | \u001b[37mLooking for images in '98'\u001b[0m\n",
            "  \u001b[32mINFO    \u001b[0m | \u001b[32m3175 file found\u001b[0m\n",
            "  \u001b[37mDEBUG   \u001b[0m | \u001b[37mLooking for images in '86'\u001b[0m\n",
            "  \u001b[32mINFO    \u001b[0m | \u001b[32m3449 file found\u001b[0m\n",
            "  \u001b[37mDEBUG   \u001b[0m | \u001b[37mLooking for images in '249'\u001b[0m\n",
            "  \u001b[32mINFO    \u001b[0m | \u001b[32m332 file found\u001b[0m\n",
            "  \u001b[37mDEBUG   \u001b[0m | \u001b[37mLooking for images in '67'\u001b[0m\n",
            "  \u001b[32mINFO    \u001b[0m | \u001b[32m4988 file found\u001b[0m\n",
            "  \u001b[37mDEBUG   \u001b[0m | \u001b[37mLooking for images in '95'\u001b[0m\n",
            "  \u001b[32mINFO    \u001b[0m | \u001b[32m1735 file found\u001b[0m\n",
            "  \u001b[37mDEBUG   \u001b[0m | \u001b[37mLooking for images in '77'\u001b[0m\n",
            "  \u001b[32mINFO    \u001b[0m | \u001b[32m923 file found\u001b[0m\n",
            "  \u001b[37mDEBUG   \u001b[0m | \u001b[37mLooking for images in '112'\u001b[0m\n",
            "  \u001b[32mINFO    \u001b[0m | \u001b[32m4181 file found\u001b[0m\n"
          ],
          "name": "stderr"
        },
        {
          "output_type": "stream",
          "text": [
            "\n",
            "\n",
            "\n",
            "\n",
            "\n",
            "\n",
            "\n",
            "\n",
            "\n",
            "\n",
            "\n",
            "\n",
            "\n",
            "\n",
            "\n",
            "\n",
            "\n",
            "\n",
            "\n",
            "\n",
            "\n"
          ],
          "name": "stdout"
        },
        {
          "output_type": "stream",
          "text": [
            "  \u001b[37mDEBUG   \u001b[0m | \u001b[37mLooking for images in '462'\u001b[0m\n",
            "  \u001b[32mINFO    \u001b[0m | \u001b[32m5043 file found\u001b[0m\n",
            "  \u001b[37mDEBUG   \u001b[0m | \u001b[37mLooking for images in '402'\u001b[0m\n",
            "  \u001b[32mINFO    \u001b[0m | \u001b[32m5398 file found\u001b[0m\n",
            "  \u001b[37mDEBUG   \u001b[0m | \u001b[37mLooking for images in '347'\u001b[0m\n",
            "  \u001b[32mINFO    \u001b[0m | \u001b[32m602 file found\u001b[0m\n",
            "  \u001b[37mDEBUG   \u001b[0m | \u001b[37mLooking for images in '496'\u001b[0m\n",
            "  \u001b[32mINFO    \u001b[0m | \u001b[32m294 file found\u001b[0m\n",
            "  \u001b[37mDEBUG   \u001b[0m | \u001b[37mLooking for images in '365'\u001b[0m\n",
            "  \u001b[32mINFO    \u001b[0m | \u001b[32m338 file found\u001b[0m\n",
            "  \u001b[37mDEBUG   \u001b[0m | \u001b[37mLooking for images in '321'\u001b[0m\n",
            "  \u001b[32mINFO    \u001b[0m | \u001b[32m2564 file found\u001b[0m\n",
            "  \u001b[37mDEBUG   \u001b[0m | \u001b[37mLooking for images in '297'\u001b[0m\n",
            "  \u001b[32mINFO    \u001b[0m | \u001b[32m3662 file found\u001b[0m\n",
            "  \u001b[37mDEBUG   \u001b[0m | \u001b[37mLooking for images in '328'\u001b[0m\n",
            "  \u001b[32mINFO    \u001b[0m | \u001b[32m3187 file found\u001b[0m\n",
            "  \u001b[37mDEBUG   \u001b[0m | \u001b[37mLooking for images in '5'\u001b[0m\n",
            "  \u001b[32mINFO    \u001b[0m | \u001b[32m322 file found\u001b[0m\n",
            "  \u001b[37mDEBUG   \u001b[0m | \u001b[37mLooking for images in '140'\u001b[0m\n",
            "  \u001b[32mINFO    \u001b[0m | \u001b[32m2825 file found\u001b[0m\n",
            "  \u001b[37mDEBUG   \u001b[0m | \u001b[37mLooking for images in '314'\u001b[0m\n"
          ],
          "name": "stderr"
        },
        {
          "output_type": "stream",
          "text": [
            "\n",
            "\n",
            "\n",
            "\n",
            "\n",
            "\n",
            "\n",
            "\n",
            "\n",
            "\n",
            "\n",
            "\n",
            "\n",
            "\n",
            "\n",
            "\n",
            "\n",
            "\n",
            "\n",
            "\n",
            "\n"
          ],
          "name": "stdout"
        },
        {
          "output_type": "stream",
          "text": [
            "  \u001b[32mINFO    \u001b[0m | \u001b[32m11215 file found\u001b[0m\n",
            "  \u001b[37mDEBUG   \u001b[0m | \u001b[37mLooking for images in '179'\u001b[0m\n",
            "  \u001b[32mINFO    \u001b[0m | \u001b[32m7146 file found\u001b[0m\n",
            "  \u001b[37mDEBUG   \u001b[0m | \u001b[37mLooking for images in '35'\u001b[0m\n",
            "  \u001b[32mINFO    \u001b[0m | \u001b[32m5018 file found\u001b[0m\n",
            "  \u001b[37mDEBUG   \u001b[0m | \u001b[37mLooking for images in '12'\u001b[0m\n",
            "  \u001b[32mINFO    \u001b[0m | \u001b[32m4174 file found\u001b[0m\n",
            "  \u001b[37mDEBUG   \u001b[0m | \u001b[37mLooking for images in '560'\u001b[0m\n",
            "  \u001b[32mINFO    \u001b[0m | \u001b[32m5729 file found\u001b[0m\n",
            "  \u001b[37mDEBUG   \u001b[0m | \u001b[37mLooking for images in '461'\u001b[0m\n",
            "  \u001b[32mINFO    \u001b[0m | \u001b[32m4317 file found\u001b[0m\n",
            "  \u001b[37mDEBUG   \u001b[0m | \u001b[37mLooking for images in '600'\u001b[0m\n"
          ],
          "name": "stderr"
        },
        {
          "output_type": "stream",
          "text": [
            "\n",
            "\n",
            "\n",
            "\n",
            "\n",
            "\n",
            "\n",
            "\n",
            "\n",
            "\n",
            "\n",
            "\n"
          ],
          "name": "stdout"
        },
        {
          "output_type": "stream",
          "text": [
            "  \u001b[32mINFO    \u001b[0m | \u001b[32m3397 file found\u001b[0m\n",
            "  \u001b[37mDEBUG   \u001b[0m | \u001b[37mLooking for images in '83'\u001b[0m\n",
            "  \u001b[32mINFO    \u001b[0m | \u001b[32m4731 file found\u001b[0m\n",
            "  \u001b[37mDEBUG   \u001b[0m | \u001b[37mLooking for images in '255'\u001b[0m\n",
            "  \u001b[32mINFO    \u001b[0m | \u001b[32m7923 file found\u001b[0m\n",
            "  \u001b[37mDEBUG   \u001b[0m | \u001b[37mLooking for images in '223'\u001b[0m\n",
            "  \u001b[32mINFO    \u001b[0m | \u001b[32m3084 file found\u001b[0m\n",
            "  \u001b[37mDEBUG   \u001b[0m | \u001b[37mLooking for images in '14'\u001b[0m\n",
            "  \u001b[32mINFO    \u001b[0m | \u001b[32m2006 file found\u001b[0m\n",
            "  \u001b[37mDEBUG   \u001b[0m | \u001b[37mLooking for images in '202'\u001b[0m\n",
            "  \u001b[32mINFO    \u001b[0m | \u001b[32m5576 file found\u001b[0m\n",
            "  \u001b[37mDEBUG   \u001b[0m | \u001b[37mLooking for images in '579'\u001b[0m\n",
            "  \u001b[32mINFO    \u001b[0m | \u001b[32m6725 file found\u001b[0m\n",
            "  \u001b[37mDEBUG   \u001b[0m | \u001b[37mLooking for images in '115'\u001b[0m\n"
          ],
          "name": "stderr"
        },
        {
          "output_type": "stream",
          "text": [
            "\n",
            "\n",
            "\n",
            "\n",
            "\n",
            "\n",
            "\n",
            "\n",
            "\n",
            "\n",
            "\n",
            "\n",
            "\n",
            "\n"
          ],
          "name": "stdout"
        },
        {
          "output_type": "stream",
          "text": [
            "  \u001b[32mINFO    \u001b[0m | \u001b[32m1247 file found\u001b[0m\n",
            "  \u001b[37mDEBUG   \u001b[0m | \u001b[37mLooking for images in '333'\u001b[0m\n",
            "  \u001b[32mINFO    \u001b[0m | \u001b[32m4890 file found\u001b[0m\n",
            "  \u001b[37mDEBUG   \u001b[0m | \u001b[37mLooking for images in '47'\u001b[0m\n",
            "  \u001b[32mINFO    \u001b[0m | \u001b[32m1655 file found\u001b[0m\n",
            "  \u001b[37mDEBUG   \u001b[0m | \u001b[37mLooking for images in '484'\u001b[0m\n",
            "  \u001b[32mINFO    \u001b[0m | \u001b[32m3479 file found\u001b[0m\n",
            "  \u001b[37mDEBUG   \u001b[0m | \u001b[37mLooking for images in '52'\u001b[0m\n",
            "  \u001b[32mINFO    \u001b[0m | \u001b[32m4201 file found\u001b[0m\n",
            "  \u001b[37mDEBUG   \u001b[0m | \u001b[37mLooking for images in '1'\u001b[0m\n",
            "  \u001b[32mINFO    \u001b[0m | \u001b[32m6442 file found\u001b[0m\n",
            "  \u001b[37mDEBUG   \u001b[0m | \u001b[37mLooking for images in '414'\u001b[0m\n",
            "  \u001b[32mINFO    \u001b[0m | \u001b[32m4233 file found\u001b[0m\n",
            "  \u001b[37mDEBUG   \u001b[0m | \u001b[37mLooking for images in '48'\u001b[0m\n",
            "  \u001b[32mINFO    \u001b[0m | \u001b[32m2694 file found\u001b[0m\n",
            "  \u001b[37mDEBUG   \u001b[0m | \u001b[37mLooking for images in '270'\u001b[0m\n",
            "  \u001b[32mINFO    \u001b[0m | \u001b[32m410 file found\u001b[0m\n"
          ],
          "name": "stderr"
        },
        {
          "output_type": "stream",
          "text": [
            "\n",
            "\n",
            "\n",
            "\n",
            "\n",
            "\n",
            "\n",
            "\n",
            "\n",
            "\n",
            "\n",
            "\n",
            "\n",
            "\n",
            "\n",
            "\n",
            "\n",
            "\n"
          ],
          "name": "stdout"
        },
        {
          "output_type": "stream",
          "text": [
            "  \u001b[37mDEBUG   \u001b[0m | \u001b[37mLooking for images in '398'\u001b[0m\n",
            "  \u001b[32mINFO    \u001b[0m | \u001b[32m290 file found\u001b[0m\n",
            "  \u001b[37mDEBUG   \u001b[0m | \u001b[37mLooking for images in '323'\u001b[0m\n",
            "  \u001b[32mINFO    \u001b[0m | \u001b[32m969 file found\u001b[0m\n",
            "  \u001b[37mDEBUG   \u001b[0m | \u001b[37mLooking for images in '224'\u001b[0m\n",
            "  \u001b[32mINFO    \u001b[0m | \u001b[32m5715 file found\u001b[0m\n",
            "  \u001b[37mDEBUG   \u001b[0m | \u001b[37mLooking for images in '581'\u001b[0m\n",
            "  \u001b[32mINFO    \u001b[0m | \u001b[32m2413 file found\u001b[0m\n",
            "  \u001b[37mDEBUG   \u001b[0m | \u001b[37mLooking for images in '423'\u001b[0m\n",
            "  \u001b[32mINFO    \u001b[0m | \u001b[32m656 file found\u001b[0m\n",
            "  \u001b[37mDEBUG   \u001b[0m | \u001b[37mLooking for images in '585'\u001b[0m\n",
            "  \u001b[32mINFO    \u001b[0m | \u001b[32m3641 file found\u001b[0m\n",
            "  \u001b[37mDEBUG   \u001b[0m | \u001b[37mLooking for images in '136'\u001b[0m\n",
            "  \u001b[32mINFO    \u001b[0m | \u001b[32m5027 file found\u001b[0m\n",
            "  \u001b[37mDEBUG   \u001b[0m | \u001b[37mLooking for images in '424'\u001b[0m\n",
            "  \u001b[32mINFO    \u001b[0m | \u001b[32m2359 file found\u001b[0m\n",
            "  \u001b[37mDEBUG   \u001b[0m | \u001b[37mLooking for images in '141'\u001b[0m\n",
            "  \u001b[32mINFO    \u001b[0m | \u001b[32m6472 file found\u001b[0m\n"
          ],
          "name": "stderr"
        },
        {
          "output_type": "stream",
          "text": [
            "\n",
            "\n",
            "\n",
            "\n",
            "\n",
            "\n",
            "\n",
            "\n",
            "\n",
            "\n",
            "\n",
            "\n",
            "\n",
            "\n",
            "\n",
            "\n",
            "\n"
          ],
          "name": "stdout"
        },
        {
          "output_type": "stream",
          "text": [
            "  \u001b[37mDEBUG   \u001b[0m | \u001b[37mLooking for images in '399'\u001b[0m\n",
            "  \u001b[32mINFO    \u001b[0m | \u001b[32m4437 file found\u001b[0m\n",
            "  \u001b[37mDEBUG   \u001b[0m | \u001b[37mLooking for images in '312'\u001b[0m\n",
            "  \u001b[32mINFO    \u001b[0m | \u001b[32m467 file found\u001b[0m\n",
            "  \u001b[37mDEBUG   \u001b[0m | \u001b[37mLooking for images in '521'\u001b[0m\n",
            "  \u001b[32mINFO    \u001b[0m | \u001b[32m5753 file found\u001b[0m\n",
            "  \u001b[37mDEBUG   \u001b[0m | \u001b[37mLooking for images in '96'\u001b[0m\n",
            "  \u001b[32mINFO    \u001b[0m | \u001b[32m625 file found\u001b[0m\n",
            "  \u001b[37mDEBUG   \u001b[0m | \u001b[37mLooking for images in '84'\u001b[0m\n",
            "  \u001b[32mINFO    \u001b[0m | \u001b[32m4900 file found\u001b[0m\n",
            "  \u001b[37mDEBUG   \u001b[0m | \u001b[37mLooking for images in '533'\u001b[0m\n",
            "  \u001b[32mINFO    \u001b[0m | \u001b[32m1611 file found\u001b[0m\n",
            "  \u001b[37mDEBUG   \u001b[0m | \u001b[37mLooking for images in '592'\u001b[0m\n",
            "  \u001b[32mINFO    \u001b[0m | \u001b[32m341 file found\u001b[0m\n",
            "  \u001b[37mDEBUG   \u001b[0m | \u001b[37mLooking for images in '435'\u001b[0m\n",
            "  \u001b[32mINFO    \u001b[0m | \u001b[32m3727 file found\u001b[0m\n",
            "  \u001b[37mDEBUG   \u001b[0m | \u001b[37mLooking for images in '412'\u001b[0m\n",
            "  \u001b[32mINFO    \u001b[0m | \u001b[32m2846 file found\u001b[0m\n",
            "  \u001b[37mDEBUG   \u001b[0m | \u001b[37mLooking for images in '103'\u001b[0m\n"
          ],
          "name": "stderr"
        },
        {
          "output_type": "stream",
          "text": [
            "\n",
            "\n",
            "\n",
            "\n",
            "\n",
            "\n",
            "\n",
            "\n",
            "\n",
            "\n",
            "\n",
            "\n",
            "\n",
            "\n",
            "\n",
            "\n",
            "\n",
            "\n",
            "\n"
          ],
          "name": "stdout"
        },
        {
          "output_type": "stream",
          "text": [
            "  \u001b[32mINFO    \u001b[0m | \u001b[32m6976 file found\u001b[0m\n",
            "  \u001b[37mDEBUG   \u001b[0m | \u001b[37mLooking for images in '147'\u001b[0m\n",
            "  \u001b[32mINFO    \u001b[0m | \u001b[32m6933 file found\u001b[0m\n",
            "  \u001b[37mDEBUG   \u001b[0m | \u001b[37mLooking for images in '351'\u001b[0m\n",
            "  \u001b[32mINFO    \u001b[0m | \u001b[32m3491 file found\u001b[0m\n",
            "  \u001b[37mDEBUG   \u001b[0m | \u001b[37mLooking for images in '65'\u001b[0m\n",
            "  \u001b[32mINFO    \u001b[0m | \u001b[32m2512 file found\u001b[0m\n",
            "  \u001b[37mDEBUG   \u001b[0m | \u001b[37mLooking for images in '203'\u001b[0m\n",
            "  \u001b[32mINFO    \u001b[0m | \u001b[32m1922 file found\u001b[0m\n",
            "  \u001b[37mDEBUG   \u001b[0m | \u001b[37mLooking for images in '534'\u001b[0m\n",
            "  \u001b[32mINFO    \u001b[0m | \u001b[32m2072 file found\u001b[0m\n",
            "  \u001b[37mDEBUG   \u001b[0m | \u001b[37mLooking for images in '2'\u001b[0m\n",
            "  \u001b[32mINFO    \u001b[0m | \u001b[32m1305 file found\u001b[0m\n",
            "  \u001b[37mDEBUG   \u001b[0m | \u001b[37mLooking for images in '352'\u001b[0m\n",
            "  \u001b[32mINFO    \u001b[0m | \u001b[32m7764 file found\u001b[0m\n",
            "  \u001b[37mDEBUG   \u001b[0m | \u001b[37mLooking for images in '132'\u001b[0m\n"
          ],
          "name": "stderr"
        },
        {
          "output_type": "stream",
          "text": [
            "\n",
            "\n",
            "\n",
            "\n",
            "\n",
            "\n",
            "\n",
            "\n",
            "\n",
            "\n",
            "\n",
            "\n",
            "\n",
            "\n",
            "\n",
            "\n"
          ],
          "name": "stdout"
        },
        {
          "output_type": "stream",
          "text": [
            "  \u001b[32mINFO    \u001b[0m | \u001b[32m3288 file found\u001b[0m\n",
            "  \u001b[37mDEBUG   \u001b[0m | \u001b[37mLooking for images in '126'\u001b[0m\n",
            "  \u001b[32mINFO    \u001b[0m | \u001b[32m3617 file found\u001b[0m\n",
            "  \u001b[37mDEBUG   \u001b[0m | \u001b[37mLooking for images in '210'\u001b[0m\n",
            "  \u001b[32mINFO    \u001b[0m | \u001b[32m1687 file found\u001b[0m\n",
            "  \u001b[37mDEBUG   \u001b[0m | \u001b[37mLooking for images in '187'\u001b[0m\n",
            "  \u001b[32mINFO    \u001b[0m | \u001b[32m2964 file found\u001b[0m\n",
            "  \u001b[37mDEBUG   \u001b[0m | \u001b[37mLooking for images in '238'\u001b[0m\n",
            "  \u001b[32mINFO    \u001b[0m | \u001b[32m1432 file found\u001b[0m\n",
            "  \u001b[37mDEBUG   \u001b[0m | \u001b[37mLooking for images in '218'\u001b[0m\n",
            "  \u001b[32mINFO    \u001b[0m | \u001b[32m2823 file found\u001b[0m\n",
            "  \u001b[37mDEBUG   \u001b[0m | \u001b[37mLooking for images in '638'\u001b[0m\n",
            "  \u001b[32mINFO    \u001b[0m | \u001b[32m6415 file found\u001b[0m\n",
            "  \u001b[37mDEBUG   \u001b[0m | \u001b[37mLooking for images in '628'\u001b[0m\n",
            "  \u001b[32mINFO    \u001b[0m | \u001b[32m4386 file found\u001b[0m\n",
            "  \u001b[37mDEBUG   \u001b[0m | \u001b[37mLooking for images in '567'\u001b[0m\n",
            "  \u001b[32mINFO    \u001b[0m | \u001b[32m8548 file found\u001b[0m\n"
          ],
          "name": "stderr"
        },
        {
          "output_type": "stream",
          "text": [
            "\n",
            "\n",
            "\n",
            "\n",
            "\n",
            "\n",
            "\n",
            "\n",
            "\n",
            "\n",
            "\n",
            "\n",
            "\n",
            "\n",
            "\n",
            "\n",
            "\n"
          ],
          "name": "stdout"
        },
        {
          "output_type": "stream",
          "text": [
            "  \u001b[37mDEBUG   \u001b[0m | \u001b[37mLooking for images in '248'\u001b[0m\n",
            "  \u001b[32mINFO    \u001b[0m | \u001b[32m5234 file found\u001b[0m\n",
            "  \u001b[37mDEBUG   \u001b[0m | \u001b[37mLooking for images in '175'\u001b[0m\n",
            "  \u001b[32mINFO    \u001b[0m | \u001b[32m6611 file found\u001b[0m\n",
            "  \u001b[37mDEBUG   \u001b[0m | \u001b[37mLooking for images in '188'\u001b[0m\n",
            "  \u001b[32mINFO    \u001b[0m | \u001b[32m6409 file found\u001b[0m\n",
            "  \u001b[37mDEBUG   \u001b[0m | \u001b[37mLooking for images in '173'\u001b[0m\n",
            "  \u001b[32mINFO    \u001b[0m | \u001b[32m1545 file found\u001b[0m\n",
            "  \u001b[37mDEBUG   \u001b[0m | \u001b[37mLooking for images in '92'\u001b[0m\n",
            "  \u001b[32mINFO    \u001b[0m | \u001b[32m8177 file found\u001b[0m\n",
            "  \u001b[37mDEBUG   \u001b[0m | \u001b[37mLooking for images in '169'\u001b[0m\n"
          ],
          "name": "stderr"
        },
        {
          "output_type": "stream",
          "text": [
            "\n",
            "\n",
            "\n",
            "\n",
            "\n",
            "\n",
            "\n",
            "\n",
            "\n",
            "\n",
            "\n"
          ],
          "name": "stdout"
        },
        {
          "output_type": "stream",
          "text": [
            "  \u001b[32mINFO    \u001b[0m | \u001b[32m14566 file found\u001b[0m\n",
            "  \u001b[37mDEBUG   \u001b[0m | \u001b[37mLooking for images in '550'\u001b[0m\n",
            "  \u001b[32mINFO    \u001b[0m | \u001b[32m477 file found\u001b[0m\n",
            "  \u001b[37mDEBUG   \u001b[0m | \u001b[37mLooking for images in '548'\u001b[0m\n",
            "  \u001b[32mINFO    \u001b[0m | \u001b[32m625 file found\u001b[0m\n",
            "  \u001b[37mDEBUG   \u001b[0m | \u001b[37mLooking for images in '404'\u001b[0m\n",
            "  \u001b[32mINFO    \u001b[0m | \u001b[32m289 file found\u001b[0m\n",
            "  \u001b[37mDEBUG   \u001b[0m | \u001b[37mLooking for images in '317'\u001b[0m\n",
            "  \u001b[32mINFO    \u001b[0m | \u001b[32m5111 file found\u001b[0m\n",
            "  \u001b[37mDEBUG   \u001b[0m | \u001b[37mLooking for images in '611'\u001b[0m\n",
            "  \u001b[32mINFO    \u001b[0m | \u001b[32m280 file found\u001b[0m\n",
            "  \u001b[37mDEBUG   \u001b[0m | \u001b[37mLooking for images in '640'\u001b[0m\n",
            "  \u001b[32mINFO    \u001b[0m | \u001b[32m2401 file found\u001b[0m\n",
            "  \u001b[37mDEBUG   \u001b[0m | \u001b[37mLooking for images in '524'\u001b[0m\n",
            "  \u001b[32mINFO    \u001b[0m | \u001b[32m778 file found\u001b[0m\n",
            "  \u001b[37mDEBUG   \u001b[0m | \u001b[37mLooking for images in '480'\u001b[0m\n",
            "  \u001b[32mINFO    \u001b[0m | \u001b[32m2888 file found\u001b[0m\n",
            "  \u001b[37mDEBUG   \u001b[0m | \u001b[37mLooking for images in '100'\u001b[0m\n",
            "  \u001b[32mINFO    \u001b[0m | \u001b[32m535 file found\u001b[0m\n",
            "  \u001b[37mDEBUG   \u001b[0m | \u001b[37mLooking for images in '174'\u001b[0m\n",
            "  \u001b[32mINFO    \u001b[0m | \u001b[32m899 file found\u001b[0m\n",
            "  \u001b[37mDEBUG   \u001b[0m | \u001b[37mLooking for images in '538'\u001b[0m\n",
            "  \u001b[32mINFO    \u001b[0m | \u001b[32m3005 file found\u001b[0m\n",
            "  \u001b[37mDEBUG   \u001b[0m | \u001b[37mLooking for images in '413'\u001b[0m\n"
          ],
          "name": "stderr"
        },
        {
          "output_type": "stream",
          "text": [
            "\n",
            "\n",
            "\n",
            "\n",
            "\n",
            "\n",
            "\n",
            "\n",
            "\n",
            "\n",
            "\n",
            "\n",
            "\n",
            "\n",
            "\n",
            "\n",
            "\n",
            "\n",
            "\n",
            "\n",
            "\n",
            "\n",
            "\n",
            "\n",
            "\n"
          ],
          "name": "stdout"
        },
        {
          "output_type": "stream",
          "text": [
            "  \u001b[32mINFO    \u001b[0m | \u001b[32m3240 file found\u001b[0m\n",
            "  \u001b[37mDEBUG   \u001b[0m | \u001b[37mLooking for images in '172'\u001b[0m\n",
            "  \u001b[32mINFO    \u001b[0m | \u001b[32m773 file found\u001b[0m\n",
            "  \u001b[37mDEBUG   \u001b[0m | \u001b[37mLooking for images in '457'\u001b[0m\n",
            "  \u001b[32mINFO    \u001b[0m | \u001b[32m7550 file found\u001b[0m\n",
            "  \u001b[37mDEBUG   \u001b[0m | \u001b[37mLooking for images in '557'\u001b[0m\n",
            "  \u001b[32mINFO    \u001b[0m | \u001b[32m4142 file found\u001b[0m\n",
            "  \u001b[37mDEBUG   \u001b[0m | \u001b[37mLooking for images in '131'\u001b[0m\n",
            "  \u001b[32mINFO    \u001b[0m | \u001b[32m567 file found\u001b[0m\n",
            "  \u001b[37mDEBUG   \u001b[0m | \u001b[37mLooking for images in '601'\u001b[0m\n",
            "  \u001b[32mINFO    \u001b[0m | \u001b[32m2777 file found\u001b[0m\n",
            "  \u001b[37mDEBUG   \u001b[0m | \u001b[37mLooking for images in '631'\u001b[0m\n",
            "  \u001b[32mINFO    \u001b[0m | \u001b[32m4761 file found\u001b[0m\n",
            "  \u001b[37mDEBUG   \u001b[0m | \u001b[37mLooking for images in '514'\u001b[0m\n",
            "  \u001b[32mINFO    \u001b[0m | \u001b[32m4381 file found\u001b[0m\n",
            "  \u001b[37mDEBUG   \u001b[0m | \u001b[37mLooking for images in '121'\u001b[0m\n",
            "  \u001b[32mINFO    \u001b[0m | \u001b[32m394 file found\u001b[0m\n",
            "  \u001b[37mDEBUG   \u001b[0m | \u001b[37mLooking for images in '596'\u001b[0m\n",
            "  \u001b[32mINFO    \u001b[0m | \u001b[32m1307 file found\u001b[0m\n",
            "  \u001b[37mDEBUG   \u001b[0m | \u001b[37mLooking for images in '477'\u001b[0m\n",
            "  \u001b[32mINFO    \u001b[0m | \u001b[32m3327 file found\u001b[0m\n"
          ],
          "name": "stderr"
        },
        {
          "output_type": "stream",
          "text": [
            "\n",
            "\n",
            "\n",
            "\n",
            "\n",
            "\n",
            "\n",
            "\n",
            "\n",
            "\n",
            "\n",
            "\n",
            "\n",
            "\n",
            "\n",
            "\n",
            "\n",
            "\n",
            "\n",
            "\n"
          ],
          "name": "stdout"
        },
        {
          "output_type": "stream",
          "text": [
            "  \u001b[37mDEBUG   \u001b[0m | \u001b[37mLooking for images in '180'\u001b[0m\n",
            "  \u001b[32mINFO    \u001b[0m | \u001b[32m6810 file found\u001b[0m\n",
            "  \u001b[37mDEBUG   \u001b[0m | \u001b[37mLooking for images in '397'\u001b[0m\n",
            "  \u001b[32mINFO    \u001b[0m | \u001b[32m906 file found\u001b[0m\n",
            "  \u001b[37mDEBUG   \u001b[0m | \u001b[37mLooking for images in '162'\u001b[0m\n",
            "  \u001b[32mINFO    \u001b[0m | \u001b[32m4168 file found\u001b[0m\n",
            "  \u001b[37mDEBUG   \u001b[0m | \u001b[37mLooking for images in '192'\u001b[0m\n",
            "  \u001b[32mINFO    \u001b[0m | \u001b[32m1811 file found\u001b[0m\n",
            "  \u001b[37mDEBUG   \u001b[0m | \u001b[37mLooking for images in '511'\u001b[0m\n",
            "  \u001b[32mINFO    \u001b[0m | \u001b[32m3202 file found\u001b[0m\n",
            "  \u001b[37mDEBUG   \u001b[0m | \u001b[37mLooking for images in '87'\u001b[0m\n",
            "  \u001b[32mINFO    \u001b[0m | \u001b[32m4554 file found\u001b[0m\n",
            "  \u001b[37mDEBUG   \u001b[0m | \u001b[37mLooking for images in '446'\u001b[0m\n",
            "  \u001b[32mINFO    \u001b[0m | \u001b[32m2708 file found\u001b[0m\n",
            "  \u001b[37mDEBUG   \u001b[0m | \u001b[37mLooking for images in '518'\u001b[0m\n",
            "  \u001b[32mINFO    \u001b[0m | \u001b[32m6025 file found\u001b[0m\n"
          ],
          "name": "stderr"
        },
        {
          "output_type": "stream",
          "text": [
            "\n",
            "\n",
            "\n",
            "\n",
            "\n",
            "\n",
            "\n",
            "\n",
            "\n",
            "\n",
            "\n",
            "\n",
            "\n",
            "\n",
            "\n",
            "\n"
          ],
          "name": "stdout"
        },
        {
          "output_type": "stream",
          "text": [
            "  \u001b[37mDEBUG   \u001b[0m | \u001b[37mLooking for images in '434'\u001b[0m\n",
            "  \u001b[32mINFO    \u001b[0m | \u001b[32m1137 file found\u001b[0m\n",
            "  \u001b[37mDEBUG   \u001b[0m | \u001b[37mLooking for images in '531'\u001b[0m\n",
            "  \u001b[32mINFO    \u001b[0m | \u001b[32m10083 file found\u001b[0m\n",
            "  \u001b[37mDEBUG   \u001b[0m | \u001b[37mLooking for images in '97'\u001b[0m\n",
            "  \u001b[32mINFO    \u001b[0m | \u001b[32m5357 file found\u001b[0m\n",
            "  \u001b[37mDEBUG   \u001b[0m | \u001b[37mLooking for images in '88'\u001b[0m\n",
            "  \u001b[32mINFO    \u001b[0m | \u001b[32m1265 file found\u001b[0m\n",
            "  \u001b[37mDEBUG   \u001b[0m | \u001b[37mLooking for images in '552'\u001b[0m\n",
            "  \u001b[32mINFO    \u001b[0m | \u001b[32m5637 file found\u001b[0m\n",
            "  \u001b[37mDEBUG   \u001b[0m | \u001b[37mLooking for images in '304'\u001b[0m\n",
            "  \u001b[32mINFO    \u001b[0m | \u001b[32m3843 file found\u001b[0m\n",
            "  \u001b[37mDEBUG   \u001b[0m | \u001b[37mLooking for images in '411'\u001b[0m\n"
          ],
          "name": "stderr"
        },
        {
          "output_type": "stream",
          "text": [
            "\n",
            "\n",
            "\n",
            "\n",
            "\n",
            "\n",
            "\n",
            "\n",
            "\n",
            "\n",
            "\n",
            "\n",
            "\n",
            "\n"
          ],
          "name": "stdout"
        },
        {
          "output_type": "stream",
          "text": [
            "  \u001b[32mINFO    \u001b[0m | \u001b[32m5107 file found\u001b[0m\n",
            "  \u001b[37mDEBUG   \u001b[0m | \u001b[37mLooking for images in '29'\u001b[0m\n",
            "  \u001b[32mINFO    \u001b[0m | \u001b[32m3026 file found\u001b[0m\n",
            "  \u001b[37mDEBUG   \u001b[0m | \u001b[37mLooking for images in '639'\u001b[0m\n",
            "  \u001b[32mINFO    \u001b[0m | \u001b[32m6005 file found\u001b[0m\n",
            "  \u001b[37mDEBUG   \u001b[0m | \u001b[37mLooking for images in '516'\u001b[0m\n",
            "  \u001b[32mINFO    \u001b[0m | \u001b[32m5110 file found\u001b[0m\n",
            "  \u001b[37mDEBUG   \u001b[0m | \u001b[37mLooking for images in '278'\u001b[0m\n",
            "  \u001b[32mINFO    \u001b[0m | \u001b[32m2623 file found\u001b[0m\n",
            "  \u001b[37mDEBUG   \u001b[0m | \u001b[37mLooking for images in '116'\u001b[0m\n",
            "  \u001b[32mINFO    \u001b[0m | \u001b[32m2628 file found\u001b[0m\n",
            "  \u001b[37mDEBUG   \u001b[0m | \u001b[37mLooking for images in '559'\u001b[0m\n",
            "  \u001b[32mINFO    \u001b[0m | \u001b[32m4477 file found\u001b[0m\n",
            "  \u001b[37mDEBUG   \u001b[0m | \u001b[37mLooking for images in '410'\u001b[0m\n",
            "  \u001b[32mINFO    \u001b[0m | \u001b[32m3254 file found\u001b[0m\n"
          ],
          "name": "stderr"
        },
        {
          "output_type": "stream",
          "text": [
            "\n",
            "\n",
            "\n",
            "\n",
            "\n",
            "\n",
            "\n",
            "\n",
            "\n",
            "\n",
            "\n",
            "\n",
            "\n",
            "\n"
          ],
          "name": "stdout"
        }
      ]
    },
    {
      "cell_type": "code",
      "metadata": {
        "id": "SajSXeN-m9ug",
        "colab_type": "code",
        "colab": {}
      },
      "source": [
        "image_size=(160, 210, 3)\n",
        "batch_size = 5\n",
        "EPIS_LEN = 10\n",
        "EPIS_SHIFT = 5"
      ],
      "execution_count": 0,
      "outputs": []
    },
    {
      "cell_type": "code",
      "metadata": {
        "id": "oD2dIusfm9ui",
        "colab_type": "code",
        "outputId": "7eb242c0-4bcc-4d00-ae1a-6e44841ea8b3",
        "colab": {
          "base_uri": "https://localhost:8080/",
          "height": 85
        }
      },
      "source": [
        "training_generator, testing_generator = get_generators(\n",
        "    images_list=imgs_list, \n",
        "    image_dir=images_dir, \n",
        "    image_size=image_size, \n",
        "    batch_size=batch_size, \n",
        "    class_mode='episode', \n",
        "    episode_len=EPIS_LEN, \n",
        "    episode_shift=EPIS_SHIFT\n",
        ")"
      ],
      "execution_count": 0,
      "outputs": [
        {
          "output_type": "stream",
          "text": [
            "  \u001b[32mINFO    \u001b[0m | \u001b[32mFound 1177538 training files\u001b[0m\n"
          ],
          "name": "stderr"
        },
        {
          "output_type": "stream",
          "text": [
            "\n"
          ],
          "name": "stdout"
        },
        {
          "output_type": "stream",
          "text": [
            "  \u001b[32mINFO    \u001b[0m | \u001b[32mFound 383441 validation files\u001b[0m\n"
          ],
          "name": "stderr"
        },
        {
          "output_type": "stream",
          "text": [
            "\n"
          ],
          "name": "stdout"
        }
      ]
    },
    {
      "cell_type": "code",
      "metadata": {
        "id": "ykizScvGm9uk",
        "colab_type": "code",
        "colab": {}
      },
      "source": [
        "import tensorflow as tf"
      ],
      "execution_count": 0,
      "outputs": []
    },
    {
      "cell_type": "code",
      "metadata": {
        "id": "xKSTBBPQm9un",
        "colab_type": "code",
        "colab": {}
      },
      "source": [
        "train_ds = tf.data.Dataset.from_generator(\n",
        "    lambda: training_generator, \n",
        "    output_types=(tf.float32, tf.float32) ,\n",
        "    output_shapes=(tf.TensorShape((batch_size, EPIS_LEN, ) + image_size), \n",
        "                   tf.TensorShape((batch_size, EPIS_LEN, ) + image_size)\n",
        "                  )\n",
        ")\n",
        "\n",
        "test_ds = tf.data.Dataset.from_generator(\n",
        "    lambda: testing_generator,     \n",
        "    output_types=(tf.float32, tf.float32) ,\n",
        "    output_shapes=(tf.TensorShape((batch_size, EPIS_LEN, ) + image_size), \n",
        "                   tf.TensorShape((batch_size, EPIS_LEN, ) + image_size)\n",
        "                  )\n",
        ")\n"
      ],
      "execution_count": 0,
      "outputs": []
    },
    {
      "cell_type": "code",
      "metadata": {
        "id": "GWACvLi7m9up",
        "colab_type": "code",
        "colab": {}
      },
      "source": [
        "dataset_name = 'atari_v1'"
      ],
      "execution_count": 0,
      "outputs": []
    },
    {
      "cell_type": "code",
      "metadata": {
        "id": "DcZAsijRm9us",
        "colab_type": "code",
        "colab": {}
      },
      "source": [
        "intermediate_dim = 50\n",
        "input_shape= (EPIS_LEN, )+image_size # image shape\n",
        "latents_dim = 10"
      ],
      "execution_count": 0,
      "outputs": []
    },
    {
      "cell_type": "code",
      "metadata": {
        "id": "E7QBcLFsm9uu",
        "colab_type": "code",
        "colab": {}
      },
      "source": [
        "enc_mean_lays = [tf.keras.layers.Dense(units=intermediate_dim, activation='relu'),\n",
        "            tf.keras.layers.Dense(units=intermediate_dim, activation='relu'),\n",
        "            tf.keras.layers.Dense(units=intermediate_dim, activation='relu')]\n",
        "\n",
        "enc_var_lays = [tf.keras.layers.Dense(units=intermediate_dim, activation='relu'),\n",
        "            tf.keras.layers.Dense(units=intermediate_dim, activation='relu'),\n",
        "            tf.keras.layers.Dense(units=intermediate_dim, activation='relu')]\n",
        "\n",
        "dec_lays = [tf.keras.layers.Dense(units=2*intermediate_dim, activation='relu'),\n",
        "            tf.keras.layers.Dense(units=2*intermediate_dim, activation='relu'),\n",
        "            tf.keras.layers.Dense(units=2*intermediate_dim, activation='relu')]"
      ],
      "execution_count": 0,
      "outputs": []
    },
    {
      "cell_type": "code",
      "metadata": {
        "id": "5zDSE0n-m9uw",
        "colab_type": "code",
        "colab": {}
      },
      "source": [
        "model_name = 'Atari_AE'"
      ],
      "execution_count": 0,
      "outputs": []
    },
    {
      "cell_type": "code",
      "metadata": {
        "id": "9MhJqGi_m9uy",
        "colab_type": "code",
        "colab": {}
      },
      "source": [
        "experiments_dir='..\\\\experiments\\\\'+model_name"
      ],
      "execution_count": 0,
      "outputs": []
    },
    {
      "cell_type": "code",
      "metadata": {
        "id": "aP2sA7g2m9u1",
        "colab_type": "code",
        "outputId": "f60ee082-e4bf-401f-e6a4-c87822d27826",
        "colab": {
          "base_uri": "https://localhost:8080/",
          "height": 34
        }
      },
      "source": [
        "import os\n",
        "os.path.join(experiments_dir, model_name)"
      ],
      "execution_count": 0,
      "outputs": [
        {
          "output_type": "execute_result",
          "data": {
            "text/plain": [
              "'..\\\\experiments\\\\Atari_AE/Atari_AE'"
            ]
          },
          "metadata": {
            "tags": []
          },
          "execution_count": 18
        }
      ]
    },
    {
      "cell_type": "code",
      "metadata": {
        "id": "dgpGDunzm9u3",
        "colab_type": "code",
        "colab": {}
      },
      "source": [
        "#%cd /content/Generative_Models\n",
        "import os\n",
        "os.chdir(\"/content/Generative_Models/\")\n",
        "from training.autoencoders.AE import AE"
      ],
      "execution_count": 0,
      "outputs": []
    },
    {
      "cell_type": "code",
      "metadata": {
        "id": "ka_uv0Gbm9u6",
        "colab_type": "code",
        "colab": {}
      },
      "source": [
        " variables_params = \\\n",
        "[\n",
        "    {\n",
        "        'name': 'encoder', \n",
        "        'input_shape':input_shape,\n",
        "        'output_shape':latents_dim,\n",
        "        'layers': enc_mean_lays\n",
        "    }\n",
        "    ,\n",
        "    \n",
        "        {\n",
        "        'name': 'decoder', \n",
        "        'input_shape':latents_dim,\n",
        "        'output_shape':input_shape,\n",
        "        'layers':dec_lays\n",
        "    }\n",
        "]"
      ],
      "execution_count": 0,
      "outputs": []
    },
    {
      "cell_type": "code",
      "metadata": {
        "id": "cLc4GRXSm9u8",
        "colab_type": "code",
        "colab": {}
      },
      "source": [
        "_restore = os.path.join(experiments_dir, 'var_save_dir')"
      ],
      "execution_count": 0,
      "outputs": []
    },
    {
      "cell_type": "code",
      "metadata": {
        "id": "_Gj9Ekktm9u_",
        "colab_type": "code",
        "outputId": "b0a0c4a9-60f1-49e9-f7ca-7947ae755810",
        "colab": {
          "base_uri": "https://localhost:8080/",
          "height": 34
        }
      },
      "source": [
        "_restore"
      ],
      "execution_count": 0,
      "outputs": [
        {
          "output_type": "execute_result",
          "data": {
            "text/plain": [
              "'..\\\\experiments\\\\Atari_AE/var_save_dir'"
            ]
          },
          "metadata": {
            "tags": []
          },
          "execution_count": 22
        }
      ]
    },
    {
      "cell_type": "code",
      "metadata": {
        "id": "xDP2Oh-am9vB",
        "colab_type": "code",
        "outputId": "1549709e-3cda-4a6e-877d-8b00ef195ad9",
        "colab": {
          "base_uri": "https://localhost:8080/",
          "height": 1000
        }
      },
      "source": [
        "ae = AE( \n",
        "    model_name=model_name, \n",
        "    input_shape=input_shape, \n",
        "    latents_dim=latents_dim, \n",
        "    variables_params=variables_params, \n",
        "    restore=None\n",
        "    )"
      ],
      "execution_count": 0,
      "outputs": [
        {
          "output_type": "stream",
          "text": [
            "INFO:absl:Entering into master device scope: /job:worker/replica:0/task:0/device:CPU:0\n"
          ],
          "name": "stderr"
        },
        {
          "output_type": "stream",
          "text": [
            "INFO:tensorflow:Initializing the TPU system: 10.64.212.226:8470\n"
          ],
          "name": "stdout"
        },
        {
          "output_type": "stream",
          "text": [
            "INFO:tensorflow:Initializing the TPU system: 10.64.212.226:8470\n"
          ],
          "name": "stderr"
        },
        {
          "output_type": "stream",
          "text": [
            "INFO:tensorflow:Clearing out eager caches\n"
          ],
          "name": "stdout"
        },
        {
          "output_type": "stream",
          "text": [
            "INFO:tensorflow:Clearing out eager caches\n"
          ],
          "name": "stderr"
        },
        {
          "output_type": "stream",
          "text": [
            "INFO:tensorflow:Finished initializing TPU system.\n"
          ],
          "name": "stdout"
        },
        {
          "output_type": "stream",
          "text": [
            "INFO:tensorflow:Finished initializing TPU system.\n"
          ],
          "name": "stderr"
        },
        {
          "output_type": "stream",
          "text": [
            "INFO:tensorflow:Found TPU system:\n"
          ],
          "name": "stdout"
        },
        {
          "output_type": "stream",
          "text": [
            "INFO:tensorflow:Found TPU system:\n"
          ],
          "name": "stderr"
        },
        {
          "output_type": "stream",
          "text": [
            "INFO:tensorflow:*** Num TPU Cores: 8\n"
          ],
          "name": "stdout"
        },
        {
          "output_type": "stream",
          "text": [
            "INFO:tensorflow:*** Num TPU Cores: 8\n"
          ],
          "name": "stderr"
        },
        {
          "output_type": "stream",
          "text": [
            "INFO:tensorflow:*** Num TPU Workers: 1\n"
          ],
          "name": "stdout"
        },
        {
          "output_type": "stream",
          "text": [
            "INFO:tensorflow:*** Num TPU Workers: 1\n"
          ],
          "name": "stderr"
        },
        {
          "output_type": "stream",
          "text": [
            "INFO:tensorflow:*** Num TPU Cores Per Worker: 8\n"
          ],
          "name": "stdout"
        },
        {
          "output_type": "stream",
          "text": [
            "INFO:tensorflow:*** Num TPU Cores Per Worker: 8\n"
          ],
          "name": "stderr"
        },
        {
          "output_type": "stream",
          "text": [
            "INFO:tensorflow:*** Available Device: _DeviceAttributes(/job:localhost/replica:0/task:0/device:CPU:0, CPU, 0, 0)\n"
          ],
          "name": "stdout"
        },
        {
          "output_type": "stream",
          "text": [
            "INFO:tensorflow:*** Available Device: _DeviceAttributes(/job:localhost/replica:0/task:0/device:CPU:0, CPU, 0, 0)\n"
          ],
          "name": "stderr"
        },
        {
          "output_type": "stream",
          "text": [
            "INFO:tensorflow:*** Available Device: _DeviceAttributes(/job:localhost/replica:0/task:0/device:XLA_CPU:0, XLA_CPU, 0, 0)\n"
          ],
          "name": "stdout"
        },
        {
          "output_type": "stream",
          "text": [
            "INFO:tensorflow:*** Available Device: _DeviceAttributes(/job:localhost/replica:0/task:0/device:XLA_CPU:0, XLA_CPU, 0, 0)\n"
          ],
          "name": "stderr"
        },
        {
          "output_type": "stream",
          "text": [
            "INFO:tensorflow:*** Available Device: _DeviceAttributes(/job:worker/replica:0/task:0/device:CPU:0, CPU, 0, 0)\n"
          ],
          "name": "stdout"
        },
        {
          "output_type": "stream",
          "text": [
            "INFO:tensorflow:*** Available Device: _DeviceAttributes(/job:worker/replica:0/task:0/device:CPU:0, CPU, 0, 0)\n"
          ],
          "name": "stderr"
        },
        {
          "output_type": "stream",
          "text": [
            "INFO:tensorflow:*** Available Device: _DeviceAttributes(/job:worker/replica:0/task:0/device:TPU:0, TPU, 0, 0)\n"
          ],
          "name": "stdout"
        },
        {
          "output_type": "stream",
          "text": [
            "INFO:tensorflow:*** Available Device: _DeviceAttributes(/job:worker/replica:0/task:0/device:TPU:0, TPU, 0, 0)\n"
          ],
          "name": "stderr"
        },
        {
          "output_type": "stream",
          "text": [
            "INFO:tensorflow:*** Available Device: _DeviceAttributes(/job:worker/replica:0/task:0/device:TPU:1, TPU, 0, 0)\n"
          ],
          "name": "stdout"
        },
        {
          "output_type": "stream",
          "text": [
            "INFO:tensorflow:*** Available Device: _DeviceAttributes(/job:worker/replica:0/task:0/device:TPU:1, TPU, 0, 0)\n"
          ],
          "name": "stderr"
        },
        {
          "output_type": "stream",
          "text": [
            "INFO:tensorflow:*** Available Device: _DeviceAttributes(/job:worker/replica:0/task:0/device:TPU:2, TPU, 0, 0)\n"
          ],
          "name": "stdout"
        },
        {
          "output_type": "stream",
          "text": [
            "INFO:tensorflow:*** Available Device: _DeviceAttributes(/job:worker/replica:0/task:0/device:TPU:2, TPU, 0, 0)\n"
          ],
          "name": "stderr"
        },
        {
          "output_type": "stream",
          "text": [
            "INFO:tensorflow:*** Available Device: _DeviceAttributes(/job:worker/replica:0/task:0/device:TPU:3, TPU, 0, 0)\n"
          ],
          "name": "stdout"
        },
        {
          "output_type": "stream",
          "text": [
            "INFO:tensorflow:*** Available Device: _DeviceAttributes(/job:worker/replica:0/task:0/device:TPU:3, TPU, 0, 0)\n"
          ],
          "name": "stderr"
        },
        {
          "output_type": "stream",
          "text": [
            "INFO:tensorflow:*** Available Device: _DeviceAttributes(/job:worker/replica:0/task:0/device:TPU:4, TPU, 0, 0)\n"
          ],
          "name": "stdout"
        },
        {
          "output_type": "stream",
          "text": [
            "INFO:tensorflow:*** Available Device: _DeviceAttributes(/job:worker/replica:0/task:0/device:TPU:4, TPU, 0, 0)\n"
          ],
          "name": "stderr"
        },
        {
          "output_type": "stream",
          "text": [
            "INFO:tensorflow:*** Available Device: _DeviceAttributes(/job:worker/replica:0/task:0/device:TPU:5, TPU, 0, 0)\n"
          ],
          "name": "stdout"
        },
        {
          "output_type": "stream",
          "text": [
            "INFO:tensorflow:*** Available Device: _DeviceAttributes(/job:worker/replica:0/task:0/device:TPU:5, TPU, 0, 0)\n"
          ],
          "name": "stderr"
        },
        {
          "output_type": "stream",
          "text": [
            "INFO:tensorflow:*** Available Device: _DeviceAttributes(/job:worker/replica:0/task:0/device:TPU:6, TPU, 0, 0)\n"
          ],
          "name": "stdout"
        },
        {
          "output_type": "stream",
          "text": [
            "INFO:tensorflow:*** Available Device: _DeviceAttributes(/job:worker/replica:0/task:0/device:TPU:6, TPU, 0, 0)\n"
          ],
          "name": "stderr"
        },
        {
          "output_type": "stream",
          "text": [
            "INFO:tensorflow:*** Available Device: _DeviceAttributes(/job:worker/replica:0/task:0/device:TPU:7, TPU, 0, 0)\n"
          ],
          "name": "stdout"
        },
        {
          "output_type": "stream",
          "text": [
            "INFO:tensorflow:*** Available Device: _DeviceAttributes(/job:worker/replica:0/task:0/device:TPU:7, TPU, 0, 0)\n"
          ],
          "name": "stderr"
        },
        {
          "output_type": "stream",
          "text": [
            "INFO:tensorflow:*** Available Device: _DeviceAttributes(/job:worker/replica:0/task:0/device:TPU_SYSTEM:0, TPU_SYSTEM, 0, 0)\n"
          ],
          "name": "stdout"
        },
        {
          "output_type": "stream",
          "text": [
            "INFO:tensorflow:*** Available Device: _DeviceAttributes(/job:worker/replica:0/task:0/device:TPU_SYSTEM:0, TPU_SYSTEM, 0, 0)\n"
          ],
          "name": "stderr"
        },
        {
          "output_type": "stream",
          "text": [
            "INFO:tensorflow:*** Available Device: _DeviceAttributes(/job:worker/replica:0/task:0/device:XLA_CPU:0, XLA_CPU, 0, 0)\n"
          ],
          "name": "stdout"
        },
        {
          "output_type": "stream",
          "text": [
            "INFO:tensorflow:*** Available Device: _DeviceAttributes(/job:worker/replica:0/task:0/device:XLA_CPU:0, XLA_CPU, 0, 0)\n",
            "  \u001b[37mDEBUG   \u001b[0m | \u001b[37mTPU Strategy ... \u001b[0m\n",
            "DEBUG:pythonConfig:TPU Strategy ... \n"
          ],
          "name": "stderr"
        },
        {
          "output_type": "stream",
          "text": [
            "\n"
          ],
          "name": "stdout"
        },
        {
          "output_type": "stream",
          "text": [
            "  \u001b[33mWARNING \u001b[0m | \u001b[33mNone\u001b[0m\n",
            "WARNING:pythonConfig:None\n"
          ],
          "name": "stderr"
        },
        {
          "output_type": "stream",
          "text": [
            "Model: \"encoder\"\n",
            "_________________________________________________________________\n",
            "Layer (type)                 Output Shape              Param #   \n",
            "=================================================================\n",
            "dense (Dense)                (None, 10, 160, 210, 10)  40        \n",
            "_________________________________________________________________\n",
            "dense_1 (Dense)              (None, 10, 160, 210, 10)  110       \n",
            "_________________________________________________________________\n",
            "dense_2 (Dense)              (None, 10, 160, 210, 10)  110       \n",
            "_________________________________________________________________\n",
            "flatten (Flatten)            (None, 3360000)           0         \n",
            "_________________________________________________________________\n",
            "dense_9 (Dense)              (None, 10)                33600010  \n",
            "=================================================================\n",
            "Total params: 33,600,270\n",
            "Trainable params: 33,600,270\n",
            "Non-trainable params: 0\n",
            "_________________________________________________________________\n",
            "\n"
          ],
          "name": "stdout"
        },
        {
          "output_type": "stream",
          "text": [
            "  \u001b[33mWARNING \u001b[0m | \u001b[33mNone\u001b[0m\n",
            "WARNING:pythonConfig:None\n"
          ],
          "name": "stderr"
        },
        {
          "output_type": "stream",
          "text": [
            "Model: \"decoder\"\n",
            "_________________________________________________________________\n",
            "Layer (type)                 Output Shape              Param #   \n",
            "=================================================================\n",
            "dense_6 (Dense)              (None, 20)                220       \n",
            "_________________________________________________________________\n",
            "dense_7 (Dense)              (None, 20)                420       \n",
            "_________________________________________________________________\n",
            "dense_8 (Dense)              (None, 20)                420       \n",
            "_________________________________________________________________\n",
            "flatten_1 (Flatten)          (None, 20)                0         \n",
            "_________________________________________________________________\n",
            "dense_10 (Dense)             (None, 1008000)           21168000  \n",
            "=================================================================\n",
            "Total params: 21,169,060\n",
            "Trainable params: 21,169,060\n",
            "Non-trainable params: 0\n",
            "_________________________________________________________________\n",
            "\n"
          ],
          "name": "stdout"
        }
      ]
    },
    {
      "cell_type": "code",
      "metadata": {
        "id": "gJUByGDdm9vE",
        "colab_type": "code",
        "colab": {}
      },
      "source": [
        "import numpy as np\n",
        "n_generated = 36\n",
        "#random_latents = np.random.normal(size=[n_generated, latents_dim])\n",
        "#np.save(file='random_latents.npy', arr=random_latents)\n",
        "#random_latents = tf.constant(np.load(file='..\\\\data\\\\random_latents.npy'))"
      ],
      "execution_count": 0,
      "outputs": []
    },
    {
      "cell_type": "code",
      "metadata": {
        "id": "58_hTBtem9vH",
        "colab_type": "code",
        "outputId": "1cdfe616-3982-48fb-e7ce-f7ee4f166ddd",
        "colab": {
          "base_uri": "https://localhost:8080/",
          "height": 34
        }
      },
      "source": [
        "random_latents = tf.constant(np.random.normal(size=[n_generated, latents_dim]))\n",
        "random_latents.shape"
      ],
      "execution_count": 0,
      "outputs": [
        {
          "output_type": "execute_result",
          "data": {
            "text/plain": [
              "TensorShape([36, 10])"
            ]
          },
          "metadata": {
            "tags": []
          },
          "execution_count": 25
        }
      ]
    },
    {
      "cell_type": "code",
      "metadata": {
        "scrolled": false,
        "id": "7UpfZVZnm9vL",
        "colab_type": "code",
        "outputId": "1b245928-af50-486b-a701-942a90343c75",
        "colab": {
          "base_uri": "https://localhost:8080/",
          "height": 241
        }
      },
      "source": [
        "ae.fit(\n",
        "    train_dataset=train_ds, \n",
        "    test_dataset=test_ds,\n",
        "    instance_name='episode',\n",
        "    instance_scale=1,\n",
        "    epochs=10,\n",
        "    learning_rate=1e-3,\n",
        "    random_latents=random_latents,\n",
        "    latents_dim=latents_dim ,\n",
        "    experiments_dir=experiments_dir,\n",
        "    gray_plot=True,\n",
        "    generate_epoch=5,\n",
        "    save_epoch=5\n",
        ")"
      ],
      "execution_count": 0,
      "outputs": [
        {
          "output_type": "stream",
          "text": [
            "WARNING:tensorflow:Layer dense_6 is casting an input tensor from dtype float64 to the layer's dtype of float32, which is new behavior in TensorFlow 2.  The layer has dtype float32 because it's dtype defaults to floatx.\n",
            "\n",
            "If you intended to run this layer in float32, you can safely ignore this warning. If in doubt, this warning is likely only an issue if you are porting a TensorFlow 1.X model to TensorFlow 2.\n",
            "\n",
            "To change all layers to have dtype float64 by default, call `tf.keras.backend.set_floatx('float64')`. To change just this layer, pass dtype='float64' to the layer constructor. If you are the author of this layer, you can disable autocasting by passing autocast=False to the base Layer constructor.\n",
            "\n"
          ],
          "name": "stdout"
        },
        {
          "output_type": "stream",
          "text": [
            "WARNING:tensorflow:Layer dense_6 is casting an input tensor from dtype float64 to the layer's dtype of float32, which is new behavior in TensorFlow 2.  The layer has dtype float32 because it's dtype defaults to floatx.\n",
            "\n",
            "If you intended to run this layer in float32, you can safely ignore this warning. If in doubt, this warning is likely only an issue if you are porting a TensorFlow 1.X model to TensorFlow 2.\n",
            "\n",
            "To change all layers to have dtype float64 by default, call `tf.keras.backend.set_floatx('float64')`. To change just this layer, pass dtype='float64' to the layer constructor. If you are the author of this layer, you can disable autocasting by passing autocast=False to the base Layer constructor.\n",
            "\n"
          ],
          "name": "stderr"
        }
      ]
    }
  ]
}